{
 "cells": [
  {
   "cell_type": "markdown",
   "metadata": {
    "deletable": false,
    "editable": false,
    "nbgrader": {
     "cell_type": "markdown",
     "checksum": "da5064c9ed8cd1fec0f36b714c345b0b",
     "grade": false,
     "grade_id": "cell-4d87ae78fb4caf9c",
     "locked": true,
     "schema_version": 3,
     "solution": false,
     "task": false
    },
    "tags": []
   },
   "source": [
    "# NLP and the Web"
   ]
  },
  {
   "cell_type": "markdown",
   "metadata": {
    "deletable": false,
    "editable": false,
    "nbgrader": {
     "cell_type": "markdown",
     "checksum": "b1145e2ba69b3e56620106550f0984e0",
     "grade": false,
     "grade_id": "cell-8b531762670192f6",
     "locked": true,
     "schema_version": 3,
     "solution": false,
     "task": false
    },
    "tags": []
   },
   "source": [
    "## Task 0 ~ 0P"
   ]
  },
  {
   "cell_type": "markdown",
   "metadata": {
    "deletable": false,
    "editable": false,
    "nbgrader": {
     "cell_type": "markdown",
     "checksum": "5d4cef5c9a404a5516183e6ce9bf2128",
     "grade": false,
     "grade_id": "cell-6eca7b6c6c224dde",
     "locked": true,
     "schema_version": 3,
     "solution": false,
     "task": false
    }
   },
   "source": [
    "##### a) Please enter your group number"
   ]
  },
  {
   "cell_type": "markdown",
   "metadata": {
    "deletable": false,
    "nbgrader": {
     "cell_type": "markdown",
     "checksum": "75470a4986487fdb40d73fa368335c95",
     "grade": true,
     "grade_id": "cell-cccfbf605a28a18a",
     "locked": false,
     "points": 0,
     "schema_version": 3,
     "solution": true,
     "task": false
    }
   },
   "source": [
    "YOUR ANSWER HERE"
   ]
  },
  {
   "cell_type": "markdown",
   "metadata": {
    "deletable": false,
    "editable": false,
    "nbgrader": {
     "cell_type": "markdown",
     "checksum": "a760dcd98f5ea360c504ee7fd50a4088",
     "grade": false,
     "grade_id": "cell-2ed8ca1b9e5204c3",
     "locked": true,
     "schema_version": 3,
     "solution": false,
     "task": false
    }
   },
   "source": [
    "_**Regarding types, documentation, and output:**_\n",
    "\n",
    "_We tried to make the description of the parameters as clear as possible. However, if you believe that something is missing, please reach out to us in Moodle. We provide type hints for the function parameters and return values of the functions that you have to implement._\n",
    "\n",
    "_Nevertheless, your code must use the provided method stubs and parameters. Furthermore, make sure that your code runs without errors and in a reasonable amount of time, for example by using \"Kernel/Restart & Run All\" before submitting._\n",
    "\n",
    "_Please use comments where appropriate to help the tutors understand your code. This is especially important for the more extensive exercises later on. Finally, please pay attention to how you output the results. We highly recommend using `display(df)` for displaying data frames._\n",
    "\n",
    "_**Please only modify the template in the specified markdown and code cells (e.g. YOUR CODE / ANSWER / IMPORTS HERE). If you add any extra cells, they wont be taken into account while grading!  Some cells are left blank on purpose. Please do not modify these cells, because they are used to autograde your submission. If these cells are modified, the automatic grading for your submission will fail and we might deduct points. Please do not modify the cells containing public and private tests. If you want to do your own tests, please use the code cell containing your code solution (YOUR CODE HERE).**_"
   ]
  },
  {
   "cell_type": "markdown",
   "metadata": {},
   "source": [
    "---"
   ]
  },
  {
   "cell_type": "markdown",
   "metadata": {
    "deletable": false,
    "editable": false,
    "id": "NGK3p3euEpoS",
    "nbgrader": {
     "cell_type": "markdown",
     "checksum": "3db57ae64e28b10ec1c59ea20a580e26",
     "grade": false,
     "grade_id": "cell-c2c225bdbb8ec891",
     "locked": true,
     "schema_version": 3,
     "solution": false,
     "task": false
    },
    "pycharm": {
     "name": "#%% md\n"
    },
    "tags": []
   },
   "source": [
    "# NLP and the Web: Home Exercise 6"
   ]
  },
  {
   "cell_type": "markdown",
   "metadata": {
    "deletable": false,
    "editable": false,
    "id": "vyEzoVz0ExZI",
    "nbgrader": {
     "cell_type": "markdown",
     "checksum": "5b1ec96309f55c0524dd381732fa6d75",
     "grade": false,
     "grade_id": "cell-93dbc0a4ebbbf170",
     "locked": true,
     "schema_version": 3,
     "solution": false,
     "task": false
    },
    "pycharm": {
     "name": "#%% md\n"
    },
    "tags": []
   },
   "source": [
    "In this exercise, you will deepen the theoretical concept of QA from the lectures and learn how to analyze QA systems and how explainability in AI systems can be achieved. This will be based on the UKP-SQuARE platform which was presented during the lecture. Within this exercise, you will participate in the research community and increase the diversity of models on the UKP-SQuARE platform.\n",
    "\n",
    "For this task you should use [Google Colab](https://colab.research.google.com/) where you have free access to GPUs for fine-tuning your transformer model.\n"
   ]
  },
  {
   "cell_type": "markdown",
   "metadata": {
    "deletable": false,
    "editable": false,
    "id": "40yoiVXJE2bJ",
    "nbgrader": {
     "cell_type": "markdown",
     "checksum": "ef55ba641168b7883a1e7e48f0c1a310",
     "grade": false,
     "grade_id": "cell-9f6420be7d107600",
     "locked": true,
     "schema_version": 3,
     "solution": false,
     "task": false
    },
    "pycharm": {
     "name": "#%% md\n"
    },
    "tags": []
   },
   "source": [
    "## Task 1: Fine-tune Transformer - 5 Points"
   ]
  },
  {
   "cell_type": "markdown",
   "metadata": {
    "deletable": false,
    "editable": false,
    "id": "xm7S2UuNE7T2",
    "nbgrader": {
     "cell_type": "markdown",
     "checksum": "e8891d28c60baf881344c68731749d3b",
     "grade": false,
     "grade_id": "cell-ea8fcbc957a8de82",
     "locked": true,
     "schema_version": 3,
     "solution": false,
     "task": false
    },
    "pycharm": {
     "name": "#%% md\n"
    },
    "tags": []
   },
   "source": [
    "In this task, you will fine-tune a pre-trained transformer-based architecture on a QA dataset with PyTorch and the [Hugging Face](https://huggingface.co/) library. You will contribute to the community by deploying your model on Hugging Face’s Model Hub and the SQuARE platform."
   ]
  },
  {
   "cell_type": "markdown",
   "metadata": {
    "deletable": false,
    "editable": false,
    "id": "QOQ7BsquE-cy",
    "nbgrader": {
     "cell_type": "markdown",
     "checksum": "af36eeaf7e0f93d2add6d31226ad90c1",
     "grade": false,
     "grade_id": "cell-1d462b6ae572a7a5",
     "locked": true,
     "schema_version": 3,
     "solution": false,
     "task": false
    },
    "pycharm": {
     "name": "#%% md\n"
    },
    "tags": []
   },
   "source": [
    "**a) Finetune the assigned model with the respectively assigned dataset. Before you can do this you need to prepare your dataset. Therefore you have to download the data from Hugging Face and pass it through the training example script from Hugging Face: https://github.com/huggingface/transformers/blob/main/examples/pytorch/question-answering/run_qa.py** **(3p)**"
   ]
  },
  {
   "cell_type": "code",
   "execution_count": null,
   "metadata": {
    "colab": {
     "base_uri": "https://localhost:8080/",
     "height": 1000
    },
    "deletable": false,
    "editable": false,
    "id": "OiGZMnY3dwco",
    "jupyter": {
     "outputs_hidden": true
    },
    "nbgrader": {
     "cell_type": "code",
     "checksum": "421a9d18fda28308353e290d0e1a8bcf",
     "grade": false,
     "grade_id": "cell-9df184190e4b678a",
     "locked": true,
     "schema_version": 3,
     "solution": false,
     "task": false
    },
    "outputId": "20e7e400-f4fc-4957-ace2-7c687e091912",
    "tags": []
   },
   "outputs": [],
   "source": [
    "# Download all necessary dependencies. You should not modify and only run this cell\n",
    "!git clone https://github.com/huggingface/transformers\n",
    "%cd ./transformers\n",
    "!pip install .\n",
    "!pip install huggingface_hub\n",
    "%cd ./examples/pytorch/question-answering\n",
    "!pip install -r requirements.txt\n",
    "%cd ../../../../\n",
    "!pip install huggingface-hub"
   ]
  },
  {
   "cell_type": "code",
   "execution_count": null,
   "metadata": {
    "colab": {
     "base_uri": "https://localhost:8080/"
    },
    "deletable": false,
    "editable": false,
    "id": "6Id_rdT_E6JP",
    "jupyter": {
     "outputs_hidden": true
    },
    "nbgrader": {
     "cell_type": "code",
     "checksum": "74c4aed01d4b15f928e5902d083e52a6",
     "grade": false,
     "grade_id": "cell-ce285d6eb7e25499",
     "locked": true,
     "schema_version": 3,
     "solution": false,
     "task": false
    },
    "outputId": "fad3e0ef-4a42-4132-c398-59b044496037",
    "pycharm": {
     "name": "#%%\n"
    },
    "tags": []
   },
   "outputs": [],
   "source": [
    "!pip install datasets==2.16.1\n",
    "!pip install tokenizers==0.15.0"
   ]
  },
  {
   "cell_type": "code",
   "execution_count": null,
   "metadata": {
    "deletable": false,
    "editable": false,
    "id": "0N2mYeVhPfKL",
    "jupyter": {
     "outputs_hidden": false
    },
    "nbgrader": {
     "cell_type": "code",
     "checksum": "c3d3257892b17768131270e651c4acf5",
     "grade": false,
     "grade_id": "cell-f77b00213f3f9cfc",
     "locked": true,
     "schema_version": 3,
     "solution": false,
     "task": false
    },
    "pycharm": {
     "name": "#%%\n"
    },
    "tags": []
   },
   "outputs": [],
   "source": [
    "#Please only run the cell to get all imports\n",
    "import json\n",
    "from transformers import AutoModelForQuestionAnswering, AutoTokenizer, AutoModel\n",
    "from typing import List, Dict,  Any\n",
    "import os\n",
    "import re\n",
    "import itertools\n",
    "import gzip\n",
    "from datasets import load_dataset\n",
    "from datasets.arrow_dataset import Dataset"
   ]
  },
  {
   "cell_type": "markdown",
   "metadata": {
    "deletable": false,
    "editable": false,
    "id": "rtV6xyQgPfKM",
    "nbgrader": {
     "cell_type": "markdown",
     "checksum": "5026fe3f9f01f9362b6c85dc7f475a65",
     "grade": false,
     "grade_id": "cell-24c64b9592f71592",
     "locked": true,
     "schema_version": 3,
     "solution": false,
     "task": false
    },
    "pycharm": {
     "name": "#%% md\n"
    },
    "tags": []
   },
   "source": [
    "The following code provides assigns your group a model and data set, that you should use to solve this homework. You have only to insert your group number."
   ]
  },
  {
   "cell_type": "code",
   "execution_count": null,
   "metadata": {
    "deletable": false,
    "editable": false,
    "id": "KvavunxFPfKM",
    "jupyter": {
     "outputs_hidden": false
    },
    "nbgrader": {
     "cell_type": "code",
     "checksum": "4e845f6857c25fdf9810cd6849a9995b",
     "grade": false,
     "grade_id": "cell-1bf388bdb2d92717",
     "locked": true,
     "schema_version": 3,
     "solution": false,
     "task": false
    },
    "pycharm": {
     "name": "#%%\n"
    },
    "tags": []
   },
   "outputs": [],
   "source": [
    "def get_model_dataset_combination(group: int) -> tuple:\n",
    "    models = ['microsoft/xtremedistil-l6-h256-uncased', 'microsoft/xtremedistil-l12-h384-uncased', 'microsoft/xtremedistil-l6-h384-uncased', 'distilbert-base-uncased','microsoft/MiniLM-L12-H384-uncased', 'huawei-noah/TinyBERT_General_4L_312D', 'huawei-noah/TinyBERT_General_6L_768D']\n",
    "    datasets = ['squad_v2']\n",
    "    result = list(itertools.product(models, datasets))\n",
    "    result = 16*result\n",
    "    return result[group]"
   ]
  },
  {
   "cell_type": "markdown",
   "metadata": {
    "deletable": false,
    "editable": false,
    "id": "aQPh8y9bPfKM",
    "nbgrader": {
     "cell_type": "markdown",
     "checksum": "d3a41536f03f065f5b2c294828887a36",
     "grade": false,
     "grade_id": "cell-67a2bf6dc03ecad5",
     "locked": true,
     "schema_version": 3,
     "solution": false,
     "task": false
    },
    "pycharm": {
     "name": "#%% md\n"
    },
    "tags": []
   },
   "source": [
    "*In* the next subtask you should download the data set `squad_v2`.\n",
    "\n",
    "You can find more information on the Hugging Face [page](https://huggingface.co/datasets/squad_v2)."
   ]
  },
  {
   "cell_type": "code",
   "execution_count": null,
   "metadata": {
    "colab": {
     "base_uri": "https://localhost:8080/"
    },
    "deletable": false,
    "id": "4_PsRXRDPfKN",
    "jupyter": {
     "outputs_hidden": false
    },
    "nbgrader": {
     "cell_type": "code",
     "checksum": "d4d90698152d16862ce95584d6f391c9",
     "grade": false,
     "grade_id": "cell-5023740bfcaf4f0a",
     "locked": false,
     "schema_version": 3,
     "solution": true,
     "task": false
    },
    "outputId": "c265d55e-ec6b-4c9e-cd4a-4d9380b4bf59",
    "pycharm": {
     "name": "#%%\n"
    },
    "tags": []
   },
   "outputs": [],
   "source": [
    "# Insert your group number here and print your assigned model data set combination\n",
    "group_number = 0 # insert your group number\n",
    "model_name, dataset_name = get_model_dataset_combination(group_number)\n",
    "print(f\"Model: {model_name}, Dataset: {dataset_name}\")\n",
    "# Insert the link from the linked GitHub similar to the provided example to retrieve the data\n",
    "# YOUR CODE HERE\n",
    "raise NotImplementedError()"
   ]
  },
  {
   "cell_type": "code",
   "execution_count": null,
   "metadata": {
    "deletable": false,
    "editable": false,
    "id": "N8j90Dh7PfKN",
    "jupyter": {
     "outputs_hidden": false
    },
    "nbgrader": {
     "cell_type": "code",
     "checksum": "27c90a7f16fe8b7971b9e94b19a4afc5",
     "grade": false,
     "grade_id": "cell-3a05d1c268ba2e10",
     "locked": true,
     "schema_version": 3,
     "solution": false,
     "task": false
    },
    "pycharm": {
     "name": "#%%\n"
    },
    "tags": []
   },
   "outputs": [],
   "source": [
    "# This is how your dataset should look like:\n",
    "expected = [{\n",
    "    \"answers\": {\n",
    "        \"answer_start\": [1],\n",
    "        \"text\": [\"This is a test text\"]\n",
    "    },\n",
    "    \"context\": \"This is a test context.\",\n",
    "    \"id\": \"1\",\n",
    "    \"question\": \"Is this a test?\",\n",
    "},...]"
   ]
  },
  {
   "cell_type": "code",
   "execution_count": null,
   "metadata": {
    "deletable": false,
    "editable": false,
    "id": "VQlydod_PfKO",
    "jupyter": {
     "outputs_hidden": false
    },
    "nbgrader": {
     "cell_type": "code",
     "checksum": "572cd3abd0c7b71740d54bb38e2ad5db",
     "grade": true,
     "grade_id": "cell-f1a5e59e0791f430",
     "locked": true,
     "points": 1,
     "schema_version": 3,
     "solution": false,
     "task": false
    },
    "pycharm": {
     "name": "#%%\n"
    },
    "tags": []
   },
   "outputs": [],
   "source": [
    "# Tests - Don't modify\n",
    "assert data_train.split == \"train\"\n",
    "assert data_dev.split == \"validation\""
   ]
  },
  {
   "cell_type": "code",
   "execution_count": null,
   "metadata": {
    "colab": {
     "base_uri": "https://localhost:8080/"
    },
    "deletable": false,
    "editable": false,
    "id": "fJqzVZgQPfKO",
    "jupyter": {
     "outputs_hidden": true
    },
    "nbgrader": {
     "cell_type": "code",
     "checksum": "0ed2b73a6158590b91d6aae6d9de25a0",
     "grade": true,
     "grade_id": "cell-0dee56fbdf79a9db",
     "locked": true,
     "points": 1,
     "schema_version": 3,
     "solution": false,
     "task": false
    },
    "outputId": "64687bc8-8d20-4474-96c9-043c2328e174",
    "pycharm": {
     "name": "#%%\n"
    },
    "tags": []
   },
   "outputs": [],
   "source": [
    "# Tests - Don't modify\n",
    "import random\n",
    "idx = random.randint(0, 10)\n",
    "print(idx)\n",
    "print(data_train[idx])\n",
    "print(data_dev[idx])\n",
    "assert isinstance(data_train[idx]['context'], str)\n",
    "assert isinstance(data_train[idx]['id'], str)\n",
    "assert isinstance(data_train[idx]['question'], str)\n",
    "assert isinstance(data_dev[idx]['answers']['text'], list)\n",
    "assert isinstance(data_dev[idx]['answers']['answer_start'], list)"
   ]
  },
  {
   "cell_type": "markdown",
   "metadata": {
    "deletable": false,
    "editable": false,
    "nbgrader": {
     "cell_type": "markdown",
     "checksum": "bbe058f85da5a885a39e9b32c3f8107d",
     "grade": false,
     "grade_id": "cell-d6be14507c418609",
     "locked": true,
     "schema_version": 3,
     "solution": false,
     "task": false
    },
    "tags": []
   },
   "source": [
    "Save the data into a JSON file and remove the questions where no answer is given.\n",
    "\n",
    "*Hint:* You might want to have a look at the `json.dumps` function."
   ]
  },
  {
   "cell_type": "code",
   "execution_count": null,
   "metadata": {
    "deletable": false,
    "id": "D8ging4tPfKO",
    "jupyter": {
     "outputs_hidden": false
    },
    "nbgrader": {
     "cell_type": "code",
     "checksum": "cab9fd4c1d60a13aa631f1cc2dde4b86",
     "grade": false,
     "grade_id": "cell-04d882e4794a58c7",
     "locked": false,
     "schema_version": 3,
     "solution": true,
     "task": false
    },
    "pycharm": {
     "name": "#%%\n"
    },
    "tags": []
   },
   "outputs": [],
   "source": [
    "def save_json(dataset: List[Dict[str, Any]], path: str) -> None:\n",
    "    \"\"\"\n",
    "    Saves the right input format for the transformer model as json file.\n",
    "    \n",
    "    The data should be saved as a JSON. In the format of:\n",
    "        {\n",
    "        'data': [\n",
    "            {\n",
    "                \"answers\": {\n",
    "                    \"answer_start\": [1],\n",
    "                    \"text\": [\"This is a test text\"]\n",
    "                },\n",
    "                \"context\": \"This is a test context.\",\n",
    "                \"id\": \"1\",\n",
    "                \"question\": \"Is this a test?\",\n",
    "            },\n",
    "            {...},\n",
    "            ...\n",
    "        ]\n",
    "        }\n",
    "    :param dataset (List[Dict[str, Any]]): The list of input data to be saved to the file.\n",
    "    :param path (str): The path of the json file to save the data to.\n",
    "    :return: None\n",
    "    \"\"\"\n",
    "    # YOUR CODE HERE\n",
    "    raise NotImplementedError()\n",
    "\n",
    "save_json(data_train, 'train_file.json')\n",
    "save_json(data_dev, 'dev_file.json')"
   ]
  },
  {
   "cell_type": "code",
   "execution_count": null,
   "metadata": {
    "deletable": false,
    "editable": false,
    "id": "oCSjzK_VPfKO",
    "jupyter": {
     "outputs_hidden": false
    },
    "nbgrader": {
     "cell_type": "code",
     "checksum": "2de95451a3a96d243925b9e51266427d",
     "grade": true,
     "grade_id": "cell-c6de7086aa97cc05",
     "locked": true,
     "points": 1,
     "schema_version": 3,
     "solution": false,
     "task": false
    },
    "pycharm": {
     "name": "#%%\n"
    },
    "tags": []
   },
   "outputs": [],
   "source": [
    "#Tests - Don't modify\n",
    "assert [f for f in os.listdir() if re.match('train_file.json', f)]\n",
    "assert [f for f in os.listdir() if re.match('dev_file.json', f)]"
   ]
  },
  {
   "cell_type": "markdown",
   "metadata": {
    "deletable": false,
    "editable": false,
    "id": "ieSW0zsrPfKP",
    "nbgrader": {
     "cell_type": "markdown",
     "checksum": "332b8f79e434a70e74ca968042c4054c",
     "grade": false,
     "grade_id": "cell-2c95945bb0eb5604",
     "locked": true,
     "schema_version": 3,
     "solution": false,
     "task": false
    },
    "pycharm": {
     "name": "#%% md\n"
    },
    "tags": []
   },
   "source": [
    "b) For training your model you need to adapt the following script and execute it. This should take less than 1 hour on Google Colab with a GPU.\n",
    "\n",
    "Hint: You are working directories of Google Colab, make sure you always use the right paths and a GPU for training. **(1p)**"
   ]
  },
  {
   "cell_type": "code",
   "execution_count": null,
   "metadata": {
    "deletable": false,
    "id": "zo1xVy5uPfKP",
    "jupyter": {
     "outputs_hidden": false
    },
    "nbgrader": {
     "cell_type": "code",
     "checksum": "e8bbce0279a34a58952370dddd4003ba",
     "grade": false,
     "grade_id": "cell-d316e6b151a2f708",
     "locked": false,
     "schema_version": 3,
     "solution": true,
     "task": false
    },
    "pycharm": {
     "name": "#%%\n"
    },
    "tags": []
   },
   "outputs": [],
   "source": [
    "# Define your script variables here\n",
    "MODEL_NAME = model_name # The one you where assigned from the function `get_model_dataset_combination`\n",
    "TRAIN_FILE_NAME = ''\n",
    "EVAL_FILE_NAME =''\n",
    "# YOUR CODE HERE\n",
    "raise NotImplementedError()"
   ]
  },
  {
   "cell_type": "code",
   "execution_count": null,
   "metadata": {
    "deletable": false,
    "editable": false,
    "id": "nxZUcUHVPfKP",
    "jupyter": {
     "outputs_hidden": false
    },
    "nbgrader": {
     "cell_type": "code",
     "checksum": "88bc4c05d478a3b77dc99129e0fd953a",
     "grade": true,
     "grade_id": "cell-24cb3799b1b7f3e6",
     "locked": true,
     "points": 1,
     "schema_version": 3,
     "solution": false,
     "task": false
    },
    "pycharm": {
     "name": "#%%\n"
    },
    "tags": []
   },
   "outputs": [],
   "source": [
    "# Tests - Don't modify\n",
    "assert re.search('train_file.json', TRAIN_FILE_NAME)\n",
    "assert re.search('dev_file.json', EVAL_FILE_NAME)"
   ]
  },
  {
   "cell_type": "code",
   "execution_count": null,
   "metadata": {
    "colab": {
     "base_uri": "https://localhost:8080/"
    },
    "deletable": false,
    "editable": false,
    "id": "LT3ux_IYPfKP",
    "jupyter": {
     "outputs_hidden": true
    },
    "nbgrader": {
     "cell_type": "code",
     "checksum": "5c085a7146c304fded37cfc5d2309db2",
     "grade": false,
     "grade_id": "cell-30a36f6cbda7f076",
     "locked": true,
     "schema_version": 3,
     "solution": false,
     "task": false
    },
    "outputId": "c4119b3b-5156-4736-95dd-34b19becc00e",
    "pycharm": {
     "name": "#%%\n"
    },
    "tags": []
   },
   "outputs": [],
   "source": [
    "# Task: run the script\n",
    "!python transformers/examples/pytorch/question-answering/run_qa.py \\\n",
    "  --model_name_or_path $MODEL_NAME \\\n",
    "  --train_file $TRAIN_FILE_NAME \\\n",
    "  --validation_file $EVAL_FILE_NAME \\\n",
    "  --do_train \\\n",
    "  --do_eval \\\n",
    "  --per_device_train_batch_size 12 \\\n",
    "  --learning_rate 3e-5 \\\n",
    "  --num_train_epochs 2 \\\n",
    "  --max_seq_length 384 \\\n",
    "  --doc_stride 128 \\\n",
    "  --output_dir ./tmp/result/"
   ]
  },
  {
   "cell_type": "markdown",
   "metadata": {
    "deletable": false,
    "editable": false,
    "id": "qktc-Lr0PfKP",
    "nbgrader": {
     "cell_type": "markdown",
     "checksum": "71ef8820bc48bf968b510ebd2e180630",
     "grade": false,
     "grade_id": "cell-b013aff665a537c7",
     "locked": true,
     "schema_version": 3,
     "solution": false,
     "task": false
    },
    "pycharm": {
     "name": "#%% md\n"
    },
    "tags": []
   },
   "source": [
    "**c) To make the model available for other researchers you need to deploy it to the [Hugging Face Model Hub](https://huggingface.co/models). Don't forget to upload your tokenizer alongside the model. Insert the link of your deployed model as an answer for this task.**  **(1p)**\n",
    "\n",
    "Hint: You will need to create an account on Hugging Face and create a [repository](https://huggingface.co/new). \n",
    "\n",
    "**IMPORTANT:** Make the repository **public**!!! Save your model name in the variable `your_model_name`. You'll find the model name on top of your model repository on Hugging Face."
   ]
  },
  {
   "cell_type": "code",
   "execution_count": null,
   "metadata": {
    "deletable": false,
    "id": "tAc_nJFPPfKP",
    "jupyter": {
     "outputs_hidden": false
    },
    "nbgrader": {
     "cell_type": "code",
     "checksum": "8caffe908043947491d28409ce62e9ba",
     "grade": false,
     "grade_id": "cell-be478dceac7a7c92",
     "locked": false,
     "schema_version": 3,
     "solution": true,
     "task": false
    },
    "pycharm": {
     "name": "#%%\n"
    },
    "tags": []
   },
   "outputs": [],
   "source": [
    "# insert the name of your shared model\n",
    "your_model_name = '' # The name from Hugging Face: `UserName/RepoName`\n",
    "# YOUR CODE HERE\n",
    "raise NotImplementedError()"
   ]
  },
  {
   "cell_type": "code",
   "execution_count": null,
   "metadata": {
    "deletable": false,
    "editable": false,
    "id": "QDJv9Rx8PfKP",
    "jupyter": {
     "outputs_hidden": true
    },
    "nbgrader": {
     "cell_type": "code",
     "checksum": "c9ab3b44cf99e204f7e32d5846022391",
     "grade": true,
     "grade_id": "cell-bf02b5cbe1d35c61",
     "locked": true,
     "points": 1,
     "schema_version": 3,
     "solution": false,
     "task": false
    },
    "pycharm": {
     "name": "#%%\n"
    },
    "tags": []
   },
   "outputs": [],
   "source": [
    "#Tests - Don't modify\n",
    "assert re.search(\"huggingface.co\", link)\n"
   ]
  },
  {
   "cell_type": "markdown",
   "metadata": {
    "deletable": false,
    "editable": false,
    "id": "kOPpJV3PPfKQ",
    "nbgrader": {
     "cell_type": "markdown",
     "checksum": "3ad48e0fda565e5992022789a66a20cd",
     "grade": false,
     "grade_id": "cell-56ba9e9b66a212de",
     "locked": true,
     "schema_version": 3,
     "solution": false,
     "task": false
    },
    "pycharm": {
     "name": "#%% md\n"
    },
    "tags": []
   },
   "source": [
    "## Task 2: Analyze the model - 5 Points"
   ]
  },
  {
   "cell_type": "markdown",
   "metadata": {
    "deletable": false,
    "editable": false,
    "id": "6IBqmrfDPfKQ",
    "nbgrader": {
     "cell_type": "markdown",
     "checksum": "73a758b8cc9523b18e98ea22044e7143",
     "grade": false,
     "grade_id": "cell-55fc7071e7839462",
     "locked": true,
     "schema_version": 3,
     "solution": false,
     "task": false
    },
    "pycharm": {
     "name": "#%% md\n"
    },
    "tags": []
   },
   "source": [
    "In this task, you will analyze models with regard to different questions. You should state your findings clearly and traceable including examples. You are allowed to include screenshots in your answers to make your answers understandable. This task is independent of task 1. Please select one of the follwing models: `DROP BERT Adapter`, `Xtremedistil-L6-H256-Uncased-NaturalQuestionsShort`, `SQuAD 2.0 BERT Adapter`. They should be available on the SQuARE website in the [*QA Hub*](https://square.ukp-lab.de/qa_hub).\n",
    "\n",
    "Hint: In general it's not expected that you write full essays to answer the questions. Short and clear answers are preferred and sufficient to achieve full points."
   ]
  },
  {
   "cell_type": "markdown",
   "metadata": {
    "deletable": false,
    "editable": false,
    "id": "le_tUTTIPfKQ",
    "nbgrader": {
     "cell_type": "markdown",
     "checksum": "ebbd4e86377c655a85ab72ebbe151211",
     "grade": false,
     "grade_id": "cell-d8f0d9a5f13272cc",
     "locked": true,
     "schema_version": 3,
     "solution": false,
     "task": false
    },
    "pycharm": {
     "name": "#%% md\n"
    },
    "tags": []
   },
   "source": [
    "**a) Which type of questions is your selected model able to answer? How is this type different from at least one other type of questions you know from the lecture?\n",
    "Please state which model you choose.** **(1p)**"
   ]
  },
  {
   "cell_type": "markdown",
   "metadata": {
    "deletable": false,
    "id": "Ifqv3pguPfKQ",
    "nbgrader": {
     "cell_type": "markdown",
     "checksum": "1d30cbe728b44426a51f07dc6495bf30",
     "grade": true,
     "grade_id": "cell-5a7a2f5389710f38",
     "locked": false,
     "points": 1,
     "schema_version": 3,
     "solution": true,
     "task": false
    },
    "pycharm": {
     "name": "#%% md\n"
    },
    "tags": []
   },
   "source": [
    "YOUR ANSWER HERE"
   ]
  },
  {
   "cell_type": "markdown",
   "metadata": {
    "deletable": false,
    "editable": false,
    "id": "UkqniupVPfKQ",
    "nbgrader": {
     "cell_type": "markdown",
     "checksum": "042a0b8ec0fdc70fe33f170df61130b9",
     "grade": false,
     "grade_id": "cell-a59ea71a460055c9",
     "locked": true,
     "schema_version": 3,
     "solution": false,
     "task": false
    },
    "pycharm": {
     "name": "#%% md\n"
    },
    "tags": []
   },
   "source": [
    "**b) Analyze the general behavior of the model. Therefore run the model with different questions. Which type of questions is the model able to answer, and which are not? Interpret your results and provide examples for both.** **(2p)**\n",
    "\n",
    "Hint: It may help to compare the selected model to other models on the UKP-SQuARE platform."
   ]
  },
  {
   "cell_type": "markdown",
   "metadata": {
    "deletable": false,
    "id": "lCD29o6APfKR",
    "nbgrader": {
     "cell_type": "markdown",
     "checksum": "785fe5e3c6c20935925c646043a8fe28",
     "grade": true,
     "grade_id": "cell-75563ba3314fecee",
     "locked": false,
     "points": 2,
     "schema_version": 3,
     "solution": true,
     "task": false
    },
    "pycharm": {
     "name": "#%% md\n"
    },
    "tags": []
   },
   "source": [
    "YOUR ANSWER HERE"
   ]
  },
  {
   "cell_type": "markdown",
   "metadata": {
    "deletable": false,
    "editable": false,
    "id": "5fdYJGrrPfKR",
    "nbgrader": {
     "cell_type": "markdown",
     "checksum": "fb4b9581035de016defbfad47cebbb87",
     "grade": false,
     "grade_id": "cell-489ce64c65970eb8",
     "locked": true,
     "schema_version": 3,
     "solution": false,
     "task": false
    },
    "pycharm": {
     "name": "#%% md\n"
    },
    "tags": []
   },
   "source": [
    "**c) Now we want to formalize the results from above. Explain the concept behind in-domain and out-of-domain data. Analyze your results and categorize the found examples from b) respectively. Which performance would you expect if you run your selected model on a full in-domain and out-of-domain dataset based on the knowledge you gained so far?** **(2p)**\n",
    "\n",
    "Hint: This concept will be taught in the lecture QA II. It might also help to think about on what dataset the model was trained."
   ]
  },
  {
   "cell_type": "markdown",
   "metadata": {
    "deletable": false,
    "id": "I_EEIW3YPfKR",
    "nbgrader": {
     "cell_type": "markdown",
     "checksum": "21de815bdcfdccc9a59a4c8575f360fa",
     "grade": true,
     "grade_id": "cell-8fc722fbaac3a37b",
     "locked": false,
     "points": 2,
     "schema_version": 3,
     "solution": true,
     "task": false
    },
    "pycharm": {
     "name": "#%% md\n"
    },
    "tags": []
   },
   "source": [
    "YOUR ANSWER HERE"
   ]
  },
  {
   "cell_type": "markdown",
   "metadata": {
    "deletable": false,
    "editable": false,
    "id": "n1DK61eZPfKR",
    "nbgrader": {
     "cell_type": "markdown",
     "checksum": "571d0e63de9df5fa63475270e57919d6",
     "grade": false,
     "grade_id": "cell-cb2f72c02ad62572",
     "locked": true,
     "schema_version": 3,
     "solution": false,
     "task": false
    },
    "pycharm": {
     "name": "#%% md\n"
    },
    "tags": []
   },
   "source": [
    "# Task 3: Explainability - 6 Points"
   ]
  },
  {
   "cell_type": "markdown",
   "metadata": {
    "deletable": false,
    "editable": false,
    "id": "UDvYC1X8PfKV",
    "nbgrader": {
     "cell_type": "markdown",
     "checksum": "c1ec178e495964d6c462a62ecfe44f48",
     "grade": false,
     "grade_id": "cell-346db9e086d97246",
     "locked": true,
     "schema_version": 3,
     "solution": false,
     "task": false
    },
    "pycharm": {
     "name": "#%% md\n"
    },
    "tags": []
   },
   "source": [
    "In this task, you will learn about the explainability of transformer-based models. For this purpose, saliency maps are a common method to visualize predictions in Deep Learning inspired by research in computer vision. In the NLP domain,  saliency maps attribute weights to every input token to assess the importance of the model prediction. The UKP-SQuARE platform provides two different family methods: gradient-based and attention-based.\n",
    "For learning more about it, you can read the following paper: https://aclanthology.org/2022.aacl-demo.4.pdf. or the respective Medium article https://medium.com/@ukp-square/interpreting-saliency-maps-for-question-a-with-ukp-square-a6b2831d8431.\n",
    "Both are not required to achieve full points on the tasks but help to understand the topics.\n",
    "\n",
    "Hint: You are highly encouraged to include screenshots to make your results understandable."
   ]
  },
  {
   "cell_type": "markdown",
   "metadata": {
    "deletable": false,
    "editable": false,
    "id": "4b3L9Gr0PfKW",
    "nbgrader": {
     "cell_type": "markdown",
     "checksum": "3f1ae8c7ca46e42757994d88b6df3545",
     "grade": false,
     "grade_id": "cell-c578cac764f304e7",
     "locked": true,
     "schema_version": 3,
     "solution": false,
     "task": false
    },
    "pycharm": {
     "name": "#%% md\n"
    },
    "tags": []
   },
   "source": [
    "**a) Give a short introduction about why explainability is important in Deep Learning research? Because this is an NLP class, provide one example from the domain of NLP.** **(2p)**\n",
    "\n",
    "Hint: For the example, it's sufficient to think logically, it's not needed to cite papers."
   ]
  },
  {
   "cell_type": "markdown",
   "metadata": {
    "deletable": false,
    "id": "17JdkBsEPfKW",
    "nbgrader": {
     "cell_type": "markdown",
     "checksum": "f77d53ab8c22306151eef4bd69431157",
     "grade": true,
     "grade_id": "cell-da7422f87eb7a398",
     "locked": false,
     "points": 2,
     "schema_version": 3,
     "solution": true,
     "task": false
    },
    "pycharm": {
     "name": "#%% md\n"
    },
    "tags": []
   },
   "source": [
    "YOUR ANSWER HERE"
   ]
  },
  {
   "cell_type": "markdown",
   "metadata": {
    "deletable": false,
    "editable": false,
    "id": "4y16FpznPfKW",
    "nbgrader": {
     "cell_type": "markdown",
     "checksum": "210c54ae2c52cfa3ea9f526ec08baabe",
     "grade": false,
     "grade_id": "cell-d6f06aa0800a2cf1",
     "locked": true,
     "schema_version": 3,
     "solution": false,
     "task": false
    },
    "pycharm": {
     "name": "#%% md\n"
    },
    "tags": []
   },
   "source": [
    "**b) In this subtask we start to analyze the predictions from your selected model with the respective saliency maps. Find at least one method that explains the prediction from your selected model and describe and interpret your results.** **(2p)**"
   ]
  },
  {
   "cell_type": "markdown",
   "metadata": {
    "deletable": false,
    "id": "QkdpvAbkPfKW",
    "nbgrader": {
     "cell_type": "markdown",
     "checksum": "fc65797886bacac481bd42f1df6ea7ec",
     "grade": true,
     "grade_id": "cell-714a5945fcec1a2d",
     "locked": false,
     "points": 2,
     "schema_version": 3,
     "solution": true,
     "task": false
    },
    "pycharm": {
     "name": "#%% md\n"
    },
    "tags": []
   },
   "source": [
    "YOUR ANSWER HERE"
   ]
  },
  {
   "cell_type": "markdown",
   "metadata": {
    "deletable": false,
    "editable": false,
    "id": "GprqaKSnPfKW",
    "nbgrader": {
     "cell_type": "markdown",
     "checksum": "73fc32f734a2bee79f2773433c78ce78",
     "grade": false,
     "grade_id": "cell-4f12a95473ce9045",
     "locked": true,
     "schema_version": 3,
     "solution": false,
     "task": false
    },
    "pycharm": {
     "name": "#%% md\n"
    },
    "tags": []
   },
   "source": [
    "**c) Explain one method that doesn't explain the prediction from your model and interpret your results. Prove your result with at least one question.** **(2p)**"
   ]
  },
  {
   "cell_type": "markdown",
   "metadata": {
    "deletable": false,
    "id": "oOjCV91fPfKW",
    "nbgrader": {
     "cell_type": "markdown",
     "checksum": "93a99295d7d15d71de1b3bb2d4fe662b",
     "grade": true,
     "grade_id": "cell-96d50e6502d716a5",
     "locked": false,
     "points": 2,
     "schema_version": 3,
     "solution": true,
     "task": false
    },
    "pycharm": {
     "name": "#%% md\n"
    },
    "tags": []
   },
   "source": [
    "YOUR ANSWER HERE"
   ]
  },
  {
   "cell_type": "markdown",
   "metadata": {
    "deletable": false,
    "editable": false,
    "id": "t_SVw7kdPfKW",
    "nbgrader": {
     "cell_type": "markdown",
     "checksum": "e380db55e3e42307eb7319ed88a312a3",
     "grade": false,
     "grade_id": "cell-6b9b4a8b15d99d07",
     "locked": true,
     "schema_version": 3,
     "solution": false,
     "task": false
    },
    "pycharm": {
     "name": "#%% md\n"
    },
    "tags": []
   },
   "source": [
    "# Task 4: Attacking your model - 4 Points"
   ]
  },
  {
   "cell_type": "markdown",
   "metadata": {
    "deletable": false,
    "editable": false,
    "id": "lZ4mwUktPfKX",
    "nbgrader": {
     "cell_type": "markdown",
     "checksum": "9291b2ea123a4f4755038817f96133c4",
     "grade": false,
     "grade_id": "cell-7f27c7bc20160152",
     "locked": true,
     "schema_version": 3,
     "solution": false,
     "task": false
    },
    "pycharm": {
     "name": "#%% md\n"
    },
    "tags": []
   },
   "source": [
    "In this task, you will learn about attacking your selected model.\n",
    "Therefore the UKP-SQuARE interface makes it easy to apply different input modifications to find vulnerabilities in the model. You will explore different attacking methods.\n",
    "For learning more about the attacking methods, you can read the following paper: https://aclanthology.org/2022.aacl-demo.4.pdf. or the respective Medium article https://medium.com/@ukp-square/interpreting-adversarial-attacks-in-question-answering-with-ukp-square-5f1866ade13c.\n",
    "Both are not required to achieve full points on the tasks but help to understand the topics.\n",
    "\n",
    "Hint: You are highly encouraged to include screenshots to make your results understandable."
   ]
  },
  {
   "cell_type": "markdown",
   "metadata": {
    "deletable": false,
    "editable": false,
    "id": "kB9NauDKPfKX",
    "nbgrader": {
     "cell_type": "markdown",
     "checksum": "1cba19a66efd887b736de32eab374b01",
     "grade": false,
     "grade_id": "cell-fa4a6aecbbf24153",
     "locked": true,
     "schema_version": 3,
     "solution": false,
     "task": false
    },
    "pycharm": {
     "name": "#%% md\n"
    },
    "tags": []
   },
   "source": [
    "**a) Identify whether and how your selected model can be fooled/hacked with the Input Reduction method. Interpret your findings in your own words.** **(1p)**"
   ]
  },
  {
   "cell_type": "markdown",
   "metadata": {
    "deletable": false,
    "id": "9O8aBmGxPfKX",
    "nbgrader": {
     "cell_type": "markdown",
     "checksum": "322ff214a0a6c79e65e612ebb9a8145a",
     "grade": true,
     "grade_id": "cell-3a63f63edf85abc7",
     "locked": false,
     "points": 1,
     "schema_version": 3,
     "solution": true,
     "task": false
    },
    "pycharm": {
     "name": "#%% md\n"
    },
    "tags": []
   },
   "source": [
    "YOUR ANSWER HERE"
   ]
  },
  {
   "cell_type": "markdown",
   "metadata": {
    "deletable": false,
    "editable": false,
    "id": "9fnx2Z9QPfKX",
    "nbgrader": {
     "cell_type": "markdown",
     "checksum": "b4a6d02ccefc580dafbbed4bc5d67f02",
     "grade": false,
     "grade_id": "cell-ee290e3f7770c31b",
     "locked": true,
     "schema_version": 3,
     "solution": false,
     "task": false
    },
    "pycharm": {
     "name": "#%% md\n"
    },
    "tags": []
   },
   "source": [
    "**b) Identify whether and how your selected model can be fooled/hacked with the Sub-Span method. Interpret your findings in your own words.** **(1p)**"
   ]
  },
  {
   "cell_type": "markdown",
   "metadata": {
    "deletable": false,
    "id": "s_xrbthzPfKX",
    "nbgrader": {
     "cell_type": "markdown",
     "checksum": "06bca055cc5c17ecdbcb1c43e33c6b60",
     "grade": true,
     "grade_id": "cell-8beb429ded55e08e",
     "locked": false,
     "points": 1,
     "schema_version": 3,
     "solution": true,
     "task": false
    },
    "pycharm": {
     "name": "#%% md\n"
    },
    "tags": []
   },
   "source": [
    "YOUR ANSWER HERE"
   ]
  },
  {
   "cell_type": "markdown",
   "metadata": {
    "deletable": false,
    "editable": false,
    "id": "JQpbljdhPfKX",
    "nbgrader": {
     "cell_type": "markdown",
     "checksum": "bcbd67eb5dd2bcadc01bef5251fde9d3",
     "grade": false,
     "grade_id": "cell-dca171c140217290",
     "locked": true,
     "schema_version": 3,
     "solution": false,
     "task": false
    },
    "pycharm": {
     "name": "#%% md\n"
    },
    "tags": []
   },
   "source": [
    "**c) Identify whether and how your selected model can be fooled/hacked with the Top K method. Interpret your findings in your own words.** **(1p)**"
   ]
  },
  {
   "cell_type": "markdown",
   "metadata": {
    "deletable": false,
    "id": "8ZzBLVuSPfKX",
    "nbgrader": {
     "cell_type": "markdown",
     "checksum": "b070641065b4e8a9067ada71cf299caa",
     "grade": true,
     "grade_id": "cell-e2cf22c30823a3d1",
     "locked": false,
     "points": 1,
     "schema_version": 3,
     "solution": true,
     "task": false
    },
    "pycharm": {
     "name": "#%% md\n"
    },
    "tags": []
   },
   "source": [
    "YOUR ANSWER HERE"
   ]
  },
  {
   "cell_type": "markdown",
   "metadata": {
    "deletable": false,
    "editable": false,
    "id": "kTOQ8a79PfKc",
    "nbgrader": {
     "cell_type": "markdown",
     "checksum": "0cd98e0d37613a498b11eaebf0e2fb04",
     "grade": false,
     "grade_id": "cell-287dc38868273c81",
     "locked": true,
     "schema_version": 3,
     "solution": false,
     "task": false
    },
    "pycharm": {
     "name": "#%% md\n"
    },
    "tags": []
   },
   "source": [
    "**d) Explain why it's interesting for you as a researcher to know how your selected model is attackable?** **(1p)**"
   ]
  },
  {
   "cell_type": "markdown",
   "metadata": {
    "deletable": false,
    "id": "TDbAIgUPN7zv",
    "nbgrader": {
     "cell_type": "markdown",
     "checksum": "8e250e2880d33145b6933f0d8f128f37",
     "grade": true,
     "grade_id": "cell-c9990cd201d54481",
     "locked": false,
     "points": 1,
     "schema_version": 3,
     "solution": true,
     "task": false
    },
    "pycharm": {
     "name": "#%% md\n"
    },
    "tags": []
   },
   "source": [
    "YOUR ANSWER HERE"
   ]
  },
  {
   "cell_type": "markdown",
   "metadata": {
    "deletable": false,
    "editable": false,
    "id": "6dvalMM2jTUg",
    "nbgrader": {
     "cell_type": "markdown",
     "checksum": "f4284833abcf1d3d2f84989bce4fd41e",
     "grade": false,
     "grade_id": "cell-f7e5db7b97dbedb9",
     "locked": true,
     "schema_version": 3,
     "solution": false,
     "task": false
    },
    "pycharm": {
     "name": "#%% md\n"
    },
    "tags": []
   },
   "source": [
    "**Submission:**\n",
    "\n",
    "Please upload your submission to Moodle before the next exercise session <font color=\"red\">(Feb 09th, 23:59)</font>!\n",
    "\n",
    "Submission format: `homework 6.zip`\n",
    "\n",
    "Your submission should contain your filled out Jupyter notebook (naming schema: `homework 6.ipynb`) and any auxiliar files that are necessary to run your code (e.g., the datasets provided by us).\n",
    "\n",
    "Each submission must be handed in only once per group."
   ]
  }
 ],
 "metadata": {
  "accelerator": "GPU",
  "colab": {
   "provenance": []
  },
  "gpuClass": "standard",
  "kernelspec": {
   "display_name": "Python 3 (ipykernel)",
   "language": "python",
   "name": "python3"
  },
  "language_info": {
   "codemirror_mode": {
    "name": "ipython",
    "version": 3
   },
   "file_extension": ".py",
   "mimetype": "text/x-python",
   "name": "python",
   "nbconvert_exporter": "python",
   "pygments_lexer": "ipython3",
   "version": "3.9.2"
  }
 },
 "nbformat": 4,
 "nbformat_minor": 4
}
