{
 "cells": [
  {
   "cell_type": "markdown",
   "metadata": {
    "deletable": false,
    "editable": false,
    "nbgrader": {
     "cell_type": "markdown",
     "checksum": "da5064c9ed8cd1fec0f36b714c345b0b",
     "grade": false,
     "grade_id": "cell-4d87ae78fb4caf9c",
     "locked": true,
     "schema_version": 3,
     "solution": false,
     "task": false
    },
    "tags": []
   },
   "source": [
    "# NLP and the Web"
   ]
  },
  {
   "cell_type": "markdown",
   "metadata": {
    "deletable": false,
    "editable": false,
    "nbgrader": {
     "cell_type": "markdown",
     "checksum": "b1145e2ba69b3e56620106550f0984e0",
     "grade": false,
     "grade_id": "cell-8b531762670192f6",
     "locked": true,
     "schema_version": 3,
     "solution": false,
     "task": false
    },
    "tags": []
   },
   "source": [
    "## Task 0 ~ 0P"
   ]
  },
  {
   "cell_type": "markdown",
   "metadata": {
    "tags": []
   },
   "source": [
    "__Task 0 is only relevant for the homework.__"
   ]
  },
  {
   "cell_type": "markdown",
   "metadata": {
    "deletable": false,
    "editable": false,
    "nbgrader": {
     "cell_type": "markdown",
     "checksum": "5d4cef5c9a404a5516183e6ce9bf2128",
     "grade": false,
     "grade_id": "cell-6eca7b6c6c224dde",
     "locked": true,
     "schema_version": 3,
     "solution": false,
     "task": false
    }
   },
   "source": [
    "##### a) Please enter your group number"
   ]
  },
  {
   "cell_type": "markdown",
   "metadata": {
    "deletable": false,
    "nbgrader": {
     "cell_type": "markdown",
     "checksum": "75470a4986487fdb40d73fa368335c95",
     "grade": true,
     "grade_id": "cell-cccfbf605a28a18a",
     "locked": false,
     "points": 0,
     "schema_version": 3,
     "solution": true,
     "task": false
    }
   },
   "source": [
    "14"
   ]
  },
  {
   "cell_type": "markdown",
   "metadata": {
    "deletable": false,
    "editable": false,
    "nbgrader": {
     "cell_type": "markdown",
     "checksum": "6fdb993af1b0b63ec0df26dca558cdd0",
     "grade": false,
     "grade_id": "cell-2ed8ca1b9e5204c3",
     "locked": true,
     "schema_version": 3,
     "solution": false,
     "task": false
    }
   },
   "source": [
    "_**Regarding types, documentation, and output:**_\n",
    "\n",
    "_We tried to make the description of the parameters as clear as possible. However, if you believe that something is missing, please reach out to us in Moodle. We provide type hints for the function parameters and return values of the functions that you have to implement._\n",
    "\n",
    "_Nevertheless, your code must use the provided method stubs and parameters. Furthermore, make sure that your code runs without errors and in a reasonable amount of time, for example by using \"Kernel/Restart & Run All\" before submitting._\n",
    "\n",
    "_Please use comments where appropriate to help the tutors understand your code. This is especially important for the more extensive exercises later on. Finally, please pay attention to how you output the results. We highly recommend using `display(df)` for displaying data frames._\n",
    "\n",
    "_**Please only modify the template in the specified markdown and code cells (e.g. YOUR CODE / ANSWER / IMPORTS HERE). Some cells are left blank on purpose. Please do not modify these cells, because they are used to autograde your submission. If these cells are modified, the automatic grading for your submission will fail and we might deduct points. Please do not modify the cells containing public and private tests. If you want to do your own tests, please use the code cell containing your code solution (YOUR CODE HERE).**_"
   ]
  },
  {
   "cell_type": "markdown",
   "metadata": {},
   "source": [
    "---"
   ]
  },
  {
   "cell_type": "markdown",
   "metadata": {
    "deletable": false,
    "editable": false,
    "nbgrader": {
     "cell_type": "markdown",
     "checksum": "1310aa9742098c865c21b721a493ce22",
     "grade": false,
     "grade_id": "cell-f139dcb3575e635d",
     "locked": true,
     "schema_version": 3,
     "solution": false,
     "task": false
    }
   },
   "source": [
    "# Home Exercise 3"
   ]
  },
  {
   "cell_type": "code",
   "execution_count": 51,
   "metadata": {},
   "outputs": [],
   "source": [
    "# for type-hinting\n",
    "from numpy import ndarray\n",
    "from typing import Union, List, Dict, DefaultDict, Set\n",
    "# Bunch is a subtype of Dict, so the type-hints are comparable to Dict type-hints: Bunch[key, value]\n",
    "from sklearn.utils import Bunch"
   ]
  },
  {
   "cell_type": "markdown",
   "metadata": {
    "deletable": false,
    "editable": false,
    "nbgrader": {
     "cell_type": "markdown",
     "checksum": "7024a5355241334e51d6519cdf142e1a",
     "grade": false,
     "grade_id": "cell-e9f9b7f196cd764f",
     "locked": true,
     "schema_version": 3,
     "solution": false,
     "task": false
    }
   },
   "source": [
    "## Task 1: Inverted Index / Boolean Retrieval (5 Points)"
   ]
  },
  {
   "cell_type": "markdown",
   "metadata": {
    "deletable": false,
    "editable": false,
    "nbgrader": {
     "cell_type": "markdown",
     "checksum": "074469131f2c70dbb00c0340b545ced8",
     "grade": false,
     "grade_id": "cell-591c97be34fb3c10",
     "locked": true,
     "schema_version": 3,
     "solution": false,
     "task": false
    }
   },
   "source": [
    "__a)__ (0.5 Points) Next to many useful machine learning tools, __sklearn__ includes a collection of various datasets. In the ungraded practice notebook, you have already seen some examples on how to work with _20newsgroups_ ([dataset](https://scikit-learn.org/stable/datasets/real_world.html#newsgroups-dataset), [loader](https://scikit-learn.org/stable/modules/generated/sklearn.datasets.fetch_20newsgroups.html)) which is a useful text corpus with numerous documents for a total of 20 different topics. For this notebook, we will use a selection of documents from the _20newsgroups_ dataset as our example corpus. Fetch all documents from _20newsgroups_ that adhere to the following parameters: \n",
    "- Include only documents of the 'test' subset and from the provided categories\n",
    "- The documents should be shuffled with a random seed of 42\n",
    "- Headers, footers and quotes should be removed  \n",
    "\n",
    "To save some processing time in the following tasks, we want to further reduce our corpus. For this purpose, keep only the first 300 documents of the fetched result as your final corpus in a variable called __docs__ of type __list[str]__. Additionally, store the corresponding 300 target labels (categories) in a separate variable called __targets__ of type __ndarray__."
   ]
  },
  {
   "cell_type": "code",
   "execution_count": 52,
   "metadata": {
    "deletable": false,
    "nbgrader": {
     "cell_type": "code",
     "checksum": "9739b4314e72dcde2d2832bb41117d86",
     "grade": false,
     "grade_id": "cell-26f465f0150a0b76",
     "locked": false,
     "schema_version": 3,
     "solution": true,
     "task": false
    }
   },
   "outputs": [],
   "source": [
    "from sklearn.datasets import fetch_20newsgroups\n",
    "categories: List[str] = ['alt.atheism', 'rec.sport.hockey']\n",
    "\n",
    "\n",
    "# first 300 docs and corresponding labels\n",
    "docs: list[str] = []\n",
    "targets: ndarray = []\n",
    "\n",
    "newsgroups = fetch_20newsgroups(subset='test', categories=categories, remove=('headers', 'footers', 'quotes'), random_state=42)\n",
    "docs = newsgroups.data[:300]\n",
    "targets = newsgroups.target[:300]\n",
    "\n",
    "    "
   ]
  },
  {
   "cell_type": "code",
   "execution_count": 53,
   "metadata": {
    "deletable": false,
    "editable": false,
    "nbgrader": {
     "cell_type": "code",
     "checksum": "0294bd2992bc55d6d34605344a9ea0d3",
     "grade": true,
     "grade_id": "cell-3d71d2f66be95d3b",
     "locked": true,
     "points": 0.5,
     "schema_version": 3,
     "solution": false,
     "task": false
    }
   },
   "outputs": [],
   "source": [
    "# Test\n",
    "assert sum(targets) == 177\n",
    "assert '\\nPersonal attacks?' in docs[0]\n",
    "assert type(targets) == ndarray\n",
    "assert type(docs) == list"
   ]
  },
  {
   "cell_type": "markdown",
   "metadata": {
    "deletable": false,
    "editable": false,
    "nbgrader": {
     "cell_type": "markdown",
     "checksum": "71548573492c30e2daa030a05d1b5e3b",
     "grade": false,
     "grade_id": "cell-8473b6f072913d0a",
     "locked": true,
     "schema_version": 3,
     "solution": false,
     "task": false
    }
   },
   "source": [
    "__b)__ (2 Points) Implement a function `inverted_index` that receives a list of documents and returns an inverted index. An inverted index is a key-value mapping where each key is a unique word from the vocabulary of a given corpus of documents. Each key maps to a postings list that contains the indices of all documents in which the key word occurs in at least once. The index should cover only lemmatized tokens (i.e. you should lemmatize tokens before adding them to the inverted index) that fully consist of alphabetic characters. For lemmas/keys that are not covered by the corpus vocabulary, the resulting index should return an empty list (_hint_: defaultdict). You are also allowed to return an empty list for pronouns. The type of the return should be:                     __defaultdict[str, list[int]]__\n",
    "\n",
    "Use your function to create an inverted index for the corpus from task 1a) and output the postings lists for the terms \"skate\", \"faith\" and \"pizza\" and store it in variables skate_indices, faith_indices and pizza_indices of the type __list[int]__.\n",
    "Only use __spaCy__ for tokenization, lemmatization and detection of alphabetic tokens!"
   ]
  },
  {
   "cell_type": "code",
   "execution_count": 54,
   "metadata": {},
   "outputs": [],
   "source": [
    "import spacy\n",
    "from collections import defaultdict\n",
    "nlp: spacy.Language = spacy.load(\"en_core_web_sm\")"
   ]
  },
  {
   "cell_type": "code",
   "execution_count": 55,
   "metadata": {
    "deletable": false,
    "nbgrader": {
     "cell_type": "code",
     "checksum": "60d3c6e1cbbb3dc5489057486715956c",
     "grade": false,
     "grade_id": "cell-92d05c7d95feb823",
     "locked": false,
     "schema_version": 3,
     "solution": true,
     "task": false
    }
   },
   "outputs": [],
   "source": [
    "def inverted_index(docs: Union[List[str], List[spacy.tokens.Doc]]) -> DefaultDict[str, List[int]]:\n",
    "    \"\"\"Create an inverted index for a given corpus of documents\n",
    "    \n",
    "    :param docs: array-like object containing documents\n",
    "                 (List[spacy.tokens.Doc] or List[str] are only suggestions \n",
    "                  - you may choose either of both or another suitable type)\n",
    "    :return:defaultdict[str, list[int]] inverted index \n",
    "    \"\"\"\n",
    "    \n",
    "    inverted_index: DefaultDict[str, List[int]] = None # Why? Using a list here makes no sense at all! Use a set!\n",
    "    inv_idx = defaultdict(set) # Given I cannot touch the above... I'm not gonna use it.\n",
    "    \n",
    "    for i, doc in enumerate(docs):\n",
    "        if isinstance(doc, str):\n",
    "            doc = nlp(doc)\n",
    "        for token in doc:\n",
    "            if token.is_alpha:\n",
    "                inv_idx[token.lemma_].add(i)\n",
    "\n",
    "    return defaultdict(list, {word: list(doc_indices) for word, doc_indices in inv_idx.items()})\n",
    "\n",
    "\n",
    "\n",
    "\n",
    "skate_indices: list[int] = []\n",
    "faith_indices: list[int] = []\n",
    "pizza_indices: list[int] = [] # Ya ain't even testing this variable, so why set it?\n",
    "\n",
    "index = inverted_index(docs) \n",
    "skate_indices = index['skate']\n",
    "faith_indices = index['faith']\n",
    "pizza_indices = index['pizza'] # ... just in case.\n",
    "\n",
    "\n"
   ]
  },
  {
   "cell_type": "code",
   "execution_count": 56,
   "metadata": {
    "deletable": false,
    "editable": false,
    "nbgrader": {
     "cell_type": "code",
     "checksum": "a5fecf4308a8f0cc7a2545bc932683ec",
     "grade": true,
     "grade_id": "cell-d46389d16ae0275d",
     "locked": true,
     "points": 2,
     "schema_version": 3,
     "solution": false,
     "task": false
    }
   },
   "outputs": [],
   "source": [
    "# Test\n",
    "\n",
    "assert 250 in skate_indices\n",
    "assert 202 in faith_indices\n",
    "assert type(inverted_index(docs)) == defaultdict\n",
    "assert len(index[\"statement\"]) == 18\n",
    "assert sorted(index[\"peace\"]) == [0, 11, 93, 268, 297]\n",
    "assert 75 in index[\"personal\"]\n"
   ]
  },
  {
   "cell_type": "markdown",
   "metadata": {
    "deletable": false,
    "editable": false,
    "nbgrader": {
     "cell_type": "markdown",
     "checksum": "63d448096c217468c3b36096a8564ef0",
     "grade": false,
     "grade_id": "cell-63b550859acd3ff4",
     "locked": true,
     "schema_version": 3,
     "solution": false,
     "task": false
    }
   },
   "source": [
    "__c)__ (2.5 Points) Implement the optimized intersection function `intersect([t1, ..., tn])` for multiple AND queries from the lecture (slide 52). Try to keep the implementation as close as possible to the given pseudocode (see picture in the cell below).\n",
    "\n",
    "Afterwards, create a function `boolean_retrieval` that takes a list of terms and interprets them as an AND query (e.g., the input [\"best\", \"pizza\", \"pie\"] should be interpreted as \"best AND pizza AND pie\"). The return value of the function should be a __list[int]__ of all document indices that contain all of the query tokens. \n",
    "\n",
    "Apply the function `boolean_retrieval` for the following queries and output the number of retrieved documents for each query:  \n",
    "\n",
    "- best AND goals\n",
    "- best AND goals AND overtime\n",
    "- religions \n",
    "- most AND common AND religions\n",
    "\n",
    "_Hints_: \n",
    "\n",
    "* Use the inverted index from the previous exercise to access the postings in lines 2 and 5 of the pseudocode. The function `intersect_(postings1, postings2)` that is used in line 5 of the pseudocode is already implemented for you. \n",
    "* You should pre-process the query within the function `boolean_retrieval`."
   ]
  },
  {
   "cell_type": "markdown",
   "metadata": {
    "deletable": false,
    "editable": false,
    "nbgrader": {
     "cell_type": "markdown",
     "checksum": "da8bfa7a7d667ae2a188aac99201983f",
     "grade": false,
     "grade_id": "cell-6a44d1c949021ce1",
     "locked": true,
     "schema_version": 3,
     "solution": false,
     "task": false
    }
   },
   "source": [
    "<img width=\"500\" align=left src=\"data:image/png;base64,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\"/>"
   ]
  },
  {
   "cell_type": "code",
   "execution_count": 57,
   "metadata": {
    "deletable": false,
    "nbgrader": {
     "cell_type": "code",
     "checksum": "8485d1c5760d03db8e802b3bc9293208",
     "grade": false,
     "grade_id": "cell-4cd4c2245e0c0696",
     "locked": false,
     "schema_version": 3,
     "solution": true,
     "task": false
    }
   },
   "outputs": [
    {
     "name": "stdout",
     "output_type": "stream",
     "text": [
      "[121, 191]\n",
      "[130, 139, 270, 278, 24, 282, 159, 292, 295, 168, 172, 47, 58, 196, 71, 74, 75, 203, 218, 233, 234, 249, 122]\n",
      "[]\n"
     ]
    }
   ],
   "source": [
    "def intersect(terms: List[str]) -> List[int]:\n",
    "    \"\"\"Intersect the postings lists for multiple query terms as shown in the above pseudocode\n",
    "    \n",
    "    The intersection stops early if one of 2 conditions is fulfilled (see line 4 above).\n",
    "    \n",
    "    :param terms: array-like object containing terms, e.g. ['good', 'pizza', 'darmstadt']  \n",
    "    :return: List[int] containing indices of documents in which all query terms occur \n",
    "    \"\"\"\n",
    "    terms = sort_by_increasing_frequency(terms)\n",
    "    result = index.get(terms.pop(0), [])\n",
    "    \n",
    "    while terms and result:\n",
    "        result = intersect_(result, index.get(terms.pop(0), []))\n",
    "    \n",
    "    return result\n",
    "\n",
    "def sort_by_increasing_frequency(terms: List[str]) -> List[str]:\n",
    "    \"\"\"Sort terms by the length of their postings lists. Used in line 1 of the pseudocode\n",
    "    \n",
    "    E.g.: assume we have the following 3 words: \n",
    "        * \"pizza\" (in 10 documents)\n",
    "        * \"sushi\" (in 3 documents)\n",
    "        * \"schnitzel\" (in 15 documents)\n",
    "        The outputed list should be: [\"sushi\", \"pizza\", \"schnitzel\"]\n",
    "    \n",
    "    :param terms: array-like object containing terms\n",
    "    :return: List[str] containing terms, ordered increasingly by their document frequency\n",
    "    \"\"\"\n",
    "    return sorted(terms, key=lambda term: len(index.get(term, [])))\n",
    "\n",
    "def intersect_(postings1: List[int], postings2: List[int]) -> List[int]:\n",
    "    \"\"\"Intersect two (sub)lists containing postings. Used in line 5 of the pseudocode\n",
    "    \n",
    "    This function is already implemented and ready to use.\n",
    "    \n",
    "    :param postings1: array-like object containing the postings list of a term\n",
    "    :param postings2: array-like object containing the postings list of a term\n",
    "    :return: List[int] containing intersection of postings1 and postings2\n",
    "    \"\"\"\n",
    "    return list(set(postings1) & set(postings2))\n",
    "\n",
    "def boolean_retrieval(query: List[str]) -> List[int]:\n",
    "    \"\"\"Perform Boolean retrieval for a given query to determine all relevant documents\n",
    "    \n",
    "    :param query: array-like object containing query terms, e.g. [\"my\", \"query\"]\n",
    "    :return: List[int] containing document indices that fulfill the conjunction of all query terms\n",
    "    \"\"\"\n",
    "    processed_queries = []\n",
    "    for doc in nlp.pipe(query):\n",
    "        for token in doc:\n",
    "            if token.is_alpha:\n",
    "                processed_queries.append(token.lemma_)\n",
    "    return intersect(processed_queries)\n",
    "\n",
    "print(boolean_retrieval([\"best\", \"goals\", \"overtime\"]))\n",
    "print(boolean_retrieval([\"religions\"]))\n",
    "print(boolean_retrieval([\"most\", \"common\", \"religions\"]))"
   ]
  },
  {
   "cell_type": "markdown",
   "metadata": {
    "deletable": false,
    "editable": false,
    "nbgrader": {
     "cell_type": "markdown",
     "checksum": "4928a21ef63a523186fb41ce98b22f2d",
     "grade": false,
     "grade_id": "cell-761089972898b2d9",
     "locked": true,
     "points": 0.75,
     "schema_version": 3,
     "solution": false,
     "task": true
    }
   },
   "source": [
    "for correction purposes only - Don't modify, this cell is required for grading"
   ]
  },
  {
   "cell_type": "code",
   "execution_count": 58,
   "metadata": {
    "deletable": false,
    "editable": false,
    "nbgrader": {
     "cell_type": "code",
     "checksum": "06861d465ced63911768c32bb1051945",
     "grade": true,
     "grade_id": "cell-7efb9488db550b69",
     "locked": true,
     "points": 0.75,
     "schema_version": 3,
     "solution": false,
     "task": false
    }
   },
   "outputs": [],
   "source": [
    "#Test"
   ]
  },
  {
   "cell_type": "code",
   "execution_count": 59,
   "metadata": {
    "deletable": false,
    "editable": false,
    "nbgrader": {
     "cell_type": "code",
     "checksum": "80ca7feee905d11258e28688a6881af7",
     "grade": true,
     "grade_id": "cell-7f57672d58b23e5d",
     "locked": true,
     "points": 1,
     "schema_version": 3,
     "solution": false,
     "task": false
    }
   },
   "outputs": [],
   "source": [
    "# Test\n",
    "assert len(boolean_retrieval([\"best\", \"goals\"])) == 13\n",
    "assert sorted(boolean_retrieval([\"personal\", \"statement\"])) == [0, 74]\n",
    "assert len(boolean_retrieval([\"best\", \"goals\", \"overtime\"])) == 2\n",
    "assert 250 in boolean_retrieval([\"best\", \"game\"])\n",
    "assert len(boolean_retrieval([\"perfect\", \"thrust\"])) == 0"
   ]
  },
  {
   "cell_type": "markdown",
   "metadata": {
    "deletable": false,
    "editable": false,
    "nbgrader": {
     "cell_type": "markdown",
     "checksum": "f9c2f8633ad92264ad3621c587b9f7fc",
     "grade": false,
     "grade_id": "cell-f5a00949e70d21ee",
     "locked": true,
     "schema_version": 3,
     "solution": false,
     "task": false
    }
   },
   "source": [
    "## Task 2: tf-idf (4 Points)"
   ]
  },
  {
   "cell_type": "markdown",
   "metadata": {
    "deletable": false,
    "editable": false,
    "nbgrader": {
     "cell_type": "markdown",
     "checksum": "745979d5a6fe931b59a18459598b90e1",
     "grade": false,
     "grade_id": "cell-5fc6f7ee386bf480",
     "locked": true,
     "schema_version": 3,
     "solution": false,
     "task": false
    }
   },
   "source": [
    "In the previous task you regarded a document as relevant for a query if it contained each of the queries' words at least once. However, this is not sufficient: Some word's might be more indicative of a document's content and some less (such as stop words). The former is the case for words that are \n",
    "\n",
    "* rare across the document collection and occur only in a few documents (--> high Inverse Document Frequency)\n",
    "* frequent in the document at hand (--> high Term Frequency)\n",
    "\n",
    "A method you learned in the lecture as well as in the ungraded tutorial notebook that leverages these ideas is tf-idf. It allows to reflect how important a specific word is to a document in a corpus. For doing so, it requires the transformation of documents into vector representations.\n",
    "\n",
    "In this task, you will create the functionality to calculate tf-idf weights from scratch, turn the documents of our examplary corpus into tf-idf vector representations and use them to apply a simple text classification. As long as not stated otherwise, please do not use any other tools or libraries other than __math__, __numpy__ and __spaCy__ in task 2.\n",
    "\n",
    "Make sure all functions are useable for variable input (not only for __docs__ from the previous exercises)."
   ]
  },
  {
   "cell_type": "code",
   "execution_count": 60,
   "metadata": {},
   "outputs": [],
   "source": [
    "# useful imports for this task\n",
    "import math\n",
    "import numpy as np"
   ]
  },
  {
   "cell_type": "markdown",
   "metadata": {
    "deletable": false,
    "editable": false,
    "nbgrader": {
     "cell_type": "markdown",
     "checksum": "462bc3af3630b031817920c75ea7368d",
     "grade": false,
     "grade_id": "cell-b2e0b65f2388af19",
     "locked": true,
     "schema_version": 3,
     "solution": false,
     "task": false
    }
   },
   "source": [
    "__a)__ (2 Points) Implement a function `tf_weight(term, doc)`. For a given term and a document, the function should return the term frequency weight that is calculated with the following formula: \n",
    "\n",
    "&emsp;&emsp;&emsp;&emsp; $\\text{tf-weight}_{\\text{term,doc}} = 1 + \\log_{10}(\\text{tf}_{\\text{term,doc}})$ &emsp;&emsp; $\\text{if tf}_{\\text{t,d}} > 0\\text{, else }  0$\n",
    "\n",
    "Implement a second function `idf_weights(docs)` that receives the corpus of documents and returns the idf weights for all words from the corpus vocabulary. Similar to task 1b), this vocabulary shall cover only the lemmas of alphabetic words (_hint:_ your inverted index function from the previous task can be very useful here). You do not need to remove stopwords. The idf weight for one term can be calculated like this: \n",
    "\n",
    "&emsp;&emsp;&emsp;&emsp; $\\text{idf-weight}_{\\text{term}} = \\log_{10}(\\frac{\\text{docs}}{\\text{df}_{\\text{term}}})$"
   ]
  },
  {
   "cell_type": "code",
   "execution_count": 61,
   "metadata": {
    "deletable": false,
    "nbgrader": {
     "cell_type": "code",
     "checksum": "b43f0fe2854933973926c1631e57e952",
     "grade": false,
     "grade_id": "cell-d52c9115ed57feb9",
     "locked": false,
     "schema_version": 3,
     "solution": true,
     "task": false
    }
   },
   "outputs": [
    {
     "name": "stdout",
     "output_type": "stream",
     "text": [
      "[1.0, 1.4771212547196624, 1.4771212547196624, 1.4771212547196624, 1.0, 1.0, 1.0, 1.0, 1.0, 1.0, 1.0, 1.0, 1.0, 1.0, 1.0, 1.0, 1.0, 1.0, 1.0, 1.0, 1.0]\n"
     ]
    }
   ],
   "source": [
    "def tf_weight(term: str, doc: Union[str, List[str]]) -> float:\n",
    "    \"\"\"Calculate term frequency weighting for a given term and document\n",
    "    \n",
    "    :param term: term string \n",
    "    :param doc: document\n",
    "                (str or List[str] are only suggestions - you may choose either of both or another suitable type)\n",
    "    :return:float - tf weight for the given term and document  \n",
    "    \"\"\"\n",
    "    weight: float = 0\n",
    "    # YOUR CODE HERE\n",
    "    #raise NotImplementedError()\n",
    "    t = 0\n",
    "    if isinstance(doc, str):\n",
    "        doc = doc.split()\n",
    "    t = doc.count(term)\n",
    "    weight = 1 + np.log10(t) if t > 0 else 0\n",
    "\n",
    "    return weight\n",
    "    \n",
    "def idf_weights(docs: Union[List[str], List[spacy.tokens.Doc]]) -> Dict[str, float]:\n",
    "    \"\"\"Calculates inverse document frequency weighting for a corpus of documents.\n",
    "    \n",
    "    :param docs: array-like object containing documents\n",
    "                 (List[spacy.tokens.Doc] or List[str] are only suggestions \n",
    "                  - you may choose either of both or another suitable type)\n",
    "    :return: Dict[str, float] containing idf scores for all lemmas of the corpus vocabulary\n",
    "    \"\"\"\n",
    "    result: Dict[str, float] = {}\n",
    "    doc_count = len(docs)\n",
    "    inverted_idx = inverted_index(docs)\n",
    "\n",
    "    for term, doc_indices in inverted_idx.items():\n",
    "        df = len(doc_indices)\n",
    "        if df > 0:\n",
    "            result[term]= np.log10(doc_count / df)\n",
    "        else:\n",
    "            result[term] = 0\n",
    "\n",
    "    return result\n",
    "\n",
    "test_doc: str = (\"As as as as the Rangers found out in last year's playoffs, it's too late to try \"\n",
    "                 \"line-juggling at this point.\")\n",
    "tf_vals_test: list[float] = [tf_weight(term, test_doc) for term in test_doc.split()]\n",
    "print(tf_vals_test)\n",
    "idf_vals_test: defaultdict[str, float] = idf_weights(docs)\n"
   ]
  },
  {
   "cell_type": "code",
   "execution_count": 62,
   "metadata": {
    "deletable": false,
    "editable": false,
    "nbgrader": {
     "cell_type": "code",
     "checksum": "f30df51e12e16297bc81c7acf00317ca",
     "grade": true,
     "grade_id": "cell-9731d11737a1ae03",
     "locked": true,
     "points": 2,
     "schema_version": 3,
     "solution": false,
     "task": false
    }
   },
   "outputs": [],
   "source": [
    "# Test\n",
    "idf_vals_test: defaultdict[str, float] = idf_weights(docs)\n",
    "\n",
    "assert idf_vals_test['fire']\n",
    "assert math.isclose(round(idf_vals_test['be'],3), 0.092)\n",
    "assert idf_vals_test['peace']\n",
    "assert math.isclose(round(idf_vals_test['man'],2), 1.3)\n",
    "\n",
    "test_sent = (\"The curious cat explored the garden, chasing butterflies in the warm afternoon sun\"\n",
    "            \"Underneath the starry night sky, the old oak tree stood in silent contemplation, its branches swaying gently in the soft breeze.\")\n",
    "tf_vals_test2: list[float] = [tf_weight(term, test_sent) for term in test_sent.split()]\n",
    "assert round(max(tf_vals_test2), 1) == 1.7\n"
   ]
  },
  {
   "cell_type": "markdown",
   "metadata": {
    "deletable": false,
    "editable": false,
    "nbgrader": {
     "cell_type": "markdown",
     "checksum": "6884828b64d2fdd10d98c75767bee484",
     "grade": false,
     "grade_id": "cell-802282396a864eb3",
     "locked": true,
     "schema_version": 3,
     "solution": false,
     "task": false
    }
   },
   "source": [
    "__b)__  (2 Points) Implement a function `tf_idf_vectors(docs)` that transforms each document of a given corpus into a tf-idf vector representation. Each vector should be |V|-dimensional (where again V is the corpus vocabulary consisting of all alphabetic word lemmata).\n",
    "In other words, each vector entry represents one word from the corpus vocabulary; for each term in a document, the corresponding entry in the document's vector should be the tf-idf weight. If a term does not occur in a document at all, the corresponding vector entry should be 0.\n",
    "\n",
    "Use the function to determine the tf-idf vector representations of all documents in our exemplary corpus from task 1a). Normalization of the tf-idf values is not required here.\n",
    "\n",
    "_Note_:\n",
    "\n",
    "* Please make sure your output arrays have the correct dimension |V|.\n",
    "* Please make sure your algorithm does not take multiple hours to execute. We will deduct points for overly inefficient implementations."
   ]
  },
  {
   "cell_type": "code",
   "execution_count": 63,
   "metadata": {
    "deletable": false,
    "nbgrader": {
     "cell_type": "code",
     "checksum": "86e10ed0b903d73ce6bb2594a75f8589",
     "grade": false,
     "grade_id": "cell-39e6a15fdde58664",
     "locked": false,
     "schema_version": 3,
     "solution": true,
     "task": false
    }
   },
   "outputs": [
    {
     "name": "stdout",
     "output_type": "stream",
     "text": [
      "5966\n",
      "968.82\n",
      "470.86\n"
     ]
    }
   ],
   "source": [
    "def tf_idf_vectors(docs: Union[List[str], List[spacy.tokens.Doc]]) -> List[ndarray]: \n",
    "    \"\"\"Calculate tf-idf-vectors for the given documents\n",
    "    \n",
    "    :param docs: array-like object containing documents\n",
    "                 (List[spacy.tokens.Doc] or List[str] are only suggestions \n",
    "                  - you may choose either of both or another suitable type)\n",
    "    :return: List[ndarray] containing tf-idf-vectors for each document\"\"\"\n",
    "    vectors: List[ndarray] = []\n",
    "    idf_w = idf_weights(docs)\n",
    "\n",
    "    vocabs = set(idf_w.keys())\n",
    "\n",
    "    for doc in docs:\n",
    "        if isinstance(doc, str):\n",
    "            doc = nlp(doc)\n",
    "\n",
    "        tf_idf_vector = np.zeros(len(vocabs))\n",
    "\n",
    "        term_to_index = {}\n",
    "        for idx, term in enumerate(vocabs):\n",
    "            term_to_index.update({term: idx})\n",
    "        \n",
    "        words = [token.lemma_ for token in doc if token.is_alpha]\n",
    "\n",
    "        for term in vocabs:\n",
    "            tf = tf_weight(term, words)  \n",
    "            if term in term_to_index:\n",
    "                idx = term_to_index[term]\n",
    "                tf_idf_vector[idx] = tf * idf_w[term]\n",
    "        vectors.append(tf_idf_vector)\n",
    "        \n",
    "\n",
    "    return vectors\n",
    "x: list[ndarray] = tf_idf_vectors(docs)\n",
    "print(len(x[0]))\n",
    "print(round(sum(x[11]), 2))\n",
    "print(round(sum(x[25]), 2))"
   ]
  },
  {
   "cell_type": "code",
   "execution_count": 64,
   "metadata": {
    "deletable": false,
    "editable": false,
    "nbgrader": {
     "cell_type": "code",
     "checksum": "df07e7f0af05a5814084cd1198a04cc4",
     "grade": true,
     "grade_id": "cell-67f3e8009aee5211",
     "locked": true,
     "points": 2,
     "schema_version": 3,
     "solution": false,
     "task": false
    }
   },
   "outputs": [],
   "source": [
    "# Test\n",
    "\n",
    "x: list[ndarray] = tf_idf_vectors(docs)\n",
    "assert len(x[0]) == 5966, \"Corpus vocabulary |V| (should be around 5965)\"\n",
    "assert math.isclose(round(sum(x[11]), 2), 968.82)\n",
    "assert math.isclose(round(sum(x[25]), 2), 470.86)\n",
    "\n",
    "test_sent = [\"The curious cat explored the garden, chasing butterflies in the warm afternoon sun\",\n",
    "            \"Underneath the starry night sky, the old oak tree stood in silent contemplation, its branches swaying gently in the soft breeze.\"]\n",
    "assert math.isclose(round(sum(sum(tf_idf_vectors(test_sent))), 2), 7.53)\n",
    "assert len(tf_idf_vectors(test_sent)[0]) == 27\n",
    "\n",
    "\n"
   ]
  },
  {
   "cell_type": "markdown",
   "metadata": {
    "deletable": false,
    "editable": false,
    "nbgrader": {
     "cell_type": "markdown",
     "checksum": "9dd1df924abeef52309a5b93c016c3d1",
     "grade": false,
     "grade_id": "cell-0da74ad64accc6e5",
     "locked": true,
     "schema_version": 3,
     "solution": false,
     "task": false
    }
   },
   "source": [
    "## Task 3: Ranked Retrieval and Evaluation (11 Points)"
   ]
  },
  {
   "cell_type": "markdown",
   "metadata": {
    "deletable": false,
    "editable": false,
    "nbgrader": {
     "cell_type": "markdown",
     "checksum": "2fc2319c830055bc3de91f9c7f39b9b2",
     "grade": false,
     "grade_id": "cell-be3c51223a88b26e",
     "locked": true,
     "schema_version": 3,
     "solution": false,
     "task": false
    }
   },
   "source": [
    "In task 2 you performed binary classification to find relevant documents for a given query. In other words, you dealt with the question _if_ a document is relevant for a query. In a real world scenario, however, relevance is not a binary decision, but a scale: some documents (for a query) may be more relevant than others. In other words, we want to answer _how_ relevant a query is. Search engines such as Google provide a solution to the latter question and hence display more relevant documents at the top of the search results (with a descending order of relevance). This is called __Ranked Retrieval__ and requires us to\n",
    "\n",
    "1. use a method that rates search results on a scale (e.g. from 0 to 1) so that we can order them by their relevance (i.e. create a ranking)\n",
    "2. use methods that allow us to evaluate the ranking we created in step 1.\n",
    "\n",
    "After pre-processing the data in task 3a), we will use cosine similarity between query and document vectors as our \"scale\" by which we rank documents in task 3b). Thereafter, in tasks 3c) and 3d) we will compute precision, recall and 11-point-interpolated-precision to rate the ranking we computed in 3b). Lastly, we will plot the interpolated P-R curve to visualise our system's performance."
   ]
  },
  {
   "cell_type": "markdown",
   "metadata": {
    "deletable": false,
    "editable": false,
    "nbgrader": {
     "cell_type": "markdown",
     "checksum": "1b4d8de65d12dd01acb70c480dfb6ec0",
     "grade": false,
     "grade_id": "cell-11a0505f783bff4c",
     "locked": true,
     "schema_version": 3,
     "solution": false,
     "task": false
    }
   },
   "source": [
    "### About the data\n",
    "\n",
    "The data is a subset of the CISI dataset. It comes with queries and documents, both from the computer science domain. It further provides annotation about which document is relevant for which query.\n",
    "\n",
    "The data comes in three different files. All of them are `\\t` separated:\n",
    "* *queries.tsv:* consists of two columns.\n",
    "    * The first column is the `id` (integer value)\n",
    "    * The second column is the textual `query` (text)\n",
    "* *docs.tsv:* consists of three columns.\n",
    "    * The first column is the `id` (integer value)\n",
    "    * The second column is the `title` of the document (text)\n",
    "    * The third column is the `abstract` of the document (text).\n",
    "* *mapping.tsv: consists of two columns.*\n",
    "    * The first column is the `query_id` (integer)\n",
    "    * The second column is the `doc_id`, which is the id of a relevant document for that query (integer)\n",
    "    \n",
    "Note that relevant documents do not exist for all queries, and that one document may be relevant to multiple queries."
   ]
  },
  {
   "cell_type": "markdown",
   "metadata": {
    "deletable": false,
    "editable": false,
    "nbgrader": {
     "cell_type": "markdown",
     "checksum": "2af18e3fa10404e211468df6415b0cec",
     "grade": false,
     "grade_id": "cell-a9d3fd4fcece3ea7",
     "locked": true,
     "schema_version": 3,
     "solution": false,
     "task": false
    }
   },
   "source": [
    "### Getting Familiar with the Data\n",
    "\n",
    "In general it is good practice to first take a closer look at the actual data you are working on.\n",
    "\n",
    "Therefore, we output the DataFrames of all three files of the CISI dataset after loading them:"
   ]
  },
  {
   "cell_type": "code",
   "execution_count": 65,
   "metadata": {
    "ExecuteTime": {
     "end_time": "2022-12-13T21:49:36.281923Z",
     "start_time": "2022-12-13T21:49:34.287959Z"
    }
   },
   "outputs": [],
   "source": [
    "import pandas as pd\n",
    "import spacy\n",
    "nlp: spacy.Language = spacy.load(\"en_core_web_sm\")\n",
    "import seaborn as sns\n",
    "import matplotlib.pyplot as plt\n",
    "sns.set()\n",
    "\n",
    "# Load the data\n",
    "queries_df: pd.DataFrame = pd.read_csv('queries_400.tsv', sep='\\t')\n",
    "documents_df: pd.DataFrame = pd.read_csv('documents_400.tsv', sep='\\t')\n",
    "mapping_df: pd.DataFrame = pd.read_csv('mapping_400.tsv', sep='\\t')"
   ]
  },
  {
   "cell_type": "code",
   "execution_count": 66,
   "metadata": {
    "ExecuteTime": {
     "end_time": "2022-12-13T21:49:36.760127Z",
     "start_time": "2022-12-13T21:49:36.745585Z"
    }
   },
   "outputs": [
    {
     "data": {
      "text/html": [
       "<div>\n",
       "<style scoped>\n",
       "    .dataframe tbody tr th:only-of-type {\n",
       "        vertical-align: middle;\n",
       "    }\n",
       "\n",
       "    .dataframe tbody tr th {\n",
       "        vertical-align: top;\n",
       "    }\n",
       "\n",
       "    .dataframe thead th {\n",
       "        text-align: right;\n",
       "    }\n",
       "</style>\n",
       "<table border=\"1\" class=\"dataframe\">\n",
       "  <thead>\n",
       "    <tr style=\"text-align: right;\">\n",
       "      <th></th>\n",
       "      <th>id</th>\n",
       "      <th>query</th>\n",
       "    </tr>\n",
       "  </thead>\n",
       "  <tbody>\n",
       "    <tr>\n",
       "      <th>0</th>\n",
       "      <td>1</td>\n",
       "      <td>What problems and concerns are there in making...</td>\n",
       "    </tr>\n",
       "    <tr>\n",
       "      <th>1</th>\n",
       "      <td>11</td>\n",
       "      <td>What is the need for information consolidation...</td>\n",
       "    </tr>\n",
       "    <tr>\n",
       "      <th>2</th>\n",
       "      <td>13</td>\n",
       "      <td>What criteria have been developed for the obje...</td>\n",
       "    </tr>\n",
       "    <tr>\n",
       "      <th>3</th>\n",
       "      <td>15</td>\n",
       "      <td>How much do information retrieval and dissemin...</td>\n",
       "    </tr>\n",
       "    <tr>\n",
       "      <th>4</th>\n",
       "      <td>19</td>\n",
       "      <td>Techniques of machine matching and machine sea...</td>\n",
       "    </tr>\n",
       "    <tr>\n",
       "      <th>5</th>\n",
       "      <td>20</td>\n",
       "      <td>Testing automated information systems.</td>\n",
       "    </tr>\n",
       "    <tr>\n",
       "      <th>6</th>\n",
       "      <td>22</td>\n",
       "      <td>Automated information in the medical field.</td>\n",
       "    </tr>\n",
       "    <tr>\n",
       "      <th>7</th>\n",
       "      <td>23</td>\n",
       "      <td>Amount of use of books in libraries. Relation ...</td>\n",
       "    </tr>\n",
       "    <tr>\n",
       "      <th>8</th>\n",
       "      <td>26</td>\n",
       "      <td>Cost and determination of cost associated with...</td>\n",
       "    </tr>\n",
       "    <tr>\n",
       "      <th>9</th>\n",
       "      <td>27</td>\n",
       "      <td>Computerized information retrieval systems.  C...</td>\n",
       "    </tr>\n",
       "    <tr>\n",
       "      <th>10</th>\n",
       "      <td>28</td>\n",
       "      <td>Computerized information systems in fields rel...</td>\n",
       "    </tr>\n",
       "    <tr>\n",
       "      <th>11</th>\n",
       "      <td>29</td>\n",
       "      <td>Specific advantages of computerized index syst...</td>\n",
       "    </tr>\n",
       "    <tr>\n",
       "      <th>12</th>\n",
       "      <td>30</td>\n",
       "      <td>Information dissemination by journals and peri...</td>\n",
       "    </tr>\n",
       "    <tr>\n",
       "      <th>13</th>\n",
       "      <td>31</td>\n",
       "      <td>Information systems in the physical sciences.</td>\n",
       "    </tr>\n",
       "    <tr>\n",
       "      <th>14</th>\n",
       "      <td>32</td>\n",
       "      <td>Attempts at computerized and mechanized system...</td>\n",
       "    </tr>\n",
       "    <tr>\n",
       "      <th>15</th>\n",
       "      <td>34</td>\n",
       "      <td>Methods of coding used in computerized index s...</td>\n",
       "    </tr>\n",
       "    <tr>\n",
       "      <th>16</th>\n",
       "      <td>35</td>\n",
       "      <td>Government supported agencies and projects dea...</td>\n",
       "    </tr>\n",
       "    <tr>\n",
       "      <th>17</th>\n",
       "      <td>44</td>\n",
       "      <td>There are presently fifty to one hundred techn...</td>\n",
       "    </tr>\n",
       "    <tr>\n",
       "      <th>18</th>\n",
       "      <td>45</td>\n",
       "      <td>I am looking for information about the impact ...</td>\n",
       "    </tr>\n",
       "    <tr>\n",
       "      <th>19</th>\n",
       "      <td>46</td>\n",
       "      <td>I am seeking information on the use of data pr...</td>\n",
       "    </tr>\n",
       "    <tr>\n",
       "      <th>20</th>\n",
       "      <td>49</td>\n",
       "      <td>Most resources have been spent on applying inf...</td>\n",
       "    </tr>\n",
       "    <tr>\n",
       "      <th>21</th>\n",
       "      <td>50</td>\n",
       "      <td>Is there any use for traditional classificatio...</td>\n",
       "    </tr>\n",
       "    <tr>\n",
       "      <th>22</th>\n",
       "      <td>54</td>\n",
       "      <td>What is the effect on librarians of automation...</td>\n",
       "    </tr>\n",
       "    <tr>\n",
       "      <th>23</th>\n",
       "      <td>76</td>\n",
       "      <td>This paper discusses the origins of library ne...</td>\n",
       "    </tr>\n",
       "    <tr>\n",
       "      <th>24</th>\n",
       "      <td>90</td>\n",
       "      <td>Many information scientists are concerned with...</td>\n",
       "    </tr>\n",
       "    <tr>\n",
       "      <th>25</th>\n",
       "      <td>92</td>\n",
       "      <td>The number of databases, records contained in ...</td>\n",
       "    </tr>\n",
       "    <tr>\n",
       "      <th>26</th>\n",
       "      <td>109</td>\n",
       "      <td>It is shown that the mapping of a particular a...</td>\n",
       "    </tr>\n",
       "  </tbody>\n",
       "</table>\n",
       "</div>"
      ],
      "text/plain": [
       "     id                                              query\n",
       "0     1  What problems and concerns are there in making...\n",
       "1    11  What is the need for information consolidation...\n",
       "2    13  What criteria have been developed for the obje...\n",
       "3    15  How much do information retrieval and dissemin...\n",
       "4    19  Techniques of machine matching and machine sea...\n",
       "5    20             Testing automated information systems.\n",
       "6    22        Automated information in the medical field.\n",
       "7    23  Amount of use of books in libraries. Relation ...\n",
       "8    26  Cost and determination of cost associated with...\n",
       "9    27  Computerized information retrieval systems.  C...\n",
       "10   28  Computerized information systems in fields rel...\n",
       "11   29  Specific advantages of computerized index syst...\n",
       "12   30  Information dissemination by journals and peri...\n",
       "13   31      Information systems in the physical sciences.\n",
       "14   32  Attempts at computerized and mechanized system...\n",
       "15   34  Methods of coding used in computerized index s...\n",
       "16   35  Government supported agencies and projects dea...\n",
       "17   44  There are presently fifty to one hundred techn...\n",
       "18   45  I am looking for information about the impact ...\n",
       "19   46  I am seeking information on the use of data pr...\n",
       "20   49  Most resources have been spent on applying inf...\n",
       "21   50  Is there any use for traditional classificatio...\n",
       "22   54  What is the effect on librarians of automation...\n",
       "23   76  This paper discusses the origins of library ne...\n",
       "24   90  Many information scientists are concerned with...\n",
       "25   92  The number of databases, records contained in ...\n",
       "26  109  It is shown that the mapping of a particular a..."
      ]
     },
     "execution_count": 66,
     "metadata": {},
     "output_type": "execute_result"
    }
   ],
   "source": [
    "queries_df"
   ]
  },
  {
   "cell_type": "code",
   "execution_count": 67,
   "metadata": {
    "ExecuteTime": {
     "end_time": "2022-12-13T21:49:37.114449Z",
     "start_time": "2022-12-13T21:49:37.105258Z"
    }
   },
   "outputs": [
    {
     "data": {
      "text/html": [
       "<div>\n",
       "<style scoped>\n",
       "    .dataframe tbody tr th:only-of-type {\n",
       "        vertical-align: middle;\n",
       "    }\n",
       "\n",
       "    .dataframe tbody tr th {\n",
       "        vertical-align: top;\n",
       "    }\n",
       "\n",
       "    .dataframe thead th {\n",
       "        text-align: right;\n",
       "    }\n",
       "</style>\n",
       "<table border=\"1\" class=\"dataframe\">\n",
       "  <thead>\n",
       "    <tr style=\"text-align: right;\">\n",
       "      <th></th>\n",
       "      <th>id</th>\n",
       "      <th>title</th>\n",
       "      <th>abstract</th>\n",
       "    </tr>\n",
       "  </thead>\n",
       "  <tbody>\n",
       "    <tr>\n",
       "      <th>0</th>\n",
       "      <td>58</td>\n",
       "      <td>Relevance Disagreements and Unclear Request Forms</td>\n",
       "      <td>Disagreements about the relevance of documents...</td>\n",
       "    </tr>\n",
       "    <tr>\n",
       "      <th>1</th>\n",
       "      <td>887</td>\n",
       "      <td>COM Catalog Based on OCLC Records</td>\n",
       "      <td>The production of a COM catalog using OCLC rec...</td>\n",
       "    </tr>\n",
       "    <tr>\n",
       "      <th>2</th>\n",
       "      <td>235</td>\n",
       "      <td>Book Catalogs</td>\n",
       "      <td>In the intervening years since the appearance ...</td>\n",
       "    </tr>\n",
       "    <tr>\n",
       "      <th>3</th>\n",
       "      <td>1435</td>\n",
       "      <td>International Standardization of Cataloguing a...</td>\n",
       "      <td>The ILFA Committee on Cataloguing has been at ...</td>\n",
       "    </tr>\n",
       "    <tr>\n",
       "      <th>4</th>\n",
       "      <td>675</td>\n",
       "      <td>Atom-by-Atom Typewriter Input for Computerized...</td>\n",
       "      <td>Novel features have been added to a paper tape...</td>\n",
       "    </tr>\n",
       "    <tr>\n",
       "      <th>...</th>\n",
       "      <td>...</td>\n",
       "      <td>...</td>\n",
       "      <td>...</td>\n",
       "    </tr>\n",
       "    <tr>\n",
       "      <th>395</th>\n",
       "      <td>260</td>\n",
       "      <td>Classification Practice in Britain.  Report on...</td>\n",
       "      <td>The objectives of the Sub-Committee in startin...</td>\n",
       "    </tr>\n",
       "    <tr>\n",
       "      <th>396</th>\n",
       "      <td>148</td>\n",
       "      <td>Fair (Fast Access Information Retrieval) Proje...</td>\n",
       "      <td>I am going to describe in general terms a rese...</td>\n",
       "    </tr>\n",
       "    <tr>\n",
       "      <th>397</th>\n",
       "      <td>135</td>\n",
       "      <td>Design of Information Systems and Services</td>\n",
       "      <td>This review has selected for emphasis reports ...</td>\n",
       "    </tr>\n",
       "    <tr>\n",
       "      <th>398</th>\n",
       "      <td>830</td>\n",
       "      <td>Progress in Documentation</td>\n",
       "      <td>This article reviews the state of the art in a...</td>\n",
       "    </tr>\n",
       "    <tr>\n",
       "      <th>399</th>\n",
       "      <td>1294</td>\n",
       "      <td>Automatic Text Analysis</td>\n",
       "      <td>In this article the principal experiments in a...</td>\n",
       "    </tr>\n",
       "  </tbody>\n",
       "</table>\n",
       "<p>400 rows × 3 columns</p>\n",
       "</div>"
      ],
      "text/plain": [
       "       id                                              title  \\\n",
       "0      58  Relevance Disagreements and Unclear Request Forms   \n",
       "1     887                  COM Catalog Based on OCLC Records   \n",
       "2     235                                      Book Catalogs   \n",
       "3    1435  International Standardization of Cataloguing a...   \n",
       "4     675  Atom-by-Atom Typewriter Input for Computerized...   \n",
       "..    ...                                                ...   \n",
       "395   260  Classification Practice in Britain.  Report on...   \n",
       "396   148  Fair (Fast Access Information Retrieval) Proje...   \n",
       "397   135         Design of Information Systems and Services   \n",
       "398   830                          Progress in Documentation   \n",
       "399  1294                            Automatic Text Analysis   \n",
       "\n",
       "                                              abstract  \n",
       "0    Disagreements about the relevance of documents...  \n",
       "1    The production of a COM catalog using OCLC rec...  \n",
       "2    In the intervening years since the appearance ...  \n",
       "3    The ILFA Committee on Cataloguing has been at ...  \n",
       "4    Novel features have been added to a paper tape...  \n",
       "..                                                 ...  \n",
       "395  The objectives of the Sub-Committee in startin...  \n",
       "396  I am going to describe in general terms a rese...  \n",
       "397  This review has selected for emphasis reports ...  \n",
       "398  This article reviews the state of the art in a...  \n",
       "399  In this article the principal experiments in a...  \n",
       "\n",
       "[400 rows x 3 columns]"
      ]
     },
     "execution_count": 67,
     "metadata": {},
     "output_type": "execute_result"
    }
   ],
   "source": [
    "documents_df"
   ]
  },
  {
   "cell_type": "code",
   "execution_count": 68,
   "metadata": {
    "ExecuteTime": {
     "end_time": "2022-12-13T21:49:37.503550Z",
     "start_time": "2022-12-13T21:49:37.495986Z"
    }
   },
   "outputs": [
    {
     "data": {
      "text/html": [
       "<div>\n",
       "<style scoped>\n",
       "    .dataframe tbody tr th:only-of-type {\n",
       "        vertical-align: middle;\n",
       "    }\n",
       "\n",
       "    .dataframe tbody tr th {\n",
       "        vertical-align: top;\n",
       "    }\n",
       "\n",
       "    .dataframe thead th {\n",
       "        text-align: right;\n",
       "    }\n",
       "</style>\n",
       "<table border=\"1\" class=\"dataframe\">\n",
       "  <thead>\n",
       "    <tr style=\"text-align: right;\">\n",
       "      <th></th>\n",
       "      <th>query_id</th>\n",
       "      <th>doc_id</th>\n",
       "    </tr>\n",
       "  </thead>\n",
       "  <tbody>\n",
       "    <tr>\n",
       "      <th>0</th>\n",
       "      <td>1</td>\n",
       "      <td>43</td>\n",
       "    </tr>\n",
       "    <tr>\n",
       "      <th>1</th>\n",
       "      <td>1</td>\n",
       "      <td>192</td>\n",
       "    </tr>\n",
       "    <tr>\n",
       "      <th>2</th>\n",
       "      <td>1</td>\n",
       "      <td>215</td>\n",
       "    </tr>\n",
       "    <tr>\n",
       "      <th>3</th>\n",
       "      <td>1</td>\n",
       "      <td>320</td>\n",
       "    </tr>\n",
       "    <tr>\n",
       "      <th>4</th>\n",
       "      <td>1</td>\n",
       "      <td>482</td>\n",
       "    </tr>\n",
       "    <tr>\n",
       "      <th>...</th>\n",
       "      <td>...</td>\n",
       "      <td>...</td>\n",
       "    </tr>\n",
       "    <tr>\n",
       "      <th>600</th>\n",
       "      <td>109</td>\n",
       "      <td>1285</td>\n",
       "    </tr>\n",
       "    <tr>\n",
       "      <th>601</th>\n",
       "      <td>109</td>\n",
       "      <td>1304</td>\n",
       "    </tr>\n",
       "    <tr>\n",
       "      <th>602</th>\n",
       "      <td>109</td>\n",
       "      <td>1341</td>\n",
       "    </tr>\n",
       "    <tr>\n",
       "      <th>603</th>\n",
       "      <td>109</td>\n",
       "      <td>1344</td>\n",
       "    </tr>\n",
       "    <tr>\n",
       "      <th>604</th>\n",
       "      <td>109</td>\n",
       "      <td>1380</td>\n",
       "    </tr>\n",
       "  </tbody>\n",
       "</table>\n",
       "<p>605 rows × 2 columns</p>\n",
       "</div>"
      ],
      "text/plain": [
       "     query_id  doc_id\n",
       "0           1      43\n",
       "1           1     192\n",
       "2           1     215\n",
       "3           1     320\n",
       "4           1     482\n",
       "..        ...     ...\n",
       "600       109    1285\n",
       "601       109    1304\n",
       "602       109    1341\n",
       "603       109    1344\n",
       "604       109    1380\n",
       "\n",
       "[605 rows x 2 columns]"
      ]
     },
     "execution_count": 68,
     "metadata": {},
     "output_type": "execute_result"
    }
   ],
   "source": [
    "mapping_df"
   ]
  },
  {
   "cell_type": "markdown",
   "metadata": {
    "deletable": false,
    "editable": false,
    "nbgrader": {
     "cell_type": "markdown",
     "checksum": "fffdaae7bd479078b75e5c35d554169d",
     "grade": false,
     "grade_id": "cell-bf092018921c8d69",
     "locked": true,
     "schema_version": 3,
     "solution": false,
     "task": false
    }
   },
   "source": [
    "Furthermore, we take a more thorough look at the query with `id=13`:"
   ]
  },
  {
   "cell_type": "code",
   "execution_count": 69,
   "metadata": {
    "ExecuteTime": {
     "end_time": "2022-12-13T21:49:38.236792Z",
     "start_time": "2022-12-13T21:49:38.225538Z"
    }
   },
   "outputs": [
    {
     "name": "stdout",
     "output_type": "stream",
     "text": [
      "Claim: What criteria have been developed for the objective evaluation of information retrieval and dissemination systems? \n",
      "\n",
      "Relevant documents:\n",
      "* Adaptive Information Dissemination\n",
      "* Opinion Paper\n",
      "* MEDLARS: Report on the Evaluation of Its Operating Efficiency\n",
      "* The Effectiveness of Automatically Generated Weights and Links in Mechanical Indexing\n",
      "* Design and Evaluation of Information Systems\n",
      "* Criteria for Evaluating Technical Library Effectiveness\n",
      "* Document Delivery Capabilities of Major Biomedical Libraries in 1968: Results of a National Survey Employing Standardized Tests\n",
      "* The SMART Automatic Document Retrieval System - An Illustration\n",
      "* Communication among Scientists and Engineers\n",
      "* Relevance Assessments and Retrieval System Evaluation\n",
      "* The Cost_Performance of an On-Line, Free-Text Bibliographic Retrieval System\n",
      "* Selected Results From An Inquiry Into Testing of Information Retrieval Systems\n",
      "* Measures of the Usefulness of Written Technical Information to Chemical Researchers\n",
      "* Computerized Drug Information services\n",
      "* The CA Integrated Subject File.  II. Evaluation of Alternative Data Base Organizations\n",
      "* Comparative Searching of Computer Data Bases\n",
      "* A Selective Current-Awareness System Using Engineering Index's Plastics Data Base.  II. Performance\n",
      "* Evaluation of an SDI Service Based on the Index Chemicus Registry System\n",
      "* The Parametric Description of Retrieval Tests Part I: The Basic Parameters\n",
      "* User Evaluation of Information Retrieval Systems\n",
      "* Some Aspects of Developing and Studying a Descriptor Information Language for General Technology\n",
      "* Evaluation of Information Loss Probability in Indexing\n",
      "* Automatic Indexing\n",
      "\n",
      "In total: 23\n"
     ]
    }
   ],
   "source": [
    "# Find claim and titles for query\n",
    "_id: int = 13\n",
    "print('Claim:', queries_df[queries_df['id'] == _id].iloc[0]['query'], '\\n')\n",
    "\n",
    "relevant_articles_df: pd.DataFrame = documents_df.merge(mapping_df, left_on='id', right_on='doc_id')\n",
    "relevant_titles: pd.DataFrame = relevant_articles_df[relevant_articles_df['query_id'] == _id]\n",
    "\n",
    "# Sort\n",
    "relevant_titles = relevant_titles.sort_values(by='id')\n",
    "\n",
    "print('Relevant documents:')\n",
    "for title in relevant_titles.loc[:, 'title']:\n",
    "    print('*', title)\n",
    "    \n",
    "print('\\nIn total:', len(relevant_titles))"
   ]
  },
  {
   "cell_type": "markdown",
   "metadata": {
    "deletable": false,
    "editable": false,
    "nbgrader": {
     "cell_type": "markdown",
     "checksum": "37e33fc02039679462fcb79504dbc909",
     "grade": false,
     "grade_id": "cell-31204ec425b3d336",
     "locked": true,
     "schema_version": 3,
     "solution": false,
     "task": false
    }
   },
   "source": [
    "### Visualisation\n",
    "\n",
    "Visualizing the data can help to summarize textual information in a meaningful and compact way. We use seaborn in this case to visualize the amount of relevant documents per query:"
   ]
  },
  {
   "cell_type": "code",
   "execution_count": 70,
   "metadata": {
    "ExecuteTime": {
     "end_time": "2022-12-13T21:49:39.297990Z",
     "start_time": "2022-12-13T21:49:39.084904Z"
    }
   },
   "outputs": [
    {
     "data": {
      "image/png": "[encoded data removed]",
      "text/plain": [
       "<Figure size 640x480 with 1 Axes>"
      ]
     },
     "metadata": {},
     "output_type": "display_data"
    }
   ],
   "source": [
    "# Count relevant articles\n",
    "relevant_document_counts: pd.DataFrame = mapping_df.groupby(by='query_id').count().reset_index()\n",
    "relevant_document_counts['Number of relevant articles per query'] = relevant_document_counts['doc_id']\n",
    "    \n",
    "sns.histplot(relevant_document_counts, x='Number of relevant articles per query', binwidth=5)\n",
    "plt.show()"
   ]
  },
  {
   "cell_type": "markdown",
   "metadata": {
    "deletable": false,
    "editable": false,
    "nbgrader": {
     "cell_type": "markdown",
     "checksum": "2d62d04e35c08ddda6936f99b5d09893",
     "grade": false,
     "grade_id": "cell-e6e460392c796115",
     "locked": true,
     "schema_version": 3,
     "solution": false,
     "task": false
    }
   },
   "source": [
    "### The Tasks"
   ]
  },
  {
   "cell_type": "markdown",
   "metadata": {
    "deletable": false,
    "editable": false,
    "nbgrader": {
     "cell_type": "markdown",
     "checksum": "785fe24379fcd9fdfd07864431e2437a",
     "grade": false,
     "grade_id": "cell-b44793754858c43b",
     "locked": true,
     "schema_version": 3,
     "solution": false,
     "task": false
    }
   },
   "source": [
    "Task descriptions assume that you use pandas to store data."
   ]
  },
  {
   "cell_type": "markdown",
   "metadata": {
    "deletable": false,
    "editable": false,
    "nbgrader": {
     "cell_type": "markdown",
     "checksum": "3ea5fd452710fdcab254ea3cb53336a8",
     "grade": false,
     "grade_id": "cell-3f0a0884248465ce",
     "locked": true,
     "schema_version": 3,
     "solution": false,
     "task": false
    }
   },
   "source": [
    "**a)** (1 Point) Preprocessing:\n",
    "Use spaCy to lemmatize the queries and documents.\n",
    "* For queries, the `query` field must be lemmatized\n",
    "* For documents, the concatenation of `title` and `abstract` must be lemmatized. We combine both fields (`title` and `abstract`) to simplify IR, by applying it on this single text for documents.\n",
    "\n",
    "Store the lemmatized text in a separate column.\n",
    "\n",
    "* you don't have to apply other pre-processing such as lower-casing\n",
    "* you don't have to pay attention to cases which Spacy does not correctly lemmatize\n",
    "\n",
    "Finally output the preprocessed pd.DataFrame query and documents.\n"
   ]
  },
  {
   "cell_type": "code",
   "execution_count": 71,
   "metadata": {
    "ExecuteTime": {
     "end_time": "2022-12-13T21:49:41.179027Z",
     "start_time": "2022-12-13T21:49:41.173174Z"
    },
    "deletable": false,
    "nbgrader": {
     "cell_type": "code",
     "checksum": "e5589b6f1bf42ccf908b22f88ea61112",
     "grade": false,
     "grade_id": "cell-b95ef7f259bf9ccf",
     "locked": false,
     "schema_version": 3,
     "solution": true,
     "task": false
    }
   },
   "outputs": [],
   "source": [
    "from typing import Dict, List, Tuple, Mapping\n",
    "\n",
    "def preprocessing(queries: pd.DataFrame, documents: pd.DataFrame) -> tuple[pd.DataFrame, pd.DataFrame]:\n",
    "    \"\"\"\n",
    "    Use spaCy to lemmatize the queries and documents.\n",
    "    * For queries, the `query` field must be lemmatized\n",
    "    * For documents, the concatenation of `title` and `abstract` must be lemmatized. \n",
    "    We combine both fields (`title` and `abstract`) to simplify IR, by applying it on this single text for documents.\n",
    "\n",
    "    Store the lemmatized text in a separate column 'content' for both input.\n",
    "\n",
    "    * you don't have to apply other pre-processing such as lower-casing\n",
    "    * you don't have to pay attention to cases which Spacy does not correctly lemmatize\n",
    "\n",
    "    Finally output the preprocessed pd.DataFrame query and documents.\n",
    "    \n",
    "\n",
    "    :param queries: i.g. queries_df\n",
    "    :param documents: i.g. documents_df\n",
    "    :return queries: pd.DataFrame(pd.DataFrame.columns=['id', 'query', 'content'])\n",
    "            documents: pd.DataFrame(pd.DataFrame.columns=['id', 'title', 'abstract', 'content'])\n",
    "    \"\"\"\n",
    "    \n",
    "    queries['content'] = queries['query'].apply(lambda text: ' '.join([token.lemma_ for token in nlp(text)]))\n",
    "    documents['content'] = documents.apply(lambda row: ' '.join([token.lemma_ for token in nlp(row['title'] + ' ' + row['abstract'])]), axis=1)\n",
    "    \n",
    "\n",
    "\n",
    "    return queries, documents"
   ]
  },
  {
   "cell_type": "code",
   "execution_count": 72,
   "metadata": {
    "ExecuteTime": {
     "end_time": "2022-12-13T21:49:49.388229Z",
     "start_time": "2022-12-13T21:49:41.838088Z"
    },
    "deletable": false,
    "editable": false,
    "nbgrader": {
     "cell_type": "code",
     "checksum": "e1e7f76d257d0bbaad651329a95dc4dd",
     "grade": true,
     "grade_id": "cell-54edbbe95457f5e2",
     "locked": true,
     "points": 0.5,
     "schema_version": 3,
     "solution": false,
     "task": false
    }
   },
   "outputs": [],
   "source": [
    "# Test whether the preprocessing is corret\n",
    "# Don't delete any given cells in homework\n",
    "queries_proc, documents_proc = preprocessing(queries_df, documents_df)\n",
    "selector_1: pd.Series = documents_proc['id'] == 1255\n",
    "result_1 = documents_proc[selector_1].iloc[0]['content']\n",
    "selector_2: pd.Series = queries_proc['id'] == 11\n",
    "result_2 = queries_proc[selector_2].iloc[0]['content']\n",
    "assert \"Testing and Analysis\" in result_1\n",
    "assert \"this volum\" in result_1\n",
    "assert \"non - relevant\" in result_1\n",
    "assert \"what be the need\" in result_2\n",
    "assert \"research ?\" in result_2"
   ]
  },
  {
   "cell_type": "code",
   "execution_count": 73,
   "metadata": {
    "ExecuteTime": {
     "end_time": "2022-12-13T21:49:49.395053Z",
     "start_time": "2022-12-13T21:49:49.390830Z"
    },
    "deletable": false,
    "editable": false,
    "nbgrader": {
     "cell_type": "code",
     "checksum": "e70491c64a55dc8591c15115106904fc",
     "grade": true,
     "grade_id": "cell-c8d381d39e694954",
     "locked": true,
     "points": 0.5,
     "schema_version": 3,
     "solution": false,
     "task": false
    }
   },
   "outputs": [],
   "source": [
    "# Test whether  title+content is correct concatenated\n",
    "# Don't delete any given cells in homework\n",
    "assert \"Indexing Systems this volume continue\" in result_1"
   ]
  },
  {
   "cell_type": "markdown",
   "metadata": {
    "deletable": false,
    "editable": false,
    "nbgrader": {
     "cell_type": "markdown",
     "checksum": "66684767db16cd3bb51d6dc78630d8a6",
     "grade": false,
     "grade_id": "cell-9d831f97ac5983fa",
     "locked": true,
     "schema_version": 3,
     "solution": false,
     "task": false
    }
   },
   "source": [
    "**b)** (4 Points) In task 2 you had to implement TF-IDF on your own. However, sklearn already provides a very efficient implementation of this functionality. Therefore, you may use  [`TfidfVectorizer()`](https://scikit-learn.org/stable/modules/generated/sklearn.feature_extraction.text.TfidfVectorizer.html) in this task.\n",
    "\n",
    "Implement the function `compute_cosine_similarity_for_all`. It shall compute the cosine similarity of *all* queries with *all* documents, and add a label describing whether the document is relevant (`True`) to the query or not (`False`). It shall return a new dataframe and represent each `query`-`document` combination as one row.\n",
    "\n",
    "**Example output:**"
   ]
  },
  {
   "cell_type": "code",
   "execution_count": 74,
   "metadata": {
    "ExecuteTime": {
     "end_time": "2022-12-13T21:49:51.274147Z",
     "start_time": "2022-12-13T21:49:51.264138Z"
    }
   },
   "outputs": [
    {
     "data": {
      "text/html": [
       "<div>\n",
       "<style scoped>\n",
       "    .dataframe tbody tr th:only-of-type {\n",
       "        vertical-align: middle;\n",
       "    }\n",
       "\n",
       "    .dataframe tbody tr th {\n",
       "        vertical-align: top;\n",
       "    }\n",
       "\n",
       "    .dataframe thead th {\n",
       "        text-align: right;\n",
       "    }\n",
       "</style>\n",
       "<table border=\"1\" class=\"dataframe\">\n",
       "  <thead>\n",
       "    <tr style=\"text-align: right;\">\n",
       "      <th></th>\n",
       "      <th>query_id</th>\n",
       "      <th>document_id</th>\n",
       "      <th>document_title</th>\n",
       "      <th>query</th>\n",
       "      <th>similarity</th>\n",
       "      <th>is_relevant</th>\n",
       "    </tr>\n",
       "  </thead>\n",
       "  <tbody>\n",
       "    <tr>\n",
       "      <th>0</th>\n",
       "      <td>99</td>\n",
       "      <td>1</td>\n",
       "      <td>Learn about IR in NLP4Web</td>\n",
       "      <td>Where can I learn more about IR?</td>\n",
       "      <td>0.349</td>\n",
       "      <td>True</td>\n",
       "    </tr>\n",
       "    <tr>\n",
       "      <th>1</th>\n",
       "      <td>99</td>\n",
       "      <td>2</td>\n",
       "      <td>Learn about nursing somewhere else</td>\n",
       "      <td>Where can I learn more about IR?</td>\n",
       "      <td>0.025</td>\n",
       "      <td>False</td>\n",
       "    </tr>\n",
       "  </tbody>\n",
       "</table>\n",
       "</div>"
      ],
      "text/plain": [
       "   query_id  document_id                      document_title  \\\n",
       "0        99            1           Learn about IR in NLP4Web   \n",
       "1        99            2  Learn about nursing somewhere else   \n",
       "\n",
       "                              query  similarity  is_relevant  \n",
       "0  Where can I learn more about IR?       0.349         True  \n",
       "1  Where can I learn more about IR?       0.025        False  "
      ]
     },
     "execution_count": 74,
     "metadata": {},
     "output_type": "execute_result"
    }
   ],
   "source": [
    "pd.DataFrame({\n",
    "    'query_id': [99,99], # The same query is compared to ...\n",
    "    'document_id': [1,2], # ... different documents. In your case to all documents.\n",
    "    'document_title': ['Learn about IR in NLP4Web', 'Learn about nursing somewhere else'], # You can omit this - document_id is sufficient\n",
    "    'query': ['Where can I learn more about IR?'] * 2, # You can omit this - query_id is sufficient\n",
    "    'similarity': [0.349, 0.025], # Cosine similarity (These values are only an example and made up)\n",
    "    'is_relevant': [True, False] # Gold Labels\n",
    "})\n",
    "# For all combinations of (query, document)"
   ]
  },
  {
   "cell_type": "markdown",
   "metadata": {
    "deletable": false,
    "editable": false,
    "nbgrader": {
     "cell_type": "markdown",
     "checksum": "0155fbd9357eff26d3ab93469a32e63d",
     "grade": false,
     "grade_id": "cell-be008b36cdc14fbb",
     "locked": true,
     "schema_version": 3,
     "solution": false,
     "task": false
    }
   },
   "source": [
    "The function takes all data (queries, document, mapping) together with the vectorizer as input.\n",
    "* The vectorizer (`vectorizer`) is a vectorizer (such as [`TfidfVectorizer()`](https://scikit-learn.org/stable/modules/generated/sklearn.feature_extraction.text.TfidfVectorizer.html) from `sklearn`) and converts all texts into vectors.\n",
    "\n",
    "The method should:\n",
    "1. Fit the vectorizer *on the documents* (based on the preprocessed column).\n",
    "2. Compute the vectors for all *queries* using the vectorizer from (1).\n",
    "3. Compute the cosine similarity between all query- and all document-vectors. You can use the function [`cosine_similarity`](https://scikit-learn.org/stable/modules/generated/sklearn.metrics.pairwise.cosine_similarity.html) from `sklearn`.\n",
    "4. Add label `is_relevant` describing for each combination of query-document whether the document is relevant to the query or not. Note that this label is independent of the computed cosine similarity score (check mapping_400.tsv instead).\n",
    "5. Return the resulting dataframe. Make sure to include at least the ids for document and query, and the two newly introduced columns (`is_relevant`, `similarity`).\n",
    "\n",
    "Apply the function to all preprocessed queries and all documents using the `TfidfVectorizer()` from `sklearn`.\n",
    "\n",
    "Pay attention to whether fit method is used when the doc/query is verctrozied according to (1) and (2).\n",
    "\n",
    "Finally after the function is implemented, show the titles of the ten most similar articles together with the similarity score and relevance for the query with `id=13`."
   ]
  },
  {
   "cell_type": "code",
   "execution_count": 75,
   "metadata": {
    "ExecuteTime": {
     "end_time": "2022-12-13T21:49:53.315799Z",
     "start_time": "2022-12-13T21:49:53.069223Z"
    },
    "deletable": false,
    "nbgrader": {
     "cell_type": "code",
     "checksum": "cac6b3bb9ca9eafe38149fadce519238",
     "grade": false,
     "grade_id": "cell-8178175fa3ebcdab",
     "locked": false,
     "schema_version": 3,
     "solution": true,
     "task": false
    }
   },
   "outputs": [],
   "source": [
    "from sklearn.metrics.pairwise import cosine_similarity\n",
    "from sklearn.feature_extraction.text import TfidfVectorizer, CountVectorizer\n",
    "import collections\n",
    "import numpy as np\n",
    "from scipy.sparse import csr_matrix\n",
    "\n",
    "def compute_cosine_similarity_for_all(documents: pd.DataFrame, queries: pd.DataFrame, mapping: pd.DataFrame, \n",
    "                                      vectorizer: TfidfVectorizer) -> pd.DataFrame:\n",
    "\t\"\"\"Compute cosine similarity for all query-document pairs\n",
    "\n",
    "\t:param documents: structure that contains document content\n",
    "\t:param queries: structure that contains query content\n",
    "\t:param mapping: structure that that contains mapping between queries and relevant documents\n",
    "\t:param vectorizer: TfidfVectorizer\n",
    "\t:return: DataFrame that contains cosine similarity for all query-document pairs\n",
    "\t\t\t\t(see example output above for how the DataFrame should look like)\n",
    "\t\"\"\"\n",
    "\tresult = pd.DataFrame([],columns=['document_id', 'query_id', 'similarity', 'document_title', 'query',\n",
    "\t\t'is_relevant'])\n",
    "\n",
    "\tdoc_vectors = vectorizer.fit_transform(documents['content'])\n",
    "\tquery_vectors = vectorizer.transform(queries['content'])\n",
    "\tsimilarity_matrix = cosine_similarity(query_vectors, doc_vectors)\n",
    "\n",
    "\tdoc_query_pairs = []\n",
    "\n",
    "\tfor q_idx, q_row in queries.iterrows():\n",
    "\t\tfor d_idx, d_row in documents.iterrows():\n",
    "\t\t\tdoc_query_pairs.append({\n",
    "\t\t\t\t'document_id': d_row['id'],\n",
    "\t\t\t\t'query_id': q_row['id'],\n",
    "\t\t\t\t'similarity': similarity_matrix[q_idx, d_idx],\n",
    "\t\t\t\t'document_title': d_row['title'],\n",
    "\t\t\t\t'query': q_row['query'],\n",
    "\t\t\t\t'is_relevant': mapping[(mapping['query_id'] == q_row['id']) & (mapping['doc_id'] == d_row['id'])].any().any()\n",
    "\t\t\t})\n",
    "\n",
    "\n",
    "\tresult = pd.DataFrame.from_records(doc_query_pairs)\n",
    "\treturn result\n",
    "\n",
    "similarity_results: pd.DataFrame = compute_cosine_similarity_for_all(documents_df, queries_df, mapping_df, \n",
    "                                                                     TfidfVectorizer())"
   ]
  },
  {
   "cell_type": "code",
   "execution_count": 76,
   "metadata": {
    "ExecuteTime": {
     "end_time": "2022-12-13T21:49:54.173766Z",
     "start_time": "2022-12-13T21:49:54.161538Z"
    },
    "deletable": false,
    "nbgrader": {
     "cell_type": "code",
     "checksum": "c6eb3332acbbb1fe292425eecd8c8c29",
     "grade": true,
     "grade_id": "cell-41c1e67418758410",
     "locked": false,
     "points": 0.5,
     "schema_version": 3,
     "solution": true,
     "task": false
    }
   },
   "outputs": [
    {
     "data": {
      "text/html": [
       "<div>\n",
       "<style scoped>\n",
       "    .dataframe tbody tr th:only-of-type {\n",
       "        vertical-align: middle;\n",
       "    }\n",
       "\n",
       "    .dataframe tbody tr th {\n",
       "        vertical-align: top;\n",
       "    }\n",
       "\n",
       "    .dataframe thead th {\n",
       "        text-align: right;\n",
       "    }\n",
       "</style>\n",
       "<table border=\"1\" class=\"dataframe\">\n",
       "  <thead>\n",
       "    <tr style=\"text-align: right;\">\n",
       "      <th></th>\n",
       "      <th>document_title</th>\n",
       "      <th>similarity</th>\n",
       "      <th>is_relevant</th>\n",
       "    </tr>\n",
       "  </thead>\n",
       "  <tbody>\n",
       "    <tr>\n",
       "      <th>848</th>\n",
       "      <td>What Information Dissemination Studies Imply C...</td>\n",
       "      <td>0.323495</td>\n",
       "      <td>False</td>\n",
       "    </tr>\n",
       "    <tr>\n",
       "      <th>1114</th>\n",
       "      <td>Popper's Mystification of Objective Knowledge</td>\n",
       "      <td>0.256192</td>\n",
       "      <td>False</td>\n",
       "    </tr>\n",
       "    <tr>\n",
       "      <th>1033</th>\n",
       "      <td>Data Retrieval Systems:  Specifics and Problems</td>\n",
       "      <td>0.254160</td>\n",
       "      <td>False</td>\n",
       "    </tr>\n",
       "    <tr>\n",
       "      <th>844</th>\n",
       "      <td>Computerized Information Retrieval Services (A...</td>\n",
       "      <td>0.249343</td>\n",
       "      <td>False</td>\n",
       "    </tr>\n",
       "    <tr>\n",
       "      <th>881</th>\n",
       "      <td>Integrated Information Processing and the Case...</td>\n",
       "      <td>0.241295</td>\n",
       "      <td>False</td>\n",
       "    </tr>\n",
       "    <tr>\n",
       "      <th>934</th>\n",
       "      <td>Evaluation of an SDI Service Based on the Inde...</td>\n",
       "      <td>0.224712</td>\n",
       "      <td>True</td>\n",
       "    </tr>\n",
       "    <tr>\n",
       "      <th>1197</th>\n",
       "      <td>Design of Information Systems and Services</td>\n",
       "      <td>0.223568</td>\n",
       "      <td>False</td>\n",
       "    </tr>\n",
       "    <tr>\n",
       "      <th>1193</th>\n",
       "      <td>Adaptive Information Dissemination</td>\n",
       "      <td>0.216437</td>\n",
       "      <td>True</td>\n",
       "    </tr>\n",
       "    <tr>\n",
       "      <th>1084</th>\n",
       "      <td>Opinion Paper</td>\n",
       "      <td>0.216309</td>\n",
       "      <td>True</td>\n",
       "    </tr>\n",
       "    <tr>\n",
       "      <th>1095</th>\n",
       "      <td>The Cost_Performance of an On-Line, Free-Text ...</td>\n",
       "      <td>0.216030</td>\n",
       "      <td>True</td>\n",
       "    </tr>\n",
       "  </tbody>\n",
       "</table>\n",
       "</div>"
      ],
      "text/plain": [
       "                                         document_title  similarity  \\\n",
       "848   What Information Dissemination Studies Imply C...    0.323495   \n",
       "1114      Popper's Mystification of Objective Knowledge    0.256192   \n",
       "1033    Data Retrieval Systems:  Specifics and Problems    0.254160   \n",
       "844   Computerized Information Retrieval Services (A...    0.249343   \n",
       "881   Integrated Information Processing and the Case...    0.241295   \n",
       "934   Evaluation of an SDI Service Based on the Inde...    0.224712   \n",
       "1197         Design of Information Systems and Services    0.223568   \n",
       "1193                 Adaptive Information Dissemination    0.216437   \n",
       "1084                                      Opinion Paper    0.216309   \n",
       "1095  The Cost_Performance of an On-Line, Free-Text ...    0.216030   \n",
       "\n",
       "      is_relevant  \n",
       "848         False  \n",
       "1114        False  \n",
       "1033        False  \n",
       "844         False  \n",
       "881         False  \n",
       "934          True  \n",
       "1197        False  \n",
       "1193         True  \n",
       "1084         True  \n",
       "1095         True  "
      ]
     },
     "execution_count": 76,
     "metadata": {},
     "output_type": "execute_result"
    }
   ],
   "source": [
    "\"\"\"\n",
    "Show/print the titles of the ten most similar articles together with the similarity score and \n",
    "relevance for the query with `id=13`.\n",
    "\"\"\"\n",
    "# Don't delete any given cells in homework\n",
    "similarity_results[similarity_results['query_id']==13].sort_values(by='similarity', ascending=False)[:10][['document_title', 'similarity', 'is_relevant']]"
   ]
  },
  {
   "cell_type": "code",
   "execution_count": 77,
   "metadata": {
    "ExecuteTime": {
     "end_time": "2022-12-13T21:51:36.218472Z",
     "start_time": "2022-12-13T21:51:36.202170Z"
    },
    "deletable": false,
    "editable": false,
    "nbgrader": {
     "cell_type": "code",
     "checksum": "1e48dfb7641ef75c1d2edae18eb2676f",
     "grade": true,
     "grade_id": "cell-5e162f7eb91f5205",
     "locked": true,
     "points": 0.5,
     "schema_version": 3,
     "solution": false,
     "task": false
    }
   },
   "outputs": [],
   "source": [
    "# Test whether the columns of returned dataframe meets the requirement\n",
    "assert (similarity_results.columns == ['document_id', 'query_id', 'similarity', 'document_title', 'query',\n",
    "       'is_relevant']).all()\n",
    "\n",
    "# Test whether 'is_relevant' column is correct.\n",
    "# Don't delete any given cells in homework\n",
    "assert similarity_results[(similarity_results['query_id']==13)& \\\n",
    "                          (similarity_results['document_id']==611)].is_relevant.item() == False\n",
    "assert similarity_results[(similarity_results['query_id']==13)& \\\n",
    "                          (similarity_results['document_id']==1314)].is_relevant.item() == False\n",
    "assert similarity_results[(similarity_results['query_id']==13)& \\\n",
    "                          (similarity_results['document_id']==1078)].is_relevant.item() == False\n",
    "assert similarity_results[(similarity_results['query_id']==13)& \\\n",
    "                          (similarity_results['document_id']==731)].is_relevant.item() == True\n",
    "assert similarity_results[(similarity_results['query_id']==15)& \\\n",
    "                          (similarity_results['document_id']==611)].is_relevant.item() == False\n",
    "assert similarity_results[(similarity_results['query_id']==15)& \\\n",
    "                          (similarity_results['document_id']==255)].is_relevant.item() == False\n",
    "assert similarity_results[(similarity_results['query_id']==15)& \\\n",
    "                          (similarity_results['document_id']==437)].is_relevant.item() == False\n",
    "assert similarity_results[(similarity_results['query_id']==15)& \\\n",
    "                          (similarity_results['document_id']==1353)].is_relevant.item() == True"
   ]
  },
  {
   "cell_type": "code",
   "execution_count": 78,
   "metadata": {
    "ExecuteTime": {
     "end_time": "2022-12-13T21:51:36.744495Z",
     "start_time": "2022-12-13T21:51:36.725846Z"
    },
    "deletable": false,
    "editable": false,
    "nbgrader": {
     "cell_type": "code",
     "checksum": "e167c326fd98c7b9ad95337312014121",
     "grade": true,
     "grade_id": "cell-857cfbdf94cfc4b6",
     "locked": true,
     "points": 3,
     "schema_version": 3,
     "solution": false,
     "task": false
    }
   },
   "outputs": [],
   "source": [
    "# Test whether similarity is correct computed\n",
    "# Don't delete any given cells in homework\n",
    "assert (abs(similarity_results[(similarity_results['query_id']==13)& \\\n",
    "           (similarity_results['document_id']==611)]['similarity'] - 0.323494)<1e-6).item()\n",
    "assert (abs(similarity_results[(similarity_results['query_id']==13)& \\\n",
    "           (similarity_results['document_id']==1314)]['similarity'] - 0.256191)<1e-6).item()\n",
    "assert (abs(similarity_results[(similarity_results['query_id']==13)& \\\n",
    "           (similarity_results['document_id']==1078)]['similarity'] - 0.249343)<1e-6).item()\n",
    "assert (abs(similarity_results[(similarity_results['query_id']==13)& \\\n",
    "           (similarity_results['document_id']==1136)]['similarity'] - 0.25416)<1e-6).item()\n",
    "assert (abs(similarity_results[(similarity_results['query_id']==15)& \\\n",
    "           (similarity_results['document_id']==611)]['similarity'] - 0.237655)<1e-6).item()\n",
    "assert (abs(similarity_results[(similarity_results['query_id']==15)& \\\n",
    "           (similarity_results['document_id']==255)]['similarity'] - 0.228251)<1e-6).item()\n",
    "assert (abs(similarity_results[(similarity_results['query_id']==15)& \\\n",
    "           (similarity_results['document_id']==437)]['similarity'] - 0.221161)<1e-6).item()\n",
    "assert (abs(similarity_results[(similarity_results['query_id']==15)& \\\n",
    "           (similarity_results['document_id']==979)]['similarity'] - 0.190624)<1e-6).item()"
   ]
  },
  {
   "cell_type": "markdown",
   "metadata": {
    "deletable": false,
    "editable": false,
    "nbgrader": {
     "cell_type": "markdown",
     "checksum": "7c779fe82cdca11b000205f9ec04926c",
     "grade": false,
     "grade_id": "cell-ce3906469f703ffc",
     "locked": true,
     "schema_version": 3,
     "solution": false,
     "task": false
    }
   },
   "source": [
    "**c)** (3 Points) Implement the function `precision_recall` to compute precision and recall for every row from the results of 3b). Precision and recall should be computed as discussed in the lecture for the P-R curve (without interpolation): Compute both metrics for each of the steps (top $1$ results, top $2$ results, ...., top $n$ results) and for each query (not aggregated yet). Assume that documents are ranked/retrieved according to the similarity score. Add the precision and recall values to the dataframe (or similar).\n",
    "\n",
    "The input to this function should be the resulting dataframe from 3b). Apply it on the data.\n",
    "\n",
    "Compare with dataframe from 3b), the output of 3c) function has two addtional columns(i.e. 'precision', 'recall')\n",
    "\n",
    "Finally, show (similar to 3b) the top 10 results for the query with `id=13` together with the precision and recall metrics."
   ]
  },
  {
   "cell_type": "code",
   "execution_count": 89,
   "metadata": {
    "ExecuteTime": {
     "end_time": "2022-12-13T21:51:39.897103Z",
     "start_time": "2022-12-13T21:51:37.373553Z"
    },
    "deletable": false,
    "nbgrader": {
     "cell_type": "code",
     "checksum": "6fead0df1f17790e63c5b72d9a579baf",
     "grade": false,
     "grade_id": "cell-d6e6ca13a8e184d1",
     "locked": false,
     "schema_version": 3,
     "solution": true,
     "task": false
    }
   },
   "outputs": [
    {
     "name": "stderr",
     "output_type": "stream",
     "text": [
      "C:\\Users\\janku\\AppData\\Local\\Temp\\ipykernel_28968\\633001388.py:30: FutureWarning: The behavior of DataFrame concatenation with empty or all-NA entries is deprecated. In a future version, this will no longer exclude empty or all-NA columns when determining the result dtypes. To retain the old behavior, exclude the relevant entries before the concat operation.\n",
      "  result = pd.concat([result, group])\n"
     ]
    }
   ],
   "source": [
    "def precision_recall(similarity_results: pd.DataFrame) -> pd.DataFrame:\n",
    "    \"\"\"Compute precision and recall for each query for each of the steps (top 1 results, ...., top 𝑛 results)\n",
    "    \n",
    "    :param similarity_results: resulting DataFrame from 3b)\n",
    "                               (contains information from all queries and not only the information from the query\n",
    "                                with id=13)\n",
    "    :return: structure that contains precision and recall for each query for each of the steps                      \n",
    "    \"\"\"\n",
    "    result = pd.DataFrame([], columns=['document_id', 'query_id', 'similarity', 'document_title', 'query', 'is_relevant', 'precision', 'recall'])\n",
    "\n",
    "    # Sort the results by query_id and similarity\n",
    "    sorted_results = similarity_results.sort_values(['query_id', 'similarity'], ascending=[True, False])\n",
    "\n",
    "    for query_id, group in sorted_results.groupby('query_id'):\n",
    "        relevant_docs = group['is_relevant'].sum()\n",
    "        relevant_found = 0\n",
    "\n",
    "        # Initializing columns for precision and recall\n",
    "        group = group.copy()\n",
    "        group['precision'] = 0.0\n",
    "        group['recall'] = 0.0\n",
    "\n",
    "        for index, (idx, row) in enumerate(group.iterrows()):\n",
    "            relevant_found += row['is_relevant']\n",
    "            precision = relevant_found / (index + 1)\n",
    "            recall = relevant_found / relevant_docs if relevant_docs > 0 else 0\n",
    "            group.at[idx, 'precision'] = precision\n",
    "            group.at[idx, 'recall'] = recall\n",
    "\n",
    "        result = pd.concat([result, group])\n",
    "\n",
    "    return result\n",
    "\n",
    "similarity_results: pd.DataFrame = compute_cosine_similarity_for_all(documents_df, queries_df, mapping_df, \n",
    "                                                                     TfidfVectorizer())\n",
    "pr_similarity_results: pd.DataFrame = precision_recall(similarity_results)"
   ]
  },
  {
   "cell_type": "code",
   "execution_count": 90,
   "metadata": {
    "ExecuteTime": {
     "end_time": "2022-12-13T21:51:39.910386Z",
     "start_time": "2022-12-13T21:51:39.899470Z"
    },
    "deletable": false,
    "nbgrader": {
     "cell_type": "code",
     "checksum": "5885974047745eec8cba6258bff1c089",
     "grade": true,
     "grade_id": "cell-2cf275aef382dca8",
     "locked": false,
     "points": 0.5,
     "schema_version": 3,
     "solution": true,
     "task": false
    }
   },
   "outputs": [
    {
     "name": "stdout",
     "output_type": "stream",
     "text": [
      "Following will be the output for query_id 13:\n",
      "\n",
      "Document ID: 611, Similarity: 0.323, Precision: 0.000, Recall: 0.000, Is Relevant: False\n",
      "Document ID: 1314, Similarity: 0.256, Precision: 0.000, Recall: 0.000, Is Relevant: False\n",
      "Document ID: 1136, Similarity: 0.254, Precision: 0.000, Recall: 0.000, Is Relevant: False\n",
      "Document ID: 1078, Similarity: 0.249, Precision: 0.000, Recall: 0.000, Is Relevant: False\n",
      "Document ID: 481, Similarity: 0.241, Precision: 0.000, Recall: 0.000, Is Relevant: False\n",
      "Document ID: 731, Similarity: 0.225, Precision: 0.167, Recall: 0.043, Is Relevant: True\n",
      "Document ID: 135, Similarity: 0.224, Precision: 0.143, Recall: 0.043, Is Relevant: False\n",
      "Document ID: 49, Similarity: 0.216, Precision: 0.250, Recall: 0.087, Is Relevant: True\n",
      "Document ID: 59, Similarity: 0.216, Precision: 0.333, Recall: 0.130, Is Relevant: True\n",
      "Document ID: 523, Similarity: 0.216, Precision: 0.400, Recall: 0.174, Is Relevant: True\n"
     ]
    }
   ],
   "source": [
    "\"\"\"\n",
    "Show/print (similar to 3b) the top 10 results for the query with `id=13` together with the precision and \n",
    "recall metrics.\n",
    "\"\"\"\n",
    "# Don't delete any given cells in homework\n",
    "\n",
    "query_id_13_results = pr_similarity_results[pr_similarity_results['query_id'] == 13].head(10)\n",
    "print(f\"Following will be the output for query_id 13:\\n\")\n",
    "for index, row in query_id_13_results.iterrows():\n",
    "    print(f\"Document ID: {row['document_id']}, Similarity: {row['similarity']:.3f}, Precision: {row['precision']:.3f}, Recall: {row['recall']:.3f}, Is Relevant: {row['is_relevant']}\")"
   ]
  },
  {
   "cell_type": "code",
   "execution_count": 91,
   "metadata": {
    "ExecuteTime": {
     "end_time": "2022-12-13T21:51:39.916960Z",
     "start_time": "2022-12-13T21:51:39.912560Z"
    },
    "deletable": false,
    "editable": false,
    "nbgrader": {
     "cell_type": "code",
     "checksum": "8a6611f292099f47a9547c8321b2ae8f",
     "grade": true,
     "grade_id": "cell-7e335733bca38fd7",
     "locked": true,
     "points": 1,
     "schema_version": 3,
     "solution": false,
     "task": false
    }
   },
   "outputs": [],
   "source": [
    "# Test whether the columns of returned dataframe meets the requirement\n",
    "# Don't delete any given cells in homework\n",
    "assert (pr_similarity_results.columns == ['document_id', 'query_id', 'similarity', 'document_title', 'query',\n",
    "       'is_relevant', 'precision', 'recall']).all()\n",
    "\n",
    "# Test whether metrics are computed based on the ordered top similarity\n",
    "def IsListSorted_sorted(lst):\n",
    "    return sorted(lst) == lst or sorted(lst, reverse=True) == lst\n",
    "__lst= list(pr_similarity_results[pr_similarity_results['query_id'] == 15].similarity)\n",
    "assert IsListSorted_sorted(__lst)"
   ]
  },
  {
   "cell_type": "code",
   "execution_count": 92,
   "metadata": {
    "ExecuteTime": {
     "end_time": "2022-12-13T21:51:42.508570Z",
     "start_time": "2022-12-13T21:51:39.919764Z"
    },
    "deletable": false,
    "editable": false,
    "nbgrader": {
     "cell_type": "code",
     "checksum": "30179f826d3fae6d622303d88a8c27a0",
     "grade": true,
     "grade_id": "cell-680d0bf5aed3e8dd",
     "locked": true,
     "points": 1.5,
     "schema_version": 3,
     "solution": false,
     "task": false
    }
   },
   "outputs": [
    {
     "name": "stderr",
     "output_type": "stream",
     "text": [
      "C:\\Users\\janku\\AppData\\Local\\Temp\\ipykernel_28968\\633001388.py:30: FutureWarning: The behavior of DataFrame concatenation with empty or all-NA entries is deprecated. In a future version, this will no longer exclude empty or all-NA columns when determining the result dtypes. To retain the old behavior, exclude the relevant entries before the concat operation.\n",
      "  result = pd.concat([result, group])\n"
     ]
    }
   ],
   "source": [
    "# Test whether precision or recall are computed incorrectly\n",
    "# Don't delete any given cells in homework\n",
    "similarity_results: pd.DataFrame = compute_cosine_similarity_for_all(documents_df, queries_df, mapping_df, \n",
    "                                                                     TfidfVectorizer())\n",
    "pr_similarity_results: pd.DataFrame = precision_recall(similarity_results)\n",
    "result_5 =pr_similarity_results[pr_similarity_results['query_id'] == 13]\n",
    "(abs(result_5[abs(result_5['similarity'] - 0.249343)<1e-6]['precision']-0) < 1e-6).item()\n",
    "assert (abs(result_5[abs(result_5['similarity'] - 0.224712)<1e-6]['precision']-0.166667) < 1e-6).item() \n",
    "assert (abs(result_5[abs(result_5['similarity'] - 0.224712)<1e-6]['recall']-0.043478) < 1e-6).item() \n",
    "\n",
    "assert (abs(result_5[abs(result_5['similarity'] - 0.223568)<1e-6]['precision']-0.142857) < 1e-6).item() \n",
    "assert (abs(result_5[abs(result_5['similarity'] - 0.224712)<1e-6]['recall']-0.043478) < 1e-6).item() \n",
    "\n",
    "assert (abs(result_5[abs(result_5['similarity'] - 0.204336)<1e-6]['precision']-0.333333) < 1e-6).item() \n",
    "assert (abs(result_5[abs(result_5['similarity'] - 0.216309)<1e-6]['recall']-0.130435) < 1e-6).item() \n",
    "assert (result_5[abs(result_5['similarity'] - 0.216309)<1e-6]['document_title'].item() == 'Opinion Paper')"
   ]
  },
  {
   "cell_type": "markdown",
   "metadata": {
    "deletable": false,
    "editable": false,
    "nbgrader": {
     "cell_type": "markdown",
     "checksum": "6e3640c4f5a58ae59a04cf0f916d95cb",
     "grade": false,
     "grade_id": "cell-ebe2e10281f22c86",
     "locked": true,
     "schema_version": 3,
     "solution": false,
     "task": false
    }
   },
   "source": [
    "**d)** (3 Points) Implement the function `precision_recall_11_point` for 11 point interpolation. It should compute interpolated precision values for all 11 recall levels and output them as a dataframe. Choose the first sample at which the recall $\\geq$ recall_level to divide  your results into these 11 points. For example: When selecting samples for recall_level $0.1$ and you only have recall values of $[0.095, 0.112]$, then select the second point (recall $0.112$) as start for this recall level.\n",
    "\n",
    "Apply this function on all queries, given the output of 3c) and output the precision values at each recall level of the 11-point interpolation for the query with `id=13`. \n",
    "\n",
    "_Note_: Please make sure you correctly understand the following metrics before implementing this task (Information Retrieval II slides pp.20-24). Feel free to ask questions in the forum:\n",
    "\n",
    "* interpolated precision\n",
    "* 11-point interpolated precision\n",
    "\n",
    "The returend pd.DataFrame has 3 columns: \"Query\", \"Recall\", \"Precision\".\n",
    "\n",
    "\"Query\": query_id\n",
    "\n",
    "\"Recall\": recall level (i.e. 100, 90, ...0)\n",
    "\n",
    "\"Precision\": float"
   ]
  },
  {
   "cell_type": "code",
   "execution_count": 96,
   "metadata": {
    "ExecuteTime": {
     "end_time": "2022-12-13T21:51:42.858916Z",
     "start_time": "2022-12-13T21:51:42.511005Z"
    },
    "deletable": false,
    "nbgrader": {
     "cell_type": "code",
     "checksum": "f82e23ba7c3516c1eb64d7a4d48b77c4",
     "grade": false,
     "grade_id": "cell-dc026866f173bb88",
     "locked": false,
     "schema_version": 3,
     "solution": true,
     "task": false
    }
   },
   "outputs": [
    {
     "name": "stderr",
     "output_type": "stream",
     "text": [
      "C:\\Users\\janku\\AppData\\Local\\Temp\\ipykernel_28968\\2812465878.py:26: FutureWarning: The behavior of DataFrame concatenation with empty or all-NA entries is deprecated. In a future version, this will no longer exclude empty or all-NA columns when determining the result dtypes. To retain the old behavior, exclude the relevant entries before the concat operation.\n",
      "  result = pd.concat([result, pd.DataFrame(interpolated_precisions)])\n"
     ]
    }
   ],
   "source": [
    "def precision_recall_11_point(pr_similarity_results: pd.DataFrame) -> pd.DataFrame:\n",
    "    \"\"\"Perform 11 point interpolation on data in pr_similarity_results\n",
    "    \n",
    "    :param pr_similarity_results: resulting DataFrame from 3c)\n",
    "    :return DataFrame that contains 11 point interpolations for all queries\n",
    "    The returend pd.DataFrame has 3 columns: \"Query\", \"Recall\", \"Precision\".\n",
    "    \"Query\": query_id\n",
    "    \"Recall\": recall level (i.e. 100, 90, ...0)\n",
    "    \"Precision\": floa\n",
    "    \"\"\"\n",
    "    result = pd.DataFrame([], columns=['Query', 'Recall', 'Precision'])\n",
    "\n",
    "    # Iterate over each query\n",
    "    for query_id, group in pr_similarity_results.groupby('query_id'):\n",
    "        group = group.sort_values('recall', ascending=False)\n",
    "        interpolated_precisions = []\n",
    "\n",
    "        for recall_level in range(100, -1, -10):  # Recall levels 100, 90, ..., 0\n",
    "            recall_level_fraction = recall_level / 100\n",
    "            # Get the highest precision for recall >= recall_level_fraction\n",
    "            max_precision = group[group['recall'] >= recall_level_fraction]['precision'].max()\n",
    "            if pd.isna(max_precision):\n",
    "                max_precision = 0  # Use 0 if there's no recall >= recall_level_fraction\n",
    "            interpolated_precisions.append({'Query': query_id, 'Recall': recall_level, 'Precision': max_precision})\n",
    "\n",
    "        result = pd.concat([result, pd.DataFrame(interpolated_precisions)])\n",
    "\n",
    "    return result\n",
    "\n",
    "pr_11_point: pd.DataFrame = precision_recall_11_point(pr_similarity_results)"
   ]
  },
  {
   "cell_type": "code",
   "execution_count": 97,
   "metadata": {
    "ExecuteTime": {
     "end_time": "2022-12-13T21:51:42.867217Z",
     "start_time": "2022-12-13T21:51:42.860523Z"
    },
    "deletable": false,
    "nbgrader": {
     "cell_type": "code",
     "checksum": "fb07ab2b81046aded45b1515e6a74ea9",
     "grade": true,
     "grade_id": "cell-a5884bd32a6552da",
     "locked": false,
     "points": 0.3,
     "schema_version": 3,
     "solution": true,
     "task": false
    }
   },
   "outputs": [
    {
     "name": "stdout",
     "output_type": "stream",
     "text": [
      "Query ID: 13, Recall Level: 100.0, Interpolated Precision: 0.062\n",
      "Query ID: 13, Recall Level: 90.0, Interpolated Precision: 0.115\n",
      "Query ID: 13, Recall Level: 80.0, Interpolated Precision: 0.117\n",
      "Query ID: 13, Recall Level: 70.0, Interpolated Precision: 0.148\n",
      "Query ID: 13, Recall Level: 60.0, Interpolated Precision: 0.275\n",
      "Query ID: 13, Recall Level: 50.0, Interpolated Precision: 0.333\n",
      "Query ID: 13, Recall Level: 40.0, Interpolated Precision: 0.333\n",
      "Query ID: 13, Recall Level: 30.0, Interpolated Precision: 0.333\n",
      "Query ID: 13, Recall Level: 20.0, Interpolated Precision: 0.357\n",
      "Query ID: 13, Recall Level: 10.0, Interpolated Precision: 0.400\n",
      "Query ID: 13, Recall Level: 0.0, Interpolated Precision: 0.400\n"
     ]
    }
   ],
   "source": [
    "\"\"\"\n",
    "Output/print the precision values at each recall level of the 11-point interpolation for the query with `id=13`. \n",
    "\"\"\"\n",
    "# Don't delete any given cells in homework\n",
    "\n",
    "query_13_interpolation = pr_11_point[pr_11_point['Query'] == 13]\n",
    "for index, row in query_13_interpolation.iterrows():\n",
    "    print(f\"Query ID: {row['Query']}, Recall Level: {row['Recall']:.1f}, Interpolated Precision: {row['Precision']:.3f}\")"
   ]
  },
  {
   "cell_type": "code",
   "execution_count": 98,
   "metadata": {
    "ExecuteTime": {
     "end_time": "2022-12-13T21:51:42.874578Z",
     "start_time": "2022-12-13T21:51:42.869581Z"
    },
    "deletable": false,
    "editable": false,
    "nbgrader": {
     "cell_type": "code",
     "checksum": "d273ccea42e375ba5c6e086228a3141a",
     "grade": true,
     "grade_id": "cell-3363a2238b9e1b49",
     "locked": true,
     "points": 0.7,
     "schema_version": 3,
     "solution": false,
     "task": false
    }
   },
   "outputs": [],
   "source": [
    "# Test whether the columns of returned dataframe meets the requirement\n",
    "# Don't delete any given cells in homework\n",
    "assert (pr_11_point.columns == ['Query', 'Recall', 'Precision']).all()\n",
    "\n",
    "# Test whether precision values and recall level have different order\n",
    "def IsListSorted_sorted_2list(lst_1, lst_2):\n",
    "    return (sorted(lst_1) == lst_1 and sorted(lst_2, reverse=True) == lst_2) \\\n",
    "            or (sorted(lst_1, reverse=True) == lst_1 and sorted(lst_2) == lst_2)\n",
    "__lst_1= list(pr_11_point[pr_11_point['Query'] == 15].Recall)\n",
    "__lst_2= list(pr_11_point[pr_11_point['Query'] == 15].Precision)\n",
    "assert IsListSorted_sorted_2list(__lst_1, __lst_2)"
   ]
  },
  {
   "cell_type": "code",
   "execution_count": 99,
   "metadata": {
    "ExecuteTime": {
     "end_time": "2022-12-13T21:51:43.344242Z",
     "start_time": "2022-12-13T21:51:43.071563Z"
    },
    "deletable": false,
    "editable": false,
    "nbgrader": {
     "cell_type": "code",
     "checksum": "b0a46cab2462768160ee8fc37fd76240",
     "grade": true,
     "grade_id": "cell-f979020e5b5ef592",
     "locked": true,
     "points": 2,
     "schema_version": 3,
     "solution": false,
     "task": false
    }
   },
   "outputs": [
    {
     "name": "stderr",
     "output_type": "stream",
     "text": [
      "C:\\Users\\janku\\AppData\\Local\\Temp\\ipykernel_28968\\2812465878.py:26: FutureWarning: The behavior of DataFrame concatenation with empty or all-NA entries is deprecated. In a future version, this will no longer exclude empty or all-NA columns when determining the result dtypes. To retain the old behavior, exclude the relevant entries before the concat operation.\n",
      "  result = pd.concat([result, pd.DataFrame(interpolated_precisions)])\n"
     ]
    }
   ],
   "source": [
    "# Test\n",
    "_id = 15\n",
    "pr_11_point: pd.DataFrame = precision_recall_11_point(pr_similarity_results)\n",
    "result_6 = pr_11_point[pr_11_point['Query'] == _id]\n",
    "assert abs(result_6[result_6['Recall']==100]['Precision'].item() - 0.061625) < 1e-6\n",
    "assert abs(result_6[result_6['Recall']==90]['Precision'].item() - 0.068493) < 1e-6\n",
    "assert abs(result_6[result_6['Recall']==80]['Precision'].item() - 0.074074) < 1e-6\n",
    "assert abs(result_6[result_6['Recall']==70]['Precision'].item() - 0.094118) < 1e-6\n",
    "assert abs(result_6[result_6['Recall']==60]['Precision'].item() - 0.112000) < 1e-6\n",
    "assert abs(result_6[result_6['Recall']==50]['Precision'].item() - 0.141026) < 1e-6"
   ]
  },
  {
   "cell_type": "markdown",
   "metadata": {
    "deletable": false,
    "editable": false,
    "nbgrader": {
     "cell_type": "markdown",
     "checksum": "8346a5a702fa794ba05b28221147ee1a",
     "grade": false,
     "grade_id": "cell-4e809983f197d2e0",
     "locked": true,
     "schema_version": 3,
     "solution": false,
     "task": false
    }
   },
   "source": [
    "Plot the interpolated P-R curve based on all queries. (Use the result from 3d)\n",
    "\n",
    "Just see the result through your computation."
   ]
  },
  {
   "cell_type": "code",
   "execution_count": 100,
   "metadata": {
    "ExecuteTime": {
     "end_time": "2022-12-13T21:51:44.872728Z",
     "start_time": "2022-12-13T21:51:44.444942Z"
    },
    "deletable": false,
    "editable": false,
    "nbgrader": {
     "cell_type": "code",
     "checksum": "f6c190e181effe53de189f0f4fce0cdb",
     "grade": false,
     "grade_id": "cell-cc4658bcfa3995b7",
     "locked": true,
     "schema_version": 3,
     "solution": false,
     "task": false
    }
   },
   "outputs": [
    {
     "data": {
      "text/plain": [
       "<Axes: xlabel='Recall', ylabel='Precision'>"
      ]
     },
     "execution_count": 100,
     "metadata": {},
     "output_type": "execute_result"
    },
    {
     "data": {
      "image/png": "[encoded data removed]",
      "text/plain": [
       "<Figure size 640x480 with 1 Axes>"
      ]
     },
     "metadata": {},
     "output_type": "display_data"
    }
   ],
   "source": [
    "sns.lineplot(\n",
    "    data=pr_11_point,\n",
    "    x='Recall',\n",
    "    y='Precision'\n",
    ")"
   ]
  },
  {
   "cell_type": "markdown",
   "metadata": {
    "deletable": false,
    "editable": false,
    "nbgrader": {
     "cell_type": "markdown",
     "checksum": "a95bf0e5c8fc0e23501940942321f33a",
     "grade": false,
     "grade_id": "cell-7ea2842cf3e9b821",
     "locked": true,
     "schema_version": 3,
     "solution": false,
     "task": false
    }
   },
   "source": [
    "**Submission:**\n",
    "\n",
    "Please upload your submission to Moodle before the next exercise session <font color=\"red\">(Dec 13th, 23:59pm)</font>!\n",
    "\n",
    "Submission format: `Group_XX_Exercise_XX.zip`\n",
    "\n",
    "Your submission should contain your filled out Jupyter notebook (naming schema: `NLP4Web_Home_Exercise3.ipynb`) and any auxiliar files that are necessary to run your code (e.g., the datasets provided by us).\n",
    "\n",
    "Each submission must be handed in only once per group."
   ]
  }
 ],
 "metadata": {
  "kernelspec": {
   "display_name": "nlp4web",
   "language": "python",
   "name": "python3"
  },
  "language_info": {
   "codemirror_mode": {
    "name": "ipython",
    "version": 3
   },
   "file_extension": ".py",
   "mimetype": "text/x-python",
   "name": "python",
   "nbconvert_exporter": "python",
   "pygments_lexer": "ipython3",
   "version": "3.10.11"
  }
 },
 "nbformat": 4,
 "nbformat_minor": 4
}
