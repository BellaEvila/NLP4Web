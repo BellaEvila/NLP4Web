{
 "cells": [
  {
   "cell_type": "markdown",
   "metadata": {
    "deletable": false,
    "editable": false,
    "nbgrader": {
     "cell_type": "markdown",
     "checksum": "da5064c9ed8cd1fec0f36b714c345b0b",
     "grade": false,
     "grade_id": "cell-4d87ae78fb4caf9c",
     "locked": true,
     "schema_version": 3,
     "solution": false,
     "task": false
    },
    "tags": []
   },
   "source": [
    "# NLP and the Web"
   ]
  },
  {
   "cell_type": "markdown",
   "metadata": {
    "deletable": false,
    "editable": false,
    "nbgrader": {
     "cell_type": "markdown",
     "checksum": "b1145e2ba69b3e56620106550f0984e0",
     "grade": false,
     "grade_id": "cell-8b531762670192f6",
     "locked": true,
     "schema_version": 3,
     "solution": false,
     "task": false
    },
    "tags": []
   },
   "source": [
    "## Task 0 ~ 0P"
   ]
  },
  {
   "cell_type": "markdown",
   "metadata": {
    "tags": []
   },
   "source": [
    "__Task 0 is only relevant for the homework.__"
   ]
  },
  {
   "cell_type": "markdown",
   "metadata": {
    "deletable": false,
    "editable": false,
    "nbgrader": {
     "cell_type": "markdown",
     "checksum": "5d4cef5c9a404a5516183e6ce9bf2128",
     "grade": false,
     "grade_id": "cell-6eca7b6c6c224dde",
     "locked": true,
     "schema_version": 3,
     "solution": false,
     "task": false
    }
   },
   "source": [
    "##### a) Please enter your group number"
   ]
  },
  {
   "cell_type": "markdown",
   "metadata": {
    "deletable": false,
    "nbgrader": {
     "cell_type": "markdown",
     "checksum": "75470a4986487fdb40d73fa368335c95",
     "grade": true,
     "grade_id": "cell-cccfbf605a28a18a",
     "locked": false,
     "points": 0,
     "schema_version": 3,
     "solution": true,
     "task": false
    }
   },
   "source": [
    "14"
   ]
  },
  {
   "cell_type": "markdown",
   "metadata": {
    "deletable": false,
    "editable": false,
    "nbgrader": {
     "cell_type": "markdown",
     "checksum": "6fdb993af1b0b63ec0df26dca558cdd0",
     "grade": false,
     "grade_id": "cell-2ed8ca1b9e5204c3",
     "locked": true,
     "schema_version": 3,
     "solution": false,
     "task": false
    }
   },
   "source": [
    "_**Regarding types, documentation, and output:**_\n",
    "\n",
    "_We tried to make the description of the parameters as clear as possible. However, if you believe that something is missing, please reach out to us in Moodle. We provide type hints for the function parameters and return values of the functions that you have to implement._\n",
    "\n",
    "_Nevertheless, your code must use the provided method stubs and parameters. Furthermore, make sure that your code runs without errors and in a reasonable amount of time, for example by using \"Kernel/Restart & Run All\" before submitting._\n",
    "\n",
    "_Please use comments where appropriate to help the tutors understand your code. This is especially important for the more extensive exercises later on. Finally, please pay attention to how you output the results. We highly recommend using `display(df)` for displaying data frames._\n",
    "\n",
    "_**Please only modify the template in the specified markdown and code cells (e.g. YOUR CODE / ANSWER / IMPORTS HERE). Some cells are left blank on purpose. Please do not modify these cells, because they are used to autograde your submission. If these cells are modified, the automatic grading for your submission will fail and we might deduct points. Please do not modify the cells containing public and private tests. If you want to do your own tests, please use the code cell containing your code solution (YOUR CODE HERE).**_"
   ]
  },
  {
   "cell_type": "markdown",
   "metadata": {},
   "source": [
    "---"
   ]
  },
  {
   "cell_type": "markdown",
   "metadata": {
    "deletable": false,
    "editable": false,
    "nbgrader": {
     "cell_type": "markdown",
     "checksum": "1310aa9742098c865c21b721a493ce22",
     "grade": false,
     "grade_id": "cell-f139dcb3575e635d",
     "locked": true,
     "schema_version": 3,
     "solution": false,
     "task": false
    }
   },
   "source": [
    "# Home Exercise 3"
   ]
  },
  {
   "cell_type": "code",
   "execution_count": 1,
   "metadata": {},
   "outputs": [],
   "source": [
    "# for type-hinting\n",
    "from numpy import ndarray\n",
    "from typing import Union, List, Dict, DefaultDict, Set\n",
    "# Bunch is a subtype of Dict, so the type-hints are comparable to Dict type-hints: Bunch[key, value]\n",
    "from sklearn.utils import Bunch"
   ]
  },
  {
   "cell_type": "markdown",
   "metadata": {
    "deletable": false,
    "editable": false,
    "nbgrader": {
     "cell_type": "markdown",
     "checksum": "7024a5355241334e51d6519cdf142e1a",
     "grade": false,
     "grade_id": "cell-e9f9b7f196cd764f",
     "locked": true,
     "schema_version": 3,
     "solution": false,
     "task": false
    }
   },
   "source": [
    "## Task 1: Inverted Index / Boolean Retrieval (5 Points)"
   ]
  },
  {
   "cell_type": "markdown",
   "metadata": {
    "deletable": false,
    "editable": false,
    "nbgrader": {
     "cell_type": "markdown",
     "checksum": "074469131f2c70dbb00c0340b545ced8",
     "grade": false,
     "grade_id": "cell-591c97be34fb3c10",
     "locked": true,
     "schema_version": 3,
     "solution": false,
     "task": false
    }
   },
   "source": [
    "__a)__ (0.5 Points) Next to many useful machine learning tools, __sklearn__ includes a collection of various datasets. In the ungraded practice notebook, you have already seen some examples on how to work with _20newsgroups_ ([dataset](https://scikit-learn.org/stable/datasets/real_world.html#newsgroups-dataset), [loader](https://scikit-learn.org/stable/modules/generated/sklearn.datasets.fetch_20newsgroups.html)) which is a useful text corpus with numerous documents for a total of 20 different topics. For this notebook, we will use a selection of documents from the _20newsgroups_ dataset as our example corpus. Fetch all documents from _20newsgroups_ that adhere to the following parameters: \n",
    "- Include only documents of the 'test' subset and from the provided categories\n",
    "- The documents should be shuffled with a random seed of 42\n",
    "- Headers, footers and quotes should be removed  \n",
    "\n",
    "To save some processing time in the following tasks, we want to further reduce our corpus. For this purpose, keep only the first 300 documents of the fetched result as your final corpus in a variable called __docs__ of type __list[str]__. Additionally, store the corresponding 300 target labels (categories) in a separate variable called __targets__ of type __ndarray__."
   ]
  },
  {
   "cell_type": "code",
   "execution_count": 2,
   "metadata": {
    "deletable": false,
    "nbgrader": {
     "cell_type": "code",
     "checksum": "9739b4314e72dcde2d2832bb41117d86",
     "grade": false,
     "grade_id": "cell-26f465f0150a0b76",
     "locked": false,
     "schema_version": 3,
     "solution": true,
     "task": false
    }
   },
   "outputs": [],
   "source": [
    "from sklearn.datasets import fetch_20newsgroups\n",
    "categories: List[str] = ['alt.atheism', 'rec.sport.hockey']\n",
    "\n",
    "\n",
    "# first 300 docs and corresponding labels\n",
    "docs: list[str] = []\n",
    "targets: ndarray = []\n",
    "\n",
    "newsgroups = fetch_20newsgroups(subset='test', categories=categories, remove=('headers', 'footers', 'quotes'), random_state=42)\n",
    "docs = newsgroups.data[:300]\n",
    "targets = newsgroups.target[:300]\n",
    "\n",
    "    "
   ]
  },
  {
   "cell_type": "code",
   "execution_count": 56,
   "metadata": {
    "deletable": false,
    "editable": false,
    "nbgrader": {
     "cell_type": "code",
     "checksum": "0294bd2992bc55d6d34605344a9ea0d3",
     "grade": true,
     "grade_id": "cell-3d71d2f66be95d3b",
     "locked": true,
     "points": 0.5,
     "schema_version": 3,
     "solution": false,
     "task": false
    }
   },
   "outputs": [],
   "source": [
    "# Test\n",
    "assert sum(targets) == 177\n",
    "assert '\\nPersonal attacks?' in docs[0]\n",
    "assert type(targets) == ndarray\n",
    "assert type(docs) == list"
   ]
  },
  {
   "cell_type": "markdown",
   "metadata": {
    "deletable": false,
    "editable": false,
    "nbgrader": {
     "cell_type": "markdown",
     "checksum": "71548573492c30e2daa030a05d1b5e3b",
     "grade": false,
     "grade_id": "cell-8473b6f072913d0a",
     "locked": true,
     "schema_version": 3,
     "solution": false,
     "task": false
    }
   },
   "source": [
    "__b)__ (2 Points) Implement a function `inverted_index` that receives a list of documents and returns an inverted index. An inverted index is a key-value mapping where each key is a unique word from the vocabulary of a given corpus of documents. Each key maps to a postings list that contains the indices of all documents in which the key word occurs in at least once. The index should cover only lemmatized tokens (i.e. you should lemmatize tokens before adding them to the inverted index) that fully consist of alphabetic characters. For lemmas/keys that are not covered by the corpus vocabulary, the resulting index should return an empty list (_hint_: defaultdict). You are also allowed to return an empty list for pronouns. The type of the return should be:                     __defaultdict[str, list[int]]__\n",
    "\n",
    "Use your function to create an inverted index for the corpus from task 1a) and output the postings lists for the terms \"skate\", \"faith\" and \"pizza\" and store it in variables skate_indices, faith_indices and pizza_indices of the type __list[int]__.\n",
    "Only use __spaCy__ for tokenization, lemmatization and detection of alphabetic tokens!"
   ]
  },
  {
   "cell_type": "code",
   "execution_count": 5,
   "metadata": {},
   "outputs": [],
   "source": [
    "import spacy\n",
    "from collections import defaultdict\n",
    "nlp: spacy.Language = spacy.load(\"en_core_web_sm\")"
   ]
  },
  {
   "cell_type": "code",
   "execution_count": 6,
   "metadata": {
    "deletable": false,
    "nbgrader": {
     "cell_type": "code",
     "checksum": "60d3c6e1cbbb3dc5489057486715956c",
     "grade": false,
     "grade_id": "cell-92d05c7d95feb823",
     "locked": false,
     "schema_version": 3,
     "solution": true,
     "task": false
    }
   },
   "outputs": [],
   "source": [
    "def inverted_index(docs: Union[List[str], List[spacy.tokens.Doc]]) -> DefaultDict[str, List[int]]:\n",
    "    \"\"\"Create an inverted index for a given corpus of documents\n",
    "    \n",
    "    :param docs: array-like object containing documents\n",
    "                 (List[spacy.tokens.Doc] or List[str] are only suggestions \n",
    "                  - you may choose either of both or another suitable type)\n",
    "    :return:defaultdict[str, list[int]] inverted index \n",
    "    \"\"\"\n",
    "    \n",
    "    inverted_index: DefaultDict[str, List[int]] = None # Why? Using a list here makes no sense at all! Use a set!\n",
    "    inv_idx = defaultdict(set) # Given I cannot touch the above... I'm not gonna use it.\n",
    "    \n",
    "    for i, doc in enumerate(docs):\n",
    "        if isinstance(doc, str):\n",
    "            doc = nlp(doc)\n",
    "        for token in doc:\n",
    "            inv_idx[token.lemma_].add(i)\n",
    "\n",
    "    return defaultdict(list, {word: list(doc_indices) for word, doc_indices in inv_idx.items()})\n",
    "\n",
    "\n",
    "\n",
    "\n",
    "skate_indices: list[int] = []\n",
    "faith_indices: list[int] = []\n",
    "pizza_indices: list[int] = [] # Ya ain't even testing this variable, so why set it?\n",
    "\n",
    "index = inverted_index(docs) # Setting required variable names in the tests is not best practice, it's worst practice. \n",
    "skate_indices = index['skate']\n",
    "faith_indices = index['faith']\n",
    "pizza_indices = index['pizza'] # ... just in case.\n",
    "\n",
    "\n"
   ]
  },
  {
   "cell_type": "code",
   "execution_count": 59,
   "metadata": {
    "deletable": false,
    "editable": false,
    "nbgrader": {
     "cell_type": "code",
     "checksum": "a5fecf4308a8f0cc7a2545bc932683ec",
     "grade": true,
     "grade_id": "cell-d46389d16ae0275d",
     "locked": true,
     "points": 2,
     "schema_version": 3,
     "solution": false,
     "task": false
    }
   },
   "outputs": [],
   "source": [
    "# Test\n",
    "\n",
    "assert 250 in skate_indices\n",
    "assert 202 in faith_indices\n",
    "assert type(inverted_index(docs)) == defaultdict\n",
    "assert len(index[\"statement\"]) == 18\n",
    "assert sorted(index[\"peace\"]) == [0, 11, 93, 268, 297]\n",
    "assert 75 in index[\"personal\"]\n"
   ]
  },
  {
   "cell_type": "markdown",
   "metadata": {
    "deletable": false,
    "editable": false,
    "nbgrader": {
     "cell_type": "markdown",
     "checksum": "63d448096c217468c3b36096a8564ef0",
     "grade": false,
     "grade_id": "cell-63b550859acd3ff4",
     "locked": true,
     "schema_version": 3,
     "solution": false,
     "task": false
    }
   },
   "source": [
    "__c)__ (2.5 Points) Implement the optimized intersection function `intersect([t1, ..., tn])` for multiple AND queries from the lecture (slide 52). Try to keep the implementation as close as possible to the given pseudocode (see picture in the cell below).\n",
    "\n",
    "Afterwards, create a function `boolean_retrieval` that takes a list of terms and interprets them as an AND query (e.g., the input [\"best\", \"pizza\", \"pie\"] should be interpreted as \"best AND pizza AND pie\"). The return value of the function should be a __list[int]__ of all document indices that contain all of the query tokens. \n",
    "\n",
    "Apply the function `boolean_retrieval` for the following queries and output the number of retrieved documents for each query:  \n",
    "\n",
    "- best AND goals\n",
    "- best AND goals AND overtime\n",
    "- religions \n",
    "- most AND common AND religions\n",
    "\n",
    "_Hints_: \n",
    "\n",
    "* Use the inverted index from the previous exercise to access the postings in lines 2 and 5 of the pseudocode. The function `intersect_(postings1, postings2)` that is used in line 5 of the pseudocode is already implemented for you. \n",
    "* You should pre-process the query within the function `boolean_retrieval`."
   ]
  },
  {
   "cell_type": "markdown",
   "metadata": {
    "deletable": false,
    "editable": false,
    "nbgrader": {
     "cell_type": "markdown",
     "checksum": "da8bfa7a7d667ae2a188aac99201983f",
     "grade": false,
     "grade_id": "cell-6a44d1c949021ce1",
     "locked": true,
     "schema_version": 3,
     "solution": false,
     "task": false
    }
   },
   "source": [
    "<img width=\"500\" align=left src=\"data:image/png;base64,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\"/>"
   ]
  },
  {
   "cell_type": "code",
   "execution_count": 60,
   "metadata": {
    "deletable": false,
    "nbgrader": {
     "cell_type": "code",
     "checksum": "8485d1c5760d03db8e802b3bc9293208",
     "grade": false,
     "grade_id": "cell-4cd4c2245e0c0696",
     "locked": false,
     "schema_version": 3,
     "solution": true,
     "task": false
    }
   },
   "outputs": [
    {
     "name": "stdout",
     "output_type": "stream",
     "text": [
      "[121, 191]\n",
      "[130, 139, 270, 278, 24, 282, 159, 292, 295, 168, 172, 47, 58, 196, 71, 74, 75, 203, 218, 233, 234, 249, 122]\n",
      "[]\n"
     ]
    }
   ],
   "source": [
    "def intersect(terms: List[str]) -> List[int]:\n",
    "    \"\"\"Intersect the postings lists for multiple query terms as shown in the above pseudocode\n",
    "    \n",
    "    The intersection stops early if one of 2 conditions is fulfilled (see line 4 above).\n",
    "    \n",
    "    :param terms: array-like object containing terms, e.g. ['good', 'pizza', 'darmstadt']  \n",
    "    :return: List[int] containing indices of documents in which all query terms occur \n",
    "    \"\"\"\n",
    "    terms = sort_by_increasing_frequency(terms)\n",
    "    result = index.get(terms.pop(0), [])\n",
    "    \n",
    "    while terms and result:\n",
    "        result = intersect_(result, index.get(terms.pop(0), []))\n",
    "    \n",
    "    return result\n",
    "\n",
    "def sort_by_increasing_frequency(terms: List[str]) -> List[str]:\n",
    "    \"\"\"Sort terms by the length of their postings lists. Used in line 1 of the pseudocode\n",
    "    \n",
    "    E.g.: assume we have the following 3 words: \n",
    "        * \"pizza\" (in 10 documents)\n",
    "        * \"sushi\" (in 3 documents)\n",
    "        * \"schnitzel\" (in 15 documents)\n",
    "        The outputed list should be: [\"sushi\", \"pizza\", \"schnitzel\"]\n",
    "    \n",
    "    :param terms: array-like object containing terms\n",
    "    :return: List[str] containing terms, ordered increasingly by their document frequency\n",
    "    \"\"\"\n",
    "    return sorted(terms, key=lambda term: len(index.get(term, [])))\n",
    "\n",
    "def intersect_(postings1: List[int], postings2: List[int]) -> List[int]:\n",
    "    \"\"\"Intersect two (sub)lists containing postings. Used in line 5 of the pseudocode\n",
    "    \n",
    "    This function is already implemented and ready to use.\n",
    "    \n",
    "    :param postings1: array-like object containing the postings list of a term\n",
    "    :param postings2: array-like object containing the postings list of a term\n",
    "    :return: List[int] containing intersection of postings1 and postings2\n",
    "    \"\"\"\n",
    "    return list(set(postings1) & set(postings2))\n",
    "\n",
    "def boolean_retrieval(query: List[str]) -> List[int]:\n",
    "    \"\"\"Perform Boolean retrieval for a given query to determine all relevant documents\n",
    "    \n",
    "    :param query: array-like object containing query terms, e.g. [\"my\", \"query\"]\n",
    "    :return: List[int] containing document indices that fulfill the conjunction of all query terms\n",
    "    \"\"\"\n",
    "    # processed_query = [token.lemma_ for doc in nlp.pipe(query) for token in doc if token.is_alpha] # Same a below, but in one line\n",
    "    processed_queries = []\n",
    "    for doc in nlp.pipe(query):\n",
    "        for token in doc:\n",
    "            if token.is_alpha:\n",
    "                processed_queries.append(token.lemma_)\n",
    "    return intersect(processed_queries)\n",
    "\n",
    "print(boolean_retrieval([\"best\", \"goals\", \"overtime\"]))\n",
    "print(boolean_retrieval([\"religions\"]))\n",
    "print(boolean_retrieval([\"most\", \"common\", \"religions\"]))"
   ]
  },
  {
   "cell_type": "markdown",
   "metadata": {
    "deletable": false,
    "editable": false,
    "nbgrader": {
     "cell_type": "markdown",
     "checksum": "4928a21ef63a523186fb41ce98b22f2d",
     "grade": false,
     "grade_id": "cell-761089972898b2d9",
     "locked": true,
     "points": 0.75,
     "schema_version": 3,
     "solution": false,
     "task": true
    }
   },
   "source": [
    "for correction purposes only - Don't modify, this cell is required for grading"
   ]
  },
  {
   "cell_type": "code",
   "execution_count": 61,
   "metadata": {
    "deletable": false,
    "editable": false,
    "nbgrader": {
     "cell_type": "code",
     "checksum": "06861d465ced63911768c32bb1051945",
     "grade": true,
     "grade_id": "cell-7efb9488db550b69",
     "locked": true,
     "points": 0.75,
     "schema_version": 3,
     "solution": false,
     "task": false
    }
   },
   "outputs": [],
   "source": [
    "#Test"
   ]
  },
  {
   "cell_type": "code",
   "execution_count": 62,
   "metadata": {
    "deletable": false,
    "editable": false,
    "nbgrader": {
     "cell_type": "code",
     "checksum": "80ca7feee905d11258e28688a6881af7",
     "grade": true,
     "grade_id": "cell-7f57672d58b23e5d",
     "locked": true,
     "points": 1,
     "schema_version": 3,
     "solution": false,
     "task": false
    }
   },
   "outputs": [],
   "source": [
    "# Test\n",
    "assert len(boolean_retrieval([\"best\", \"goals\"])) == 13\n",
    "assert sorted(boolean_retrieval([\"personal\", \"statement\"])) == [0, 74]\n",
    "assert len(boolean_retrieval([\"best\", \"goals\", \"overtime\"])) == 2\n",
    "assert 250 in boolean_retrieval([\"best\", \"game\"])\n",
    "assert len(boolean_retrieval([\"perfect\", \"thrust\"])) == 0"
   ]
  },
  {
   "cell_type": "markdown",
   "metadata": {
    "deletable": false,
    "editable": false,
    "nbgrader": {
     "cell_type": "markdown",
     "checksum": "f9c2f8633ad92264ad3621c587b9f7fc",
     "grade": false,
     "grade_id": "cell-f5a00949e70d21ee",
     "locked": true,
     "schema_version": 3,
     "solution": false,
     "task": false
    }
   },
   "source": [
    "## Task 2: tf-idf (4 Points)"
   ]
  },
  {
   "cell_type": "markdown",
   "metadata": {
    "deletable": false,
    "editable": false,
    "nbgrader": {
     "cell_type": "markdown",
     "checksum": "745979d5a6fe931b59a18459598b90e1",
     "grade": false,
     "grade_id": "cell-5fc6f7ee386bf480",
     "locked": true,
     "schema_version": 3,
     "solution": false,
     "task": false
    }
   },
   "source": [
    "In the previous task you regarded a document as relevant for a query if it contained each of the queries' words at least once. However, this is not sufficient: Some word's might be more indicative of a document's content and some less (such as stop words). The former is the case for words that are \n",
    "\n",
    "* rare across the document collection and occur only in a few documents (--> high Inverse Document Frequency)\n",
    "* frequent in the document at hand (--> high Term Frequency)\n",
    "\n",
    "A method you learned in the lecture as well as in the ungraded tutorial notebook that leverages these ideas is tf-idf. It allows to reflect how important a specific word is to a document in a corpus. For doing so, it requires the transformation of documents into vector representations.\n",
    "\n",
    "In this task, you will create the functionality to calculate tf-idf weights from scratch, turn the documents of our examplary corpus into tf-idf vector representations and use them to apply a simple text classification. As long as not stated otherwise, please do not use any other tools or libraries other than __math__, __numpy__ and __spaCy__ in task 2.\n",
    "\n",
    "Make sure all functions are useable for variable input (not only for __docs__ from the previous exercises)."
   ]
  },
  {
   "cell_type": "code",
   "execution_count": 7,
   "metadata": {},
   "outputs": [],
   "source": [
    "# useful imports for this task\n",
    "import math\n",
    "import numpy as np"
   ]
  },
  {
   "cell_type": "markdown",
   "metadata": {
    "deletable": false,
    "editable": false,
    "nbgrader": {
     "cell_type": "markdown",
     "checksum": "462bc3af3630b031817920c75ea7368d",
     "grade": false,
     "grade_id": "cell-b2e0b65f2388af19",
     "locked": true,
     "schema_version": 3,
     "solution": false,
     "task": false
    }
   },
   "source": [
    "__a)__ (2 Points) Implement a function `tf_weight(term, doc)`. For a given term and a document, the function should return the term frequency weight that is calculated with the following formula: \n",
    "\n",
    "&emsp;&emsp;&emsp;&emsp; $\\text{tf-weight}_{\\text{term,doc}} = 1 + \\log_{10}(\\text{tf}_{\\text{term,doc}})$ &emsp;&emsp; $\\text{if tf}_{\\text{t,d}} > 0\\text{, else }  0$\n",
    "\n",
    "Implement a second function `idf_weights(docs)` that receives the corpus of documents and returns the idf weights for all words from the corpus vocabulary. Similar to task 1b), this vocabulary shall cover only the lemmas of alphabetic words (_hint:_ your inverted index function from the previous task can be very useful here). You do not need to remove stopwords. The idf weight for one term can be calculated like this: \n",
    "\n",
    "&emsp;&emsp;&emsp;&emsp; $\\text{idf-weight}_{\\text{term}} = \\log_{10}(\\frac{\\text{docs}}{\\text{df}_{\\text{term}}})$"
   ]
  },
  {
   "cell_type": "code",
   "execution_count": 32,
   "metadata": {
    "deletable": false,
    "nbgrader": {
     "cell_type": "code",
     "checksum": "b43f0fe2854933973926c1631e57e952",
     "grade": false,
     "grade_id": "cell-d52c9115ed57feb9",
     "locked": false,
     "schema_version": 3,
     "solution": true,
     "task": false
    }
   },
   "outputs": [
    {
     "name": "stdout",
     "output_type": "stream",
     "text": [
      "[-0.255272505103306, -0.255272505103306, -0.255272505103306, -0.255272505103306, -0.255272505103306, -0.255272505103306, -0.255272505103306, -0.255272505103306, -0.255272505103306, -0.255272505103306, -0.255272505103306, -0.255272505103306, -0.255272505103306, -0.255272505103306, -0.255272505103306, -0.255272505103306, -0.255272505103306, -0.255272505103306]\n"
     ]
    }
   ],
   "source": [
    "def tf_weight(term: str, doc: Union[str, List[str]]) -> float:\n",
    "    \"\"\"Calculate term frequency weighting for a given term and document\n",
    "    \n",
    "    :param term: term string \n",
    "    :param doc: document\n",
    "                (str or List[str] are only suggestions - you may choose either of both or another suitable type)\n",
    "    :return:float - tf weight for the given term and document  \n",
    "    \"\"\"\n",
    "    weight: float = 0\n",
    "    # YOUR CODE HERE\n",
    "    #raise NotImplementedError()\n",
    "    t = 0\n",
    "    if isinstance(doc, list):\n",
    "        words_in_doc = doc # Doc kann auch eine List sein.\n",
    "    else:\n",
    "        words_in_doc = doc.split()\n",
    "\n",
    "    word_count = 0\n",
    "    # term_count = sum(1 for word in words_in_doc if word == term)\n",
    "    \n",
    "    for word in words_in_doc:\n",
    "        word_count += 1\n",
    "        if word == term:\n",
    "            t += 1\n",
    "    \n",
    "    tf = 0\n",
    "    if word_count > 0:\n",
    "        tf = t / word_count\n",
    "\n",
    "    if tf > 0: \n",
    "        weight = 1 + np.log10(tf)\n",
    "    else:\n",
    "        weight = 0\n",
    "\n",
    "    return weight\n",
    "    \n",
    "def idf_weights(docs: Union[List[str], List[spacy.tokens.Doc]]) -> Dict[str, float]:\n",
    "    \"\"\"Calculates inverse document frequency weighting for a corpus of documents.\n",
    "    \n",
    "    :param docs: array-like object containing documents\n",
    "                 (List[spacy.tokens.Doc] or List[str] are only suggestions \n",
    "                  - you may choose either of both or another suitable type)\n",
    "    :return: Dict[str, float] containing idf scores for all lemmas of the corpus vocabulary\n",
    "    \"\"\"\n",
    "    result: Dict[str, float] = {}\n",
    "    # YOUR CODE HERE\n",
    "    #raise NotImplementedError()\n",
    "    # Jans Versuch, aber auch noch nicht done:\n",
    "    # doc_count = len(docs)\n",
    "    # inverted_idx = inverted_index(docs)\n",
    "\n",
    "    # for term, doc_indices in inverted_idx.items():\n",
    "    #     df = len(doc_indices)\n",
    "    #     if df > 0:\n",
    "    #         result[term]= np.log10(doc_count / df)\n",
    "\n",
    "    doc_count = len(docs)\n",
    "\n",
    "\n",
    "    for doc in docs:\n",
    "        if isinstance(doc, list):\n",
    "            words_in_doc = doc # Doc kann auch eine List sein.\n",
    "        else:\n",
    "            words_in_doc = doc.split()\n",
    "        for term in words_in_doc:\n",
    "            tf = tf_weight(term, doc)\n",
    "            if tf > 0:\n",
    "                idf_weight = np.log10(doc_count/ tf)\n",
    "                result[term] = idf_weight\n",
    "            else: result[term] = 0\n",
    "    print(result)\n",
    "    return result\n",
    "\n",
    "test_doc: str = (\"As the Rangers found out in last year's playoffs, it's too late to try \"\n",
    "                 \"line-juggling at this point.\")\n",
    "tf_vals_test: list[float] = [tf_weight(term, test_doc) for term in test_doc.split()]\n",
    "print(tf_vals_test)\n",
    "        \n"
   ]
  },
  {
   "cell_type": "code",
   "execution_count": 33,
   "metadata": {
    "deletable": false,
    "editable": false,
    "nbgrader": {
     "cell_type": "code",
     "checksum": "f30df51e12e16297bc81c7acf00317ca",
     "grade": true,
     "grade_id": "cell-9731d11737a1ae03",
     "locked": true,
     "points": 2,
     "schema_version": 3,
     "solution": false,
     "task": false
    }
   },
   "outputs": [
    {
     "name": "stdout",
     "output_type": "stream",
     "text": [
      "{'Personal': 0, 'attacks?': 0, 'Deliberate': 0, 'misinterpretation': 0, 'of': 0, 'a': 0, 'persons': 0, 'statement?': 0, '(By': 0, 'cutting': 0, 'out': 0, 'the': 0, 'part': 0, 'statement,': 0, 'he': 0, 'tries': 0, 'to': 0, 'blunt': 0, 'thrust': 0, 'sentence.': 0, 'He': 0, 'never': 0, 'addresses': 0, 'issue': 0, 'extreemist': 0, 'peace': 0, 'people': 0, 'not': 0, 'holding': 0, 'true': 0, 'their': 0, 'ideals.)': 0, 'Ignoring': 0, 'challenge?': 0, '(He': 0, 'ignores': 0, 'challenge': 0, 'that': 0, 'extreemists': 0, 'for': 0, 'tend': 0, 'be': 0, 'quite': 0, 'insistent': 0, 'everyone': 0, 'accept': 0, 'ideals': 0, 'world,': 0, 'and': 0, 'have': 0, 'even': 0, 'turned': 0, 'violent.': 0, '(Witness,': 0, 'Chicago,': 0, 'summer': 0, '1968)).': 0, 'Paranoia?': 0, 'assumes': 0, 'anyone': 3.1310642694302033, 'who': 0, 'argues': 0, 'against': 0, 'his': 0, 'viewpoint': 0, 'must': 0, '\"masturbate': 0, 'over': 0, 'Guns\\'N\\'Ammo.\")': 0, 'Fire': 0, 'up': 0, 'Oven,': 0, 'it': 0, \"isn't\": 0, 'hot': 0, 'enough!': 0, ':': 0, 'Unfortunately,': 0, 'is': 0, 'way': 0, 'league': 0, 'heading...': 0, 'You': 0, \"can't\": 0, 'fight,': 0, 'so': 0, 'only': 0, 'retaliate': 0, 'someone': 0, 'with': 0, 'cheap': 0, 'shot': 0, 'when': 0, 'ref': 0, 'looking.': 0, 'Ulf': 0, 'has': 0, 'brought': 0, 'this': 0, 'high': 0, 'level...': 0, 'Players': 0, 'stuck': 0, 'in': 0, 'past': 0, '(like': 0, 'Neely)': 0, 'prefer': 0, 'fights': 0, 'shots': 0, 'are': 0, 'at': 0, 'disadvantage': 0, 'new': 0, 'system.': 0, 'Lets': 0, 'face': 0, 'it,': 0, 'A': 0, 'sticking)': 0, 'very': 0, 'effective': 0, 'method...': 0, 'It': 0, 'easier': 0, 'hide': 0, 'from': 0, 'refs,': 0, 'better': 0, 'chance': 0, 'causing': 0, 'injury,': 0, 'you': 0, 'can': 0, 'draw': 0, 'into': 0, 'way.': 0, 'I': 0, \"don't\": 0, 'like': 0, 'but': 0, \"that's\": 0, 'going.': 0, 'By': 0, 'way,': 0, 'there': 0, 'was': 0, 'rather': 0, 'good': 0, 'hit': 0, 'by': 0, 'last': 0, 'Penguin-Devil': 0, 'game.': 0, 'Managed': 0, 'NJ': 0, 'player': 0, 'stick.': 0, '(Must': 0, 'been': 0, 'legal': 0, 'hit...': 0, 'After': 0, 'all,': 0, 'clean': 0, 'allowed': 0, 'do': 0, 'things': 0, 'that.)': 0, 'Are': 0, 'any': 0, 'ex': 0, 'NHL': 0, 'hockey': 0, 'players': 0, 'might': 0, 'care': 0, 'comment': 0, 'on': 0, 'end': 0, 'ridiculously': 0, 'long': 0, 'discussion?': 0, 'While': 0, 'watching': 0, 'Penguins/Devils': 0, 'game': 0, 'night,': 0, 'saw': 0, '\"slash\"': 0, 'Barrasso': 0, 'took': 0, 'neck.': 0, 'This': 0, 'mind': 0, 'goaltender': 0, 'had': 0, 'jugular': 0, 'vein': 0, 'cut': 0, 'skate.': 0, 'think': 0, 'Sabre,': 0, \"I'm\": 0, 'positive.': 0, 'Does': 0, 'remember/know': 0, 'name?': 0, 'What': 0, 'happened': 0, 'him': 0, 'since?': 0, 'about': 0, 'whose': 0, 'skate': 0, 'goalie?': 0, 'Name?': 0, 'Info?': 0, 'Has': 0, 'ever': 0, 'before': 0, 'game?': 0, 'Thanks,': 0, 'John': 0, 'Girash': 0, 'writes...': 0, 'get': 0, 'WJR': 0, 'LONG': 0, 'away.': 0, 'The': 0, 'problem': 0, 'that,': 0, 'because': 0, 'those': 0, 'well': 0, 'known': 0, 'beloved': 0, '\"contractual': 0, 'obligations\",': 0, 'will': 0, 'doing': 0, 'Tiger': 0, 'baseball': 0, 'instead': 0, 'Wings': 0, 'playoff': 0, 'games': 0, 'probably': 0, 'half': 0, 'could': 0, 'play.': 0, 'For': 0, 'series,': 0, 'know': 0, \"tonight's\": 0, 'believe': 0, '5': 0, '6': 0, '(if': 0, 'necessay)': 0, 'bumped.': 0, 'Ron': 0, 'HELP!': 0, 'here': 0, 'computer': 0, 'New': 0, 'Jersey': 0, 'no': 0, 'access': 0, 'radio': 0, 'or': 0, 'TV.': 0, 'Could': 0, 'kindly': 0, 'post': 0, 'score': 0, 'Canucks-Jets': 0, 'Thanks': 0, 'advance.': 0, 'If': 0, 'ESPN': 0, 'pisses': 0, 'off,': 0, 'call': 0, 'them': 0, '-': 0, 'they': 0, 'respond': 0, 'calls.': 0, 'Last': 0, 'night': 0, 'called': 0, 'said': 0, 'were': 0, 'we': 0, \"couldn't\": 0, 'see': 0, 'sudden-death': 0, 'overtime': 0, 'BUffalo': 0, 'Apparently': 0, 'received': 0, 'enough': 0, 'calls': 0, 'waited': 0, 'finish': 0, 'Their': 0, 'phone': 0, 'number': 0, '203-585-2000': 0, 'As': 0, 'Rangers': 0, 'found': 0, \"year's\": 0, 'playoffs,': 0, \"it's\": 0, 'too': 0, 'late': 0, 'try': 0, 'line-juggling': 0, 'point.': 0, 'gld': 0, 'Roger': 0, 'now': 0, 'r.s.baseball': 0, 'spewing': 0, 'expertise': 0, '(i.e.': 0, 'being': 0, 'dickhead).': 0, 'guess': 0, 'afraid': 0, 'posting': 0, 'anything': 0, 'here,': 0, 'knows': 0, 'what': 0, 'expect.': 0, 'am': 0, 'same': 0, 'sentiment': 0, 'Bart,': 0, 'realistically,': 0, 'town': 0, \"DOESN'T\": 0, 'WANT': 0, 'TO': 0, 'pay': 0, 'quality': 0, 'hence': 0, 'loosing': 0, 'these': 0, 'left,': 0, 'right': 0, 'center.': 0, 'Labour': 0, 'also': 0, 'responsible': 0, 'boycott': 0, 'Pocklington': 0, 'movement.': 0, 'would': 0, 'Oilers': 0, 'stay,': 0, 'given': 0, 'situation,': 0, 'bye-bye': 0, 'Oilers.': 0, 'RAPTURE': 0, 'OCTOBER': 0, '28,': 0, '1992': 0, 'WHAT': 0, 'DO': 0, 'IN': 0, 'CASE': 0, 'YOU': 0, 'MISS': 0, 'THE': 0, 'I.': 0, 'STAY': 0, 'CALM': 0, 'AND': 0, 'NOT': 0, 'PANIC': 0, 'Your': 0, 'natural': 0, 'reaction': 0, 'once': 0, 'realize': 0, 'just': 0, 'occurred': 0, 'panic.': 0, 'But': 0, 'absolutely': 0, 'useless': 0, 'now.': 0, 'wanted': 0, 'God': 0, 'rapture,': 0, 'have,': 0, 'chose': 0, 'wait.': 0, 'Now': 0, 'your': 0, 'stay': 0, 'earth': 0, 'endure': 0, 'Tribulation.': 0, '\"But': 0, 'shall': 0, 'unto': 0, 'end,': 0, 'saved.\"': 0, 'Matthew': 0, '24:13': 0, 'II.': 0, 'REALIZE': 0, 'ARE': 0, 'NOW': 0, 'LIVING': 0, 'DURING': 0, 'GREAT': 0, 'TRIBULATION': 0, 'Great': 0, 'Tribulation': 0, 'seven': 0, 'year': 0, 'period': 0, 'starting': 0, 'time': 0, 'rapture': 0, 'until': 0, \"Christ's\": 0, 'second': 0, 'coming.': 0, 'Also': 0, 'as': 0, '\"the': 0, \"Jacob's\": 0, \"(Israel's)\": 0, 'trouble\"': 0, '(Jere': 0, '30:7)': 0, '\"Daniel\\'s': 0, 'Seventieth': 0, 'Week\"': 0, '(Dan': 0, '9),': 0, 'unparalleled': 0, 'trouble': 0, 'horror.': 0, 'III.': 0, 'GATHER': 0, 'AS': 0, 'MANY': 0, 'BIBLES': 0, 'CAN': 0, 'HIDE': 0, 'THEM': 0, 'Soon': 0, 'after': 0, 'Antichrist': 0, 'becomes': 0, 'leader': 0, 'European': 0, 'Community': 0, '(the': 0, 'revived': 0, 'Roman': 0, 'Empire),': 0, 'Bibles': 0, 'confiscated': 0, 'owning': 0, 'Bible': 0, 'tantamount': 0, 'treason.': 0, 'Bible,': 0, 'however,': 0, 'most': 0, 'valuable': 0, 'possession': 0, 'during': 0, 'IV.': 0, 'READ': 0, 'BIBLE': 0, 'LIKE': 0, 'HAVE': 0, 'NEVER': 0, 'IT': 0, 'BEFORE': 0, 'YOUR': 0, 'LIFE': 0, 'Since': 0, 'all': 0, 'may': 0, 'confiscated,': 0, 'if': 0, 'careful,': 0, 'imperative': 0, 'read': 0, 'Word': 0, 'memorize': 0, 'whole': 0, 'passages': 0, 'quote': 0, 'them.': 0, 'especially': 0, 'important': 0, 'Daniel,': 0, 'Luke': 0, '21,': 0, '24,': 0, 'Revelation,': 0, 'Amos,': 0, 'books': 3.4907526028548195, 'describe': 0, 'events': 0, 'expect': 0, 'unfold': 0, 'you.': 0, 'V.': 0, 'PRAY': 0, 'PRAYED': 0, 'Pray': 0, 'power': 0, 'comes': 0, 'strongly': 0, 'upon': 0, 'pray': 0, 'pray.': 0, 'Only': 0, 'reading': 0, 'praying': 0, 'gain': 0, 'spiritual': 0, 'strength': 0, 'able': 0, 'withstand': 0, 'torture': 0, 'sake': 0, 'Christ.': 0, 'VI.': 0, 'TAKE': 0, 'MARK': 0, 'AT': 0, 'ANY': 0, 'COST': 0, 'EVEN': 0, 'FIT': 0, 'MEANS': 0, 'LOVED': 0, 'ONES': 0, 'DIE': 0, 'MARTYRS': 0, 'Community,': 0, 'institute': 0, 'world': 0, 'economic': 0, 'system,': 0, 'designed': 0, 'cannot': 0, 'buy,': 0, 'sell,': 0, 'eat': 0, 'unless': 0, 'take': 0, 'mark': 0, 'name.': 0, 'Money': 0, 'useless.': 0, '\"And': 0, 'causes': 0, 'both': 0, 'small': 0, 'great,': 0, 'rich': 0, 'poor,': 0, 'free': 0, 'slave,': 0, 'receive': 0, 'hand': 0, 'foreheads,': 0, 'one': 0, 'buy': 0, 'sell': 0, 'except': 0, 'name': 0, 'beast,': 0, 'Here': 0, 'wisdom.': 0, 'Let': 0, 'understanding': 0, 'calculate': 0, 'man:': 0, 'His': 0, '666\"': 0, 'Revelation': 0, '13:16-18.': 0, 'implement': 0, 'greatest': 0, 'slaughter': 0, 'humanity.': 0, 'Think': 0, 'various': 0, 'ways': 0, 'tortured': 0, 'killed': 0, 'past,': 0, 'such': 0, 'Holocaust.': 0, '[or': 0, 'maybe': 0, 'crusades?': 0, '-M]': 0, 'imagine': 0, 'horror': 0, 'place': 0, 'under': 0, \"Antichrist's\": 0, 'rule;': 0, 'much': 0, 'worse': 0, 'than': 0, 'history': 0, '(Matt': 0, '24:21)': 0, '\"...I': 0, 'altar': 0, 'souls': 0, 'slain': 0, 'word': 0, 'testimony': 0, 'which': 0, 'held.': 0, 'And': 0, 'white': 0, 'robe': 0, 'each': 0, 'them:': 0, 'should': 0, 'rest': 0, 'little': 0, 'while': 0, 'longer,': 0, 'fellow': 0, 'servants': 0, 'brethren,': 0, 'were,': 0, 'completed.\"': 0, '6:9,': 0, '11.': 0, 'targets': 0, 'Jews': 0, 'Christians': 0, 'worship': 0, 'image': 0, 'forehead': 0, 'hadn/': 0, '\"...And': 0, 'beheaded': 0, 'witness': 0, 'Jesus': 0, 'God,': 0, 'worshiped': 0, 'beast': 0, 'image,': 0, 'foreheads': 0, 'hands.\"': 0, '20:4.': 0, 'use': 0, 'every': 0, 'form': 0, 'humiliation': 0, 'order': 0, 'force': 0, 'renounce': 0, 'Nor': 0, 'hesitate': 0, 'loved': 0, 'ones': 0, 'you,': 0, 'children,': 0, 'torturing': 0, 'killing': 0, 'front': 0, 'tempted': 0, 'mark.': 0, 'consigned': 0, 'death,': 0, 'Lake': 0, 'Fire.': 0, '[Sung': 0, 'eloquently': 0, 'Johnny': 0, 'Cash...-M]': 0, 'redeemed.': 0, 'short': 0, 'eternal': 0, 'life': 0, 'then': 0, '[sic]': 0, 'torment': 0, 'Ring^H^H^H^H': 0, '\"...If': 0, 'worships': 0, 'Beast': 0, 'receives': 0, 'hand,': 0, 'himself': 0, 'drink': 0, 'wine': 0, 'wrath': 0, 'poured': 0, 'full': 0, 'cup': 0, 'indignation.': 0, 'An': 0, 'tormented': 0, 'fire': 0, 'brimstone': 0, 'presence': 0, 'holy': 0, 'angels': 0, 'Lamb.\"': 0, '-Revelation': 0, '14:9-10': 0, '[and': 0, 'season-ticket': 0, 'holders;': 0, 'special': 0, 'hats': 0, 'first': 0, '5,000': 0, 'stadium': 0, '--M]': 0, 'VII.': 0, 'SET': 0, 'PLAN': 0, 'MOTION': 0, 'FOR': 0, 'SURVIVAL': 0, 'Although': 0, 'government': 0, 'Tribulation,': 0, 'hiding': 0, 'growth': 0, 'strengthening,': 0, 'since': 0, 'extremely': 0, 'strong': 0, 'Christ': 0, 'suffer': 0, 'die': 0, 'sake.': 0, 'thing': 0, 'move': 0, 'city': 0, 'rural': 0, 'mountainous': 0, 'area,': 0, 'control': 0, 'come': 0, 'least': 0, 'populated': 0, 'areas.': 0, 'Take': 0, 'TV': 0, 'attuned': 0, 'discern': 0, 'schedule': 0, '[\"As': 0, 'weather': 0, 'map,': 0, 'heavy': 0, 'currents': 0, 'sweep': 0, 'our': 0, 'area': 0, 'daybreak.': 0, 'Expect': 0, 'delays': 0, 'I-95': 0, 'outbound,': 0, 'perhaps': 0, 'school': 0, 'closings\"': 0, 'Store': 0, 'water': 0, 'food,': 0, 'purchase': 0, 'without': 0, 'Water': 0, 'lakes': 0, 'streams': 0, 'polluted': 0, 'radioactive': 0, 'waste': 0, 'nuclear': 0, 'warfare': 0, 'eventually': 0, 'turn': 0, 'blood.': 0, '[Get': 0, 'filter.': 0, 'Bring': 0, 'different': 0, 'types': 0, 'clothing': 0, 'seasons,': 0, 'flashlights,': 0, 'batteries,': 0, 'generators,': 0, 'First': 0, 'Aid': 0, 'supplies.': 0, 'In': 0, 'short,': 0, 'learn': 0, 'how': 0, 'survive': 0, 'live': 0, 'off': 0, 'land': 0, 'pioneers': 0, 'did.': 0, 'VIII.': 0, 'TRUST': 0, 'NO': 0, 'ONE': 0, 'There': 0, 'secret': 0, 'agents': 0, 'everywhere,': 0, 'spying': 0, 'government.': 0, 'Be': 0, 'lookout.': 0, '[Perot': 0, 'supporters': 0, 'note': 0, 'IX.': 0, 'WATCH': 0, 'ANTICHRIST': 0, 'to,': 0, 'deceive': 0, 'many': 0, 'thinking': 0, 'great': 0, 'bring': 0, 'prosperity': 0, 'hungry': 0, 'it.': 0, 'We': 0, 'infer': 0, 'Daniel': 0, '11': 0, 'certain': 0, 'characteristics': 0, 'man.': 0, 'Popular': 0, 'three': 0, 'years': 0, 'dominate': 0, 'airwaves.': 0, 'physically': 0, 'appealing,': 0, 'highly': 0, 'intelligent,': 0, 'Christ-like': 0, 'charisma': 0, 'personality.': 0, 'international': 0, 'politician,': 0, 'military': 0, 'tactician': 0, 'expert,': 0, 'peace;': 0, 'make': 0, 'treaty': 0, 'Jews,': 0, 'break': 0, 'years.': 0, 'supernatural': 0, 'mortal': 0, 'wound': 0, 'head': 0, 'healed.': 0, 'Even': 0, 'elect': 0, 'deceived.': 0, '[Dominate': 0, 'airwaves?': 0, 'Perhaps': 0, 'Howard': 0, 'Stern': 0, 'Rush': 0, 'Limbaugh...-M]': 0, 'antichrist': 0, 'companion,': 0, 'False': 0, 'Prohphet': 0, '[sic],': 0, 'an': 0, 'likeness': 0, 'cause': 0, 'speak.': 0, 'All': 0, 'refuse': 0, 'worhsip': 0, 'killed.': 0, 'final': 0, 'insane,': 0, 'demonized': 0, 'spirits': 0, 'everywhere.': 0, 'X.': 0, 'GIVE': 0, 'UP': 0, 'HOPE!': 0, 'triumphant': 0, 'return': 0, 'defeated.': 0, 'steadfast': 0, 'endure,': 0, 'rewarded': 0, 'greatly': 0, 'Heaven.': 0, 'Start': 0, 'fervently': 0, 'salvation': 0, 'sould': 0, 'depends': 0, 'Determine': 0, 'may,': 0, 'Antichrist.': 0, 'still': 0, 'saved': 0, 'remain': 0, 'saved,': 0, '\"faithful': 0, 'death.\"': 0, 'May': 0, 'find': 0, 'ready': 0, 'hour': 0, 'glorious': 0, 'return!': 0, '******************************************************************************': 0, 'Mike': 0, 'Cluff': 0, '*': 0, '\"Christianity': 0, 'Stupid.': 0, 'v22964qs@ubvms': 0, 'mike%luick@ubvms': 0, 'Give': 0, 'up.\"': 0, '-Negativland': 0, 'UB': 0, 'Language': 0, 'Perception': 0, 'Laboratory': 0, '/\\\\/\\\\/\\\\/\\\\/\\\\/\\\\/\\\\/\\\\/\\\\/\\\\/\\\\/\\\\/\\\\/\\\\/\\\\/\\\\/\\\\/\\\\/\\\\/\\\\/\\\\/\\\\/\\\\/\\\\/\\\\/\\\\/\\\\/\\\\/\\\\/\\\\/\\\\/\\\\/\\\\/\\\\': 0, 'Bob': 0, 'Beauchaine': 0, 'bobbe@vice.ICO.TEK.COM': 0, 'They': 0, 'Queens': 0, 'blew': 0, 'Bronx': 0, 'away,': 0, 'sank': 0, 'Manhattan': 0, 'sea.': 0, 'agree': 0, 'thouroughly!!': 0, 'Screw': 0, 'damn': 0, 'contractual': 0, 'agreements!': 0, 'Show': 0, 'exciting': 0, 'lose': 0, 'fans': 0, '(of': 0, 'while)': 0, 'quickly': 0, 'decisions': 0, 'this.': 0, 'Just': 0, 'my': 0, '$.02': 0, 'Someone': 0, 'asked': 0, 'rosters': 0, 'college': 0, 'senior': 0, 'all-star': 0, 'shrine': 0, 'held': 0, 'Orono,': 0, 'Maine': 0, 'earlier': 0, 'month:': 0, 'WEST': 0, 'Derek': 0, 'Plante': 0, 'MINN-DULUTH': 0, '(west': 0, 'MVP': 0, 'game)': 0, 'Greg': 0, 'Johnson': 0, 'N': 0, 'DAKOTA': 0, 'Bryan': 0, 'Smolinski': 0, 'MICH': 0, 'ST': 0, 'Fred': 0, 'Knipscheer': 0, 'CLOUD': 0, 'STATE': 0, 'Chris': 0, 'Campbell': 0, 'WISCONSIN-SUPERIOR': 0, 'Glenn': 0, 'Lang': 0, 'UW-SUPERIOR': 0, 'Bergeron': 0, 'MIAMI': 0, 'Joe': 0, 'Cook': 0, 'Jamie': 0, 'Erb': 0, 'BEMIDIJI': 0, 'Brett': 0, 'Harkins': 0, 'BOWLING': 0, 'GREEN': 0, 'David': 0, 'Roberts': 0, 'MICHIGAN': 0, 'Todd': 0, 'Trettier': 0, 'UW-STEVENS': 0, 'POINT': 0, 'Young': 0, 'TECH': 0, 'Hauer': 0, 'Pat': 0, 'Neaton': 0, 'Barry': 0, 'Richter': 0, 'WISCONSIN': 0, 'Smith': 0, 'LSSU': 0, 'Valicevic': 0, \"MARY'S\": 0, 'Shaun': 0, 'Gravistin': 0, 'AK-ANCHORAGE': 0, '(goalie)': 0, 'Tom': 0, 'Newman': 0, 'MINNESOTA': 0, '\"': 0, 'Schoen': 0, 'DENVER': 0, 'Mason': 0, '(coach)': 0, 'Steve': 0, 'Nelson': 0, 'Jim': 0, 'Knapp': 0, 'EAST': 0, 'Jack': 0, 'Duffy': 0, 'YALE': 0, 'Foy': 0, \"N'EASTERN\": 0, 'Scott': 0, 'Meehan': 0, 'MASS-LOWELL': 0, 'Aaron': 0, 'Miller': 0, 'VERMONT': 0, 'Kevin': 0, \"O'SUllivan\": 0, 'BU': 0, 'Potter': 0, 'CONNECTICUT': 0, 'Ray': 0, 'Alcindor': 0, 'MIDDLEBURY': 0, 'Carvel': 0, 'LAWRENCE': 0, 'Cowan': 0, 'PROVIDENCE': 0, 'Dubinksy': 0, 'CLARKSON': 0, 'Dan': 0, 'Gravelle': 0, 'MERRIMACK': 0, 'Ryan': 0, 'Hughes': 0, 'CORNELL': 0, 'Mark': 0, 'Kauffman': 0, 'Matt': 0, 'Mallgrave': 0, 'HARVARD': 0, 'McGee': 0, 'BABSON': 0, 'McNair': 0, 'RIT': 0, 'Montgomery': 0, 'MAINE': 0, 'Sacco': 0, 'Rogles': 0, \"(East's\": 0, 'Garth': 0, 'Snow': 0, 'Grant': 0, 'Wood': 0, 'HAMILTON': 0, 'Brian': 0, 'Durocher': 0, 'BROWN': 0, 'Shawn': 0, 'Walsh': 0, 'Bruce': 0, 'Marshalll': 0, 'These': 0, 'original': 0, 'rosters.': 0, 'few': 0, 'changes': 0, 'actual': 0, '(guys': 0, 'participate': 0, 'whatever).': 0, 'Speaking': 0, \"Paddock--what's\": 0, 'slagging': 0, 'Sandlak?': 0, 'Sandlak': 0, 'puts': 0, 'physical': 0, 'waking': 0, 'real': 0, 'mistake.': 0, \"Isn't\": 0, 'Sandbag': 0, 'injury': 0, 'anyways?': 0, 'Paddock': 0, 'meant': 0, 'say': 0, 'Momesso': 0, 'artist.': 0, 'more': 0, 'sense.': 0, '[': 0, 'Deletia;': 0, 'case': 0, 'anybody': 0, \"hadn't\": 0, 'noticed,': 0, 'Frank': 0, 'debating': 0, '\"objective': 0, 'morality\",': 0, 'seemingly': 0, 'hitting': 0, 'semantics.': 0, ']': 0, 'non-native': 0, 'English-speaker,': 0, \"I've\": 0, 'misunderstood': 0, 'usage': 0, '\"objective\",': 0, 'tried': 0, 'debate': 0, 'something': 0, 'assert;': 0, 'apologies.': 0, 'loss': 0, 'really': 0, 'mean,': 0, 'though.': 0, 'Wrong': 0, 'age': 0, 'universe': 0, 'direct': 0, 'effect': 0, \"humanity's\": 0, 'sticking': 0, 'power,': 0, 'moral': 0, 'system': 0, 'society': 0, 'have.': 0, 'saying': 0, 'Universe': 0, '\"real': 0, 'age\",': 0, 'evidence': 0, 'it;': 0, 'cosmology,': 0, 'astronomy': 0, 'on.': 0, 'independent': 0, \"people's\": 0, 'opinions': 0, 'lot': 0, 'matter,': 0, 'yet': 0, 'empirical': 0, 'tests': 0, 'consistently': 0, 'seem': 0, 'give': 0, 'roughly': 0, 'results.': 0, 'does': 0, 'that.': 0, 'Put': 0, 'creationist': 0, 'task': 0, 'performing': 0, 'calculations,': 0, '(s)he': 0, 'makes': 0, 'blatant': 0, 'errors': 0, 'measuring': 0, 'calculating,': 0, 'result': 0, 'test': 0, 'same.': 0, 'Because': 0, 'logically': 0, 'consistent': 0, 'contradict': 0, 'opinion.': 0, 'opinion,': 0, 'own': 0, '(which': 0, 'opinion)': 0, 'mine,': 0, 'conducted': 0, 'identical': 0, 'manner,': 0, 'no?': 0, \"don't,\": 0, 'showing': 0, 'some': 0, 'validity': 0, 'beyond': 0, 'opinion': 0, 'Map': 0, 'activity': 0, 'nerves': 0, 'neural': 0, 'activity,': 0, 'mean': 0, 'pain.': 0, 'sharp': 0, 'point,': 0, \"I'll\": 0, 'that;': 0, \"haven't\": 0, 'me': 0, 'quantify': 0, 'morality.': 0, 'agree.': 0, 'Hypotheses,': 0, 'change;': 0, 'hold': 0, '\"ultimate': 0, 'hypothesis': 0, 'morality\"': 0, 'towards': 0, 'gravitate,': 0, 'changed': 0, 'imaginable,': 0, 'producing': 0, 'results': 0, 'suitable': 0, 'tasks': 0, 'purposes.': 0, '\"Better\"': 0, '\"worse\"': 0, '(almost?)': 0, 'always': 0, 'defined': 0, 'context': 0, 'prediction': 0, '_always_': 0, 'correct,': 0, '*within*': 0, '*that*': 0, '*moral*': 0, '*system*.': 0, 'need': 0, 'objective': 0, 'definition': 0, '\"good\"': 0, '\"bad\";': 0, 'wish': 0, 'luck.': 0, \"_you're_\": 0, 'doing,': 0, 'assuming': 0, '\"objectively': 0, 'real\"': 0, 'morality?': 0, 'Besides,': 0, '_exactly_': 0, 'provably': 0, 'wrong': 0, 'Claiming': 0, 'morality': 0, 'suddenly': 0, 'positive': 0, 'claim?': 0, '_can_': 0, 'lend': 0, 'credence': 0, 'claim;': 0, 'ponder': 0, 'individuals,': 0, 'fully': 0, 'functional': 0, 'human': 0, 'beings': 0, 'members': 0, 'society,': 0, 'wildly': 0, 'codes.': 0, 'base,': 0, 'hir': 0, \"'incorrect'\": 0, 'seems': 0, 'function': 0, 'fine.': 0, 'How': 0, 'come?': 0, 'easiest': 0, 'pick': 0, 'societies;': 0, 'say,': 0, 'islamic': 0, 'polynesian': 0, 'matrilineal': 0, 'example': 0, 'exist).': 0, 'deletia': 0, 'testing': 0, 'footballs': 0, 'desks': 0, 'One': 0, 'circumstances,': 0, 'achieve': 0, 'goal,': 0, 'reason.': 0, 'Other': 0, 'times': 0, 'else,': 0, 'longer': 0, 'clearly': 0, 'all.': 0, 'Some': 0, 'hard': 3.4907526028548195, '\"good\",': 0, \"we'd\": 0, 'seldom': 0, 'sort': 0, 'goal': 0, 'mass': 0, 'murder': 0, 'lead': 0, 'into.': 0, 'Still,': 0, 'Aztecs': 0, 'fine': 0, 'Spaniards': 0, 'wiped': 0, 'out.': 0, 'almost': 0, 'means;': 0, 'sometimes': 0, 'why.': 0, 'claim': 0, 'thereby': 0, 'fixed': 0, 'stone,': 0, 'immutable.': 0, '[...]': 0, 'Yes,': 0, 'too,': 0, 'two': 0, 'down': 0, 'line;': 0, \"doesn't\": 0, 'look': 0, 'values': 0, 'Absolute': 0, 'nonsense.': 0, 'decision': 0, 'made': 0, \"Pocklington's.\": 0, '20': 0, 'mill': 0, 'Gretzky.': 0, 'Gretzky': 0, \"wasn't\": 0, 'upset': 0, 'win': 0, 'LA': 0, 'submit': 0, 'worth': 0, 'mill.': 0, 'thinks': 0, '(or': 0, 'thought)?': 0, '\"thought\"': 0, 'revealed': 0, 'own.': 0, 'Big': 0, 'deal.': 0, 'purpose': 0, 'diving': 0, 'merely': 0, 'attempt': 0, 'penalty.': 0, 'trying': 0, 'checkers': 0, 'keep': 0, 'distance': 0, \"won't\": 0, 'fooled.': 0, 'why': 0, 'Lemieux': 0, 'change': 0, 'Why': 0, '1': 0, 'dimensional': 0, 'over-rated': 0, 'type': 0, 'Hull': 0, 'Salami.': 0, '--': 0, 'thoughts:': 0, 'usually': 0, 'simply': 0, 'fun': 0, 'player,': 0, 'resist.': 0, 'During': 0, 'Pens-Devils': 0, 'period,': 0, 'Stevens': 0, 'penalty': 0, 'box,': 0, 'Nicholls': 0, 'punched': 0, 'Kjell': 0, 'Samuellson': 0, 'face,': 0, 'raised': 0, 'stick': 0, 'handed': 0, 'sword': 0, 'defend': 0, 'himself!': 0, 'do,': 0, '8\\'7\"': 0, '355': 0, 'pounds,': 0, 'laugh!': 0, 'speaking': 0, 'Swedish': 0, 'Penguins': 0, 'defensemen,': 0, 'getting': 0, 'lately.': 0, 'frequent': 0, 'everybody': 0, 'Meadowlands': 0, 'officials': 0, 'rammed': 0, 'butt': 0, \"Devil's\": 0, 'throat.': 0, 'supported': 0, 'argument': 0, '\"he': 0, 'job': 0, 'irritating,\"': 0, \"he's\": 0, 'push': 0, 'edge': 0, 'IMHO.': 0, 'Of': 0, 'course,': 0, \"Holik's\": 0, 'chop': 0, \"Barrasso's\": 0, 'neck': 0, 'sportsmanlike': 0, 'either.': 0, 'following': 0, '\"The': 0, 'beat': 0, 'injure': 0, 'them\"': 0, 'philosophy.': 0, 'Modern': 0, 'Drama': 0, 'professor': 0, 'pointed': 0, 'other': 0, 'day,': 0, 'Jagr': 0, 'stoned': 0, 'pretty': 0, 'Tuesday': 0, 'well,': 0, 'although': 0, '30': 0, 'seconds': 0, 'danced': 0, 'around': 0, 'Devils': 0, 'exciting.': 0, 'appreciated.': 0, 'Pierre': 0, 'Turgeon,': 0, 'formely': 0, 'Sabres': 0, 'Isles': 0, 'wears': 0, '#77': 0, '(at': 0, 'did': 0, 'Buffalo': 0, '...)': 0, '(about': 0, 'reply)': 0, 'constantly': 0, 'verge': 0, 'flaming,': 0, 'Usenet,': 0, 'diplomacy': 0, 'best': 0, 'ensure': 0, 'voice': 0, 'reason': 0, 'gets': 0, 'through,': 0, 'it?': 0, 'Kevin,': 0, 'unfortunately': 0, 'delving': 0, 'field': 0, 'about,': 0, 'algorithms.': 0, 'reasoning,': 0, 'along': 0, 'lines': 0, 'Penrose,': 0, 'claimed': 0, 'mathematical': 0, \"'insight'\": 0, 'algorithmic': 0, 'book': 0, '_The': 0, \"emperor's\": 0, 'mind:': 0, 'Concerning': 0, 'computers,': 0, 'minds,': 0, 'laws': 0, 'physics_.': 0, 'However,': 0, \"Penrose's\": 0, '_has_': 0, 'insight,': 0, 'similar': 0, 'wavefunctions': 0, 'collapse': 0, 'consciously': 0, 'look,': 0, 'illusions.': 0, 'obviouslu': 0, 'taking': 0, 'viewpoints': 0, 'consciousness': 0, 'evolutionary': 0, 'perspective,': 0, 'realising': 0, 'special,': 0, 'certainly': 0, 'useful.': 0, 'Thinking': 0, 'back': 0, 'wrote,': 0, 'worms': 0, 'minds': 0, 'not?': 0, 'experience': 0, 'pain,': 0, 'behave': 0, 'Yet': 0, 'conceivable': 0, 'day': 0, 'future': 0, 'perform': 0, '\"total': 0, 'synthesis': 0, 'C.': 0, 'elegans\"': 0, 'elements.': 0, 'Would': 0, 'worm': 0, 'mind?': 0, 'extent.': 0, 'brains': 0, 'work': 0, 'fact,': 0, 'substantial': 0, '(Skarda,': 0, '1985;': 0, 'Skarda': 0, '&': 0, 'Freeman': 0, '1987)': 0, 'less': 0, 'chaotically,': 0, 'generating': 0, 'randomness': 0, 'mental': 0, 'states': 0, 'evolve.': 0, 'Our': 0, 'genetic': 0, 'algorithm': 0, 'suppose.': 0, 'Indeed,': 0, 'unlikely,': 0, 'vast': 0, 'impact': 0, 'nurture': 0, 'brain.': 0, 'suggest,': 0, 'understand': 0, 'collection': 0, 'references': 0, 'mentioned,': 0, 'again.': 0, 'experts': 0, 'nature': 0, 'conscious': 0, 'neurologists,': 0, 'neuropsychologists': 0, 'biologists': 0, '(but': 0, 'flame': 0, 'opinions),': 0, 'study': 0, 'conscious.': 0, 'repeating': 0, 'advice': 0, 'discussion': 0, 'anywhere': 0, 'backgrounds': 0, 'different.': 0, 'please,': 0, 'QM': 0, 'physicists': 0, 'happy': 0, 'plays': 0, 'role': 0, 'physics.': 0, \"doesn't.\": 0, 'Again,': 0, '_brains': 0, 'computers_.': 0, \"Don't\": 0, 'forget': 0, 'else': 0, 'differently.': 0, 'primary': 0, \"'purpose'\": 0, 'perception': 0, 'guidance': 0, 'action,': 0, 'self-awareness': 0, 'intelligence': 0, 'later': 0, 'appearances.': 0, 'expecting': 0, 'idea': 0, \"'green'\": 0, 'somewhere,': 0, 'chemical.': 0, 'sensation': 0, 'time-dependent': 0, 'pattern': 0, 'V4': 0, 'visual': 0, 'cortex,': 0, 'distributed': 0, 'help': 0, 'areas': 0, 'V1': 0, 'V2': 0, 'firing': 0, 'pattern.': 0, 'thought': 0, 'global': 0, 'induction': 0, 'local': 0, 'patterns,': 0, 'idle': 0, 'speculation.': 0, 'Scientific': 0, \"American's\": 0, 'September': 0, 'Have': 0, 'already': 0, 'cover': 0, 'cover?': 0, ';-)': 0, 'articles': 0, 'perception,': 0, 'interested.': 0, 'again,': 0, 'please': 0, 'subjective': 0, 'experiences': 0, 'observed': 0, 'third-person': 0, 'perspective.': 0, 'nothing': 0, 'neuronal': 0, 'go': 0, 'conclude': 0, 'mind.': 0, 'Kalat': 0, '(1988)': 0, 'writes': 0, 'numerous': 0, 'examples': 0, 'where': 0, 'electric': 0, 'stimulation': 0, 'brain': 0, 'led': 0, \"patients'\": 0, 'state': 0, 'instance,': 0, 'patient': 0, 'septal': 0, 'stimulated': 0, '(without': 0, 'knowledge)': 0, 'remote': 0, 'psychiatric': 0, 'interview': 0, 'cured': 0, 'depression,': 0, 'started': 0, 'discussing': 0, 'plan': 0, 'seduce': 0, 'girlfriend.': 0, 'Stimulations': 0, 'temporal': 0, 'lobe': 0, 'embarrassing': 0, 'situations,': 0, 'patients': 0, 'flirting': 0, 'therapist.': 0, 'conclusion,': 0, '1)': 0, 'essentially': 0, 'necessary': 0, 'experiences,': 0, 'damage': 0, 'equivalent': 0, '2)': 0, 'processes': 0, 'involve': 0, 'colours,': 0, 'cortex': 0, 'activated': 0, 'etc.': 0, '3)': 0, 'afterthought': 0, 'become': 0, 'actions': 0, 'delay,': 0, 'ahead': 0, \"'conscious\": 0, \"will'\": 0, '350': 0, 'ms.': 0, 'Thus,': 0, 'fruitful': 0, 'question': 0, '\"Why': 0, \"'I'\": 0, 'colours\"': 0, 'ask': 0, '\"What': 0, 'observing?\",': 0, 'king': 0, 'brains.': 0, \"'seeing\": 0, \"colours'.\": 0, 'network': 0, 'capable': 0, 'recognising': 0, 'handwritten': 0, 'numbers': 0, '0': 0, '9': 0, 'numbers,': 0, 'sorting': 0, 'them?': 0, 'asking,': 0, '\"why': 0, 'animal': 0, 'itself': 0, 'observer': 0, 'advantage': 0, 'doesn\\'t\",': 0, 'answer': 0, 'previous': 0, 'posting,': 0, 'wrote': 0, 'sense': 0, 'identity': 0, 'helps': 0, 'social': 0, 'animals': 0, 'swap': 0, 'roles': 0, 'act': 0, 'morally,': 0, 'unconsciously': 0, 'kill': 0, 'newly': 0, 'discovered': 0, 'weapons.': 0, '(A': 0, 'bit': 0, 'extreme,': 0, 'basic': 0, 'idea.)': 0, 'When': 0, 'early': 0, '_Homo_': 0, 'became': 0, 'efficient': 0, 'using': 0, 'tools,': 0, 'concept': 0, \"'self'\": 0, 'evolve': 0, 'line': 0, 'development.': 0, 'respect': 0, 'others': 0, 'altruistic': 0, 'behaviour': 0, 'advantages': 0, 'animals,': 0, 'humans.': 0, 'required': 0, 'this,': 0, 'came': 0, 'scene,': 0, 'collapsed,': 0, 'remained': 0, 'superpositions': 0, 'aeons?': 0, 'My,': 0, 'powerful': 0, 'are.': 0, 'discussed': 0, 'before,': 0, 'topic': 0, 'irrelevant,': 0, 'necessary,': 0, 'neither': 0, 'physicists.': 0, 'agree,': 0, 'apparently': 0, 'above': 0, 'physics': 0, 'needs': 0, 'solve': 0, 'problems.': 0, \"It's\": 0, 'OK,': 0, 'plus': 0, 'following:': 0, 'Kalat,': 0, 'James': 0, 'W.': 0, '(1988):': 0, 'Biological': 0, 'Psychology.': 0, '3rd': 0, 'ed.,': 0, 'Wadsworth': 0, 'Publishing': 0, 'Company,': 0, 'Belmont,': 0, 'CA': 0, '1988.': 0, 'Skarda,': 0, '(1985):': 0, 'Explaining': 0, 'behavior:': 0, 'Bringing': 0, 'in.': 0, 'Inquiry': 0, '29:187-202.': 0, 'Freeman,': 0, '(1987):': 0, 'chaos': 0, 'world.': 0, 'Behavioral': 0, 'Brain': 0, 'Sciences': 0, '10:161-173.': 0, 'Petri': 0, 'Current': 0, 'votes': 0, 'favorite': 0, 'goalie': 0, 'masks': 0, '(3pts': 0, '1st,': 0, '2pts': 0, '2nd,': 0, '1pt': 0, '3rd)': 0, 'Player': 0, 'Team': 0, 'Pts': 0, 'Votes': 0, '--------------------------------------------------------------': 0, '1.': 0, 'Ed': 0, 'Belfour': 0, 'Chicago': 0, '31': 0, '14': 0, '2.': 0, 'Andy': 0, 'Moog': 0, 'Boston': 0, '13': 0, '3.': 0, 'Curtis': 0, 'Joseph': 0, 'St.': 0, 'Louis': 0, '26': 0, 'Hayward': 0, 'San': 0, 'Jose': 0, '10': 0, '5.': 0, 'Hextall': 0, 'Quebec': 0, '16': 0, '8': 0, '6.': 0, 'Gerry': 0, 'Cheevers': 0, '(retired)': 0, '7.': 0, 'Vanbeisbrouck': 0, 'NY': 0, '4': 0, 'Fuhr': 0, '9.': 0, '3': 0, '10.': 0, 'Manon': 0, 'Rheaume': 0, 'Atlanta': 0, '(IHL)': 0, '2': 0, 'Don': 0, 'Beaupre': 0, 'Washington': 0, 'Ken': 0, 'Dryden': 0, 'Montreal': 0, 'Others': 0, 'receiving': 0, '4pts:': 0, 'Vernon': 0, '(Cal),': 0, 'Clint': 0, 'Malarchuk': 0, '(Buf/SD,IHL),': 0, 'Tommy': 0, 'Soderstrom': 0, '(Phil),': 0, 'LeBlanc': 0, '(USA),': 0, 'Artus': 0, 'Irbe': 0, '(SJ),': 0, 'Tim': 0, 'Cheveldae': 0, '(Det),': 0, 'Sean': 0, 'Burke': 0, '(NJ),': 0, 'Rick': 0, 'Wamsley': 0, '(Tor,ret),': 0, 'Jon': 0, 'Casey': 0, '(Minn),': 0, 'Essensa': 0, '(Win),': 0, 'Healy': 0, '(NYI),': 0, 'Toy': 0, 'Espo': 0, '(???),': 0, 'Gilles': 0, 'Gratton': 0, 'Rod': 0, 'Stauber': 0, '(LA),': 0, 'Gump': 0, 'Worsley': 0, 'Jablonski': 0, '(TB),': 0, '(Tor),': 0, 'Felix': 0, 'Potvin': 0, 'Stephane': 0, 'Beauregard': 0, 'Fitzpatrick': 0, 'Chico': 0, 'Resch': 0, '(NYI)': 0, 'Can': 0, 'tell': 0, 'teams': 0, '(???)': 0, 'play(ed)': 0, 'for?': 0, 'Thanks.': 0, 'Guide,': 0, \"there's\": 0, 'article': 0, 'next': 0, \"week's\": 0, 'SPORTSVIEW': 0, 'concerning': 0, 'major': 0, 'broadcasting.': 0, 'Pretty': 0, 'interesting.': 0, 'prophetic': 0, 'week': 0, '\"Where': 0, 'now?\"': 0, 'appears': 0, 'still-active': 0, 'old-timer,': 0, 'news': 0, 'software': 0, 'rot': 0, 'ships': 0, 'outgoing': 0, 'deep': 0, 'hole': 0, 'somewhere...': 0, 'Anyway,': 0, \"here's\": 0, 'repost:': 0, 'days': 0, 'fall': 0, 'far': 0, 'behind...': 0, 'Monday': 0, '(admittedly': 0, 'weekend,': 0, 'but...)': 0, '800+': 0, 'messages': 0, 'days.': 0, 'Aside': 0, 'hiatus': 0, 'changing': 0, 'jobs': 0, 'Fall': 0, '1990.': 0, 'Hell,': 0, 'Norway?': 0, 'rubber': 0, 'room': 0, 'funny': 0, 'farm?': 0, 'Seminary?': 0, 'us': 0, 'know...': 0, 'out,': 0, 'controversy': 0, 'broke.': 0, 'waiting': 0, 'list': 0, 'library': 0, '(that': 0, 'offensive,': 0, 'none': 0, 'money': 0, 'its': 0, 'author': 0, 'publisher),': 0, '\"cover': 0, 'cover\"': 0, '(to': 0, 'phrase': 0, 'popular': 0, 'now).': 0, '*liked*': 0, 'writing': 0, 'style': 0, 'used': 0, 'effort.': 0, 'Coming': 0, 'background': 0, '(Rushdie': 0, 'grew': 0, 'Bombay': 0, 'muslim': 0, 'family,': 0, 'moved': 0, 'England;': 0, 'Delhi),': 0, 'impression': 0, 'me.': 0, '(And': 0, 'strange': 0, 'constructions': 0, 'Indian': 0, 'English:': 0, '\"yaar\"': 0, 'sentence,': 0, '\"Butbutbut,\"': 0, 'occasional': 0, 'hindi': 0, 'phrase,': 0, 'etc.)': 0, 'At': 0, '\"sorta-kinda\"': 0, 'myself': 0, 'muslim,': 0, 'flap': 0, 'about.': 0, 'seemed': 0, 'clear': 0, 'allegory.': 0, 'described': 0, 'prostitutes': 0, 'names': 0, 'personae': 0, \"Muhammed's\": 0, 'wives,': 0, '(as': 0, 'grandfather': 0, 'thundered)': 0, 'implied': 0, 'wives': 0, 'prostitutes;': 0, 'angry': 0, 'missed': 0, 'point': 0, 'completely.': 0, 'mention': 0, 'fact': 0, 'militant': 0, 'seen': 0, 'book.': 0, 'Oops,': 0, 'did!)': 0, 'sense,': 0, 'insulting': 0, 'Islam,': 0, 'exposes': 0, 'silliness': 0, 'religion': 0, 'omnipotent': 0, 'deity': 0, 'agent?': 0, 'She': 0, 'directly': 0, 'me,': 0, 'she?': 0, 'Muhammed': 0, \"didn't\": 0, 'desert': 0, 'smoke': 0, 'something?': 0, 'scribes': 0, 'dictated': 0, 'Quran': 0, 'screw': 0, 'up,': 0, 'put': 0, 'verses?': 0, 'marry': 0, 'four': 0, 'women,': 0, 'to?': 0, '(Although': 0, 'biggest': 0, 'insult': 0, 'Islam': 0, 'majority': 0, 'followers': 0, 'want': 0, 'suppress': 0, 'book,': 0, 'sight': 0, 'unseen,': 0, 'say-so': 0, '\"holy\"': 0, 'guy.': 0, 'Not': 0, 'author.)': 0, 'response': 0, 'talk': 0, 'silly': 0, '\"Mein': 0, 'Kampf?\"': 0, 'wonder': 0, 'of?': 0, 'decide': 0, 'themselves?': 0, 'Maybe': 0, 'community': 0, 'absence': 0, 'protest': 0, '\"liberal\"': 0, 'muslims': 0, \"Khomeini's\": 0, 'fatwa': 0, 'outrage,': 0, 'needed': 0, 'atheism!': 0, '-s': 0, 'Diplomatic': 0, ':-)': 0, 'fighting': 0, \"Occam's\": 0, 'razor': 0, 'argument,': 0, 'explain': 0, 'feel': 0, 'necessary.': 0, 'Firstly,': 0, 'impressed': 0, 'ability': 0, \"They're\": 0, 'solving': 0, 'problems': 0, 'method': 0, 'worked': 0, 'working': 0, 'itself.': 0, 'specific': 0, 'example,': 0, 'numerical': 0, 'crosswords': 0, '(not': 0, 'simple': 0, 'do-the-sums-and-insert-the-answers': 0, 'type,': 0, 'ones.)': 0, 'To': 0, 'efficiency,': 0, 'figure': 0, 'variety': 0, 'tricks.': 0, 'Now,': 0, 'program': 0, 'puzzles,': 0, 'tricks': 0, '_yourself_,': 0, 'computer.': 0, 'can,': 0, \"'obfuscate'\": 0, 'trick,': 0, 'write': 0, 'uncovered,': 0, 'see,': 0, 'trick': 0, 'discovered.': 0, 'ideas': 0, 'pre-programmed': 0, 'brains?': 0, 'somewhat': 0, 'ultimately': 0, 'encoded': 0, '46': 0, 'chromosomes': 0, 'material,': 0, 'used.': 0, 'environment': 0, 'equation,': 0, '(again,': 0, 'see)': 0, 'air': 0, \"'if\": 0, 'object': 0, 'X,': 0, 'action': 0, \"Y,'\": 0, 'anywhere.': 0, 'anticipate': 0, 'conclusions': 0, 'experience.': 0, 'algorithms': 0, 'instability.': 0, 'large': 0, 'portion': 0, 'code,': 0, 'strokes': 0, 'going': 0, 'completely': 0, 'haywire': 0, '(there': 0, 'side-effects,': 0, 'remarkably': 0, 'stable.)': 0, 'Also,': 0, 'neurons': 0, 'perfectly': 0, 'healthy': 0, 'dying': 0, 'alarming': 0, 'rate': 0, 'randomly': 0, 'corrupt': 0, 'bits': 0, 'code?': 0, 'sticky': 0, 'colour?\"': 0, '(replace': 0, \"'colour'\": 0, 'choice.)': 0, 'Presumably,': 0, 'materialist': 0, 'product': 0, 'kind': 0, 'chemical': 0, 'reaction.': 0, 'usual': 0, 'products': 0, 'energy': 0, '+': 0, 'chemicals.': 0, 'Is': 0, 'colour': 0, 'mixture': 0, 'these?': 0, 'so,': 0, 'colour,': 0, 'chemistry': 0, 'sees': 0, 'selective': 0, \"doesn't?\": 0, \"shouldn't,\": 0, 'outputs': 0, 'ought': 0, 'circumstances.': 0, 'So': 0, 'colour?': 0, 'speculation...': 0, 'remember': 0, 'correctly,': 0, 'quantum': 0, 'mechanics': 0, 'consists': 0, 'wavefunction,': 0, 'acting': 0, 'process': 0, \"'Unitary\": 0, \"Evolution'\": 0, \"'U'),\": 0, 'governed': 0, \"Schroedinger's\": 0, 'equation': 0, 'known.': 0, 'process,': 0, \"'collapse\": 0, \"wavefunction'\": 0, \"'state\": 0, 'vector': 0, \"reduction'\": 0, \"'R'),\": 0, 'mysterious.': 0, 'occur': 0, \"'measurement'\": 0, 'takes': 0, 'place,': 0, 'nobody': 0, 'precisely': 0, 'occurs.': 0, 'occur,': 0, 'R': 0, 'abruptly': 0, 'wavefunction.': 0, 'envisage': 0, 'interaction': 0, 'between': 0, 'wavefunction': 0, \"'something\": 0, \"else,'\": 0, 'imaginitively': 0, \"'part\": 0, \"X.'\": 0, 'reasonable': 0, 'assume': 0, '_something_': 0, 'R,': 0, '(in': 0, 'case,': 0, 'X': 0, 'Note,': 0, 'though,': 0, 'U': 0, 'R.)': 0, 'speculating': 0, 'link': 0, 'linear': 0, 'anything,': 0, 'alternative': 0, 'explainations': 0, 'supposed': 0, 'speculation,': 0, 'matter': 0, 'My': 0, 'main': 0, 'nice': 0, 'padded': 0, 'cell': 0, 'now,': 0, 'OK': 0, '------------------------------------------------------------------------': 0, 'Anthoney': 0, 'kax@cs.nott.ac.uk': 0, '.sig': 0, 'files.': 0, 'religious': 0, 'language': 0, 'area.': 0, 'exactly': 0, 'morals?': 0, 'eating': 0, 'meat': 0, 'immoral,': 0, 'be.': 0, 'differentiate': 0, 'personal': 0, 'choice': 0, 'preference': 0, 'immoral?': 0, 'Do': 0, 'basis': 0, 'morals': 0, 'are?': 0, 'consensus': 0, 'positions': 0, 'right.': 0, 'Or,': 0, 'whatever': 0, 'societally': 0, 'mandated': 0, 'whoever': 0, 'MC': 0, 'MAC': 0, '****************************************************************': 0, 'Michael': 0, 'A.': 0, 'Cobb': 0, '\"...and': 0, 'raise': 0, 'taxes': 0, 'middle': 0, 'University': 0, 'Illinois': 0, 'class': 0, 'programs.\"': 0, 'Champaign-Urbana': 0, '-Bill': 0, 'Clinton': 0, 'Debate': 0, 'cobb@alexia.lis.uiuc.edu': 0, '1993': 0, 'World': 0, 'Championships': 0, 'Germany:': 0, '====================================': 0, 'Group': 0, 'standings': 0, '(Munich)': 0, 'B': 0, '(Dortmund)': 0, '--------------------------': 0, '----------------------------': 0, 'GP': 0, 'W': 0, 'T': 0, 'L': 0, 'GF-GA': 0, '+/-': 0, 'P': 0, 'Canada': 0, '17-': 0, '+16': 0, 'Czech': 0, 'republic': 0, '8-': 0, '+7': 0, 'Russia': 0, '12-': 0, '+8': 0, 'Finland': 0, '5-': 0, '+4': 0, 'Sweden': 0, '+2': 0, 'USA': 0, '+5': 0, 'Italy': 0, '-3': 0, 'Germany': 0, '11-': 0, '+3': 0, '----------------------------------': 0, '-------------------------------------': 0, 'Switzerland': 0, '0-': 0, '-9': 0, 'France': 0, '4-13': 0, 'Austria': 0, '2-16': 0, '-14': 0, 'Norway': 0, '0-10': 0, '-10': 0, 'April': 0, '18:': 0, '2-2': 0, '0-6': 0, '1-0': 0, '1-1': 0, '19:': 0, '2-0': 0, '4-2': 0, '20:': 0, '1-4': 0, '5-0': 0, '0-1': 0, '21:': 0, '5-3': 0, '2-6': 0, '22:': 0, '6-1': 0, '0-11': 0, '0-2': 0, '23:': 0, '20:00': 0, '24:': 0, '15:30': 0, '25:': 0, 'Finland-': 0, '26:': 0, 'PLAYOFFS:': 0, '=========': 0, '27:': 0, 'Quarterfinals': 0, '#2': 0, '#3': 0, '28:': 0, '#1': 0, '#4': 0, '29:': 0, 'Relegation': 0, '#5': 0, '#6': 0, '30:': 0, 'Semifinals': 0, '#1/B': 0, '#3/B': 0, '#4/B': 0, '#2/B': 0, '1:': 0, '14:30': 0, 'Bronze': 0, 'medal': 0, '19:00': 0, '2:': 0, 'FINAL': 0, '15:00': 0, 'Well,': 0, 'fan,': 0, 'terrible.': 0, '\"Hey,': 0, \"let's\": 0, 'team': 0, 'cities': 0, 'one!\"': 0, 'entirely': 0, 'another': 0, '\"Okay,': 0, 'thriving': 0, 'it!\"': 0, 'inside': 0, 'story,': 0, 'know,': 0, 'group': 0, 'Minneapolis': 0, 'businessmen': 0, 'told': 0, 'Green': 0, 'repeatedly': 0, 'remaining': 0, '3600': 0, '(?)': 0, 'season': 0, 'tickets': 0, '10,000': 0, 'level': 0, 'wanted,': 0, 'refused': 0, 'time.': 0, 'obvious': 0, 'determined': 0, 'cost': 0, 'excuse.': 0, 'fortunate': 0, 'penultimate': 0, 'game,': 0, 'great!': 0, 'People': 0, 'tailgating': 0, 'playing': 0, 'roller': 0, 'parking': 0, 'attendance': 0, 'SRO,': 0, 'atmosphere': 0, 'Centre': 0, 'terrific.': 0, 'Minnesota': 0, 'IS': 0, 'Hockey,': 0, 'USA.': 0, 'blithely': 0, 'let': 0, 'away': 0, 'hope': 0, 'soon.': 0, '$0.02.': 0, 'Ali.': 0, 'show': 0, 'hypothetical': 0, 'atheists': 0, 'gullible,': 0, 'excitable': 0, 'easily': 0, 'concrete': 0, 'cause.': 0, 'discuss': 0, 'cause,': 0, 'atheism,': 0, 'factor': 0, 'caused': 0, 'subsequent': 0, 'behaviour.': 0, 'Thank': 0, 'though': 0, 'drugs,': 0, 'one.': 0, 'course': 0, 'having': 0, 'connection,': 0, 'knowledge': 0, 'hindi,': 0, 'etc.,': 0, 'trivial': 0, 'thanks': 0, 'wonders': 0, 'net,': 0, '\"A': 0, 'Glossary': 0, '*Satanic': 0, 'Verses*\",': 0, 'posted': 0, 'rec.arts.books': 0, 'Vijay': 0, 'Raghavan,': 0, 'explains': 0, 'English': 0, 'constructions,': 0, 'culture': 0, 'references,': 0, 'Islamic': 0, '(\"Jahilia\",': 0, '\"Submission\",': 0, 'Satanic': 0, 'Verses': 0, 'incident,': 0, 'covers': 0, 'couple': 0, 'hundred': 0, 'pages,': 0, 'helped': 0, 'flow': 0, 'novel': 0, '[I': 0, 'mail': 0, 'interested;': 0, 'portions': 0, 'I,': 0, 'exist,': 0, \"I'd\": 0, 'those].': 0, 'Add': 0, \"Boston's\": 0, 'WEEI-590AM': 0, \"Bruins'\": 0, 'flagship': 0, 'station.': 0, 'outside': 0, 'watt': 0, 'Bruins': 0, 'stations': 0, 'England': 0, 'states.': 0, \"'EEI\": 0, 'happens': 0, 'all-sports': 0, 'station(WMEX': 0, '1150AM)': 0, 'whenever': 0, 'same-night': 0, 'conflict': 0, \"NBA's\": 0, 'Celtics.': 0, '28': 0, 'regular': 0, 'season.(The': 0, 'Celtics': 0, 'financially': 0, 'troubled': 0, 'WEEI).': 0, 'resurface': 0, 'WHDH': 0, '850': 0, 'year.': 0, 'Stay': 0, 'tuned.': 0, 'pathetic,': 0, 'complain': 0, \"ESPN's\": 0, 'coverage': 0, 'Might': 0, 'suggest': 0, 'nothing.': 0, 'ALL': 0, 'knew': 0, 'suck.': 0, 'watched': 0, 'Sportscenter': 0, 'hockey?': 0, 'sucks,': 0, 'sucks!!!': 0, 'ass.': 0, 'pissed': 0, 'coverage.': 0, 'Ohio': 0, '*know*': 0, 'Indians': 0, 'suck,': 0, 'Bill': 0, 'Clement': 0, 'shoot': 0, 'myself.': 0, 'Anyway': 0, 'calmed': 0, 'realized': 0, 'Caps': 0, 'happen,': 0, 'remerbed': 0, 'boring': 0, 'Overall': 0, 'firmly': 0, 'belive': 0, 'fans.': 0, 'ie': 0, '*because': 0, 'contract': 0, 'obligations*,': 0, 'ESPN.': 0, 'Praise': 0, 'shit!': 0, 'GO': 0, 'HAWKS!!!': 0, 'Yeah': 0, \"we're\": 0, '(even': 0, '.sigs': 0, 'root': 0, 'school.': 0, 'Piled': 0, 'Higher': 0, 'Deeper': 0, 'long)': 0, 'feeling': 0, 'alot': 0, 'statement': 0, 'but......': 0, 'worst': 0, '\"band': 0, 'wagon\"': 0, 'PIT': 0, 'present).': 0, 'Case': 0, 'Point': 0, 'guy': 0, 'Hockey': 0, 'Hell(TM)': 0, 'Pitt': 0, 'U.': 0, 'Him': 0, '\"How': 0, \"'bout\": 0, 'Pens?': 0, \"The're\": 0, 'F-ing': 0, 'awesome\"': 0, 'Me': 0, '\"Yeah': 0, 'beating': 0, 'alot.': 0, 'Wait': 0, 'meet': 0, 'and/or': 0, 'Detroit': 0, 'Playoffs': 0, 'start.\"': 0, '\"When': 0, 'start?\"': 0, '\"Uhhhh.': 0, 'ago.\"': 0, 'Waddlers': 0, 'floating': 0, \"they're\": 0, 'disappear': 0, 'woodwork.': 0, 'Flames': 0, '>>': 0, 'dev/null': 0, 'Serious': 0, 'comments': 0, 'welcomed.': 0, '\"Eat': 0, 'Rich\"': 0, 'fairly': 0, 'enforcer-type.': 0, 'Fleury': 0, 'large,': 0, 'Dody': 0, 'Fleury.': 0, 'Having': 0, 'closeup,': 0, 'fight': 0, '(assuming': 0, 'role,': 0, 'showed': 0, 'K.C.': 0, 'pass,': 0, 'skate,': 0, 'it).': 0, 'fist,': 0, 'bad,': 0, 'level,': 0, 'smart': 0, 'grab': 0, 'significant.': 0, 'Once': 0, 'fish': 0, 'flopping': 0, 'beach': 0, 'wants': 0, 'him.': 0, 'entire': 0, 'strategy': 0, 'reach': 0, 'opening': 0, 'talking': 0, 'got': 0, 'neutralized': 0, 'quickly,': 0, 'stomped': 0, 'times.': 0, 'Unless': 0, 'shows': 0, 'camp,': 0, \"he'll\": 0, '\"career': 0, 'minor': 0, 'leaguer\"': 0, 'list.': 0, 'taste': 0, 'NHL,': 0, 'Sharks': 0, 'gave': 0, \"he'd\": 0, 'KNOW': 0, 'off-season.': 0, 'stronger,': 0, 'speed': 0, 'versatility': 0, 'goond,': 0, 'particularly': 0, 'goon.': 0, 'Pollin': 0, 'Caps,': 0, 'owns': 0, 'Cap': 0, 'Centre.': 0, 'games,': 0, 'Bullets.': 0, 'situation': 0, 'Abe': 0, 'had,': 0, 'guaranteed': 0, 'went': 0, 'park': 0, 'stadium,': 0, 'within': 0, 'mile,': 0, 'recent': 0, 'construction': 0, 'OT': 0, 'Rich': 0, '>': 0, 'On': 0, 'Tuesday,': 0, 'raining': 0, 'provided': 0, '>bonus': 0, 'ticked': 0, '>that': 0, 'NY-Wash': 0, 'replaced': 0, 'Angels-??': 0, '>realize': 0, 'U.S': 0, '>The': 0, 'scheduled': 0, 'advertisers': 0, 'paid': 0, '>they': 0, 'skip': 0, 'CHILL': 0, 'OUT': 0, '>and': 0, 'enjoy': 0, 'get.': 0, 'partly': 0, 'ardent': 0, 'fan': 0, 'sports,': 0, 'Game': 0, 'playoffs': 0, '162': 0, 'MLB': 0, 'bb': 0, 'involves': 0, 'Red': 0, 'Sox).': 0, 'obligations.': 0, 'part.': 0, 'inaccurate': 0, '\"selfish\"': 0, 'watch': 0, 'love.': 0, 'Am': 0, 'CBS': 0, 'approximately': 0, 'per': 0, 'month?': 0, 'so.': 0, 'While,': 0, 'obligations,': 0, 'we,': 0, 'consumers,': 0, 'displeasure': 0, 'serving': 0, 'us.': 0, \"There's\": 0, 'better,': 0, 'GREAT!!!': 0, \"'contractual\": 0, \"obligations'\": 0, 'Major': 0, 'League': 0, 'Baseball.': 0, \"would've\": 0, 'liked': 0, 'Isles-Caps': 0, 'coming': 0, 'from.': 0, 'committed': 0, 'single': 0, 'telecast': 0, 'everything': 0, 'bonus.': 0, 'Actually,': 0, 'stuff': 0, 'JC': 0, 'carpenter': 0, 'source': 0, 'assertion,': 0, 'Christian': 0, 'Bible?': 0, 'record': 0, 'built?': 0, 'table,': 0, 'house,': 0, 'stairs': 0, '(Norm': 0, 'Abrams': 0, 'says': 0, \"carpenter's\": 0, 'skill': 0, 'building': 0, 'tools).': 0, 'Did': 0, 'leave': 0, 'plans': 0, 'behind': 0, 'for,': 0, 'kitchen': 0, 'counters': 0, 'cabinets?': 0, 'build': 0, 'cross?': 0, 'pressure-treated': 0, 'lumber?': 0, 'Gotta': 0, 'wood': 0, 'meets': 0, 'concrete,': 0, 'holds': 0, 'anyway': 0, 'mose': 0, 'outdoor': 0, 'applications.': 0, 'seeing': 0, 'bumper-stickers': 0, '\"My': 0, 'boss': 0, 'Jewish': 0, 'Carpenter,\"': 0, 'Ford': 0, 'Escorts,': 0, 'apprentice': 0, 'drive': 0, 'pickup,': 0, 'verification': 0, 'carpenter.': 0, 'Dean': 0, 'Kaflowitz': 0, 'J.': 0, 'Fox': 0, 'Letterman': 0, 'ago': 0, 'two)': 0, 'celebrity': 0, 'Bruins.': 0, 'NHLer': 0, \"Ulfie's\": 0, 'legs': 0, 'that)': 0, 'Neely': 0, 'incident.': 0, 'amusing,': 0, 'viewers': 0, 'actually': 0, 'Anybody': 0, 'Pens': 0, 'is?': 0, 'Douglas': 0, '(aka': 0, 'Keaton)?': 0, 'knew,': 0, 'despite': 0, 'lack': 0, 'week,': 0, 'Atlanta.': 0, \"Atlanta's\": 0, 'ABC': 0, 'declined': 0, 'till': 0, 'May9.': 0, 'MAy9': 0, 'May16,': 0, 'continue': 0, 'telecast.': 0, 'compared': 0, 'Georgia,': 0, 'Alabama,': 0, 'annoying.': 0, 'PIttsburgh,': 0, 'preemptionchannel': 0, 'netwoork': 0, 'prempted': 0, 'affiliate.': 0, 'was.': 0, '1.9': 0, 'rating': 0, 'bad': 0, 'considering': 0, 'shown': 0, 'promotion.': 0, 'syndicated': 0, 'programming': 0, 'afternoon': 0, 'low': 0, 'rated.': 0, 'playoffs.': 0, 'her': 0, 'golf': 0, 'oin': 0, 'ABC,': 0, 'obligations': 0, 'telecast?': 0, 'coherent': 0, 'answer.': 0, 'added': 0, 'highest': 0, 'neutral': 0, 'site': 0, 'attendances': 0, 'demographics': 0, 'good.': 0, 'networks': 0, 'begin': 0, 'tie': 0, 'rated': 0, 'programs': 0, 'Roseanne': 0, 'thier': 0, 'sports': 0, 'programming.': 0, 'reads': 0, 'bboard': 0, 'WSB': 0, 'bitterlyt': 0, 'Tell': 0, 'stop': 0, 'telecasts': 0, 'unprofessional': 0, 'handling': 0, 'situation.': 0, \"you're\": 0, 'letting': 0, 'atheist': 0, 'mythology': 0, 'start.': 0, 'immediately': 0, 'interested': 0, 'thump': 0, 'babble': 0, 'Ms': 0, 'Healy,': 0, 'reasoned': 0, 'approach': 0, 'things.': 0, 'Say,': 0, \"aren't\": 0, 'statements': 0, 'evolution': 0, 'ago?': 0, 'Duh,': 0, 'gee,': 0, 'hoping': 0, 'reasonable,': 0, 'logical': 0, 'person,': 0, 'side': 0, 'repetition': 0, 'thousand': 0, 'before.': 0, 'deleting': 0, 'remarks,': 0, 'spot': 0, 'approaches': 0, 'answer,': 0, 'uninteresting': 0, 'doctrine': 0, 'contain': 0, 'congratulate': 0, 'Bill.': 0, \"wouldn't\": 0, 'balls.': 0, 'Such': 0, 'persistent': 0, 'repeated': 0, 'attempts': 0, 'assist': 0, 'learning': 0, 'forum': 0, 'past)': 0, 'speaks': 0, 'talent': 0, 'goes': 0, 'own,': 0, 'meager': 0, 'abilities.': 0, 'capacity': 0, 'ignoring': 0, 'influences.': 0, 'Dean,': 0, 'Re-read': 0, 'comments,': 0, 'characterizing': 0, 'refuting': 0, 'ad': 0, 'hominum': 0, 'attacks': 0, 'sufficient': 0, 'disapproval': 0, 'me?': 0, 'contribution': 0, 'all?': 0, 'pressed': 0, 'mistakes': 0, 'Fereirra': 0, 'made.': 0, 'Imagine': 0, 'indeed,': 0, 'again': 0, 'benefit': 0, 'hindsight.': 0, \"Let's\": 0, 'view': 0, \"Sharks'\": 0, 'upper': 0, 'management,': 0, 'trade': 0, 'Kisio': 0, 'Feirerra.': 0, 'inclined': 0, 'opposite': 0, 'view:': 0, 'kept': 0, \"him...he's\": 0, 'obviously': 0, 'luckiest': 0, 'man': 0, 'hockey!': 0, '(Wonder': 0, 'sacrifice': 0, 'Muse': 0, 'Fax?': 0, '(His': 0, 'job,': 0, 'guess.))': 0, 'gak': 0, 'Devorski': 0, 'taint': 0, 'otherwise': 0, 'brilliant': 0, 'display': 0, 'MacLean.': 0, 'Canucks': 0, 'tied': 0, 'Jets': 0, 'tightly': 0, 'mailing': 0, 'BTW,': 0, 'Greg...next': 0, 'time,': 0, 'asleep': 0, 'geography': 0, 'class,': 0, 'sad': 0, 'spell': 0, 'Winnipeg': 0, 'properly': 0, 'North': 0, 'America': 0, \"can't.\": 0, 'thing...how': 0, 'Vancouver': 0, 'NHL?': 0, 'championships': 0, 'have?': 0, 'Oh': 0, 'yeah...and': 0, 'Arena': 0, 'one,': 0, 'two,': 0, '*six*': 0, 'championship': 0, 'banners': 0, 'hanging': 0, 'rafters.': 0, 'Stanley': 0, 'Cup': 0, 'banners,': 0, 'Avco': 0, 'banners.': 0, 'guide': 0, 'won': 0, \"rockin'\": 0, 'Kenora': 0, 'it!)': 0, 'Rob': 0, 'Niedermayer': 0, 'forward': 0, '(center,': 0, 'think)': 0, 'WHL': 0, 'Medicine': 0, 'Hat': 0, 'Tigers.': 0, 'brother,': 0, 'Scott,': 0, 'defenseman': 0, '(now': 0, 'Devils).': 0, 'disagree.': 0, '*individual*': 0, 'his/her': 0, 'irrationality.': 0, \"individual's\": 0, 'belief': 0, 'dogmatic': 0, 'symptom': 0, 'Atheists': 0, 'agnostics,': 0, 'imagine,': 0, 'yes,': 0, 'theoretically': 0, 'ill-equipped': 0, 'philosophy': 0, 'Christian,': 0, 'persistence': 0, 'among': 0, 'ranks': 0, 'philosophers.': 0, 'Therefore,': 0, \"one's\": 0, 'beliefs': 0, 'thereof)': 0, 'philosopher': 0, 'assert.': 0, 'philosophers': 0, 'non-religious': 0, 'secondary': 0, 'opposed': 0, 'science': 0, 'practiced': 0, 'theists?': 0, 'careful': 0, 'here.': 0, 'Science': 0, 'built-in': 0, 'defence': 0, 'faith': 0, 'dogma:': 0, 'skepticism.': 0, 'foolproof.': 0, 'wonderful': 0, 'creature': 0, '\"theory.\"': 0, 'Many': 0, 'theory': 0, 'evolution.': 0, 'absolute': 0, 'proof': 0, 'true,': 0, '\"makes': 0, 'than...?\"': 0, 'involved': 0, 'current': 0, 'deficient,': 0, 'basically': 0, 'Ideally,': 0, 'true.': 0, 'reality,': 0, 'acknowledge': 0, 'scientists': 0, 'human.': 0, 'Scientists': 0, 'egos': 0, 'biases.': 0, 'particular': 0, 'admit': 0, 'flaws': 0, 'ego': 0, 'whatever,': 0, 'proceed': 0, 'spend': 0, 'theory.': 0, 'Remember': 0, 'cold': 0, 'fusion?': 0, 'really.': 0, 'spent': 0, 'Waco': 0, 'crisis': 0, '($7,500,000': 0, 'believe),': 0, 'outcome.': 0, 'suicides': 0, 'U.S.': 0, 'rare': 0, '(Jonestown': 0, 'Guyana,': 0, 'incidentally,': 0, 'footed': 0, 'bill': 0, 'clean-up),': 0, 'issues': 0, 'address.': 0, 'Compare': 0, 'citizens': 0, 'died': 0, 'with,': 0, 'soldiers': 0, 'Vietnam': 0, 'War': 0, 'top': 0, 'tournament': 0, 'play': 0, 'Olympics': 0, 'tournament,': 0, 'pool': 0, '(Great': 0, 'Britain': 0, 'Poland)': 0, 'winner': 0, 'C': 0, '(Latvia)': 0, 'Olympic': 0, 'fall.': 0, 'hosts': 0, '12th': 0, 'surprise),': 0, '11th': 0, 'qualification': 0, 'tournament.': 0, 'overhead': 0, 'replay': 0, 'defender': 0, 'deflected': 0, 'puck.': 0, 're-play': 0, 'nearly': 0, 'non-goal,': 0, 'non-controversial.': 0, 'game;': 0, 'Roy': 0, 'Damphousse': 0, 'form.': 0, 'Hopefully': 0, 'sign': 0, 'come...': 0, 'deserves': 0, 'Hart,': 0, '\"no-brainer\".': 0, 'Hart': 0, 'trophy': 0, 'team,': 0, 'league.': 0, 'arguement': 0, 'worthless.': 0, 'Mario': 0, 'team.': 0, 'Leafs': 0, 'Gilmour': 0, 'Tampa': 0, 'Bay': 0, 'pick.': 0, 'Like': 0, 'said,': 0, 'close': 0, 'race': 0, 'victory': 0, 'surprise': 0, 'dislike': 0, 'Doug': 0, 'passion,': 0, 'concede': 0, 'Leafs.': 0, 'knowledgable': 0, 'superior': 0, 'Toronto': 0, 'center': 0, 'keeps': 0, 'losing.': 0, 'gives?': 0, '-------------------------------------------------------------------------------': 0, 'stand': 0, 'misstatements': 0, 'Vice': 0, 'President': 0, 'Quayle': 0, 'Sam': 0, 'Donaldson,': 0, '8/17/89': 0, '-=>': 0, 'Quoting': 0, 'Rogers': 0, '<=-': 0, 'GR>': 0, 'Hi': 0, 'Due': 0, 'living': 0, 'Area,': 0, 'unable': 0, \"Vancouver's\": 0, 'night.': 0, 'score,': 0, 'rarely': 0, 'describes': 0, 'brief': 0, 'sonapsis': 0, '(sp?)': 0, 'waht': 0, 'happened.': 0, 'play?': 0, 'Were': 0, 'cannucks': 0, 'deserving': 0, 'victory?': 0, 'soul': 0, 'email': 0, 'season,': 0, 'individual': 0, 'stats?': 0, 'virtual': 0, 'reality)--': 0, 'sorry': 0, 'Greg,': 0, 'winning': 0, 'cup.': 0, 'rrally': 0, 'Smythe': 0, 'Division,': 0, 'finals,': 0, 'Penguins,': 0, 'scoring': 0, 'threats.': 0, 'love': 0, 'proven': 0, 'wrong,': 0, 'Pure': 0, 'Simple,': 0, 'money.': 0, 'awesome': 0, 'Mogilny': 0, 'russian': 0, 'friend': 0, 'Kymlev': 0, 'done': 0, 'well.': 0, 'winning,': 0, 'difference': 0, 'See,': 0, 'mythology,': 0, 'proving': 0, 'pass.': 0, '*If*': 0, 'Islanders': 0, 'Pitts.': 0, '(Assuming': 0, 'Willing),': 0, 'sorry,': 0, 'crush': 0, 'Flame': 0, 'shields': 0, 'up.': 0, '********************************************************************************': 0, 'interject': 0, 'matters': 0, 'concern': 0, '--------------------------------------------------------------------------------': 0, 'Go': 0, 'Islanders!!!!!!': 0, '(3': 0, 'down,': 0, 'go)': 0, \"'93\": 0, 'bet': 0, 'belonging': 0, 'moderated': 0, 'anally-retentive': 0, 'dullard': 0, 'yourself.': 0, 'hardly': 0, 'presume': 0, 'lecture': 0, 'communicate': 0, 'points': 0, 'view.': 0, '\"posting\"': 0, 'subject': 0, 'letter': 0, 'matter.': 0, 'Instead': 0, 'content': 0, 'yourself': 0, 'flaming': 0, 'Result:': 0, 'Moronic': 0, 'busy': 0, 'bodies': 0, 'perceived': 0, 'opportunity': 0, 'rules': 0, 'by.': 0, 'Well': 0, '\"against\"': 0, 'means': 0, 'significance': 0, 'ahead.': 0, 'insist.': 0, 'Otherwise': 0, 'sleep': 0, 'yourself...': 0, 'That': 0, 'Malarchuk.': 0, 'dangerous': 0, 'accident.': 0, 'ice.': 0, 'played': 0, 'Sabre': 0, 'skated': 0, 'seasons': 0, 'incident': 0, 'Borje': 0, 'Salming': 0, 'fell': 0, 'crease': 0, 'face.': 0, 'stiches': 0, 'fix.': 0, 'cult': 0, 'belong': 0, 'bull': 0, 'shit.': 0, '>Prove': 0, 'date,': 0, 'civilian': 0, 'death': 0, 'count': 0, '>(er,': 0, 'excuse': 0, '\"collateral': 0, 'damage\")': 0, '200,000.': 0, '_never_': 0, 'claiming': 0, 'figure.': 0, 'Please': 0, 'reliability': 0, 'judged.': 0, 'deaths': 0, 'bombing,': 0, 'disease': 0, 'sewer': 0, 'Baghdad': 0, 'deliberately': 0, 'targeted)': 0, 'starvation.': 0, 'copy': 0, 'latest': 0, 'research': 0, 'June': 0, 'July)': 0, 'proposed': 0, 'Census': 0, 'Bureau': 0, 'report': 0, 'suppressed': 0, 'CB': 0, 'attempted': 0, 'sack': 0, 'report,': 0, 'failed': 0, 'due': 0, 'procedural': 0, 'technicality.': 0, 'permanent': 0, 'leave.': 0, '1--5': 0, '0--4': 0, '1,': 0, 'Islanders,': 0, 'Turgeon': 0, '(King,': 0, 'Thomas)': 0, '13:14.': 0, 'Second': 0, '2,': 0, 'Washington,': 0, 'Hunter': 0, '(Johansson,': 0, 'Miller)': 0, '6:33.': 0, '3,': 0, '(Thomas,': 0, 'Vaske)': 0, '12:36.': 0, '4,': 0, 'Carpenter)': 0, 'pp,': 0, '16:51.': 0, 'Third': 0, '5,': 0, 'Hogue': 0, '(unassisted)': 0, '3:31.': 0, '6,': 0, 'Khristich': 0, '(Cavallini,': 0, 'Bondra)': 0, '7:16.': 0, '7,': 0, 'Ferraro': 0, '(Flatley,': 0, 'Hogue)': 0, '14:50.': 0, '8,': 0, 'Khristich)': 0, '19:57.': 0, 'No': 0, 'scoring.': 0, '9,': 0, 'Mullen': 0, '(Ferraro,': 0, 'Flatley)': 0, 'Islanders:': 0, 'Power': 0, 'play:': 0, 'Scorer': 0, 'G': 0, '---------------': 0, '---': 0, 'Flatley': 0, 'King': 0, 'Thomas': 0, 'Vaske': 0, 'Washington:': 0, '5-2': 0, 'Bondra': 0, 'Carpenter': 0, 'Cavallini': 0, 'Johansson': 0, '-----------------------------------------': 0, '1--1': 0, '1--4': 0, 'Quebec,': 0, 'Leschyshyn': 0, '(Kamensky,': 0, 'Sakic)': 0, '4:19.': 0, '(Lapointe)': 0, '11:41.': 0, '(Lapointe,': 0, 'Duchesne)': 0, '13:56.': 0, 'Montreal,': 0, 'Bellows': 0, '(Odelein)': 0, '11:05.': 0, 'Lapointe': 0, '(Ricci)': 0, 'en,': 0, '19:23.': 0, 'Quebec:': 0, '2-1': 0, 'Special': 0, 'goals:': 0, 'pp:': 0, 'en:': 0, 'Total:': 0, 'Duchesne': 0, 'Kamensky': 0, 'Ricci': 0, 'Sakic': 0, 'Montreal:': 0, 'Odelein': 0, '0--0': 0, 'Pittsburgh': 0, '1--7': 0, 'Pittsburgh,': 0, 'McEachern': 0, '(Francis,': 0, 'Taglianetti)': 0, '15:09.': 0, '(Samuelsson,': 0, 'Barrasso)': 0, 'sh,': 0, '17:41.': 0, 'Tocchet': 0, '(Stevens,': 0, 'Samuelsson)': 0, '3:48.': 0, 'Ramsey)': 0, '12:39.': 0, 'Murphy)': 0, '15:43.': 0, '(Daniels,': 0, 'Mullen)': 0, '16:56.': 0, '17:42.': 0, 'Pittsburgh:': 0, '7': 0, '4-1': 0, 'sh:': 0, 'Daniels': 0, 'Francis': 0, 'Murphy': 0, 'Ramsey': 0, 'Samuelsson': 0, 'Taglianetti': 0, 'Jersey:': 0, 'Buffalo,': 0, 'Presley': 0, '4:27.': 0, '(Moller,': 0, 'Sweeney)': 0, '8:07.': 0, '(Lafontaine)': 0, '5:03.': 0, 'Hawerchuk': 0, '(Carney,': 0, 'Smehlik)': 0, '14:48.': 0, 'Buffalo:': 0, 'Carney': 0, 'Lafontaine': 0, 'Moller': 0, 'Smehlik': 0, 'Sweeney': 0, 'Boston:': 0, 'Actually': 0, 'third': 0, 'spark': 0, 'crowd,': 0, 'players,': 0, 'defense': 0, 'third.': 0, 'forgot': 0, 'guys': 0, 'start': 0, 'scoring,': 0, 'Kings': 0, 'unstoppable,': 0, 'defensive': 0, 'net': 0, 'Tuesday.': 0, 'provide': 0, 'stellar': 0, 'performance': 0, 'earn': 0, 'Robb': 0, '\"Stopper\"': 0, 'Stauber.': 0, 'are...I': 0, 'Sandstrom,': 0, 'putting': 0, 'left.': 0, 'Carson,': 0, 'Robataille': 0, 'Kurri': 0, 'ignited,': 0, 'light': 0, 'lines.': 0, '(Hopefully!)': 0, 'evident': 0, 'drought': 0, 'Luc,': 0, 'slight': 0, 'breakaway': 0, '(I': 0, 'steamed': 0, 'bench,': 0, 'emotion': 0, 'streak.': 0, 'noticed': 0, 'Blake': 0, 'chances': 0, 'fanned,': 0, 'wide.': 0, 'affecting': 0, 'him?': 0, 'E': 0, 'D': 0, 'digits': 0, 'paycheck': 0, '(and': 0, 'binary)': 0, 'Ulf!,': 0, 'Jaro,': 0, 'Mario.': 0, \"Leaf's\": 0, 'these!': 0, 'Watching': 0, '_really_': 0, 'hurt!': 0, 'Cheers!': 0, 'i.': 0, '------------------------------------------------------------------------------': 0, 'Brad': 0, 'McCrimmon': 0, 'captain': 0, 'traded': 0, '1989-90': 0, 'season.': 0, 'off-season': 0, 'countless': 0, 'captains': 0, 'traded,': 0, 'sure.': 0, 'e': 0, 'stats': 0, 'Forsrg': 0, 'sao': 0, 'ua256@freenet.victoria.bc.ca': 0, '#In': 0, '<1r0fpv$p11@horus.ap.mchp.sni.de>': 0, '#': 0, '#(Deletion)': 0, '#>#': 0, 'Point:': 0, 'Morals': 0, 'are,': 0, 'essence,': 0, 'opinions.': 0, 'Usually': 0, '#>#(ideally)': 0, 'well-founded,': 0, 'motivated': 0, 'such,': 0, 'nonetheless': 0, 'personal.': 0, '#>#fact': 0, 'question,': 0, '#>#sometimes': 0, 'reason,': 0, 'objective;': 0, '#>#makes': 0, 'humans': 0, 'alike': 0, '#>#which': 0, 'species.': 0, '#>': 0, '#>And': 0, 'lot\"': 0, '(nice': 0, 'phrase)': 0, '#>football': 0, 'desk,': 0, 'two?': 0, '#>Perhaps': 0, '#>so': 0, 'clearly.': 0, '#(rest': 0, 'deleted)': 0, \"#That's\": 0, 'fallacy,': 0, 'fallacy': 0, 'IF.': 0, 'IF': 0, 'supermajority': 0, 'disinterested': 0, 'fundamantal': 0, 'value': 0, \"(we're\": 0, 'ethics': 0, 'YET': 0, 'Benedikt),': 0, 'agreeing': 0, 'observation?': 0, '#For': 0, 'set': 0, 'upon.': 0, 'Unlike': 0, '#a': 0, 'football.': 0, 'Further,': 0, 'conveniently': 0, 'ignore': 0, '#many': 0, 'tghe': 0, 'something.': 0, 'analogy': 0, '#does': 0, 'hold.': 0, 'VALUE': 0, 'on,': 0, 'explained': 0, 'freedom': 0, 'valuable.': 0, 'stated': 0, 'condition': 0, 'assertion': 0, 'above.': 0, 'agreed.': 0, '#One': 0, 'sufficiently': 0, 'football,': 0, '#while': 0, 'vanishing': 0, 'disagrees': 0, '#with': 0, 'give.': 0, '(ethics)': 0, 'values.': 0, 'cogent': 0, 'objection': 0, \"'freedom'\": 0, 'not,': 0, 'some,': 0, 'implications': 0, '#Further,': 0, 'evidence,': 0, 'proof.': 0, 'Proof': 0, '#your': 0, 'competing': 0, 'theories.': 0, 'Garbage.': 0, \"That's\": 0, '#The': 0, 'arguments': 0, 'reiterate': 0, '#the': 0, 'objections.': 0, 'Evidence': 0, 'preacher.': 0, 'Name': 0, 'fallacy.': 0, 'Roger,': 0, 'check': 0, 'facts': 0, 'posting!': 0, 'conceded': 0, '12': 0, 'goals': 0, 'games.': 0, 'Or': 0, 'residing': 0, 'Atlanta,': 0, 'DONT': 0, 'TELL': 0, 'F&@(*@CKING': 0, 'PLAYOFF': 0, 'SCORES': 0, 'ON': 0, 'NEWS!!!!!': 0, 'parodies,': 0, 'atheistic': 0, 'paradies.': 0, 'substantiate': 0, 'outrageous.': 0, 'Specifically,': 0, 'IUP': 0, 'outrageous': 0, 'religions?': 0, 'Private': 0, 'Jennifer': 0, 'Fakult.': 0, '\"This': 0, 'sarcasm,': 0, 'cycnicism,': 0, 'irony,': 0, 'humor.': 0, 'aware': 0, 'possibility': 0, 'allow': 0, 'confused': 0, 'thrown': 0, 'loop.': 0, 'doubt,': 0, 'BULLSHIT!!!': 0, 'Gulf': 0, 'Massacre,': 0, '7%': 0, 'ordnance': 0, '\"smart.\"': 0, '93%': 0, 'regular,': 0, 'dumb': 0, \"ol'\": 0, 'iron': 0, 'bombs': 0, 'stuff.': 0, 'forgotten': 0, 'Pentagon': 0, 'successful': 0, 'Patriot': 0, 'launch': 0, 'missile': 0, 'cleared': 0, 'launching': 0, 'tube': 0, 'damage?': 0, 'interception': 0, 'Scud': 0, 'passed': 0, 'sky\"?': 0, '\"smart\"': 0, 'stuff,': 0, '35%': 0, 'hit.': 0, 'Again': 0, 'follow': 0, '65%': 0, 'arsenal': 0, 'missed.': 0, 'Kelly': 0, 'left': 0, 'Jose.': 0, '(deletion)': 0, 'Bogus.': 0, 'theism': 0, 'fanatism.': 0, '*a*': 0, 'factor.': 0, 'support.': 0, 'theism,': 0, 'leaders': 0, 'say.': 0, 'straw': 0, 'discussions': 0, 'repeat': 0, 'it:': 0, 'Read': 0, 'written': 0, 'above:': 0, 'leads': 0, 'fanatism,': 0, 'fanatism': 0, 'theism.': 0, 'is,': 0, 'correlation,': 0, 'innate': 0, 'features': 0, 'Gullibility,': 0, 'forbid': 0, 'men.': 0, 'Interesting': 0, 'offer.': 0, 'bogus.': 0, 'Self': 0, 'reference': 0, 'circular.': 0, 'evaluation': 0, 'usefulness': 0, 'possible': 0, 'rational': 0, 'systems,': 0, 'allowed.': 0, 'mathematics': 0, 'therfore': 0, 'systems': 0, 'contradictory': 0, 'definitions': 0, 'god': 0, 'axiomatic': 0, 'datum': 0, 'lends': 0, 'analysis,': 0, 'often': 0, 'refuted': 0, 'axiom': 0, 'choice.': 0, 'further,': 0, 'evaluate': 0, 'axioms': 0, 'larger': 0, 'derived.': 0, '\"I': 0, 'exist\"': 0, 'derived,': 0, 'consistency': 0, 'axioms.': 0, 'say?': 0, 'Using': 0, 'traditonal': 0, 'gods.': 0, 'Personal,': 0, 'entities': 0, 'effects': 0, 'connected': 0, 'works.': 0, 'Person': 0, 'believes': 0, 'becuase': 0, 'sounds': 0, 'nice.': 0, 'hypothesis.': 0, 'Testing': 0, 'evaluating': 0, 'therefore': 0, 'dismissed': 0, '(already': 0, 'believed)': 0, 'wronG/': 0, 'time/': 0, 'possible.': 0, 'Depending': 0, 'further': 0, 'contents': 0, 'Amalekites/Idolaters/Protestants': 0, 'killed,': 0, 'interesting': 0, 'effects.': 0, 'not.': 0, 'here:': 0, 'Religion': 0, 'religion.': 0, 'memetic': 0, 'virus.': 0, 'loudly': 0, 'proclaiming': 0, 'crossing': 0, 'border': 0, '->': 0, 'Religion.': 0, '\"save\"': 0, 'entrenched': 0, '(\"memoids\").': 0, 'rule': 0, 'practicing': 0, 'shut': 0, 'fuck': 0, 'politely.': 0, 'motive': 0, 'conversation': 0, 'self-gratifying': 0, 'spread': 0, 'word.': 0, 'reflects': 0, 'judgements.': 0, 'contracted': 0, 'reflect': 0, 'judgements': 0, '(other': 0, '\"i': 0, \"i'll\": 0, 'brainwashed': 0, 'today\").': 0, 'drug...': 0, 'i': 0, 'intented': 0, 'discussion,': 0, 'proclamation': 0, 'someones': 0, '(Susan': 0, 'Clark)': 0, 'asks:': 0, 'sure': 0, 'celebrated': 0, 'Tod': 0, 'Hartje,': 0, 'Harvard': 0, 'AHL': 0, '(initially': 0, 'Moncton': 0, 'currently': 0, 'Providence--': 0, 'Daryl': 0, 'Turner': 0, 'update!)': 0, 'appeared': 0, \"Letterman's\": 0, 'distinction': 0, 'American': 0, 'born': 0, 'former': 0, 'Soviet': 0, 'Union.': 0, 'arranged': 0, 'GM': 0, 'NHL.': 0, 'Russian': 0, 'entered': 0, '\"Behind': 0, 'Line\"': 0, '(check': 0, 'out!)': 0, 'Hello,': 0, 'faceoff': 0, '91/92': 0, '92/93': 0, '(i': 0, 'incestuous....': 2.998511482373987, ':)': 0, 'games????': 2.998511482373987, 'so?': 0, 'proofs': 0, 'funniest': 0, 'term': 0, 'paper': 0, 'freshman.': 0, '\"God': 0, 'exists': 0, 'doesn\\'t!\"': 0, 'ontological': 0, 'existence': 0, 'Anselm': 0, 'Descartes,': 0, 'others?': 0, 'Draft': 0, '18th': 0, 'weekend.': 0, 'Logistician': 0, 'TL>': 0, 'wearing': 0, 'Borque': 0, 'Any': 0, 'Thanx.': 0, 'Logistician,': 0, 'Paul': 0, 'Coffey': 0, '77': 0, 'Wings?': 0, '(besides': 0, 'Borque)': 0, 'helps.': 0, 'ignorant': 0, 'Pitt.': 0, 'drug': 0, 'test,': 0, 'Ridalin': 0, 'whale': 0, '<1993Apr20.004119.6119@cnsvax.uwec.edu>': 0, 'nyeda@cnsvax.uwec.edu': 0, '(David': 0, 'Nye)': 0, 'Why?': 0, 'How?': 0, 'right?': 0, 'want?': 0, 'Who': 0, 'decide?': 0, 'disagree?': 0, 'Good': 0, 'immoral': 0, 'choose,': 0, 'lay': 0, 'lean': 0, 'toward': 0, 'yet.': 0, 'extended?': 0, 'behaving': 0, 'morally': 0, 'eyes': 0, 'chose.': 0, 'condemn': 0, 'societies': 0, 'besides,': 0, 'buzz': 0, 'words,': 0, 'societies?': 0, 'Holding': 0, 'suddenly?': 0, '[By': 0, 'default,': 0, 'followups': 0, 'newsgroups.]': 0, 'excerpt:': 0, 'self': 0, 'ownership.': 0, 'theists': 0, 'control?': 0, '\"dominantly': 0, 'arrogant.\"': 0, 'supremacy': 0, 'mankind.': 0, 'arrogant,': 0, 'Most': 0, 'themselves.': 0, 'disagreement': 0, 'ownership': 0, 'supremely': 0, 'arrogant.': 0, 'jsn104': 2.998511482373987, 'jeremy': 2.998511482373987, 'scott': 2.998511482373987, 'noonan': 2.998511482373987, 'advertise': 0, 'Pens/Devils': 0, '4.': 0, 'hell': 0, 'NFL': 0, 'draft.': 0, 'ratings': 0, 'Sundays': 0, 'heard': 0, 'arms': 0, 'sale': 0, 'Saudi': 0, 'Arabia.': 0, 'grave': 0, 'mistake': 0, 'Arabia': 0, 'weapons?': 0, \"shouldn't\": 0, 'weapons': 0, 'countries?': 0, 'Straightforward': 0, 'please.': 0, 'oppressive': 0, 'regime': 0, 'recently': 0, 'interfering': 0, 'politcs': 0, 'renunified': 0, 'Yemen,': 0, 'including': 0, 'assasinations': 0, 'incursions.': 0, 'soon': 0, 'invade.': 0, 'Unluckily': 0, 'Yemen': 0, 'West': 0, 'managed': 0, 'aside': 0, 'political': 0, 'differences': 0, 'reunification': 0, 'thus': 0, 'effectively': 0, 'lost': 0, '(North?)': 0, 'client': 0, 'state.': 0, 'Vell,': 0, 'normal': 0, 'Vor': 0, 'Vogon,': 0, 'know?': 0, 'Them': 0, \"thar's\": 0, 'words...hardly': 0, 'force...geez...miss': 0, '15': 0, 'years,': 0, 'making': 0, 'five': 0, 'doomsville.': 0, 'Fedorov,': 0, 'Primeau,': 0, 'Kozlov,': 0, 'Lidstrom,': 0, 'Sillinger,': 0, 'Konstantinov,': 0, 'Drake,': 0, 'Kennedy,': 0, 'Racine,': 0, 'pipeline': 0, 'Devellano...Murray': 0, 'inherited': 0, 'guys...in': 0, 'addition': 0, 'Yzerman,': 0, 'Probert,': 0, 'Chiasson,': 0, 'No...Quinn': 0, 'less...Murray': 0, \"Devellano's\": 0, 'drafting...if': 0, 'Devellano': 0, 'Demers': 0, 'request': 0, 'Oates': 0, 'trade,': 0, 'GM.': 0, 'First,': 0, 'exist.': 0, 'Secondly,': 0, 'creator.': 0, 'daft?': 0, 'exists?': 0, 'Come': 0, \"you've\": 0, 'learned': 0, 'testicle.': 0, 'stepped': 0, 'complete': 0, 'asshole.': 0, 'offense,': 0, 'slip': 0, 'goddamned': 0, 'heart': 0, 'cannibalistic': 0, 'necrophiliac.': 0, 'qualified': 0, 'assess': 0, 'motivations': 0, 'Fortunately,': 0, 'faith.': 0, 'christians': 0, 'quit': 0, 'fucking': 0, 'peace.': 0, \"You've\": 0, 'tell,': 0, 'Bassen!': 0, 'woodwork...8^)': 0, 'Monday,': 0, '12,': 0, 'Kamloops': 0, '@': 0, 'Spokane': 0, '(Kamloops': 0, 'wins': 0, '3-0)': 0, '***': 0, 'Western': 0, 'Final': 0, 'Matchup': 0, 'Portland': 0, '13,': 0, 'Wednesday,': 0, '14,': 0, 'Thursday,': 0, '15,': 0, 'scheduled.': 0, 'Friday,': 0, '16,': 0, 'Regina': 0, 'Swift': 0, '(Series:': 0, '0-1)': 0, 'Saturday,': 0, '17,': 0, '0-2)': 0, 'Sunday,': 0, '18,': 0, '2-0)': 0, 'Playoff': 0, 'Scoring': 0, 'Leaders': 0, '-------------------------------------------------------': 0, 'Black,': 0, 'Tacoma': 0, '22': 0, 'Schneider,': 0, 'Valeri': 0, 'Bure,': 0, '17': 0, 'Allan': 0, 'Egeland,': 0, 'McAmmond,': 0, 'Jason': 0, 'Krywulak,': 0, 'Cam': 0, 'Danyluk,': 0, 'Holt,': 0, 'Tyler': 0, 'Wright,': 0, 'Mathers,': 0, 'Jeff': 0, 'Friesen,': 0, 'Girard,': 0, 'Leading': 0, 'Goaltenders': 0, '(minimum': 0, '60': 0, 'minutes)': 0, 'MP': 0, 'GA': 0, 'SO': 0, 'GAA': 0, 'Langkow,': 0, '295': 0, '2.44': 0, 'Milan': 0, 'Hnilicka,': 0, '497': 0, '21': 0, '2.54': 0, 'Trevor': 0, 'Robins,': 0, 'Brandon': 0, '258': 0, '2.56': 0, 'Passmore,': 0, '341': 0, '2.82': 0, 'Dawkins,': 0, 'Deer': 0, '269': 0, '2.90': 0, 'bonus': 0, '(Short': 0, 'reply': 0, 'Kent': 0, \"Sandvik's\": 0, 'remarking': 0, 'somehow': 0, 'Sufism': 0, 'related': 0, '[to': 0, 'him]': 0, 'different.)': 0, 'understands': 0, 'associated': 0, 'general)': 0, '\"inner': 0, 'dimension\"': 0, 'Islam.': 0, '\"roots\"': 0, '\"Islam\"': 0, '\"submission\"': 0, 'denotes': 0, 'submission': 0, 'God.': 0, '\"annihilating\"': 0, 'oneself': 0, 'Sufi': 0, 'path,': 0, 'path.)': 0, 'as?': 2.632662715928007, 'Messier': 0, 'Leetch': 0, 'shooting': 0, 'camera': 0, 'Letterman(?).': 0, 'NONE': 0, 'regularly.': 0, '-John': 0, 'Santore': 0, 'Philadelphia': 0, 'Flyers': 0, \"'93-'94!\": 0, '=============================================================================': 0, '____________________': 0, '/': 0, '\\\\': 0, '\"We': 0, 'surface': 0, 'tension': 0, '\\\\_________': 0, '____': 0, 'wild': 0, 'kinetic': 0, 'dreams\"': 0, '-Rush,': 0, 'Grand': 0, 'Designs': 0, '\\\\_______': 0, '(*)': 0, ')': 0, '/\\\\___/': 0, 'Flyers!': 0, '\\\\_____': 0, '\\\\_______/': 0, '(jsbh@andrew.cmu.edu)': 0, '\\\\________/': 0, 'curious': 0, 'professional': 0, 'regularly': 0, 'broadcast': 0, 'FM': 0, 'WYSP': 0, 'carries': 0, \"Eagles'\": 0, 'summarize': 0, 'Canadiens': 0, 'station(s)': 0, 'series': 0, '(including': 0, 'wave': 0, 'frequencies)?': 0, 'Lewisburg,': 0, 'PA': 0, '(home': 0, 'Bucknell': 0, 'University)': 0, 'definitely': 0, 'town!': 0, 'send': 0, 'responses': 0, 'malinich@bucknell.edu': 0, 'Apparently,': 0, 'public': 0, \"workers'\": 0, 'strike': 0, 'St': 0, \"John's,\": 0, 'Newfoundland': 0, 'over.': 0, 'has,': 0, 'mid-January,': 0, 'forced': 0, \"John's\": 0, 'Maple': 0, 'home': 0, 'Toronto,': 0, 'Cornwall': 0, 'Charlottetown.': 0, 'Halifax,': 0, 'Nova': 0, 'Scotia.': 0, \"Leafs'\": 0, 'management': 0, 'COULD': 0, 'round.': 0, 'Hello': 0, 'Gang,': 0, 'notes': 0, 'asking': 0, 'obtain': 0, 'DARWIN': 0, 'fish.': 0, 'net.': 0, 'contact': 0, 'right!!!': 0, 'likely': 0, 'stroke!!': 0, 'listen': 0, 'Blackhawk': 0, 'station': 0, 'JOSEPH': 0, 'SPEcTACular': 0, 'saaaaaave\".': 0, 'Blues': 0, '\"like\"': 0, 'two.': 0, 'Sure': 0, 'fine,': 0, 'match': 0, 'Hawks': 0, 'treat': 0, '86': 0, 'Flames.': 0, '\"Monday': 0, 'Night': 0, 'Miracle\"': 0, 'Chicago.': 0, 'talent.': 0, 'hawks.': 0, 'h.---': 0, 'BLUES!!': 0, 'Rush:': 0, 'apologizing': 0, 'jumped': 0, 'Regardless,': 0, \"they'd\": 0, 'sparkle': 0, 'pressbox.': 0, \"Errey's\": 0, 'hip': 0, 'injury.': 0, 'DN>': 0, \"'liar,\": 0, 'lunatic,': 0, \"thing'\": 0, 'before?': 0, 'somebody': 0, 'turn.': 0, 'straight': 0, 'ridicule': 0, 'gather': 0, 'posts': 0, 'aside,': 0, 'published': 0, 'this?': 0, 'Must': 0, 'vanity': 0, 'press.': 0, 'recomend': 0, 'visit': 0, 'bookstore': 0, 'sell.': 0, 'Quite': 0, 'intelectual.': 0, '(About': 0, 'Chick': 0, 'pamphelets...)': 0, 'common': 0, 'fundie': 0, 'bookstore,': 0, 'section': 0, 'hate': 0, 'Wiccans,': 0, 'Pagans,': 0, 'Catholics,': 0, 'Mormons,': 0, 'rock': 0, 'musicians,': 0, 'fanatical': 0, '(Hate': 0, '\"Love': 0, 'God(tm)\"!)': 0, 'places.': 0, 'Very': 0, 'scary': 0, 'people.': 0, 'hear': 0, 'voices': 0, '\"God\"': 0, 'telling': 0, 'hear.': 0, '(If': 0, 'Christians,': 0, 'locked': 0, 'Federal': 0, 'reduced': 0, 'Mental': 0, 'institutions': 0, 'reagan': 0, 'administration...': 0, 'Had': 0, 'out...)': 0, 'Christianity': 0, 'eight': 0, 'fifteen': 0, 'behavior?\"': 0, 'York': 0, 'State': 0, 'Senator': 0, 'H.': 0, 'Donovan': 0, 'Capitol': 0, 'Punishment': 0, 'Alan': 0, 'Yep,': 0, 'reasons': 0, 'relatively': 0, 'quiet': 0, 'simple...last': 0, 'woofed': 0, '3-1': 0, 'Canucks...and': 0, 'Domi': 0, 'tossed': 0, '2nd': 0, 'high-sticking': 0, 'major.': 0, 'Kris': 0, 'Stu': 0, 'Barnes...and': 0, 'arguably': 0, 'Definitely': 0, 'thing...every': 0, 'cheer': 0, 'helps,': 0, 'Evan.': 0, 'operate...I': 0, 'Sunday': 0, 'home,': 0, 'hope.': 0, 'White': 0, 'noise': 0, 'come!': 0, ';)': 0, 'thing,': 0, 'WILL': 0, 'though...Vancouver': 0, 'KEEP': 0, 'Armitage': 0, 'Garrett': 0, 'team...those': 0, 'BAD,': 0, 'spoiled': 0, 'Wittman.': 0, '(At': 0, 'times,': 0, 'Barnes': 0, 'Selanne.': 0, 'Whoops!': 0, 'fascinating.': 0, 'Chinese,': 0, 'Italians,': 0, 'invented': 0, 'pasta.': 0, 'Much': 0, 'Haight-Ashbury': 0, 'crowd': 0, 'pre-existing': 0, 'dissatisfactions': 0, 'lives': 0, 'ameliorated': 0, 'mumbo-jumbo': 0, \"'new\": 0, \"realities'.\": 0, 'experienced': 0, 'LSD': 0, 'twisted': 0, 'perception.': 0, 'Pundurs': 0, 'alt.atheism,': 0, 'disagree...': 0, 'to.': 0, 'minute.': 0, 'responsibility': 0, 'step': 0, 'Him.': 0, 'promises': 0, '\"knock': 0, 'opened': 0, 'you\".': 0, 'Dan,': 0, 'work?': 0, 'believed': 0, 'realised': 0, 'deluding': 0, 'myself,': 0, 'fearful': 0, 'truth.': 0, 'Ultimately,': 0, 'believing': 0, 'fear': 0, 'hell.': 3.1310642694302033, 'sillily': 0, 'attributed': 0, 'divine': 0, 'forces': 0, \"devil's\": 0, 'destroy': 0, 'imagination,': 0, 'easy': 0, 'will.': 0, 'disguise.': 0, 'Those': 0, 'doubt': 0, 'dispute': 0, 'givin': 0, 'sincere': 0, 'demanding': 0, 'much.': 0, 'years?': 0, 'effort': 0, 'active': 0, 'suspension': 0, 'disbelief': 0, 'quit.': 0, 'faith,': 0, 'concerned': 0, \"god's\": 0, 'health.': 0, 'she': 0, '_believe_': 0, 'herself': 0, '(revelations,': 0, 'guidance,': 0, 'feel)?': 0, 'created': 0, 'us,': 0, 'easier?': 0, 'refuses': 0, 'us?': 0, 'believe?': 0, 'loves': 0, \"she'll\": 0, 'do.': 0, 'Simple': 0, 'logic': 0, 'folly.': 0, 'fools': 0, '\"logic\".': 0, 'spec': 0, 'creation.': 0, 'ultimate.': 0, 'rely': 0, '\"you\\'ll': 0, 'try\".': 0, 'sincerely': 0, 'tried,': 0, 'honest': 0, 'lived': 0, 'reality.': 0, 'use?': 0, 'refer': 0, 'conscience': 0, 'Bible.': 0, 'soul.': 0, 'dependent': 0, 'body': 0, '_am_': 0, 'body.': 0, 'flames,': 0, 'identity.': 0, 'entertain': 0, 'copies': 0, 'wants.': 0, 'know.': 0, 'mean?': 0, 'something,': 0, 'right-o.': 0, '_accept_': 0, 'why?': 0, 'learn.': 0, 'unwise': 0, 'swallow': 0, 'read.': 0, 'Suppose': 0, 'Invisible': 0, 'Pink': 0, 'Unicorn': 0, '(tm)': 0, 'daily': 0, 'problems,': 0, 'whether': 0, 'Note': 0, 'GIPU': 0, 'omnipotent,': 0, 'omnipresent,': 0, 'everyone.': 0, 'She)': 0, 'guiding': 0, 'writer': 0, 'planet,': 0, 'legendary': 0, 'stories': 0, '2000': 0, 'ago.': 0, 'aspect': 0, 'Her': 0, 'Presence.': 0, 'Hockey-tipset,': 0, 'V}ren': 0, '1993:': 0, '==========================': 0, '*#*#*#*#*': 0, 'Vinnare': 0, 'av': 0, 'Hockey-tipset': 0, '1993...': 0, 'Per': 0, 'Bengtson!!!': 0, 'Grattis!': 0, 'Slutst{llning:': 0, 'Bengtson': 0, 'Lars': 0, 'Andersson': 0, 'Anders': 0, 'Engwall': 0, 'Staffan': 0, 'Axelsson': 0, 'Patrik': 0, ']sander': 0, 'Hannu': 0, 'Hietanen': 0, 'Ingvar': 0, 'Khan': 0, '8.': 0, 'noran@cs.tut.fi': 0, 'Jan': 0, 'Stein': 0, 'Wennstr|m': 0, '11.Lars': 0, 'Thore': 0, 'Aarhus': 0, 'Fredrik': 0, 'Nissen': 0, 'Marek': 0, 'Repinski': 0, 'Wiklund': 0, '15.Lennart': 0, 'Hedenstr|m': 0, 'och': 0, 'lycklig': 0, '{gare': 0, 'en': 0, 'FBK-mugg': 0, '{r': 0, 'allts}': 0, 'Bengtson,': 0, 'kometen': 0, 'som': 0, 'ledde': 0, 'hockeytipset': 0, '92': 0, 'vid': 0, 'halvtid': 0, 'men': 0, 'sedan': 0, 'fick': 0, 'ge': 0, 'vika': 0, 'f|r': 0, 'slutspurten.': 0, 'De': 0, 'tre': 0, 'f|rsta': 0, 'lyckades': 0, 'pricka': 0, 'den': 0, 'viktiga': 0, 'fr}ga': 0, '1.4': 0, 'SM-guld': 0, 'Bryn{s.': 0, 'Kanske': 0, 'var': 0, 'det': 0, 'v{l': 0, 'sv}rt': 0, 'att': 0, 'tippa': 0, 'slutspelet': 0, 'ocks}': 0, 'ser': 0, 'om': 0, 'j{mna': 0, 'finalen': 0, 'mellan': 0, 'Lule}': 0, 'Bryn{s': 0, 'ist{llet': 0, 'hade': 0, 'slutat': 0, 'Lule}s': 0, 'f|rdel,': 0, 's}': 0, 'varit': 0, 'samma': 0, 'vinnare': 0, 'alla': 0, 'H{r': 0, 'f|ljer': 0, 'de': 0, 'korrekta': 0, 'svaren.': 0, 'Siffran': 0, 'inom': 0, 'parentes': 0, 'anger': 0, 'hur': 0, 'm}nga': 0, 'tippat': 0, 'detta.': 0, 'Bengtsons': 0, 'vinnande': 0, 'rad.': 0, 'Elitserien': 0, '1.1': 0, 'Tippa': 0, 'slutgiltiga': 0, 'tabellen.': 0, 'V{ster}s': 0, '(7)': 0, '(2)': 0, 'Malm|': 0, '(4)': 0, 'F{rjestad': 0, '(5)': 0, 'MoDo': 0, '(6)': 0, 'Leksand': 0, 'Djurg}rden': 0, 'HV': 0, '71': 0, '(11)': 0, 'R|gle': 0, '(12)': 0, '1.2': 0, 'Vilka': 0, 'kvartsfinalisterna': 0, 'g}r': 0, 'vidare': 0, 'semifinal?': 0, '(9)': 0, '(13)': 0, '1.3': 0, 'lag': 0, 'm|ts': 0, 'final?': 0, 'blir': 0, 'Svenska': 0, 'M{stare': 0, '92/93?': 0, '(3p)': 0, 'Allsvenskan': 0, 'V{stra': 0, 'Fr|lunda': 0, 'Huddinge': 0, '(3)': 0, 'Bj|rkl|ven': 0, 'AIK': 0, 'G{vle': 0, '(1)': 0, 'Boden': 0, '(0)': 0, 'credit': 0, 'that!': 0, 'Fuhr,': 0, '2-2.': 0, 'virtually': 0, 'stole': 0, 'Sabres.': 0, 'stood': 0, 'win.': 0, 'Especially': 0, 'huge': 0, 'stops': 0, '4-0,': 0, 'indicate': 0, 'dominated.': 0, '(2-0': 0, 'was)': 0, 'through': 0, 'open': 0, '(thereby': 0, 'allowing': 0, 'salt': 0, 'game).': 0, 'critical': 0, 'victory.': 0, 'Neely,': 0, 'Juneau': 0, 'LaFontaine,': 0, 'Hawerchuk.': 0, 'extraordinary': 0, 'efforts': 0, 'Hannan,': 0, 'Sweeney,': 0, 'Wood,': 0, 'Khmylev': 0, '(compared': 0, 'checkers).': 0, ',': 0, 'IMO,': 0, 'Sutton': 0, 'shift': 0, 'afterall': 0, 'outplayed': 0, 'Moog.': 0, 'Gary': 0, 'Lori,': 0, 'poster': 0, 'rec.sport.hockey,': 0, 'indicated': 0, 'via': 0, 'e-mail': 0, 'nights': 0, 'Pirates': 0, 'coincide,': 0, 'covered': 0, 'WDVE': 0, '(102.5).': 0, 'appear': 0, 'leaning': 0, 'picking': 0, 'Niedermayer,': 0, '(his': 0, 'brother': 0, 'picked': 0, 'ago).': 0, 'physical/tryout': 0, 'From': 0, 'skater': 0, 'draft,': 0, 'BOTH': 0, 'offense': 0, 'defense,': 0, 'Defensively': 0, 'looking': 0, 'terms': 0, 'prospects': 0, '(Rathje,': 0, 'Sykora,': 0, 'Ragnarsson),': 0, 'centers': 0, '(Kisio': 0, 'et': 0, 'al)': 0, 'old.': 0, 'With': 0, 'justs': 0, \"CAN't\": 0, 'Kariya,': 0, 'bashed': 0, 'oppposition': 0, 'separated': 0, 'shoulder.': 0, 'News:': 0, '=====': 0, 'injury-free.': 0, 'limp': 0, 'Carey': 0, 'Wilson': 0, 'who,': 0, 'healthy,': 0, 'Trent': 0, 'Yawney': 0, 'potted': 0, 'scored': 0, 'Los': 0, 'Angeles.': 0, 'Thoughts': 0, '==================': 0, 'horribly': 0, 'dropping': 0, 'Angeles': 0, '6-3': 0, 'afternoon.': 0, 'throwing': 0, 'big': 0, 'hits': 0, 'goals.': 0, 'dominated': 0, 'Kings,': 0, 'rush': 0, 'young,': 0, 'inexperienced': 0, 'L.A.': 0, 'shaky': 0, 'goaltending,': 0, 'wayside': 0, 'steady': 0, 'march': 0, 'box.': 0, 'Particularily': 0, 'stupid': 0, 'Theoren': 0, 'minute': 0, 'misconduct': 0, 'slamming': 0, 'Warren': 0, \"Rychel's\": 0, 'dasher': 0, 'Rychel': 0, 'knees.': 0, 'Goaltender': 0, 'faulted': 0, 'loss,': 0, 'well-publicized': 0, 'poor': 0, 'support': 0, 'clearing': 0, 'sweeping': 0, 'rebounds.': 0, 'Marty': 0, \"McSorley's\": 0, \"Dahlquist's\": 0, 'evidently': 0, 'potentially': 0, 'fatal': 0, 'consequences': 0, 'losing': 0, 'even,': 0, 'Kings.': 0, 'Calgary': 0, 'relinquished': 0, 'route': 0, '9-4': 0, 'deciding': 0, 'factors': 0, 'faceoffs': 0, 'teams.': 0, '3-for-5': 0, 'powerplay': 0, '1-for-8': 0, 'shorthanded': 0, 'Joel': 0, 'Otto.': 0, \"L.A.'s\": 0, 'outcome': 0, 'decided.': 0, \"Kings'\": 0, 'most,': 0, '1st': 0, 'periods.': 0, 'RW': 0, 'Paslawski': 0, 'suspected': 0, 'shoulder': 0, 'leveled': 0, 'Alexei': 0, 'Zhitnik': 0, \"Calgary's\": 0, '7th': 0, 'goal.': 0, 'Charlie': 0, 'Huddy': 0, 'groin': 0, 'marred': 0, 'stupidity': 0, 'Craig': 0, 'Berube': 0, 'five-minute': 0, 'instigating': 0, 'Tony': 0, 'Granato': 0, 'apparent': 0, 'drew': 0, '(Turtling': 0, 'perhaps).': 0, 'followed': 0, 'drawing': 0, 'major,': 0, 'minor,': 0, 'Musil': 0, 'fight.': 0, 'similarily': 0, 'Hardy': 0, 'toe-to-toe': 0, 'double': 0, 'minors.': 0, '(Gregson': 0, 'turtling': 0, 'amounted': 0, 'fighting,': 0, 'punches': 0, 'roughing?': 0, \"Where's\": 0, 'from.....)': 0, 'Upcoming': 0, 'games:': 0, '==============': 0, 'Friday': 0, '23,': 0, '25,': 0, '27,': 0, 'Thursday': 0, '29,': 0, 'necessary)': 0, 'Saturday': 0, 'Injuries:': 0, '========': 0, 'Wilson,': 0, 'indefinite': 0, 'recurring': 0, 'knee': 0, 'injuries': 0, '(Dec': 0, '10)': 0, '1992-93': 0, 'statistics.': 0, '========================================================': 0, 'Pos.': 0, 'PIM': 0, '===============================================================================': 0, '83': 0, '34': 0, '66': 0, '100': 0, '+14': 0, '88': 0, 'Robert': 0, 'Reichel': 0, '80': 0, '40': 0, '48': 0, '+25': 0, '54': 0, 'Suter': 0, '81': 0, '23': 0, '58': 0, '-1': 0, '112': 0, 'LW': 0, '38': 0, '41': 0, '79': 0, '+32': 0, '172': 0, '25': 0, 'Nieuwendyk': 0, '37': 0, '75': 0, '+9': 0, '52': 0, '42': 0, 'Sergei': 0, 'Makarov': 0, '18': 0, '39': 0, '57': 0, 'Al': 0, 'MacInnis': 0, '50': 0, '43': 0, '+15': 0, '61': 0, '29': 0, 'Otto': 0, '19': 0, '33': 0, '150': 0, 'Ranheim': 0, '-4': 0, '73': 0, '24': 0, '70': 0, '207': 0, 'Brent': 0, 'Ashton': 0, '+11': 0, 'Lindberg': 0, '62': 0, '+13': 0, '63': 0, '67': 0, '+28': 0, '131': 0, 'Skrudland': 0, '65': 0, '-6': 0, '209': 0, 'Michel': 0, 'Petit': 0, '35': 0, '-5': 0, 'Dahl': 0, '56': 0, '(I)': 0, '+10': 0, 'Dahlquist': 0, '74': 0, 'Alexander': 0, 'Godynyuk': 0, '27': 0, '+6': 0, 'Kruse': 0, 'Reese': 0, 'Smyth': 0, '95': 0, '64': 0, 'Forslund': 0, '??': 0, 'Heaphy': 0, 'Patrick': 0, 'Lebeau': 0, 'Andrei': 0, 'Trefilov': 0, 'BR>': 0, 'From:': 0, 'wpr@atlanta.dg.com': 0, '(Bill': 0, 'Rawlins)': 0, 'Newsgroups:': 0, 'alt.atheism': 0, 'Organization:': 0, 'DGSID,': 0, 'referred': 0, 'Messiah,': 0, 'referring': 0, 'Testament.': 0, 'detail': 0, 'complaints': 0, 'post.': 0, 'First-century': 0, 'Greek': 0, 'well-known': 0, 'well-understood.': 0, 'considered': 0, 'Josephus,': 0, 'Historian,': 0, 'Jesus?': 0, 'addition,': 0, 'gospel': 0, 'accounts': 0, 'harmony.': 0, 'Josephus': 0, 'relating': 0, 'inserted': 0, '(badly)': 0, 'editors.': 0, 'gospels': 0, 'harmony': 0, 'Jesus...': 0, 'contradictions': 0, 'trial': 0, 'continuing': 0, 'assension.': 0, 'Acts': 0, '1:18:': 0, '\"Now': 0, '(Judas)': 0, 'purchased': 0, 'reward': 0, 'iniquity;': 0, 'falling': 0, 'headlong,': 0, 'burst': 0, 'asunder': 0, 'midst,': 0, 'bowels': 0, 'gushed': 0, 'out.\"': 0, 'Matt.': 0, '27:5-7:': 0, 'cast': 0, 'pieces': 0, 'silver': 0, 'temple,': 0, 'departed,': 0, 'hanged': 0, 'himself.': 0, 'chief': 0, 'priests...bought': 0, \"potter's\": 0, 'field.\"': 0, 'Before': 0, 'cock': 0, 'crow': 0, '26:34': 0, 'twice': 0, 'MAR': 0, '14:72': 0, 'crew.': 0, 'Peter': 0, 'him,': 0, 'twice,': 0, 'thou': 0, 'shalt': 0, 'deny': 0, 'thrice.': 0, 'thereon,': 0, 'wept.': 0, 'MAT': 0, '26:74': 0, 'Then': 0, 'began': 0, 'curse': 0, 'swear,': 0, 'saying,': 0, '26:75': 0, 'remembered': 0, 'Jesus,': 0, 'crow,': 0, 'wept': 0, 'bitterly.': 0, 'LUK': 0, '22:60': 0, 'Man,': 0, 'sayest.': 0, 'immediately,': 0, 'spake,': 0, '22:61': 0, 'Lord': 0, 'turned,': 0, 'looked': 0, 'Peter.': 0, 'Lord,': 0, 'JOH': 0, '13:38': 0, 'answered': 0, 'Wilt': 0, 'thy': 0, 'sake?': 0, 'Verily,': 0, 'verily,': 0, 'thee,': 0, 'hast': 0, 'denied': 0, '18:27': 0, 'again:': 0, '(This': 0, 'quotes': 0, 'prophesy': 0, 'made!': 0, 'either...)': 0, '27:9': 0, 'fulfilled': 0, 'spoken': 0, 'Jeremy': 0, 'prophet,': 0, 'thirty': 0, 'silver,': 0, 'price': 0, 'valued,': 0, 'whom': 0, 'children': 0, 'Israel': 0, 'value;': 0, 'zechariah': 0, '11:11-13': 0, '(nothing': 0, 'Jeremiah': 0, 'remotely': 0, 'like)': 0, 'color': 0, 'placed': 0, 'trial?': 0, 'scarlet': 0, '27:28': 0, 'purple': 0, '19:2': 0, 'hour,': 0, 'a.m.,': 0, 'sixth': 0, '(noon)': 0, 'sentence': 0, 'passed.': 0, 'Nazareth': 0, 'vinegar': 0, '27:34': 0, 'myrrh': 0, '15:23': 0, 'Mary': 0, 'Magdaline,': 0, 'mother': 0, 'James,': 0, \"Zebedee's\": 0, 'children.': 0, 'speak': 0, 'includes': 0, 'Magdeline': 0, 'less.': 0, \"Jesus's\": 0, 'cross,': 0, 'sister': 0, 'Magdalene.': 0, 'Matt.27:46,50:': 0, 'ninth': 0, 'cried': 0, 'loud': 0, 'voice,': 0, '\"Eli,': 0, 'eli,': 0, 'lama': 0, 'sabachthani?\"': 0, 'forsaken': 0, 'me?\"': 0, '...Jesus,': 0, 'yielded': 0, 'u': 0, 'ghost.\"': 0, 'Luke23:46:': 0, '\"Father,': 0, 'hands': 0, 'commend': 0, 'spirit:\"': 0, 'thus,': 0, 'John19:30:': 0, 'vinegar,': 0, '\"It': 0, 'finished:\"': 0, 'bowed': 0, 'head,': 0, 'veil': 0, 'temple': 0, 'rent,': 0, 'earthquake,': 0, 'dark': 0, 'graves': 0, 'saints': 0, 'arose': 0, 'Jeruselem,': 0, 'appearing': 0, '(beating': 0, 'resurection).': 0, 'darkness': 0, 'rent': 0, 'earthquake': 0, 'risen': 0, 'saints.': 0, 'mentions': 0, 'peirced.': 0, 'Pilate': 0, 'guard': 0, 'prevent': 0, 'stolen': 0, 'disciples,': 0, 'tomb': 0, 'sealed.': 0, 'supposedly': 0, 'done,': 0, 'precautions.': 0, 'Depends': 0, 'look;': 0, '12:40': 0, 'gives': 0, 'prophesying': 0, '\"three': 0, 'earth\",': 0, '10:34': 0, '\"after': 0, '(meta': 0, 'treis': 0, 'emeras)': 0, 'rise': 0, 'again\".': 0, 'quick': 0, 'prophecies': 0, 'days\",': 0, 'post-resurrection': 0, 'narratives': 0, '\"on': 0, 'day\".': 0, 'dawn,': 0, 'sun': 0, 'rising,': 0, 'dark.': 0, '28:1': 0, 'sabbath,': 0, 'dawn': 0, 'Magdalene': 0, 'sepulchre.': 0, '16:1': 0, 'sabbath': 0, 'Magdalene,': 0, 'Salome,': 0, 'bought': 0, 'sweet': 0, 'spices,': 0, 'anoint': 0, '20:1': 0, 'cometh': 0, 'early,': 0, 'dark,': 0, 'sepulchre,': 0, 'seeth': 0, 'stone': 0, 'taken': 0, '28:2': 0, 'And,': 0, 'behold,': 0, 'earthquake:': 0, 'angel': 0, 'descended': 0, 'heaven,': 0, 'rolled': 0, 'door,': 0, 'sat': 0, '28:3': 0, 'countenance': 0, 'lightning,': 0, 'raiment': 0, 'snow:': 0, '28:4': 0, 'keepers': 0, 'shake,': 0, 'dead': 0, '28:5': 0, 'Fear': 0, 'ye:': 0, 'ye': 0, 'seek': 0, 'crucified.': 0, '16:5': 0, 'entering': 0, 'young': 0, 'sitting': 0, 'side,': 0, 'clothed': 0, 'garment;': 0, 'affrighted.': 0, '24:4': 0, 'perplexed': 0, 'thereabout,': 0, 'shining': 0, 'garments:': 0, '20:12': 0, 'sitting,': 0, 'feet,': 0, 'lain.': 0, 'claim.': 0, 'Marys': 0, 'them,': 0, 'disciples': 0, 'Galilee.': 0, 'mountain': 0, 'previously': 0, 'agreed': 0, 'opon,': 0, 'met': 0, 'there.': 0, 'appearance,': 0, 'women': 0, 'tomb.': 0, 'devotes': 0, 'verses': 0, 'disciples.': 0, 'walked': 0, 'country,': 0, 'believe.': 0, 'Later': 0, 'mealtime.': 0, 'went,': 0, 'rose': 0, 'dead,': 0, 'Emmaus,': 0, 'village': 0, 'miles': 0, 'jioned': 0, 'unrecognised.': 0, 'ate': 0, 'meal': 0, 'together': 0, 'evening,': 0, 'finally': 0, 'recognised': 0, 'whereopon': 0, 'dissapeared.': 0, 'Returning': 0, 'experience,': 0, 'frightening': 0, 'spirit.': 0, 'honey': 0, 'preached': 0, 'evening': 0, 'arrose,': 0, 'hiding.': 0, 'breathed': 0, 'Holy': 0, 'Ghost': 0, 'opon': 0, 'present': 0, 'Eight': 0, 'joined': 0, 'convinced': 0, 'Thomas.': 0, 'appearance': 0, 'sea': 0, 'Tiberias': 0, 'recognised.': 0, 'netson': 0, 'boat,': 0, 'prepares': 0, 'bread': 0, 'converse.': 0, 'acts': 0, 'adds': 0, 'confusion.': 0, 'apostles': 0, 'resurection': 0, '(thus': 0, 'contradicting': 0, 'Matthew,': 0, 'Mark,': 0, 'John)': 0, 'spoke': 0, 'pertaining': 0, 'kingdom': 0, 'God:': 0, 'things,': 0, 'beheld,': 0, 'up;': 0, 'cloud': 0, 'recieved': 0, 'sight.': 0, 'steadfastly': 0, 'heaven': 0, 'apparel:': 0, 'Which': 0, 'Ye': 0, 'Galilee,': 0, 'gazing': 0, 'heaven?': 0, 'comein': 0, 'manneras': 0, 'heaven\"': 0, '1:3-11': 0, 'outdoes': 0, '\"authority\"': 0, '500': 0, 'assension,': 0, 'where.': 0, 'claims': 0, '\"as': 0, 'time\"': 0, 'Jesus.': 0, 'Cor': 0, '15:6-8.': 0, 'casually': 0, 'finished': 0, 'Jeruselem.': 0, 'desciples': 0, 'Bethany': 0, 'blessed': 0, 'parted': 0, 'carried': 0, 'heaven.': 0, 'contradicts': 0, '(See': 0, 'section)': 0, '24:34': 0, 'Verily': 0, 'generation': 0, 'fulfilled.': 0, '13:30': 0, 'done.': 0, '21:32': 0, 'pass': 0, 'thessalonians': 0, '4:15-18': 0, 'Corinthians': 0, '15:5': 0, '27:3-5': 0, '(minus': 0, '12)': 0, '1:9-26': 0, '(Mathias': 0, 'elected': 0, 'resurrection)': 0, '28:16': 0, 'eleven': 0, 'appointed': 0, 'Elijah': 0, 'whirlwind': 0, 'heaven.\"': 0, '(2': 0, '2:11)': 0, '\"No': 0, 'hath': 0, 'ascended': 0, '...': 0, 'Son': 0, 'Man.\"': 0, '(John': 0, '3:13)': 0, 'account': 0, 'trial,': 0, 'crucifiction': 0, 'witnesses,': 0, 'SOME': 0, 'details': 0, 'right!': 0, '(In': 0, 'AGREE.': 0, 'observing!)': 0, 'contradiction': 0, 'error,': 0, 'story': 0, 'presented': 0, 'literal': 0, '(Due': 0, 'truth.)': 0, 'Majesty,': 0, ';^),': 0, 'picture': 0, 'Cherry': 0, 'starts': 0, 'post-game': 0, 'Barrasso;': 0, 'crapped': 0, 'shoe)': 0, 'proceeds': 0, 'tonsilectomy': 0, 'Sher-Wood.': 0, 'pay-per-view!': 0, 'Hope': 0, 'Listen': 0, 'southern': 0, 'cbc': 0, 'tsn': 0, 'bar': 0, 'satellite.': 0, 'Mon': 0, 'Que': 0, 'toronto': 0, 'detroit,': 0, 'Van': 0, 'vs': 0, 'Winn': 0, 'cbc.': 0, 'boy': 0, 'leafs': 0, 'Ciao.': 0, 'Heh,': 0, 'mentioned': 0, '(Flyers)': 0, 'besk': 0, 'mask': 0, 'poll': 0, 'below': 0, 'part).': 0, 'plain': 0, 'helmet': 0, 'cage.': 0, 'amusing.': 0, 'hell-of-a-time': 0, 'goaltending': 0, 'Tabaracci.': 0, 'continues': 0, 'dump-and-chase': 0, 'which,': 0, 'boardaholics': 0, 'Flatley,': 0, 'Caps.': 0, 'realizes': 0, 'this!!': 0, 'talented': 0, 'finesse': 0, 'carry': 0, 'puck': 0, 'set-up???': 0, \"night's\": 0, 'omen,': 0, 'ole': 0, 'form;': 0, 'COMING': 0, 'pounce': 0, 'Rebounds.': 0, 'swollen-shut': 0, 'eye': 0, 'suffered': 0, 'Dale': 0, 'Hunter.': 0, 'arrived': 0, 'fiesty': 0, 'hustle': 0, 'Islander': 0, 'Italian': 0, 'past;': 0, 'JOHN': 0, 'TONELLI!!!': 0, 'Tonelli': 0, 'PENS': 0, '82': 0, 'OT,': 0, 'lacked': 0, 'tenacity': 0, 'BACK!': 0, 'Coliseum': 0, 'packed': 0, 'days!!!': 0, 'luck': 0, 'way!!!!!': 0, 'Scialdone': 0, 'SCIALDONE@NSSDCA.GSFC.NASA.GOV': 0, 'underestimate': 0, 'creating': 0, 'historical': 0, 'misunderstanding.': 0, '30-year-old': 0, 'war': 0, 'fractions': 0, 'Protestants': 0, 'Vatican?': 0, 'Cheers,': 0, '[writing': 0, 'else]': 0, '\"strong': 0, 'Atheist\"': 0, '\"weak': 0, '\"hard': 0, '\"soft': 0, 'Atheist\".': 0, 'Newbies': 0, 'confusion': 0, 'multiplication': 0, 'descriptions.': 0, '[rest': 0, 'deleted]': 3.4907526028548195, 'morning': 0, 'Today': 0, 'Show),': 0, \"Koresh's\": 0, 'lawyer': 0, 'interviewed.': 0, 'flipped': 0, 'letters': 0, 'Koresh': 0, 'wrote.': 0, 'Hebrew': 0, '(near': 0, 'bottom': 0, 'page):': 0, 'koresh': 0, 'adonai': 0, 'SCORES--': 0, 'FIRST': 0, 'ROUND': 0, 'CAPS)': 0, '================================': 0, 'GAMES': 0, 'PLAYED': 0, 'TUES,': 0, '4/20': 0, '-------------------------': 0, 'Rochester': 0, 'UTICA': 0, 'Fredericton': 0, 'Cape': 0, 'Breton': 0, 'SERIES': 0, 'STATI': 0, '(plural': 0, 'status?': 0, 'Adirondack': 0, 'CDI,': 0, '3-0': 0, 'Providence': 0, 'w/Springfield,': 0, 'Binghamton': 0, 'w/Baltimore,': 0, 'Utica,': 0, 'Moncton,': 0, 'w/Fredericton,': 0, 'existance.': 0, '***************************************************************************': 0, 'existed.': 0, 'Guys:': 0, 'didnt,': 0, 'Socrates': 0, 'didnt': 0, 'exist': 0, 'cuz': 0, 'he,': 0, 'survived.': 0, 'Plato': 0, \"Jesus'\": 0, 'existance,': 0, 'Babylonian': 0, 'Talmud.': 0, 'Sorry': 0, 'guys,': 0, 'existed': 0, 'Whether': 0, 'however.': 0, '*****************************************************************************': 0, 'Dave,': 0, 'disagree': 0, 'Satan': 0, 'stayed': 0, 'Edmonton.': 0, 'Selfish,': 0, 'move,': 0, 'owner': 0, 'is.': 0, 'Absolutely': 0, 'Without': 0, 'either': 0, 'established': 0, 'invent': 0, 'theist': 0, 'equally': 0, '(not)': 0, 'revelation': 0, '_no_': 0, 'information': 0, 'available.': 0, 'Strip': 0, 'dogma': 0, 'theists/atheists': 0, 'different,': 0, 'practical': 0, 'importance.': 0, 'Sorry,': 0, 'help.': 0, 'apply': 0, 'speaking?': 0, 'gone': 0, 'delusions?': 0, 'loaded': 0, 'gun.': 0, 'Ah,': 0, 'assumed.': 0, 'Yes.': 0, \"We're\": 0, '1993-1994': 0, 'Pool': 0, 'Denis': 0, 'Papp': 0, 'Stoochnoff': 0, 'Rules:': 0, 'Pick': 0, 'LW,': 0, 'C,': 0, 'RW,': 0, 'LD,': 0, 'RD,': 0, 'Goalies)': 0, 'Points': 0, 'follows:': 0, 'goalies': 0, 'shutout': 0, 'Entries:': 0, '-Entries': 0, 'sent': 0, '(by': 0, 'ascii': 0, 'text': 0, 'file)': 0, 'Hard': 0, 'Wired': 0, 'BBS': 0, '(434-7996).': 0, '-Due': 0, 'date': 0, 'entries': 0, 'accepted': 0, '(unless': 0, 'slightly': 0, 'late.': 0, 'applied': 0, 'team).': 0, '-internet': 0, 'users': 0, 'dpapp@muskwa.ucs.ualberta.ca': 0, 'Prizes:': 0, 'Prizes': 0, 'considered.': 0, 'range': 0, 'suggestions...': 0, 'cents': 0, 'in).': 0, 'willing': 0, 'equal': 0, 'amount': 0, 'money,': 0, 'prize': 0, 'submitted': 0, 'pool.': 0, 'posted,': 0, 'Cost:': 0, 'cost...': 0, 'ABSOLUTELY': 0, 'NOTHING!!!': 0, 'fee': 0, 'Note:': 0, '-If': 0, 'questions,': 0, '(Chris': 0, 'Stoochnoff).': 0, '(ie.': 0, 'Right': 0, 'Wing)': 0, 'decided': 0, 'using.': 0, 'So,': 0, 'position,': 0, 'position': 0, 'plays,': 0, '-And': 0, '(403)-434-7996': 0, '(this': 0, 'location': 0, 'displayed).': 0, 'Internet': 0, 'Users:': 0, '[some': 0, 'deletions]': 0, '^^^^^^^^^^^^^^^^^^^^^^^^^^^^^^^^^^^^^^^^^^^^^^^^^^': 0, 'Another': 0, 'string': 0, 'idiotic': 0, 'generalizations.': 0, 'Gad,': 0, 'surprised': 0, 'CRT.': 0, 'Phil': 0, 'Trodwell': 0, 'demise': 0, 'Blawkhawks': 0, '(much': 0, 'delight)': 0, 'streak': 0, '(4': 0, 'year,': 0, 'Blues)': 0, 'wondering': 0, 'consecutive': 0, 'losses': 0, 'one...': 0, 'streak,': 0, \"they've\": 0, '(whenever': 0, 'Basically,': 0, 'rag': 0, 'Hawks-fan': 0, 'Mike,': 0, 'insomniaced': 0, 'god\"': 0, '(from': 0, \"Carpenter's\": 0, '\"They': 0, 'Live,\"': 0, 'natch)': 0, 'no,': 0, 'exists,': 0, 'loving': 0, '(For': 0, 'him.)': 0, 'unbelievers': 0, 'situations': 0, 'compelling': 0, 'compel': 0, '\"On': 0, 'Christmas': 0, 'truelove': 0, 'served': 0, 'me...': 0, 'Leftover': 0, 'Turkey!': 0, 'Turkey': 0, 'Casserole': 0, 'Turkey.': 0, '[days': 0, '3-4': 0, 'Flaming': 0, 'Wings!': 0, 'Pizza': 0, 'Hut': 0, 'commercial': 0, 'M*tlu/A*gic': 0, 'bait)': 0, '(Peter': 0, 'fools?': 0, 'No,': 0, 'sound': 0, 'right,': 0, 'fools,': 0, 'that...': 0, 'Hmm,': 0, 'either...': 0, 'intriguing': 0, 'stating': 0, 'transcendental': 0, 'explained,': 0, 'unexplained': 0, 'Highly': 0, 'strange.': 0, '[...details': 0, 'US': 0, 'built': 0, 'plant': 0, 'Alteer': 0, 'near': 0, 'Baghdad...]': 0, \"plant's\": 0, 'intended': 0, 'aid': 0, 'Iraqi': 0, 'infrastructure.': 0, 'selling': 0, 'weapon.': 0, 'nitpicking,': 0, 'parts': 0, 'infrastructure': 0, 'dual': 0, 'technology?': 0, 'contending': 0, 'pesticides': 0, 'UK': 0, 'companies)': 0, 'production': 0, 'officially': 0, 'purpose.': 0, 'personally': 0, 'Iran': 0, 'conquer': 0, 'Iraq': 0, 'thing.': 0, '(for': 0, 'state).': 0, 'hypocrisy': 0, 'angry,': 0, '*right*': 0, 'interfere': 0, 'fit': 0, 'interest)': 0, '*duty*': 0, 'intervene': 0, 'required.': 0, 'demonstrated': 0, 'failure': 0, 'East': 0, 'Timor': 0, 'region': 0, '*is*': 0, 'becoming': 0, 'destabilised).': 0, 'approaching': 0, 'reservations': 0, 'uncessary': 0, 'civillian': 0, 'casualites,': 0, 'wholly': 0, 'affect': 0, 'Iraq.': 0, 'ridiculous': 0, 'assert': 0, 'otherwise.': 0, 'indicating': 0, 'aided': 0, 'Intel': 0, 'manufacturing': 0, 'techniques,': 0, 'nature?': 0, 'data': 0, '(orginally': 0, 'satellites': 0, 'raw': 0, 'data)': 0, 'troop': 0, 'concentrations.': 0, 'snit': 0, \"Asimov's\": 0, 'atheism.': 0, 'stamps': 0, 'now?': 0, 'ease': 0, 'thoughts': 0, 'communicated': 0, 'campus.': 0, '(well,': 0, 'general': 0, 'really)': 0, 'lock': 0, 'themselves': 0, 'bubble': 0, 'surrounded': 0, 'interact': 0, 'life,': 0, 'universe,': 0, 'everything.': 0, 'harder': 0, \"else's\": 0, 'reaching': 0, 'contend': 0, 'religions': 0, 'bound': 0, 'nowhere': 0, 'run....': 0, '(Deletion)': 0, '(rest': 0, 'Bleep!': 0, 'AGAIN': 0, 'O.T.': 0, 'it!': 0, 'frustrated': 0, 'ravings,': 0, 'credit:': 0, 'opportunities,': 0, 'defense.': 0, 'occasions.': 0, 'excellent': 0, 'save': 0, 'plenty': 0, '(better': 0, 'lacking': 0, 'extra': 0, 'result,': 0, 'leaving': 0, 'ice': 0, 'down.': 0, 'MUST': 0, 'outlook': 0, \"Bruin's\": 0, 'advancement': 0, 'round': 0, 'bleak).': 0, 'IMHO,': 0, 'NEED': 0, 'first.': 0, '(The': 0, 'grad': 0, 'Sabres...': 0, 'convert': 0, '^:)': 0, 'MTM3': 0, 'Mike!': 0, 'defensemen': 0, 'Beezer?': 0, 'hockey/automobile': 0, 'racing': 0, 'martinsville': 0, 'draft': 0, 'gimme': 0, 'break,': 0, '=>': 0, '>>Does': 0, 'tape': 0, 'delay?': 0, 'Monday???': 0, '>Is': 0, 'weekend': 0, 'draft?': 0, '>If': 0, 'postponing': 0, '>a': 0, 'slap': 0, 'usual).': 0, 'recall': 0, 'covering': 0, 'live.': 0, 'deal': 0, 'TNN': 0, 'live,': 0, 'sharing.': 0, 'clarifies': 0, 'auto': 0, 'stands': 0, 'priority': 0, '\"They\\'re': 0, 'spectacular\",': 0, 'Blackhawks': 0, 'broom': 0, 'onto': 0, '\"Not': 0, 'that.\"': 0, '\"master': 0, 'domain\",': 0, 'bunch': 0, '\"chuckers\".': 0, '\"Superman\"': 0, '\"cereal.\"': 0, '\"It\\'s': 0, 'sauna': 0, 'here\"': 0, 'spectator': 0, 'Arena.': 0, '\"very': 0, 'refreshing\"': 0, '\"double-dip\"': 0, 'Hawks.': 0, 'goons': 0, '\"pick\"': 0, 'Hull,': 0, 'Janney,': 0, 'checking': 0, '\"nipped\"': 0, 'fat': 0, '\"Yoyoma\"': 0, 'sing': 0, '\"beach\".': 0, \"Hawks'\": 0, 'trip': 0, '\"journey': 0, 'Minsk\"': 0, 'Enjoy': 0, \"Sunday's\": 0, 'Junior': 0, 'Mints': 0, 'wash': 0, 'Snapple.': 0, 'fun.': 0, 'Ultimately': 0, 'rests': 0, 'opinion...in': 0, 'ask,': 0, 'democracy': 0, '[for': 0, 'example]': 0, 'totalitarian': 0, 'regim?\"': 0, '4/23/93': 0, 'BLUES': 0, 'SHUTOUT': 0, 'HAWKS': 0, 'AGAIN,': 0, 'LEAD': 0, '-----------------------------------------------------': 0, 'cheering': 0, 'face-off': 0, 'friends': 0, 'celebrating': 0, 'hours': 0, 'players.': 0, \"Here's\": 0, 'summary': 0, 'Post-Disptach.': 0, 'Enjoy...': 0, 'Dave': 0, 'Luecking': 0, 'Post-Dispatch': 0, 'Staff:': 0, '10:24': 0, 'p.m.': 0, '17,965': 0, 'homage': 0, 'Joseph.': 0, 'bowing,': 0, 'extended,': 0, '``Only': 0, 'Saves': 0, 'More': 0, 'Than': 0, 'Joseph.\"': 0, 'fitting': 0, 'tribute': 0, 'Joseph,': 0, 'surprising': 0, 'sweep.': 0, 'recorded': 0, 'successive': 0, 'blanking': 0, 'Norris': 0, 'Division': 0, 'semifinals': 0, 'giving': 0, 'best-of-seven': 0, 'series.': 0, '8:51': 0, '151': 0, 'minutes': 0, 'seconds,': 0, 'record.': 0, 'Jacques': 0, '146:28,': 0, '1969': 0, 'Flyers,': 0, 'sweeped': 0, 'history.': 0, 'wrap': 0, 'nationally': 0, 'televised': 0, 'begins': 0, 'noon': 0, 'Sunday.': 0, 'sweeps': 0, 'franchise': 0, 'history,': 0, '1969,': 0, 'swept': 0, 'finals.': 0, 'Wednesday': 0, '47': 0, 'saves.': 0, '34,': 0, 'touch': 0, 'touched': 0, 'shoving': 0, 'pushing': 0, 'unfazed,': 0, 'dishing': 0, 'punishment': 0, \"Blues'\": 0, 'grinders': 0, 'Bassen,': 0, 'Sutter,': 0, 'Lowry': 0, 'wore': 0, 'Blackhawks,': 0, 'visitors': 0, 'stage': 0, 'glamour': 0, 'boys,': 0, 'gifted': 0, 'playmakers': 0, 'scorers,': 0, 'opportunities.': 0, 'Emerson': 0, 'scored,': 0, 'period.': 0, 'assisted': 0, \"Janney's\": 0, 'first-period': 0, 'penalties.': 0, 'Checker': 0, \"Hull's\": 0, 'rookie': 0, 'Denny': 0, 'Felsner': 0, 'Emerson,': 0, '16:44': 0, 'feet': 0, 'celebration': 0, 'yelling': 0, '``Sweep.': 0, 'Sweep.': 0, 'Sweep.\"': 0, 'taunted': 0, '``Bell-Four.': 0, 'Bell-Four.\"': 0, 'chanted': 0, '``Na,': 0, 'na-na-na,': 0, 'hey-hey': 0, 'bye.\"': 0, 'tad': 0, 'premature.': 0, 'roll.': 0, 'heels.': 0, 'tone': 0, 'crunching': 0, 'Sutter': 0, 'Marchment,': 0, 'Brendan': 0, 'Shanahan': 0, 'dumped': 0, 'retaliate,': 0, 'Troy': 0, \"Murray's\": 0, 'run': 0, 'backfired.': 0, 'Referee': 0, 'Marouelli': 0, 'roughing': 0, 'play,': 0, 'survived': 0, 'scare': 0, 'Zombo': 0, 'Larmer.': 0, 'stopped': 0, \"Larmer's\": 0, 'threw': 0, \"'Hawks\": 0, 'ignored': 0, 'scouting': 0, 'continued': 0, 'low,': 0, \"Joseph's\": 0, 'butterfly': 0, 'deadly.': 0, 'Rookie': 0, 'Bret': 0, 'Hedican': 0, 'penalties': 0, 'midway': 0, 'hooking': 0, 'Miller.': 0, 'killer': 0, 'Belfour.': 0, 'calling': 0, 'caught': 0, \"Hedican's\": 0, 'Marchment': 0, 'elbowing': 0, 'Janney': 0, 'boards': 0, '14:58,': 0, 'two-man': 0, '1:07': 0, 'Ruuttu': 0, 'slashed': 0, 'Shanahan.': 0, 'ensuing': 0, 'likes': 0, 'slot.': 0, \"Belfour's\": 0, 'shoulder,': 0, 'bounced': 0, 'precariously': 0, 'line.': 0, 'dived': 0, 'cover,': 0, 'squirted': 0, 'loose': 0, 'poked': 0, '16:53': 0, 'relentless': 0, 'ended,': 0, 'composure.': 0, 'tripped': 0, 'expired': 0, 'bench.': 0, 'Chelios': 0, 'ice,': 0, 'slapped': 0, '10-minute': 0, 'misconduct.': 0, 'hurt.': 0, 'return,': 0, 'increased': 0, '2-0,': 0, 'deflecting': 0, \"Miller's\": 0, 'crisp': 0, 'Try': 0, 'might,': 0, 'throw': 0, 'goalpost': 0, 'twice.': 0, \"Emerson's\": 0, 'redirected': 0, \"Felsner's\": 0, '<1993Apr21.211038.12363@newshub.ists.ca>': 2.758720266351615, 'dchhabra@stpl.ists.ca': 2.758720266351615, \"Montreal's,\": 0, 'thanking': 0, 'Stewart': 0, \"Quebec's\": 0, 'lethal': 0, 'penalty-filled': 0, 'powerplay.': 0, 'trademark': 0, 'awful': 0, 'truly': 0, 'overrated.': 0, 'six': 0, 'four,': 0, 'five,': 0, 'stoppable.': 0, 'boys': 0, 'together!!': 0, 'outworked': 0, 'Burns': 0, 'kicked': 0, 'behinds': 0, 'gear': 0, 'gear?)': 0, 'Except': 0, '10-15': 0, 'stretch': 0, 'outskated': 0, 'Wings.': 0, \"'cos\": 0, 'true!': 0, 'key.': 0, 'sleepy': 0, '2nd.': 0, 'rebounds': 0, 'minimum,': 0, 'Clark': 0, 'moping': 0, '(first': 0, 'star!),': 0, 'flat': 0, 'pace': 0, '(a': 0, 'slim': 0, 'chance,': 0, \"chance....I'm\": 0, 'RM.....where': 0, 'haha).': 0, '>By': 0, 'news.announce.newusers': 0, \"(can't\": 0, '>one)': 0, 'recommends': 0, 'newsgroup': 0, 'month': 0, 'posting.': 0, '>This': 0, '>the': 0, '>Am': 0, 'advice?': 0, 'reading,': 0, 'mainly': 0, 'think.': 0, 'printed': 0, 'FAQs': 0, 'Alt.atheism': 0, 'deals': 0, '(more': 0, 'appropriately,': 0, 'beliefs),': 0, 'controversial.': 0, 'better.': 0, 'Bufflo': 0, 'Boston.': 0, 'contribute': 0, 'Mogily,': 0, 'Kemhlev': 0, 'Lafontin': 0, 'most.': 0, 'skills': 0, 'art': 0, 'sport,': 0, 'garbage': 0, 'speech': 0, \"coach's\": 0, 'corner.': 0, 'note,': 0, 'mine': 0, 'clerk': 0, 'chain': 0, 'bookstore.': 0, 'Several': 0, 'peers': 0, 'amazing,': 0, 'woman': 0, 'particular:': 0, 'customer': 0, 'Autobiography': 0, 'Benjamin': 0, 'Franklin_.': 0, '\"Who\\'s': 0, 'by?\"': 0, 'question.': 0, 'Then,': 0, '\"Is': 0, 'alive?\"': 0, 'fiction': 0, 'non-fiction?\"': 0, 'Finally': 0, 'intervened,': 0, 'standards': 0, 'employment': 0, 'coaches': 0, 'Sutter...': 0, '[reply': 0, 'timmbake@mcl.ucsb.edu': 0, '(Bake': 0, 'Timmons]': 0, 'reading?': 0, 'anti-Christian': 0, '\"YOU': 0, 'BURN': 0, 'HELL\"': 0, 'drivel.': 0, 'Bake,': 0, 'transparently': 0, 'pretending': 0, 'atheist.': 0, 'clever,': 0, '*you*': 0, 'atheist,': 0, \"*didn't*\": 0, 'FAQ': 0, 'points?': 0, 'Probably': 0, 'opponents)': 0, 'several': 0, 'assists': 0, 'given.': 0, 'correctly': 0, 'Prometheus': 0, 'stock,': 0, 'other.': 0, 'Charley': 0, 'anarchist?': 0, 'words': 0, 'jest.': 0, 'yep,': 0, 'Pens-Devils.': 0, 'cares': 0, 'Mario???': 0, 'Fred,': 0, 'purposes': 0, 'argue': 0, 'communism': 0, 'Chinese': 0, 'empires,': 0, 'represent': 0, '*true*': 0, 'communism.': 0, 'judging': 0, 'today,': 0, 'Rushdie-fatwa': 0, 'supporters,': 0, 'importantly,': 0, 'Muslim': 0, 'extremists,': 0, \"Qur'an\": 0, 'guidebook': 0, 'utopia,': 0, 'affects': 0, 'gains': 0, 'influence.': 0, 'consider': 0, 'possibilities,': 0, 'inconsiderable': 0, 'fear.': 0, 'untrue.': 0, 'minded': 0, 'childhood': 0, 'indoctrination,': 0, 'grasp': 0, 'straws,': 0, 'faced': 0, 'extreme': 0, 'suffering,': 0, 'physiological': 0, 'diminished': 0, 'capacity.': 0, 'risk': 0, 'restarting': 0, 'old': 0, 'accusations': 0, 'appeal': 0, 'authority': 0, 'remind': 0, 'readers': 0, 'obituary': 0, 'Dr.': 0, 'Albert': 0, 'Sabin.': 0, 'rebroadcast': 0, 'stricken': 0, 'serious': 0, 'illness.': 0, 'admitted': 0, 'critically': 0, 'ill': 0, 'respirator.': 0, 'recovered': 0, 'recovery': 0, 'indoctrination.': 0, 'happen': 0, \"hasn't\": 0, 'others,': 0, 'admire': 0, 'Sabin': 0, 'admitting': 0, 'weakness': 0, 'instance.': 0, 'Asimov': 0, 'weakness.': 0, 'Nevertheless': 0, 'reports': 0, 'unsubstantiated': 0, 'besides': 0, 'indoctrination': 0, 'frailty.': 0, 'SHUT': 2.998511482373987, 'UP.': 2.998511482373987, 'around???': 0, 'Leaf': 0, 'CA.': 0, 'wise': 0, 'overnight?': 0, 'slot': 0, '\"fluke\"': 0, 'duel?': 0, 'jets': 0, 'muscle?': 0, 'here?': 0, 'figured': 0, 'washed.': 0, '_major_': 0, 'turnaround.': 0, 'predicted': 0, 'How,': 0, 'how,': 0, 'happen?': 0, 'Wing': 0, 'perspectives': 0, 'welcomed!': 0, 'wholeheartedly': 0, 'stickwork,': 0, 'front.': 0, \"(I'm\": 0, 'too)': 0, 'offeding': 0, 'whack': 0, 'skates': 0, 'Makes': 0, \"'em\": 0, 'ton': 0, 'bricks,': 0, 'blades': 0, 'foot).': 0, 'mad': 0, 'apt': 0, 'retaliation': 0, 'leaves': 0, 'blocker': 0, 'time...I': 0, 'side.': 0, 'Hmm....maybe': 0, 'French': 0, 'helpful': 0, 'diagrams,': 0, 'course).': 0, 'Ciccerelli': 0, '(who': 0, 'guy,': 0, 'huge!)': 0, 'times!': 0, 'nickname': 0, '\"UnEnlightened\"': 0, 'Maddi': 0, 'Hausmann': 0, 'madhaus@netcom.com': 0, 'Centigram': 0, 'Communications': 0, 'Corp': 0, 'California': 0, '408/428-3553': 0, 'inner': 0, 'calm.': 0, 'boredom,': 0, 'spoiled.': 0, \"Arena's\": 0, 'church': 0, 'year;': 0, 'granted.': 0, 'forever': 0, 'lost,': 0, \"we've\": 0, 'excitement': 0, 'excitement.': 0, 'wrapped': 0, 'somewhat.': 0, 'somewhere': 0, 'between.': 0, 'aggressive': 0, 'end.': 0, 'swarming': 0, 'around,': 0, 'element': 0, 'suspense': 0, 'Billington': 0, 'also.': 0, 'Claude': 0, 'ejection': 0, \"who's\": 0, '\"final\"': 0, 'Sunday?': 0, 'Sorry.': 0, 'suggested': 0, 'yourself,': 0, 'got.': 0, 'landmines': 0, 'Okay,': 0, 'blindly': 0, 'evidence?': 0, 'theist.': 0, 'doubting': 0, 'great.': 0, 'unsupported': 0, 'claims,': 0, 'agency': 0, 'accepted.': 0, 'sheer': 0, 'impossible,': 0, 'difficult,': 0, 'classified,': 0, 'prove': 0, 'pragmatics': 0, 'law.': 0, 'classified': 0, 'reveal': 0, 'person': 0, 'you),': 0, 'jail.': 0, 'satisfaction,': 0, 'difficult.': 0, '(Who': 0, 'arguing': 0, '(Unless': 0, 'handicap).': 0, 'Being': 0, 'exception': 0, 'school,': 0, 'catch': 0, 'glimpse': 0, 'Caps/Isles': 0, 'stud': 0, 'skates.': 0, 'moves': 0, 'brilliant.': 0, 'proud.': 0, 'P.S.': 0, '(Caps/Isles)?': 0, '#|>': 0, '#Noting': 0, 'mainland': 0, 'UK,': 0, '#has': 0, 'religously': 0, 'murders,': 0, 'murders': 0, '*any*': 0, '#kind,': 0, 'inter-religion': 0, 'elsewhere': 0, '#are': 0, 'religiously': 0, 'motivated.': 0, 'allows': 0, 'inherent': 0, 'catholicism': 0, 'protestantism)': 0, 'motivates': 0, 'kill.': 0, '#\"Motivates\"': 0, '\"allows?\"': 0, '#under': 0, 'instructs': 0, '#certain': 0, 'motivate': 0, 'allow,': 0, 'flavour': 0, \"'allows'\": 0, 'atoricities,': 0, 'indictment': 0, \"'certain\": 0, \"circumstances'\": 0, 'Christianity,': 0, 'understood.': 0, 'falls': 0, 'apart.': 0, 'utterly': 0, 'harmless.': 0, 'part,': 0, 'Them/Us': 0, '#And': 0, 'supply,': 0, 'Them/Us?': 0, 'necessarily.': 0, 'neighbour\"': 0, 'supply': 0, 'them/us': 0, 'demolishes': 0, 'broader': 0, 'explained.': 0, '#By': 0, 'insisting': 0, 'labourers,': 0, 'chosen': 0, '#they': 0, 'catholics,': 0, 'IRA,': 0, '#Protestant': 0, '*not*': 0, 'motivated,': 0, '#you': 0, '#being': 0, 'No.': 0, \"someone's\": 0, 'devil': 0, 'incarnate?': 0, '#What': 0, 'Protestant': 0, 'extremists': 0, 'Catholic': 0, '#labourers?': 0, \"*wasn't*\": 0, 'motivated?': 0, 'obscure': 0, 'theology,': 0, 'yes.': 0, 'protestants': 0, '(nor': 0, 'them),': 0, 'broad': 0, '\"religion': 0, 'this\".': 0, 'complex': 0, 'element,': 0, \"you'd\": 0, 'motives': 0, 'revenge': 0, 'misguided': 0, 'patriotism.': 0, 'Catholics': 0, 'worldwide': 0, \"'stop\": 0, \"killing',\": 0, 'minds.': 0, 'Mr.': 0, 'Rushdie,': 0, 'Inquisitions,': 0, 'religous': 0, 'wars.': 0, \"#What's\": 0, 'exceptions?': 0, '#grab-bag': 0, 'ad-hoc': 0, 'excuses': 0, '#to': 0, \"What's\": 0, 'principle': 0, '#all': 0, 'least)': 0, 'motivator': 0, '(enabler,': 0, 'whatever)': 0, 'these.': 0, \"what's\": 0, 'looks': 0, 'NI,': 0, 'apart': 0, 'violence': 0, 'course.': 0, \"#It's\": 0, 'abstract': 0, '\"argument\".': 0, 'Northern': 0, 'Irish': 0, '#\"We': 0, 'absorbed': 0, 'country.\"': 0, '#Now': 0, 'do?': 0, '\"No,': 0, \"#that's\": 0, 'want.': 0, 'Mr': 0, \"O'Dwyer\": 0, 'assures': 0, '#that': 0, 'want,': 0, '#else?\"': 0, 'Unionists': 0, 'non-Catholic': 0, 'country': 0, 'course)?': 0, 'terrible': 0, '\"country\"': 0, 'kicks.': 0, 'maintain': 0, 'privilege.': 0, \"#I'm\": 0, 'listening': 0, 'version': 0, \"don't.\": 0, 'speculated': 0, 'enough,': 0, 'credibility': 0, 'sorry.': 0, 'fail': 0, 'axe': 0, 'grind': 0, 'indeed': 0, '@stop': 0, 'killing\".': 0, 'Unionists,': 0, 'Protestants.': 0, '#As': 0, 'privilege,': 0, 'religion-': 0, '#based?': 0, 'based': 0, 'politics,': 0, 'bigotry,': 0, 'heartless': 0, 'extremism.': 0, 'None': 0, 'synonymous': 0, 'religion,': 0, 'overlap.': 0, '>Showing': 0, 'meaningless': 0, '(relatively)': 0, '>game': 0, 'clock?': 0, 'Ohandley@betsy.gsfc.nasa.': 0, 'Oh>': 3.4690603151275705, 'ohandley@betsy.gsfc.nasa.gov': 0, 'rec.sport.hockey': 0, 'Subject:': 0, 'Test...Please': 0, 'Message-ID:': 0, '<1993Apr21.180741@betsy.gsfc.nasa.gov>': 0, 'Date:': 0, 'Wed,': 0, 'Apr': 0, '22:07:41': 0, 'GMT': 0, 'Reply-To:': 0, 'test.....Please': 0, 'ignore.': 0, '=======================================================================': 0, 'message': 0, 'test.': 0, 'wow,': 0, 'oh': 0, 'bye': 0, 'model.': 0, \"we'll\": 0, 'stock': 0, 'options.': 0, 'requested,': 0, 'sources': 0, 'bizarre': 0, 'satire': 0, 'commentary...': 0, 'Plus': 0, 'bijou': 0, 'reviewettes.': 0, 'Loompanics': 0, 'Unlimited': 0, 'PO': 0, 'Box': 0, '1197': 0, 'Port': 0, 'Townsend,': 0, 'WA': 0, '98368.': 0, 'Publishers': 0, 'infamous': 0, 'mail-order': 0, 'catalogue': 0, 'Anarchism,': 0, 'Discordianism,': 0, 'Libertarianism,': 0, 'cryogenics,': 0, 'money-making': 0, '(legal': 0, 'illegal),': 0, 'privacy': 0, 'security,': 0, 'self-defense,': 0, 'kinds': 0, 'awake': 0, 'nights.': 0, 'Church': 0, 'SubGenius': 0, '140306': 0, 'Dallas,': 0, 'TX': 0, '75214.': 0, 'post-human': 0, 'mutants;': 0, 'scoffers,': 0, 'mockers': 0, 'blasphemers.': 0, 'board': 0, 'X-ist': 0, 'saucers': 0, '1998': 0, 'escape': 0, 'Space': 0, \"JHVH-1's\": 0, 'stark': 0, 'fist': 0, 'removal.': 0, 'J.R.': 0, '\"Bob\"': 0, 'Dobbs,': 0, 'Sales,': 0, 'ordain': 0, 'Magazines,': 0, 'sick': 0, 'audio': 0, 'cassettes,': 0, 'assorted': 0, 'offensive': 0, 'cynisacreligious': 0, 'material.': 0, 'Periodic': 0, 'lists': 0, 'cults': 0, 'wierdo': 0, 'network.': 0, 'slow': 0, 'mail.': 0, 'conspiracies': 0, 'well-organized.': 0, 'slack.': 0, 'Counter': 0, 'Productions': 0, '556': 0, 'London': 0, 'SE5': 0, '0RL': 0, 'books.': 0, 'wide-ranging': 0, 'selection;': 0, 'Surrealism,': 0, 'SubGenius,': 0, 'Anton': 0, 'Lovecraftian': 0, 'horror,': 0, 'Cyberpunk,': 0, 'Forteana,': 0, 'commentary,': 0, 'Wilhelm': 0, 'Reich,': 0, 'Orgone': 0, 'tech,': 0, 'music,': 0, 'SF,': 0, 'Send': 0, 'SAE': 0, 'bribe,': 0, 'money)': 0, 'catalogue.': 0, 'mathew': 0, 'ordered': 0, 'folks': 0, 'fast': 0, 'operation.': 0, 'Forbidden': 0, 'Planet': 0, 'Various': 0, 'sites': 0, 'UK;': 0, 'particular,': 0, \"London's\": 0, 'Oxford': 0, 'Street,': 0, 'road': 0, 'Tottenham': 0, 'Court': 0, 'Road': 0, 'Mass': 0, 'market': 0, 'oddness.': 0, 'Loompanics,': 0, 'quantities': 0, 'SF.': 0, 'terribly': 0, 'selection,': 0, 'street.': 0, 'REVIEWETTE:': 0, '\"Loompanics\\'': 0, 'Greatest': 0, 'Hits\"': 0, 'ISBN': 0, '1-55950-031-X': 0, '(Loompanics)': 0, 'selection': 0, \"Loompanics'\": 0, 'Subjects': 0, 'include:': 0, 'Dispensationalism': 0, 'right-wing': 0, 'encouraged': 0, 'Cold': 0, 'Child': 0, 'Abuse': 0, 'myths': 0, 'censorship': 0, 'lots': 0, 'anarchist': 0, 'libertarian': 0, 'situationism,': 0, 'computers': 0, 'privacy,': 0, 'Guaranteed': 0, \"that'll\": 0, 'offend': 0, 'like,': 0, 'Bradley': 0, 'R.': 0, 'Smith,': 0, 'Holocaust': 0, 'Revisionist.': 0, 'sampling': 0, 'coffee': 0, 'table': 0, '(Of': 0, 'lying': 0, 'matter.)': 0, 'QUOTE:': 0, 'fundamentalists': 0, 'leap': 0, 'apoplectic': 0, 'rage': 0, 'joy.': 0, 'fantasies': 0, 'vindicated,': 0, 'think),': 0, 'theology': 0, 'socio-political': 0, 'agenda': 0, 'too.': 0, 'Meanwhile,': 0, 'teen-age': 0, 'misanthropes': 0, 'misfits': 0, 'enemies,': 0, 'classmates,': 0, 'families,': 0, 'friends,': 0, 'strangers,': 0, \"LaVey's\": 0, 'cooks': 0, 'listened': 0, 'AC/DC': 0, 'records.': 0, 'born-agains': 0, 'burn': 0, 'time.\"': 0, 'Book': 0, 'SubGenius\",': 0, 'Dobbs': 0, 'Foundation': 0, '0-671-63810-6': 0, '(Simon': 0, 'Schuster)': 0, 'Described': 0, \"'Rolling\": 0, \"Stone'\": 0, 'masterpiece': 0, 'laugh': 0, 'anymore.\"': 0, 'official': 0, 'Church,': 0, 'containing': 0, 'sacred': 0, 'teachings': 0, 'Dobbs.': 0, 'Instant': 0, 'answers': 0, 'everything;': 0, 'catalytic': 0, 'seconds;': 0, 'total': 0, 'slack;': 0, 'relax': 0, 'safety': 0, 'delusions': 0, 'pull': 0, 'wool': 0, 'eyes;': 0, 'doom': 0, 'at.': 0, '\"He': 0, 'questions': 0, 'universal': 0, 'truths': 0, 'screams.': 0, 'suggestive': 0, 'silence.': 0, 'peeing': 0, 'pants': 0, 'leg.': 0, 'famous': 0, 'sermon': 0, 'cosmic': 0, 'simplicity:': 0, 'standing': 0, 'pockets,': 0, 'smoking,': 0, 'Heated': 0, 'monks,': 0, 'erupting': 0, 'duels,': 0, 'towhether': 0, 'Master': 0, 'consulted': 0, 'wristwatch': 0, 'Grace.\"': 0, '\"High': 0, 'Weirdness': 0, 'Mail\",': 0, 'Rev.': 0, 'Ivan': 0, 'Stang': 0, '0-671-64260-X': 0, 'encyclopedia': 0, 'wierd': 0, 'organizations': 0, 'Jesuses,': 0, 'UFO': 0, 'contactees,': 0, 'Age': 0, 'saps,': 0, 'Creationists,': 0, 'Flat': 0, 'Earthers,': 0, 'Supremacist': 0, 'churches,': 0, '(yawn)': 0, 'CSICOP,': 0, 'Sceptical': 0, 'Enquirer': 0, 'addresses,': 0, 'kook': 0, 'ruthlessly': 0, 'mocked': 0, 'ridiculed': 0, 'sarcastic': 0, 'glee.': 0, \"alt.atheism's\": 0, 'wars,': 0, 'Made': 0, 'stomach': 0, 'ached.': 0, 'Revised': 0, 'edition': 0, 'SAMPLE': 0, 'ENTRY:': 0, 'Entertaining': 0, 'Demons': 0, 'Unawares': 0, 'Southwest': 0, 'Radio': 0, '1144': 0, 'Oklahoma': 0, 'City,': 0, '73101': 0, '\"Your': 0, 'Watchman': 0, 'Wall.\"': 0, 'flagellating,': 0, 'genuflecting': 0, 'fundamentalist': 0, 'outfit.': 0, 'booklet': 0, '\"Entertaining': 0, 'Unawares\"': 0, 'Star': 0, 'Wars': 0, 'E.T.': 0, 'Dungeons': 0, 'Dragons': 0, 'cartoon': 0, 'connection': 0, 'horrifying': 0, 'detail.': 0, 'Left': 0, 'Smurfs,': 0, 'though!': 0, 'Wonder': 0, \"Woman's\": 0, 'origins.': 0, 'Keep': 0, 'people,': 0, \"you'll\": 0, 'life.': 0, 'Abolition': 0, 'Work\",': 0, 'Black': 0, '0-915179-41-5': 0, \"Black's\": 0, 'painfully': 0, 'witty': 0, 'intelligent': 0, 'tracts': 0, 'collected': 0, 'insufferable.(*)': 0, 'thought-provoking': 0, '\"Babble': 0, \"'The\": 0, 'wages': 0, \"sin'\": 0, 'serves': 0, \"'the\": 0, 'sin': 0, \"wages'.\": 0, 'rights,': 0, 'rites': 0, 'sex,': 0, 'sects.': 0, 'Eros': 0, 'Eris': 0, 'pantheon.': 0, 'Surely': 0, 'Nazarene': 0, 'necrophile': 0, 'Remember,': 0, 'pain': 0, \"God's\": 0, 'hurting': 0, 'you.\"': 0, '\"Principia': 0, 'Discordia\",': 0, 'Malaclypse': 0, 'Younger': 0, '1-55950-040-9': 0, 'Discordian': 0, 'reprinted': 0, 'entirety': 0, 'some.': 0, 'FTP': 0, 'online': 0, 'copy,': 0, 'pictures.': 0, 'Explains': 0, 'everything,': 0, 'Law': 0, 'Fives,': 0, 'Cabal,': 0, 'instructions': 0, 'preaching': 0, 'Discordianism': 0, 'Christians.': 0, 'Required': 0, 'Illumination': 0, 'Off': 0, 'Alone': 0, 'Partake': 0, 'Joyously': 0, 'Hot': 0, 'Dog': 0, 'Friday;': 0, 'Devotive': 0, 'Caremony': 0, 'Remonstrate': 0, 'Paganisms': 0, 'Day:': 0, 'Christendom': 0, '(no': 0, 'Friday),': 0, 'Judaism': 0, 'Pork),': 0, 'Hindic': 0, 'Peoples': 0, 'Beef),': 0, 'Buddhists': 0, 'animal),': 0, 'Discordians': 0, 'Buns).\"': 0, '\"Natural': 0, 'Law,': 0, 'Rubber': 0, 'Willy\",': 0, '0-915179-61-X': 0, 'Illuminatus': 0, 'trilogy': 0, 'rails': 0, 'law,': 0, 'morality,': 0, 'pervasive': 0, 'myths.': 0, 'Witty': 0, 'ground.': 0, '\"Since': 0, 'theological': 0, 'propositions': 0, 'scientifically': 0, 'meaningless,': 0, 'pragmatic': 0, 'disposition': 0, 'dubious': 0, 'merchandise.': 0, 'promotions,': 0, 'dogs': 0, 'stocks': 0, 'Arabian': 0, 'tapioca': 0, 'mines': 0, 'W.C.': 0, 'Fields': 0, 'sold': 0, 'comedies,': 0, 'suspect': 0, 'recognize': 0, 'con': 0, 'least,': 0, 'dog': 0, 'ore': 0, 'deals.\"': 0, 'available': 0, 'Unlimited.': 0, 'anyway?': 0, 'Boston,': 0, 'reason....Grant': 0, '?': 0, 'hungry,': 0, 'goaltender.': 0, 'goaltenders': 0, 'anymore': 0, '(Statistically': 0, 'least),': 0, 'powerhouse': 0, 'Detroit.': 0, 'again.......where': 0, 'Andreychoke': 0, 'smile': 0, \"Gerald's\": 0, \"Fuhr's\": 0, 'performance.': 0, 'jbrown@batman.bmd.trw.com': 0, 'indications': 0, 'Saddam': 0, 'wanting': 0, 'planning': 0, 'none.': 0, 'openly': 0, 'ex-Pentagon': 0, 'analysts.': 0, 'Pull.': 0, 'mid-east': 0, 'countries': 0, 'Hussein': 0, 'concessions': 0, 'sanctions.': 0, 'battle-test': 0, 'tech': 0, 'toys': 0, 'hypocrites': 0, 'magnitude.': 0, 'Obviously,': 0, 'shit': 0, 'democracy.': 0, 'oil.': 0, 'Oh,': 0, 'excuse,': 0, 'Soviets': 0, 'board,': 0, 'sizable': 0, 'gulf': 0, 'region.': 0, 'Care': 0, 'bets': 0, 'troops': 0, 'home?': 0, 'killer,': 0, 'gas': 0, 'horrors': 0, 'brutal': 0, 'dictator,': 0, 'OUR': 0, 'dictator.': 0, '\"fuck': 0, 'you\"': 0, 'US,': 0, 'Hitler.': 0, 'Noriega.': 0, 'bastard,': 0, 'bastard...until': 0, 'rid': 0, 'Hunt': 0, 'Graduate': 0, 'Slave': 0, '|': 0, 'Towards': 0, 'Mechanical': 0, 'Engineering': 0, 'Palestinian': 0, 'Carnegie': 0, 'Mellon': 0, '<<<Use': 0, 'Golden': 0, 'Rule': 0, 'v2.0>>>': 0, 'homeland!': 0, '====T=H=E=R=E===I=S===N=O===G=O=D=========T=H=E=R=E===I=S===N=O===G=O=D=====': 0, 'Email:': 0, 'bluelobster+@cmu.edu': 0, 'Working': 0, '\"Piled': 0, 'Deeper\"': 0, 'sadist': 0, 'Malarchuk?': 0, 'devastated,': 0, 'survive.': 0, 'alcohol': 0, '(before?)': 0, 'radically': 0, 'subject,': 0, 'nightmares': 0, '*ever*': 0, 'beaten': 0, 'lunacy.': 0, 'choke': 0, 'opponents': 0, 'beating.': 0, 'Losing': 0, 'row': 0, 'coincidence,': 0, 'store': 0, 'largest': 0, 'Coast,': 0, 'bibles': 0, 'esteem': 0, 'theists.': 0, 'Oiler': 0, 'press': 0, 'conference': 0, 'week.': 0, 'exact': 0, 'known,': 0, \"Oiler's\": 0, 'future.': 0, 'Rumour': 0, 'signed': 0, 'tentative': 0, 'lease': 0, 'arrangement': 0, 'Copps': 0, 'Collesium': 0, 'Hamilton.': 0, 'conference,': 0, 'announce': 0, 'Edmonton': 0, 'Northlands': 0, 'renegotiate': 0, 'stadium.': 0, 'offered': 0, '$65': 0, 'million': 0, 'earlier,': 0, 'offer': 0, 'rejected': 0, 'Pocklington.': 0, 'SCORING': 0, 'THROUGH': 0, 'END': 0, 'OF': 0, 'NORRIS': 0, 'SEMIFINALS': 0, '------------------------------------------------------': 0, 'PS': 0, 'NAME': 0, 'Pts.': 0, 'PP': 0, 'SH': 0, 'GW': 0, 'EN': 0, '----': 0, '+1': 0, 'Brown': 0, '*Denny': 0, 'Basil': 0, 'McRae': 0, 'Bassen': 0, '36': 0, '*Philippe': 0, 'Bozon': 0, '-2': 0, 'Butcher': 0, 'Quintal': 0, '44': 0, '*Bret': 0, 'Murray': 0, 'Baron': 0, 'Crossman': 0, '*Igor': 0, 'Korolev': 0, 'Chase': 0, 'Curt': 0, 'Giles': 0, '*Guy': 0, 'Hebert': 0, 'GOALTENDING': 0, '-----------': 0, 'Min.': 0, 'Avg.': 0, 'SA': 0, 'SAVE%': 0, '251': 0, '1.43': 0, '140': 0, '.957': 0, '00': 0, '0.00': 0, '--------------------------------------------------------------------------': 0, 'Totals': 0, 'Shutouts': 0, ';': 0, 'Shots': 0, 'Against.': 0, 'Goals': 0, 'Period': 0, 'Overtime': 0, 'Power-play': 0, '7/29': 0, '1/24': 0, 'Short-handed': 0, 'Empty-net': 0, '97': 0, 'writing.': 0, 'Ranger': 0, 'reason?': 0, 'Gerald,': 0, 'Bowman': 0, '\"modern\"': 0, 'coach.': 0, \"Bowman's\": 0, 'weight-room': 0, '70s.': 0, 'coach': 0, 'seen,': 0, 'manipulates': 0, 'spreading': 0, 'false': 0, 'rumours.': 0, '(During': 0, 'pre-game': 0, 'compare': 0, 'ice!)': 0, 'master': 0, 'lineups.': 0, 'SC': 0, 'benched': 0, 'OT.': 0, 'banged': 0, 'modern': 0, 'coach!': 0, 'Bowman?\"': 0, 'thinking,': 0, 'possible,': 0, 'directly.': 0, 'Anyone': 0, 'telephone': 0, 'Bristol,': 0, 'Ct?': 0, 'channel': 0, 'game....I': 0, 'then,': 0, 'NYI-Wash': 0, 'overtime(s),': 0, 'livid!': 0, 'baseball,': 0, 'Phillies-Padres': 0, 'inning': 0, 'game....instead,': 0, 'bed': 0, 'angry......I': 0, 'boycotted': 0, 'incensed.': 0, 'wife': 0, 'nite.........GRRRRRRR!': 0, '[...stuff': 0, 'deleted...]': 0, 'twilight': 0, 'zone': 0, 'moment.': 0, 'amazes': 0, 'confuse': 0, 'models': 0, 'observables': 0, '-jim': 0, 'halat': 0, 'Whoa': 0, 'there!': 0, 'Lighten': 0, 'Andrew!': 0, '\"you': 0, 'dorks': 0, 'Business': 0, 'School\",': 0, 'specifically': 0, 'assholes': 0, 'obnoxious': 0, 'Canadian,': 0, 'attended': 0, 'UWO,': 0, 'idiots': 0, 'messages.': 0, 'Andrew...until': 0, 'sucked': 0, 'badly': 0, 'umpteen': 0, '(have': 0, 'lifetime?)...so': 0, 'Stars': 0, '\"shit\"': 0, 'Norris.': 0, 'evolution,': 0, '\"natural': 0, 'morality\".': 0, 'Unless,': 0, 'already,': 0, 'renaming.': 0, '\"yes?\"': 0, 'stronger': 0, '\"every': 0, 'organism': 0, 'evolves': 0, 'cooperative': 0, 'behaviour\"': 0, 'morality.\"': 0, 'Bee': 0, 'dance': 0, 'naturally': 0, 'developed': 0, 'piece': 0, 'RESULTS': 0, '4/20/93.': 0, 'CONFERENCE': 0, 'SEMI-FINALS': 0, 'BEST': 0, 'SEVEN': 0, 'PATRICK': 0, 'ADAMS': 0, 'SMYTHE': 0, 'BUF': 0, '(leads': 0, 'STL': 0, '1-0)': 0, 'WIN': 0, 'BOS': 0, 'CHI': 0, 'VAN': 0, 'NYI': 0, '(tied': 0, '1-1)': 0, 'MON': 0, 'TOR': 0, 'WAS': 0, 'QUE': 0, 'DET': 0, 'CAL': 0, 'period:': 0, 'PIT,': 0, '15:09': 0, 'M.Lemieux': 0, '(U.Samuelsson,': 0, '(sh)': 0, '17:41': 0, '(K.Stevens,': 0, 'U.Samuelsson)': 0, '3:48': 0, '12:39': 0, 'K.Stevens': 0, '(pp)': 0, '15:43': 0, '16:46': 0, '17:42': 0, 'Powerplay': 0, 'Opportunities-Devils': 0, 'Goal-': 0, 'Devils--Terreri': 0, '(0-2)': 0, '(23': 0, 'saves)': 0, '(0:00': 0, 'third)': 0, 'Penguins--Barrasso': 0, '(2-0)': 0, '(36': 0, 'ATT-16,164': 0, '(series': 0, 'Capitals': 0, 'NYI,': 0, '13:14': 0, 'WAS,': 0, '6:33': 0, '12:36': 0, '16:51': 0, '3:31': 0, '7:16': 0, '14:50': 0, '19:57': 0, 'Overtime:': 0, '14:15': 0, 'Opportunities-Islanders': 0, '45': 0, 'Islanders--Healy': 0, '(1-1)': 0, '(45': 0, 'Capitals--Tabaracci': 0, '(61': 0, 'ATT-15,421': 0, 'Nordiques': 0, 'QUE,': 0, '4:19': 0, '11:41': 0, '13:56': 0, 'MON,': 0, '11:05': 0, '(en)': 0, '19:23': 0, 'Opportunities-Canadiens': 0, 'Canadiens--Roy': 0, '(37': 0, 'Nordiques--Hextall': 0, '(33': 0, '32': 0, 'ATT-15,399': 0, 'BUF,': 0, '4:27': 0, '(Houlder,': 0, 'B.Sweeney)': 0, '8:07': 0, '(LaFontaine)': 0, '5:03': 0, '14:48': 0, 'Opportunities-Sabres': 0, 'Sabres--Fuhr': 0, '(34': 0, 'Bruins--Moog': 0, '(10': 0, 'Blue': 0, '(5:03': 0, 'second)': 0, '(15': 0, 'ATT-14,448': 0, 'job.': 0, 'scores': 0, 'comeon': 0, 'Sportscenter,': 0, 'Baseball,': 0, 'basketball': 0, 'Penguine': 0, 'highlight': 0, 'basketball.': 0, 'sec.': 0, 'attention': 0, 'NHl': 0, 'games..': 0, \"NHL's\": 0, 'fault': 0, 'improve': 0, 'season...': 0, 'COBRA': 0, 'Where': 0, \"Haven't\": 0, 'awhile.': 0, 'join': 0, 'assassination': 0, 'catholic': 0, 'workers': 0, 'IRA': 0, 'killings': 0, 'N.I': 0, 'motivated?\"': 0, 'Given': 0, 'avowed': 0, 'aim': 0, 'Ireland': 0, 'constitution,': 0, 'restriction': 0, 'civil': 0, 'rights': 0, '\"past\"': 0, 'appropriate.': 0, 'double-talk': 0, '\"seemingly\"': 0, 'attacking.': 0, '*quoted*': 0, 'ago,': 0, 'paint': 0, \"thumpin',\": 0, \"fearin',\": 0, \"hatin'\": 0, 'christian': 0, 'laid': 0, 'Einstein.': 0, 'pissed.': 0, 'interupt': 0, 'contracts,': 0, 'clause': 0, 'games!': 0, 'Hawks)': 0, 'shafted': 0, 'worse!': 0, 'ABC.': 0, 'However': 0, 'central': 0, 'subjected': 0, 'Arthritus(?)': 0, 'Telethon.': 0, 'affected': 0, 'HAWK': 0, 'VISION.': 0, 'televised,': 0, '1980.': 0, 'television': 0, 'BULL*&%$': 0, 'stop.': 0, 'deprived': 0, 'skyrocketing': 0, 'ticket': 0, 'prices,': 0, 'PEACE,': 0, 'HAMMER': 0, \"Cherry's\": 0, \"Coach's\": 0, 'Corner': 0, '1993.': 0, 'delay': 0, 'Vancouver-Winnipeg': 0, 'filmed': 0, 'Toronto-Detroit': 0, 'Calgary-LA': 0, '(Warning...': 0, 'Anti-fighting': 0, 'post.)': 0, 'Topics': 0, '------': 0, \"Don's\": 0, 'Tie,': 0, 'Gilmour,': 0, 'Wings/Leafs,': 0, 'Quebec/Montreal,': 0, 'Boston/Buffalo,': 0, 'Wendel': 0, 'Clark,': 0, 'Fighting': 0, 'Stickwork.': 0, 'Episode': 0, 'Summary': 0, 'episode': 0, 'tie...': 0, 'characters': 0, 'tie,': 0, 'names...': 0, 'Cat': 0, '(Sylverster),': 0, 'Maclean': 0, '(Daffy': 0, 'Duck),': 0, 'Wings-Leafs': 0, 'building,': 0, 'ours\".': 0, 'praise': 0, 'Louis.': 0, '(Don': 0, 'encouragement': 0, 'play.)': 0, 'clips': 0, 'series...': 0, 'Constantinov,': 0, 'Andrewchuk': 0, 'resulting': 0, 'itself,': 0, 'Coach': 0, 'tells': 0, '\"Don\\'t': 0, 'Quebec-Montreal': 0, '[Note:': 0, 'overtime,': 0, 'disqualified': 0, 'batted': 0, 'stick.]': 0, 'obvious,': 0, 'instant': 0, 'replay.': 0, 'Buffalo-Boston': 0, '3-0],': 0, 'Fuhr.': 0, '1/2': 0, \"team's\": 0, 'checks': 0, 'Clarke': 0, 'criticized': 0, 'Detroit-Toronto': 0, 'defended': 0, 'should,': 0, \"league's\": 0, 'rules.': 0, 'rough': 0, 'tough': 0, 'league...': 0, 'hack': 0, 'slash.\"': 0, 'lays': 0, 'blame': 0, 'Gil': 0, 'Stien': 0, 'stickwork': 0, 'shared': 0, 'Murray.': 0, 'clip': 0, 'shown,': 0, 'elimination': 0, 'increases': 0, 'stickwork.': 0, 'newspaper': 0, 'statements:': 0, '\"Players': 0, 'instigator.': 0, 'Instead,': 0, 'settle': 0, 'grudges': 0, 'sticks': 0, 'slicing': 0, 'see?': 0, 'guarantee': 0, 'slashes': 0, 'game.\"': 0, 'warned': 0, 'commisioner': 0, 'Bettman': 0, '\"smarten': 0, 'up\"': 0, 'hockey.': 0, 'fights,': 0, 'Rating': 0, 'Typical': 0, 'anti-fighting': 0, 'posturing,': 0, 'British': 0, 'Government': 0, 'banning': 0, 'interests': 0, 'illegal.': 0, 'shelf': 0, 'unread.': 0, 'pile': 0, 'Lem,': 0, 'Bulgakov': 0, 'Zamyatin': 0, 'through;': 0, 'for;': 0, 'manages': 0, 'bored': 0, 'sleep,': 0, 'manage': 0, 'TEST--': 2.4771212547196626, 'picks': 0, 'CBC': 0, '(ch': 0, '9)': 0, 'Windsor': 0, 'Coaches': 0, 'Grapevine': 0, 'talks': 0, 'else:': 0, 'Hockey.': 0, 'annoying': 0, 'Corner.': 0, \"'Grapes'\": 0, 'fill': 0, 'info?': 0, '(WLLZ)': 0, 'morning.': 0, 'Personally,': 0, 'Donny!': 0, 'sometimes.': 0, 'CBC,': 0, 'two-way': 0, 'designated': 0, 'scorer': 0, 'BUT': 0, 'EXACT': 0, 'Yzerman': 0, 'show.': 0, 'city.': 0, 'Cherry:': 0, \"'I\": 0, '<insert': 0, 'star': 0, 'in>': 0, \"today.'\": 0, 'said)': 0, 'audience': 0, 'Civic': 0, 'Center': 0, '(Yes,': 0, 'Wales': 0, 'Conference)': 0, 'apologize': 0, 'remarks': 0, 'Lemieux.': 0, 'chest.': 0, 'about?': 0, 'advertised.': 0, 'BUt': 0, 'morons': 0, 'kick': 0, 'ass': 0, 'boring.': 0, 'Boston/Buffalo': 0, 'noone': 0, 'expected': 0, \"THU's\": 0, 'wins.': 0, '<C5Mw03.9qr@darkside.osrhe.uoknor.edu>,': 0, 'bil@okcforum.osrhe.edu': 0, 'chooses': 0, 'observe': 0, 'observation': 0, 'interpreted': 0, 'observer.': 0, 'potential': 0, 'distortion': 0, 'activity.': 0, 'myth': 0, 'influence': 0, 'ethical': 0, 'concern,': 0, 'abstacted': 0, 'pure': 0, 'untainted': 0, 'biases': 0, 'scientist,': 0, 'Bill,': 0, 'wonderfully': 0, 'phrased.': 0, 'undermining': 0, 'constructs': 0, 'Kent,': 0, 'compliment': 0, 'paranoid': 0, 'visiting': 0, 'a.a,': 0, 'thanks.': 0, 'Yes': 0, 'extent': 0, 'relevence,': 0, 'nature.': 0, 'undermines': 0, 'atheism': 0, 'Truth': 0, 'suspect,': 0, 'arrogant': 0, 'examining': 0, 'claims.': 0, 'infinitely': 0, 'fallible': 0, 'reality': 0, 'see.': 0, 'standard': 0, 'seen.': 0, 'sans': 0, 'lies': 0, 'apologists': 0, 'fond': 0, 'prophesies': 0, 'prophesies.': 0, 'prayers': 0, 'Torah': 0, 'context.': 0, 'Seems': 0, 'Xians': 0, 'beginning.': 0, 'ass,': 0, 'we?': 0, \"You're\": 0, \"haven't.\": 0, 'trust': 0, 'loonies': 0, 'Waco.': 0, 'what?': 0, \"point's\": 0, 'son-of-a-bitch': 0, '*he*': 0, 'in!': 0, \"Doesn't\": 0, 'tired': 0, \"cretins'\": 0, 'tirades?': 0, 'Damed,': 0, 'damned': 0, 'proud': 0, 'secular': 0, 'humanism?': 0, 'revise': 0, 'FULL': 0, 'CALDER': 0, 'CUP': 0, 'SCHEDULE': 0, 'CAPS': 0, '*=if': 0, 'necesary': 0, 'Springfield': 0, 'Gm': 3.9513328837688992, '3:': 0, 'SPRINGFIELD': 0, '4:': 0, '5:': 0, '6:': 0, '(SPRINGFIELD': 0, 'WINS': 0, 'SERIES,': 0, '4-2)': 0, 'CD': 0, 'ADIRONDACK': 0, 'CDI': 0, '(ADIRONDACK': 0, '4-0)': 0, 'Baltimore': 0, 'Skipjacks': 0, 'BINGHAMTON': 0, 'BALTIMORE': 0, '4/26': 0, '4/28': 0, 'Binghmaton': 0, '7:': 0, '4/30': 0, 'Utica': 0, 'Americans': 0, 'ROCHESTER': 0, '(OT)': 0, '(ROCHESTER': 0, '4-1)': 0, \"JOHN'S\": 0, 'Halifax)': 0, 'MONCTON': 0, 'Halifax': 0, 'FREDERICTON': 0, '(2OT)': 0, 'CAPE': 0, 'BRETON': 0, 'Yeah...': 0, 'Captains': 0, 'once...': 0, 'Mel': 0, 'Bridgeman': 0, 'Marsh.': 0, 'helpfully': 0, 'deleted,': 0, 'wording': 0, 'Rights': 0, '*changing*': 0, 'understood': 0, 'later,': 0, 'Keith': 0, 'Schneider': 0, '*thinks*': 0, '\"a': 0, 'cruel': 0, 'fate\"?': 0, 'prevarications': 0, 'increasingly': 0, 'unconvincing,': 0, 'Ah!': 0, 'Excellent.': 0, 'weak': 0, 'blind': 0, 'department.': 0, '(Besides,': 0, 'appear:': 0, 'tip': 0, '\"put': 0, '7:30': 0, 'Races\"': 0, 'dream': 0, 'vision.)': 0, 'arabic;': 0, 'translations.': 0, 'well-written.': 0, '(Consistent,': 0, 'not.)': 0, 'arabic?': 0, 'of,': 0, 'altering': 0, 'substances.': 0, \"*weren't*\": 0, 'good?': 0, '(Again,': 0, 'beautfully': 0, 'written.)': 0, 'Ok,': 0, 'retract': 0, 'it.)': 0, 'interviewed': 0, 'this;': 0, 'false.': 0, 'sources?': 0, 'judge': 0, 'system?': 0, '\"really\"': 0, 'Khomeini?': 0, 'Imam': 0, 'mosque': 0, 'Mecca?': 0, 'Jersey?': 0, 'Quran.': 0, 'translation?': 0, 'wherever': 0, 'idolators,': 0, 'them\"?': 0, 'originally': 0, 'bucket.': 0, 'reposting': 0, 'lately': 0, 'fundamental': 0, 'confusions': 0, 'atheism;': 0, 'addressed': 0, 'FAQ.': 0, 'generalisms': 0, 'misplaced': 0, \"needn't\": 0, 'imply': 0, 'materialism,': 0, 'materialism': 0, 'questions.': 0, 'judges': 0, 'does:': 0, 'according': 0, 'explicit,': 0, 'postings': 0, 'express': 0, 'judgment': 0, 'basing': 0, 'code': 0, 'bad.': 0, 'Muslims,': 0, 'atheists.': 0, 'genocide,': 0, 'expressing': 0, 'holds.': 0, 'does,': 0, 'mechanistic': 0, 'prerequisite': 0, 'functioning': 0, 'humanity': 0, 'evolved': 0, 'societies,': 0, 'achieving': 0, 'considerable': 0, 'survival': 0, 'advantages.': 0, \"You'd\": 0, 'Neither': 0, 'convince': 0, 'other,': 0, 'share': 0, 'issues.': 0, 'it)': 0, 'teaching.': 0, 'comic': 0, 'books,': 0, 'prying': 0, 'gobbledygook': 0, 'saying.': 0, 'reactions': 0, 'stimuli': 0, 'commanded': 0, 'genocide': 0, 'Canaanites\"': 0, 'mechanistic,': 0, 'good,': 0, 'attribute': 0, 'Hmm.': 0, 'FAQ-reading': 0, 'person.': 0, 'accomplish': 0, 'framing': 0, 'reason:': 0, 'neighboring': 0, 'tribes': 0, 'periodically': 0, 'wipe': 0, 'imagined': 0, 'commands,': 0, 'generally': 0, 'fosters': 0, 'coexistence': 0, 'superior,': 0, 'absolutist,': 0, '\"this': 0, 'good\",': 0, 'unequivocally': 0, 'discussion.': 0, 'define': 0, '\"excluded': 0, 'discussion\",': 0, '\"cannot': 0, 'participate\",': 0, '\"no': 0, 'weight': 0, 'whatsoever\"': 0, 'lowest': 0, 'reasoning': 0, '(ad': 0, 'hominem/poisoning': 0, 'well),': 0, 'presumably': 0, 'resort': 0, 'rationally': 0, 'Perry': 0, 'perry@dsinc.com': 0, 'Decision': 0, 'Support,': 0, 'Inc.,': 0, 'Matthews': 0, 'NC': 0, 'nominal': 0, 'fee,': 0, 'yours.': 0, '68-year': 0, 'statistics': 0, 'mostly': 0, '5-game': 0, 'format.': 0, 'But,': 0, \"B's.\": 0, 'disappointment.': 0, 'mental.': 0, 'saves': 0, 'mentally': 0, 'rally': 0, 'around.': 0, 'three?': 0, 'Blue.': 0, 'Talk': 0, 'bout': 0, 'areivalry!': 0, 'opps': 0, 'rivalry..': 0, 'roland': 0, 'C.S.': 0, 'Lewis': 0, 'argued': 0, 'medieval': 0, 'flat.': 0, 'ways.': 0, 'Pretend': 0, 'probable': 0, 'souls;': 0, '(their': 0, 'body)': 0, 'voluntarly': 0, 'actions.': 0, 'Paul,': 0, \"Paul's\": 0, '_read_': 0, 'group,': 0, 'preach,': 0, 'favour': 0, 'statements.': 0, 'applies': 0, 'cows': 0, 'origins': 0, 'spirits,': 0, 'devils': 0, 'immortal': 0, 'assumed': 0, 'along.': 0, 'planting': 0, \"Satan's\": 0, 'seeds,': 0, 'blindly,': 0, 'fair': 0, \"Pascal's\": 0, 'Wager.': 0, 'FAQ,': 0, 'HS': 0, 'attitude?': 0, 'spirit': 0, 'exists.': 0, 'deluded,': 0, 'gifted.': 0, 'CJF>': 0, 'agrino@enkidu.mic.cl': 0, '(Andres': 0, 'Grino': 0, 'Brandt)': 0, 'asks': 0, 'Mormons.': 0, 'sudies,': 0, 'amusing': 0, 'BOM': 0, 'civilization': 0, 'America,': 0, 'aroun': 0, 'mystical': 0, 'plates': 0, 'found.': 0, 'steel': 0, 'metals,': 0, 'wars': 0, '(very': 0, 'OT).': 0, 'metal': 0, 'swords': 0, 'traces': 0, 'Native': 0, 'Americans.': 0, 'archeology': 0, 'dept.': 0, 'Mormon': 0, 'grants': 0, 'archeologists': 0, 'native': 0, 'tribe': 0, 'bunk.': 0, 'shake': 0, 'knowingly': 0, 'grant,': 0, 'anyway.': 0, '\"late': 0, 'year\".': 0, 'ESPN2': 0, 'permenantly,': 0, 'ESPN,': 0, 'ESPN2?': 0, 'Cornell': 0, '\"There': 0, 'today': 0, 'mac18@po.cwru.edu|': 0, 'sane.\"': 0, '-Monty': 0, 'Python': 0, 'threads': 0, 'creationism,': 0, 'dabbling': 0, 'Nature': 0, 'JP': 0, 'Moreland.': 0, 'comments.': 0, 'necessarily': 0, 'term,': 0, 'scientific': 0, 'explanation': 0, 'theories,': 0, 'fact.': 0, 'vague.': 0, 'quarks': 0, 'continental': 0, 'plates.': 0, 'explanations': 0, 'theories': 0, 'measurable': 0, 'themselves,': 0, 'quantified,': 0, 'measured,': 0, 'tested,': 0, 'etc.?': 0, 'junior': 0, 'career': 0, 'Seattle.': 0, 'leading': 0, 'scorers': 0, 'mediocre': 0, '1992.': 0, 'toughest': 0, 'WHL.': 0, 'drafted,': 0, 'material...': 0, 'Detorit': 0, '#77.': 0, 'excited': 0, 'experiencing': 0, 'calm': 0, 'Susan': 0, 'referred.': 0, 'Inner': 0, 'boredom.': 0, 'arena': 0, 'boring,': 0, \"Richard's\": 0, 'long-time': 0, \"Tuesday's\": 0, 'overheard': 0, 'assist.': 0, 'follows': 0, 'regularity': 0, 'confident': 0, 'impossible': 0, 'blow': 0, 'Bored?': 0, 'Uh-uh.': 0, 'Spoiled?': 0, 'least.': 0, 'Forgot': 0, 'like?': 0, 'Living': 0, 'amazing': 0, 'exciting?!': 0, 'darned': 0, 'Chicago...': 0, 'quietly': 0, 'savoring': 0, 'gonna': 0, 'intend': 0, 'can.': 0, 'PITSBURGH': 0, 'HERE': 0, 'COME': 0, 'ISLES!!!!!!!!!!!!!!!!!!!!!!!!!': 0, 'Pitsburgh': 0, '1:1': 0, 'ratio': 0, \"We'll\": 0, 'wrong.': 0, 'S': 0, 'O': 0, 'S!!!!!!!': 0, 'outscored': 0, '3-2.': 0, 'tonight,': 0, 'stave': 0, 'Jet': 0, 'comeback': 0, 'opportune': 0, 'greater': 0, 'counted:': 0, 'produced': 0, 'centre': 0, 'Cliff': 0, 'Ronning': 0, 'winger': 0, 'Geoff': 0, 'Courtnall': 0, 'boost': 0, 'giveaways': 0, 'Bautin': 0, 'Ulanov.': 0, 'lapses': 0, 'goal-scoring': 0, 'Canuck': 0, 'second,': 0, 'penetrating': 0, 'challenged': 0, 'pack': 0, 'early.': 0, 'Tie': 0, 'Kirk': 0, 'McLean': 0, 'angle': 0, '2-1.': 0, \"Domi's\": 0, \"Canuck's\": 0, 'collapsing': 0, 'defence.': 0, 'unwilling': 0, 'plays.': 0, 'Both': 0, 'standup': 0, 'considerably.': 0, 'dancing': 0, 'Teammu': 0, 'Selanne': 0, 'rocked': 0, 'Pavel': 0, 'Bure': 0, 'drive.': 0, 'zone.': 0, 'Canucks,': 0, 'offering': 0, 'preserve': 0, 'lead.': 0, 'resulted': 0, \"Jet's\": 0, 'Tempo': 0, 'Numminen': 0, 'drove': 0, \"McLean's\": 0, 'discordant': 0, 'off.': 0, 'characterized': 0, 'passes': 0, 'rushes': 0, 'tight': 0, 'supported.': 0, 'goals,': 0, 'lapse': 0, '(re:': 0, 'bonehead': 0, 'play)': 0, 'stalled': 0, 'comeback.': 0, 'zone,': 0, 'invisible': 0, 'rebound': 0, 'roof': 0, 'backhand': 0, 'balance.': 0, 'back.': 0, 'bench': 0, 'attacker': 0, 'attack.': 0, 'Next': 0, \"Hindsight's\": 0, '20-20.': 0, 'Nobody': 0, \"Gund's\": 0, 'enough.': 0, '$,': 0, '$2M': 0, 'November': 0, 'lets': 0, 'Sather': 0, 'replacement': 0, '*this*': 0, 'March': 0, 'immediate': 0, 'objectives,': 0, 'objectives': 0, '(only': 0, 'prospect': 0, 'that).': 0, 'what-if': 0, 'October,': 0, 'Gund': 0, 'panicks': 0, 'sooner': 0, 'November.': 0, 'twist:': 0, 'season;': 0, '*never*': 0, '*best*': 0, '(bigger': 0, 'Chicago).': 0, 'competition.': 0, 'Ferriera,': 0, 'Sather,': 0, 'Keenan': 0, 'geniuses.': 0, 'broken': 0, 'fax': 0, 'machine,': 0, 'Keenan,': 0, 'Kingston': 0, 'Green)': 0, 'jobs.': 0, 'Kind': 0, 'shiver': 0, 'Bottomline,': 0, 'black': 0, 'scenario': 0, 'concoct': 0, 'leaving,': 0, 'bright': 0, 'serious?': 0, 'Ferierra': 0, 'go,': 0, '(these': 0, 'timetable': 0, 'capture': 0, 'Cup.': 0, 'frequently:': 0, 'expansion': 0, 'inception': 0, 'season)': 0, 'Pacific': 0, 'Mountain': 0, 'jack': 0, 'prices': 0, '$27': 0, '$38': 0, '120': 0, 'bucks': 0, 'seats.': 0, '107': 0, 'folks)': 0, 'jacket,': 0, 'select': 0, 'paying': 0, 'privileged': 0, 'there)': 0, 'loyal': 0, 'holder,': 0, '(literally)': 0, 'spring': 0, \"'90\": 0, 'announced.': 0, 'loyalty': 0, 'returned.': 0, 'Wirtz': 0, 'treats': 0, 'comparison.': 0, 'tix': 0, 'suppose': 0, 'negative': 0, 'signatures,': 0, 'deserve': 0, '\"Stay': 0, 'Edmonton\"': 0, 'part?': 0, 'metro-LA;': 0, \"Shark's\": 0, 'wit.': 0, '\"atheist': 0, 'cause\"': 0, 'Bill?': 0, 'Yeah,': 0, 'wives.': 0, 'Nod,': 0, 'reasoning.': 0, '(Faith': 0, '=': 0, 'Bad.': 0, 'Dogma': 0, '^': 0, 'Dogma).': 0, '(Bad': 0, 'Bad).': 0, 'Bad.)': 0, 'dangerous.': 0, 'Waco,': 0, 'missing': 0, 'Branch': 0, 'Davidians': 0, 'confusing': 0, 'messenger.': 0, 'said.': 0, 'followers.': 0, 'dogma,': 0, 'zealotry': 0, '(or,': 0, 'parents).': 0, 'totally': 0, 'irrational?': 0, 'Irrational': 0, 'only?': 0, 'saying?': 0, \"One's\": 0, 'irrational.': 0, 'at,': 0, 'expand': 0, 'subject.': 0, 'general.': 0, 'philosopher,': 0, 'Faith': 0, 'belief,': 0, 'change.': 0, 'predisposed': 0, 'unfair': 0, 'bias': 0, 'studying,': 0, 'religion?': 0, 'prison,': 0, 'eh?': 0, 'Ever': 0, 'parole?': 0, 'named': 0, 'Nowhere': 0, 'voluntary,': 0, 'compatible.': 0, 'pistol': 0, 'filled': 0, 'urine.': 0, '8^)': 0, 'Seriously,': 0, 'all)': 0, 'groups': 0, 'target': 0, '\"infidel,\"': 0, 'alternately': 0, 'non-<insert': 0, 'affiliation': 0, 'here>,': 0, 'race,': 0, 'Egyptian.': 0, '\"just': 0, 'because\"': 0, 'kills': 0, '\"Waco.\")': 0, 'conscientious': 0, 'peacenik': 0, 'zealot': 0, 'acne.': 0, 'suicide': 0, 'problem.': 0, 'Jonestown': 0, 'isolated': 0, 'incidents.': 0, 'common.': 0, 'insert': 0, 'line-up': 0, 'Pilon???': 0, 'STUPID': 0, 'remainder': 0, 'regulation': 0, 'overtime!!!': 0, \"Pilon's\": 0, 'blunder': 0, 'regulation,': 0, 'inopportune': 0, '5-minute': 0, 'confronting': 0, 'Cote': 0, 'across': 0, 'blueline,': 0, 'Pilon': 0, 'backed': 0, 'swiped': 0, \"Cote's\": 0, 'nose': 0, 'Arbour': 0, 'line???': 0, 'LaChance': 0, 'else!!!': 0, 'BAMMER,': 0, 'Langevin!!!!': 0, '*******************************LETS': 0, 'ISLANDERS********************************': 0, '.sig?': 0, 'way!': 0, 'Home': 0, 'billdboard': 0, 'files': 0, '=)': 0, 'ago...it': 0, 'correct': 0, 'returning': 0, 'year...by': 0, 'Sportschannel': 0, 'compete': 0, 'deliver': 0, '>>>>': 0, 'FINALLY': 0, 'sweaters': 0, 'moth': 0, 'balls': 0, 'proudly': 0, 'frustration': 0, 'nil': 0, 'bet.': 0, '0-3': 0, 'deficit': 0, '1975': 0, \"(Don't\": 0, 'yet)': 0, '[..]': 0, 'flicked': 0, 'briefly': 0, 'cross-check': 0, 'billc': 0, 'Keith,': 0, 'err,': 0, 'Kent.': 0, 'Whadda': 0, 'smiley?': 0, 'Bettman.': 0, '(which,': 0, 'content,': 0, 'entity)': 0, '\"To:': 0, 'All\".': 0, 'sending': 0, 'Unfortunately...': 0, '\"largest': 0, 'world\"': 0, 'Internet,': 0, 'represent.': 0, 'business': 0, 'r.s.h.': 0, 'thank': 0, 'names,': 0, 'curiosity': 0, '\"official\"': 0, 'dictionary.': 0, 'reads:': 0, 'capacity,': 0, 'scope.': 0, 'exceeding': 0, 'quantity': 0, 'size.': 0, 'gotten': 0, 'there,': 0, 'validating': 0, 'wager': 0, 'geographical': 0, 'signatures': 0, '\"large\"?': 0, 'letter.': 0, 'mixed': 0, 'emotions': 0, 'difficult': 0, 'shred': 0, 'According': 0, '\"Quotations': 0, 'Chairman': 0, 'Cherry\",': 0, 'Springfield.': 0, 'fines;': 0, '\"teacher\\'s': 0, 'Pet\",': 0, 'replied': 0, '\"Ah,': 0, 'sour': 0, 'grapes\".': 0, '-*----': 0, 'Maharishi': 0, 'titular.': 0, '(Someone': 0, 'wrong.)': 0, 'Rajneesh': 0, 'Mahesh,': 0, 'Maharishis.': 0, 'Disaster!': 0, '1-3': 0, '(0-0,1-1,0-2).': 0, '4th': 0, 'quarter': 0, 'wednesday': 0, '28th.': 0, 'Lack': 0, 'throughout': 0, 'Briza': 0, 'Tikkanen': 0, 'Finnish': 0, 'interest': 0, 'objectivity,': 0, '*nowhere*': 0, '*near*': 0, 'game...': 0, 'hits.': 0, 'first,': 0, '\"5': 0, 'game\"': 0, '_looked_': 0, 'severe': 0, 'intent-to-injure': 0, 'perspective': 0, 'replay,': 0, 'deserved': 0, '2-4': 0, 'boarding': 0, '(it': 0, 'careless': 0, 'slice': 0, 'Chaisson': 0, 'no-call': 0, 'bullshit,': 0, 'Probert': 0, '*looked*': 0, '*up*': 0, 'penalty?': 0, 'whine': 0, '(he': 0, 'to).': 0, 'Probie': 0, 'decides': 0, 'boards,': 0, 'gone,': 0, 'bullshit.': 0, 'Rouse,': 0, 'btw.': 0, 'linesmen': 0, \"either....it's\": 0, 'b.s.': 0, 'loss.': 0, 'adrenalin,': 0, 'Anderson': 0, \"somebody's\": 0, 'eye.': 0, '_the_': 0, 'infraction': 0, '_knows_': 0, 'asshole': 0, 'Four': 0, 'lousy': 0, 'minutes.': 0, 'Bullshit': 0, 'call.': 0, 'hammer': 0, 'stance': 0, 'painless': 0, 'execution': 0, 'cruel,': 0, \"wasn't.\": 0, 'cruelty': 0, 'electrocuted': 0, 'suffers': 0, 'produces': 0, 'instance': 0, 'quickly...': 0, 'Pardon?': 0, 'painful': 0, 'executions': 0, '*are*': 0, 'cruel.': 0, 'depending': 0, 'duration': 0, 'Anything': 0, 'instant,': 0, 'guess.': 0, 'suffocation': 0, 'asphyxiation,': 0, 'blood': 0, 'chamber,': 0, 'quartering).': 0, 'lasts,': 0, 'twenty': 0, 'arbitrary': 0, 'cutoff,': 0, 'suppose).': 0, 'posters': 0, 'lately,': 0, 'presumption': 0, '_knowledge_': 0, '_possibility_': 0, 'require': 0, 'render': 0, 'possibilty': 0, 'interest.': 0, 'sufficent': 0, 'or.': 0, 'Sometimes': 0, 'occupies': 0, 'inevitable,': 0, 'morning,': 0, 'overwhelming': 0, '_everyone_': 0, '[Interchange': 0, 'Hoban': 0, 'read?': 0, 'irony': 0, 'remains.': 0, 'fatwa,': 0, 'Rushdie': 0, 'sympathy': 0, 'threat.': 0, 'Furthermore': 0, 'base': 0, 'solely': 0, 'poorly': 0, 'truth': 0, 'Yet,': 0, 'formed': 0, 'recourse': 0, 'context,': 0, 'accepting': 0, 'widespread': 0, 'propaganda': 0, 'contains': 0, \"author's\": 0, 'recommend': 0, 'touches': 0, '(presumably': 0, '\"plays': 0, 'with\")': 0, 'religious/historical': 0, 'material': 0, 'overall': 0, 'presentation': 0, 'neutral!': 0, '^^^^^^^^': 0, 'Finns': 0, 'played,': 0, 'opposing': 0, 'fifth,': 0, 'finnish': 0, 'goalie,': 0, 'Ketterer': 0, 'Finn)': 0, 'scorers???': 0, 'vs.': 0, 'Italy).': 0, 'equipment': 0, 'bigger,': 0, 'gloves,': 0, 'e.g.': 0, 'bigger': 0, 'way????': 0, 'Mikko': 0, 'Wihervaara': 0, 'Fat': 0, 'Lady': 0, 'note...Okay,how': 0, 'deficits?': 0, \"B's\": 0, \"1%(That's\": 0, '7-game': 0, 'format)...': 0, 'headlines': 0, 'sportscats': 0, '\"Sutter': 0, 'It!\".': 0, 'Harry': 0, \"Sinden's\": 0, 'dressing': 0, 'pathetic': 0, 'site.': 0, 'retarded': 0, \"Sutter's\": 0, 'behind,\"This': 0, 'losing..\".': 0, 'Harry,check': 0, 'schedule!': 0, 'vacation': 0, 'morning!': 0, 'buttkisser': 0, 'Milbury': 0, 'screwed': 0, 'dumbest': 0, 'business,Brian': 0, 'Sutter.': 0, 'St.Louis': 0, 'advance': 0, 'year...': 0, '210493': 0, 'Italy-Sweden': 0, '(0-1,1-2,1-3)': 0, '8-6': 0, '6-4': 0, '5-8': 0, 'really?': 0, 'woofers': 0, 'consisting': 0, 'Roger.': 0, 'quiet.': 0, 'cocky': 0, 'understand,': 0, 'Nah.': 0, 'would.': 0, 'PROVOCATIVE': 0, 'SOB': 0, 'but.': 0, 'nicest': 0, 'bragging': 0, '\"wobbie,\"': 0, 'r.s.b.c': 0, 'UMASS!!!': 0, 'Quakers?': 0, 'BTW.': 0, 'Congratulations': 0, 'diciplined,': 0, 'SHIT': 0, 'finals': 0, 'leaf': 0, 'fan.': 0, 'halfway': 0, 'round,': 0, 'general:': 0, 'most:': 0, '\"Basten\"': 0, 'zip.': 0, 'ego-thrashing': 0, 'arrogance-smashing': 0, 'underdogs': 0, '(St.': 0, 'Buffalo)': 0, 'rewarding).': 0, '(really)': 0, 'picks...': 0, ':-(': 0, 'WALES?': 0, 'diques': 0, \"***'s,\": 0, 'Smythe-what????': 0, 'Douggie': 0, 'out...': 0, 'Canucks/Jets/Flames': 0, 'action...!': 0, '*******': 0, 'alright,': 0, 'hey...': 0, 'politicians...': 0, 'ObLeafsJoke:': 0, 'Q.': 0, 'cross': 0, 'maple': 0, 'groundhog?': 0, 'Six': 0, 'weeks': 0, 'crummy': 0, '------------------------------------------------------------------': 0, 'L8R,': 0, 'dudes...': 0, 'HABS': 0, 'GOOOOOOOOOOOOOOOOOOO!': 0, '---------------------------------------------------------------------------': 0, 'Shaib': 0, 'ac291@carleton.freenet.ca': 0, 'anybody.': 0, 'close).': 0, 'century.': 0, 'Victorias': 0, 'Cups-': 0, 'irrelevant': 0, 'Cups': 0, 'century??': 0, 'facts.': 0, '3-1.': 0, 'Winnipeg.': 0, 'team?': 0, 'bait': 0, 'implies': 0, 'representation': 0, 'views': 0, 'represents': 0, 'subset': 0, 'to)': 0, 'group).': 0, 'Look,': 0, 'viewpoint.': 0, 'Three': 0, 'Say': 0, 'subtly.': 0, 'clear.': 0, 'conversation.': 0, 'obnoxiously.': 0, 'window.': 0, 'will,': 0, 'Pens.': 0, 'Jagr,': 0, 'MacEachern': 0, 'watch.': 0, 'unnoticed': 0, 'Scotty': 0, 'Bowman.': 0, 'Despite': 0, \"Brooks'\": 0, 'lunatic': 0, \"Devils'\": 0, 'adantage': 0, 'cool': 0, 'Granted,': 0, 'hell-dwellers': 0, 'bottled': 0, 'configure': 0, 'strategies': 0, 'moments': 0, 'notice': 0, 'incredible.': 0, 'terrific': 0, 'basis.': 0, 'Straka,': 0, 'Straka': 0, 'shifts': 0, 'average;': 0, 'puck),': 0, 'complementing': 0, 'commit': 0, 'crucial': 0, 'commendable,': 0, 'dominate,': 0, 'success.': 0, 'Hawaii': 0, 'country.': 0, 'coup': 0, 'annex': 0, 'refused,': 0, 'Spanish-American': 0, 'War.': 0, 'dearth': 0, 'disputatious': 0, 'dissertation': 0, 'linked': 0, 'hiatus.': 0, 'lads': 0, 'lassies': 0, 'entertained.': 0, 'sure,': 0, 'woof': 0, '(especially': 0, 'mine)': 0, 'headers.': 0, 'nor': 0, 'notoriety.': 0, 'assured': 0, 'this:': 0, 'German': 0, 'audience.': 0, 'Canadien': 0, 'Germans': 0, 'practically': 0, '\"delay': 0, 'crowd.': 0, '5:3': 0, 'skating': 0, 'strong.': 0, 'nationalism': 0, 'events.': 0, 'tennis': 0, 'Davis': 0, 'minutes,': 0, 'obnoxious.': 0, '(you': 0, 'television;': 0, 'soccer': 0, 'crowds': 0, 'spectators': 0, 'nordic': 0, 'skiing': 0, 'events.....).': 0, 'team/player': 0, 'cheared': 0, 'looses': 0, 'attractive': 0, 'national': 0, 'watch,': 0, 'example).': 0, 'criticizing.': 0, '(nearly': 0, 'Nazis': 0, 'nationalists;': 0, 'thats': 0, 'ultraconservative': 0, 'Germany.': 0, 'danger': 0, 're-arising': 0, 'know)': 0, 'regard': 0, 'threat': 0, 'demonstrate': 0, 'attitude': 0, 'beeings': 0, 'drawers': 0, 'corresponding': 0, 'nationality': 0, '(eg.': 0, 'Russians': 0, 'Communists;': 0, 'Capitalists;': 0, 'Nazis,': 0, 'Fins': 0, 'beeing': 0, 'drunk': 0, 'ferries...).': 0, 'narrowness': 0, 'victory,': 0, 'goalkeeper': 0, 'hot,': 0, 'Louis,': 0, 'breaks,': 0, 'doubt.': 0, 'Second,': 0, 'linesman': 0, 'linesman,': 0, 'Brett(I': 0, 'redirect': 0, 'anything)Hull': 0, 'redirect.': 0, \"Louis'\": 0, 'crease,': 0, 'player.': 0, 'Finally,': 0, 'crease.': 0, 'shot.': 0, 'shame': 0, 'Conference': 0, 'Finals': 0, '____________________________________________________________________________': 0, 'What?': 0, 'lifelong': 0, 'death.': 0, 'Judging': 0, 'felt': 0, 'culturally': 0, 'closest': 0, 'Judaism,': 0, 'Jewish.': 0, 'deleted': 0, 'erroneously': 0, 'sole': 0, 'validation': 0, 'philosophy,': 0, \"posters'\": 0, 'regarding': 0, 'debunk': 0, 'theisms': 0, 'whole,': 0, 'resources': 0, 'socialize': 0, 'views.': 0, 'accuse': 0, 'lying,': 0, '\"deliberately': 0, 'mistaken\"': 0, 'oxymoronic.': 0, 'forms': 0, 'accomplished': 0, 'faiths.': 0, 'IMHO': 0, 'Friends': 0, 'Service': 0, 'Committee': 0, '(Quaker),': 0, 'Relief': 0, 'Services,': 0, 'Bread': 0, 'World,': 0, 'Salvation': 0, 'Army': 0, 'soup': 0, 'kitchens,': 0, 'Mother': 0, 'Theresa': 0, '(Can': 0, 'analagous': 0, 'groups?)': 0, 'outgrowth': 0, 'her.': 0, 'ascribes': 0, 'benevolence': 0, 'need.': 0, 'behavior': 0, 'individuals;': 0, 'societies.': 0, 'works': 0, 'Crusades': 0, 'Inquisition': 0, 'absolute.': 0, 'twisting': 0, 'solitary': 0, 'evil': 0, 'unreasonable': 0, 'impacts': 0, 'absurd.': 0, 'tv': 0, 'ridicules.': 0, 'shown?': 0, 'Flyers(if': 0, 'with)': 0, 'watching,': 0, 'throught': 0, 'roof!': 0, 'blame.': 0, 'prior': 0, 'contracts': 0, 'N.H.L.': 0, 'priority.': 0, 'heat': 0, 'fans?': 0, 'dare': 0, 'they.': 0, 'televise': 0, 'watch!': 0, 'chest': 0, 'it....': 0, 'Jordan': 0, 'fucker': 0, 'closet': 0, 'Pitt,': 0, 'pushed': 0, 'shot,': 0, 'ref(Van': 0, 'Helloamend?)': 0, 'holding.': 0, 'replayed': 0, 'roomate(who': 0, 'clueless': 0, 'hockey)': 0, 'call,': 0, 'stick,': 0, 'simple,': 0, 'touched,': 0, 'automatic': 0, 'remember,': 0, '4-3.': 0, 'diving/calls': 0, 'HUGE': 0, 'gotta': 0, 'interference': 0, 'obvious.': 0, 'inferior': 0, 'ones.': 0, 'improved': 0, 'periods,': 0, 'refs': 0, 'misplace': 0, 'balls,': 0, 'any.': 0, 'disagreeing': 0, 'replies': 0, 'swiss': 0, 'reached': 0, 'semi-final': 0, 'matches': 0, '!!': 0, '0:1': 0, 'overrun': 0, '0:6': 0, 'relegated': 0, 'B-level.': 0, 'WC': 0, 'tournement': 0, 'olympic': 0, \"'94\": 0, 'Lillehammer': 0, 'ominous': 0, 'fueled': 0, 'Prime': 0, 'outlets': 0, 'owned': 0, 'owners.': 0, 'When/If': 0, 'Cablevision': 0, 'VP': 0, 'Chuck': 0, \"Dolan's\": 0, 'solidly': 0, 'SCNY': 0, 'fold': 0, 'owners': 0, 'lucrative': 0, 'contract).': 0, 'Flyer': 0, 'Snyders': 0, 'Prism': 0, 'channel.': 0, 'affiliated': 0, 'regional': 0, \"SC's,\": 0, 'dozen': 0, 'outlets,': 0, 'locals': 0, 'HTS': 0, 'NESN': 0, 'barter': 0, 'arrangements.': 0, 'cross-ownership,': 0, 'season!!': 0, 'Gee,': 0, 'substance': 0, 'post,': 0, 'nerve': 0, 'talked': 0, 'Respond': 0, 'unmitigated': 0, 'bilge': 0, 'while.': 0, 'token.': 0, '\"In': 0, 'December,': 0, 'security': 0, 'adviser': 0, 'Zbigniew': 0, 'Brzezinski': 0, 'Senate': 0, 'committee': 0, 'sanctions': 0, 'costing': 0, '$100': 0, 'multinational': 0, 'coalition': 0, 'Iraq,': 0, 'suggested,': 0, 'defied': 0, 'UN': 0, 'demands,': 0, 'nations': 0, 'life.\"': 0, 'FCNL': 0, 'Newsletter.': 0, 'Wrongful': 0, 'murderers': 0, 'government,': 0, 'perhaps?': 0, 'Regrettable,': 0, 'course;': 0, 'The-Way-It-Is': 0, 'heavens!': 0, 'escapee': 0, 'Limbot': 0, 'Land!': 0, '\"Conservative\",': 0, 'Prove': 0, '(er,': 0, 'costs': 0, 'state,': 0, 'studies': 0, 'incarceration.': 0, '\"California': 0, 'spending': 0, '$90': 0, 'annually': 0, 'capital': 0, 'cases,': 0, 'executed': 0, '1972.': 0, 'Texas,': 0, 'executions,': 0, 'spends': 0, 'estimated': 0, '$2.3': 0, 'execution.': 0, 'compares': 0, 'average': 0, 'incarceration': 0, '$25,000': 0, 'maximum-security': 0, 'prisoner': 0, 'year.\"': 0, '4/22/93.': 0, '2-1)': 0, 'Sundin': 0, '(Gusarov)': 0, '1:17': 0, 'Muller': 0, '(Damphousse,': 0, 'Bellows)': 0, '1:30': 0, '(Bellows,': 0, 'Desjardins)': 0, '10:30': 0, 'Opportunities-Nordiques': 0, '(2-1)': 0, '(50': 0, '(1-2)': 0, '(35': 0, 'ATT-17,679': 0, 'NJD,': 0, 'Guerin': 0, '1:03': 0, '(Straka)': 0, '9:36': 0, 'Holik': 0, '(S.Stevens)': 0, '16:32': 0, '(Murphy,': 0, '(Loney,': 0, 'Tippett)': 0, '7:05': 0, 'Tocchet)': 0, '9:31': 0, 'Semak': 0, '(Zelepukin)': 0, '9:44': 0, 'Opportunities-Penguins': 0, '(3-0)': 0, '(32': 0, 'Devils--Billington': 0, '(0-1)': 0, 'ATT-14,974': 0, '(LaFontaine,': 0, 'Hawerchuk)': 0, '1:33': 0, '(Smehlik,': 0, 'Hannan)': 0, '4:42': 0, 'BOS,': 0, 'Bourque': 0, '(Oates,': 0, 'Donato)': 0, '17;33': 0, '(Oates)': 0, '13:28': 0, 'B.Sweeney': 0, '(Khmylev,': 0, 'Carney)': 0, '14:56': 0, 'Shaw)': 0, '15:57': 0, '(Hawerchuk,': 0, 'LaFontaine)': 0, '1:05': 0, 'Opportunities-Bruins': 0, 'Bruins--Blue': 0, 'ATT-16,325': 0, '16:37': 0, 'Burridge': 0, '(May,': 0, 'Cavallini)': 0, '18:58': 0, '(Ridley,': 0, '6:18': 0, 'Elynuik': 0, '(Carpenter,': 0, 'Ridley)': 0, '6:15': 0, '(Turgeon,': 0, 'King)': 0, '11:11': 0, '19:17': 0, '(Hogue,': 0, '4:46': 0, 'Opportunities-Capitals': 0, '(25': 0, '(30': 0, 'ATT-14,180': 0, 'benefits': 0, 'sales?': 0, 'Hint,': 0, 'normally': 0, \"gov't.\": 0, 'contractor': 0, 'builds': 0, 'equipment.': 0, 'Believe': 0, 'export': 0, 'accused': 0, 'doing.': 0, 'Arms': 0, 'exports': 0, 'requires': 0, 'congress': 0, 'non-small': 0, 'countries,': 0, 'what,': 0, 'goods': 0, 'whom?': 0, 'replying': 0, 'scholarly': 0, 'accusation': 0, 'flippantly': 0, 'antagonistic.': 0, 'spreads': 0, 'falsehoods': 0, 'ignorance': 0, 'falsehoods.': 0, '_least_)': 0, 'level.': 0, 'Bob,': 0, 'ass!': 0, 'dealing': 0, 'accusing': 0, '(Benedikt,': 0, 'believe)': 0, 'impaired.': 0, 'cite': 0, 'focus': 0, 'discuss.': 0, 'justifiably': 0, 'genius': 0, 'easier.': 0, 'jimh@carson.u.washington.edu': 0, '(James': 0, 'Hogan)]': 0, 'entertainment.': 0, 'entertaining,': 0, 'file': 0, 'go.': 0, 'Attention': 0, '99.999%': 0, 'joke': 0, '(Hence': 0, 'idiot': 0, 'e-mails': 0, 'intentions': 0, 'expect/do': 0, 'request.': 0, 'did)': 0, 'sad??': 0, 'Penguins-Devils': 0, 'puck)': 0, 'checked': 0, 'corner': 0, 'fired': 0, 'football': 0, 'lineman': 0, 'running': 0, 'touchdown': 0, '.': 0, 'me??': 0, 'Malarchuck.': 0, 'rink': 0, 'ambulence': 0, 'parked),': 0, 'Ditto,': 0, 'ambulance': 0, 'standby.': 0, 'video': 0, 'literally': 0, 'spurting': 0, 'grabbed': 0, 'puddle': 0, 'Amazingly': 0, 'recovery,': 0, 'anyway,': 0, 'afterward.': 0, 'dogging': 0, 'form,': 0, 'retired.': 0, 'else?': 0, '-----------------------------------------------------------------------------': 0, 'Carol': 0, 'Boudreau': 0, '#44': 0, 'a.k.a.': 0, 'X-Terminator': 0, 'boudreau@athena.mit.edu': 0, 'Flames!': 0, 'Rock': 0, 'Kings!': 0, \"[Frank's\": 0, 'solution': 0, 'deleted.]': 0, 'telnet,': 0, 'nyx.cs.du.edu.': 0, 'Unix': 0, 'completly': 0, 'free,': 0, 'verifiable': 0, 'ID': 0, 'notarized': 0, 'picture,': 0, 'check,': 0, 'such).': 0, 'back,': 0, 'hinterlands': 0, '(Oklahoma).': 0, 'Dallas.': 0, 'possibly,': 0, 'moving': 0, 'Texas?': 0, 'greedy,': 0, 'self-serving': 0, 'profiteer,': 0, 'profit?': 0, 'gouging?': 0, 'Minnesota,': 0, 'Opinions,': 0, 'recollection': 0, 'roster': 0, '\"money\"': 0, 'USENET': 0, '(sorry': 0, 'Andrew': 0, 'btw).': 0, 'Out': 0, 'curiousity': 0, 'r.s.h.,': 0, 'amazement': 0, 'input,': 0, 'initial': 0, 'finsh': 0, '79th!': 0, 'Gibson': 0, 'K.': 0, 'INTERNET:': 0, 'gibson@geop.ubc.ca': 0, 'Dept.': 0, 'Geophysics': 0, 'Astronomy': 0, '#129-2219': 0, 'Main': 0, 'Mall': 0, 'PHONE:': 0, '(604)822-6722': 0, 'Columbia': 0, 'FAX:': 0, '(604)822-6047': 0, 'Vancouver,': 0, 'Columbia,': 0, 'V6T': 0, '1Z4': 0, 'Still': 0, 'sobbing': 0, 'beer': 0, 'Seriously': 0, '$%@#$%$': 0, '$50': 0, \"B's......\": 0, 'Hmmm....How': 0, 'dem': 0, 'Whalers?': 0, '(No': 0, 'steveg': 0, 'others)': 0, '_fun_,': 0, 'joy': 0, 'longing': 0, 'gaze.': 0, 'punished': 0, 'of.': 0, 'hopelessly': 0, 'delusion,': 0, 'lie.': 0, 'slightest': 0, 'hint': 0, 'existence.': 0, 'honestly': 0, 'reconsider': 0, 'analyse': 0, 'position.': 0, 'publications': 0, 'examine': 0, 'critically.': 0, \"'testimony'\": 0, 'months': 0, 'over,': 0, 'cycle': 0, 'emotional': 0, 'delusion': 0, 'lasted': 0, 'hours.': 0, 'works,': 0, 'god,': 0, 'hung': 0, 'lied,': 0, 'fallen': 0, 'prey': 0, 'illusion.': 0, 'younger,': 0, 'skeptical': 0, '_reason_.': 0, 'student': 0, 'chemistry,': 0, 'qualitative': 0, 'analysis': 0, 'organic': 0, 'compounds': 0, 'lab.': 0, '_hated_': 0, 'experiments': 0, 'old-fashioned': 0, 'increase': 0, \"student's\": 0, 'workload': 0, 'attempt.': 0, 'lesson:': 0, 'structure': 0, 'unknown': 0, 'Y.': 0, '_very_': 0, 'tempting': 0, 'jump': 0, 'conclusions,': 0, 'assure': 0, 'oneself,': 0, 'inconsistent.': 0, 'was,': 0, 'mechanism': 0, 'self-assurance,': 0, 'fear,': 0, 'filtering': 0, 'information.': 0, 'Oh?': 0, 'documented': 0, 'resurrection': 0, 'haphazardly': 0, 'authors': 0, 'rumour': 0, 'ends': 0, 'additions': 0, 'insertions;': 0, '(16:9-20)': 0, 'texts,': 0, 'died,': 0, 'misunderstood.': 0, 'easy.': 0, 'mind,': 0, 'interpret': 0, 'observe.': 0, 'Nothing': 0, 'evidence.': 0, 'George': 0, 'did,': 0, 'presented.': 0, 'liar,': 0, 'was?': 0, 'heroes,': 0, 'anymore.': 0, 'Blind': 0, 'dangerous,': 0, 'blind.': 0, 'willing.': 0, 'recently.': 0, 'movement': 0, 'why)': 0, 'votes.': 0, '12.': 0, '(Pit),': 0, '(Chi),': 0, '(Bos),': 0, '(Mtl/NYR),': 0, '(Van)': 0, 'heresay.': 0, 'defines': 0, 'meaning': 0, 'preclues': 0, 'useful': 0, 'science.': 0, 'Ideas': 0, 'drawn': 0, 'precludes': 0, 'forming': 0, 'assertions': 0, 'falsified,': 0, 'observations': 0, 'religionists': 0, 'bluring': 0, 'reconcilable,': 0, 'subserviant': 0, 'dogma.': 0, 'pursuit': 0, 'fails.': 0, 'Reconciliation': 0, 'circumventing': 0, 'tendancy': 0, 'certian': 0, 'knowledge,': 0, 'domain': 0, 'fundementally': 0, 'limited': 0, 'gererally': 0, 'confurs': 0, 'uncertainty': 0, 'limitations': 0, 'concerns': 0, 'separate': 0, 'pursuits.': 0, 'imperfect': 0, 'provisional': 0, 'answers,': 0, 'best.': 0, 'distinctly': 0, 'meaningful': 0, 'posed': 0, 'mere': 0, 'disolve': 0, 'contradiction.': 0, 'Sandvik': 0, 'Livesey': 0, 'response,': 0, \"Kent's\": 0, 'reply:': 0, 'begs': 0, '\"started\"--': 0, 'accuracy': 0, 'intention.': 0, 'eyewitnesses': 0, '(reporters,': 0, 'will).': 0, '\"telephone\"': 0, 'metaphor': 0, 'innately': 0, 'contrary': 0, 'aims': 0, 'sorts': 0, 'texts.': 0, '(Also,': 0, 'asserted': 0, 'hollow,': 0, 'eyewitness,': 0, 'text.)': 0, '\"original\"': 0, 'texts': 0, 'NT': 0, 'largely': 0, 'errors,': 0, '\"corrections\",': 0, 'deletions.': 0, 'NT,': 0, 'direction:': 0, 'Textus': 0, 'Nestle-Aland': 0, 'differ': 0, 'significance.': 0, 'Hey,guess': 0, 'change?': 0, 'Game3': 0, '7:30(Gary': 0, 'Thorne': 0, 'Clement)': 0, 'Game4': 0, '7:30(Tom': 0, 'Mees': 0, 'Davidson)': 0, '1:00': 0, '(Gary': 0, 'paired': 0, 'Mees(play': 0, 'Davidson(analyst).': 0, 'willingness': 0, 'believers': 0, 'Jones,': 0, 'well-documented,': 0, 'martyrdom': 0, 'little.': 0, 'depth': 0, 'belief.': 0, 'deluded': 0, 'beliefs.': 0, 'died.': 0, 'hopes': 0, 'exploiting': 0, 'profit,': 0, 'Real': 0, 'bail': 0, 'discomfort,': 0, 'hacked': 0, 'general,': 0, 'bruises.': 0, 'hacking': 0, '(causing': 0, 'discomfort)': 0, 'blatantly': 0, 'attempting': 0, 'Potvin,': 0, 'crossed': 0, 'Wednesday.': 0, 'hander': 0, 'Ciccarelli': 0, 'immaturity.': 0, 'slash': 0, 'remove': 0, 'Dino': 0, 'injure.': 0, 'shear': 0, 'frustration.': 0, 'supporter': 0, '(just': 0, 'supporter,': 0, 'really),': 0, 'disappointed.': 0, 'mentioning': 0, 'Billy': 0, 'Philly': 0, 'days).': 0, 'players)': 0, 'disliked': 0, \"(that's\": 0, 'issues).': 0, 'much)': 0, 'seriously': 0, 'hurt': 0, 'intentional)': 0, 'practice,': 0, 'hang': 0, 'nickname.': 0, 'size:': 0, 'Tammy': 0, '\"Lucky': 0, 'Seven\"': 0, '\"Pass': 0, 'falafel\"': 0, '\"R': 0, 'Us\"': 0, '\"Learning': 0, 'Doing\"': 0, '\"Never': 0, 'Useful': 0, 'Post\"': 0, 'Pat.': 0, 'qualify': 0, 'expert.': 0, 't.v.': 0, 'qualifies': 0, 'armchair': 0, 'quarterback': 0, 'potato': 0, 'Walker': 0, 'literature': 0, 'tradition': 0, 'viewed': 0, 'metaphorical': 0, 'way?': 0, 'course:': 0, 'Homer,': 0, 'concepts': 0, 'fate,': 0, 'luck,': 0, ';-)...': 0, 'remains': 0, '*good*': 0, 'metaphors': 0, 'today.': 0, 'unclear,': 0, 'contemporary': 0, 'divorce': 0, 'metaphoric': 0, 'literalism': 0, 'absolutism': 0, 'cases.': 0, '[stuff': 3.4907526028548195, 'M': 0, '-->': 0, 'Look': 0, 'Leafs,': 0, 'confidence-restored': 0, 'horshoes.': 0, 'HA!': 0, 'dodger': 0, 'back!': 0, '(on': 0, 'bandwagon,': 0, 'is.)': 0, 'Get': 0, 'Message': 0, 'write:]': 0, '#>>>': 0, '1000000': 0, 'Alterian': 0, 'dollars': 0, 'bank': 0, 'month.': 0, '(a)': 0, 'big-hearted': 0, 'benefactor,': 0, '(b)': 0, 'bug': 0, 'ATM.': 0, 'dichotomy,': 0, 'P(a)+P(b)=1.': 0, 'Trouble': 0, 'Alterius': 0, '(except': 0, 'banks': 0, 'possibly': 0, 'afford': 0, '(a).': 0, 'whatsoever': 0, 'benefactor.': 0, 'P(exists(b-h': 0, 'b))': 0, 'P(not(exists(b-h': 0, 'grounds': 0, 'lack_of_evidence_for': 0, 'evidence_against': 0, 'partition': 0, 'dismiss': 0, 'Turning,': 0, 'therefore,': 0, '(b),': 0, '(b).': 0, '*all*': 0, 'hypotheses,': 0, 'arrives': 0, 'month,': 0, \"can't,\": 0, 'causes.': 0, '#>>': 0, '*extremely*': 0, 'Premise': 0, '\"...this': 0, '[either]': 0, 'big-': 0, 'hearted': 0, 'ATM\".': 0, 'Thus': 0, 'monthly': 0, 'bucks,': 0, 'Alterius,': 0, 'construction,': 0, '[either': 0, 'benefactor': 0, 'ATM].': 0, 'include': 0, 'premise': 0, 'actually:': 0, 'cardinality': 0, 'properly.': 0, 'bug],': 0, 'conclusion': 0, 'bug].': 0, 'Voila,': 0, 'screaming': 0, '#[with': 0, 'highlights': 0, 'SC]': 0, 'strawman': 0, 'argument.': 0, 'OneOf(Benefactor,Bug).': 0, 'distinguish': 0, 'Benefactor': 0, 'Bug': 0, '~~~~~~~~~~~~~~~~~~~~~~~~~~~~~~~~~~~~~~~~~~~~~~~~~~~~~~~~~~~~~~~~~~~~~~': 0, 'Bug,': 0, 'Benefactor.': 0, '~~~~~~~~~~~~~~~~~~~~~~~~~~~~~~~~~~~~~~~~~~~~~~~~~~~~~~~~~~~~~~~': 0, 'Benefactor/Bug': 0, '(two': 0, 'statements,': 0, 'false).': 0, '#This': 0, 'contradictory.': 0, 'reduces': 0, '(1):': 0, 'dosh': 0, 'arriving': 0, '[benefactor': 0, '(2):': 0, '[benefactor],': 0, '[bug]': 0, '(meaning': 0, 'other)': 0, '(3):': 0, '[benefactor]': 0, '[bug].': 0, '#But': 0, 'relies': 0, '(2).': 0, '(paraphrased)': 0, '#in': 0, '\"evidence': 0, '[benefactor]\",': 0, '#mean': 0, '*more*': 0, 'mean.': 0, '(3),': 0, 'shifted': 0, '[benefactor]\"': 0, '#so': 0, \"`absolute'\": 0, \"#`relative'\": 0, 'w.r.t.': 0, 'really,': 0, 'communications': 0, 'clumsy': 0, 'relates': 0, 'predictions': 0, '(prayer,': 0, \"'Rapture'\": 0, 'example),': 0, 'cases': 0, 'A=0.': 0, 'simplicity': 0, 'dosh.': 0, \"'one-by-one\": 0, \"dismissal'\": 0, 'cross-purposes.': 0, '#(3)': 0, '(1).': 0, '#Some': 0, 'sums': 0, 'b': 0, 'bug,': 0, 'd': 0, 'account:': 0, 'P(B+b': 0, 'd)': 0, '#Assuming': 0, 'P(Bb': 0, '0,': 0, '*or*': 0, '#which': 0, 'arrive,': 0, 'both,': 0, 'P(B': 0, 'P(b': 0, '#but': 0, '0.': 0, 'meant.': 0, '0.5': 0, '0.5,': 0, \"(we've\": 0, 'dosh)': 0, 'estimates.': 0, 'way)': 0, '_wrong_': 0, 'assign': 0, 'probability': 0, 'Razor': 0, 'gods': 0, 'hypotheses': 0, '_one_of_which_': 0, '_not_': 0, 'satisfactorily': 0, 'retained': 0, 'non-rational': 0, 'preference,': 0, 'Alternatively,': 0, 'chuck': 0, 'retain': 0, 'lot,': 0, 'notional': 0, 'estimates': 0, 'useless,': 0, '(agnosticism/weak': 0, 'atheism).': 0, 'x\",': 0, 'x': 0, 'gods,': 0, 'pink': 0, 'unicorns,': 0, 'nothing,': 0, 'tends': 0, '#Exactly': 0, 'making,': 0, '\"throw': 0, 'out\"': 0, '#these,': 0, 'Simon,': 0, \"aren't.\": 0, 'H[i]': 0, 'P(x': 0, 'H[i])': 0, '0)': 0, 'P(H[i])': 0, 'zero': 0, 'finite': 0, 'observations.': 0, 'Exactly': 0, 'unclear.': 0, '#You': 0, 'diametric': 0, 'opposite,': 0, 'illustrate': 0, 'incorrectness': 0, 'absence,': 0, 'any,': 0, 'versions': 0, 'discarded': 0, 'razor.': 0, '#On': 0, 'contrary,': 0, '*exactly*': 0, '#can': 0, 'Razor.': 0, 'See': 0, 'branch': 0, '#thread.': 0, 'guilty': 0, 'hypotheses.': 0, 'assigning': 0, '=0': 0, 'i,': 0, 'SUM(P(x|H[i]))=1': 0, 'Simply': 0, 'put,': 0, 'viable': 0, 'non-existence': 0, 'inductive': 0, 'mistaken,': 0, 'barking': 0, 'mad.': 0, '#Luckily': 0, 'claim,': 0, '#occasions.': 0, 'constructing': 0, 'Frank?': 0, '#Although': 0, \"doesn't,\": 0, '#(I': 0, 'spare': 0, 'apologies': 0, 'Cleese': 0, 'al).': 0, 'miss': 0, '#\"evidence': 0, 'against\"': 0, 'hypothesis,': 0, '*falsifies*': 0, 'reducing': 0, '#estimate': 0, 'P(H': 0, 'zero.': 0, '*reduces*': 0, 'quantity,': 0, '#evidence': 0, 'A!=0.': 0, '(though': 0, 'saying).': 0, 'standards,': 0, 'A=0,': 0, 'A!=0': 0, 'Razor,': 0, 'purporting': 0, 'unnecessary': 0, 'phenomena.': 0, 'purport': 0, 'exist)': 0, 'examination.': 0, 'straight.': 0, 'Stuff': 0, 'justification': 0, 'apostasy': 0, \"Qur'an.\": 0, 'punished.': 0, 'Belief': 0, 'compulsion': 0, 'apostates': 0, 'apostate': 0, 'Messenger\"': 0, 'changes.': 0, 'charge': 0, 'complicated': 0, 'charges': 0, 'sedition,': 0, 'treason,': 0, 'spying,': 0, 'mounts': 0, 'arguement)': 0, 'likewise': 0, 'complicated.': 0, 'slander': 0, 'broadcasts': 0, 'falsehoods,': 0, 'punishments': 0, 'vary': 0, 'Anyhow,': 0, 'aggravated': 0, 'subsidiary': 0, \"Rushdie's\": 0, 'case.': 0, 'formal': 0, 'unilaterally': 0, 'actions),': 0, 'creates': 0, 'disorder,': 0, 'mischief,etc.': 0, 'Muslims': 0, 'harm': 0, 'Muslims.': 0, 'Here,': 0, 'engaged': 0, 'practise.': 0, '(where': 0, 'parties': 0, 'wage': 0, 'war,': 0, 'treaties,': 0, 'exchange': 0, 'prisoners,': 0, 'etc.),': 0, 'individuals': 0, 'unilateral': 0, 'attack': 0, '\"fasad\"': 0, 'Rushdie.': 0, '(banning': 0, 'secondary)': 0, 'circumstances': 0, 'publication': 0, 'publishers)': 0, 'Media': 0, 'hadith': 0, \"Qur'anic\": 0, '5:33.': 0, 'Every': 0, 'verse': 0, '\"circumstance': 0, 'revelation\"': 0, 'tafsir)': 0, 'restricted': 0, 'circumstance': 0, 'revealed.': 0, 'regulations': 0, 'conflict,': 0, 'suspended': 0, 'war.': 0, 'follow.': 0, 'complex,': 0, 'real-life': 0, 'hadiths': 0, 'single,': 0, 'internal': 0, 'relationships': 0, 'interlock': 0, 'task.': 0, 'that\"': 0, 'process.': 0, 'parameters': 0, 'involved,': 0, 'viewed.': 0, 'impinge': 0, 'deciphering': 0, 'verses,': 0, 'reflection': 0, 'entail': 0, 'hadith.': 0, 'increasing': 0, 'piety,': 0, 'pertain': 0, 'State,': 0, 'gestation': 0, 'rulings,': 0, 'dispensing': 0, 'justice,': 0, 'community,': 0, 'minimum': 0, 'requirements': 0, 'achieve.': 0, 'Jaffar': 0, 'Ibn': 0, 'Muhammad': 0, 'as-Sadiq(a.s.)': 0, 'requirements,': 0, 'taught': 0, 'Prophet(S.A.),': 0, 'hadith:': 0, '\"...he': 0, 'Allah': 0, 'abrogating': 0, 'abrogated': 0, 'decisive': 0, 'ambiguous;': 0, 'permission': 0, 'obligation,': 0, 'Meccan': 0, 'Medinite': 0, 'revelation,': 0, 'technical': 0, '(whether': 0, 'compound);': 0, 'comprehend': 0, 'decree': 0, 'measure,': 0, 'advancing': 0, 'delaying': 0, 'verses);': 0, 'deep,': 0, 'manifest': 0, 'esoteric,': 0, 'beginning': 0, 'termination;': 0, 'unaware': 0, 'disjoining': 0, 'joining,': 0, 'exceptions': 0, 'all-inclusive,': 0, 'adjective': 0, 'preceding': 0, 'noun': 0, 'one;': 0, 'emphasized': 0, 'detailed': 0, 'obligatory': 0, 'permissions,': 0, 'places': 0, 'duties': 0, 'rules,': 0, 'lawful': 0, 'unlawful;': 0, \"Qur'an;\": 0, 'Qur\\'an....\".': 0, 'Based': 0, 'hadiths,': 0, 'accordance': 0, '(\"Why': 0, 'company': 0, 'profound': 0, '(tafaqquh)': 0, 'warn': 0, 'beware.\"': 0, '(9:122)),': 0, 'jurisprudence': 0, 'arose.': 0, 'mujtahid': 0, '(one': 0, 'pronounce': 0, 'law': 0, 'religion)': 0, 'many.': 0, 'listed': 0, 'divisions': 0, 'subdivisions': 0, 'headings.': 0, 'Knowledge': 0, 'Arabic': 0, '(syntax,': 0, 'conjugation,': 0, 'roots,': 0, 'semantics,': 0, 'oratory).': 0, 'tafsir': 0, 'principles': 0, 'tafsir.': 0, 'Logic': 0, '(mantiq)': 0, 'Hadiths': 0, 'transmitters': 0, '(rijal)': 0, 'juriprudence': 0, \"(Qur'an,\": 0, 'Sunnah,': 0, 'Consensus,': 0, 'Reasoning)': 0, 'sunnah': 0, 'involves:': 0, 'imperatives': 0, '(awamir)': 0, '(nawahi)': 0, 'generalities': 0, 'particularities': 0, '(aam': 0, 'wa': 0, 'khas)': 0, 'unconditional': 0, 'conditional': 0, 'tacit': 0, 'meanings': 0, 'abrogator': 0, 'Application': 0, 'exemption': 0, 'precaution': 0, 'option': 0, 'mastery': 0, 'jurisprudent': 0, 'rigorous': 0, 'pronouncing': 0, 'judgement': 0, 'anyone,': 0, 'acceding': 0, 'knowledgeable': 0, 'oneself.': 0, 'fuqaha': 0, '(religious': 0, 'scholars)': 0, 'trustees': 0, 'Prophet,': 0, 'illicit': 0, 'desires,': 0, 'pleasures,': 0, 'wealth': 0, 'world.\"': 0, 'Prophet': 0, '(S.A.)': 0, 'asked:': 0, '\"O': 0, 'Messenger': 0, 'God!': 0, 'themselves?\"': 0, 'replied:': 0, '\"By': 0, 'ruling': 0, 'power.': 0, 'shun': 0, 'them.\"': 0, 'Imams': 0, 'Sunni': 0, 'madhabs': 0, 'scholars': 0, 'refered': 0, 'fortress': 0, 'Islam\".': 0, 'specifics': 0, 'delineated': 0, 'acquire': 0, 'praised': 0, 'requisite': 0, 'cautioned.': 0, 'affair': 0, 'apostasy),': 0, 'discusses': 0, 'Khomeini': 0, 'condemned': 0, 'heretic': 0, 'infallible': 0, 'newsgroup.': 0, 'email,': 0, 'private': 0, 'soc.religion.islam.': 0, 'soc.culture.arabic': 0, 'talk.religion.misc?': 0, 'decent': 0, '(alright': 0, 'spectacular': 0, 'times)': 0, 'prssure': 0, 'Goal': 0, 'tender': 0, 'insure': 0, 'scores)': 0, 'pressure': 0, 'storming': 0, 'one)': 0, 'believer': 0, 'statistics,': 0, 'fuhr': 0, 'shooting.': 0, 'tempo.....': 0, 'Ellis': 0, 'BRUINS': 0, 'UMAINE': 0, 'BLACK': 0, 'BEARS': 0, '42-1-2': 0, 'NUMBER': 0, '1......': 0, 'HOCKEY': 0, 'REGULARS': 0, 'SEASON': 0, 'CHAMPIONS.....': 0, 'TOURNAMENT': 0, 'CHAMPIONS>......': 0, 'PAUL': 0, 'KARIYA,': 0, 'HOBEY': 0, 'BAKER': 0, 'AWARD': 0, 'WINNER.......': 0, 'NCAA': 0, 'DIV.': 0, 'CHAMPIONS!!!!!!!!!!!!!!!!!!!': 0, \"Hasn't\": 3.1310642694302033, 'noticed?': 3.1310642694302033, 'Mighty': 0, 'Invisibile': 0, '\"Pink\"': 0, '\"Invisible.\"': 0, 'demon': 0, 'daemon?)': 0, 'saving': 0, 'Logic.': 0, \"Ferreira's\": 0, 'strategy,': 0, 'troika': 0, 'proceeded': 0, 'implement.': 0, 'radical': 0, 'policy': 0, 'ousted': 0, '(something': 0, 'forget).': 0, 'Ferreira': 0, 'stayed,': 0, 'flawed': 0, '(since': 0, 'quoated': 0, 'Anaheim': 0, 'Ducks,': 0, 'practice': 0, 'paper,': 0, 'tweaking': 0, 'around).': 0, 'injuries,': 0, 'complaining': 0, 'collapsed': 0, 'cellar.': 0, 'FORGET': 0, '*THIS*': 0, 'trading': 0, 'Kisio,': 0, 'rumors': 0, 'objections': 0, 'aspects': 0, 'Shark': 0, 'ouster': 0, 'three-headed,': 0, 'oriented': 0, 'Imagine,': 0, 'machine': 0, 'jammed.': 0, 'unhappy': 0, 'tanking,': 0, 'motivation': 0, 'Exactly.': 0, 'Skriko': 0, 'bugs': 0, 'later.': 0, 'Kolstad,': 0, 'Carter,': 0, '4/24': 0, '4/27': 0, '(note': 0, 'series:': 0, 'AP': 0, '4-1,': 0, 'schedule,': 0, 'tonight': 0, '3-1)': 0, 'pleased': 0, 'Linden': 0, 'key': 0, 'success': 0, 'Defensively,': 0, 'Hardly': 0, \"Selanne's\": 0, 'Craven': 0, 'exceptions,': 0, 'high-flying': 0, 'high-flying.': 0, 'overmatched': 0, 'forwards': 0, 'start!': 0, 'integral': 0, 'time?': 0, 'lash': 0, 'wet': 0, 'noodle': 0, 'ever,': 0, 'Heh...': 0, 'rec.autos.sport': 0, 'complain.': 0, 'west-coast': 0, 'compaining': 0, 'Long': 0, 'Beach': 0, 'GP.': 0, 'seems)': 0, '\"contracts\"': 0, 'explained?': 0, 'ASPN': 0, 'happens.': 0, 'businesses': 0, 'payedd': 0, 'commercials': 0, 'business,': 0, 'servant.': 0, 'ads': 0, 'Dodge': 0, 'KBL': 0, 'broadcasts.': 0, '\"thanks': 0, 'STANLEY': 0, 'PLAYOFFS,': 0, 'concider': 0, 'networks)': 0, 'incentive': 0, 'example)': 0, 'leapfrog': 0, '\"big': 0, 'three\"': 0, 'overight.': 0, 'Cute': 0, 'characterization': 0, 'Bill;': 0, 'inconsistency': 0, '\"primitive,': 0, 'simple-minded': 0, 'unscientific,': 0, 'anti-intellectual': 0, 'childish\",': 0, 'complexity': 0, 'explanation.': 0, 'excised': 0, 'add': 0, 'unnecessarily': 0, 'description.': 0, 'non-essential': 0, 'explanatory': 0, 'predictive': 0, 'capability': 0, 'Huh?': 0, '^^^^^': 0, 'Watch': 0, 'Freudian': 0, 'Slip': 0, 'Considering': 0, 'slammed': 0, 'Canada,': 0, 'they?': 0, \"Lupica's\": 0, 'column': 0, 'news?': 0, 'sentiments': 0, 'exactly.': 0, 'instill': 0, 'hunger': 0, 'hearts': 0, 'Either': 0, 'kicking': 0, 'butt!': 0, 'keeping': 0, '\"lurking\"': 0, 'thing).': 0, 'die-hard': 0, 'Garden': 0, \"Penguins'\": 0, \"Mario's\": 0, 'decimation': 0, '4/9),': 0, 'abundance': 0, 'untapped,': 0, 'displayed': 0, 'Hurlbut': 0, 'injured': 0, 'run,': 0, 'Kocur': 0, 'used,': 0, 'instances,': 0, 'intimidation': 0, 'alone,': 0, 'REAL': 0, \"(I'd\": 0, 'nickel': 0, 'J.D.': 0, \"'They've\": 0, \"more'),\": 0, 'illusions': 0, ';-(': 0, 'Joey': 0, 'filling': 0, 'timer.': 0, 'turning': 0, 'blue': 0, 'much,': 0, 'failing': 0, 'hard,': 0, 'mistakes.': 0, 'interview,': 0, 'has.': 0, 'Absolutely.': 0, 'Islanders.': 0, 'awesome.': 0, 'enjoying': 0, 'more,': 0, 'appreciate': 0, 'glory': 0, \"'hating'\": 0, 'concerned.': 0, 'abortion.': 0, 'homosexuality': 0, 'non-procreation.': 0, 'That,': 0, 'unlike': 0, 'population': 0, 'control,': 0, 'you?': 0, 'Define': 0, 'statement.': 0, 'Electrons': 0, 'waves.': 0, 'particles.': 0, 'both.': 0, 'god(tm)': 0, 'ancient': 0, 'indicative': 0, 'omnipotence': 0, 'omnipresence.': 0, 'athiests,': 0, 'existing': 0, '(your': 0, 'view),': 0, 'humane': 0, 'christians/other': 0, 'Secondly': 0, 'growth.': 0, 'indicates': 0, 'contraception.': 0, \"'outlawed'\": 0, '(sometimes': 0, 'literally)': 0, 'create': 0, 'followers,': 0, 'die.': 0, '...execellent': 0, \"Luther's\": 0, 'insane': 0, 'rantings': 0, 'deleted...': 0, '*sooooo*': 0, 'teach': 0, 'ideology': 0, 'schools': 0, '\"Liberate\"': 0, 'invader': 0, 'invasion,': 0, 'including,': 0, 'liberation': 0, 'Kuwait.': 0, 'Never': 0, 'invaded': 0, 'Nicaragua?': 0, '\"send': 0, 'Marines?\"': 0, 'good:': 0, 'aggressor': 0, 'scarcely': 0, 'reprehensible': 0, 'action.': 0, 'convenient': 0, 'technique,': 0, 'alt.atheism:': 0, 'straw-man': 0, 'nobody.': 0, 'noble': 0, 'patriotic.': 0, 'carpet-bombed': 0, 'infantry': 0, 'horizon,': 0, 'destroyed': 0, \"Iraq's\": 0, 'sky': 0, 'bulldozed': 0, 'trenches': 0, 'importantly': 0, 'commanders': 0, 'to]': 0, 'thrilled': 0, 'risking': 0, 'liberty': 0, 'wealthy': 0, 'Kuwaitis.': 0, \"Can't\": 0, 'oil-fields': 0, \"tyrant's\": 0, 'heel': 0, 'tyrant': 0, 'antagonistic': 0, 'interests...': 0, 'pigeon-holed': 0, '\"peace-niks\"': 0, '\"people': 0, 'conduct': 0, 'War\")': 0, '\"peace-at-all-cost-hitler-supporting-genocide-abetting-wimps\",': 0, 'righteous': 0, 'indignation': 0, '\"they\"': 0, 'mold': 0, 'legitimate': 0, 'terms.': 0, 'HOW': 0, 'DARE': 0, 'THEY!': 0, 'indeed!': 0, 'violent': 0, 'peace-niks!': 0, '(Care': 0, 'here?)': 0, 'Wow:': 0, \"'80's\": 0, 'nostalgia!': 0, '[Of': 0, '\"peace-nik\"': 0, \"'50's\": 0, 'derogatory': 0, 'equating': 0, 'promote': 0, 'pacifism': 0, 'Godless': 0, 'Pinko': 0, 'Communists].': 0, 'freedoms': 0, 'mightily': 0, 'threatened': 0, 'Iraq...': 0, 'KS>': 0, 'archetype': 0, 'Finn,': 0, \"Paine's\": 0, '\"Age': 0, 'Reason\".': 0, 'driving': 0, 'Staceys,': 0, 'Books': 0, 'Inc,': 0, '\"Well,': 0, 'Cleanlighted': 0, 'Place\",': 0, 'Daltons,': 0, 'educated': 0, 'assistants': 0, 'thriller': 0, 'section,': 0, 'yet,': 0, 'bluntly': 0, 'author,': 0, '200+': 0, 'revolution.': 0, 'Sigh,': 0, 'Searching': 0, 'bookstores': 0, 'habit': 0, '*lot*': 0, 'browsing': 0, 'bookstores,': 0, 'copy.': 0, 'founding': 0, 'fathers.': 0, 'books?': 0, 'Sure,': 0, '\"Common': 0, 'Sense\"': 0, 'colleges.': 0, 'hole-in-the-wall': 0, 'copies,': 0, 'sigh...': 0, 'divided...': 0, 'supportive': 0, 'sellouts': 0, '80s.': 0, 'grand': 0, 'realignment': 0, 'scheme': 0, 'Bettman?': 0, 'Following': 0, 'provincial': 0, 'Opposition': 0, 'block': 0, 'Pock': 0, 'nowhere!': 0, 'government?': 0, \"Wasn't\": 0, 'Tory': 0}\n"
     ]
    },
    {
     "ename": "AssertionError",
     "evalue": "",
     "output_type": "error",
     "traceback": [
      "\u001b[1;31m---------------------------------------------------------------------------\u001b[0m",
      "\u001b[1;31mAssertionError\u001b[0m                            Traceback (most recent call last)",
      "\u001b[1;32mc:\\Users\\Annabell\\Documents\\NLP4Web\\Homework 3\\homework_3.ipynb Cell 29\u001b[0m line \u001b[0;36m3\n\u001b[0;32m      <a href='vscode-notebook-cell:/c%3A/Users/Annabell/Documents/NLP4Web/Homework%203/homework_3.ipynb#X40sZmlsZQ%3D%3D?line=0'>1</a>\u001b[0m \u001b[39m# Test\u001b[39;00m\n\u001b[0;32m      <a href='vscode-notebook-cell:/c%3A/Users/Annabell/Documents/NLP4Web/Homework%203/homework_3.ipynb#X40sZmlsZQ%3D%3D?line=1'>2</a>\u001b[0m idf_vals_test: defaultdict[\u001b[39mstr\u001b[39m, \u001b[39mfloat\u001b[39m] \u001b[39m=\u001b[39m idf_weights(docs)\n\u001b[1;32m----> <a href='vscode-notebook-cell:/c%3A/Users/Annabell/Documents/NLP4Web/Homework%203/homework_3.ipynb#X40sZmlsZQ%3D%3D?line=2'>3</a>\u001b[0m \u001b[39massert\u001b[39;00m idf_vals_test[\u001b[39m'\u001b[39m\u001b[39mfire\u001b[39m\u001b[39m'\u001b[39m]\n\u001b[0;32m      <a href='vscode-notebook-cell:/c%3A/Users/Annabell/Documents/NLP4Web/Homework%203/homework_3.ipynb#X40sZmlsZQ%3D%3D?line=3'>4</a>\u001b[0m \u001b[39massert\u001b[39;00m math\u001b[39m.\u001b[39misclose(\u001b[39mround\u001b[39m(idf_vals_test[\u001b[39m'\u001b[39m\u001b[39mbe\u001b[39m\u001b[39m'\u001b[39m],\u001b[39m3\u001b[39m), \u001b[39m0.092\u001b[39m)\n\u001b[0;32m      <a href='vscode-notebook-cell:/c%3A/Users/Annabell/Documents/NLP4Web/Homework%203/homework_3.ipynb#X40sZmlsZQ%3D%3D?line=4'>5</a>\u001b[0m \u001b[39massert\u001b[39;00m idf_vals_test[\u001b[39m'\u001b[39m\u001b[39mpeace\u001b[39m\u001b[39m'\u001b[39m]\n",
      "\u001b[1;31mAssertionError\u001b[0m: "
     ]
    }
   ],
   "source": [
    "# Test\n",
    "idf_vals_test: defaultdict[str, float] = idf_weights(docs)\n",
    "assert idf_vals_test['fire']\n",
    "assert math.isclose(round(idf_vals_test['be'],3), 0.092)\n",
    "assert idf_vals_test['peace']\n",
    "assert math.isclose(round(idf_vals_test['man'],2), 1.3)\n",
    "\n",
    "test_sent = (\"The curious cat explored the garden, chasing butterflies in the warm afternoon sun\"\n",
    "            \"Underneath the starry night sky, the old oak tree stood in silent contemplation, its branches swaying gently in the soft breeze.\")\n",
    "tf_vals_test2: list[float] = [tf_weight(term, test_sent) for term in test_sent.split()]\n",
    "assert round(max(tf_vals_test2), 1) == 1.7\n"
   ]
  },
  {
   "cell_type": "markdown",
   "metadata": {
    "deletable": false,
    "editable": false,
    "nbgrader": {
     "cell_type": "markdown",
     "checksum": "6884828b64d2fdd10d98c75767bee484",
     "grade": false,
     "grade_id": "cell-802282396a864eb3",
     "locked": true,
     "schema_version": 3,
     "solution": false,
     "task": false
    }
   },
   "source": [
    "__b)__  (2 Points) Implement a function `tf_idf_vectors(docs)` that transforms each document of a given corpus into a tf-idf vector representation. Each vector should be |V|-dimensional (where again V is the corpus vocabulary consisting of all alphabetic word lemmata).\n",
    "In other words, each vector entry represents one word from the corpus vocabulary; for each term in a document, the corresponding entry in the document's vector should be the tf-idf weight. If a term does not occur in a document at all, the corresponding vector entry should be 0.\n",
    "\n",
    "Use the function to determine the tf-idf vector representations of all documents in our exemplary corpus from task 1a). Normalization of the tf-idf values is not required here.\n",
    "\n",
    "_Note_:\n",
    "\n",
    "* Please make sure your output arrays have the correct dimension |V|.\n",
    "* Please make sure your algorithm does not take multiple hours to execute. We will deduct points for overly inefficient implementations."
   ]
  },
  {
   "cell_type": "code",
   "execution_count": null,
   "metadata": {
    "deletable": false,
    "nbgrader": {
     "cell_type": "code",
     "checksum": "86e10ed0b903d73ce6bb2594a75f8589",
     "grade": false,
     "grade_id": "cell-39e6a15fdde58664",
     "locked": false,
     "schema_version": 3,
     "solution": true,
     "task": false
    }
   },
   "outputs": [],
   "source": [
    "def tf_idf_vectors(docs: Union[List[str], List[spacy.tokens.Doc]]) -> List[ndarray]: \n",
    "    \"\"\"Calculate tf-idf-vectors for the given documents\n",
    "    \n",
    "    :param docs: array-like object containing documents\n",
    "                 (List[spacy.tokens.Doc] or List[str] are only suggestions \n",
    "                  - you may choose either of both or another suitable type)\n",
    "    :return: List[ndarray] containing tf-idf-vectors for each document\"\"\"\n",
    "    vectors: List[ndarray] = []\n",
    "    # YOUR CODE HERE\n",
    "    #raise NotImplementedError()\n",
    "\n",
    "    for i in len(docs):\n",
    "        vectors[i] = list(idf_weights(docs).values()) #weil idf_weigts ein dict returned und hier nur die zahlen für den Vector gebraucht werden\n",
    "\n",
    "    return vectors\n",
    "    "
   ]
  },
  {
   "cell_type": "code",
   "execution_count": null,
   "metadata": {
    "deletable": false,
    "editable": false,
    "nbgrader": {
     "cell_type": "code",
     "checksum": "df07e7f0af05a5814084cd1198a04cc4",
     "grade": true,
     "grade_id": "cell-67f3e8009aee5211",
     "locked": true,
     "points": 2,
     "schema_version": 3,
     "solution": false,
     "task": false
    }
   },
   "outputs": [],
   "source": [
    "# Test\n",
    "\n",
    "x: list[ndarray] = tf_idf_vectors(docs)\n",
    "assert len(x[0]) == 5973, \"Corpus vocabulary |V| (should be around 5973)\"\n",
    "assert math.isclose(round(sum(x[11]), 2), 969.09)\n",
    "assert math.isclose(round(sum(x[25]), 2), 472.51)\n",
    "\n",
    "test_sent = [\"The curious cat explored the garden, chasing butterflies in the warm afternoon sun\",\n",
    "            \"Underneath the starry night sky, the old oak tree stood in silent contemplation, its branches swaying gently in the soft breeze.\"]\n",
    "assert math.isclose(round(sum(sum(tf_idf_vectors(test_sent))), 2), 7.53)\n",
    "assert len(tf_idf_vectors(test_sent)[0]) == 27\n",
    "\n",
    "\n"
   ]
  },
  {
   "cell_type": "markdown",
   "metadata": {
    "deletable": false,
    "editable": false,
    "nbgrader": {
     "cell_type": "markdown",
     "checksum": "9dd1df924abeef52309a5b93c016c3d1",
     "grade": false,
     "grade_id": "cell-0da74ad64accc6e5",
     "locked": true,
     "schema_version": 3,
     "solution": false,
     "task": false
    }
   },
   "source": [
    "## Task 3: Ranked Retrieval and Evaluation (11 Points)"
   ]
  },
  {
   "cell_type": "markdown",
   "metadata": {
    "deletable": false,
    "editable": false,
    "nbgrader": {
     "cell_type": "markdown",
     "checksum": "2fc2319c830055bc3de91f9c7f39b9b2",
     "grade": false,
     "grade_id": "cell-be3c51223a88b26e",
     "locked": true,
     "schema_version": 3,
     "solution": false,
     "task": false
    }
   },
   "source": [
    "In task 2 you performed binary classification to find relevant documents for a given query. In other words, you dealt with the question _if_ a document is relevant for a query. In a real world scenario, however, relevance is not a binary decision, but a scale: some documents (for a query) may be more relevant than others. In other words, we want to answer _how_ relevant a query is. Search engines such as Google provide a solution to the latter question and hence display more relevant documents at the top of the search results (with a descending order of relevance). This is called __Ranked Retrieval__ and requires us to\n",
    "\n",
    "1. use a method that rates search results on a scale (e.g. from 0 to 1) so that we can order them by their relevance (i.e. create a ranking)\n",
    "2. use methods that allow us to evaluate the ranking we created in step 1.\n",
    "\n",
    "After pre-processing the data in task 3a), we will use cosine similarity between query and document vectors as our \"scale\" by which we rank documents in task 3b). Thereafter, in tasks 3c) and 3d) we will compute precision, recall and 11-point-interpolated-precision to rate the ranking we computed in 3b). Lastly, we will plot the interpolated P-R curve to visualise our system's performance."
   ]
  },
  {
   "cell_type": "markdown",
   "metadata": {
    "deletable": false,
    "editable": false,
    "nbgrader": {
     "cell_type": "markdown",
     "checksum": "1b4d8de65d12dd01acb70c480dfb6ec0",
     "grade": false,
     "grade_id": "cell-11a0505f783bff4c",
     "locked": true,
     "schema_version": 3,
     "solution": false,
     "task": false
    }
   },
   "source": [
    "### About the data\n",
    "\n",
    "The data is a subset of the CISI dataset. It comes with queries and documents, both from the computer science domain. It further provides annotation about which document is relevant for which query.\n",
    "\n",
    "The data comes in three different files. All of them are `\\t` separated:\n",
    "* *queries.tsv:* consists of two columns.\n",
    "    * The first column is the `id` (integer value)\n",
    "    * The second column is the textual `query` (text)\n",
    "* *docs.tsv:* consists of three columns.\n",
    "    * The first column is the `id` (integer value)\n",
    "    * The second column is the `title` of the document (text)\n",
    "    * The third column is the `abstract` of the document (text).\n",
    "* *mapping.tsv: consists of two columns.*\n",
    "    * The first column is the `query_id` (integer)\n",
    "    * The second column is the `doc_id`, which is the id of a relevant document for that query (integer)\n",
    "    \n",
    "Note that relevant documents do not exist for all queries, and that one document may be relevant to multiple queries."
   ]
  },
  {
   "cell_type": "markdown",
   "metadata": {
    "deletable": false,
    "editable": false,
    "nbgrader": {
     "cell_type": "markdown",
     "checksum": "2af18e3fa10404e211468df6415b0cec",
     "grade": false,
     "grade_id": "cell-a9d3fd4fcece3ea7",
     "locked": true,
     "schema_version": 3,
     "solution": false,
     "task": false
    }
   },
   "source": [
    "### Getting Familiar with the Data\n",
    "\n",
    "In general it is good practice to first take a closer look at the actual data you are working on.\n",
    "\n",
    "Therefore, we output the DataFrames of all three files of the CISI dataset after loading them:"
   ]
  },
  {
   "cell_type": "code",
   "execution_count": 18,
   "metadata": {
    "ExecuteTime": {
     "end_time": "2022-12-13T21:49:36.281923Z",
     "start_time": "2022-12-13T21:49:34.287959Z"
    }
   },
   "outputs": [],
   "source": [
    "import pandas as pd\n",
    "import spacy\n",
    "nlp: spacy.Language = spacy.load(\"en_core_web_sm\")\n",
    "import seaborn as sns\n",
    "import matplotlib.pyplot as plt\n",
    "sns.set()\n",
    "\n",
    "# Load the data\n",
    "queries_df: pd.DataFrame = pd.read_csv('queries_400.tsv', sep='\\t')\n",
    "documents_df: pd.DataFrame = pd.read_csv('documents_400.tsv', sep='\\t')\n",
    "mapping_df: pd.DataFrame = pd.read_csv('mapping_400.tsv', sep='\\t')"
   ]
  },
  {
   "cell_type": "code",
   "execution_count": 19,
   "metadata": {
    "ExecuteTime": {
     "end_time": "2022-12-13T21:49:36.760127Z",
     "start_time": "2022-12-13T21:49:36.745585Z"
    }
   },
   "outputs": [
    {
     "data": {
      "text/html": [
       "<div>\n",
       "<style scoped>\n",
       "    .dataframe tbody tr th:only-of-type {\n",
       "        vertical-align: middle;\n",
       "    }\n",
       "\n",
       "    .dataframe tbody tr th {\n",
       "        vertical-align: top;\n",
       "    }\n",
       "\n",
       "    .dataframe thead th {\n",
       "        text-align: right;\n",
       "    }\n",
       "</style>\n",
       "<table border=\"1\" class=\"dataframe\">\n",
       "  <thead>\n",
       "    <tr style=\"text-align: right;\">\n",
       "      <th></th>\n",
       "      <th>id</th>\n",
       "      <th>query</th>\n",
       "    </tr>\n",
       "  </thead>\n",
       "  <tbody>\n",
       "    <tr>\n",
       "      <th>0</th>\n",
       "      <td>1</td>\n",
       "      <td>What problems and concerns are there in making...</td>\n",
       "    </tr>\n",
       "    <tr>\n",
       "      <th>1</th>\n",
       "      <td>11</td>\n",
       "      <td>What is the need for information consolidation...</td>\n",
       "    </tr>\n",
       "    <tr>\n",
       "      <th>2</th>\n",
       "      <td>13</td>\n",
       "      <td>What criteria have been developed for the obje...</td>\n",
       "    </tr>\n",
       "    <tr>\n",
       "      <th>3</th>\n",
       "      <td>15</td>\n",
       "      <td>How much do information retrieval and dissemin...</td>\n",
       "    </tr>\n",
       "    <tr>\n",
       "      <th>4</th>\n",
       "      <td>19</td>\n",
       "      <td>Techniques of machine matching and machine sea...</td>\n",
       "    </tr>\n",
       "    <tr>\n",
       "      <th>5</th>\n",
       "      <td>20</td>\n",
       "      <td>Testing automated information systems.</td>\n",
       "    </tr>\n",
       "    <tr>\n",
       "      <th>6</th>\n",
       "      <td>22</td>\n",
       "      <td>Automated information in the medical field.</td>\n",
       "    </tr>\n",
       "    <tr>\n",
       "      <th>7</th>\n",
       "      <td>23</td>\n",
       "      <td>Amount of use of books in libraries. Relation ...</td>\n",
       "    </tr>\n",
       "    <tr>\n",
       "      <th>8</th>\n",
       "      <td>26</td>\n",
       "      <td>Cost and determination of cost associated with...</td>\n",
       "    </tr>\n",
       "    <tr>\n",
       "      <th>9</th>\n",
       "      <td>27</td>\n",
       "      <td>Computerized information retrieval systems.  C...</td>\n",
       "    </tr>\n",
       "    <tr>\n",
       "      <th>10</th>\n",
       "      <td>28</td>\n",
       "      <td>Computerized information systems in fields rel...</td>\n",
       "    </tr>\n",
       "    <tr>\n",
       "      <th>11</th>\n",
       "      <td>29</td>\n",
       "      <td>Specific advantages of computerized index syst...</td>\n",
       "    </tr>\n",
       "    <tr>\n",
       "      <th>12</th>\n",
       "      <td>30</td>\n",
       "      <td>Information dissemination by journals and peri...</td>\n",
       "    </tr>\n",
       "    <tr>\n",
       "      <th>13</th>\n",
       "      <td>31</td>\n",
       "      <td>Information systems in the physical sciences.</td>\n",
       "    </tr>\n",
       "    <tr>\n",
       "      <th>14</th>\n",
       "      <td>32</td>\n",
       "      <td>Attempts at computerized and mechanized system...</td>\n",
       "    </tr>\n",
       "    <tr>\n",
       "      <th>15</th>\n",
       "      <td>34</td>\n",
       "      <td>Methods of coding used in computerized index s...</td>\n",
       "    </tr>\n",
       "    <tr>\n",
       "      <th>16</th>\n",
       "      <td>35</td>\n",
       "      <td>Government supported agencies and projects dea...</td>\n",
       "    </tr>\n",
       "    <tr>\n",
       "      <th>17</th>\n",
       "      <td>44</td>\n",
       "      <td>There are presently fifty to one hundred techn...</td>\n",
       "    </tr>\n",
       "    <tr>\n",
       "      <th>18</th>\n",
       "      <td>45</td>\n",
       "      <td>I am looking for information about the impact ...</td>\n",
       "    </tr>\n",
       "    <tr>\n",
       "      <th>19</th>\n",
       "      <td>46</td>\n",
       "      <td>I am seeking information on the use of data pr...</td>\n",
       "    </tr>\n",
       "    <tr>\n",
       "      <th>20</th>\n",
       "      <td>49</td>\n",
       "      <td>Most resources have been spent on applying inf...</td>\n",
       "    </tr>\n",
       "    <tr>\n",
       "      <th>21</th>\n",
       "      <td>50</td>\n",
       "      <td>Is there any use for traditional classificatio...</td>\n",
       "    </tr>\n",
       "    <tr>\n",
       "      <th>22</th>\n",
       "      <td>54</td>\n",
       "      <td>What is the effect on librarians of automation...</td>\n",
       "    </tr>\n",
       "    <tr>\n",
       "      <th>23</th>\n",
       "      <td>76</td>\n",
       "      <td>This paper discusses the origins of library ne...</td>\n",
       "    </tr>\n",
       "    <tr>\n",
       "      <th>24</th>\n",
       "      <td>90</td>\n",
       "      <td>Many information scientists are concerned with...</td>\n",
       "    </tr>\n",
       "    <tr>\n",
       "      <th>25</th>\n",
       "      <td>92</td>\n",
       "      <td>The number of databases, records contained in ...</td>\n",
       "    </tr>\n",
       "    <tr>\n",
       "      <th>26</th>\n",
       "      <td>109</td>\n",
       "      <td>It is shown that the mapping of a particular a...</td>\n",
       "    </tr>\n",
       "  </tbody>\n",
       "</table>\n",
       "</div>"
      ],
      "text/plain": [
       "     id                                              query\n",
       "0     1  What problems and concerns are there in making...\n",
       "1    11  What is the need for information consolidation...\n",
       "2    13  What criteria have been developed for the obje...\n",
       "3    15  How much do information retrieval and dissemin...\n",
       "4    19  Techniques of machine matching and machine sea...\n",
       "5    20             Testing automated information systems.\n",
       "6    22        Automated information in the medical field.\n",
       "7    23  Amount of use of books in libraries. Relation ...\n",
       "8    26  Cost and determination of cost associated with...\n",
       "9    27  Computerized information retrieval systems.  C...\n",
       "10   28  Computerized information systems in fields rel...\n",
       "11   29  Specific advantages of computerized index syst...\n",
       "12   30  Information dissemination by journals and peri...\n",
       "13   31      Information systems in the physical sciences.\n",
       "14   32  Attempts at computerized and mechanized system...\n",
       "15   34  Methods of coding used in computerized index s...\n",
       "16   35  Government supported agencies and projects dea...\n",
       "17   44  There are presently fifty to one hundred techn...\n",
       "18   45  I am looking for information about the impact ...\n",
       "19   46  I am seeking information on the use of data pr...\n",
       "20   49  Most resources have been spent on applying inf...\n",
       "21   50  Is there any use for traditional classificatio...\n",
       "22   54  What is the effect on librarians of automation...\n",
       "23   76  This paper discusses the origins of library ne...\n",
       "24   90  Many information scientists are concerned with...\n",
       "25   92  The number of databases, records contained in ...\n",
       "26  109  It is shown that the mapping of a particular a..."
      ]
     },
     "execution_count": 19,
     "metadata": {},
     "output_type": "execute_result"
    }
   ],
   "source": [
    "queries_df"
   ]
  },
  {
   "cell_type": "code",
   "execution_count": null,
   "metadata": {
    "ExecuteTime": {
     "end_time": "2022-12-13T21:49:37.114449Z",
     "start_time": "2022-12-13T21:49:37.105258Z"
    }
   },
   "outputs": [],
   "source": [
    "documents_df"
   ]
  },
  {
   "cell_type": "code",
   "execution_count": null,
   "metadata": {
    "ExecuteTime": {
     "end_time": "2022-12-13T21:49:37.503550Z",
     "start_time": "2022-12-13T21:49:37.495986Z"
    }
   },
   "outputs": [],
   "source": [
    "mapping_df"
   ]
  },
  {
   "cell_type": "markdown",
   "metadata": {
    "deletable": false,
    "editable": false,
    "nbgrader": {
     "cell_type": "markdown",
     "checksum": "fffdaae7bd479078b75e5c35d554169d",
     "grade": false,
     "grade_id": "cell-bf092018921c8d69",
     "locked": true,
     "schema_version": 3,
     "solution": false,
     "task": false
    }
   },
   "source": [
    "Furthermore, we take a more thorough look at the query with `id=13`:"
   ]
  },
  {
   "cell_type": "code",
   "execution_count": 20,
   "metadata": {
    "ExecuteTime": {
     "end_time": "2022-12-13T21:49:38.236792Z",
     "start_time": "2022-12-13T21:49:38.225538Z"
    }
   },
   "outputs": [
    {
     "name": "stdout",
     "output_type": "stream",
     "text": [
      "Claim: What criteria have been developed for the objective evaluation of information retrieval and dissemination systems? \n",
      "\n",
      "Relevant documents:\n",
      "* Adaptive Information Dissemination\n",
      "* Opinion Paper\n",
      "* MEDLARS: Report on the Evaluation of Its Operating Efficiency\n",
      "* The Effectiveness of Automatically Generated Weights and Links in Mechanical Indexing\n",
      "* Design and Evaluation of Information Systems\n",
      "* Criteria for Evaluating Technical Library Effectiveness\n",
      "* Document Delivery Capabilities of Major Biomedical Libraries in 1968: Results of a National Survey Employing Standardized Tests\n",
      "* The SMART Automatic Document Retrieval System - An Illustration\n",
      "* Communication among Scientists and Engineers\n",
      "* Relevance Assessments and Retrieval System Evaluation\n",
      "* The Cost_Performance of an On-Line, Free-Text Bibliographic Retrieval System\n",
      "* Selected Results From An Inquiry Into Testing of Information Retrieval Systems\n",
      "* Measures of the Usefulness of Written Technical Information to Chemical Researchers\n",
      "* Computerized Drug Information services\n",
      "* The CA Integrated Subject File.  II. Evaluation of Alternative Data Base Organizations\n",
      "* Comparative Searching of Computer Data Bases\n",
      "* A Selective Current-Awareness System Using Engineering Index's Plastics Data Base.  II. Performance\n",
      "* Evaluation of an SDI Service Based on the Index Chemicus Registry System\n",
      "* The Parametric Description of Retrieval Tests Part I: The Basic Parameters\n",
      "* User Evaluation of Information Retrieval Systems\n",
      "* Some Aspects of Developing and Studying a Descriptor Information Language for General Technology\n",
      "* Evaluation of Information Loss Probability in Indexing\n",
      "* Automatic Indexing\n",
      "\n",
      "In total: 23\n"
     ]
    }
   ],
   "source": [
    "# Find claim and titles for query\n",
    "_id: int = 13\n",
    "print('Claim:', queries_df[queries_df['id'] == _id].iloc[0]['query'], '\\n')\n",
    "\n",
    "relevant_articles_df: pd.DataFrame = documents_df.merge(mapping_df, left_on='id', right_on='doc_id')\n",
    "relevant_titles: pd.DataFrame = relevant_articles_df[relevant_articles_df['query_id'] == _id]\n",
    "\n",
    "# Sort\n",
    "relevant_titles = relevant_titles.sort_values(by='id')\n",
    "\n",
    "print('Relevant documents:')\n",
    "for title in relevant_titles.loc[:, 'title']:\n",
    "    print('*', title)\n",
    "    \n",
    "print('\\nIn total:', len(relevant_titles))"
   ]
  },
  {
   "cell_type": "markdown",
   "metadata": {
    "deletable": false,
    "editable": false,
    "nbgrader": {
     "cell_type": "markdown",
     "checksum": "37e33fc02039679462fcb79504dbc909",
     "grade": false,
     "grade_id": "cell-31204ec425b3d336",
     "locked": true,
     "schema_version": 3,
     "solution": false,
     "task": false
    }
   },
   "source": [
    "### Visualisation\n",
    "\n",
    "Visualizing the data can help to summarize textual information in a meaningful and compact way. We use seaborn in this case to visualize the amount of relevant documents per query:"
   ]
  },
  {
   "cell_type": "code",
   "execution_count": 21,
   "metadata": {
    "ExecuteTime": {
     "end_time": "2022-12-13T21:49:39.297990Z",
     "start_time": "2022-12-13T21:49:39.084904Z"
    }
   },
   "outputs": [
    {
     "data": {
      "image/png": "[encoded data removed]",
      "text/plain": [
       "<Figure size 640x480 with 1 Axes>"
      ]
     },
     "metadata": {},
     "output_type": "display_data"
    }
   ],
   "source": [
    "# Count relevant articles\n",
    "relevant_document_counts: pd.DataFrame = mapping_df.groupby(by='query_id').count().reset_index()\n",
    "relevant_document_counts['Number of relevant articles per query'] = relevant_document_counts['doc_id']\n",
    "    \n",
    "sns.histplot(relevant_document_counts, x='Number of relevant articles per query', binwidth=5)\n",
    "plt.show()"
   ]
  },
  {
   "cell_type": "markdown",
   "metadata": {
    "deletable": false,
    "editable": false,
    "nbgrader": {
     "cell_type": "markdown",
     "checksum": "2d62d04e35c08ddda6936f99b5d09893",
     "grade": false,
     "grade_id": "cell-e6e460392c796115",
     "locked": true,
     "schema_version": 3,
     "solution": false,
     "task": false
    }
   },
   "source": [
    "### The Tasks"
   ]
  },
  {
   "cell_type": "markdown",
   "metadata": {
    "deletable": false,
    "editable": false,
    "nbgrader": {
     "cell_type": "markdown",
     "checksum": "785fe24379fcd9fdfd07864431e2437a",
     "grade": false,
     "grade_id": "cell-b44793754858c43b",
     "locked": true,
     "schema_version": 3,
     "solution": false,
     "task": false
    }
   },
   "source": [
    "Task descriptions assume that you use pandas to store data."
   ]
  },
  {
   "cell_type": "markdown",
   "metadata": {
    "deletable": false,
    "editable": false,
    "nbgrader": {
     "cell_type": "markdown",
     "checksum": "3ea5fd452710fdcab254ea3cb53336a8",
     "grade": false,
     "grade_id": "cell-3f0a0884248465ce",
     "locked": true,
     "schema_version": 3,
     "solution": false,
     "task": false
    }
   },
   "source": [
    "**a)** (1 Point) Preprocessing:\n",
    "Use spaCy to lemmatize the queries and documents.\n",
    "* For queries, the `query` field must be lemmatized\n",
    "* For documents, the concatenation of `title` and `abstract` must be lemmatized. We combine both fields (`title` and `abstract`) to simplify IR, by applying it on this single text for documents.\n",
    "\n",
    "Store the lemmatized text in a separate column.\n",
    "\n",
    "* you don't have to apply other pre-processing such as lower-casing\n",
    "* you don't have to pay attention to cases which Spacy does not correctly lemmatize\n",
    "\n",
    "Finally output the preprocessed pd.DataFrame query and documents.\n"
   ]
  },
  {
   "cell_type": "code",
   "execution_count": 27,
   "metadata": {
    "ExecuteTime": {
     "end_time": "2022-12-13T21:49:41.179027Z",
     "start_time": "2022-12-13T21:49:41.173174Z"
    },
    "deletable": false,
    "nbgrader": {
     "cell_type": "code",
     "checksum": "e5589b6f1bf42ccf908b22f88ea61112",
     "grade": false,
     "grade_id": "cell-b95ef7f259bf9ccf",
     "locked": false,
     "schema_version": 3,
     "solution": true,
     "task": false
    }
   },
   "outputs": [],
   "source": [
    "from typing import Dict, List, Tuple, Mapping\n",
    "\n",
    "def preprocessing(queries: pd.DataFrame, documents: pd.DataFrame) -> tuple[pd.DataFrame, pd.DataFrame]:\n",
    "    \"\"\"\n",
    "    Use spaCy to lemmatize the queries and documents.\n",
    "    * For queries, the `query` field must be lemmatized\n",
    "    * For documents, the concatenation of `title` and `abstract` must be lemmatized. \n",
    "    We combine both fields (`title` and `abstract`) to simplify IR, by applying it on this single text for documents.\n",
    "\n",
    "    Store the lemmatized text in a separate column 'content' for both input.\n",
    "\n",
    "    * you don't have to apply other pre-processing such as lower-casing\n",
    "    * you don't have to pay attention to cases which Spacy does not correctly lemmatize\n",
    "\n",
    "    Finally output the preprocessed pd.DataFrame query and documents.\n",
    "    \n",
    "\n",
    "    :param queries: i.g. queries_df\n",
    "    :param documents: i.g. documents_df\n",
    "    :return queries: pd.DataFrame(pd.DataFrame.columns=['id', 'query', 'content'])\n",
    "            documents: pd.DataFrame(pd.DataFrame.columns=['id', 'title', 'abstract', 'content'])\n",
    "    \"\"\"\n",
    "    \n",
    "    # YOUR CODE HERE\n",
    "    #raise NotImplementedError()\n",
    "\n",
    "    #hier ist nur ein kleiner Anfang, der so nicht wirklich funktioniert\n",
    "    print(queries)\n",
    "    doc = nlp(queries)\n",
    "    queries['content'] = \" \".join([token.lemma_ for token in doc])\n",
    "    \n",
    "\n",
    "\n",
    "    return queries, documents"
   ]
  },
  {
   "cell_type": "code",
   "execution_count": 26,
   "metadata": {
    "ExecuteTime": {
     "end_time": "2022-12-13T21:49:49.388229Z",
     "start_time": "2022-12-13T21:49:41.838088Z"
    },
    "deletable": false,
    "editable": false,
    "nbgrader": {
     "cell_type": "code",
     "checksum": "e1e7f76d257d0bbaad651329a95dc4dd",
     "grade": true,
     "grade_id": "cell-54edbbe95457f5e2",
     "locked": true,
     "points": 0.5,
     "schema_version": 3,
     "solution": false,
     "task": false
    }
   },
   "outputs": [
    {
     "name": "stdout",
     "output_type": "stream",
     "text": [
      "     id                                              query\n",
      "0     1  What problems and concerns are there in making...\n",
      "1    11  What is the need for information consolidation...\n",
      "2    13  What criteria have been developed for the obje...\n",
      "3    15  How much do information retrieval and dissemin...\n",
      "4    19  Techniques of machine matching and machine sea...\n",
      "5    20             Testing automated information systems.\n",
      "6    22        Automated information in the medical field.\n",
      "7    23  Amount of use of books in libraries. Relation ...\n",
      "8    26  Cost and determination of cost associated with...\n",
      "9    27  Computerized information retrieval systems.  C...\n",
      "10   28  Computerized information systems in fields rel...\n",
      "11   29  Specific advantages of computerized index syst...\n",
      "12   30  Information dissemination by journals and peri...\n",
      "13   31      Information systems in the physical sciences.\n",
      "14   32  Attempts at computerized and mechanized system...\n",
      "15   34  Methods of coding used in computerized index s...\n",
      "16   35  Government supported agencies and projects dea...\n",
      "17   44  There are presently fifty to one hundred techn...\n",
      "18   45  I am looking for information about the impact ...\n",
      "19   46  I am seeking information on the use of data pr...\n",
      "20   49  Most resources have been spent on applying inf...\n",
      "21   50  Is there any use for traditional classificatio...\n",
      "22   54  What is the effect on librarians of automation...\n",
      "23   76  This paper discusses the origins of library ne...\n",
      "24   90  Many information scientists are concerned with...\n",
      "25   92  The number of databases, records contained in ...\n",
      "26  109  It is shown that the mapping of a particular a...\n"
     ]
    },
    {
     "ename": "ValueError",
     "evalue": "[E1041] Expected a string, Doc, or bytes as input, but got: <class 'pandas.core.frame.DataFrame'>",
     "output_type": "error",
     "traceback": [
      "\u001b[1;31m---------------------------------------------------------------------------\u001b[0m",
      "\u001b[1;31mValueError\u001b[0m                                Traceback (most recent call last)",
      "\u001b[1;32mc:\\Users\\Annabell\\Documents\\NLP4Web\\Homework 3\\homework_3.ipynb Cell 49\u001b[0m line \u001b[0;36m3\n\u001b[0;32m      <a href='vscode-notebook-cell:/c%3A/Users/Annabell/Documents/NLP4Web/Homework%203/homework_3.ipynb#X66sZmlsZQ%3D%3D?line=0'>1</a>\u001b[0m \u001b[39m# Test whether the preprocessing is corret\u001b[39;00m\n\u001b[0;32m      <a href='vscode-notebook-cell:/c%3A/Users/Annabell/Documents/NLP4Web/Homework%203/homework_3.ipynb#X66sZmlsZQ%3D%3D?line=1'>2</a>\u001b[0m \u001b[39m# Don't delete any given cells in homework\u001b[39;00m\n\u001b[1;32m----> <a href='vscode-notebook-cell:/c%3A/Users/Annabell/Documents/NLP4Web/Homework%203/homework_3.ipynb#X66sZmlsZQ%3D%3D?line=2'>3</a>\u001b[0m queries_proc, documents_proc \u001b[39m=\u001b[39m preprocessing(queries_df, documents_df)\n\u001b[0;32m      <a href='vscode-notebook-cell:/c%3A/Users/Annabell/Documents/NLP4Web/Homework%203/homework_3.ipynb#X66sZmlsZQ%3D%3D?line=3'>4</a>\u001b[0m selector_1: pd\u001b[39m.\u001b[39mSeries \u001b[39m=\u001b[39m documents_proc[\u001b[39m'\u001b[39m\u001b[39mid\u001b[39m\u001b[39m'\u001b[39m] \u001b[39m==\u001b[39m \u001b[39m1255\u001b[39m\n\u001b[0;32m      <a href='vscode-notebook-cell:/c%3A/Users/Annabell/Documents/NLP4Web/Homework%203/homework_3.ipynb#X66sZmlsZQ%3D%3D?line=4'>5</a>\u001b[0m result_1 \u001b[39m=\u001b[39m documents_proc[selector_1]\u001b[39m.\u001b[39miloc[\u001b[39m0\u001b[39m][\u001b[39m'\u001b[39m\u001b[39mcontent\u001b[39m\u001b[39m'\u001b[39m]\n",
      "\u001b[1;32mc:\\Users\\Annabell\\Documents\\NLP4Web\\Homework 3\\homework_3.ipynb Cell 49\u001b[0m line \u001b[0;36m2\n\u001b[0;32m     <a href='vscode-notebook-cell:/c%3A/Users/Annabell/Documents/NLP4Web/Homework%203/homework_3.ipynb#X66sZmlsZQ%3D%3D?line=23'>24</a>\u001b[0m \u001b[39m# YOUR CODE HERE\u001b[39;00m\n\u001b[0;32m     <a href='vscode-notebook-cell:/c%3A/Users/Annabell/Documents/NLP4Web/Homework%203/homework_3.ipynb#X66sZmlsZQ%3D%3D?line=24'>25</a>\u001b[0m \u001b[39m#raise NotImplementedError()\u001b[39;00m\n\u001b[0;32m     <a href='vscode-notebook-cell:/c%3A/Users/Annabell/Documents/NLP4Web/Homework%203/homework_3.ipynb#X66sZmlsZQ%3D%3D?line=25'>26</a>\u001b[0m \n\u001b[0;32m     <a href='vscode-notebook-cell:/c%3A/Users/Annabell/Documents/NLP4Web/Homework%203/homework_3.ipynb#X66sZmlsZQ%3D%3D?line=26'>27</a>\u001b[0m \u001b[39m#hier ist nur ein kleiner Anfang\u001b[39;00m\n\u001b[0;32m     <a href='vscode-notebook-cell:/c%3A/Users/Annabell/Documents/NLP4Web/Homework%203/homework_3.ipynb#X66sZmlsZQ%3D%3D?line=27'>28</a>\u001b[0m \u001b[39mprint\u001b[39m(queries)\n\u001b[1;32m---> <a href='vscode-notebook-cell:/c%3A/Users/Annabell/Documents/NLP4Web/Homework%203/homework_3.ipynb#X66sZmlsZQ%3D%3D?line=28'>29</a>\u001b[0m doc \u001b[39m=\u001b[39m nlp(queries)\n\u001b[0;32m     <a href='vscode-notebook-cell:/c%3A/Users/Annabell/Documents/NLP4Web/Homework%203/homework_3.ipynb#X66sZmlsZQ%3D%3D?line=29'>30</a>\u001b[0m \u001b[39mprint\u001b[39m(\u001b[39m\"\u001b[39m\u001b[39m \u001b[39m\u001b[39m\"\u001b[39m\u001b[39m.\u001b[39mjoin([token\u001b[39m.\u001b[39mlemma_ \u001b[39mfor\u001b[39;00m token \u001b[39min\u001b[39;00m doc]))\n\u001b[0;32m     <a href='vscode-notebook-cell:/c%3A/Users/Annabell/Documents/NLP4Web/Homework%203/homework_3.ipynb#X66sZmlsZQ%3D%3D?line=30'>31</a>\u001b[0m queries[\u001b[39m'\u001b[39m\u001b[39mcontent\u001b[39m\u001b[39m'\u001b[39m] \u001b[39m=\u001b[39m \u001b[39m\"\u001b[39m\u001b[39m \u001b[39m\u001b[39m\"\u001b[39m\u001b[39m.\u001b[39mjoin([token\u001b[39m.\u001b[39mlemma_ \u001b[39mfor\u001b[39;00m token \u001b[39min\u001b[39;00m doc])\n",
      "File \u001b[1;32mc:\\Users\\Annabell\\miniconda3\\envs\\nlp4web\\lib\\site-packages\\spacy\\language.py:1037\u001b[0m, in \u001b[0;36mLanguage.__call__\u001b[1;34m(self, text, disable, component_cfg)\u001b[0m\n\u001b[0;32m   1016\u001b[0m \u001b[39mdef\u001b[39;00m \u001b[39m__call__\u001b[39m(\n\u001b[0;32m   1017\u001b[0m     \u001b[39mself\u001b[39m,\n\u001b[0;32m   1018\u001b[0m     text: Union[\u001b[39mstr\u001b[39m, Doc],\n\u001b[1;32m   (...)\u001b[0m\n\u001b[0;32m   1021\u001b[0m     component_cfg: Optional[Dict[\u001b[39mstr\u001b[39m, Dict[\u001b[39mstr\u001b[39m, Any]]] \u001b[39m=\u001b[39m \u001b[39mNone\u001b[39;00m,\n\u001b[0;32m   1022\u001b[0m ) \u001b[39m-\u001b[39m\u001b[39m>\u001b[39m Doc:\n\u001b[0;32m   1023\u001b[0m \u001b[39m    \u001b[39m\u001b[39m\"\"\"Apply the pipeline to some text. The text can span multiple sentences,\u001b[39;00m\n\u001b[0;32m   1024\u001b[0m \u001b[39m    and can contain arbitrary whitespace. Alignment into the original string\u001b[39;00m\n\u001b[0;32m   1025\u001b[0m \u001b[39m    is preserved.\u001b[39;00m\n\u001b[1;32m   (...)\u001b[0m\n\u001b[0;32m   1035\u001b[0m \u001b[39m    DOCS: https://spacy.io/api/language#call\u001b[39;00m\n\u001b[0;32m   1036\u001b[0m \u001b[39m    \"\"\"\u001b[39;00m\n\u001b[1;32m-> 1037\u001b[0m     doc \u001b[39m=\u001b[39m \u001b[39mself\u001b[39;49m\u001b[39m.\u001b[39;49m_ensure_doc(text)\n\u001b[0;32m   1038\u001b[0m     \u001b[39mif\u001b[39;00m component_cfg \u001b[39mis\u001b[39;00m \u001b[39mNone\u001b[39;00m:\n\u001b[0;32m   1039\u001b[0m         component_cfg \u001b[39m=\u001b[39m {}\n",
      "File \u001b[1;32mc:\\Users\\Annabell\\miniconda3\\envs\\nlp4web\\lib\\site-packages\\spacy\\language.py:1131\u001b[0m, in \u001b[0;36mLanguage._ensure_doc\u001b[1;34m(self, doc_like)\u001b[0m\n\u001b[0;32m   1129\u001b[0m \u001b[39mif\u001b[39;00m \u001b[39misinstance\u001b[39m(doc_like, \u001b[39mbytes\u001b[39m):\n\u001b[0;32m   1130\u001b[0m     \u001b[39mreturn\u001b[39;00m Doc(\u001b[39mself\u001b[39m\u001b[39m.\u001b[39mvocab)\u001b[39m.\u001b[39mfrom_bytes(doc_like)\n\u001b[1;32m-> 1131\u001b[0m \u001b[39mraise\u001b[39;00m \u001b[39mValueError\u001b[39;00m(Errors\u001b[39m.\u001b[39mE1041\u001b[39m.\u001b[39mformat(\u001b[39mtype\u001b[39m\u001b[39m=\u001b[39m\u001b[39mtype\u001b[39m(doc_like)))\n",
      "\u001b[1;31mValueError\u001b[0m: [E1041] Expected a string, Doc, or bytes as input, but got: <class 'pandas.core.frame.DataFrame'>"
     ]
    }
   ],
   "source": [
    "# Test whether the preprocessing is corret\n",
    "# Don't delete any given cells in homework\n",
    "queries_proc, documents_proc = preprocessing(queries_df, documents_df)\n",
    "selector_1: pd.Series = documents_proc['id'] == 1255\n",
    "result_1 = documents_proc[selector_1].iloc[0]['content']\n",
    "selector_2: pd.Series = queries_proc['id'] == 11\n",
    "result_2 = queries_proc[selector_2].iloc[0]['content']\n",
    "assert \"Testing and Analysis\" in result_1\n",
    "assert \"this volum\" in result_1\n",
    "assert \"non - relevant\" in result_1\n",
    "assert \"what be the need\" in result_2\n",
    "assert \"research ?\" in result_2"
   ]
  },
  {
   "cell_type": "code",
   "execution_count": null,
   "metadata": {
    "ExecuteTime": {
     "end_time": "2022-12-13T21:49:49.395053Z",
     "start_time": "2022-12-13T21:49:49.390830Z"
    },
    "deletable": false,
    "editable": false,
    "nbgrader": {
     "cell_type": "code",
     "checksum": "e70491c64a55dc8591c15115106904fc",
     "grade": true,
     "grade_id": "cell-c8d381d39e694954",
     "locked": true,
     "points": 0.5,
     "schema_version": 3,
     "solution": false,
     "task": false
    }
   },
   "outputs": [],
   "source": [
    "# Test whether  title+content is correct concatenated\n",
    "# Don't delete any given cells in homework\n",
    "assert \"Indexing Systems this volume continue\" in result_1"
   ]
  },
  {
   "cell_type": "markdown",
   "metadata": {
    "deletable": false,
    "editable": false,
    "nbgrader": {
     "cell_type": "markdown",
     "checksum": "66684767db16cd3bb51d6dc78630d8a6",
     "grade": false,
     "grade_id": "cell-9d831f97ac5983fa",
     "locked": true,
     "schema_version": 3,
     "solution": false,
     "task": false
    }
   },
   "source": [
    "**b)** (4 Points) In task 2 you had to implement TF-IDF on your own. However, sklearn already provides a very efficient implementation of this functionality. Therefore, you may use  [`TfidfVectorizer()`](https://scikit-learn.org/stable/modules/generated/sklearn.feature_extraction.text.TfidfVectorizer.html) in this task.\n",
    "\n",
    "Implement the function `compute_cosine_similarity_for_all`. It shall compute the cosine similarity of *all* queries with *all* documents, and add a label describing whether the document is relevant (`True`) to the query or not (`False`). It shall return a new dataframe and represent each `query`-`document` combination as one row.\n",
    "\n",
    "**Example output:**"
   ]
  },
  {
   "cell_type": "code",
   "execution_count": null,
   "metadata": {
    "ExecuteTime": {
     "end_time": "2022-12-13T21:49:51.274147Z",
     "start_time": "2022-12-13T21:49:51.264138Z"
    }
   },
   "outputs": [],
   "source": [
    "pd.DataFrame({\n",
    "    'query_id': [99,99], # The same query is compared to ...\n",
    "    'document_id': [1,2], # ... different documents. In your case to all documents.\n",
    "    'document_title': ['Learn about IR in NLP4Web', 'Learn about nursing somewhere else'], # You can omit this - document_id is sufficient\n",
    "    'query': ['Where can I learn more about IR?'] * 2, # You can omit this - query_id is sufficient\n",
    "    'similarity': [0.349, 0.025], # Cosine similarity (These values are only an example and made up)\n",
    "    'is_relevant': [True, False] # Gold Labels\n",
    "})\n",
    "# For all combinations of (query, document)"
   ]
  },
  {
   "cell_type": "markdown",
   "metadata": {
    "deletable": false,
    "editable": false,
    "nbgrader": {
     "cell_type": "markdown",
     "checksum": "0155fbd9357eff26d3ab93469a32e63d",
     "grade": false,
     "grade_id": "cell-be008b36cdc14fbb",
     "locked": true,
     "schema_version": 3,
     "solution": false,
     "task": false
    }
   },
   "source": [
    "The function takes all data (queries, document, mapping) together with the vectorizer as input.\n",
    "* The vectorizer (`vectorizer`) is a vectorizer (such as [`TfidfVectorizer()`](https://scikit-learn.org/stable/modules/generated/sklearn.feature_extraction.text.TfidfVectorizer.html) from `sklearn`) and converts all texts into vectors.\n",
    "\n",
    "The method should:\n",
    "1. Fit the vectorizer *on the documents* (based on the preprocessed column).\n",
    "2. Compute the vectors for all *queries* using the vectorizer from (1).\n",
    "3. Compute the cosine similarity between all query- and all document-vectors. You can use the function [`cosine_similarity`](https://scikit-learn.org/stable/modules/generated/sklearn.metrics.pairwise.cosine_similarity.html) from `sklearn`.\n",
    "4. Add label `is_relevant` describing for each combination of query-document whether the document is relevant to the query or not. Note that this label is independent of the computed cosine similarity score (check mapping_400.tsv instead).\n",
    "5. Return the resulting dataframe. Make sure to include at least the ids for document and query, and the two newly introduced columns (`is_relevant`, `similarity`).\n",
    "\n",
    "Apply the function to all preprocessed queries and all documents using the `TfidfVectorizer()` from `sklearn`.\n",
    "\n",
    "Pay attention to whether fit method is used when the doc/query is verctrozied according to (1) and (2).\n",
    "\n",
    "Finally after the function is implemented, show the titles of the ten most similar articles together with the similarity score and relevance for the query with `id=13`."
   ]
  },
  {
   "cell_type": "code",
   "execution_count": null,
   "metadata": {
    "ExecuteTime": {
     "end_time": "2022-12-13T21:49:53.315799Z",
     "start_time": "2022-12-13T21:49:53.069223Z"
    },
    "deletable": false,
    "nbgrader": {
     "cell_type": "code",
     "checksum": "cac6b3bb9ca9eafe38149fadce519238",
     "grade": false,
     "grade_id": "cell-8178175fa3ebcdab",
     "locked": false,
     "schema_version": 3,
     "solution": true,
     "task": false
    }
   },
   "outputs": [],
   "source": [
    "from sklearn.metrics.pairwise import cosine_similarity\n",
    "from sklearn.feature_extraction.text import TfidfVectorizer, CountVectorizer\n",
    "import collections\n",
    "import numpy as np\n",
    "from scipy.sparse import csr_matrix\n",
    "\n",
    "def compute_cosine_similarity_for_all(documents: pd.DataFrame, queries: pd.DataFrame, mapping: pd.DataFrame, \n",
    "                                      vectorizer: TfidfVectorizer) -> pd.DataFrame:\n",
    "    \"\"\"Compute cosine similarity for all query-document pairs\n",
    "    \n",
    "    :param documents: structure that contains document content\n",
    "    :param queries: structure that contains query content\n",
    "    :param mapping: structure that that contains mapping between queries and relevant documents\n",
    "    :param vectorizer: TfidfVectorizer\n",
    "    :return: DataFrame that contains cosine similarity for all query-document pairs\n",
    "             (see example output above for how the DataFrame should look like)\n",
    "    \"\"\"\n",
    "    result = pd.DataFrame([],columns=['document_id', 'query_id', 'similarity', 'document_title', 'query',\n",
    "       'is_relevant'])\n",
    "    \n",
    "    # YOUR CODE HERE\n",
    "    raise NotImplementedError()\n",
    "    \n",
    "    return result\n",
    "\n",
    "similarity_results: pd.DataFrame = compute_cosine_similarity_for_all(documents_df, queries_df, mapping_df, \n",
    "                                                                     TfidfVectorizer())"
   ]
  },
  {
   "cell_type": "code",
   "execution_count": null,
   "metadata": {
    "ExecuteTime": {
     "end_time": "2022-12-13T21:49:54.173766Z",
     "start_time": "2022-12-13T21:49:54.161538Z"
    },
    "deletable": false,
    "nbgrader": {
     "cell_type": "code",
     "checksum": "c6eb3332acbbb1fe292425eecd8c8c29",
     "grade": true,
     "grade_id": "cell-41c1e67418758410",
     "locked": false,
     "points": 0.5,
     "schema_version": 3,
     "solution": true,
     "task": false
    }
   },
   "outputs": [],
   "source": [
    "\"\"\"\n",
    "Show/print the titles of the ten most similar articles together with the similarity score and \n",
    "relevance for the query with `id=13`.\n",
    "\"\"\"\n",
    "# Don't delete any given cells in homework\n",
    "\n",
    "# YOUR CODE HERE\n",
    "raise NotImplementedError()"
   ]
  },
  {
   "cell_type": "code",
   "execution_count": null,
   "metadata": {
    "ExecuteTime": {
     "end_time": "2022-12-13T21:51:36.218472Z",
     "start_time": "2022-12-13T21:51:36.202170Z"
    },
    "deletable": false,
    "editable": false,
    "nbgrader": {
     "cell_type": "code",
     "checksum": "1e48dfb7641ef75c1d2edae18eb2676f",
     "grade": true,
     "grade_id": "cell-5e162f7eb91f5205",
     "locked": true,
     "points": 0.5,
     "schema_version": 3,
     "solution": false,
     "task": false
    }
   },
   "outputs": [],
   "source": [
    "# Test whether the columns of returned dataframe meets the requirement\n",
    "assert (similarity_results.columns == ['document_id', 'query_id', 'similarity', 'document_title', 'query',\n",
    "       'is_relevant']).all()\n",
    "\n",
    "# Test whether 'is_relevant' column is correct.\n",
    "# Don't delete any given cells in homework\n",
    "assert similarity_results[(similarity_results['query_id']==13)& \\\n",
    "                          (similarity_results['document_id']==611)].is_relevant.item() == False\n",
    "assert similarity_results[(similarity_results['query_id']==13)& \\\n",
    "                          (similarity_results['document_id']==1314)].is_relevant.item() == False\n",
    "assert similarity_results[(similarity_results['query_id']==13)& \\\n",
    "                          (similarity_results['document_id']==1078)].is_relevant.item() == False\n",
    "assert similarity_results[(similarity_results['query_id']==13)& \\\n",
    "                          (similarity_results['document_id']==731)].is_relevant.item() == True\n",
    "assert similarity_results[(similarity_results['query_id']==15)& \\\n",
    "                          (similarity_results['document_id']==611)].is_relevant.item() == False\n",
    "assert similarity_results[(similarity_results['query_id']==15)& \\\n",
    "                          (similarity_results['document_id']==255)].is_relevant.item() == False\n",
    "assert similarity_results[(similarity_results['query_id']==15)& \\\n",
    "                          (similarity_results['document_id']==437)].is_relevant.item() == False\n",
    "assert similarity_results[(similarity_results['query_id']==15)& \\\n",
    "                          (similarity_results['document_id']==1353)].is_relevant.item() == True"
   ]
  },
  {
   "cell_type": "code",
   "execution_count": null,
   "metadata": {
    "ExecuteTime": {
     "end_time": "2022-12-13T21:51:36.744495Z",
     "start_time": "2022-12-13T21:51:36.725846Z"
    },
    "deletable": false,
    "editable": false,
    "nbgrader": {
     "cell_type": "code",
     "checksum": "e167c326fd98c7b9ad95337312014121",
     "grade": true,
     "grade_id": "cell-857cfbdf94cfc4b6",
     "locked": true,
     "points": 3,
     "schema_version": 3,
     "solution": false,
     "task": false
    }
   },
   "outputs": [],
   "source": [
    "# Test whether similarity is correct computed\n",
    "# Don't delete any given cells in homework\n",
    "assert (abs(similarity_results[(similarity_results['query_id']==13)& \\\n",
    "           (similarity_results['document_id']==611)]['similarity'] - 0.323494)<1e-6).item()\n",
    "assert (abs(similarity_results[(similarity_results['query_id']==13)& \\\n",
    "           (similarity_results['document_id']==1314)]['similarity'] - 0.256191)<1e-6).item()\n",
    "assert (abs(similarity_results[(similarity_results['query_id']==13)& \\\n",
    "           (similarity_results['document_id']==1078)]['similarity'] - 0.249343)<1e-6).item()\n",
    "assert (abs(similarity_results[(similarity_results['query_id']==13)& \\\n",
    "           (similarity_results['document_id']==1136)]['similarity'] - 0.25416)<1e-6).item()\n",
    "assert (abs(similarity_results[(similarity_results['query_id']==15)& \\\n",
    "           (similarity_results['document_id']==611)]['similarity'] - 0.237655)<1e-6).item()\n",
    "assert (abs(similarity_results[(similarity_results['query_id']==15)& \\\n",
    "           (similarity_results['document_id']==255)]['similarity'] - 0.228251)<1e-6).item()\n",
    "assert (abs(similarity_results[(similarity_results['query_id']==15)& \\\n",
    "           (similarity_results['document_id']==437)]['similarity'] - 0.221161)<1e-6).item()\n",
    "assert (abs(similarity_results[(similarity_results['query_id']==15)& \\\n",
    "           (similarity_results['document_id']==979)]['similarity'] - 0.190624)<1e-6).item()"
   ]
  },
  {
   "cell_type": "markdown",
   "metadata": {
    "deletable": false,
    "editable": false,
    "nbgrader": {
     "cell_type": "markdown",
     "checksum": "7c779fe82cdca11b000205f9ec04926c",
     "grade": false,
     "grade_id": "cell-ce3906469f703ffc",
     "locked": true,
     "schema_version": 3,
     "solution": false,
     "task": false
    }
   },
   "source": [
    "**c)** (3 Points) Implement the function `precision_recall` to compute precision and recall for every row from the results of 3b). Precision and recall should be computed as discussed in the lecture for the P-R curve (without interpolation): Compute both metrics for each of the steps (top $1$ results, top $2$ results, ...., top $n$ results) and for each query (not aggregated yet). Assume that documents are ranked/retrieved according to the similarity score. Add the precision and recall values to the dataframe (or similar).\n",
    "\n",
    "The input to this function should be the resulting dataframe from 3b). Apply it on the data.\n",
    "\n",
    "Compare with dataframe from 3b), the output of 3c) function has two addtional columns(i.e. 'precision', 'recall')\n",
    "\n",
    "Finally, show (similar to 3b) the top 10 results for the query with `id=13` together with the precision and recall metrics."
   ]
  },
  {
   "cell_type": "code",
   "execution_count": null,
   "metadata": {
    "ExecuteTime": {
     "end_time": "2022-12-13T21:51:39.897103Z",
     "start_time": "2022-12-13T21:51:37.373553Z"
    },
    "deletable": false,
    "nbgrader": {
     "cell_type": "code",
     "checksum": "6fead0df1f17790e63c5b72d9a579baf",
     "grade": false,
     "grade_id": "cell-d6e6ca13a8e184d1",
     "locked": false,
     "schema_version": 3,
     "solution": true,
     "task": false
    }
   },
   "outputs": [],
   "source": [
    "def precision_recall(similarity_results: pd.DataFrame) -> pd.DataFrame:\n",
    "    \"\"\"Compute precision and recall for each query for each of the steps (top 1 results, ...., top 𝑛 results)\n",
    "    \n",
    "    :param similarity_results: resulting DataFrame from 3b)\n",
    "                               (contains information from all queries and not only the information from the query\n",
    "                                with id=13)\n",
    "    :return: structure that contains precision and recall for each query for each of the steps                      \n",
    "    \"\"\"\n",
    "    result = pd.DataFrame([],columns=['document_id', 'query_id', 'similarity', 'document_title', 'query',\n",
    "       'is_relevant', 'precision', 'recall'])\n",
    "    \n",
    "    # YOUR CODE HERE\n",
    "    raise NotImplementedError()\n",
    "    return result\n",
    "\n",
    "similarity_results: pd.DataFrame = compute_cosine_similarity_for_all(documents_df, queries_df, mapping_df, \n",
    "                                                                     TfidfVectorizer())\n",
    "pr_similarity_results: pd.DataFrame = precision_recall(similarity_results)"
   ]
  },
  {
   "cell_type": "code",
   "execution_count": null,
   "metadata": {
    "ExecuteTime": {
     "end_time": "2022-12-13T21:51:39.910386Z",
     "start_time": "2022-12-13T21:51:39.899470Z"
    },
    "deletable": false,
    "nbgrader": {
     "cell_type": "code",
     "checksum": "5885974047745eec8cba6258bff1c089",
     "grade": true,
     "grade_id": "cell-2cf275aef382dca8",
     "locked": false,
     "points": 0.5,
     "schema_version": 3,
     "solution": true,
     "task": false
    }
   },
   "outputs": [],
   "source": [
    "\"\"\"\n",
    "Show/print (similar to 3b) the top 10 results for the query with `id=13` together with the precision and \n",
    "recall metrics.\n",
    "\"\"\"\n",
    "# Don't delete any given cells in homework\n",
    "\n",
    "# YOUR CODE HERE\n",
    "raise NotImplementedError()"
   ]
  },
  {
   "cell_type": "code",
   "execution_count": null,
   "metadata": {
    "ExecuteTime": {
     "end_time": "2022-12-13T21:51:39.916960Z",
     "start_time": "2022-12-13T21:51:39.912560Z"
    },
    "deletable": false,
    "editable": false,
    "nbgrader": {
     "cell_type": "code",
     "checksum": "8a6611f292099f47a9547c8321b2ae8f",
     "grade": true,
     "grade_id": "cell-7e335733bca38fd7",
     "locked": true,
     "points": 1,
     "schema_version": 3,
     "solution": false,
     "task": false
    }
   },
   "outputs": [],
   "source": [
    "# Test whether the columns of returned dataframe meets the requirement\n",
    "# Don't delete any given cells in homework\n",
    "assert (pr_similarity_results.columns == ['document_id', 'query_id', 'similarity', 'document_title', 'query',\n",
    "       'is_relevant', 'precision', 'recall']).all()\n",
    "\n",
    "# Test whether metrics are computed based on the ordered top similarity\n",
    "def IsListSorted_sorted(lst):\n",
    "    return sorted(lst) == lst or sorted(lst, reverse=True) == lst\n",
    "__lst= list(pr_similarity_results[pr_similarity_results['query_id'] == 15].similarity)\n",
    "assert IsListSorted_sorted(__lst)"
   ]
  },
  {
   "cell_type": "code",
   "execution_count": null,
   "metadata": {
    "ExecuteTime": {
     "end_time": "2022-12-13T21:51:42.508570Z",
     "start_time": "2022-12-13T21:51:39.919764Z"
    },
    "deletable": false,
    "editable": false,
    "nbgrader": {
     "cell_type": "code",
     "checksum": "30179f826d3fae6d622303d88a8c27a0",
     "grade": true,
     "grade_id": "cell-680d0bf5aed3e8dd",
     "locked": true,
     "points": 1.5,
     "schema_version": 3,
     "solution": false,
     "task": false
    }
   },
   "outputs": [],
   "source": [
    "# Test whether precision or recall are computed incorrectly\n",
    "# Don't delete any given cells in homework\n",
    "similarity_results: pd.DataFrame = compute_cosine_similarity_for_all(documents_df, queries_df, mapping_df, \n",
    "                                                                     TfidfVectorizer())\n",
    "pr_similarity_results: pd.DataFrame = precision_recall(similarity_results)\n",
    "result_5 =pr_similarity_results[pr_similarity_results['query_id'] == 13]\n",
    "(abs(result_5[abs(result_5['similarity'] - 0.249343)<1e-6]['precision']-0) < 1e-6).item()\n",
    "assert (abs(result_5[abs(result_5['similarity'] - 0.224712)<1e-6]['precision']-0.166667) < 1e-6).item() \n",
    "assert (abs(result_5[abs(result_5['similarity'] - 0.224712)<1e-6]['recall']-0.043478) < 1e-6).item() \n",
    "\n",
    "assert (abs(result_5[abs(result_5['similarity'] - 0.223568)<1e-6]['precision']-0.142857) < 1e-6).item() \n",
    "assert (abs(result_5[abs(result_5['similarity'] - 0.224712)<1e-6]['recall']-0.043478) < 1e-6).item() \n",
    "\n",
    "assert (abs(result_5[abs(result_5['similarity'] - 0.204336)<1e-6]['precision']-0.333333) < 1e-6).item() \n",
    "assert (abs(result_5[abs(result_5['similarity'] - 0.216309)<1e-6]['recall']-0.130435) < 1e-6).item() \n",
    "assert (result_5[abs(result_5['similarity'] - 0.216309)<1e-6]['document_title'].item() == 'Opinion Paper')"
   ]
  },
  {
   "cell_type": "markdown",
   "metadata": {
    "deletable": false,
    "editable": false,
    "nbgrader": {
     "cell_type": "markdown",
     "checksum": "6e3640c4f5a58ae59a04cf0f916d95cb",
     "grade": false,
     "grade_id": "cell-ebe2e10281f22c86",
     "locked": true,
     "schema_version": 3,
     "solution": false,
     "task": false
    }
   },
   "source": [
    "**d)** (3 Points) Implement the function `precision_recall_11_point` for 11 point interpolation. It should compute interpolated precision values for all 11 recall levels and output them as a dataframe. Choose the first sample at which the recall $\\geq$ recall_level to divide  your results into these 11 points. For example: When selecting samples for recall_level $0.1$ and you only have recall values of $[0.095, 0.112]$, then select the second point (recall $0.112$) as start for this recall level.\n",
    "\n",
    "Apply this function on all queries, given the output of 3c) and output the precision values at each recall level of the 11-point interpolation for the query with `id=13`. \n",
    "\n",
    "_Note_: Please make sure you correctly understand the following metrics before implementing this task (Information Retrieval II slides pp.20-24). Feel free to ask questions in the forum:\n",
    "\n",
    "* interpolated precision\n",
    "* 11-point interpolated precision\n",
    "\n",
    "The returend pd.DataFrame has 3 columns: \"Query\", \"Recall\", \"Precision\".\n",
    "\n",
    "\"Query\": query_id\n",
    "\n",
    "\"Recall\": recall level (i.e. 100, 90, ...0)\n",
    "\n",
    "\"Precision\": float"
   ]
  },
  {
   "cell_type": "code",
   "execution_count": null,
   "metadata": {
    "ExecuteTime": {
     "end_time": "2022-12-13T21:51:42.858916Z",
     "start_time": "2022-12-13T21:51:42.511005Z"
    },
    "deletable": false,
    "nbgrader": {
     "cell_type": "code",
     "checksum": "f82e23ba7c3516c1eb64d7a4d48b77c4",
     "grade": false,
     "grade_id": "cell-dc026866f173bb88",
     "locked": false,
     "schema_version": 3,
     "solution": true,
     "task": false
    }
   },
   "outputs": [],
   "source": [
    "def precision_recall_11_point(pr_similarity_results: pd.DataFrame) -> pd.DataFrame:\n",
    "    \"\"\"Perform 11 point interpolation on data in pr_similarity_results\n",
    "    \n",
    "    :param pr_similarity_results: resulting DataFrame from 3c)\n",
    "    :return DataFrame that contains 11 point interpolations for all queries\n",
    "    The returend pd.DataFrame has 3 columns: \"Query\", \"Recall\", \"Precision\".\n",
    "    \"Query\": query_id\n",
    "    \"Recall\": recall level (i.e. 100, 90, ...0)\n",
    "    \"Precision\": floa\n",
    "    \"\"\"\n",
    "    result = pd.DataFrame([],columns = ['Query', 'Recall', 'Precision'])\n",
    "    \n",
    "    # YOUR CODE HERE\n",
    "    raise NotImplementedError()\n",
    "    return result\n",
    "\n",
    "pr_11_point: pd.DataFrame = precision_recall_11_point(pr_similarity_results)"
   ]
  },
  {
   "cell_type": "code",
   "execution_count": null,
   "metadata": {
    "ExecuteTime": {
     "end_time": "2022-12-13T21:51:42.867217Z",
     "start_time": "2022-12-13T21:51:42.860523Z"
    },
    "deletable": false,
    "nbgrader": {
     "cell_type": "code",
     "checksum": "fb07ab2b81046aded45b1515e6a74ea9",
     "grade": true,
     "grade_id": "cell-a5884bd32a6552da",
     "locked": false,
     "points": 0.3,
     "schema_version": 3,
     "solution": true,
     "task": false
    }
   },
   "outputs": [],
   "source": [
    "\"\"\"\n",
    "Output/print the precision values at each recall level of the 11-point interpolation for the query with `id=13`. \n",
    "\"\"\"\n",
    "# Don't delete any given cells in homework\n",
    "\n",
    "# YOUR CODE HERE\n",
    "raise NotImplementedError()"
   ]
  },
  {
   "cell_type": "code",
   "execution_count": null,
   "metadata": {
    "ExecuteTime": {
     "end_time": "2022-12-13T21:51:42.874578Z",
     "start_time": "2022-12-13T21:51:42.869581Z"
    },
    "deletable": false,
    "editable": false,
    "nbgrader": {
     "cell_type": "code",
     "checksum": "d273ccea42e375ba5c6e086228a3141a",
     "grade": true,
     "grade_id": "cell-3363a2238b9e1b49",
     "locked": true,
     "points": 0.7,
     "schema_version": 3,
     "solution": false,
     "task": false
    }
   },
   "outputs": [],
   "source": [
    "# Test whether the columns of returned dataframe meets the requirement\n",
    "# Don't delete any given cells in homework\n",
    "assert (pr_11_point.columns == ['Query', 'Recall', 'Precision']).all()\n",
    "\n",
    "# Test whether precision values and recall level have different order\n",
    "def IsListSorted_sorted_2list(lst_1, lst_2):\n",
    "    return (sorted(lst_1) == lst_1 and sorted(lst_2, reverse=True) == lst_2) \\\n",
    "            or (sorted(lst_1, reverse=True) == lst_1 and sorted(lst_2) == lst_2)\n",
    "__lst_1= list(pr_11_point[pr_11_point['Query'] == 15].Recall)\n",
    "__lst_2= list(pr_11_point[pr_11_point['Query'] == 15].Precision)\n",
    "assert IsListSorted_sorted_2list(__lst_1, __lst_2)"
   ]
  },
  {
   "cell_type": "code",
   "execution_count": null,
   "metadata": {
    "ExecuteTime": {
     "end_time": "2022-12-13T21:51:43.344242Z",
     "start_time": "2022-12-13T21:51:43.071563Z"
    },
    "deletable": false,
    "editable": false,
    "nbgrader": {
     "cell_type": "code",
     "checksum": "b0a46cab2462768160ee8fc37fd76240",
     "grade": true,
     "grade_id": "cell-f979020e5b5ef592",
     "locked": true,
     "points": 2,
     "schema_version": 3,
     "solution": false,
     "task": false
    }
   },
   "outputs": [],
   "source": [
    "# Test\n",
    "_id = 15\n",
    "pr_11_point: pd.DataFrame = precision_recall_11_point(pr_similarity_results)\n",
    "result_6 = pr_11_point[pr_11_point['Query'] == _id]\n",
    "assert abs(result_6[result_6['Recall']==100]['Precision'].item() - 0.061625) < 1e-6\n",
    "assert abs(result_6[result_6['Recall']==90]['Precision'].item() - 0.068493) < 1e-6\n",
    "assert abs(result_6[result_6['Recall']==80]['Precision'].item() - 0.074074) < 1e-6\n",
    "assert abs(result_6[result_6['Recall']==70]['Precision'].item() - 0.094118) < 1e-6\n",
    "assert abs(result_6[result_6['Recall']==60]['Precision'].item() - 0.112000) < 1e-6\n",
    "assert abs(result_6[result_6['Recall']==50]['Precision'].item() - 0.141026) < 1e-6"
   ]
  },
  {
   "cell_type": "markdown",
   "metadata": {
    "deletable": false,
    "editable": false,
    "nbgrader": {
     "cell_type": "markdown",
     "checksum": "8346a5a702fa794ba05b28221147ee1a",
     "grade": false,
     "grade_id": "cell-4e809983f197d2e0",
     "locked": true,
     "schema_version": 3,
     "solution": false,
     "task": false
    }
   },
   "source": [
    "Plot the interpolated P-R curve based on all queries. (Use the result from 3d)\n",
    "\n",
    "Just see the result through your computation."
   ]
  },
  {
   "cell_type": "code",
   "execution_count": null,
   "metadata": {
    "ExecuteTime": {
     "end_time": "2022-12-13T21:51:44.872728Z",
     "start_time": "2022-12-13T21:51:44.444942Z"
    },
    "deletable": false,
    "editable": false,
    "nbgrader": {
     "cell_type": "code",
     "checksum": "f6c190e181effe53de189f0f4fce0cdb",
     "grade": false,
     "grade_id": "cell-cc4658bcfa3995b7",
     "locked": true,
     "schema_version": 3,
     "solution": false,
     "task": false
    }
   },
   "outputs": [],
   "source": [
    "sns.lineplot(\n",
    "    data=pr_11_point,\n",
    "    x='Recall',\n",
    "    y='Precision'\n",
    ")"
   ]
  },
  {
   "cell_type": "markdown",
   "metadata": {
    "deletable": false,
    "editable": false,
    "nbgrader": {
     "cell_type": "markdown",
     "checksum": "a95bf0e5c8fc0e23501940942321f33a",
     "grade": false,
     "grade_id": "cell-7ea2842cf3e9b821",
     "locked": true,
     "schema_version": 3,
     "solution": false,
     "task": false
    }
   },
   "source": [
    "**Submission:**\n",
    "\n",
    "Please upload your submission to Moodle before the next exercise session <font color=\"red\">(Dec 13th, 23:59pm)</font>!\n",
    "\n",
    "Submission format: `Group_XX_Exercise_XX.zip`\n",
    "\n",
    "Your submission should contain your filled out Jupyter notebook (naming schema: `NLP4Web_Home_Exercise3.ipynb`) and any auxiliar files that are necessary to run your code (e.g., the datasets provided by us).\n",
    "\n",
    "Each submission must be handed in only once per group."
   ]
  }
 ],
 "metadata": {
  "kernelspec": {
   "display_name": "nlp4web",
   "language": "python",
   "name": "python3"
  },
  "language_info": {
   "codemirror_mode": {
    "name": "ipython",
    "version": 3
   },
   "file_extension": ".py",
   "mimetype": "text/x-python",
   "name": "python",
   "nbconvert_exporter": "python",
   "pygments_lexer": "ipython3",
   "version": "3.10.13"
  }
 },
 "nbformat": 4,
 "nbformat_minor": 4
}
