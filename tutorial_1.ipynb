{
 "cells": [
  {
   "cell_type": "markdown",
   "metadata": {
    "deletable": false,
    "editable": false,
    "nbgrader": {
     "cell_type": "markdown",
     "checksum": "da5064c9ed8cd1fec0f36b714c345b0b",
     "grade": false,
     "grade_id": "cell-4d87ae78fb4caf9c",
     "locked": true,
     "schema_version": 3,
     "solution": false,
     "task": false
    },
    "tags": []
   },
   "source": [
    "# NLP and the Web"
   ]
  },
  {
   "cell_type": "markdown",
   "metadata": {
    "deletable": false,
    "editable": false,
    "nbgrader": {
     "cell_type": "markdown",
     "checksum": "b1145e2ba69b3e56620106550f0984e0",
     "grade": false,
     "grade_id": "cell-8b531762670192f6",
     "locked": true,
     "schema_version": 3,
     "solution": false,
     "task": false
    },
    "tags": []
   },
   "source": [
    "## Task 0 ~ 0P"
   ]
  },
  {
   "cell_type": "markdown",
   "metadata": {
    "tags": []
   },
   "source": [
    "__Task 0 is only relevant for the homework.__"
   ]
  },
  {
   "cell_type": "markdown",
   "metadata": {
    "deletable": false,
    "editable": false,
    "nbgrader": {
     "cell_type": "markdown",
     "checksum": "5d4cef5c9a404a5516183e6ce9bf2128",
     "grade": false,
     "grade_id": "cell-6eca7b6c6c224dde",
     "locked": true,
     "schema_version": 3,
     "solution": false,
     "task": false
    }
   },
   "source": [
    "##### a) Please enter your group number"
   ]
  },
  {
   "cell_type": "markdown",
   "metadata": {
    "deletable": false,
    "nbgrader": {
     "cell_type": "markdown",
     "checksum": "75470a4986487fdb40d73fa368335c95",
     "grade": true,
     "grade_id": "cell-cccfbf605a28a18a",
     "locked": false,
     "points": 0,
     "schema_version": 3,
     "solution": true,
     "task": false
    }
   },
   "source": [
    "YOUR ANSWER HERE"
   ]
  },
  {
   "cell_type": "markdown",
   "metadata": {
    "deletable": false,
    "editable": false,
    "nbgrader": {
     "cell_type": "markdown",
     "checksum": "598d6cf4c2479bdece15fdcc41407ade",
     "grade": false,
     "grade_id": "cell-2ed8ca1b9e5204c3",
     "locked": true,
     "schema_version": 3,
     "solution": false,
     "task": false
    }
   },
   "source": [
    "_**Regarding types, documentation, and output:**_\n",
    "\n",
    "_We tried to make the description of the parameters as clear as possible. However, if you believe that something is missing, please reach out to us in Moodle. We provide type hints for the function parameters and return values of the functions that you have to implement. These are suggestions only, and you may use different types if you prefer._\n",
    "\n",
    "_Nevertheless, your code must use the provided method stubs and parameters. Furthermore, make sure that your code runs without errors and in a reasonable amount of time, for example by using \"Kernel/Restart & Run All\" before submitting._\n",
    "\n",
    "_Please use comments where appropriate to help the tutors understand your code. This is especially important for the more extensive exercises later on. Finally, please pay attention to how you output the results. We highly recommend using `display(df)` for displaying data frames._\n",
    "\n",
    "_**Please only modify the template in the specified markdown and code cells (e.g. YOUR CODE / ANSWER / IMPORTS HERE). Some cells are left blank on purpose. Please do not modify these cells, because they are used to autograde your submission. If these cells are modified, the automatic grading for your submission will fail and we might deduct points. Please do not modify the cells containing public and private tests. If you want to do your own tests, please use the code cell containing your code solution (YOUR CODE HERE).**_"
   ]
  },
  {
   "cell_type": "markdown",
   "metadata": {},
   "source": [
    "---"
   ]
  },
  {
   "cell_type": "markdown",
   "metadata": {
    "tags": []
   },
   "source": [
    "# Tutorial 1"
   ]
  },
  {
   "cell_type": "markdown",
   "metadata": {},
   "source": [
    "# Theory"
   ]
  },
  {
   "cell_type": "markdown",
   "metadata": {
    "deletable": false,
    "editable": false,
    "nbgrader": {
     "cell_type": "markdown",
     "checksum": "22070bbe62338ffdb05f2160bad173b9",
     "grade": false,
     "grade_id": "cell-858e5bbf89d0a75a",
     "locked": true,
     "schema_version": 3,
     "solution": false,
     "task": false
    },
    "tags": []
   },
   "source": [
    "### Tokenization"
   ]
  },
  {
   "cell_type": "markdown",
   "metadata": {
    "deletable": false,
    "editable": false,
    "nbgrader": {
     "cell_type": "markdown",
     "checksum": "b4bc4d8776c0c08f8e2afd19c205a38c",
     "grade": false,
     "grade_id": "cell-f4359e7344144821",
     "locked": true,
     "schema_version": 3,
     "solution": false,
     "task": false
    },
    "tags": []
   },
   "source": [
    "Next, we will describe and show some tokenization ambiguity.\n",
    "We will present some sentence examples that should be tokenized."
   ]
  },
  {
   "cell_type": "markdown",
   "metadata": {
    "tags": []
   },
   "source": [
    "1. Let's meet at 2:30 pm"
   ]
  },
  {
   "cell_type": "markdown",
   "metadata": {
    "deletable": false,
    "nbgrader": {
     "cell_type": "markdown",
     "checksum": "93809d9171d3376e773d4f32ac108ea5",
     "grade": true,
     "grade_id": "cell-980e74383a58141e",
     "locked": false,
     "points": 0,
     "schema_version": 3,
     "solution": true,
     "task": false
    },
    "tags": []
   },
   "source": [
    "YOUR ANSWER HERE"
   ]
  },
  {
   "cell_type": "markdown",
   "metadata": {},
   "source": [
    "2. He's a 6-foot-tall basketball player."
   ]
  },
  {
   "cell_type": "markdown",
   "metadata": {
    "deletable": false,
    "nbgrader": {
     "cell_type": "markdown",
     "checksum": "02bebf0b1698ca37d44b28d0ce342cc4",
     "grade": true,
     "grade_id": "cell-0bb7655db94756b7",
     "locked": false,
     "points": 0,
     "schema_version": 3,
     "solution": true,
     "task": false
    },
    "tags": []
   },
   "source": [
    "YOUR ANSWER HERE"
   ]
  },
  {
   "cell_type": "markdown",
   "metadata": {
    "deletable": false,
    "editable": false,
    "nbgrader": {
     "cell_type": "markdown",
     "checksum": "bff7f28dbd5420e3abe70627ebc166e0",
     "grade": false,
     "grade_id": "cell-9246ee9c9d50395d",
     "locked": true,
     "schema_version": 3,
     "solution": false,
     "task": false
    },
    "tags": []
   },
   "source": [
    "### Stemming and Lemmatization"
   ]
  },
  {
   "cell_type": "markdown",
   "metadata": {
    "deletable": false,
    "editable": false,
    "nbgrader": {
     "cell_type": "markdown",
     "checksum": "55b294c71f4efb33fb39ede9bbdcc9b9",
     "grade": false,
     "grade_id": "cell-928c18b62d695fa7",
     "locked": true,
     "schema_version": 3,
     "solution": false,
     "task": false
    },
    "tags": []
   },
   "source": [
    "In this task, we would like to dive and gain deeper understanding the difference between stemming and lemmatization. Please give each word after stemming and lemmatization"
   ]
  },
  {
   "cell_type": "markdown",
   "metadata": {
    "deletable": false,
    "editable": false,
    "nbgrader": {
     "cell_type": "markdown",
     "checksum": "c35c0ed382faf8e100b9e792b041c6a2",
     "grade": false,
     "grade_id": "cell-4cfcb9fdd036229f",
     "locked": true,
     "schema_version": 3,
     "solution": false,
     "task": false
    },
    "tags": []
   },
   "source": [
    "1. Caring "
   ]
  },
  {
   "cell_type": "markdown",
   "metadata": {
    "deletable": false,
    "nbgrader": {
     "cell_type": "markdown",
     "checksum": "0f8423b7178a227d3dcf29f3cd0e5b0d",
     "grade": true,
     "grade_id": "cell-94b2a2e48d7bfccd",
     "locked": false,
     "points": 0,
     "schema_version": 3,
     "solution": true,
     "task": false
    },
    "tags": []
   },
   "source": [
    "YOUR ANSWER HERE"
   ]
  },
  {
   "cell_type": "markdown",
   "metadata": {
    "deletable": false,
    "editable": false,
    "nbgrader": {
     "cell_type": "markdown",
     "checksum": "b61ee0f6eeafc98325c0489b161f4455",
     "grade": false,
     "grade_id": "cell-69afca0337b08784",
     "locked": true,
     "schema_version": 3,
     "solution": false,
     "task": false
    },
    "tags": []
   },
   "source": [
    "2. Meanness"
   ]
  },
  {
   "cell_type": "markdown",
   "metadata": {
    "deletable": false,
    "nbgrader": {
     "cell_type": "markdown",
     "checksum": "83fa46b4683f6436d56b17765ae19f9f",
     "grade": true,
     "grade_id": "cell-7ffdba2519e0f6bb",
     "locked": false,
     "points": 0,
     "schema_version": 3,
     "solution": true,
     "task": false
    },
    "tags": []
   },
   "source": [
    "YOUR ANSWER HERE"
   ]
  },
  {
   "cell_type": "markdown",
   "metadata": {
    "deletable": false,
    "editable": false,
    "nbgrader": {
     "cell_type": "markdown",
     "checksum": "9de38c15eec558f1ed87ad4afab6841b",
     "grade": false,
     "grade_id": "cell-b3e185c1a7b36dfb",
     "locked": true,
     "schema_version": 3,
     "solution": false,
     "task": false
    },
    "tags": []
   },
   "source": [
    "3. Better"
   ]
  },
  {
   "cell_type": "markdown",
   "metadata": {
    "deletable": false,
    "nbgrader": {
     "cell_type": "markdown",
     "checksum": "644122a87285e258196c732af5080ab8",
     "grade": true,
     "grade_id": "cell-5335d0d9869fe89a",
     "locked": false,
     "points": 0,
     "schema_version": 3,
     "solution": true,
     "task": false
    },
    "tags": []
   },
   "source": [
    "YOUR ANSWER HERE"
   ]
  },
  {
   "cell_type": "markdown",
   "metadata": {},
   "source": [
    "# Numpy and Pandas"
   ]
  },
  {
   "cell_type": "markdown",
   "metadata": {
    "tags": []
   },
   "source": [
    "## Now is the turn for some Numpy insights\n",
    "Numpy is a python library for mathematical purposes and with good support for vectors and matrices. A library can be loaded into your file using the *import* instruction. We can define an abbreviation for used libraries, so that we do not need to type the full name."
   ]
  },
  {
   "cell_type": "code",
   "execution_count": null,
   "metadata": {
    "ExecuteTime": {
     "end_time": "2023-02-05T20:38:11.924501Z",
     "start_time": "2023-02-05T20:38:11.849001Z"
    }
   },
   "outputs": [],
   "source": [
    "import numpy as np\n",
    "\n",
    "a = np.arange(15)\n",
    "print(a)"
   ]
  },
  {
   "cell_type": "code",
   "execution_count": null,
   "metadata": {
    "ExecuteTime": {
     "end_time": "2023-02-05T20:38:12.395142Z",
     "start_time": "2023-02-05T20:38:12.388423Z"
    }
   },
   "outputs": [],
   "source": [
    "a = a.reshape(5,3)\n",
    "print(a)"
   ]
  },
  {
   "cell_type": "markdown",
   "metadata": {},
   "source": [
    "### Basics\n",
    "The main object of numpy is the homogeneous multidimensional array. It is a table of elements of the same type, indexed by non-negative integers. \n",
    "\n",
    "Numpy's array class is called ndarray. An array of the type ndarray has several attributes: ndim, shape, size, dtype are the most important ones.\n",
    "\n",
    "__Question__: What is actually the difference between them? Discuss this with your neighbor."
   ]
  },
  {
   "cell_type": "code",
   "execution_count": null,
   "metadata": {
    "ExecuteTime": {
     "end_time": "2022-10-23T21:33:12.803601Z",
     "start_time": "2022-10-23T21:33:12.799573Z"
    }
   },
   "outputs": [],
   "source": [
    "print(f\"dimension in a is: {a.ndim}\")\n",
    "print(f\"shape of a is: {a.shape}\")\n",
    "print(f\"size of a is: {a.size}\")\n",
    "print(f\"type of a: {a.dtype}\")"
   ]
  },
  {
   "cell_type": "markdown",
   "metadata": {},
   "source": [
    "### Creation\n",
    "There are several ways to create a ndarray. To explore them have a look at https://numpy.org/doc/stable/user/quickstart.html. This easiest way is to use np.array:"
   ]
  },
  {
   "cell_type": "code",
   "execution_count": null,
   "metadata": {
    "ExecuteTime": {
     "end_time": "2022-10-23T22:40:41.137741Z",
     "start_time": "2022-10-23T22:40:41.134595Z"
    }
   },
   "outputs": [],
   "source": [
    "b = np.array([2,3,5])\n",
    "print(b)"
   ]
  },
  {
   "cell_type": "code",
   "execution_count": null,
   "metadata": {
    "ExecuteTime": {
     "end_time": "2022-10-23T22:40:41.312611Z",
     "start_time": "2022-10-23T22:40:41.309407Z"
    }
   },
   "outputs": [],
   "source": [
    "c = np.array([[1,2,3],[4,5,6]])\n",
    "print(c)"
   ]
  },
  {
   "cell_type": "markdown",
   "metadata": {},
   "source": [
    "It creates a ndarray with the passed Python list and automatically selects the dtype (dont forget the brackets [], this function expects a single Python list as argument). We saw another way to create a numpy array above: *arange()*. \n",
    "\n",
    "__Task 1__: Define numpy arrays, containing 10 Zeros, 10 Ones and 10 Fives. (Note: There are more than one solutions)"
   ]
  },
  {
   "cell_type": "code",
   "execution_count": null,
   "metadata": {
    "ExecuteTime": {
     "end_time": "2023-02-05T20:43:31.627816Z",
     "start_time": "2023-02-05T20:43:31.618288Z"
    },
    "deletable": false,
    "nbgrader": {
     "cell_type": "code",
     "checksum": "5bb614a724f03d002c91dcef8392767f",
     "grade": false,
     "grade_id": "cell-0ad9718d9f0c359f",
     "locked": false,
     "schema_version": 3,
     "solution": true,
     "task": false
    }
   },
   "outputs": [],
   "source": [
    "# Define numpy arrays, containing 10 Zeros, 10 Ones and 10 Fives. (Note: There are more than one solutions)\n",
    "result = np.array([])\n",
    "\n",
    "# YOUR CODE HERE\n",
    "raise NotImplementedError()"
   ]
  },
  {
   "cell_type": "code",
   "execution_count": null,
   "metadata": {
    "ExecuteTime": {
     "end_time": "2023-02-05T20:45:10.399132Z",
     "start_time": "2023-02-05T20:45:10.392316Z"
    },
    "deletable": false,
    "editable": false,
    "nbgrader": {
     "cell_type": "code",
     "checksum": "86496a90bf407740364844bda7939842",
     "grade": true,
     "grade_id": "cell-c876b0f21281b817",
     "locked": true,
     "points": 0,
     "schema_version": 3,
     "solution": false,
     "task": false
    }
   },
   "outputs": [],
   "source": [
    "# Test\n",
    "assert np.count_nonzero(result == 0) == 10\n",
    "assert np.count_nonzero(result == 1) == 10\n",
    "assert np.count_nonzero(result == 5) == 10"
   ]
  },
  {
   "cell_type": "markdown",
   "metadata": {},
   "source": [
    "If an array is too large to be printed, NumPy automatically skips the central part of the array and only prints the corners:"
   ]
  },
  {
   "cell_type": "code",
   "execution_count": null,
   "metadata": {
    "ExecuteTime": {
     "end_time": "2023-02-05T20:45:16.575554Z",
     "start_time": "2023-02-05T20:45:16.544889Z"
    }
   },
   "outputs": [],
   "source": [
    "print(np.arange(10000))"
   ]
  },
  {
   "cell_type": "markdown",
   "metadata": {},
   "source": [
    "To disable this behaviour and force NumPy to print the entire array, you can change the printing options using set_printoptions."
   ]
  },
  {
   "cell_type": "code",
   "execution_count": null,
   "metadata": {
    "ExecuteTime": {
     "end_time": "2023-02-05T20:45:18.203659Z",
     "start_time": "2023-02-05T20:45:18.197471Z"
    }
   },
   "outputs": [],
   "source": [
    "import sys\n",
    "np.set_printoptions(threshold=sys.maxsize)  "
   ]
  },
  {
   "cell_type": "markdown",
   "metadata": {},
   "source": [
    "### Basic Operations\n",
    "We can also use the ordinary mathematical operations on vectors, i.e. Numpy-arrays. But the vectors must have the correct shape and be of the same type (in some cases casts are possible)."
   ]
  },
  {
   "cell_type": "code",
   "execution_count": null,
   "metadata": {
    "ExecuteTime": {
     "end_time": "2023-02-05T20:45:20.095522Z",
     "start_time": "2023-02-05T20:45:20.089574Z"
    }
   },
   "outputs": [],
   "source": [
    "a = np.array([10, 20, 30, 40])\n",
    "b = np.arange(4)"
   ]
  },
  {
   "cell_type": "code",
   "execution_count": null,
   "metadata": {
    "ExecuteTime": {
     "end_time": "2023-02-05T20:45:20.430528Z",
     "start_time": "2023-02-05T20:45:20.423841Z"
    }
   },
   "outputs": [],
   "source": [
    "print(a)\n",
    "print(b)"
   ]
  },
  {
   "cell_type": "code",
   "execution_count": null,
   "metadata": {
    "ExecuteTime": {
     "end_time": "2023-02-05T20:45:20.856789Z",
     "start_time": "2023-02-05T20:45:20.850614Z"
    }
   },
   "outputs": [],
   "source": [
    "print(a + b)"
   ]
  },
  {
   "cell_type": "code",
   "execution_count": null,
   "metadata": {
    "ExecuteTime": {
     "end_time": "2023-02-05T20:45:21.946657Z",
     "start_time": "2023-02-05T20:45:21.938184Z"
    }
   },
   "outputs": [],
   "source": [
    "print(a - b)"
   ]
  },
  {
   "cell_type": "markdown",
   "metadata": {},
   "source": [
    "__Question__: What is the difference between the following instructions? Discuss this with your neighbor."
   ]
  },
  {
   "cell_type": "code",
   "execution_count": null,
   "metadata": {
    "ExecuteTime": {
     "end_time": "2023-02-05T20:45:22.634571Z",
     "start_time": "2023-02-05T20:45:22.625969Z"
    }
   },
   "outputs": [],
   "source": [
    "print(a * 2)\n",
    "print(a * b)\n",
    "print(a.dot(b))"
   ]
  },
  {
   "cell_type": "markdown",
   "metadata": {},
   "source": [
    "__Task 2__: Define one function, that expects a numpy-matrix and results the sum of all elements in this matrix, the sum of each columns as well as the sum of each row (each as vector). The result for<br>\n",
    "[[1, 2, 3],<br>\n",
    "[4, 5, 6],<br>\n",
    "[7, 8, 9]]<br>\n",
    "should be 45, [12, 15, 18], [6, 15, 24]. (Hint: *np.sum()*)"
   ]
  },
  {
   "cell_type": "code",
   "execution_count": null,
   "metadata": {
    "ExecuteTime": {
     "end_time": "2023-02-05T20:53:34.032659Z",
     "start_time": "2023-02-05T20:53:34.024157Z"
    },
    "deletable": false,
    "nbgrader": {
     "cell_type": "code",
     "checksum": "09453c14acfd9887aab80520876758ab",
     "grade": false,
     "grade_id": "cell-ee7b405d1f9a84aa",
     "locked": false,
     "schema_version": 3,
     "solution": true,
     "task": false
    }
   },
   "outputs": [],
   "source": [
    "matrix = np.array([[1, 2, 3],\n",
    "[4, 5, 6],\n",
    "[7, 8, 9]])\n",
    "def cal_sum(matrix):\n",
    "    result0 = 0\n",
    "    result1 = np.array([])\n",
    "    result2 = np.array([])\n",
    "    # YOUR CODE HERE\n",
    "    raise NotImplementedError()\n",
    "    return result0, result1, result2\n"
   ]
  },
  {
   "cell_type": "code",
   "execution_count": null,
   "metadata": {
    "ExecuteTime": {
     "end_time": "2023-02-05T20:53:34.503080Z",
     "start_time": "2023-02-05T20:53:34.494694Z"
    },
    "deletable": false,
    "editable": false,
    "nbgrader": {
     "cell_type": "code",
     "checksum": "156f246af883f54b62acaa55941d8619",
     "grade": true,
     "grade_id": "cell-26af0368f5cf5d06",
     "locked": true,
     "points": 0,
     "schema_version": 3,
     "solution": false,
     "task": false
    }
   },
   "outputs": [],
   "source": [
    "# Test\n",
    "result = cal_sum(matrix)\n",
    "assert result[0] == 45\n",
    "assert np.all(result[1] == np.array([12, 15, 18]))\n",
    "assert np.all(result[2] == np.array([6, 15, 24]))"
   ]
  },
  {
   "cell_type": "markdown",
   "metadata": {},
   "source": [
    "### Indexing\n",
    "After creating an array, we can still assign values to specific positions in the array:"
   ]
  },
  {
   "cell_type": "code",
   "execution_count": null,
   "metadata": {
    "ExecuteTime": {
     "end_time": "2023-02-05T20:52:23.292571Z",
     "start_time": "2023-02-05T20:52:23.283962Z"
    }
   },
   "outputs": [],
   "source": [
    "a = np.zeros(10)\n",
    "a[5] = 1\n",
    "print(a)"
   ]
  },
  {
   "cell_type": "markdown",
   "metadata": {},
   "source": [
    "For an array with multiple dimensions, the first brackets accesses the corresponding row. To change a value, we must specify which element of that row you want to change:"
   ]
  },
  {
   "cell_type": "code",
   "execution_count": null,
   "metadata": {
    "ExecuteTime": {
     "end_time": "2023-02-05T20:52:25.855777Z",
     "start_time": "2023-02-05T20:52:25.848191Z"
    }
   },
   "outputs": [],
   "source": [
    "a = a.reshape(2,5)\n",
    "print(a)\n",
    "a[1][4] = 5\n",
    "print(a)"
   ]
  },
  {
   "cell_type": "markdown",
   "metadata": {},
   "source": [
    "We can easily index the last element of an array with the index -1:"
   ]
  },
  {
   "cell_type": "code",
   "execution_count": null,
   "metadata": {
    "ExecuteTime": {
     "end_time": "2023-02-05T20:52:27.058828Z",
     "start_time": "2023-02-05T20:52:27.051055Z"
    }
   },
   "outputs": [],
   "source": [
    "print(a[-1])"
   ]
  },
  {
   "cell_type": "markdown",
   "metadata": {},
   "source": [
    "We can also assign whole columns:"
   ]
  },
  {
   "cell_type": "code",
   "execution_count": null,
   "metadata": {
    "ExecuteTime": {
     "end_time": "2023-02-05T20:52:30.916783Z",
     "start_time": "2023-02-05T20:52:30.908070Z"
    }
   },
   "outputs": [],
   "source": [
    "a[:,3] = 1000\n",
    "print(a)"
   ]
  },
  {
   "cell_type": "markdown",
   "metadata": {},
   "source": [
    "__Task 3__: We want the first row of 'a' to contain '2'."
   ]
  },
  {
   "cell_type": "code",
   "execution_count": null,
   "metadata": {
    "ExecuteTime": {
     "end_time": "2023-02-05T20:54:54.196958Z",
     "start_time": "2023-02-05T20:54:54.191529Z"
    },
    "deletable": false,
    "nbgrader": {
     "cell_type": "code",
     "checksum": "3f78abef31b6b62e105c28608b192709",
     "grade": false,
     "grade_id": "cell-8119411d42765262",
     "locked": false,
     "schema_version": 3,
     "solution": true,
     "task": false
    }
   },
   "outputs": [],
   "source": [
    "# YOUR CODE HERE\n",
    "raise NotImplementedError()"
   ]
  },
  {
   "cell_type": "code",
   "execution_count": null,
   "metadata": {
    "ExecuteTime": {
     "end_time": "2023-02-05T20:55:07.160602Z",
     "start_time": "2023-02-05T20:55:07.154209Z"
    },
    "deletable": false,
    "editable": false,
    "nbgrader": {
     "cell_type": "code",
     "checksum": "26af8db33fc1e9cc95c835b0d7c82c84",
     "grade": true,
     "grade_id": "cell-92dea5e1ef446e3f",
     "locked": true,
     "points": 0,
     "schema_version": 3,
     "solution": false,
     "task": false
    }
   },
   "outputs": [],
   "source": [
    "# Test\n",
    "assert np.any(a[0]==2)"
   ]
  },
  {
   "cell_type": "markdown",
   "metadata": {},
   "source": [
    "__Task 4__: Compute the following matrix multiplications: A \\* B and B \\* A. What is the result of using the ordinary multiplication operator and what do we have to change for using the multiplication operator? (Hint: *array.reshape()*) "
   ]
  },
  {
   "cell_type": "code",
   "execution_count": null,
   "metadata": {
    "ExecuteTime": {
     "end_time": "2023-02-05T20:59:57.449447Z",
     "start_time": "2023-02-05T20:59:57.441103Z"
    }
   },
   "outputs": [],
   "source": [
    "A = a\n",
    "B = np.ones(10)\n",
    "\n",
    "A.shape"
   ]
  },
  {
   "cell_type": "code",
   "execution_count": null,
   "metadata": {
    "ExecuteTime": {
     "end_time": "2023-02-05T21:01:34.459021Z",
     "start_time": "2023-02-05T21:01:34.450878Z"
    },
    "deletable": false,
    "nbgrader": {
     "cell_type": "code",
     "checksum": "87bd869777a1eff035e64379fbd07359",
     "grade": false,
     "grade_id": "cell-fd99026548746552",
     "locked": false,
     "schema_version": 3,
     "solution": true,
     "task": false
    }
   },
   "outputs": [],
   "source": [
    "A = a\n",
    "B = np.ones(10)\n",
    "\n",
    "# Output a matrix shape like A\n",
    "result0 = np.zeros((2,5))\n",
    "# YOUR CODE HERE\n",
    "raise NotImplementedError()\n",
    "\n",
    "result1 = np.zeros(10)\n",
    "# Output a matrix shape like B\n",
    "# YOUR CODE HERE\n",
    "raise NotImplementedError()"
   ]
  },
  {
   "cell_type": "code",
   "execution_count": null,
   "metadata": {
    "ExecuteTime": {
     "end_time": "2023-02-05T21:01:48.128802Z",
     "start_time": "2023-02-05T21:01:48.122266Z"
    },
    "deletable": false,
    "editable": false,
    "nbgrader": {
     "cell_type": "code",
     "checksum": "201278ae516b81d8996732d837596f93",
     "grade": true,
     "grade_id": "cell-69d49b1f617f8cff",
     "locked": true,
     "points": 0,
     "schema_version": 3,
     "solution": false,
     "task": false
    }
   },
   "outputs": [],
   "source": [
    "# Test\n",
    "assert result0.shape == (2,5)\n",
    "assert result1.shape == (10,)"
   ]
  },
  {
   "cell_type": "markdown",
   "metadata": {},
   "source": [
    "__Task 5__:: Convert math formulars to numpy，for example sigmoid-function, and print the index which has the biggest value\n",
    "$$S(x) = \\frac{1}{1+e^{(-x)}}$$\n",
    "![avatar](https://upload.wikimedia.org/wikipedia/commons/thumb/5/53/Sigmoid-function-2.svg/2880px-Sigmoid-function-2.svg.png)"
   ]
  },
  {
   "cell_type": "code",
   "execution_count": null,
   "metadata": {
    "ExecuteTime": {
     "end_time": "2023-02-05T21:04:03.879321Z",
     "start_time": "2023-02-05T21:04:03.871677Z"
    },
    "deletable": false,
    "nbgrader": {
     "cell_type": "code",
     "checksum": "5ac48a51337f0f34633f2200ebcc0c7b",
     "grade": false,
     "grade_id": "cell-0659aeb889915377",
     "locked": false,
     "schema_version": 3,
     "solution": true,
     "task": false
    }
   },
   "outputs": [],
   "source": [
    "np.random.seed(0)\n",
    "a = np.random.rand(4)\n",
    "print(a)\n",
    "# YOUR CODE HERE\n",
    "raise NotImplementedError()"
   ]
  },
  {
   "cell_type": "markdown",
   "metadata": {},
   "source": [
    "For more informations about numpy have a look at the documentations and tutorials: https://numpy.org/doc/stable/user/quickstart.html"
   ]
  },
  {
   "cell_type": "markdown",
   "metadata": {
    "ExecuteTime": {
     "end_time": "2022-10-23T22:05:17.154349Z",
     "start_time": "2022-10-23T22:05:17.151759Z"
    }
   },
   "source": [
    "## Pandas"
   ]
  },
  {
   "cell_type": "markdown",
   "metadata": {
    "ExecuteTime": {
     "end_time": "2022-10-23T22:09:42.062072Z",
     "start_time": "2022-10-23T22:09:42.059518Z"
    }
   },
   "source": [
    "Pandas is a tool you will need frequently in this course. Dataframes, in particular, are used to structure the input and ouput text. Your task in this section is to understand what is going on, as you will need that in the homework exercise.\n"
   ]
  },
  {
   "cell_type": "code",
   "execution_count": null,
   "metadata": {
    "ExecuteTime": {
     "end_time": "2023-02-05T21:04:42.895515Z",
     "start_time": "2023-02-05T21:04:42.681704Z"
    }
   },
   "outputs": [],
   "source": [
    "import pandas as pd\n",
    "import numpy as np"
   ]
  },
  {
   "cell_type": "markdown",
   "metadata": {
    "ExecuteTime": {
     "end_time": "2022-10-23T22:11:58.732167Z",
     "start_time": "2022-10-23T22:11:58.729607Z"
    }
   },
   "source": [
    "### Creating Dataframes\n",
    "This first simple way to create and initialize a dataframe is to use a dictionary. Each key in the dictionary is a new column in the dataframe and each column has a different datatype:\n",
    "\n",
    "For better clarity use the *display()* function to print a dataframe.\n",
    "\n"
   ]
  },
  {
   "cell_type": "code",
   "execution_count": null,
   "metadata": {
    "ExecuteTime": {
     "end_time": "2023-02-05T21:04:43.550342Z",
     "start_time": "2023-02-05T21:04:43.521482Z"
    }
   },
   "outputs": [],
   "source": [
    "df = pd.DataFrame(\n",
    "    {\n",
    "        \"A\": 1.0,\n",
    "        \"B\": pd.Timestamp(\"20130102\"),\n",
    "        \"C\": pd.Series(1, index=list(range(4)), dtype=\"float32\"),\n",
    "        \"D\": np.array([3] * 4, dtype=\"int32\"),\n",
    "        \"E\": pd.Categorical([\"test\", \"train\", \"test\", \"train\"]),\n",
    "        \"F\": \"foo\",\n",
    "    }\n",
    ")\n",
    "display(df)\n",
    "print(f\"the type of df is: \\n{df.dtypes}\")"
   ]
  },
  {
   "cell_type": "markdown",
   "metadata": {},
   "source": [
    "We can also create an empty dataframe and specify only the column and row names:"
   ]
  },
  {
   "cell_type": "code",
   "execution_count": null,
   "metadata": {
    "ExecuteTime": {
     "end_time": "2023-02-05T21:04:44.577763Z",
     "start_time": "2023-02-05T21:04:44.564927Z"
    }
   },
   "outputs": [],
   "source": [
    "df = pd.DataFrame(columns=['Matrikelnummer', \"Email\", \"Address\"], index=range(10))\n",
    "df"
   ]
  },
  {
   "cell_type": "markdown",
   "metadata": {
    "ExecuteTime": {
     "end_time": "2022-10-23T22:12:53.423818Z",
     "start_time": "2022-10-23T22:12:53.421236Z"
    }
   },
   "source": [
    "Now we read a csv file and write it to a new dataframe for example purposes. We will get into more details later."
   ]
  },
  {
   "cell_type": "code",
   "execution_count": null,
   "metadata": {
    "ExecuteTime": {
     "end_time": "2023-02-05T21:04:45.258510Z",
     "start_time": "2023-02-05T21:04:45.232293Z"
    }
   },
   "outputs": [],
   "source": [
    "df = pd.read_csv(\"yelp_polarity.txt\", sep=\"\\t\", header=None)\n",
    "## we can use to_csv methond to save df as csv\n",
    "df.to_csv('df_test.csv', sep='\\t')\n",
    "display(df)"
   ]
  },
  {
   "cell_type": "markdown",
   "metadata": {},
   "source": [
    "### Viewing data"
   ]
  },
  {
   "cell_type": "markdown",
   "metadata": {
    "ExecuteTime": {
     "end_time": "2022-10-23T22:18:58.515172Z",
     "start_time": "2022-10-23T22:18:58.512493Z"
    }
   },
   "source": [
    "We can use *head()* and *tail()* to view the top and bottom rows of the frame respectively:"
   ]
  },
  {
   "cell_type": "code",
   "execution_count": null,
   "metadata": {
    "ExecuteTime": {
     "end_time": "2023-02-05T21:04:46.321761Z",
     "start_time": "2023-02-05T21:04:46.308191Z"
    }
   },
   "outputs": [],
   "source": [
    "df.head()"
   ]
  },
  {
   "cell_type": "code",
   "execution_count": null,
   "metadata": {
    "ExecuteTime": {
     "end_time": "2023-02-05T21:04:46.779297Z",
     "start_time": "2023-02-05T21:04:46.762837Z"
    }
   },
   "outputs": [],
   "source": [
    "df.tail()"
   ]
  },
  {
   "cell_type": "markdown",
   "metadata": {},
   "source": [
    "To get the column names and their types we can use the *columns* attribute:"
   ]
  },
  {
   "cell_type": "code",
   "execution_count": null,
   "metadata": {
    "ExecuteTime": {
     "end_time": "2023-02-05T21:05:37.383244Z",
     "start_time": "2023-02-05T21:05:37.375335Z"
    }
   },
   "outputs": [],
   "source": [
    "df.columns"
   ]
  },
  {
   "cell_type": "markdown",
   "metadata": {},
   "source": [
    "We also can use this attribut to rename the columns to make them easier to understand:"
   ]
  },
  {
   "cell_type": "code",
   "execution_count": null,
   "metadata": {
    "ExecuteTime": {
     "end_time": "2023-02-05T21:05:38.993827Z",
     "start_time": "2023-02-05T21:05:38.978082Z"
    }
   },
   "outputs": [],
   "source": [
    "df.columns= [\"Sentence\", \"Attitude\"]\n",
    "df"
   ]
  },
  {
   "cell_type": "markdown",
   "metadata": {},
   "source": [
    "### Getting/Selection elements of the dataframe"
   ]
  },
  {
   "cell_type": "markdown",
   "metadata": {},
   "source": [
    "To get the value of a column we can treat the dataframe like an array. The datatype of this column is a Pandas Series. You can find more information about this on their website."
   ]
  },
  {
   "cell_type": "code",
   "execution_count": null,
   "metadata": {
    "ExecuteTime": {
     "end_time": "2023-02-05T21:05:42.675726Z",
     "start_time": "2023-02-05T21:05:42.665040Z"
    }
   },
   "outputs": [],
   "source": [
    "column = df[\"Sentence\"]\n",
    "print(column) # also df.sentence\n",
    "print(f\"Type of the columns' value: {type(column)}\")"
   ]
  },
  {
   "cell_type": "markdown",
   "metadata": {},
   "source": [
    "We can also get 2 columns of a dataframe, but then we get a new dataframe instead of a series."
   ]
  },
  {
   "cell_type": "code",
   "execution_count": null,
   "metadata": {
    "ExecuteTime": {
     "end_time": "2023-02-05T21:05:45.078614Z",
     "start_time": "2023-02-05T21:05:45.057146Z"
    }
   },
   "outputs": [],
   "source": [
    "display(df[[\"Attitude\",\"Sentence\"]]) # also df.loc[:,[\"Attitude\",\"Sentence\"]]\n",
    "print(type(df[[\"Attitude\",\"Sentence\"]]))"
   ]
  },
  {
   "cell_type": "markdown",
   "metadata": {},
   "source": [
    "To get the row of a dataframe, we can define a range of indices that we want to have. For example, we want to see entries 100-120. The output of this is a new dataframe."
   ]
  },
  {
   "cell_type": "code",
   "execution_count": null,
   "metadata": {
    "ExecuteTime": {
     "end_time": "2023-02-05T21:05:45.951005Z",
     "start_time": "2023-02-05T21:05:45.939565Z"
    }
   },
   "outputs": [],
   "source": [
    "display(df[100:120])  # also df.loc[100:120,:] "
   ]
  },
  {
   "cell_type": "markdown",
   "metadata": {},
   "source": [
    "Notice that we don't change the original dataframe. We create a new one:"
   ]
  },
  {
   "cell_type": "code",
   "execution_count": null,
   "metadata": {
    "ExecuteTime": {
     "end_time": "2023-02-05T21:05:47.816352Z",
     "start_time": "2023-02-05T21:05:47.801521Z"
    }
   },
   "outputs": [],
   "source": [
    "display(df)"
   ]
  },
  {
   "cell_type": "markdown",
   "metadata": {},
   "source": [
    "If we want to have a specific entry by a row and a column, we can use this:\n",
    "\n",
    "Hint: We can use the column names (Sentence/Attitude) with the *loc()* function or the column indizes (0/1) with the *iloc()* function."
   ]
  },
  {
   "cell_type": "code",
   "execution_count": null,
   "metadata": {
    "ExecuteTime": {
     "end_time": "2023-02-05T21:05:48.814879Z",
     "start_time": "2023-02-05T21:05:48.805149Z"
    }
   },
   "outputs": [],
   "source": [
    "df.iloc[2,0]"
   ]
  },
  {
   "cell_type": "code",
   "execution_count": null,
   "metadata": {
    "ExecuteTime": {
     "end_time": "2023-02-05T21:05:49.239735Z",
     "start_time": "2023-02-05T21:05:49.229610Z"
    }
   },
   "outputs": [],
   "source": [
    "df.loc[2,\"Sentence\"]"
   ]
  },
  {
   "cell_type": "markdown",
   "metadata": {},
   "source": [
    "We can also use a boolean expression applied to the dataframe. In this example, we print which entries have an attitude greater than 0."
   ]
  },
  {
   "cell_type": "code",
   "execution_count": null,
   "metadata": {
    "ExecuteTime": {
     "end_time": "2023-02-05T21:05:50.876529Z",
     "start_time": "2023-02-05T21:05:50.865468Z"
    }
   },
   "outputs": [],
   "source": [
    "df[\"Attitude\"] > 0"
   ]
  },
  {
   "cell_type": "markdown",
   "metadata": {
    "ExecuteTime": {
     "end_time": "2022-10-23T22:41:16.165037Z",
     "start_time": "2022-10-23T22:41:16.160896Z"
    }
   },
   "source": [
    "If we want to get all entries that match this boolean expression, we can do it this way:"
   ]
  },
  {
   "cell_type": "code",
   "execution_count": null,
   "metadata": {
    "ExecuteTime": {
     "end_time": "2023-02-05T21:05:54.432385Z",
     "start_time": "2023-02-05T21:05:54.415840Z"
    }
   },
   "outputs": [],
   "source": [
    "df[df[\"Attitude\"] > 0]"
   ]
  },
  {
   "cell_type": "markdown",
   "metadata": {},
   "source": [
    "### Methods"
   ]
  },
  {
   "cell_type": "markdown",
   "metadata": {
    "deletable": false,
    "editable": false,
    "nbgrader": {
     "cell_type": "markdown",
     "checksum": "daf9f5def3b127e3fa7ef30aeef1b183",
     "grade": false,
     "grade_id": "cell-319bd82c54ee6f09",
     "locked": true,
     "schema_version": 3,
     "solution": false,
     "task": false
    },
    "tags": []
   },
   "source": [
    "# Theory"
   ]
  },
  {
   "cell_type": "markdown",
   "metadata": {},
   "source": [
    "We can use the *df.apply()* function to apply a function specified in the parameter to every entry in a specified column.\n",
    "\n",
    "__Task 6:__ use the *df.apply()* function to add 1 to the attitude of all entries. It needs a function as parameter. Use the documentation if you have problems."
   ]
  },
  {
   "cell_type": "code",
   "execution_count": null,
   "metadata": {
    "ExecuteTime": {
     "end_time": "2023-02-05T21:09:28.350629Z",
     "start_time": "2023-02-05T21:09:28.341021Z"
    },
    "deletable": false,
    "nbgrader": {
     "cell_type": "code",
     "checksum": "cccd501e9573d8c77e57030d35b5fcc7",
     "grade": false,
     "grade_id": "cell-4621d58d066e6e36",
     "locked": false,
     "schema_version": 3,
     "solution": true,
     "task": false
    }
   },
   "outputs": [],
   "source": [
    "# YOUR CODE HERE\n",
    "raise NotImplementedError()"
   ]
  },
  {
   "cell_type": "code",
   "execution_count": null,
   "metadata": {
    "ExecuteTime": {
     "end_time": "2023-02-05T21:09:36.561817Z",
     "start_time": "2023-02-05T21:09:36.554267Z"
    },
    "deletable": false,
    "editable": false,
    "nbgrader": {
     "cell_type": "code",
     "checksum": "5a64c1fc59374961eec1a374208815c3",
     "grade": true,
     "grade_id": "cell-918de04dfd269cbe",
     "locked": true,
     "points": 0,
     "schema_version": 3,
     "solution": false,
     "task": false
    }
   },
   "outputs": [],
   "source": [
    "# Test\n",
    "assert df[\"Attitude\"][0] == 2 "
   ]
  },
  {
   "cell_type": "markdown",
   "metadata": {},
   "source": [
    "## Text Processing\n",
    "\n",
    "Now let's go into how to extract information from a text. \n",
    "\n",
    "First we will import some packages that we need for our task and here we go!"
   ]
  },
  {
   "cell_type": "code",
   "execution_count": null,
   "metadata": {
    "ExecuteTime": {
     "end_time": "2023-02-05T21:09:42.023231Z",
     "start_time": "2023-02-05T21:09:41.671548Z"
    }
   },
   "outputs": [],
   "source": [
    "import pandas as pd\n",
    "import numpy as np\n",
    "from sklearn.feature_extraction.text import CountVectorizer"
   ]
  },
  {
   "cell_type": "markdown",
   "metadata": {},
   "source": [
    "Normally models do not process text but a numerical version of it. Therefore we need to vectorize our data. There are several ways of doing it, you might remember that from our previous presentation. Here are a couple of them:\n",
    "\n",
    "**Bag of words**: \n",
    "Let's imagine that we have four documents:\n",
    "\n",
    " 1. I like to eat pizza every day\n",
    " 2. I like to eat pasta every day\n",
    " 3. I do not like pizza\n",
    " 4. I do my homework every day\n",
    " \n",
    "__Task 7__: We want to list all words, that our documents consists of (i.e. the vocabulary).\n",
    "You can check the string function *split()* and the method *sorted()*."
   ]
  },
  {
   "cell_type": "code",
   "execution_count": null,
   "metadata": {
    "ExecuteTime": {
     "end_time": "2023-02-05T21:17:21.816379Z",
     "start_time": "2023-02-05T21:17:21.808725Z"
    }
   },
   "outputs": [],
   "source": [
    "corpus = [\n",
    "    'I like to eat pizza every day',\n",
    "    'I like to eat pasta every day',\n",
    "    'I do not like pizza',\n",
    "    'I do my homework every day'\n",
    "]"
   ]
  },
  {
   "cell_type": "code",
   "execution_count": null,
   "metadata": {
    "ExecuteTime": {
     "end_time": "2023-02-05T21:20:16.396235Z",
     "start_time": "2023-02-05T21:20:16.388994Z"
    },
    "deletable": false,
    "nbgrader": {
     "cell_type": "code",
     "checksum": "e286596702f133c1d2bb8668b6f611d3",
     "grade": false,
     "grade_id": "cell-d8543527d0efe686",
     "locked": false,
     "schema_version": 3,
     "solution": true,
     "task": false
    }
   },
   "outputs": [],
   "source": [
    "def extract_vocab(corpus):\n",
    "    result = []\n",
    "    # YOUR CODE HERE\n",
    "    raise NotImplementedError()\n",
    "    return result"
   ]
  },
  {
   "cell_type": "code",
   "execution_count": null,
   "metadata": {
    "ExecuteTime": {
     "end_time": "2023-02-05T21:20:17.440686Z",
     "start_time": "2023-02-05T21:20:17.433890Z"
    },
    "deletable": false,
    "editable": false,
    "nbgrader": {
     "cell_type": "code",
     "checksum": "d6116586c1ebed5eb8df86323fb69fc5",
     "grade": true,
     "grade_id": "cell-dae0232b78b1ac7f",
     "locked": true,
     "points": 0,
     "schema_version": 3,
     "solution": false,
     "task": false
    }
   },
   "outputs": [],
   "source": [
    "result = extract_vocab(corpus)\n",
    "assert result[0] == 'I'\n",
    "assert result[1] == 'day'\n",
    "assert result.count(result[0])==1"
   ]
  },
  {
   "cell_type": "markdown",
   "metadata": {},
   "source": [
    "Having the list, we can now write manually our bag of words for each document:\n",
    "\n",
    "1. [1, 1, 1, 1, 1, 0, 1, 0, 0, 0, 1, 0]\n",
    "2. [1, 1, 1, 1, 1, 0, 1, 0, 0, 1, 0, 0]\n",
    "3. [1, 0, 0, 0, 0, 0, 1, 0, 1, 0, 1, 0]\n",
    "4. [1, 1, 0, 0, 1, 1, 0, 1, 1, 0, 0, 1]\n",
    "\n",
    "And tada!! This are the vectors that we would feed in our model.\n",
    "\n",
    "An easier way to do this, is to use *CountVectorizer()*:"
   ]
  },
  {
   "cell_type": "code",
   "execution_count": null,
   "metadata": {
    "ExecuteTime": {
     "end_time": "2023-02-05T21:20:25.229263Z",
     "start_time": "2023-02-05T21:20:25.222506Z"
    }
   },
   "outputs": [],
   "source": [
    "corpus = [\n",
    "    'This is the first document.',\n",
    "    'This document is the second document.',\n",
    "    'And this is the third one.',\n",
    "    'Is this the first document?']"
   ]
  },
  {
   "cell_type": "code",
   "execution_count": null,
   "metadata": {
    "ExecuteTime": {
     "end_time": "2023-02-05T21:20:25.769904Z",
     "start_time": "2023-02-05T21:20:25.763720Z"
    }
   },
   "outputs": [],
   "source": [
    "count_vectorizer = CountVectorizer()\n",
    "X = count_vectorizer.fit_transform(corpus)\n",
    "print(count_vectorizer.get_feature_names_out())"
   ]
  },
  {
   "cell_type": "code",
   "execution_count": null,
   "metadata": {
    "ExecuteTime": {
     "end_time": "2023-02-05T21:20:26.639341Z",
     "start_time": "2023-02-05T21:20:26.632754Z"
    }
   },
   "outputs": [],
   "source": [
    "print(X.toarray())"
   ]
  },
  {
   "cell_type": "code",
   "execution_count": null,
   "metadata": {
    "ExecuteTime": {
     "end_time": "2023-02-05T21:20:27.273369Z",
     "start_time": "2023-02-05T21:20:27.263401Z"
    }
   },
   "outputs": [],
   "source": [
    "valid = [\"This is the third documents \"]\n",
    "count_vectorizer.transform(valid).toarray()"
   ]
  },
  {
   "cell_type": "markdown",
   "metadata": {},
   "source": [
    "## Reading and Writing Files\n",
    "\n",
    "There are several ways of processing files, the most common one is using the `open()` function."
   ]
  },
  {
   "cell_type": "code",
   "execution_count": null,
   "metadata": {
    "ExecuteTime": {
     "end_time": "2023-02-05T21:20:29.194408Z",
     "start_time": "2023-02-05T21:20:29.185890Z"
    }
   },
   "outputs": [],
   "source": [
    "my_file = open(\"yelp_polarity.txt\",\"r\")\n",
    "\n",
    "line_counter = 0\n",
    "\n",
    "for line in my_file:\n",
    "    print(line)\n",
    "    line_counter += 1\n",
    "    if line_counter >= 5:\n",
    "        break\n",
    "\n",
    "my_file.close()"
   ]
  },
  {
   "cell_type": "markdown",
   "metadata": {},
   "source": [
    "**Note**: when handling very big text files, keeping the whole data in the buffer would be counterproductive and inefficient, therefore it is important to learn how to read one line at a time."
   ]
  },
  {
   "cell_type": "code",
   "execution_count": null,
   "metadata": {
    "ExecuteTime": {
     "end_time": "2023-02-05T21:20:34.178259Z",
     "start_time": "2023-02-05T21:20:34.169241Z"
    }
   },
   "outputs": [],
   "source": [
    "with open(\"yelp_polarity.txt\") as my_file:\n",
    "    line_counter = 0\n",
    "\n",
    "    for line in my_file:\n",
    "        print(line)\n",
    "        line_counter += 1\n",
    "        if line_counter >= 5:\n",
    "            break"
   ]
  },
  {
   "cell_type": "markdown",
   "metadata": {},
   "source": [
    "As I said, if you have files in CVS format, you can read them with Pandas, which is a useful way to analyze your data."
   ]
  },
  {
   "cell_type": "code",
   "execution_count": null,
   "metadata": {
    "ExecuteTime": {
     "end_time": "2023-02-05T21:20:35.061851Z",
     "start_time": "2023-02-05T21:20:35.047780Z"
    }
   },
   "outputs": [],
   "source": [
    "dataframe = pd.read_csv(\"yelp_polarity.txt\", sep=\"\\t\", header=None)"
   ]
  },
  {
   "cell_type": "code",
   "execution_count": null,
   "metadata": {
    "ExecuteTime": {
     "end_time": "2023-02-05T21:20:35.471840Z",
     "start_time": "2023-02-05T21:20:35.457487Z"
    }
   },
   "outputs": [],
   "source": [
    "display(dataframe)"
   ]
  },
  {
   "cell_type": "markdown",
   "metadata": {},
   "source": [
    "__Task 8__: Now it's your turn to explore data using Pandas. How many classes do we have in this file and how many samples per class? Remember that the question mark (?) can be always very useful when you don't know the functions. Check the function `groupby` and `describe`."
   ]
  },
  {
   "cell_type": "code",
   "execution_count": null,
   "metadata": {
    "ExecuteTime": {
     "end_time": "2023-02-05T21:21:20.744111Z",
     "start_time": "2023-02-05T21:21:20.724642Z"
    },
    "deletable": false,
    "nbgrader": {
     "cell_type": "code",
     "checksum": "5f697a5fd26dfcedc2a92a063dcf3324",
     "grade": false,
     "grade_id": "cell-73c79b031ef58341",
     "locked": false,
     "schema_version": 3,
     "solution": true,
     "task": false
    }
   },
   "outputs": [],
   "source": [
    "# Check the function groupby and describe\n",
    "# YOUR CODE HERE\n",
    "raise NotImplementedError()"
   ]
  }
 ],
 "metadata": {
  "kernelspec": {
   "display_name": "nlp4web",
   "language": "python",
   "name": "nlp4web"
  },
  "language_info": {
   "codemirror_mode": {
    "name": "ipython",
    "version": 3
   },
   "file_extension": ".py",
   "mimetype": "text/x-python",
   "name": "python",
   "nbconvert_exporter": "python",
   "pygments_lexer": "ipython3",
   "version": "3.10.13"
  }
 },
 "nbformat": 4,
 "nbformat_minor": 4
}
