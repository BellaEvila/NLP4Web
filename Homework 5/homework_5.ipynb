{
 "cells": [
  {
   "cell_type": "markdown",
   "metadata": {
    "deletable": false,
    "editable": false,
    "nbgrader": {
     "cell_type": "markdown",
     "checksum": "da5064c9ed8cd1fec0f36b714c345b0b",
     "grade": false,
     "grade_id": "cell-4d87ae78fb4caf9c",
     "locked": true,
     "schema_version": 3,
     "solution": false,
     "task": false
    },
    "tags": []
   },
   "source": [
    "# NLP and the Web"
   ]
  },
  {
   "cell_type": "markdown",
   "metadata": {
    "deletable": false,
    "editable": false,
    "nbgrader": {
     "cell_type": "markdown",
     "checksum": "b1145e2ba69b3e56620106550f0984e0",
     "grade": false,
     "grade_id": "cell-8b531762670192f6",
     "locked": true,
     "schema_version": 3,
     "solution": false,
     "task": false
    },
    "tags": []
   },
   "source": [
    "## Task 0 ~ 0P"
   ]
  },
  {
   "cell_type": "markdown",
   "metadata": {
    "deletable": false,
    "editable": false,
    "nbgrader": {
     "cell_type": "markdown",
     "checksum": "5d4cef5c9a404a5516183e6ce9bf2128",
     "grade": false,
     "grade_id": "cell-6eca7b6c6c224dde",
     "locked": true,
     "schema_version": 3,
     "solution": false,
     "task": false
    }
   },
   "source": [
    "##### a) Please enter your group number"
   ]
  },
  {
   "cell_type": "markdown",
   "metadata": {
    "deletable": false,
    "nbgrader": {
     "cell_type": "markdown",
     "checksum": "75470a4986487fdb40d73fa368335c95",
     "grade": true,
     "grade_id": "cell-cccfbf605a28a18a",
     "locked": false,
     "points": 0,
     "schema_version": 3,
     "solution": true,
     "task": false
    }
   },
   "source": [
    "14"
   ]
  },
  {
   "cell_type": "markdown",
   "metadata": {
    "deletable": false,
    "editable": false,
    "nbgrader": {
     "cell_type": "markdown",
     "checksum": "a760dcd98f5ea360c504ee7fd50a4088",
     "grade": false,
     "grade_id": "cell-2ed8ca1b9e5204c3",
     "locked": true,
     "schema_version": 3,
     "solution": false,
     "task": false
    }
   },
   "source": [
    "_**Regarding types, documentation, and output:**_\n",
    "\n",
    "_We tried to make the description of the parameters as clear as possible. However, if you believe that something is missing, please reach out to us in Moodle. We provide type hints for the function parameters and return values of the functions that you have to implement._\n",
    "\n",
    "_Nevertheless, your code must use the provided method stubs and parameters. Furthermore, make sure that your code runs without errors and in a reasonable amount of time, for example by using \"Kernel/Restart & Run All\" before submitting._\n",
    "\n",
    "_Please use comments where appropriate to help the tutors understand your code. This is especially important for the more extensive exercises later on. Finally, please pay attention to how you output the results. We highly recommend using `display(df)` for displaying data frames._\n",
    "\n",
    "_**Please only modify the template in the specified markdown and code cells (e.g. YOUR CODE / ANSWER / IMPORTS HERE). If you add any extra cells, they wont be taken into account while grading!  Some cells are left blank on purpose. Please do not modify these cells, because they are used to autograde your submission. If these cells are modified, the automatic grading for your submission will fail and we might deduct points. Please do not modify the cells containing public and private tests. If you want to do your own tests, please use the code cell containing your code solution (YOUR CODE HERE).**_"
   ]
  },
  {
   "cell_type": "markdown",
   "metadata": {},
   "source": [
    "---"
   ]
  },
  {
   "cell_type": "markdown",
   "metadata": {
    "deletable": false,
    "editable": false,
    "nbgrader": {
     "cell_type": "markdown",
     "checksum": "47bc61ebae9bdcf73f7d3b5239e7fdac",
     "grade": false,
     "grade_id": "cell-4d87ae78fb4caf9d",
     "locked": true,
     "schema_version": 3,
     "solution": false,
     "task": false
    },
    "tags": []
   },
   "source": [
    "#  Home Exercise 5"
   ]
  },
  {
   "cell_type": "markdown",
   "metadata": {
    "deletable": false,
    "editable": false,
    "nbgrader": {
     "cell_type": "markdown",
     "checksum": "3a75a8dd97ac24bd1fe7356bb5051830",
     "grade": false,
     "grade_id": "cell-e69442a7dc08d8ff",
     "locked": true,
     "schema_version": 3,
     "solution": false,
     "task": false
    },
    "tags": []
   },
   "source": [
    "# Imports"
   ]
  },
  {
   "cell_type": "code",
   "execution_count": 1,
   "metadata": {
    "deletable": false,
    "editable": false,
    "nbgrader": {
     "cell_type": "code",
     "checksum": "85d7e0333b7cdc759edb8e78f4af0670",
     "grade": false,
     "grade_id": "cell-5e9358cbfb48b314",
     "locked": true,
     "schema_version": 3,
     "solution": false,
     "task": false
    },
    "tags": []
   },
   "outputs": [],
   "source": [
    "import numpy as np\n",
    "from typing import Tuple, List\n",
    "import numpy.typing as npt\n",
    "import matplotlib.pyplot as plt"
   ]
  },
  {
   "cell_type": "markdown",
   "metadata": {
    "deletable": false,
    "editable": false,
    "nbgrader": {
     "cell_type": "markdown",
     "checksum": "7fe728803cac836793366bab74e658eb",
     "grade": false,
     "grade_id": "cell-4fb173363b87fa48",
     "locked": true,
     "schema_version": 3,
     "solution": false,
     "task": false
    },
    "tags": []
   },
   "source": [
    "## Task 1: Neural Network from scratch ~ 10P"
   ]
  },
  {
   "cell_type": "markdown",
   "metadata": {
    "deletable": false,
    "editable": false,
    "nbgrader": {
     "cell_type": "markdown",
     "checksum": "0bb11abd30a4e157195033d2758c0b71",
     "grade": false,
     "grade_id": "cell-8b9e11b86587a53c",
     "locked": true,
     "schema_version": 3,
     "solution": false,
     "task": false
    },
    "tags": []
   },
   "source": [
    "**a) What is a Perceptron and what are the tasks of the 5 different components? (1P)**"
   ]
  },
  {
   "cell_type": "markdown",
   "metadata": {
    "deletable": false,
    "nbgrader": {
     "cell_type": "markdown",
     "checksum": "3440fd200a121129e056a6e0f3385c66",
     "grade": true,
     "grade_id": "cell-b61af27cdc9fc324",
     "locked": false,
     "points": 1,
     "schema_version": 3,
     "solution": true,
     "task": false
    },
    "tags": []
   },
   "source": [
    "A Perceptron is a simple single layer neural netwoork that can be used for classification. It can be used for more complex neural networks.\n",
    "\n",
    "1.) Inputs: As inputs we use features of the data points we want to classify. \n",
    "2.) Weights and Biases: The weights are used to multiply the inputs with. They are used to adjust the importance of the inputs by scaling them. The bias is used to adjust the output of the perceptron. It is added to the weighted sum of the inputs.\n",
    "3.) Weighted Sum: The weighted sum is the sum of the inputs multiplied with the weights. It is used as input for the activation function.\n",
    "4.) Activation Function: The activation function is normally used to map the weighted sum to a value between 0 and 1. In the case of the perceptron a step function is used, resulting in either 0 or 1 as output.\n",
    "5.) Output: The output is the result of the activation function. It is used to classify the data point.\n"
   ]
  },
  {
   "cell_type": "markdown",
   "metadata": {
    "deletable": false,
    "editable": false,
    "nbgrader": {
     "cell_type": "markdown",
     "checksum": "b24e4dfc6728c0e22e2a9d46d91cd83e",
     "grade": false,
     "grade_id": "cell-00fea53a9accf127",
     "locked": true,
     "schema_version": 3,
     "solution": false,
     "task": false
    },
    "tags": []
   },
   "source": [
    "**b) Which activation functions do you know besides the ReLU (name at least 3) and explain the inputs / outputs of one of those? (1.5P)**"
   ]
  },
  {
   "cell_type": "markdown",
   "metadata": {
    "deletable": false,
    "nbgrader": {
     "cell_type": "markdown",
     "checksum": "a33ae8b3cbc47ee171fe96f101f5b74d",
     "grade": true,
     "grade_id": "cell-0afb53fc3ad6f345",
     "locked": false,
     "points": 1.5,
     "schema_version": 3,
     "solution": true,
     "task": false
    },
    "tags": []
   },
   "source": [
    "1.) Tanh: The tanh function is a sigmoid function. It maps the input to a value between -1 and 1. It is used to normalize the data. The output is 0 for an input of 0. The output is 1 for a large positive input and -1 for a large negative input.\n",
    "2.) Sigmoind: The sigmoid function maps the input to a value between 0 and 1. It is used to normalize the data. The output is 0.5 for an input of 0. The output is 1 for a large positive input and 0 for a large negative input.\n",
    "3.) Softmax: The softmax function maps the input to a value between 0 and 1. It is used to normalize the data. The output is 0 for an input of 0. The output is 1 for a large positive input and 0 for a large negative input."
   ]
  },
  {
   "cell_type": "markdown",
   "metadata": {
    "deletable": false,
    "editable": false,
    "nbgrader": {
     "cell_type": "markdown",
     "checksum": "5fe826f3a01d867bf08cc4e8a85d29dd",
     "grade": false,
     "grade_id": "cell-474539096c395ac8",
     "locked": true,
     "schema_version": 3,
     "solution": false,
     "task": false
    },
    "tags": []
   },
   "source": [
    "**c) Implement the ReLU activation function and its derivative. (2P)**\n",
    "\n",
    "*Note:* The ReLU (Rectified Linear Unit) function is a piecewise linear function which is very similar to the linear activation function that you know from lecture 2 page 30. The difference between these two is that ReLU cuts of the negative value and sets them to zero. $$\\text{ReLU}(x) = \\begin{cases} x, & \\text{if } x > 0 \\\\ 0, & \\text{if } x \\le 0 \\end{cases} $$"
   ]
  },
  {
   "cell_type": "code",
   "execution_count": null,
   "metadata": {
    "deletable": false,
    "nbgrader": {
     "cell_type": "code",
     "checksum": "40931a5e1582103d01be3057c6309f04",
     "grade": true,
     "grade_id": "cell-59f29cac5e1ab452",
     "locked": false,
     "points": 0,
     "schema_version": 3,
     "solution": true,
     "task": false
    },
    "tags": []
   },
   "outputs": [],
   "source": [
    "def relu(z: npt.NDArray[np.float64]) -> npt.NDArray[np.float64]:\n",
    "    '''\n",
    "    Input: \n",
    "        z: floating point vector to which you want to apply the ReLU activation function\n",
    "\n",
    "    Output:\n",
    "        Output a floating point vector that has the same shape as z but with the activated values\n",
    "    '''\n",
    "    return np.maximum(z, 0)"
   ]
  },
  {
   "cell_type": "code",
   "execution_count": null,
   "metadata": {
    "deletable": false,
    "editable": false,
    "nbgrader": {
     "cell_type": "code",
     "checksum": "d2e2fc955e90733b12b23afd25a39447",
     "grade": false,
     "grade_id": "cell-b5dc2659cbb5bdc6",
     "locked": true,
     "schema_version": 3,
     "solution": false,
     "task": false
    },
    "tags": []
   },
   "outputs": [],
   "source": [
    "relu(np.array([1,-1]))"
   ]
  },
  {
   "cell_type": "code",
   "execution_count": null,
   "metadata": {
    "deletable": false,
    "editable": false,
    "nbgrader": {
     "cell_type": "code",
     "checksum": "c4e9ffea2f91033d0b1f2fdac3dd56de",
     "grade": true,
     "grade_id": "cell-7cc5e0bafd23eda9",
     "locked": true,
     "points": 1,
     "schema_version": 3,
     "solution": false,
     "task": false
    },
    "tags": []
   },
   "outputs": [],
   "source": [
    "# These are some test cases for you to check your implementation\n",
    "assert((relu(np.array([1,-1])) == np.array([1,0])).all())\n",
    "assert((relu(np.array([-112,234])) == np.array([0,234])).all())"
   ]
  },
  {
   "cell_type": "code",
   "execution_count": null,
   "metadata": {
    "deletable": false,
    "nbgrader": {
     "cell_type": "code",
     "checksum": "853f0edba213b23697ed28e4d0a1355d",
     "grade": true,
     "grade_id": "cell-25722a6942cadbc3",
     "locked": false,
     "points": 0,
     "schema_version": 3,
     "solution": true,
     "task": false
    },
    "tags": []
   },
   "outputs": [],
   "source": [
    "def grad_relu(z: npt.NDArray[np.float64]) -> npt.NDArray[np.float64]:\n",
    "    '''\n",
    "    Input: \n",
    "        z: Vector to which you want to apply the gradient of the ReLU activation function\n",
    "\n",
    "    Output:\n",
    "        Output a vector that has the same shape as z and is the derivative of z\n",
    "    '''\n",
    "    return np.where(z > 0, 1, 0)"
   ]
  },
  {
   "cell_type": "code",
   "execution_count": null,
   "metadata": {
    "deletable": false,
    "editable": false,
    "nbgrader": {
     "cell_type": "code",
     "checksum": "4078ba101a72af211392857e6ccae8ca",
     "grade": true,
     "grade_id": "cell-a7a9a25aa59363f7",
     "locked": true,
     "points": 1,
     "schema_version": 3,
     "solution": false,
     "task": false
    },
    "tags": []
   },
   "outputs": [],
   "source": [
    "# These are some test cases for you to check your implementation\n",
    "assert((grad_relu(np.array([1,-1])) == np.array([1,0])).all())\n",
    "assert((grad_relu(np.array([-112,234])) == np.array([0,1])).all())"
   ]
  },
  {
   "cell_type": "markdown",
   "metadata": {
    "deletable": false,
    "editable": false,
    "nbgrader": {
     "cell_type": "markdown",
     "checksum": "bcae33a9f2b41237e7d668c912fccaa9",
     "grade": false,
     "grade_id": "cell-3d371c1a9510adba",
     "locked": true,
     "schema_version": 3,
     "solution": false,
     "task": false
    },
    "tags": []
   },
   "source": [
    "**d) Implement the forward function and the cost function and its gradient (2.5P).**\n",
    "\n",
    "Implement the forward function for a neural network with one hidden layer.\n",
    "\n",
    "*Hint:* You only need to use the activation function in the hidden layer."
   ]
  },
  {
   "cell_type": "code",
   "execution_count": null,
   "metadata": {
    "deletable": false,
    "nbgrader": {
     "cell_type": "code",
     "checksum": "4d8f1baba7bedcdee73d38fc1a0db94e",
     "grade": true,
     "grade_id": "cell-ddd55abc575278ce",
     "locked": false,
     "points": 0,
     "schema_version": 3,
     "solution": true,
     "task": false
    },
    "tags": []
   },
   "outputs": [],
   "source": [
    "def forward(X: npt.NDArray[np.float64], \n",
    "            Wh: npt.NDArray[np.float64], \n",
    "            Bh: npt.NDArray[np.float64], \n",
    "            Wo: npt.NDArray[np.float64], \n",
    "            Bo: npt.NDArray[np.float64]) -> Tuple[npt.NDArray[np.float64], \n",
    "                                                  npt.NDArray[np.float64], \n",
    "                                                  npt.NDArray[np.float64]]:\n",
    "    ''' \n",
    "    This is the forward function for making predictions. \n",
    "    In order to train the network later you also need to return the activation and pre-activation of the hidden layer.\n",
    "    \n",
    "    Input:\n",
    "        X: This is equivalent to the x in f(x). So to this value we want a prediction, Dimension: Scalar\n",
    "        Wh: weight matrix or vector for the hidden layer, Dimension: inputLayerSize x hiddenLayerSize\n",
    "        Bh: bias for the hidden layer, Dimension: 1 x hiddenLayerSize\n",
    "        Wo: weight matrix for the output layer, Dimension: hiddenLayerSize x ouputLayerSize\n",
    "        Bo: bias for the output layer, Dimension: 1 x ouputLayerSize\n",
    "\n",
    "    Output:\n",
    "        1. Prediction, Dimension: Scalar\n",
    "        2. Activation of the hidden layer, Dimension: 1 x hiddenLayerSize\n",
    "        3. Pre-activation of the hidden layer, Dimension: 1 x hiddenLayerSize\n",
    "    '''\n",
    "    Zh = np.dot(X, Wh) + Bh\n",
    "    Ah = relu(Zh)\n",
    "    Zo = np.dot(Ah, Wo) + Bo\n",
    "    return Zo, Ah, Zh\n",
    "    "
   ]
  },
  {
   "cell_type": "code",
   "execution_count": null,
   "metadata": {
    "deletable": false,
    "editable": false,
    "nbgrader": {
     "cell_type": "code",
     "checksum": "970c76a1d73b1bba0ba4ab8db4c42f9c",
     "grade": true,
     "grade_id": "cell-61597567b468dbbf",
     "locked": true,
     "points": 1.5,
     "schema_version": 3,
     "solution": false,
     "task": false
    },
    "tags": []
   },
   "outputs": [],
   "source": [
    "# Test - Don't modify"
   ]
  },
  {
   "cell_type": "markdown",
   "metadata": {
    "deletable": false,
    "editable": false,
    "nbgrader": {
     "cell_type": "markdown",
     "checksum": "d54d6a82a17075365fac15097ea258a2",
     "grade": false,
     "grade_id": "cell-a798b1592661fd2f",
     "locked": true,
     "schema_version": 3,
     "solution": false,
     "task": false
    },
    "tags": []
   },
   "source": [
    "The cost function (also known as *loss*) is given as follows: $$\\begin{align*} X &:= \\text{Input for forward function}\\\\ y &:= \\text{Correct label for } X \\\\ \\text{forward}(X) &:= \\text{Forward function that predicts a label for input } X\\\\ \\text{The cost function:}\\\\ \\text{cost}(X,y) &= \\frac{\\sum (\\text{forward}(X)-y)^2}{2} \\end{align*} $$\n",
    "\n",
    "This is a slight variation of the one you already learned in the lecture but will do just fine."
   ]
  },
  {
   "cell_type": "code",
   "execution_count": null,
   "metadata": {
    "deletable": false,
    "nbgrader": {
     "cell_type": "code",
     "checksum": "66f4ace36f2c9f61a15cc3840148385f",
     "grade": true,
     "grade_id": "cell-9cd1af9bdd6992c7",
     "locked": false,
     "points": 0,
     "schema_version": 3,
     "solution": true,
     "task": false
    },
    "tags": []
   },
   "outputs": [],
   "source": [
    "def cost(X: npt.NDArray[np.float64], y: np.float64,\n",
    "            Wh: npt.NDArray[np.float64], \n",
    "            Bh: npt.NDArray[np.float64], \n",
    "            Wo: npt.NDArray[np.float64], \n",
    "            Bo: npt.NDArray[np.float64]) -> np.float64:\n",
    "    ''' \n",
    "    Quadratic loss function.\n",
    "    \n",
    "    Dimensions are similar to forward function.\n",
    "\n",
    "    Input:\n",
    "        X: Input for the value to predict\n",
    "        y: real value for the prediction, Dimension: Scalar\n",
    "        Wh: weight matrix or vector for the hidden layer\n",
    "        Bh: bias for the hidden layer\n",
    "        Wo: weight matrix for the output layer\n",
    "        Bo: bias for the output layer\n",
    "\n",
    "    Output:\n",
    "        cost, Dimension: Scalar\n",
    "    '''\n",
    "    \n",
    "    Zo, _, _ = forward(X, Wh, Bh, Wo, Bo)\n",
    "    cost = np.sum((Zo - y)**2)/2\n",
    "    return cost"
   ]
  },
  {
   "cell_type": "code",
   "execution_count": null,
   "metadata": {
    "deletable": false,
    "editable": false,
    "nbgrader": {
     "cell_type": "code",
     "checksum": "b17eb0531767d6059ba8700e073e7256",
     "grade": true,
     "grade_id": "cell-4253b8f8ec4d529a",
     "locked": true,
     "points": 0.5,
     "schema_version": 3,
     "solution": false,
     "task": false
    },
    "tags": []
   },
   "outputs": [],
   "source": [
    "# Test - Don't modify\n"
   ]
  },
  {
   "cell_type": "code",
   "execution_count": null,
   "metadata": {
    "deletable": false,
    "nbgrader": {
     "cell_type": "code",
     "checksum": "1975e6ec1e19abad35f632759f164965",
     "grade": true,
     "grade_id": "cell-634c90ea8da4ecc0",
     "locked": false,
     "points": 0,
     "schema_version": 3,
     "solution": true,
     "task": false
    },
    "tags": []
   },
   "outputs": [],
   "source": [
    "def cost_grad(output: np.float64, y: np.float64) -> np.float64:\n",
    "    ''' \n",
    "    Gradient of Quadratic loss function\n",
    "\n",
    "    Input:\n",
    "        output: predicted value\n",
    "        y: real value for the output\n",
    "\n",
    "    Output:\n",
    "        gradient of cost\n",
    "    '''\n",
    "    grad = output - y\n",
    "    return grad"
   ]
  },
  {
   "cell_type": "code",
   "execution_count": null,
   "metadata": {
    "deletable": false,
    "editable": false,
    "nbgrader": {
     "cell_type": "code",
     "checksum": "bffbea3f28ea5777c8f785ff1e9fb834",
     "grade": true,
     "grade_id": "cell-6fa874405335c61d",
     "locked": true,
     "points": 0.5,
     "schema_version": 3,
     "solution": false,
     "task": false
    },
    "tags": []
   },
   "outputs": [],
   "source": [
    "# Test - Don't modify\n"
   ]
  },
  {
   "cell_type": "markdown",
   "metadata": {
    "deletable": false,
    "editable": false,
    "nbgrader": {
     "cell_type": "markdown",
     "checksum": "2e11403fc820b7ef12ca4ccda4104760",
     "grade": false,
     "grade_id": "cell-f3509e30c92090a5",
     "locked": true,
     "schema_version": 3,
     "solution": false,
     "task": false
    },
    "tags": []
   },
   "source": [
    "Make yourself a clear image of what gradients are required and how they are calculated. We implemented the `backprop` function already for you."
   ]
  },
  {
   "cell_type": "code",
   "execution_count": null,
   "metadata": {
    "deletable": false,
    "editable": false,
    "nbgrader": {
     "cell_type": "code",
     "checksum": "3dbba0ead107e3b50ba043c1cecfba54",
     "grade": false,
     "grade_id": "cell-467471a6e368a58a",
     "locked": true,
     "schema_version": 3,
     "solution": false,
     "task": false
    },
    "tags": []
   },
   "outputs": [],
   "source": [
    "def backprop(X: npt.NDArray[np.float64],\n",
    "             output: npt.NDArray[np.float64],\n",
    "             y: npt.NDArray[np.float64],\n",
    "             Ah: npt.NDArray[np.float64],\n",
    "             Zh: npt.NDArray[np.float64],\n",
    "             Wo: npt.NDArray[np.float64]) -> Tuple[npt.NDArray[np.float64], \n",
    "                                                   npt.NDArray[np.float64], \n",
    "                                                   npt.NDArray[np.float64], \n",
    "                                                   npt.NDArray[np.float64]]:\n",
    "\n",
    "    '''\n",
    "    The backprop function should output the gradients to all the necessary vectors. \n",
    "     \n",
    "    Input:\n",
    "        X: This is equivalent to the x in f(x). So to this value we want a prediction\n",
    "        output: Predicted value\n",
    "        y: true value to X\n",
    "        Ah: activation of hidden layer\n",
    "        Zh: pre-activation of hidden layer\n",
    "        Wo: weights of output layer\n",
    "\n",
    "    Output:\n",
    "        1. Gradients of weights of hidden layer\n",
    "        2. Gradients of weights of output layer \n",
    "        3. Gradients of bias of hidden layer\n",
    "        4. Gradients of bias of output layer\n",
    "    '''\n",
    "    err_output: np.float64 = cost_grad(output, y) #last layer is linear, no gradient needed\n",
    "    err_hidden: npt.NDArray[np.float64] = np.dot(err_output, Wo.T) * grad_relu(Zh)\n",
    "\n",
    "    # Weight Gradients\n",
    "    dCdWh: npt.NDArray[np.float64] = np.dot(X, err_hidden)\n",
    "    dCdWo: npt.NDArray[np.float64] = np.dot(Ah.T, err_output)\n",
    "    \n",
    "    # Bias Gradients\n",
    "    dCdBh: npt.NDArray[np.float64] = np.sum(err_hidden, axis=0, keepdims=True)\n",
    "    dCdBo: npt.NDArray[np.float64] = np.sum(err_output, axis=0, keepdims=True)\n",
    "\n",
    "    return dCdWh, dCdWo, dCdBh, dCdBo"
   ]
  },
  {
   "cell_type": "markdown",
   "metadata": {
    "deletable": false,
    "editable": false,
    "nbgrader": {
     "cell_type": "markdown",
     "checksum": "e7d1afb2ffc9fec254a83ca2a684679b",
     "grade": false,
     "grade_id": "cell-e3afde8da9485e0d",
     "locked": true,
     "schema_version": 3,
     "solution": false,
     "task": false
    },
    "tags": []
   },
   "source": [
    "**e) Implement the training loop and train a simple function in the from of $f(x) = ax² + bx + c$ for example $f(x) = (x-5)^2$. But feel free to experiment and maybe try higher order functions too.**\n",
    "\n",
    "For that you have to implement *gradient descent* to update the weights and performs one epoch of the training cycle and after that the training loop. (3P)"
   ]
  },
  {
   "cell_type": "code",
   "execution_count": null,
   "metadata": {
    "deletable": false,
    "nbgrader": {
     "cell_type": "code",
     "checksum": "f2cfcc753fa6fb4bba8cf8403dd23733",
     "grade": true,
     "grade_id": "cell-edb04359f5df9ef7",
     "locked": false,
     "points": 0,
     "schema_version": 3,
     "solution": true,
     "task": false
    },
    "tags": []
   },
   "outputs": [],
   "source": [
    "def gradient_descent(x: List[float], \n",
    "                     y: List[float],\n",
    "                     lr: float, \n",
    "                     Wh: npt.NDArray[np.float64], \n",
    "                     Wo: npt.NDArray[np.float64], \n",
    "                     Bh: npt.NDArray[np.float64], \n",
    "                     Bo: npt.NDArray[np.float64]) -> Tuple[float, \n",
    "                                                           npt.NDArray[np.float64], \n",
    "                                                           npt.NDArray[np.float64], \n",
    "                                                           npt.NDArray[np.float64], \n",
    "                                                           npt.NDArray[np.float64]]:\n",
    "    ''' \n",
    "    Gradient descent gets a list of inputs and true outputs and iterates trough \n",
    "    them and performs a weight and bias update each step. \n",
    "    \n",
    "    Dimensions of the varables are similar to task 1 d)\n",
    "\n",
    "    Input:\n",
    "        x: list of inputs in the same ordering as y\n",
    "        y: list of true outputs with the same ordering as x\n",
    "        lr: learning rate of gradient descent\n",
    "        Wh: weight matrix or vector for the hidden layer\n",
    "        Bh: bias for the hidden layer\n",
    "        Wo: weight matrix for the output layer\n",
    "        Bo: bias for the output layer\n",
    "    \n",
    "    Output:\n",
    "        1. average of cost function of input data (TODO: check formulation)\n",
    "        2. updated weights of hidden layer\n",
    "        3. updated weights of output layer\n",
    "        4. updated bias of hidden layer\n",
    "        5. updated bias of output layer\n",
    "    '''\n",
    "    costs: float = 0.0\n",
    "    \n",
    "    for i in range(len(x)):\n",
    "        X = x[i]\n",
    "        Y = y[i]\n",
    "        Zo, Ah, Zh = forward(X, Wh, Bh, Wo, Bo)\n",
    "        dCdWh, dCdWo, dCdBh, dCdBo = backprop(X, Zo, Y, Ah, Zh, Wo)\n",
    "        Wh -= lr * dCdWh\n",
    "        Wo -= lr * dCdWo\n",
    "        Bh -= lr * dCdBh\n",
    "        Bo -= lr * dCdBo\n",
    "        costs += cost(X, Y, Wh, Bh, Wo, Bo)\n",
    "    costs /= len(x)\n",
    "    return costs, Wh, Wo, Bh, Bo"
   ]
  },
  {
   "cell_type": "code",
   "execution_count": null,
   "metadata": {
    "deletable": false,
    "editable": false,
    "nbgrader": {
     "cell_type": "code",
     "checksum": "989a6ff256a20f76e98bf332eb164238",
     "grade": false,
     "grade_id": "cell-4bb6dc49743ff2b3",
     "locked": true,
     "schema_version": 3,
     "solution": false,
     "task": false
    },
    "tags": []
   },
   "outputs": [],
   "source": [
    "### Tests to check your implementation\n",
    "inputLayerSize_t = 1\n",
    "hiddenLayerSize_t = 5 # This is the value you can play around with\n",
    "outputLayerSize_t = 1 \n",
    "\n",
    "# Initialize Weights\n",
    "Wh_t = np.ones((inputLayerSize_t, hiddenLayerSize_t)) \n",
    "Wo_t = np.ones((hiddenLayerSize_t, outputLayerSize_t))\n",
    "\n",
    "# Initialize Biases\n",
    "# Small positive value to avoid Relu units dying too quickly\n",
    "Bh_t = np.full((1, hiddenLayerSize_t), 0.2)\n",
    "Bo_t = np.full((1, outputLayerSize_t), 0.2)\n",
    "\n",
    "# gradient_descent([1,2],[3,4], 0.001, Wh_t, Wo_t, Bh_t, Bo_t)\n",
    "\n",
    "# Forward inputs and outputs\n",
    "## Test 1\n",
    "x_1 = [1,2,3]\n",
    "y_1 = [3,2,1]\n",
    "Wh_1 = Wh_t\n",
    "Wo_1 = Wo_t\n",
    "Bh_1 = Bh_t\n",
    "Bo_1 = Bo_t\n",
    "\n",
    "tmp_1 = gradient_descent(x_1,y_1, 0.001, Wh_1, Wo_1, Bh_1, Bo_1)\n",
    "\n",
    "# for i in range(5):\n",
    "#     print(np.round(tmp_1[i], 2))\n",
    "\n",
    "assert(np.round(tmp_1[0], 2) == np.round(42.57, 2))\n",
    "assert((np.round(tmp_1[1], 2) == np.round(np.array([[0.94, 0.94, 0.94, 0.94, 0.94]]), 2)).all())\n",
    "assert((np.round(tmp_1[2], 2) == np.round(np.array([[0.93], [0.93], [0.93], [0.93], [0.93]]), 2)).all())\n",
    "assert((np.round(tmp_1[3], 2) == np.round(np.array([[0.17, 0.17, 0.17, 0.17, 0.17]]), 2)).all())\n",
    "assert((np.round(tmp_1[4], 2) == np.round(np.array([[0.17]]), 2)).all())"
   ]
  },
  {
   "cell_type": "code",
   "execution_count": null,
   "metadata": {
    "deletable": false,
    "editable": false,
    "nbgrader": {
     "cell_type": "code",
     "checksum": "6eb7ac46f68a20b6151c971ddf805473",
     "grade": true,
     "grade_id": "cell-4a7162dbc77a1cd2",
     "locked": true,
     "points": 2,
     "schema_version": 3,
     "solution": false,
     "task": false
    },
    "tags": []
   },
   "outputs": [],
   "source": [
    "# Test - Don't modify\n"
   ]
  },
  {
   "cell_type": "markdown",
   "metadata": {
    "deletable": false,
    "editable": false,
    "nbgrader": {
     "cell_type": "markdown",
     "checksum": "d3dce9f0ca72a2dc39e6fa9b1cb01e55",
     "grade": false,
     "grade_id": "cell-928872b54329966e",
     "locked": true,
     "schema_version": 3,
     "solution": false,
     "task": false
    },
    "tags": []
   },
   "source": [
    "The following is the initialization of the weights and biases. So you get consistent results. Feel free to experiment with the number of neurons in the hidden layer. "
   ]
  },
  {
   "cell_type": "code",
   "execution_count": null,
   "metadata": {
    "deletable": false,
    "editable": false,
    "nbgrader": {
     "cell_type": "code",
     "checksum": "67a6ce10a6c5b5b1a732ec01644faa37",
     "grade": false,
     "grade_id": "cell-44bf0ddbf23c622b",
     "locked": true,
     "schema_version": 3,
     "solution": false,
     "task": false
    },
    "tags": []
   },
   "outputs": [],
   "source": [
    "def init_network() -> Tuple[npt.NDArray[np.float64], npt.NDArray[np.float64], npt.NDArray[np.float64], npt.NDArray[np.float64]]:\n",
    "    inputLayerSize: int = 1\n",
    "    hiddenLayerSize: int = 10 # This is the value you can play around with\n",
    "    outputLayerSize: int = 1 \n",
    "\n",
    "    # Initialize Weights\n",
    "    np.random.seed(0)\n",
    "    Wh: npt.NDArray = np.random.randn(inputLayerSize, hiddenLayerSize) /np.sqrt(inputLayerSize)\n",
    "    Wo: npt.NDArray = np.random.randn(hiddenLayerSize, outputLayerSize) /np.sqrt(hiddenLayerSize)\n",
    "\n",
    "    # Initialize Biases\n",
    "    # Small positive value to avoid Relu units dying too quickly\n",
    "    Bh: npt.NDArray = np.full((1, hiddenLayerSize), 0.2)\n",
    "    Bo: npt.NDArray = np.full((1, outputLayerSize), 0.2)\n",
    "\n",
    "    return Wh, Wo, Bh, Bo"
   ]
  },
  {
   "cell_type": "markdown",
   "metadata": {
    "deletable": false,
    "editable": false,
    "nbgrader": {
     "cell_type": "markdown",
     "checksum": "f1eed77a6378f4dbdbae0c5afc4c10be",
     "grade": false,
     "grade_id": "cell-095bdf88390389d5",
     "locked": true,
     "schema_version": 3,
     "solution": false,
     "task": false
    },
    "tags": []
   },
   "source": [
    "Next is the generation of the training data. Here you can also change up the function which the network should learn or the interval in which the numbers are generated. \n",
    "\n",
    "*Hint:* Start with an easy function an later aim for something more difficult."
   ]
  },
  {
   "cell_type": "code",
   "execution_count": null,
   "metadata": {
    "deletable": false,
    "editable": false,
    "nbgrader": {
     "cell_type": "code",
     "checksum": "b53a5aef0f4e558cea17db18c93de8b0",
     "grade": false,
     "grade_id": "cell-ad6e0fed392b835d",
     "locked": true,
     "schema_version": 3,
     "solution": false,
     "task": false
    },
    "tags": []
   },
   "outputs": [],
   "source": [
    "def f_x(x: float) -> float:\n",
    "    '''\n",
    "    Feel free to play around!\n",
    "    '''\n",
    "    return 0.1 * ((x-5)**3 - 10 * x + 120) # Example of a more complex function\n",
    "    # return (x-5)**2\n",
    "\n",
    "x = np.linspace(0, 10, 1001)\n",
    "y = np.array([ f_x(i)  for i in x])\n",
    "\n",
    "plt.plot(x,y)"
   ]
  },
  {
   "cell_type": "markdown",
   "metadata": {
    "deletable": false,
    "editable": false,
    "nbgrader": {
     "cell_type": "markdown",
     "checksum": "8d529fd0311ccce1158c065fcc9edd12",
     "grade": false,
     "grade_id": "cell-e8c14444f4319468",
     "locked": true,
     "schema_version": 3,
     "solution": false,
     "task": false
    },
    "tags": []
   },
   "source": [
    "Now implement the training loop and train your network for 1000 epochs with a learning rate of 0.001. Shuffle the training data before each epoch.\n",
    "\n",
    "*Note:* The cost should go down if that is not the case check your code above. Are the derivatives correct?\n",
    "\n",
    "**At the end the cost for $f(x) = (x-5)^2$ has to be below 0.05!**"
   ]
  },
  {
   "cell_type": "code",
   "execution_count": null,
   "metadata": {
    "deletable": false,
    "nbgrader": {
     "cell_type": "code",
     "checksum": "9aef08cfea05a0e9893bbcbc957dee17",
     "grade": true,
     "grade_id": "cell-5dc46853dbb96276",
     "locked": false,
     "points": 0,
     "schema_version": 3,
     "solution": true,
     "task": false
    },
    "tags": []
   },
   "outputs": [],
   "source": [
    "Wh, Wo, Bh, Bo = init_network()\n",
    "\n",
    "# Training parameters\n",
    "epochs = 1000\n",
    "lr = 0.001\n",
    "\n",
    "costs = []\n",
    "\n",
    "for epoch in range(epochs):\n",
    "    p = np.random.permutation(len(x))\n",
    "    x_shuffled, y_shuffled = x[p], y[p]\n",
    "    x_list, y_list = x_shuffled.tolist(), y_shuffled.tolist()\n",
    "\n",
    "    epoch_cost, Wh, Wo, Bh, Bo = gradient_descent(x_list, y_list, lr, Wh, Wo, Bh, Bo)\n",
    "    costs.append(epoch_cost)\n",
    "\n",
    "    if epoch % 100 == 0:\n",
    "        print(f\"Epoch {epoch}, Cost: {epoch_cost}\")\n",
    "\n",
    "# Plotting the cost over epochs\n",
    "plt.plot(costs)\n",
    "plt.xlabel('Epochs')\n",
    "plt.ylabel('Cost')\n",
    "plt.title('Cost Reduction Over Time')\n",
    "plt.show()\n",
    "\n",
    "# Check final cost for the specific function f(x) = (x-5)^2\n",
    "if costs[-1] < 0.05:\n",
    "    print(\"Training successful, final cost is below 0.05\")\n",
    "else:\n",
    "    print(\"Training might not be successful, final cost is above 0.05\")"
   ]
  },
  {
   "cell_type": "code",
   "execution_count": null,
   "metadata": {
    "deletable": false,
    "editable": false,
    "nbgrader": {
     "cell_type": "code",
     "checksum": "d9673bc653e1581f89d52261ab2c5f0e",
     "grade": true,
     "grade_id": "cell-e277af25361b7e06",
     "locked": true,
     "points": 1,
     "schema_version": 3,
     "solution": false,
     "task": false
    },
    "tags": []
   },
   "outputs": [],
   "source": [
    "# Test - Don't modify\n"
   ]
  },
  {
   "cell_type": "markdown",
   "metadata": {
    "deletable": false,
    "editable": false,
    "nbgrader": {
     "cell_type": "markdown",
     "checksum": "81d3022d6b21648446e7c32773a056f3",
     "grade": false,
     "grade_id": "cell-b469b612703dd4a5",
     "locked": true,
     "schema_version": 3,
     "solution": false,
     "task": false
    },
    "tags": []
   },
   "source": [
    "Normally you also need test data in order to validate the accuracy of you network. But for now we only plot the predictions and the real values in the same plot so we can compare it."
   ]
  },
  {
   "cell_type": "code",
   "execution_count": null,
   "metadata": {
    "deletable": false,
    "editable": false,
    "nbgrader": {
     "cell_type": "code",
     "checksum": "a52ca2e0a416a2773ba2b358f5432ecf",
     "grade": false,
     "grade_id": "cell-4eb1b00d00a54ce6",
     "locked": true,
     "schema_version": 3,
     "solution": false,
     "task": false
    },
    "tags": []
   },
   "outputs": [],
   "source": [
    "x_ax = np.linspace(0, 10, 1001)\n",
    "y = np.array([ f_x(i)  for i in x_ax])\n",
    "preds = np.array([forward(i, Wh, Bh, Wo, Bo)[0][0,0] for i in x_ax])\n",
    "plt.plot(x_ax, preds)\n",
    "plt.plot(x_ax,y)"
   ]
  },
  {
   "cell_type": "markdown",
   "metadata": {
    "deletable": false,
    "editable": false,
    "nbgrader": {
     "cell_type": "markdown",
     "checksum": "2734ef04e60afa2655a6984ca94b4227",
     "grade": false,
     "grade_id": "cell-5d5f9281c4b703a1",
     "locked": true,
     "schema_version": 3,
     "solution": false,
     "task": false
    },
    "tags": []
   },
   "source": [
    "## Task 2 - Byte Pair Encoding ~ 10P"
   ]
  },
  {
   "cell_type": "markdown",
   "metadata": {
    "deletable": false,
    "editable": false,
    "nbgrader": {
     "cell_type": "markdown",
     "checksum": "c1dfcbaa6c44fc286ce9f48d54aebd6d",
     "grade": false,
     "grade_id": "cell-fd3236059c81ce63",
     "locked": true,
     "schema_version": 3,
     "solution": false,
     "task": false
    },
    "tags": []
   },
   "source": [
    "The goal is to calculate byte pair encodings for a given dataset. For a recap of the concept we refer to lecture 9, slides 66.ff.\n",
    "\n",
    "But first we need to install some additional libraries in order to get it working properly:"
   ]
  },
  {
   "cell_type": "code",
   "execution_count": null,
   "metadata": {
    "deletable": false,
    "editable": false,
    "nbgrader": {
     "cell_type": "code",
     "checksum": "1d23a8475d46f1d7ecaf787c7b10e57c",
     "grade": false,
     "grade_id": "cell-729ec0d1cfeed7ea",
     "locked": true,
     "schema_version": 3,
     "solution": false,
     "task": false
    },
    "tags": []
   },
   "outputs": [],
   "source": [
    "!pip install datasets==2.16.1\n",
    "!pip install tokenizers==0.15.0"
   ]
  },
  {
   "cell_type": "code",
   "execution_count": 2,
   "metadata": {
    "deletable": false,
    "editable": false,
    "nbgrader": {
     "cell_type": "code",
     "checksum": "a74270652236e10e7ee7a5414c0e8b30",
     "grade": false,
     "grade_id": "cell-58d15d5fee462ae7",
     "locked": true,
     "schema_version": 3,
     "solution": false,
     "task": false
    },
    "tags": []
   },
   "outputs": [
    {
     "name": "stderr",
     "output_type": "stream",
     "text": [
      "c:\\Users\\Bella\\miniconda3\\envs\\nlp4web\\lib\\site-packages\\tqdm\\auto.py:21: TqdmWarning: IProgress not found. Please update jupyter and ipywidgets. See https://ipywidgets.readthedocs.io/en/stable/user_install.html\n",
      "  from .autonotebook import tqdm as notebook_tqdm\n"
     ]
    }
   ],
   "source": [
    "from tokenizers.pre_tokenizers import Whitespace\n",
    "from datasets import load_dataset\n",
    "from datasets.arrow_dataset import Dataset\n",
    "from collections import defaultdict"
   ]
  },
  {
   "cell_type": "markdown",
   "metadata": {
    "deletable": false,
    "editable": false,
    "nbgrader": {
     "cell_type": "markdown",
     "checksum": "55d5099d7b679a5cae90a4303f5946e8",
     "grade": false,
     "grade_id": "cell-81ea36f9a35cc6ac",
     "locked": true,
     "schema_version": 3,
     "solution": false,
     "task": false
    },
    "tags": []
   },
   "source": [
    "**a)** First we want to make sure we create a suffieciently large corpus. As dataset you import the dataset \"wikitext-2-raw-v1\" from huggingface. Make sure to use the 500 first entries of the training dataset and subsequently filter out empty lines. \n",
    "\n",
    "Save the dataset in the variable `dataset` and the corpus in the variable `corpus`. ***(1P)***"
   ]
  },
  {
   "cell_type": "code",
   "execution_count": 3,
   "metadata": {
    "deletable": false,
    "nbgrader": {
     "cell_type": "code",
     "checksum": "a333e096c04d96422eefc5e888e334f5",
     "grade": true,
     "grade_id": "cell-244778a82446be41",
     "locked": false,
     "points": 0,
     "schema_version": 3,
     "solution": true,
     "task": false
    },
    "tags": []
   },
   "outputs": [
    {
     "name": "stdout",
     "output_type": "stream",
     "text": [
      "[' = Valkyria Chronicles III = \\n', ' Senjō no Valkyria 3 : Unrecorded Chronicles ( Japanese : 戦場のヴァルキュリア3 , lit . Valkyria of the Battlefield 3 ) , commonly referred to as Valkyria Chronicles III outside Japan , is a tactical role @-@ playing video game developed by Sega and Media.Vision for the PlayStation Portable . Released in January 2011 in Japan , it is the third game in the Valkyria series . Employing the same fusion of tactical and real @-@ time gameplay as its predecessors , the story runs parallel to the first game and follows the \" Nameless \" , a penal military unit serving the nation of Gallia during the Second Europan War who perform secret black operations and are pitted against the Imperial unit \" Calamaty Raven \" . \\n', \" The game began development in 2010 , carrying over a large portion of the work done on Valkyria Chronicles II . While it retained the standard features of the series , it also underwent multiple adjustments , such as making the game more forgiving for series newcomers . Character designer Raita Honjou and composer Hitoshi Sakimoto both returned from previous entries , along with Valkyria Chronicles II director Takeshi Ozawa . A large team of writers handled the script . The game 's opening theme was sung by May 'n . \\n\", \" It met with positive sales in Japan , and was praised by both Japanese and western critics . After release , it received downloadable content , along with an expanded edition in November of that year . It was also adapted into manga and an original video animation series . Due to low sales of Valkyria Chronicles II , Valkyria Chronicles III was not localized , but a fan translation compatible with the game 's expanded edition was released in 2014 . Media.Vision would return to the franchise with the development of Valkyria : Azure Revolution for the PlayStation 4 . \\n\", ' = = Gameplay = = \\n', \" As with previous Valkyira Chronicles games , Valkyria Chronicles III is a tactical role @-@ playing game where players take control of a military unit and take part in missions against enemy forces . Stories are told through comic book @-@ like panels with animated character portraits , with characters speaking partially through voiced speech bubbles and partially through unvoiced text . The player progresses through a series of linear missions , gradually unlocked as maps that can be freely scanned through and replayed as they are unlocked . The route to each story location on the map varies depending on an individual player 's approach : when one option is selected , the other is sealed off to the player . Outside missions , the player characters rest in a camp , where units can be customized and character growth occurs . Alongside the main story missions are character @-@ specific sub missions relating to different squad members . After the game 's completion , additional episodes are unlocked , some of them having a higher difficulty than those found in the rest of the game . There are also love simulation elements related to the game 's two main heroines , although they take a very minor role . \\n\", ' The game \\'s battle system , the BliTZ system , is carried over directly from Valkyira Chronicles . During missions , players select each unit using a top @-@ down perspective of the battlefield map : once a character is selected , the player moves the character around the battlefield in third @-@ person . A character can only act once per @-@ turn , but characters can be granted multiple turns at the expense of other characters \\' turns . Each character has a field and distance of movement limited by their Action Gauge . Up to nine characters can be assigned to a single mission . During gameplay , characters will call out if something happens to them , such as their health points ( HP ) getting low or being knocked out by enemy attacks . Each character has specific \" Potentials \" , skills unique to each character . They are divided into \" Personal Potential \" , which are innate skills that remain unaltered unless otherwise dictated by the story and can either help or impede a character , and \" Battle Potentials \" , which are grown throughout the game and always grant boons to a character . To learn Battle Potentials , each character has a unique \" Masters Table \" , a grid @-@ based skill table that can be used to acquire and link different skills . Characters also have Special Abilities that grant them temporary boosts on the battlefield : Kurt can activate \" Direct Command \" and move around the battlefield without depleting his Action Point gauge , the character Reila can shift into her \" Valkyria Form \" and become invincible , while Imca can target multiple enemy units with her heavy weapon . \\n', \" Troops are divided into five classes : Scouts , Shocktroopers , Engineers , Lancers and Armored Soldier . Troopers can switch classes by changing their assigned weapon . Changing class does not greatly affect the stats gained while in a previous class . With victory in battle , experience points are awarded to the squad , which are distributed into five different attributes shared by the entire squad , a feature differing from early games ' method of distributing to different unit types . \\n\", ' = = Plot = = \\n', ' The game takes place during the Second Europan War . Gallian Army Squad 422 , also known as \" The Nameless \" , are a penal military unit composed of criminals , foreign deserters , and military offenders whose real names are erased from the records and thereon officially referred to by numbers . Ordered by the Gallian military to perform the most dangerous missions that the Regular Army and Militia will not do , they are nevertheless up to the task , exemplified by their motto , Altaha Abilia , meaning \" Always Ready . \" The three main characters are No.7 Kurt Irving , an army officer falsely accused of treason who wishes to redeem himself ; Ace No.1 Imca , a female Darcsen heavy weapons specialist who seeks revenge against the Valkyria who destroyed her home ; and No.13 Riela Marcellis , a seemingly jinxed young woman who is unknowingly a descendant of the Valkyria . Together with their fellow squad members , these three are tasked to fight against a mysterious Imperial unit known as Calamity Raven , consisting of mostly Darcsen soldiers . \\n', \" As the Nameless officially do not exist , the upper echelons of the Gallian Army exploit the concept of plausible deniability in order to send them on missions that would otherwise make Gallia lose face in the war . While at times this works to their advantage , such as a successful incursion into Imperial territory , other orders cause certain members of the 422nd great distress . One such member , Gusurg , becomes so enraged that he abandons his post and defects into the ranks of Calamity Raven , attached to the ideal of Darcsen independence proposed by their leader , Dahau . At the same time , elements within Gallian Army Command move to erase the Nameless in order to protect their own interests . Hounded by both allies and enemies , and combined with the presence of a traitor within their ranks , the 422nd desperately move to keep themselves alive while at the same time fight to help the Gallian war effort . This continues until the Nameless 's commanding officer , Ramsey Crowe , who had been kept under house arrest , is escorted to the capital city of Randgriz in order to present evidence exonerating the weary soldiers and expose the real traitor , the Gallian General that had accused Kurt of Treason . \\n\", \" Partly due to these events , and partly due to the major losses in manpower Gallia suffers towards the end of the war with the Empire , the Nameless are offered a formal position as a squad in the Gallian Army rather than serve as an anonymous shadow force . This is short @-@ lived , however , as following Maximilian 's defeat , Dahau and Calamity Raven move to activate an ancient Valkyrian super weapon within the Empire , kept secret by their benefactor . Without the support of Maximilian or the chance to prove themselves in the war with Gallia , it is Dahau 's last trump card in creating a new Darcsen nation . As an armed Gallian force invading the Empire just following the two nations ' cease @-@ fire would certainly wreck their newfound peace , Kurt decides to once again make his squad the Nameless , asking Crowe to list himself and all under his command as killed @-@ in @-@ action . Now owing allegiance to none other than themselves , the 422nd confronts Dahau and destroys the Valkyrian weapon . Each member then goes their separate ways in order to begin their lives anew . \\n\", ' = = Development = = \\n', ' Concept work for Valkyria Chronicles III began after development finished on Valkyria Chronicles II in early 2010 , with full development beginning shortly after this . The director of Valkyria Chronicles II , Takeshi Ozawa , returned to that role for Valkyria Chronicles III . Development work took approximately one year . After the release of Valkyria Chronicles II , the staff took a look at both the popular response for the game and what they wanted to do next for the series . Like its predecessor , Valkyria Chronicles III was developed for PlayStation Portable : this was due to the team wanting to refine the mechanics created for Valkyria Chronicles II , and they had not come up with the \" revolutionary \" idea that would warrant a new entry for the PlayStation 3 . Speaking in an interview , it was stated that the development team considered Valkyria Chronicles III to be the series \\' first true sequel : while Valkyria Chronicles II had required a large amount of trial and error during development due to the platform move , the third game gave them a chance to improve upon the best parts of Valkyria Chronicles II due to being on the same platform . In addition to Sega staff from the previous games , development work was also handled by Media.Vision. The original scenario was written Kazuki Yamanobe , while the script was written by Hiroyuki Fujii , Koichi Majima , Kishiko Miyagi , Seiki Nagakawa and Takayuki Shouji . Its story was darker and more somber than that of its predecessor . \\n', \" The majority of material created for previous games , such as the BLiTZ system and the design of maps , was carried over . Alongside this , improvements were made to the game 's graphics and some elements were expanded , such as map layouts , mission structure , and the number of playable units per mission . A part of this upgrade involved creating unique polygon models for each character 's body . In order to achieve this , the cooperative elements incorporated into the second game were removed , as they took up a large portion of memory space needed for the improvements . They also adjusted the difficulty settings and ease of play so they could appeal to new players while retaining the essential components of the series ' gameplay . The newer systems were decided upon early in development . The character designs were done by Raita Honjou , who had worked on the previous Valkyria Chronicles games . When creating the Nameless Squad , Honjou was faced with the same problem he had had during the first game : the military uniforms essentially destroyed character individuality , despite him needing to create unique characters the player could identify while maintaining a sense of reality within the Valkyria Chronicles world . The main color of the Nameless was black . As with the previous Valkyria games , Valkyria Chronicles III used the CANVAS graphics engine . The anime opening was produced by Production I.G. \\n\", ' = = = Music = = = \\n', ' The music was composed by Hitoshi Sakimoto , who had also worked on the previous Valkyria Chronicles games . When he originally heard about the project , he thought it would be a light tone similar to other Valkyria Chronicles games , but found the themes much darker than expected . An early theme he designed around his original vision of the project was rejected . He redid the main theme about seven times through the music production due to this need to reassess the game . The main theme was initially recorded using orchestra , then Sakimoto removed elements such as the guitar and bass , then adjusted the theme using a synthesizer before redoing segments such as the guitar piece on their own before incorporating them into the theme . The rejected main theme was used as a hopeful tune that played during the game \\'s ending . The battle themes were designed around the concept of a \" modern battle \" divorced from a fantasy scenario by using modern musical instruments , constructed to create a sense of atonality . While Sakimoto was most used to working with synthesized music , he felt that he needed to incorporate live instruments such as orchestra and guitar . The guitar was played by Mitsuhiro Ohta , who also arranged several of the later tracks . The game \\'s opening theme song , \" If You Wish for ... \" ( もしも君が願うのなら , Moshimo Kimi ga Negauno Nara ) , was sung by Japanese singer May \\'n . Its theme was the reason soldiers fought , in particular their wish to protect what was precious to them rather than a sense of responsibility or duty . Its lyrics were written by Seiko Fujibayashi , who had worked on May \\'n on previous singles . \\n', ' = = = Release = = = \\n', \" In September 2010 , a teaser website was revealed by Sega , hinting at a new Valkyria Chronicles game . In its September issue , Famitsu listed that Senjō no Valkyria 3 would be arriving on the PlayStation Portable . Its first public appearance was at the 2010 Tokyo Game Show ( TGS ) , where a demo was made available for journalists and attendees . During the publicity , story details were kept scant so as not to spoil too much for potential players , along with some of its content still being in flux at the time of its reveal . To promote the game and detail the story leading into the game 's events , an episodic Flash visual novel written by Fujii began release in January 2011 . The game was released January 27 , 2011 . During an interview , the development team said that the game had the capacity for downloadable content ( DLC ) , but that no plans were finalized . Multiple DLC maps , featuring additional missions and recruitable characters , were released between February and April 2011 . An expanded edition of the game , Valkyria Chronicles III Extra Edition , released on November 23 , 2011 . Packaged and sold at a lower price than the original , Extra Edition game with seven additional episodes : three new , three chosen by staff from the game 's DLC , and one made available as a pre @-@ order bonus . People who also owned the original game could transfer their save data between versions . \\n\", \" Unlike its two predecessors , Valkyria Chronicles III was not released in the west . According to Sega , this was due to poor sales of Valkyria Chronicles II and the general unpopularity of the PSP in the west . An unofficial fan translation patch began development in February 2012 : players with a copy of Valkyria Chronicles III could download and apply the patch , which translated the game 's text into English . Compatible with the Extra Edition , the patch was released in January 2014 . \\n\", ' = = Reception = = \\n', ' On its day of release in Japan , Valkyria Chronicles III topped both platform @-@ exclusive and multi @-@ platform sales charts . By early February , the game sold 102 @,@ 779 units , coming in second overall to The Last Story for the Wii . By the end of the year , the game had sold just over 152 @,@ 500 units . \\n', ' Famitsu enjoyed the story , and were particularly pleased with the improvements to gameplay . Japanese gaming site Game Watch Impress , despite negatively noting its pacing and elements recycled from previous games , was generally positive about its story and characters , and found its gameplay entertaining despite off @-@ putting difficulty spikes . 4Gamer.net writer Naohiko Misuosame , in a \" Play Test \" article based on the game \\'s PSN demo , felt that Valkyria Chronicles III provided a \" profound feeling of closure \" for the Valkyria Chronicles series . He praised its gameplay despite annoying limitations to aspects such as special abilities , and positively noted its shift in story to a tone similar to the first game . \\n', \" PlayStation Official Magazine - UK praised the story 's blurring of Gallia 's moral standing , art style , and most points about its gameplay , positively noting the latter for both its continued quality and the tweaks to balance and content . Its one major criticism were multiple difficulty spikes , something that had affected the previous games . Heath Hindman of gaming website PlayStation Lifestyle praised the addition of non @-@ linear elements and improvements or removal of mechanics from Valkyria Chronicles II in addition to praising the returning gameplay style of previous games . He also positively noted the story 's serious tone . Points criticized in the review were recycled elements , awkward cutscenes that seemed to include all characters in a scene for no good reason , pacing issues , and occasional problems with the game 's AI . \\n\", \" In a preview of the TGS demo , Ryan Geddes of IGN was left excited as to where the game would go after completing the demo , along with enjoying the improved visuals over Valkyria Chronicles II . Kotaku 's Richard Eisenbeis was highly positive about the game , citing is story as a return to form after Valkyria Chronicles II and its gameplay being the best in the series . His main criticisms were its length and gameplay repetition , along with expressing regret that it would not be localized . \\n\", ' = = Legacy = = \\n', ' Kurt and Riela were featured in the Nintendo 3DS crossover Project X Zone , representing the Valkyria series . Media.Vision would return to the series to develop Valkyria : Azure Revolution , with Ozawa returning as director . Azure Revolution is a role @-@ playing video game for the PlayStation 4 that forms the beginning of a new series within the Valkyria franchise . \\n', ' = = = Adaptations = = = \\n', ' Valkyria Chronicles 3 was adapted into a two @-@ episode original video animation series in the same year of its release . Titled Senjō no Valkyria 3 : Taga Tame no Jūsō ( 戦場のヴァルキュリア３ 誰がための銃瘡 , lit . Valkyria of the Battlefield 3 : The Wound Taken for Someone \\'s Sake ) , it was originally released through PlayStation Network and Qriocity between April and May 2011 . The initially @-@ planned release and availability period needed to be extended due to a stoppage to PSN during the early summer of that year . It later released for DVD on June 29 and August 31 , 2011 , with separate \" Black \" and \" Blue \" editions being available for purchase . The anime is set during the latter half of Valkyria Chronicles III , detailing a mission by the Nameless against their Imperial rivals Calamity Raven . The anime was first announced in November 2010 . It was developed by A @-@ 1 Pictures , produced by Shinji Motoyama , directed by Nobuhiro Kondō , and written by Hiroshi Ōnogi . Sakimoto \\'s music for the game was used in the anime . \\n', ' The anime \\'s title was inspired by the principle purpose of the Nameless : to suffer in battle for the goals of others . A subtitle attached to the project during development was \" The Road to Kubinka \" , which referenced the Kubinka Tank Museum in Moscow . The game \\'s main theme was how the characters regained their sense of self when stripped of their names and identities , along with general themes focused on war and its consequences . While making the anime , the production team were told by Sega to make it as realistic as possible , with the consequence that the team did extensive research into aspects such as what happened when vehicles like tanks were overturned or damaged . Due to it being along the same timeline as the original game and its television anime adaptation , the cast of Valkyria Chronicles could make appearances , which pleased the team . The opening theme , \" Akari ( Light ) -Tomoshibi- \" ( 灯 @-@ TOMOSHIBI- ) , was sung by Japanese singer Faylan . The ending theme , \" Someday the Flowers of Light Will Bloom \" ( いつか咲く光の花 , Itsuka Saku Hikari no Hana ) , was sung by Minami Kuribayashi . Both songs \\' lyrics were written by their respective artists . \\n', \" Two manga adaptations were produced , following each of the game 's main female protagonists Imca and Riela . They were Senjō no Valkyria 3 : Namo naki Chikai no Hana ( 戦場のヴァルキュリア3 名もなき誓いの花 , lit . Valkyria of the Battlefield 3 : The Flower of the Nameless Oath ) , illustrated by Naoyuki Fujisawa and eventually released in two volumes after being serialized in Dengeki Maoh between 2011 and 2012 ; and Senjō no Valkyria 3 : -Akaki Unmei no Ikusa Otome- ( 戦場のヴァルキュリア3 -赤き運命の戦乙女- , lit . Valkyria of the Battlefield 3 -The Valkyrie of the Crimson Fate ) , illustrated by Mizuki Tsuge and eventually released in a single volume by Kadokawa Shoten in 2012 . \\n\", ' = Tower Building of the Little Rock Arsenal = \\n', \" The Tower Building of the Little Rock Arsenal , also known as U.S. Arsenal Building , is a building located in MacArthur Park in downtown Little Rock , Arkansas . Built in 1840 , it was part of Little Rock 's first military installation . Since its decommissioning , The Tower Building has housed two museums . It was home to the Arkansas Museum of Natural History and Antiquities from 1942 to 1997 and the MacArthur Museum of Arkansas Military History since 2001 . It has also been the headquarters of the Little Rock Æsthetic Club since 1894 . \\n\", ' The building receives its name from its distinct octagonal tower . Besides being the last remaining structure of the original Little Rock Arsenal and one of the oldest buildings in central Arkansas , it was also the birthplace of General Douglas MacArthur , who became the supreme commander of US forces in the South Pacific during World War II . It was also the starting place of the Camden Expedition . In 2011 it was named as one of the top 10 attractions in the state of Arkansas by Arkansas.com. \\n', ' = = Construction = = \\n', ' The arsenal was constructed at the request of Governor James Sevier Conway in response to the perceived dangers of frontier life and fears of the many Native Americans who were passing through the state on their way to the newly established Oklahoma Territory . Thirty @-@ six acres were appropriated on the outskirts of Little Rock by Major Robert B. Lee of the U.S. Army . The land had been previously used as a racetrack by the local jockey club . John Wormley Walker , a builder for the Federal Government , supervised the construction . Originally $ 14 @,@ 000 was allocated for the construction of the arsenal , but proved inadequate . The budget was later increased to $ 30 @,@ 000 . Work began on the Tower Building in 1840 , and it was the first permanent structure of the arsenal to be built . Being originally constructed to store ammunition , the building was designed with 3 @-@ foot @-@ thick ( 0 @.@ 91 m ) exterior walls . The original plans called for it to be built of stone , however , masonry was used instead . The Arkansas Gazette referred to the structure as \" A splendid specimen of masonry \" . \\n', ' = = Civil War = = \\n', ' For several years the arsenal , which was owned by the federal government , served as a simple arms depot and was staffed with only a handful of soldiers . But in November 1860 , with the American Civil War on the horizon , a company of the Second United States Artillery , consisting of sixty @-@ five men , was transferred to Little Rock under the command of Captain James Totten . On January 15 , 1861 , the state legislature decided to hold a referendum to determine if a state convention should be held to consider the issue of secession and to elect delegates to such a convention . It was planned for February 18 ; however , events at the arsenal , would not wait . On January 28 , then Governor Henry Massey Rector informed Captain Totten that he and his soldiers would be \" permitted to remain in the possession of the Federal officers until the State , by authority of the people , shall have determined to sever their connection with the General Government , \" Totten responded to this by telling the Governor that his orders came from the United States Government and began a desperate but ultimately futile dispatch of letters and telegrams asking for reinforcements , although rumors were widely spread that they were already coming . The first telegraph wire to span between Little Rock and Memphis had recently been completed . Local attorney John M Harrel was asked to compose the first telegraph dispatched from Arkansas \\'s capital . In his message , Harrel reported unconfirmed rumors that more federal troops had been sent to reinforce the Little Rock Arsenal . \\n', ' The United States troops at the outposts of the western frontier of the state and in the Indian nation have all been recalled from winter quarters to reinforce the garrison at Fort Smith . The garrison at Fort Smith had been previously transferred to the United States Arsenal in this city ( Little Rock ) . The arsenal is one of the richest depositories of military stores in the United States and is supposed to be the ultimate destination of the tropps [ sic ] ordered from the frontier . \\n', ' -John M Harrel Telegram , January 31 , 1861 \\n', ' The item was intended simply as a piece of news , but telegraph lines quickly spread the news throughout the state , fueling procession sentiment . The rumor was interpreted by some Arkansans as a call from the governor to assemble to help expel the federal troops from the arsenal . By February 5 , six militia units , consisting of 1 @,@ 000 men , with a guarantee that the numbers could be increased to 5 @,@ 000 if the situations deemed it necessary , had assembled in Little Rock . Governor Rector vehemently denied ordering the troops to assemble or giving any order at all in connection with the troops . Faced with the fact that the military had assembled believing they were following his orders and the consensus of the citizens of Little Rock against any armed conflict between the civilian army and federal troops , Governor Rector was forced to take control of the situation . On February 6 , he sent a formal demand for surrender of the arsenal to Captain Totten , \\n', ' This movement is prompted by the feeling that pervades the citizens of this State that in the present emergency the arms and munitions of war in the Arsenal should be under the control of the State authorities , in order to their security . This movement , although not authorized by me , has assumed such an aspect that it becomes my duty , as the executive of this Sate , to interpose my official authority to prevent a collision between the people of the State and the Federal troops under your command . I therefore demand in the name of the State the delivery of the possession of the Arsenal and munitions of war under your charge to the State authorities , to be held subject to the action of the convention to be held on the 4th of March next . \\n', ' Perhaps because Abraham Lincoln had not yet been inaugurated as President , Captain Totten received no instructions from his superiors and was forced to withdraw his troops . He agreed to surrender the arsenal as long as the governor agreed to three provisions : \\n', ' The governor would take possession of the arsenal in the name of the United States . \\n', ' The soldiers would be allowed safe passage in any direction carrying any personal and public property besides munitions of war . \\n', ' The soldiers would be allowed to march away as men leaving under orders , not as conquered and surrendering soldiers . \\n', \" On the morning of February 8 , 1861 , Rector and Totten signed an agreement placing the arsenal in the hands of state officials . That afternoon , the citizen militia marched to the arsenal with Governor Rector at its head . All of the federal troops had left at this point , except Totten who had stayed behind to listen to the Governor 's speech and to hand the arsenal over in person . \\n\", ' The Little Rock Arsenal was classified in 1860 as an \" arsenal of deposit , \" meaning that it was simply a warehouse for the storage of weapons intended for the use of the state militia in times of crisis . Thus there were no substantial operations for ordnance fabrication or repairs , nor for the manufacture of cartridges at the time the Arsenal fell into State hands . Most of these operations were started from scratch through the efforts of the Arkansas Military Board . \\n', \" Inside the Little Rock Arsenal after its seizure in February , 1861 , the Confederates inventoried some 10 @,@ 247 weapons , 250 @,@ 000 musket cartridges , and 520 @,@ 000 percussion caps , as well as the four bronze cannon of Totten 's battery . Long arms in the Arsenal 's inventory consisted of : \\n\", ' M1822 .69 cal ( flintlock ) 5 @,@ 625 \\n', ' M1822 .69 cal ( percussion @-@ converted ) 53 \\n', ' M1842 .69 cal smoothbore ( percussion ) 357 \\n', ' M1855 .58 cal rifle @-@ muskets 900 \\n', ' M1817 common rifles 125 \\n', ' M1841 rifle ( \" Mississippi Rifle \" ) 54 \\n', ' M1847 musketoon 2 \\n', \" Hall 's carbines 267 \\n\", \" Hall 's rifles ( flintlock ) 2 @,@ 864 \\n\", ' Total 10 @,@ 247 \\n', ' Of this number , approximately 9600 weapons were serviceable , or ready @-@ for @-@ issue . Note there were only 1 @,@ 364 percussion weapons available . Disposition of the weapons found in the Arsenal is somewhat sketchy , but from various records it can be surmised that the 5th , 6th , 7th , and 8th Arkansas Infantry Regiments , mustered in June , 1861 , were issued M1816 / M1822 .69 caliber flintlocks . The 9th and 10th Arkansas , four companies of Kelly \\'s 9th Arkansas Battalion , and the 3rd Arkansas Cavalry Regiment were issued flintlock Hall \\'s Rifles . The units comprising the infantry force of Van Dorn \\'s Army of the West were the 1st and 2nd Arkansas Mounted Rifles were also armed with M1822 flintlocks from the Little Rock Arsenal . By the time the 11th and 12th Arkansas Infantry Regiments mustered in at Little Rock , the supply of arms had been almost completely exhausted , and only old \" junker \" weapons were left . \\n', ' Most of the equipment , arms , and machinery at the Little Rock Arsenal was removed to east of the Mississippi River by order of Maj. Gen. Earl Van Dorn in April and May 1862 , and accountability for it is lost at that point . By all appearances , the equipment was sent down the river to Napoleon , Arkansas , and from there to Jackson Mississippi , where it was probably destroyed during the Vicksburg campaign in the early summer of 1863 . \\n', ' Major General Thomas C. Hindman , sent to command the district of Arkansas in May , 1862 , found the state nearly destitute of military material . Hindman established another armory at Arkadelphia , and revived the Little Rock Arsenal as a collection point and depot for armaments and ammunition manufacture for small arms . Hindman recorded : \\n', ' \" Machinery was made for manufacturing percussion caps and small arms , and both were turned out in small quantity , but of excellent quality . Lead mines were opened and worked , and a chemical laboratory was established and successfully operated in aid of the Ordnance Department and in the manufacture of calomel , castor oil , spirits of nitre , the various tinctures of iron , and other valuable medicines . Most of these works were located at or near Arkadelphia on the Ouachita River , 75 miles south from Little Rock . The tools , machinery , and the material were gathered piecemeal or else made by hand labor . Nothing of this sort had been before attempted on Government account in Arkansas to my knowledge , except for the manufacture of small arms , the machinery for which was taken away by General Van Dorn and there was neither capital nor sufficient enterprise among the citizens to engage in such undertakings � A further supply , along with lead and caps , was procured from the citizens of Little Rock and vicinity by donation , purchases , and impressments . \\n', ' This ammunition , and that which I brought with me , was rapidly prepared for use at the Laboratory established at the Little Rock Arsenal for that purpose . As illustrating as the pitiful scarcity of material in the country , the fact may be stated that it was found necessary to use public documents of the State Library for cartridge paper . Gunsmiths were employed or conscripted , tools purchased or impressed , and the repair of the damaged guns I brought with me and about an equal number found at Little Rock commenced at once . But , after inspecting the work and observing the spirit of the men I decided that a garrison 500 strong could hold out against Fitch and that I would lead the remainder - about 1500 - to Gen \\'l Rust as soon as shotguns and rifles could be obtained from Little Rock instead of pikes and lances , with which most of them were armed . Two days elapsed before the change could be effected . \" \\n', ' The Confederate ordnance establishment at Little Rock was reactivated in August , 1862 . Looking around for a suitable person to head this activity , General Hindman turned to the Confederate Navy and borrowed Lieutenant John W. Dunnington . Lt. Dunnington was the commander of the gunboat C.S.S. Ponchartrain , which had been brought to Little Rock in hopes of converting it to an ironclad . Dunnington was selected to head the ordnance works at Little Rock , and although he continued to draw his pay from the Confederate Navy Department , he was placed in charge of all Confederate ordnance activities ( which included artillery functions ) there with the rank of lieutenant colonel . \\n', ' Lt. Col. Dunnington \\'s \" Returns for the month of August , 1862 , at Little Rock Arsenal , C.S.A. , \" are found in Vol . 149 , Chapter IV of the \" Captured Rebel Ordnance Records , \" and are most enlightening as to the scope of Confederate ordnance activities at Little Rock during this crucial time . According to Dunnington , \" When I assumed command at this Post , all material had been removed to Arkadelphia . There were no persons employed . No shops were open for repair of arms or for fabricating ammunition . Material , tools , etc . , had to be procured as well as the employment of laborers . Work commenced the last part of the month . \" \\n', \" The military force at Little Rock under Dunnington 's command consisted of four officers : himself , Major John B. Lockman , Captain C.C. Green , and 2nd Lt. W.W. Murphy . In addition to these , he had 20 enlisted men and a civilian force composed of a foreman , 2 clerks , 3 gunsmiths for repairing small arms , a laboratorian , 26 laborers in the ammunition laboratory , and a carpenter for making packing boxes . \\n\", ' During the month of August , 1862 , the following work was performed : \" Fabricated : one pair of musket bullet moulds ; 10 @,@ 000 buck & ball shot cartridges ; repaired : 750 muskets , shotguns , and rifles ; received and repaired : ordnance stores and ordnances ; performed : guard , office , and police duties ; inspected : Posts at Camden and Arkadelphia . \" \\n', ' Lt. Col. Dunnington continued to build up his works at Little Rock until November 1862 , when Captain Sanford C. Faulkner ( composer of The Arkansas Traveler ) was placed in charge of the Arsenal . Dunnington presumably returned to his naval duties and the Ponchartrain . \\n', ' A \" Summary of the Work Done for November , 1862 , Little Rock Arsenal \" shows : Fabrication : \\n', ' 75 @,@ 000 buck & ball cartridges - percussion \\n', ' 14 @,@ 000 buck & ball cartridges - flint \\n', ' 275 paper fuzes \\n', ' 117 rounds , 6 @-@ pounder canister shot \\n', ' 130 rounds , 6 @-@ pounder ball shot \\n', ' 96 ammunition packing boxes \\n', ' Repaired : \\n', ' 2 @,@ 236 shotguns and rifles ( repaired mostly for troops in service ) \\n', ' 23 pistols ( repaired mostly for troops in service ) \\n', ' Received & Issued : \\n', ' 752 packages of ordnance and ordnance stores received and mostly issued to troops in service . \\n', ' Repaired and painted : \\n', ' 4 gun carriages \\n', ' Performed : \\n', ' Guard , office , and police duties . \\n', ' Perhaps the most illuminating points of the above \" Summary of Work \" and those for following months are that the standard ammunition made was . \" buck & ball \" , indicating that the .69 caliber smoothbores and shotguns remained the predominant caliber weapon in use , and of this , nearly one sixth or more of all small arms ammunition was still for flintlock weapons , indicating that no less than a sixth of the Confederate troops in this vicinity were still armed with obsolete flintlock weapons . \\n', ' The \" Summaries of Work done at Little Rock Arsenal , C.S.A. \" continue at about the same pace and scale from August 1862 until August 1863 . Appended to the \" Summary \" for August , 1863 is the ominous notation , \" During the last week in the month , nearly all stores at the Arsenal have been packed and sent to Arkadelphia , in obedience to orders from Chief of Ordnance , District of Arkansas . \" This then marks the beginning of the evacuation of ordnance activities from Little Rock , with the city being surrendered to the advancing Federal troops of Frederick Steele \\'s Arkansas Expedition on September 11 , 1863 . \\n', ' In 1864 , after Little Rock fell to the Union Army and the arsenal had been recaptured , General Fredrick Steele marched 8 @,@ 500 troops from the arsenal beginning the Camden Expedition . \\n', ' The arsenal was briefly seized once more by Joseph Brooks loyalists during the Brooks @-@ Baxter War of 1874 . \\n', ' = = Decommissioning = = \\n', ' In 1873 , the building was renamed Little Rock Barracks and used as a barracks for married officers and their families . The building was drastically altered the inside and outside . Prior to renovation , a rear basement door provided the only entrance to the building , while the tower served as a hoist to move munitions between floors . By 1868 , front and rear porches had been added to the building , as well as interior walls and stairs , some of which remain today , including the central staircase . In 1880 , Douglas MacArthur was born on the northwest upper floor of this building while his father , Captain Arthur MacArthur , was stationed there . \\n', ' In the 1880s , the federal government began closing many small arsenals around the country in favor of smaller ones built near railroads for quick deployment . The arsenal commander received word from Washington that the Little Rock site must be abandoned \" not later than October 1 , 1890 . \" On April 12 , 1893 the tower building and the surrounding buildings were traded to the city of Little Rock for 1 @,@ 000 acres ( 4 km ² ) in North Little Rock under the condition that the building and land be \" forever exclusively devoted to the uses and purposes of a public park \" for 1 @,@ 000 acres ( 4 km ² ) in Big Rock Mountain on the north side of the Arkansas River , present day North Little Rock . That site later became Fort Logan H. Roots . All of the original buildings surrounding the Tower Building were demolished . \\n', ' = = Æsthetic Club = = \\n', ' In 1894 the Little Rock Æsthetic Club , one of the oldest women \\'s societies west of the Mississippi River , moved into the Tower Building . This was prompted due to increased membership and a need for larger , more permanent quarters . The previous year , club members working with women \\'s organizations throughout the state , raised money to furnish the Arkansas Building of the Columbian Exposition at The Chicago World \\'s Fair . At the fair \\'s conclusion , artifacts from the exhibit were displayed in the Tower Building , with the Æsthetic Club invited to meet in the \" Columbian Room . \" \\n', ' Except for Æsthetic Club meetings , the Tower Building remained largely unoccupied for almost fifty years and suffered significant deterioration . The Æsthetic Club provided much @-@ needed financial support during the period and even paid the electric bill during the Great Depression . The Æsthetic Club is still headquartered in the Tower Building . \\n', ' = = Public use = = \\n', \" The building and the surrounding park were used for many public purposes throughout the early 20th century . The Tower Building served as headquarters for the United Confederate Veterans Reunion , May 15 – 18 , 1911 . Over 106 @,@ 000 Civil War veterans , the largest popular gathering in the history of the city up to that time , attended and were housed in the building or camped in the park , which had also become a popular camping area . Later the building served as an armory for the Arkansas National Guard . In 1912 , the second floor of the Tower Building became Little Rock 's first public library . In 1917 , Little Rock built a fire station in the park , that building is now gone . A band shell named for H. H. Foster also was built in the park during this time , but also no longer exists . In 1936 , Works Progress Administration built the Museum of Fine Arts , now called the Arkansas Arts Center , just south of the Tower Building . \\n\", ' The arsenal was listed in the National Register of Historic Places in 1970 . Due to its association with the Camden Expedition of 1864 , the arsenal may be included in the Camden Expedition Sites National Historic Landmark designated in 1994 . \\n', ' In 1942 , the Tower Building was renovated due to the efforts of the Æsthetic Club , Little Rock philanthropist Frederick W. Allsop , and the Works Progress Administration . It became the new home of The Arkansas Museum of Natural History and Antiquities , which had been located in Little Rock City Hall . The museum remained in the tower building for approximately fifty @-@ five years . The area surrounding the Tower Building had been known as Arsenal Park when the first decommissioned and then later renamed City Park . Due to the efforts of Bernie Babcock , however , the city finally named it MacArthur Park in 1942 in honor of Douglas MacArthur . \\n', \" In 1997 , the Museum of Science and Natural History merged with the Little Rock Children 's Museum , which had been located in Union Station , to form the Arkansas Museum of Discovery . The new museum was relocated to a historic building in the Little Rock River Market District . The MacArthur Museum of Arkansas Military History opened on May 19 , 2001 in the Tower Building . The new museum 's goal is to educate and inform visitors about the military history of Arkansas , preserve the Tower Building , honor servicemen and servicewomen of the United States and commemorate the birthplace of Douglas MacArthur . \\n\", ' = Cicely Mary Barker = \\n', \" Cicely Mary Barker ( 28 June 1895 – 16 February 1973 ) was an English illustrator best known for a series of fantasy illustrations depicting fairies and flowers . Barker 's art education began in girlhood with correspondence courses and instruction at the Croydon School of Art . Her earliest professional work included greeting cards and juvenile magazine illustrations , and her first book , Flower Fairies of the Spring , was published in 1923 . Similar books were published in the following decades . \\n\", \" Barker was a devout Anglican , and donated her artworks to Christian fundraisers and missionary organizations . She produced a few Christian @-@ themed books such as The Children ’ s Book of Hymns and , in collaboration with her sister Dorothy , He Leadeth Me . She designed a stained glass window for St. Edmund 's Church , Pitlake , and her painting of the Christ Child , The Darling of the World Has Come , was purchased by Queen Mary . \\n\", \" Barker was equally proficient in watercolour , pen and ink , oils , and pastels . Kate Greenaway and the Pre @-@ Raphaelites were the principal influences on her work . She claimed to paint instinctively and rejected artistic theories . Barker died in 1973 . Though she published Flower Fairy books with spring , summer , and autumn themes , it wasn 't until 1985 that a winter collection was assembled from her remaining work and published posthumously . \\n\", ' = = Biography = = \\n', ' = = = Early life = = = \\n', ' Barker was born the second daughter and youngest child of Walter Barker , a partner in a seed supply company and an amateur artist , and his wife Mary Eleanor ( Oswald ) Barker on 28 June 1895 at home at 66 Waddon Road in Croydon , Surrey , England . Barker was an epileptic as a child , and cared for at home by her parents . Later , her sister and elder by two years , Dorothy Oswald Barker , continued the care . \\n', ' The family of four was moderately well off , and belonged to the lower end of the upper middle class . A nanny , a governess , and a cook to prepare special meals for Barker were hired . She spent much time in bed at home amusing herself with painting books and a nursery library that included the works of Kate Greenaway and Randolph Caldecott – two artists who exerted strong influences on her later art . \\n', ' = = = Art education and first professional work = = = \\n', ' Barker took correspondence courses in art , probably until about 1919 . In 1908 at 13 years , she entered an evening class at the Croydon School of Art , and attended the school into the 1940s . In time , she received a teaching position . \\n', ' In 1911 , Raphael Tuck & Sons bought four of Barker \\'s \" little drawings \" for half a sovereign , and published them as postcards . In October 1911 , she won second prize in the Croydon Art Society \\'s poster competition , and shortly afterward was elected the youngest member of the Society . The art critic for the Croydon Advertiser remarked , \" Her drawings show a remarkable freedom of spirit . She has distinct promise . \" \\n', \" Following her father ’ s death in June 1912 , the seventeen @-@ year @-@ old Barker submitted art and poetry to My Magazine , Child ’ s Own , Leading Strings , and Raphael Tuck annuals in an effort to support both her mother and sister . Her sister Dorothy taught kindergarten in two private schools before opening a kindergarten at home . She brought in some money for the family 's support while supervising the household . \\n\", ' = = = Flower Fairies of the Spring , 1923 = = = \\n', ' Fairies became a popular theme in art and literature in the early 20th century following the releases of The Coming of the Fairies by Sir Arthur Conan Doyle , Peter Pan by J.M. Barrie , and the fairy @-@ themed work of Australian Ida Rentoul Outhwaite . Queen Mary made such themes even more popular by sending Outhwaite postcards to friends during the 1920s . In 1918 , Barker produced a postcard series depicting elves and fairies . \\n', ' In 1923 , Barker sent her flower fairy paintings to various publishers . Blackie paid £ 25 for 24 paintings with accompanying verses , but it wasn \\'t until publication of Flower Fairies of the Summer in 1925 that Barker received royalties for her work . Mary Violet Clayton Calthrop , wife of author Dion Clayton Calthrop , wrote in April 1925 about Barker and Flower Fairies of the Spring : \" She has such exquisite taste , besides draughtsmanship . \" \\n', ' = = = The Waldrons = = = \\n', ' In 1924 , the family moved into a four @-@ level , semi @-@ detached Victorian house at 23 The Waldrons . Barker had a studio built in the garden and her sister conducted a kindergarten in a room at the back of the house . The family lived frugally and attended both St. Edmund \\'s and St. Andrew \\'s in Croydon – \" low \" churches for the less privileged . Barker sometimes incorporated portraits of her fellow parishioners in her religious works . She was described by Canon Ingram Hill as \" one of the pillars \" of St. Andrew \\'s . \\n', ' The children in the kindergarten modelled for the Flower Fairies until the kindergarten closed in 1940 . In an interview in 1958 , Barker said , \" My sister ran a kindergarten and I used to borrow her students for models . For many years I had an atmosphere of children about me – I never forgot it . \" She also painted the children of relatives as well as Gladys Tidy , the Barkers \\' young housekeeper , who posed for the Primrose Fairy in 1923 . The plants were painted from life , and if a specimen was not readily at hand , Kew Gardens staff would provide her the specimens needed . Barker designed and built the Flower Fairy costumes , and based each on the flowers and leaves of the particular plant to be illustrated . The costumes were kept in a trunk in her studio along with wings made of twigs and gauze . Each was broken down after an illustration was completed and the parts recycled for other costumes . She often referred to Dion Clayton Calthrop \\'s English Costume . \\n', ' = = = Middle years = = = \\n', ' In the late 1920s , Barker began to doubt she was doing enough for the church and considered focusing solely on sacred works . Family and friends recommended she continue secular and sacred works , which she did . \\n', ' Barker continued to attend evening classes at the Croydon Art School between the 1920s and the 1940s , eventually receiving a teaching position . She took sketching trips to Amberley and Storrington in Sussex and to Cornwall and the southern coast with family and friends . She visited and stayed with artist Margaret Tarrant in Gomshall , Surrey and with family in Ugglebarnby , Near Whitby , North Yorkshire . \\n', \" In 1940 , the Barker 's live @-@ in maid retired , and Dorothy Barker closed her school at the back of the house in The Waldrons . She continued to supervise the household , and to give both her mother and sister the care they needed . Dorothy and her sister collaborated upon only two books : Our Darling 's First Book and the Christian @-@ themed , He Leadeth Me . In 1954 Dorothy Barker died of a heart attack . Barker was unable to pursue her art to any significant extent following her sister 's death , as all the care of her aged mother devolved upon her , but she did manage to begin planning a stained glass window design in her sister 's memory for St. Edmund 's , Pitlake . \\n\", ' = = = Later life and death = = = \\n', \" Barker 's mother died in 1960 , and , in 1961 , Barker moved from 23 The Waldrons to 6 Duppas Avenue in Croydon . She restored a maisonette in Storrington , Sussex , England , bequeathed by her friend Edith Major , and named it St. Andrew 's . After taking up residence , her health began to deteriorate . She was in and out of nursing and convalescent homes , and tended by relatives and friends . \\n\", \" Barker died at Worthing Hospital on 16 February 1973 , aged 77 years . Two funeral services were held – one in Storrington Church and one in Barker 's maisonette . Her ashes were scattered in Storrington churchyard . In 1989 , Frederick Warne , a division of Penguin Books since 1983 , acquired the Flower Fairies properties . \\n\", ' = = Art = = \\n', ' Barker worked principally in watercolor with pen @-@ and @-@ ink , but she was equally competent in black @-@ and @-@ white , in oils , and in pastels . She carried a sketchbook with her for capturing interesting children . She once indicated , \" I have always tried to paint instinctively in a way that comes naturally to me , without any real thought or attention to artistic theories . \" \\n', \" Kate Greenaway was a childhood favorite and an influence on her art . Barker 's child subjects wear nostalgic clothing as Greenaway 's children do , though Barker 's children are less melancholy and less flat in appearance , due perhaps to advances in printing technology . Barker studied flowers with an analytical eye and was friend to children 's illustrator , Margaret Tarrant . Along with Greenaway , illustrator Alice B. Woodward also influenced Barker 's work . \\n\", ' The Pre @-@ Raphaelites were a strong , lifelong influence on Barker . She once indicated , \" I am to some extent influenced by them — not in any technical sense , but in the choice of subject matter and the feeling and atmosphere they could achieve . \" She admitted a fondness for the early paintings of John Everett Millais and \" the wonderful things \" of Edward Burne @-@ Jones . \\n', ' = = = Depictions of children = = = \\n', \" Barker 's sketches , drawings , and paintings of children were given to friends or to the parents of the subjects , donated to charitable institutions and church sponsored events , or exhibited through various art organizations . She illustrated magazine covers , dust jackets , and produced series of postcards for Raphael Tuck and other publishers such as Picturesque Children of the Allies ( 1915 ) , Seaside Holidays ( 1918 ) , and Shakespeare 's Boy and Girl Characters ( 1917 , 1920 ) . Her own Old Rhymes for All Times ( 1928 ) and The Lord of the Rushie River ( 1938 ) , a tale about a girl who lives among swans on a riverbank , were critically well received . Set about 1800 , Groundsel and Necklaces ( 1943 ) tells of a girl named Jenny who rescues her family from poverty through the agency of the fairies . The story features an old Scrooge @-@ like man called Mr. Petercoo and tonally suggests a Dickensian social consciousness . Simon the Swan , intended as a sequel to Rushie River was outlined in 1943 with Groundsel , but only developed in 1953 . It was published posthumously in 1988 and is critically considered less successful than Groundsel . \\n\", ' = = = Christian @-@ themed works = = = \\n', \" Barker was a devout Christian , and produced religious @-@ themed works throughout her life . She published eight postcards and five guardian angel birthday cards for the Society for Promoting Christian Knowledge in 1916 and in 1923 respectively . Christmas cards were designed for The Girls ' Friendly Society over a 20 @-@ year period , and the first three designs sold out a combined printing of 46 @,@ 500 in 1923 . An original design for the society called The Darling of the World Has Come was purchased by Queen Mary for ₤ 5 @.@ 5 @.@ 0 in 1926 . The Croydon Art Society hung Barker 's booklet cover design for the Society for the Propagation of the Gospel in its November 1919 exhibition . \\n\", \" Religious @-@ themed books include The Children 's Book of Hymns ( 1929 ) and He Leadeth Me ( 1933 ) , the latter written in collaboration with her sister . Major religious works include the triptychs in oil , The Feeding of the Five Thousand ( 1929 ) , for the chapel in Llandaff House , a home for destitute women at Penarth , Wales , and The Parable of the Great Supper ( 1934 ) for St. George 's Chapel , Waddon . The Feeding has since disappeared , and only a black @-@ and @-@ white photograph dated 1929 reproduces the work . In 1941 , she completed oil panels on the subject of the seven sacraments for the baptismal font at St. Andrew 's , South Croydon . She designed baptismal rolls for the wall behind the font in 1948 and 1962 . In 1946 , she completed the 4 x 7 ft. oil painting , Out of Great Tribulation , for the Memorial Chapel of Norbury Methodist Church . Following the death of her sister in 1954 , Barker began designs for a stained glass memorial window depicting Christ preparing to wash the feet of his disciples . Her last religious @-@ themed work , it was installed in St. Edmund 's , Pitlake , in 1962 . \\n\", ' = = Works = = \\n', ' = = = Cards = = = \\n', ' Picturesque Children of the Allies ; J. Salmon , 1916 \\n', ' National Mission ; Society for the Preservation of Christian Knowledge , 1916 \\n', \" Shakespeare 's Boy Characters ; C. W. Faulkner , 1917 \\n\", \" Shakespeare 's Girl Characters ; C. W. Faulkner , 1920 \\n\", ' Seaside Holiday ; J. Salmon , 1918 , 1921 \\n', ' Elves and Fairies ; S. Harvey , 1918 \\n', ' Guardian Angel ; Society for the Preservation of Christian Knowledge , 1923 \\n', \" Christmas cards ; Girls ' Friendly Society , 1920s , 1930s \\n\", ' Christmas cards ( US ) ; Barton @-@ Colton , 1920s , 1930s \\n', ' Beautiful Bible Pictures ; Blackie , 1932 \\n', ' = = = Books = = = \\n', ' Flower Fairies of the Spring ; Blackie , 1923 \\n', ' Spring Songs with Music ; Blackie , 1923 \\n', ' Flower Fairies of the Summer ; Blackie , 1925 \\n', ' Child Thoughts in Picture and Verse ( by M. K. Westcott ) ; Blackie , 1925 \\n', ' Flower Fairies of the Autumn ; Blackie , 1926 \\n', ' Summer Songs with Music ; Blackie , 1926 \\n', ' The Book of the Flower Fairies ; Blackie , 1927 \\n', ' Autumn Songs with Music ; Blackie , 1927 \\n', ' Old Rhymes for All Times ; Blackie , 1928 \\n', ' The Children ’ s Book of Hymns ; Blackie , 1929 ; rep . 1933 \\n', ' Our Darling ’ s First Book ( written in collaboration with Dorothy Barker ) ; Blackie , 1929 \\n', ' The Little Picture Hymn Book ; Blackie , 1933 \\n', ' Rhymes New and Old ; Blackie , 1933 \\n', ' A Flower Fairy Alphabet ; Blackie , 1934 \\n', ' A Little Book of Old Rhymes ; Blackie , 1936 \\n', ' He Leadeth Me ( written in collaboration with Dorothy Barker ) ; Blackie , 1936 \\n', ' A Little Book of Rhymes New and Old ; Blackie , 1937 \\n', ' The Lord of the Rushie River ; Blackie , 1938 \\n', ' Flower Fairies of the Trees ; Blackie , 1940 \\n', ' When Spring Came In at the Window ; Blackie , 1942 \\n', ' A Child ’ s Garden of Verses ( Robert Louis Stevenson ) ; Blackie , 1944 \\n', ' Flower Fairies of the Garden ; Blackie , 1944 \\n', ' Groundsel and Necklaces ; Blackie , 1946 ; reprinted as Fairy Necklaces \\n', ' Flower Fairies of the Wayside ; Blackie , 1948 \\n', ' Flower Fairies of the Flowers and Trees ; Blackie , 1950 \\n', ' Lively Stories ; Macmillan , 1954 \\n', ' The Flower Fairy Picture Book ; Blackie , 1955 \\n', ' Lively Numbers ; Macmillan , 1957 \\n', ' Lively Words ; Macmillan , 1961 . \\n', ' The Sand , the Sea and the Sun ; Gibson , 1970 \\n', ' = = = = Posthumously published = = = = \\n', ' Flower Fairies of the Winter ; Blackie , 1985 \\n', ' Simon the Swan ; Blackie , 1988 \\n', ' Flower Fairies of the Seasons ; Bedrick / Blackie , 1988 \\n', ' A Little Book of Prayers and Hymns ; Frederick Warne , 1994 \\n', ' A Flower Fairies Treasury ; Frederick Warne , 1997 \\n', ' Fairyopolis ; Frederick Warne , 2005 \\n', ' Wild Cherry Makes A Wish ; ( collaboration with Pippa Le Quesne ) Frederick Warne , 2006 \\n', ' How to find Flower Fairies ; Frederick Warne , 2007 \\n', ' Return to Fairyopolis ; Frederick Warne , 2008 \\n', ' = = = Book covers = = = \\n', ' A New Epiphany ; Society for the Preservation of Christian Knowledge , 1919 \\n', ' 43 Annuals ; Blackie , 1920s , 1930s \\n', ' = = = Religious works = = = \\n', \" St. Cecily 's Garden ; 1920 \\n\", \" Cradle roll design ; St. Edmund 's , Pitlake , 1922 \\n\", \" Banner design ; St. Mary 's , Sanderstead , 1923 \\n\", ' The Feeding of the Five Thousand ; reredos triptych , chapel at Penarth , Wales ; 1929 \\n', \" The Parable of the Great Supper ; triptych , St. George 's chapel , Waddon \\n\", \" The Seven Sacraments ; baptismal font panels , St. Andrew 's , Croydon \\n\", ' St. John the Baptist ; central banner panel , Abesford church , 1943 \\n', ' Lettering , sword , and shield ; mount for a list of men and woman serving in the Forces , St. Andrews , Croydon , 1943 \\n', ' Baptismal rolls ; St. Andrews , Croydon , 1948 , 1962 \\n', \" The font in St Andrew 's Church , South Croydon \\n\", ' Out of Great Tribulation ; memorial chapel , Norbury Medthodist church , 1948 \\n', \" I Am Among You As He That Serveth ; stained glass window design , St. Edmund 's , Pitlake , 1962 \\n\", \" = Gambia women 's national football team = \\n\", \" The Gambia women 's national football team represents the Gambia in international football competition . The team , however , has not competed in a match recognised by FIFA , the sport 's international governing body , despite that organised women 's football has been played in the country since 1998 . The Gambia has two youth teams , an under @-@ 17 side that has competed in FIFA U @-@ 17 Women 's World Cup qualifiers , and an under @-@ 19 side that withdrew from regional qualifiers for an under @-@ 19 World Cup . The development of a national team faces challenges similar to those across Africa , although the national football association has four staff members focusing on women 's football . \\n\", ' = = The team = = \\n', \" In 1985 , few countries had women 's national football teams . While the sport gained popularity worldwide in later decades , the Gambia 's national team only played its first game in 2007 . That game was not FIFA @-@ recognised . As of March 2012 , the team was unranked by FIFA , and as of the following month the Gambia had not played in a FIFA @-@ sanctioned match . The team has not participated in major regional and international tournaments , including the Women 's World Cup , the 2010 African Women 's Championship or the 2011 All @-@ Africa Games . \\n\", \" The country did not have a FIFA @-@ recognised youth national team until 2012 , when the Gambia under @-@ 17 women 's team competed in Confederation of African Football qualifiers for the FIFA U @-@ 17 World Cup , to be held in Azerbaijan in September 2012 . The Gambia had fielded an under @-@ 17 team of 24 players , narrowed from an initial pool of 49 young women . Two girls from the SOS Children ’ s Village Bakoteh were chosen as a members of the team . The Gambia first played Sierra Leone in a pair of qualifying matches for the tournament . Gambia won the first match 3 @-@ 0 in Banjul , the Gambia 's capital . The return match was delayed in for 24 hours and played in Makeni . The Gambia beat Sierra Leone 4 @-@ 3 to qualify for the final round . The Gambia then beat Tunisia 1 @-@ 0 at home and won 2 @-@ 1 in Tunisia . Adama Tamba and Awa Demba scored the Gambia 's goals . Tunisia 's only goal was a Gambian own goal . The win qualified Gambia for the 2012 Azerbaijan World Cup . \\n\", \" The Gambia also has an under @-@ 19 team that was to play in the African Women 's U @-@ 19 Championship in 2002 . The Gambia 's first match was against Morocco , but the team withdrew from the competition . \\n\", ' = = Background and development = = \\n', \" The development of women 's football in Africa faces several challenges , including limited access to education , poverty amongst women , inequalities and human rights abuses targeting women . Funding is another issue impacting the game in Africa , where most financial assistance comes from FIFA and not national football associations . Another challenge is the retention of football players . Many women footballers leave the continent to seek greater opportunity in Europe or the United States . \\n\", \" Gambia 's national football association was founded in 1952 , and became affiliated with FIFA in 1968 . Football is the most popular women 's sport in the country , and was first played in an organized system in 1998 . A national competition was launched in 2007 , the same year FIFA started an education course on football for women . Competition was active on both the national and scholastic levels by 2009 . There are four staffers dedicated to women 's football in the Gambia Football Association , and representation of women on the board is required by the association 's charter . \\n\", ' = Plain maskray = \\n', ' The plain maskray or brown stingray ( Neotrygon annotata ) is a species of stingray in the family Dasyatidae . It is found in shallow , soft @-@ bottomed habitats off northern Australia . Reaching 24 cm ( 9 @.@ 4 in ) in width , this species has a diamond @-@ shaped , grayish green pectoral fin disc . Its short , whip @-@ like tail has alternating black and white bands and fin folds above and below . There are short rows of thorns on the back and the base of the tail , but otherwise the skin is smooth . While this species possesses the dark mask @-@ like pattern across its eyes common to its genus , it is not ornately patterned like other maskrays . \\n', ' Benthic in nature , the plain maskray feeds mainly on caridean shrimp and polychaete worms , and to a lesser extent on small bony fishes . It is viviparous , with females producing litters of one or two young that are nourished during gestation via histotroph ( \" uterine milk \" ) . This species lacks economic value but is caught incidentally in bottom trawls , which it is thought to be less able to withstand than other maskrays due to its gracile build . As it also has a limited distribution and low fecundity , the International Union for Conservation of Nature ( IUCN ) has listed it as Near Threatened . \\n', ' = = Taxonomy and phylogeny = = \\n', ' The first scientific description of the plain maskray was authored by Commonwealth Scientific and Industrial Research Organisation ( CSIRO ) researcher Peter Last in a 1987 issue of Memoirs of the National Museum of Victoria . The specific name annotatus comes from the Latin an ( \" not \" ) and notatus ( \" marked \" ) , and refers to the ray \\'s coloration . The holotype is a male 21 @.@ 2 cm ( 8 @.@ 3 in ) across , caught off Western Australia ; several paratypes were also designated . Last tentatively placed the species in the genus Dasyatis , noting that it belonged to the \" maskray \" species group that also included the bluespotted stingray ( then Dasyatis kuhlii ) . In 2008 , Last and William White elevated the kuhlii group to the rank of full genus as Neotrygon , on the basis of morphological and molecular phylogenetic evidence . \\n', ' In a 2012 phylogenetic analysis based on mitochondrial and nuclear DNA , the plain maskray and the Ningaloo maskray ( N. ningalooensis ) were found to be the most basal members of Neotrygon . The divergence of the N. annotata lineage was estimated to have occurred ~ 54 Ma . Furthermore , the individuals sequenced in the study sorted into two genetically distinct clades , suggesting that N. annotata is a cryptic species complex . The two putative species were estimated to have diverged ~ 4 @.@ 9 Ma ; the precipitating event was likely the splitting of the ancestral population by coastline changes . \\n', ' = = Description = = \\n', ' The pectoral fin disc of the plain maskray is thin and diamond @-@ shaped with narrowly rounded outer corners , measuring 1 @.@ 1 – 1 @.@ 3 times longer than wide . The leading margins of the disc are gently concave and converge at a broad angle to the pointed tip of the snout . The small eyes are placed close together , and behind them are the spiracles . The nostrils are elongated and have a skirt @-@ shaped flap of skin between them . The small mouth bears prominent furrows at the corners and contains two slender papillae on the floor . Small papillae are also found around the outside of the mouth . There are five pairs of gill slits . The pelvic fins are fairly large and pointed . \\n', ' The tail is short , barely exceeding the length of the disc when intact , and has a broad and flattened base leading to usually two stinging spines . After the stings , the tail becomes slender and bears a long ventral fin fold and a much shorter , lower dorsal fin fold . Most of the body lacks dermal denticles ; a midline row of 4 – 13 small , closely spaced thorns is present behind the spiracles , and another row of 0 – 4 thorns before the stings . The dorsal coloration is grayish green , becoming pinkish towards the disc margins ; there is a dark mask @-@ like shape around the eyes and a pair of small dark blotches behind the spiracles . The tail behind the stings has alternating black and white bands of variable width , ending with black at the tip . The underside is plain white and the ventral fin fold is light grayish in color . This species grows to 24 cm ( 9 @.@ 4 in ) across and 45 cm ( 18 in ) long . \\n', ' = = Distribution and habitat = = \\n', ' The plain maskray inhabits the continental shelf of northern Australia from the Wellesley Islands in Queensland to the Bonaparte Archipelago in Western Australia , including the Gulf of Carpentaria and the Timor and Arafura Seas . There are unsubstantiated reports that its range extends to southern Papua New Guinea . It is the least common of the several maskray species native to the region . This species is a bottom @-@ dweller that prefers habitats with fine sediment . It has been recorded from between 12 and 62 m ( 39 and 203 ft ) deep , and tends to be found farther away from shore than other maskrays in its range . \\n', ' = = Biology and ecology = = \\n', ' The plain maskray generally hunts at the surface of the bottom substrate , rather than digging for prey . Its diet consists predominantly of caridean shrimp and polychaete worms . Small bony fishes are also eaten , along with the occasional penaeid prawn or amphipod . Larger rays consume a greater variety of prey and relatively more polychaete worms when compared to smaller rays . This species is parasitized by the tapeworm Acanthobothrium jonesi . \\n', ' Like other stingrays , the plain maskray is viviparous with the developing embryos sustained to term by histotroph ( \" uterine milk \" ) produced by the mother . Mature females have a single functional ovary and uterus , on the left . Litter size is one or two ; the newborns measure 12 – 14 cm ( 4 @.@ 7 – 5 @.@ 5 in ) across . Males and females reach sexual maturity at disc widths of 20 – 21 cm ( 7 @.@ 9 – 8 @.@ 3 in ) and 18 – 19 cm ( 7 @.@ 1 – 7 @.@ 5 in ) respectively . The maximum lifespan is estimated to be 9 years for males and 13 years for females . \\n', ' = = Human interactions = = \\n', \" The main conservation threat to the plain maskray is incidental capture by commercial bottom trawl fisheries . In the present day , this is mostly caused by Australia 's Northern Prawn Fishery , which operates throughout its range . Although this species is discarded when caught , it is more delicate @-@ bodied than other maskrays and is thus unlikely to survive encounters with trawling gear . Historically , this species may also have been negatively affected by Japanese , Chinese , and Taiwanese trawlers that fished intensively off northern Australia from 1959 to 1990 . These factors , coupled with the plain maskray 's limited distribution and low reproductive rate , have resulted in its being assessed as Near Threatened by the International Union for Conservation of Nature ( IUCN ) . \\n\", ' = 2011 – 12 Columbus Blue Jackets season = \\n', \" The 2011 – 12 Columbus Blue Jackets season was the team 's 12th season in the National Hockey League ( NHL ) . The Blue Jackets ' record of 29 – 46 – 7 [ note 1 ] was the worst record in the NHL for 2011 – 12 and the first time in franchise history they finished in last place . It also marked the third straight year that they missed the playoffs . Consequently , they had the best chance to receive the first overall selection in the 2012 NHL Entry Draft lottery , but lost out to the Edmonton Oilers and received the second pick instead . \\n\", \" The Blue Jackets began the year with the worst start in franchise history and the worst by any team in an NHL season in 19 years . After an 11 – 25 – 5 start , Head Coach Scott Arniel was fired and replaced by Assistant Coach Todd Richards . The poor season prompted several personnel changes including the trade of All @-@ Star forward Jeff Carter , who was acquired with much fanfare during the off @-@ season . With the prospect of another rebuild looming the Blue Jackets ' captain and best player , Rick Nash , requested to be traded , though he would remain with the team for the entire season . \\n\", ' The team was involved in a controversial loss to the Los Angeles Kings , when the Staples Center clock appeared to freeze at 1 @.@ 8 seconds allowing the Kings time to score the tying goal , before winning in overtime . During the season Columbus managed only two winning streaks of three or more games . One of which came towards the end of the year helping the Blue Jackets finish with 65 points , the third worst point total in franchise history . \\n', ' = = Off @-@ season = = \\n', \" In the off @-@ season the Blue Jackets ' approach to building their team changed , moving from a team of young developing players into one with established players . The first deal General Manager Scott Howson made was the acquisition of All @-@ Star forward Jeff Carter on June 23 , 2011 . The deal sent Jakub Voracek , Columbus ' first @-@ round draft choice , the eighth overall , and their third @-@ round pick in the 2011 Draft to the Philadelphia Flyers in exchange for Carter . The trade received a positive response in Columbus from fans and management who felt they finally had a number one center to play alongside of their best player , Rick Nash . Next , they traded for the negotiating rights of soon to be free agent James Wisniewski . Wisniewski scored a career high 51 points during the 2010 – 11 season , splitting time between the New York Islanders and Montreal Canadiens . The point total was fifth @-@ highest in the league for defenseman scoring , tying Tobias Enstrom . The Blue Jackets came to terms with Wisniewski , just an hour prior to the start of free agency , signing him to a six @-@ year , $ 33 million deal . \\n\", ' Columbus also traded former first round draft pick Nikita Filatov to the Ottawa Senators for a third @-@ round pick in the 2011 Draft . Filatov had failed to live up to expectations in Columbus , playing in only 44 games over three seasons scoring six goals . Prior to the start of the season , the Blue Jackets were questioned for not signing a veteran back @-@ up to starting goaltender Steve Mason , as the former Calder Memorial Trophy winner had struggled in consecutive seasons . The Blue Jackets signed Mark Dekanich as the back @-@ up who had only 50 minutes of NHL experience prior to the start of the season . Columbus did sign a veteran Curtis Sanford to be their third string goaltender and to start for their American Hockey League ( AHL ) affiliate , the Springfield Falcons . Sanford had not played in the NHL since 2009 . During training camp , Dekanich suffered a high ankle sprain that was expected to keep him out of the line @-@ up for a month . Additionally , Sanford suffered a groin injury , leaving Allen York as the back @-@ up . York had only played four professional games , all in the AHL , entering the season . \\n', ' = = Regular season = = \\n', ' = = = October – December = = = \\n', ' After the first five games , all losses , Jeff Carter suffered a broken foot that kept him out of the line @-@ up for 10 games . While Carter was injured , the Blue Jackets continued to lose games . In the eighth game of the year , they had a chance to end the losing streak against the Ottawa Senators . Columbus held a 3 – 2 lead with under a minute to play . Jason Spezza tied the game on a late power play , and with just 4 @.@ 7 seconds remaining , Milan Michalek notched the winning goal for the Senators . The loss helped set a franchise record for futility with a 0 – 7 – 1 record to start a season . [ note 1 ] The losing streak came to an end three days later with a win over the Detroit Red Wings . During the game , several milestones were reached . James Wisniewski made his Columbus debut , Ryan Johansen and John Moore scored their first career NHL goals and Grant Clitsome had a career @-@ high three assists . Columbus was unable to create any momentum from the win , however , and continued to struggle , culminating in a 2 – 12 – 1 record , which was the worst start to an NHL season for any team in 19 years . With the team struggling , management attempted to \" shake things up \" by making some roster moves . The first move was the acquisition of center Mark Letestu from the Pittsburgh Penguins . Next , they traded defenseman Kris Russell to the St. Louis Blues for Nikita Nikitin . As the clubs slow start continued , there were rumors that Head Coach Scott Arniel would be fired and replaced with Ken Hitchcock . Hitchcock had previously coached the Blue Jackets to their only playoff appearance in club history and was still under contract with the franchise through to the end of the season . Before any of these rumors came to fruition , the St. Louis Blues asked Columbus for permission to hire Hitchcock , which the Blue Jackets allowed . Hitchcock began his Blues coaching career with a 6 – 1 – 2 record in his first nine games , while Columbus amassed a 6 – 13 – 3 record to start the season . \\n', \" During the same time frame as the Hitchcock rumors , goaltender Curtis Sanford returned from his groin injury on November 13 . He made his first start of the season against the Boston Bruins , losing 2 – 1 in a shootout . Sanford continued his strong play , posting a 3 – 1 – 2 record , 1 @.@ 38 goals against average and .947 save percentage over his next six games . Sanford started 12 consecutive games before Steve Mason made his next start . The number of starts might not have been as numerous , but prior to the November 23 game , Mason was hit in the head by a shot from Rick Nash during pre @-@ game warm @-@ ups and suffered a concussion . Mason returned from his concussion after two games , making a start against the Vancouver Canucks . Mason allowed only one goal in the game despite suffering from cramping in the third period , temporarily being replaced by Sanford for just over three minutes . Columbus won the game 2 – 1 in a shootout , breaking a nine @-@ game losing streak to the Canucks . After the game , Arniel stated that Sanford was still seen as the team 's number one goaltender . However , Mason started four of the next six games with the Blue Jackets going 0 – 5 – 1 during that stretch . \\n\", ' = = = January – February = = = \\n', ' With the losing continuing , more rumors began to surface . Unlike before , the rumors were about player moves rather than coaching changes . The majority of rumors were that the Blue Jackets would trade Rick Nash . While Howson stated that he had never brought up trading Nash in discussions , other teams had inquired about his availability . Nash stated that if Columbus felt it would make the franchise better than he would be willing to waive his no @-@ trade clause . Howson publicly stated that he had no intention of trading Nash . More rumors came to light when reports attributed to Réseau des sports stated that Carter was unhappy in Columbus and demanded a trade . Howson , Carter and his agent all denied that a trade request was ever made , and they were unsure where the reports were coming from . With the trade deadline approaching , speculation picked up on the Blue Jackets trading Carter . Reports were that Columbus was trying to trade Carter and that he was \" 100 percent available . \" \\n', ' At the halfway point of the season , with the Blue Jackets barely into double digit wins with an 11 – 25 – 5 record , worst in the league , and sitting 20 points out of playoff position , Columbus fired Arniel . He was replaced by Assistant Coach Todd Richards on an interim basis . Richards had previously coached the Minnesota Wild . He recorded his first coaching victory for the Blue Jackets in his second game , a 4 – 3 win over the Phoenix Coyotes . The change in coaching did not change the fortunes of the team , as they reached the All @-@ Star break with a 13 – 30 – 6 record . At the break , Blue Jackets \\' owner John P. McConnell sent out a letter to fans stating his understanding of their frustration . He added that action would be taken around the trade deadline , the Entry Draft and free agency to take the team in a new direction . When speaking of the season , McConnell stated \" disappointing is not a strong enough word \" and that he was committed to giving fans a team of which they can be proud of . He also thanked them for their dedication and passion , while reiterating that the team goal was to \" win consistently and compete for the Stanley Cup . \" Days later , a 250 @-@ person protest occurred outside of Nationwide Arena . Fans were upset with the Blue Jackets \\' management and were calling for changes at the top . The same day the fans protested , it was announced that the franchise would host the 2013 All @-@ Star Game . Columbus was without a representative for the 2012 All @-@ star Game , but Ryan Johansen represented the club as a rookie participant in the Super Skills Competition . In the competition , Johansen participated in the Allstate Insurance NHL Breakaway Challenge , a shootout themed event judged by the fans . He received just 1 % of the vote and finished last . \\n', ' Following the break , the Blue Jackets were on the road playing the Los Angeles Kings , and with the score tied late in the game , Kings \\' defenseman Drew Doughty scored with just 0 @.@ 4 seconds remaining to win the game . Upon review of the goal it , was determined that the clock at Staples Center froze at 1 @.@ 8 seconds for over a full second , which would have resulted in time expiring prior to the goal being scored . Kings \\' General Manager Dean Lombardi stated that the clock was correct and no extra time had been added due to the way the clock self @-@ corrects at various times . Howson stated on the team \\'s blog that \" It is an amazing coincidence that with the Kings on a power play at Staples Center and with a mad scramble around our net in the dying seconds of the third period of a 2 – 2 hockey game that the clock stopped for at least one full second , \" adding that , \" Either there was a deliberate stopping of the clock or the clock malfunctioned . \" NHL Senior Vice President of Hockey Operations Colin Campbell stated that the Blue Jackets were wronged , but that the outcome of the game could not be changed , and that the delay was not noticed by the off @-@ ice officials or the situation room in Toronto . To determine the true cause of the clock pause , the NHL launched an investigation , talking with the clock \\'s manufacturer and interviewing Staples Center staff . \\n', ' Two weeks prior to the NHL trade deadline , Columbus announced that unlike earlier in the season , they would listen to trade proposals involving Rick Nash , though they were not actively shopping him . Howson stated that the team was open to all options for improving the team , including trading Nash . Speculation was that in return for Nash the Blue Jackets would ask for a \" combination of young , proven players , high @-@ end prospects and draft picks . \" Leading up to the trade deadline , the Blue Jackets dealt Antoine Vermette to the Phoenix Coyotes for two draft picks and goaltender Curtis McElhinney . Despite being injured at the time , the acquisition of McElhinney was believed to give Columbus the flexibility to trade Curtis Sanford . The following day , on February 23 , Columbus traded Jeff Carter to the Kings . In the deal , Columbus acquired defenseman Jack Johnson and a first @-@ round draft pick ; the team was given the choice of taking the pick in either 2012 or 2013 . At the deadline , Columbus was unable to come to terms on a deal involving Nash , but they did make one more move ; they sent center Samuel Pahlsson to the Vancouver Canucks in exchange for two fourth @-@ round draft picks and minor league defenseman Taylor Ellington . Following the trade deadline , Howson announced that the team had attempted to trade Nash at the player \\'s request . Nash stated that he had requested the trade after being informed that the franchise was going into another rebuilding phase . He further noted that he felt that he \" could be a huge part of that towards bringing assets in , \" and in his view \" it was the best thing for the team , the organization , and personally for [ his ] career . \" After the personnel changes , the Blue Jackets closed out the month with a three @-@ game losing streak . \\n', ' = = = March – April = = = \\n', ' Columbus started March with a 2 – 0 shutout against the Colorado Avalanche . They proceeded to win their next game against the Phoenix Coyotes 5 – 2 , which marked the first time that the Blue Jackets posted back @-@ to @-@ back regulation victories during the season . Columbus again defeated the Coyotes three days later to earn their first three @-@ game win streak of the season . They extended the streak to four with a win over the Los Angeles Kings before it came to an end with a 4 – 1 loss to the St. Louis Blues . It was the only four @-@ game win streak of the season for the Blue Jackets . They immediately matched their four @-@ game win streak with a four @-@ game losing streak and with ten games remaining , the Blue Jackets were the first team eliminated from playoff contention . Shortly after being eliminated , they were defeated by the Edmonton Oilers 6 – 3 ; the loss clinched last place in the NHL for Columbus . It was the first time in franchise history the Blue Jackets finished in 30th place . \\n', \" Three days later , on March 28 , goaltender Steve Mason was injured in the morning skate when a shot from Colton Gillies hit him in the mask . With Sanford again injured , York made an emergency start . Playing against the Detroit Red Wings , York made 29 saves , including 17 in the third period , helping Columbus to a 4 – 2 victory and giving York his first career NHL win . York remained the starter and led the Blue Jackets to a second three @-@ game winning streak . In his fourth start , Columbus was shutout by the Coyotes despite a franchise @-@ record 54 shots on goal , losing 2 – 0 . The 54 saves by Phoenix goaltender Mike Smith set an NHL record for a regulation shutout . Mason returned to the starter 's role for the final two games , winning both . The two victories gave Columbus 65 points for the year , their third @-@ lowest total in franchise history . \\n\", ' The Blue Jackets struggled in shorthanded situations , allowing the most power @-@ play goals in the League , with 64 , and having the lowest penalty @-@ kill percentage , at 76 @.@ 64 % \\n', ' = = Post @-@ season = = \\n', \" Finishing with the worst record in the NHL , Columbus had the best chance of receiving the first overall pick in the 2012 draft . With the NHL 's weighted draft lottery the Blue Jackets had a 48 @.@ 2 % chance of drafting first overall . However , the lottery was won by the Edmonton Oilers , who proceeded to leapfrog Columbus and secure the number one draft pick for a third consecutive year . It was the fifth time that the Blue Jackets were dropped one draft position in the franchise 's 12 lottery participations . \\n\", ' A month later , on May 14 , the Blue Jackets announced that Richards would remain as head coach and signed him to a two @-@ year contract . During the press conference , Howson noted , \" Our team continuously improved under Todd and he has earned the opportunity to build upon the work he started . \" Columbus posted an 18 – 21 – 2 record under Richards , including winning seven of their final 11 games . \\n', ' = = Standings = = \\n', ' Since being founded as an expansion team , the Blue Jackets have played in the Central Division of the Western Conference . Division rivals Chicago Blackhawks , Detroit Red Wings , Nashville Predators and St. Louis Blues , all made the playoff during the 2011 – 12 season , which helped Columbus finish 36 points behind fourth place Chicago and 44 points out of first . \\n', ' Divisions : CE – Central , NW – Northwest , PA – Pacific \\n', \" bold - qualified for playoffs , y – Won division , p – Won Presidents ' Trophy ( best record in NHL ) \\n\", ' = = Schedule and results = = \\n', ' = = = Pre @-@ season = = = \\n', ' = = = Regular season = = = \\n', ' Green background indicates win ( 2 points ) . \\n', ' Red background indicates regulation loss ( 0 points ) . \\n', ' Silver background indicates overtime / shootout loss ( 1 point ) . \\n', ' = = Player statistics = = \\n', \" In ice hockey , a combination of a player 's goals and assists are collectively called points . Penalty minutes are the total number of minutes assigned to a player for infractions assessed during the season.Plus @-@ minus is a statistic that tracks when a player was on the ice while goals were scored , both for and against their team , though some in game situations will not effect the statistic . Below is a listing of all player statistics for the Blue Jackets during the season . \\n\", ' = = = Skaters = = = \\n', ' Note : Pos \\n', ' = Position ; GP = \\n', ' Games played in ; G \\n', ' = Goals ; A = \\n', ' Assists ; Pts \\n', ' = Points ; PIM = \\n', ' Penalty minutes ; + / - = Plus / minus \\n', ' = = = Goaltenders = = = \\n', ' Note : GP \\n', ' = Games Played ; TOI = \\n', ' Time On Ice ( minutes ) ; W \\n', ' = Wins ; L = \\n', ' Losses ; OT \\n', ' = Overtime Losses ; GA = \\n', ' Goals Against ; GAA = Goals Against Average ; SA = Shots Against ; SV \\n', ' = Saves ; Sv % = \\n', ' Save Percentage ; SO = Shutouts \\n', ' † Denotes player spent time with another team before joining Blue Jackets . Stats reflect time with the Blue Jackets only . ‡ Traded mid @-@ season \\n', ' = = Milestones = = \\n', \" When Mason was injured in warm @-@ ups late in the year , Columbus was without an active goaltender on their roster . To remedy the situation , the team signed former University of Michigan goaltender Shawn Hunwick to a one @-@ day , amateur tryout contract . After being eliminated from the NCAA Tournament just days prior , Hunwick skipped an astronomy class and drove his worn down 2003 Ford Ranger to Columbus to make the game . He served as the back @-@ up to Allen York during the game , and the following day , he signed a contract for the remainder of the year . With Mason returning from injury , Hunwick was third on the team 's depth chart when an injury to York allowed Hunwick to remain as the back @-@ up for the final two games of the year . In the final game of the season , the Blue Jackets were leading the Islanders 7 – 3 with 2 : 33 remaining when , at the behest of his teammates , Head Coach Todd Richards put Hunwick in to finish the game . He did not face a shot . Hunwick was the franchise record ninth player to make his NHL debut during the season . Conversely , Vaclav Prospal played in his 1,000th NHL game during the year . \\n\", ' = = Transactions = = \\n', ' During the off @-@ season the Blue Jackets parted ways with defensemen Jan Hejda , Anton Stralman , Sami Lepisto and Mike Commodore . Hejda , who played four of his first five NHL seasons with the Blue Jackets , was offered a contract by Columbus , but felt that the organization undervalued him and left via free agency . Columbus had offered him a three @-@ year , $ 7 @.@ 5 million contract . He instead signed a four @-@ year , $ 13 million deal with the Colorado Avalanche . Stralman and Lepisto were not given qualifying offers which made them unrestricted free agents , and both signed with other teams . Commodore had originally signed a big contract with the Blue Jackets in 2008 , but fell out of favor . He was waived , sent to the minors and eventually had his contract bought out . In order to replace the departed players , Columbus not only acquired James Wisniewski , but also signed ten @-@ year NHL veteran Radek Martinek . Martinek played only seven games with the Blue Jackets before suffering a concussion and missing the remainder of the season . Brett Lebda was brought in to replace him . \\n', ' = Gregorian Tower = \\n', ' The Gregorian Tower ( Italian : Torre Gregoriana ) or Tower of the Winds ( Italian : Torre dei Venti ) is a round tower located above the Gallery of Maps , which connects the Villa Belvedere with the Apostolic Palace in Vatican City . The tower was built between 1578 and 1580 to a design by the Bolognese architect Ottaviano Mascherino ( who was credited with building the Apostolic Palace ) mainly to promote the study of astronomy for the Gregorian Calendar Reform which was commissioned by Pope Gregory XIII and promulgated in 1582 . It was then also known as the Tower of Winds . The tower is now called the \" Specola Astronomica Vaticana \" , the Vatican Observatory . Four stages of progressive development have occurred since it was first established . The tower was an edifice of great value for astronomical observations made using a sundial as they provided essential confirmation of the need to reform the Julian calendar . \\n', ' = = Early history = = \\n', ' The first stage of building of the tower , as recorded by Leo XIII in his motu proprio Ut mysticam of 1891 , is credited to Pope Gregory XIII , Pope from 1572 to 1585 . The directive was to build a tower at a suitable location in the Vatican and equip it with the \" greatest and best instruments of the time \" . The design was effected after a series of meetings of the experts who had been appointed to reform the Julian calendar , in use since 45 BC , to verify their proposed reforms . Fr . Christoph Clavius , a Jesuit mathematician from the Roman College , was the expert on the committee who suggested the new system for the observations . The 73 metres ( 240 ft ) tower was then built above the museum and library , flanked by the Belvedere and della Pigna courtyards . The instrumentation for the observation of the sun rays falling over it consisted of a meridian line designed by Ignazio Danti of Perugia . It was in the form of a circular marble plate in the centre , embellished with scientific designs . The tower still remains today , but has undergone improvements over the centuries . \\n', ' = = Second stage = = \\n', \" The second stage of construction in the 17th and 18th centuries , when the tower was under the charge of the Vatican librarian , involved Mgr . Filippo Luigi Gilii , a clergyman of St. Peter 's Basilica . Earlier in 1797 , Pius VI gave approval to placing a Latin inscription Specula Vaticana at the entrance to the upper part of the tower , which was implemented by Cardinal Zelada with plans to enhance the instrumentation system in the tower 's observatory . The original observatory was then set up above the second level of the tower with the agreement of Pope Pius VI . Its instrumentation , apart from many normal devices ( such as meteorological and magnetic equipment , with a seismograph and a small transit and pendulum clock , ) was noted for the Dolland Telescope . The instrumentation facilitated recording of occurrences of eclipse , appearance of comets , Satellites of Jupiter and Mercury ’ s transit . As an addition , under the patronage of Pope Pius X , four rotary observatory domes were also added at strategic locations on the 1 @,@ 300 feet ( 400 m ) long fortification walls , more than a thousand years old . Mgr . Gilii , highly respected as a polyglot with a knowledge of physics , biology , archeology and the Hebrew language , was in charge of the observatory from 1800 to 1821 . He carried out continuous meteorological observations ( twice a day at 6 AM and 2 PM ) conforming to the programme of the Mannheim Meteorological Society . While the observation records for seven years were published , the balance data in a manuscript form was preserved in the Vatican Library . Subsequent to Gilii 's death in 1821 , the observatory on the tower was discontinued and the instruments were moved to the observatory at the Roman College . Established in 1787 , it was considered more suitable for making observations than the Vatican . \\n\", ' = = Third stage = = \\n', \" The revival of the observatory on the Gregorian Tower was initiated by the Barnabite Francesco Denza with the approval of Pope Leo XIII . High quality instruments were procured , partly with generous donations from Hicks of London , and the automatic recording instruments were procured from Richard in Paris . A four @-@ inch equatorial , a three @-@ inch transit instrument , and four pendulum clocks with two chronometers , were also procured from the observatory at Modena . In 1888 , the gift of a 16 inch long telescope to Pope Leo XIII , became a part of the observatory . Father Denza joined the observatory in 1889 after it was upgraded with more modern instruments . The same year , a second tower was built some 400 metres ( 1 @,@ 300 ft ) away from the main Gregorian Tower , overlooking the Vatican Gardens behind St. Peter 's Basilica on the south @-@ west border . It was built to a diameter of 17 metres ( 56 ft ) with a lower wall thickness of 4 @.@ 5 metres ( 15 ft ) , which could bear the load of a 13 inch photographic refractor , newly procured from Paris . Augustinian Father Rodriguez was the expert meteorologist who held the post of director from 1898 to 1905 . In 1891 , Pope Leo XIII , promulgating the motu proprio Ut mysticam , designated the second tower as the seat of the newly established Vatican Observatory , a decision which required altering the roof to provide a flat terrace for astronomical observations . \\n\", ' = = Fourth stage = = \\n', ' The fourth stage involved remedying the problem of communicating between the two towers during the time of Pope Pius X. His plans were to make the Gregorian Tower into a historical tower and to record and carry out observations at the second tower by linking the two towers along the fortified wall with a 83 metres ( 272 ft ) iron bridge spanning the gap . At the west end of this bridge , a four @-@ inch equatorial was installed on semicircular bastion . The east end of the bridge , above the barracks of the gendarmes , had a heliograph , with a camera attached , used to photograph the Sun ( photoheliograph ) . A new 16 @-@ inch visual telescope , called Torre Pio X , was erected in the second tower . As a result of these modifications , the original library was moved to the Pontifical Academy Lincei , and the old meteorological and seismic instruments were shifted to the Valle di Pompei observatory . The new Astronomical Library was housed in two rooms of the building . The two new Repsold machines were used for recording on the astrographic plates . The recorded observations were published along with explanatory notes together with the last two series of the atlas of stars . Charts were printed on silver bromide paper . \\n', ' = = Features = = \\n', ' The tower had two floors and a mezzanine . On the first floor was the famous Sundial Room or Meridian Room , which was initially an open loggia . Pope Urban VIII had it enclosed and it was subsequently decorated with long sequences of frescoes painted between 1580 and 1582 by Simon Lagi and the two Flemish artists Paul and Matthijs Bril . Today the tower has paintings by Cristoforo Roncalli and Matteino da Siena . \\n', ' The Sundial Room , also called the Meridian Hall , was once the residence of Queen Christina of Sweden , then newly converted to Catholicism . The room was further modified by two additions which gave it its current name : a sundial , and a delicate but sophisticated anemoscope which was fixed to the ceiling of the Meridian Hall . These were created by Ignazio Danti , the papal cosmographer , in association with the Gregorian Calendar Reform . The sundial consisted of a straight line in white marble running across the floor in a north @-@ south direction , intended to measure the height of the Sun at noon according to the seasons of the year . The observations made with the sundial provided essential confirmation of the need to reform the Julian calendar . The anemoscope , in contrast , was a complex mechanism attached to the ceiling which was used to measure the strength and direction of the wind but soon stopped functioning . The instrument may have led to the other name of the tower , Tower of the Winds ; however , an ancient observatory at Athens was also called the Tower of the Winds and might have been the source for inspiration . \\n', ' The interior walls and ceiling of the hall were richly decorated , in some cases with gaudy frescoes of the hills and Roman countryside , the Pantheons , religious themes , the buildings surrounding the area , and naval shipwrecks with Jesus calming the storm and so forth . \\n', \" = There 's Got to Be a Way = \\n\", ' \" There \\'s Got to Be a Way \" is a song by American singer and songwriter Mariah Carey from her self @-@ titled debut studio album ( 1990 ) . Columbia released it as the fifth and final single from the album in the United Kingdom . It was one of four songs Carey wrote with Ric Wake during their first recording session together , but \" There \\'s Got to Be a Way \" was the only composition to make the final track listing . It is a socio @-@ political conscious R & B @-@ pop song which addresses the existence of poverty , racism and war in the world which gradually becomes more aspirational and positive as it progresses . The track garnered a mixed reception upon the album \\'s release in 1990 . While Carey \\'s vocals were praised , it was seen as too political . An accompanying music video highlights social injustices . The song reached number 54 on the UK Singles Chart . \\n', ' = = Background and release = = \\n', ' \" There \\'s Got to Be a Way \" was written by Mariah Carey and Ric Wake for Carey \\'s self @-@ titled debut studio album ( 1990 ) . It was written during Carey and Wake \\'s first recording session together . They composed four songs , but only \" There \\'s Got to Be a Way \" was chosen for the final track listing . Co @-@ produced by Wake and Narada Michael Walden , it appears as the second of ten songs on the track listing . The track was recorded and engineered by Bob Cadway at Cove City Sound Studios and The Power Station , both located in New York City . He was assisted by Dana Jon Chappelle . It was mixed by David Frazer at Tarpan Studios in San Rafael . The keyboards , bass and rhythm engineering was carried out by Louis Biancaniello , while Joe Franco performed the percussion , Vernon \" Ice \" Black played the guitar , and Rich Tancredo also performing on the keyboards . Walter Afanasieff played the synth horns . Carey provided her own background vocals along with Billy T. Scott , Jamiliah Muhammed and The Billy T. Scott Ensemble . The song was released as the fifth and final single from the album in the United Kingdom . It is available to purchase as a CD single while the remixes are available on vinyl . \\n', ' = = Composition = = \\n', ' \" There \\'s Got to Be a Way \" is an R & B @-@ pop music song with elements of gospel . The theme of social activism can be heard in the lyrics \" There ’ s got to be a way / to connect this world today . \" The song begins with Carey publicly denouncing the existence of poverty and racism in the world , and she uses the bridge to shift the lyrics towards an uplifting and aspirational tone . Carey suggests we should be more tolerant of each other and not resort so readily to war in the lyrics \" Couldn \\'t we accept each other / Can \\'t we make ourselves aware . \" \\n', ' = = Critical reception = = \\n', ' Music critic Robert Christgau felt that Carey was being too political in her \" brave , young , idealistic attack \" on war and destitution . Ralph Novak , David Hiltbrand and David Grogan of People wrote that it is a \" testimony to her talent that she does so much with so little . \" They continued to write that Carey \\'s \" tone and clarity \" makes \" There \\'s Got to Be a Way \" a \" mesmerizing \" track . To mark twenty @-@ five years since the release of Mariah Carey in June 1990 , Billboard writer Trevor Anderson wrote a track @-@ by @-@ track review of the album in June 2015 . He noted that \" There \\'s Got to Be a Way \" follows the same melodic tone as the album \\'s opener \" Vision of Love \" but highlighted their stark lyrical differences , as the former is about social activism and the latter is about love . Although he praised Carey \\'s vocals , writing that she \" deploys \" one of her best whistle notes of her career , he felt that \" the aim for broad appeal comes at the expense of memorable lyrics . \" \\n', ' = = Music video = = \\n', ' The accompanying music video begins with a shot of an empty street , followed by clips of disadvantaged and poorer members of society going about their daily activities . Two men play dominoes on a wooden crate outside a building , a gang make fun of an elderly man hanging newspapers outside his store and an obese woman walks down the street . Clips of Carey leaning against a wall and sitting on some steps looking on at what is happening are shown . As the first chorus begins , everyone starts to dance joyfully in the street and help those in need . A gospel choir comes out of one of the buildings as the street becomes more crowded with people of all ages and backgrounds rejoicing and getting along with each other . One of the shops in the background has a neon light outside the entrance which says \" Jesus Saves \" . \\n', ' = = Track listings = = \\n', ' \" There \\'s Got to Be a Way \" ( Original album version ) – 4 : 52 \\n', ' \" There \\'s Got to Be a Way \" ( 7 \" remix ) \\n', ' \" There \\'s Got to Be a Way \" ( 12 \" remix ) \\n', ' \" There \\'s Got to Be a Way \" ( Alternative Vocal Dub Mix ) \\n', ' = = Charts = = \\n', ' = Nebraska Highway 88 = \\n', ' Nebraska Highway 88 ( N @-@ 88 ) is a highway in northwestern Nebraska . It has a western terminus at Wyoming Highway 151 ( WYO 151 ) at the Wyoming – Nebraska state line . The road travels eastward to N @-@ 71 , where it turns south . N @-@ 88 continues east to south of Bridgeport . The road turns north , ends at an intersection with U.S. Highway 385 ( US 385 ) and N @-@ 92 in Bridgeport . The route was designated in 1937 , before the official state highway system was created . It was extended to the state line in 1986 . \\n', ' = = Route description = = \\n', ' N @-@ 88 starts at the Nebraska – Wyoming state line in Banner County , where WYO 151 ends , and travels northeast . The road quickly bends east after less than one mile ( 1 @.@ 6 km ) , and continues in a straight line . For the next twenty miles ( 32 km ) , N @-@ 88 intersects minor streets , through rural farmland . The route turns south at N @-@ 71 , and becomes concurrent . Four miles ( 6 @.@ 4 km ) later , N @-@ 88 turns east , ending the concurrency with N @-@ 71 . The route continues to travel through farmland for sixteen miles ( 26 km ) , where it enters Morrill County . The road crosses over Pumpkin Creek four times , and enters the unincorporated community of Redington . Two rock formations , Courthouse and Jail Rocks , become visible from the road . N @-@ 88 turns north toward Bridgeport soon after . The road crosses over Pumpkin Creek for the fifth time , and enters into Bridgeport five miles ( 8 @.@ 0 km ) later . The road intersects a railroad owned by BNSF Railway . N @-@ 88 turns northeast soon after , and ends at the intersection of US 385 and N @-@ 92 . In 2012 , Nebraska Department of Roads ( NDOR ) calculated as many as 2 @,@ 410 vehicles traveling on the N @-@ 71 / N @-@ 88 concurrency , and as few as 315 vehicles traveling east of the Banner – Morrill county line . This is expressed in terms of annual average daily traffic ( AADT ) , a measure of traffic volume for any average day of the year . Only the N @-@ 71 / N @-@ 88 concurrency is part of the National Highway System ( NHS ) , a network of highways identified as being most important for the economy , mobility and defense of the nation . \\n', ' = = History = = \\n', ' N @-@ 88 was unofficially designated around 1937 , connecting from N @-@ 29 , to N @-@ 86 and N @-@ 19 in Bridgeport . The route remained relatively the same as the state highway system was officially designated . Before 1955 , Nebraska did not have an adequate legal instrument to define the state highway system . By 1960 , N @-@ 19 was renumbered to US 385 , and US 26 was rerouted north near Bridgeport . The old alignment became part of N @-@ 92 . Two years later , N @-@ 29 was renumbered to N @-@ 71 . Between 1981 @-@ 82 , a road appeared on the official state map , extending from WYO 151 to N @-@ 71 . That road became part of N @-@ 88 by 1986 . No significant changes have been made since . \\n', ' = = Major intersections = = \\n', ' = USS Atlanta ( 1861 ) = \\n', ' Atlanta was a casemate ironclad that served in the Confederate and Union Navies during the American Civil War . She was converted from a Scottish @-@ built blockade runner named Fingal by the Confederacy after she made one run to Savannah , Georgia . After several failed attempts to attack Union blockaders , the ship was captured by two Union monitors in 1863 when she ran aground . Atlanta was floated off , repaired , and rearmed , serving in the Union Navy for the rest of the war . She spent most of her time deployed on the James River supporting Union forces there . The ship was decommissioned in 1865 and placed in reserve . Several years after the end of the war , Atlanta was sold to Haiti , but was lost at sea in December 1869 on her delivery voyage . \\n', ' = = Description and career as Fingal = = \\n', \" Fingal was designed and built as a merchantman by J & G Thomson 's Clyde Bank Iron Shipyard at Govan in Glasgow , Scotland , and was completed early in 1861 . She was described by Midshipman Dabney Scales , who served on the Atlanta before her battle with the monitors , as being a two @-@ masted , iron @-@ hulled ship 189 feet ( 57 @.@ 6 m ) long with a beam of 25 feet ( 7 @.@ 6 m ) . She had a draft of 12 feet ( 3 @.@ 7 m ) and a depth of hold of 15 feet ( 4 @.@ 6 m ) . He estimated her tonnage at around 700 tons bm . Fingal was equipped with two vertical single @-@ cylinder direct @-@ acting steam engines using steam generated by one flue @-@ tubular boiler . The engines drove the ship at a top speed of around 13 knots ( 24 km / h ; 15 mph ) . They had a bore of 39 inches ( 991 mm ) and a stroke of 30 inches ( 762 mm ) . \\n\", \" The ship briefly operated between Glasgow and other ports in Scotland for Hutcheson 's West Highland Service before she was purchased in September 1861 by James D. Bulloch , the primary foreign agent in Great Britain for the Confederacy , to deliver the military and naval ordnance and supplies that he had purchased . To disguise his control of Fingal , and the destination of her cargo , Bulloch hired an English crew and captain and put out his destination as Bermuda and Nassau in the Bahamas . The cargo was loaded in Greenock in early October , although Bullock and the other passengers would not attempt to board until they rendezvoused with the ship at Holyhead , Wales . On the night 14 / 15 October , as she was slowly rounding the breakwater at Holyhead , Fingal rammed and sank the Austrian brig Siccardi , slowly swinging at anchor without lights . Bulloch and the passengers embarked in the steamer while Bulloch dispatched a letter to his financial agents instructing them to settle damages with the brig 's owners because he could not afford to take the time to deal with the affair lest he and Fingal be detained . The ship reached Bermuda on 2 November and , after leaving port on 7 November , Bulloch informed the crew that the steamer 's real destination was Savannah , Georgia ; he offered to take anyone who objected to the plan to Nassau . However , all of the crew agreed to join in the effort to run the Union blockade . Fingal was able slip safely into the Savannah estuary in a heavy fog on the night of 12 November without sighting any blockaders . \\n\", \" While Fingal was discharging her cargo , Bulloch went to Richmond to confer with Stephen Mallory , Secretary of the Navy . Mallory endorsed Bulloch 's plan to load Fingal with cotton to sell on the Navy Department 's account to be used to purchase more ships and equipment in Europe . He returned to Savannah on 23 November and it took him almost a month to purchase a cargo and acquire enough coal . He made one attempt to break through the blockade on 23 December , but it proved impossible to do as the Union controlled every channel from Savannah , aided by their occupation of Tybee Island at the mouth of the Savannah River . Bulloch reported to Mallory in late January 1862 that breaking out was hopeless so Mallory ordered him to turn the ship over to another officer and to return to Europe some other way . \\n\", ' = = As Atlanta = = \\n', ' The brothers Asa and Nelson Tift received the contract to convert the blockade runner into an ironclad in early 1862 with the name of Atlanta , after the city in Georgia . This was largely financed by contributions from the women of Savannah . Fingal was cut down to her main deck and large wooden sponsons were built out from the sides of her hull to support her casemate . After the conversion , Atlanta was 204 feet ( 62 @.@ 2 m ) long overall and had a beam of 41 feet ( 12 m ) . Her depth of hold was now 17 feet ( 5 @.@ 2 m ) and she now had a draft of 15 feet 9 inches ( 4 @.@ 8 m ) . Atlanta now displaced 1 @,@ 006 long tons ( 1 @,@ 022 t ) and her speed was estimated at 7 – 10 knots ( 13 – 19 km / h ; 8 @.@ 1 – 11 @.@ 5 mph ) . \\n', \" The armor of the casemate was angled at 30 ° from the horizontal and made from two layers of railroad rails , rolled into plates 2 inches ( 51 mm ) thick and 7 inches ( 180 mm ) wide . The outer layer ran vertically and the inner layer horizontally . Her armor was backed by 3 inches ( 76 mm ) of oak , vertically oriented , and two layers of 7 @.@ 5 inches ( 191 mm ) of pine , alternating in direction . The bottom of the casemate was some 20 inches ( 508 mm ) from the waterline and its top was 8 feet 6 inches ( 2 @.@ 59 m ) above the waterline . The pyramidal pilothouse was armored in the same way and had room for two men . The upper portion of Atlanta 's hull received two inches of armor . \\n\", ' The rectangular casemate was pierced with eight narrow gun ports , one each at the bow and stern and three along each side . Each gun port was protected by an armored shutter made of two layers of iron riveted together and allowed the guns to elevate only to a maximum of + 5 to + 7 ° . Atlanta was armed with single @-@ banded , 7 @-@ inch ( 178 mm ) Brooke rifles on pivot mounts at the bow and stern . The middle gun port on each side was occupied by a single @-@ banded , 6 @.@ 4 @-@ inch ( 163 mm ) Brooke rifle . The 17 @-@ caliber , seven @-@ inch guns weighed about 15 @,@ 000 pounds ( 6 @,@ 800 kg ) and fired 80 @-@ pound ( 36 kg ) armor @-@ piercing \" bolts \" and 110 @-@ pound ( 50 kg ) explosive shells . The equivalent statistics for the 18 @.@ 5 @-@ caliber , 6 @.@ 4 @-@ inch gun were 9 @,@ 110 pounds ( 4 @,@ 130 kg ) with 80 @-@ pound bolts and 64 @-@ pound ( 29 kg ) shells . Atlanta was also armed with a 20 @-@ foot ( 6 @.@ 1 m ) , solid iron , ram that was reinforced by a series of vertical steel bars . In front of the ram was a spar torpedo that carried 50 pounds ( 23 kg ) of black powder on a wooden pole connected to an iron lever that could be raised or lowered by means of pulleys . \\n', ' On 31 July 1862 , under the command of Lieutenant Charles H. McBlair , Atlanta conducted her sea trials down the Savannah River toward Fort Pulaski . The ship proved to be difficult to steer , and the additional weight of her armor and guns significantly reduced her speed and increased her draft . This latter was a real problem in the shallow waters near Savannah . She also leaked significantly , and her design virtually eliminated air circulation . One report said that \" it was almost intolerable on board the Atlanta , there being no method of ventilation , and the heat was intense . \" Scales commented in his diary , \" What a comfortless , infernal and God @-@ forsaken ship ! ! \" \\n', \" Attempts were made to fix the problems and were at least partially successful in stopping many of the leaks . The ship was commissioned on 22 November and became the flagship of Flag Officer Josiah Tattnall , commander of the naval defenses of Georgia . Under pressure from Mallory to engage the blockading ships , Tattnall attempted to engage them before any ironclads arrived on 5 January 1863 , but army engineers could not clear the obstacles blocking the channel in a timely manner , despite early coordination being made by Tattnall to do so . It took another month to actually clear the obstacles and two monitors arrived before the end of January . Nonetheless Tattnall attempted to pass through the obstructions during high tide on 3 February , but high winds prevented the water from rising enough to allow the ship to do so . After Atlanta successfully passed through them on 19 March , Tattnall planned to attack the Union base at Port Royal , South Carolina while the monitors were attacking Charleston . Deserters revealed Tatnall 's plan while he was waiting at the head of Wassaw Sound and he was forced to retreat when three monitors augmented the defenses at Port Royal . Dissatisfied with Tattnall 's perceived lack of aggressiveness , Mallory replaced Tattnall as commander of the Savannah squadron later that month with Commander Richard L. Page . Page , in his turn was relieved in May by Commander William A. Webb ; Atlanta remained the squadron flagship throughout this time . \\n\", \" Webb demonstrated his aggressiveness when he attempted to sortie on the first spring tide ( 30 May ) after taking command , but Atlanta 's forward engine broke down after he had passed the obstructions , and the ship ran aground . She was not damaged although it took over a day to pull her free . He planned to make another attempt on the next full tide , rejecting Mallory 's idea that he wait until the nearly complete ironclad Savannah was finished before his next sortie . In the meantime , Rear Admiral Samuel F. Du Pont , commander of the South Atlantic Blockading Squadron , had ordered the monitors Weehawken and Nahant into Wassaw Sound . Commander John Rodgers in Weehawken had overall command of the two ships . \\n\", ' In the early evening of 15 June , Webb began his next attempt by passing over the lower obstructions in the Wilmington River and spent the rest of the night coaling . He moved forward the next evening to a concealed position within easy reach of the monitors for an attack early the following morning . Webb planned to sink one of the monitors with his spar torpedo and then deal with the other one with his guns . The gunboat Isondiga and the tugboat Resolute were to accompany him to tow one or both of the monitors back to Savannah . \\n', \" A lookout aboard Weehawken spotted Atlanta at 04 : 10 on the morning of 17 June . When the latter ship closed to within about 1 @.@ 5 miles ( 2 @.@ 4 km ) of the two Union ships , she fired one round from her bow gun that passed over Weehawken and landed near Nahant . Shortly afterward , Atlanta ran aground on a sandbar ; she was briefly able to free herself , but the pressure of the tide pushed her back onto the sandbar . This time Webb was unable to get off and the monitors closed the range . When Weehawken , the leading ship , closed to within 200 – 300 yards ( 180 – 270 m ) she opened fire with both of her guns . The 11 @-@ inch ( 279 mm ) shell missed , but the 15 @-@ inch ( 381 mm ) shell struck the ironclad above the port middle gun port , penetrated her armor and broke the wooden backing behind it , spraying splinters and fragments that disabled the entire gun crew and half the crew of the bow gun , even though it failed to cleanly penetrate through the backing . The next shot from the 11 @-@ inch Dahlgren gun struck the upper hull and started a small leak even though it failed to penetrate the two @-@ inch armor there . The next shell from the 15 @-@ inch Dahlgren glanced off the middle starboard gun shutter as it was being opened , wounding half the gun 's crew with fragments . The final shell was also from the 15 @-@ inch Dahlgren and it struck the top of the pilothouse , breaking the armor there and wounding both pilots in it . By this time , Atlanta had been able to fire only seven shots , none of which hit either Union ship , and was hard aground with high tide not due for another hour and a half . Weehawken and Nahant were able to freely maneuver into positions from which the Atlanta 's narrow gun ports would not allow her to reply and the damage already inflicted by the former ship made further resistance futile . Webb surrendered his ship within 15 minutes of opening fire , before Nahant even had a chance to fire . Of the ironclad 's 21 officers and 124 enlisted men , one man was killed and another sixteen were wounded badly enough to require hospitalization . \\n\", ' = = In the Union Navy = = \\n', \" Atlanta was easily pulled free by the Union ships and she reached Port Royal under her own power . Not badly damaged , she was repaired and bought by the Union Navy . The prize money of $ 350 @,@ 000 was shared between the crews of Weehawken , Nahant and the gunboat Cimarron , the only ships within signaling distance . The ship retained her name and was commissioned again on 2 February 1864 , rearmed with a pair of 8 @-@ inch ( 203 mm ) , 150 @-@ pound Parrott rifles in the bow and stern and 6 @.@ 4 @-@ inch , 100 @-@ pound Parrott rifles amidships . The 150 @-@ pound Parrott rifle weighed 16 @,@ 500 pounds ( 7 @,@ 500 kg ) and was 17 calibers long . The 100 @-@ pounder weighed 9 @,@ 800 pounds ( 4 @,@ 400 kg ) and was 20 calibers long . It fired a 100 @-@ pound ( 45 kg ) shell a distance of 6 @,@ 900 yards ( 6 @,@ 300 m ) at an elevation of + 25 ° . All four of her Brooke rifles are currently located in Willard Park in the Washington Navy Yard . Atlanta was assigned to the North Atlantic Blockading Squadron and spent most of her time stationed up the James River where she could support operations against Richmond and defend against a sortie by the ironclads of the James River Squadron . On 21 May 1864 , she and the gunboat Dawn fired on and dispersed Confederate cavalry that was attacking Fort Powhatan and she was deployed further upriver in February 1865 after the Battle of Trent 's Reach to better blockade the Confederate ironclads at Richmond . \\n\", ' After the end of the war in April , Atlanta was decommissioned in Philadelphia on 21 June 1865 and placed in reserve at League Island . She was sold to Sam Ward on 4 May 1869 for the price of $ 25 @,@ 000 and subsequently delivered to representatives of Haiti on 8 December by Sydney Oaksmith , a lawyer who had received an advance of $ 50 @,@ 000 on her purchase price of $ 260 @,@ 000 . The ship was briefly seized by the Customs Service , possibly for violations of neutrality laws as she had just loaded four large guns and a number of recruits for the forces of Sylvain Salnave , President of Haiti , who was embroiled in a civil war . Atlanta was released and sailed for Port @-@ au @-@ Prince three days later . She broke down in Delaware Bay and had to put in at Chester , Pennsylvania for repairs . The ship , now renamed either Triumph or Triumfo , departed on 18 December 1869 and vanished en route , apparently sinking with the loss of all hands , either off Cape Hatteras or the Delaware Capes . \\n', ' = Jacqueline Fernandez = \\n', ' Jacqueline Fernandez ( born 11 August 1985 ) is a Sri Lankan actress , former model , and the winner of the 2006 Miss Universe Sri Lanka pageant . As Miss Universe Sri Lanka she represented her country at the 2006 world Miss Universe pageant . She graduated with a degree in mass communication from the University of Sydney , and worked as a television reporter in Sri Lanka . \\n', \" While on a modelling assignment in India in 2009 , Fernandez successfully auditioned for Sujoy Ghosh 's fantasy drama Aladin , which marked her acting debut . Fernandez ' breakthrough role was in Mohit Suri 's psychological thriller Murder 2 ( 2011 ) , her first commercial success . This was followed by glamorous roles in the ensemble @-@ comedy Housefull 2 ( 2012 ) and its sequel Housefull 3 , and the action thriller Race 2 ( 2013 ) , all of which were box @-@ office successes . Her performance in the first of these garnered her an IIFA Award for Best Supporting Actress nomination . In 2014 , Fernandez played the leading lady in Sajid Nadiadwala 's Kick , which is one of the highest @-@ grossing Bollywood films of all time . \\n\", ' One of the most popular actresses in India , she was the recipient of the IIFA Award for Star Debut of the Year – Female in 2010 . Alongside her screen acting career , Fernandez has participated in stage shows , and is active in humanitarian work . \\n', ' = = Early life and modeling career = = \\n', \" Fernandez was born on 11 August 1985 , in Manama , Bahrain , and was raised in a multi @-@ ethnic family . Her father , Elroy , is Sri Lankan , and her mother , Kim , is of Malaysian descent . Her grandfather , on her mother 's side of the family , is Canadian and her great grandparents were from Goa , India . Her father , who was a musician in Sri Lanka , moved to Bahrain in the 1980s to escape civil unrest between the Tamils and Sinhalese and subsequently met her mother who was an air hostess . She is the youngest of four children with one elder sister and two elder brothers . She hosted television shows in Bahrain at the age of fourteen . After receiving her early education in Bahrain , she pursued a degree in mass communication from the University of Sydney in Australia . After graduating she worked as a television reporter in Sri Lanka . She also attended the Berlitz school of languages , where she learnt Spanish and improved her French and Arabic . \\n\", ' According to Fernandez , she had aspired to become an actress at a young age and fantasized about becoming a Hollywood movie star . She received some training at the John School of Acting . Although , she was a television reporter , she accepted offers in the modeling industry , which came as a result of her pageant success . In 2006 , she was crowned the winner of the Miss Universe Sri Lanka pageant and represented Sri Lanka at the world Miss Universe 2006 pageant held in Los Angeles . In a 2015 interview , Fernandez described the modeling industry as \" a good training ground \" and said : \" It is a medium that is about shedding your inhibitions , knowing your body , confidence \" . In 2006 , she appeared in a music video for the song \" O Sathi \" by music duo Bathiya and Santhush . \\n', ' = = Acting career = = \\n', ' = = = 2009 – 2013 = = = \\n', ' In 2009 , Fernandez traveled to India for a modeling assignment . She studied acting under the mentorship of theatre director Barry John , and successfully auditioned for Sujoy Ghosh \\'s fantasy film Aladin ( 2009 ) her acting debut . She played the love interest of Riteish Deshmukh \\'s character , a role based on the Princess Jasmine character . Fernandez garnered mixed reviews for her performance . Anupama Chopra of NDTV called her a \" plastic debutant [ e ] \" , and Rajeev Masand of CNN @-@ IBN felt that she was : \" easy on the eyes and appears confident but has precious little to do \" . Although the film was a critical and commercial failure , she won the IIFA Award for Star Debut of the Year - Female . \\n', ' In 2010 , Fernandez appeared opposite Deshmukh in the science fiction romantic comedy Jaane Kahan Se Aayi Hai . She was cast as a girl from Venus , who lands on Earth in search of love . The film , along with Fernandez \\'s performance , received poor reviews ; Rediff.com \\'s Sukanya Verma noted : \" She gamely makes a fool of herself whilst aping the actions of movie stars , ranging from Sridevi \\'s Naagin dance , Mithun Chakravarthy \\'s Disco Dancer moves , to Big B \\'s violent headshake in Hum . Her Tara could be a keeper if only Jaane Kahan Se Aayi Hai wasn \\'t so intent on turning her into a love @-@ struck Barbie . \" Critic Anupama Chopra also criticized Fernandez , calling her \" a pin @-@ prick on a balloon \" . Later that year , she made a cameo appearance in Sajid Khan \\'s Housefull in the song \" Dhanno \" . \\n', ' Mahesh Bhatt \\'s thriller Murder 2 was Fernandez \\'s first commercial success and marker a turning point in her career . She took on the role of Priya , a lonely model who is in a confused relationship with Arjun Bhagwat ( played by Emraan Hashmi ) . Fernandez was praised for the her performance , and for the boldness and sex appeal she displayed in the film . Gaurav Malini of The Times of India stated that she was \" tastefully tempting \" but noted that her romance with Hashmi was \" literally half @-@ baked \" . The following year , Fernandez appeared in the ensemble comedy Housefull 2 alongside Akshay Kumar , John Abraham , and Asin . It became one of the top grossing productions of India that year and earned ₹ 1 @.@ 86 billion ( US $ 28 million ) worldwide . Fernandez received mostly negative reviews for her performance . While Gaurav Malini praised her for her looks , NDTV called her a \" blathering bimbo \" who \" find [ s ] no pleasure in [ her role ] \" . Despite the negative reviews , Fernandez received a Best Supporting Actress nomination at the 14th IIFA Awards for her performance . \\n', ' Fernandez \\'s first release of 2013 was Race 2 , an ensemble action thriller ( alongside Saif Ali Khan , John Abraham , Deepika Padukone , Ameesha Patel , and Anil Kapoor ) ) , described as the \" cinematic equivalent of a trashy novel \" by critic Rajeev Masand . She played Omisha , a femme fatale , a role which required her learn fencing and some acrobatics . The film emerged as a commercial success , with the domestic gross of more than ₹ 1 billion ( US $ 15 million ) . In a particularly scathing review , Saibal Chatterjee of NDTV wrote that both Fernandez and Padukone \" strut around like wound @-@ up automatons that are all decked @-@ up but have nowhere to go . \" Fernandez also appeared in an item number ( music video ) titled \" Jaadu Ki Jhappi \" for Prabhu Deva \\'s Ramaiya Vasta Vaiya . \\n', ' = = = 2014 – present = = = \\n', ' In 2014 , Fernandez appeared in Sajid Nadiadwala \\'s directorial debut — the action film Kick , a remake of a 2009 Telugu film of same name . She starred opposite Salman Khan , playing Shaina , a psychiatry student . She retained her real voice for the first time in Kick . While Sneha May Francis commented that she is : \" incredibly dazzling , and moves like a magic \" , Raja Sen of Rediff.com was more critical of her dialogue delivery , calling it \" unfortunate . \" The film received mixed reviews from critics , but with worldwide revenue of over ₹ 3 @.@ 75 billion ( US $ 56 million ) , it became the fourth highest @-@ grossing Bollywood film . The film established Fernandez as one of the most popular Bollywood actresses . \\n', ' In 2015 , Fernandez featured in Vicky Singh \\'s Roy , a romantic thriller , which critic Sarita A. Tanwar described as a \" boring , exhausting and pretentious \" film . Fernandez played dual roles , Ayesha Aamir , a filmmaker in a relationship with another filmmaker ( played by Arjun Rampal ) and Tia Desai , a girl in love with a thief ( played by Ranbir Kapoor ) . While India TV called it \" her best act till date \" , critic Rajeev Masand felt that she \" appears miscast in a part that required greater range . \" Roy failed to meet its box @-@ office expectations , and was a commercial failure . Later that year , she appeared in a guest appearance for the comedy @-@ satire Bangistan . \\n', ' Karan Malhotra \\'s action drama Brothers was Fernandez \\'s next release . Co @-@ starring alongside Akshay Kumar and Sidharth Malhotra , Fernandez played Jenny , a fearless mother struggling for her child , a role which she described as \" challenging \" , \" intense \" , and \" difficult \" . The role marked a departure from the glamorous characters that she had a reputation for portraying . Film critics praised her performance , though their response to the film was mixed . Dhriti Sharma of Zee News called her character \" soft , timid and promising \" , and praised her for : \" convincingly pull [ ing ] off a pleasing character of a street fighter \\'s wife \" . Film critic Subhash K. Jha noted that she : \" ... in a limited role gives her finest emotive shot \" , while critic Raja Sen remarked : \" [ she ] plays Kumar \\'s long @-@ sobbing wife who gets so deliriously happy on seeing a text message that it may well have contained news about a Kick sequel . \" \\n', \" As of September 2015 , Fernandez has several projects in various stages of production . She has completed shooting for Chandran Rutnam 's English @-@ Sri Lankan crime @-@ thriller According to Mathew , and the horror thriller Definition of Fear , which marks her Hollywood debut . Fernandez has also signed on to appear in three other projects — Rohit Dhawan 's Dishoom opposite Varun Dhawan and John Abraham as a part of three @-@ film deal with Nadiadwala Grandson Entertainment , Remo D 'Souza 's Flying Jat opposite Tiger Shroff , and in an Indo @-@ Chinese film starring opposite Abhay Deol , Amitabh Bachchan , and Jackie Chan titled Gold Struck . \\n\", ' = = Personal life and other work = = \\n', ' Fernandez shares a close bond with her family , and admits to missing being around them . She says : \" I miss them so much everyday . You don \\'t realise when you live away from home how difficult life can be [ ... ] At the same time , staying away from them has taught me to be more responsible . It has taught me so many things about myself , about priorities and time management . \" In March 2012 , Fernandez turned vegetarian for a 40 @-@ day period to observe Lent , a period from Ash Wednesday to Holy Saturday . \\n', \" In 2008 , Fernandez started dating Bahraini prince Hassan bin Rashid Al Khalifa , whom she met at a mutual friend 's party ; they separated in 2011 . While filming Housefull 2 in 2011 , Fernandez began a romantic relationship with director Sajid Khan . The relationship attracted media coverage in India and there was speculation of an impending wedding . However , the relationship ended in May 2013 . \\n\", ' In addition to acting in films , Fernandez has supported charitable organisations and a number of causes . In 2011 , on the behalf of People for the Ethical Treatment of Animals ( PETA ) , she sent a letter to the Mumbai Municipal Commissioner asking for an end to horse @-@ drawn carriage rides in Mumbai . In early 2013 , she asked the consulate general of the Philippines , William John T Perera in Colombo , to hasten the transfer of an elephant from its inadequate housing at the Manila Zoo to a humane sanctuary . Later that year , she auctioned a breakfast in Mayfair , London , where she raised around £ 4000 for the Pratham NGO , which helps children \\'s primary education . In 2014 , Fernandez was named \" Woman Of The Year \" by PETA ( India ) for advocating the protection of animals . The following year , she auctioned her outfits on an online portal for a philanthropic cause . Some of her outfits included the ones she wore in the song \" Party On My Mind \" ( from Race 2 ) and \" Hangover \" ( from Kick ) . In March 2016 , she was part of \" Jacqueline Builds \" campaign that raised funds for the victims of the 2015 South Indian floods . \\n', ' Fernandez has participated in several concert tours and televised award ceremonies . In 2013 , she performed at the Temptations Reloaded in Auckland , Perth , and Sydney alongside Shah Rukh Khan , Rani Mukerji , and Madhuri Dixit . She also performed at the live talent show \" Got Talent World Stage Live \" with Khan , Priyanka Chopra and Varun Dhawan the following year . In July 2014 , Fernandez opened a restaurant in Colombo , Kaema Sutra , in collaboration with chef Dharshan Munidasa , which specialises in contemporary Sri Lankan cuisine . \\n', ' = = In the media = = \\n', ' In the early 2013 , Fernandez became the ambassador for HTC One , which she endorses in India . She was the face of Indian Bridal Fashion Week — IBFW of 2013 . Later that year , she became the spokesperson for Gareth Pugh \\'s designed Forevermark Diamonds in Mumbai , and was at the inaugural opening of the Forever 21 store in Mumbai . That year , she also launched Gillette Shaving System with Arbaaz Khan and Aditya Roy Kapur . While analysing Fernandez \\'s career , India TV noted : \" Slowly and steadily Jacqueline Fernandez is climbing up the ladder of success [ ... ] Jacqueline is comfortably grasping every aspect of the work , which an actress is required to do and is accordingly giving results . \" On the contrary , Charu Thakur of India Today criticized her acting skills , but remarked that : \" [ she has ] managed to find her feet in Bollywood now by banking on glamorous roles \" . \\n', ' In 2008 and 2011 , Fernandez featured in the UK magazine Eastern Eye \\'s \" World \\'s Sexiest Asian Women \" list , ranking twelfth . She was ranked third on The Times of India \\'s listing of the \" Most Desirable Woman \" in 2013 and 2014 , after being ranked eighth , seventh and fourteenth , respectively , in the preceding three years . In 2013 , Rediff.com placed her on their list of \" Bollywood \\'s Best Dressed Actresses \" . The following year , she held the sixty second position in the Indian edition of the Forbes \\' Celebrity 100 , a list based on the income and popularity of India \\'s celebrities . She has been the cover model for many Indian editions of magazines , including : Vogue , FHM , Maxim , Cosmopolitan , Grazia , Elle , Verve , Harper \\'s Bazaar , Women \\'s Health , and L \\'Officiel among others . \\n', ' = = Filmography = = \\n', ' = = TV Appearances = = \\n', ' = = Awards = = \\n', ' = John Cullen = \\n', \" Barry John Cullen ( born August 2 , 1964 ) is a Canadian former professional ice hockey centre who played in the National Hockey League ( NHL ) for the Pittsburgh Penguins , Hartford Whalers , Toronto Maple Leafs and Tampa Bay Lightning . He was a standout player for Boston University and is the school 's all @-@ time leading scorer . After the Buffalo Sabres selected him in the 1986 NHL Supplemental Draft but chose not to offer him a contract , Cullen signed with the Flint Spirits of the International Hockey League ( IHL ) for the 1987 – 88 season where he was named the IHL 's co @-@ Rookie of the Year and Most Valuable Player after leading the league in scoring . \\n\", ' His career was halted in 1997 when he was diagnosed with Non @-@ Hodgkin lymphoma . He attempted a brief comeback in 1998 after an 18 @-@ month battle with the disease , for which the NHL awarded him the Bill Masterton Memorial Trophy , before retiring to serve as an assistant coach for a year with the Lightning . Cullen played in two NHL All @-@ Star Games in his career . He joined his brother in the car dealership business after leaving the game , and briefly operated his own dealership until forced to close during the automotive industry crisis of 2008 – 10 . \\n', ' = = Early life = = \\n', ' Cullen was born in Puslinch @-@ Ontario on August 2 , 1964 . He is one of six children of Barry and Loretta Cullen . His father and uncles Brian and Ray all played in the NHL , and while Cullen and his three brothers all played as well , their father never pressured them , preferring that they enjoy the game . \\n', \" He idolized his elder brother Terry , who was considered a top NHL prospect until Terry 's career was ended when he suffered a broken neck after being hit from behind into the boards during a college game . While his brother was highly sought by American universities , John received only two scholarship offers , choosing to play for Boston University ( BU ) in 1983 . \\n\", \" At the same time , his mother Loretta was diagnosed with skin cancer . Following her death early in his freshman year , Cullen contemplated returning to his Ontario home , but was convinced by his father to continue with both school and hockey . He used the game to cope with the loss and dedicated every game he played to his mother 's memory . Cullen felt that the inspiration he drew from his mother 's battle allowed him to become a better player . \\n\", ' = = Playing career = = \\n', \" Cullen was a standout with BU ; he was named the East Coast Athletic Conference Rookie of the Year in 1983 – 84 after leading his team in scoring with 56 points . The National Hockey League passed him over , however , as he went unclaimed in the 1984 NHL Entry Draft . He was named to the Hockey East All @-@ Star Teams in 1985 , 1986 and 1987 , and a National Collegiate Athletic Association East Second Team All @-@ American in 1986 . He graduated as BU 's all @-@ time scoring leader with 241 points , and was named to BU 's Hockey East 25th anniversary team in 2009 . \\n\", \" Passed over in the Entry Draft , Cullen was finally selected by the Buffalo Sabres in the 1986 NHL Supplemental Draft . When the Sabres failed to offer him a contract , Cullen signed with the Flint Spirits of the International Hockey League ( IHL ) for the 1987 – 88 season . He led the league with 157 points , scoring 48 goals , and won the James Gatschene Memorial Trophy as league most valuable player while sharing the Gary F. Longman Memorial Trophy with Ed Belfour as rookie of the year . Cullen 's outstanding season in Flint caught the attention of the Sabres and the Pittsburgh Penguins . He signed a contract with the Penguins for the league minimum , passing up a superior contract offer from Buffalo as he remained upset at how they released him the year before . \\n\", ' = = = National Hockey League = = = \\n', \" Cullen made his NHL debut in 1988 – 89 , appearing in 79 games with the Penguins and scoring 49 points . He was given a greater role with the Penguins the following year after Mario Lemieux missed 21 games due to a back injury and responded by scoring 32 goals and 92 points to finish third in team scoring . Additionally , he played for Team Canada at the 1990 World Championship , scoring four points in ten games . Cullen had his best season in 1990 – 91 . As one of the team 's top offensive centres , he scored 94 points in the Penguins ' first 65 games and played in his first NHL All @-@ Star Game . However , when Lemieux returned after missing an additional 50 @-@ games due to injury , Cullen 's playing time and production declined . \\n\", ' The Penguins \\' needs led them to complete a blockbuster trade on March 1 , 1991 . Cullen was sent to the Hartford Whalers , along with Zarley Zalapski and Jeff Parker in exchange for Hartford \\'s all @-@ time leading scorer , Ron Francis , along with Ulf Samuelsson and Grant Jennings . The Penguins almost turned down the deal as they were concerned about giving up Cullen \\'s playmaking and leadership abilities , while his former teammates credited Cullen as being the primary reason they were in a playoff position at the time the trade happened . After the Penguins won their first Stanley Cup that season , Phil Bourque later said it \" broke his heart \" that Cullen was not able to share in that championship . \\n', \" In Hartford , Cullen worked to overcome the team 's fans ' disappointment at losing Francis . The Hartford fans initially booed him to show their dissatisfaction with the trade . He scored 16 points in 13 regular season games to finish the season with 110 points combined between the Penguins and Whalers , and was the team 's best player in their first round loss to the Boston Bruins in the 1991 Stanley Cup Playoffs . He initially accepted an invitation to join the Canadian team at the 1991 Canada Cup , but subsequently chose not to participate as his contract had expired , leading to greater insurance concerns . Still without a contract when the 1991 – 92 season began , Cullen missed the first four games before signing a four @-@ year deal with Hartford worth a total of $ 4 million . He returned to score 77 points in 77 games in his first full season with the Whalers and represented the team at the 1992 All @-@ Star Game . \\n\", \" Midway through the 1992 – 93 NHL season , the Whalers sent Cullen to the Toronto Maple Leafs for Toronto 's second round selection at the 1993 NHL Entry Draft . Cullen was excited to play for his father 's old team , but injuries reduced his ability to perform . His most significant injury was a herniated disc in his neck that doctors initially feared would end his career . A bulky neck brace allowed Cullen to return and play out his contract in Toronto . When the Leafs chose not to re @-@ sign him following the 1993 – 94 season , he returned to the Penguins for one season before Tony Esposito convinced him to sign with the Tampa Bay Lightning in 1995 . \\n\", ' Cullen enjoyed immediate success with linemates Shawn Burr and Alexander Selivanov as the trio combined to score 130 points and helped lead the Lightning to the first playoff appearance in franchise history . They were eliminated by the Philadelphia Flyers in five games while Cullen led the team in playoff scoring with three goals and three assists . The Lightning looked to improve in 1996 – 97 ; Cullen was leading the team in scoring , but was suffering flu @-@ like symptoms that he could not shake . As Tampa was fighting for a playoff spot , he played through his condition for weeks . \\n', ' = = = Cancer and comeback = = = \\n', \" After two months of quietly dealing with his symptoms , Cullen 's wife finally called team trainers and asked them to check into his illness . The team took an x @-@ ray and found a large black shadow in his chest . He underwent a CAT scan which revealed Cullen had a baseball @-@ sized tumor ; he was diagnosed as having Non @-@ Hodgkin lymphoma . The diagnosis ended his season , and he immediately began chemotherapy treatments that quickly reduced his cancer . The tumor was gone by September 1997 , but a precautionary test prior to training camp revealed that Cullen still had cancer cells in his body . He missed the entire 1997 – 98 NHL season as he continued to battle the disease , while his teammates wore a uniform patch with his # 12 in support throughout the year . \\n\", ' On one day during his treatments , as his wife was wheeling him down a hospital corridor , Cullen went into cardiac arrest , requiring doctors to use a defibrillator to revive him . He underwent a bone marrow transplant that briefly reduced his immune system to the point that he could have very little human contact . Another examination in April 1998 revealed that the cancer was finally gone , and Cullen immediately began training for a comeback . \\n', ' The Lightning signed Cullen to a one @-@ year , $ 500 @,@ 000 contract for the 1998 – 99 season . He played his first game in nearly 18 months on September 18 , 1998 , in an exhibition game between the Lightning and Sabres at Innsbruck , Austria . Cullen scored the game @-@ winning goal in a 3 – 1 victory , after which he said he sat on the bench in disbelief over how he was given a second chance . He was named to the roster and was greeted with a loud standing ovation by the fans in Tampa Bay when he was introduced prior to their season opening game . \\n', \" Cullen appeared in four of the Lightning 's first eight games , but it was evident that he had lost much of his speed and strength . The Lightning assigned him to the IHL 's Cleveland Lumberjacks , but also gave him the option of retiring and taking up a position as an assistant coach . He chose to accept the demotion , giving himself one month to determine if he could continue playing . He appeared in six games for Cleveland , and in one game against the Chicago Wolves tied an IHL record when he scored seven points in a 7 – 3 victory . \\n\", ' However , a bout of bronchitis led Cullen to fear that his cancer had returned . Tests came back negative , but after spending time with his family , he realized that neither he nor his family were interested in returning to Cleveland . Cullen announced his retirement on November 28 , 1998 , and accepted the Lightning offer to become an assistant coach . In recognition of his comeback attempt , the NHL named him the 1999 winner of the Bill Masterton Memorial Trophy for dedication and perseverance , while the IHL renamed its Comeback Player of the Year award the John Cullen Award . \\n', ' Former Lightning head coach Terry Crisp has stated publicly that Cullen was a player that stood out as something special saying “ John Cullen ... beat cancer and came back to play and helped us win . ” \\n', ' = = Off the ice = = \\n', \" Cullen and his wife Valerie have three daughters , Kennedy and twins Karlyn and Kortland . Unwilling to spend so much time away from his family , he left the Lightning in 1999 and settled in the Atlanta area , joining his brother 's car dealership in Jonesboro , Georgia . He had always expected to become a car dealer after his hockey career , as his father , uncles and brother all worked in the industry . After apprenticing under his brother for five years , he bought a Dodge dealership in Newnan , Georgia in 2007 . However , he owned the dealership for less than two years before Chrysler closed him down as part of its recovery plan in response to the Automotive industry crisis of 2008 – 2010 . He has since returned to his brother 's dealership , serving as its general manager . \\n\", \" Cullen 's battle with cancer inspired Timm Harmon of the Moffitt Cancer Centre to partner with the Lightning to raise awareness and money for cancer research . The NHL itself joined the cause in the winter of 1998 , creating the Hockey Fights Cancer program to raise money for research . Cullen has spent time promoting the initiative . \\n\", ' Prior to marrying his wife Valerie , John dated Carolyn Bessette the future wife of John F. Kennedy , Jr . The two met while attending University in Boston . \\n', ' = = Career statistics = = \\n', ' = = = Regular season and playoffs = = = \\n', ' = = = International = = = \\n', ' = = Awards = = \\n', ' Cullen is the namesake of the John Cullen Award , previously given to key IHL players . \\n', ' = SMS Erzherzog Ferdinand Max = \\n', ' For the ironclad present at the Battle of Lissa of the same name , see SMS Erzherzog Ferdinand Max ( 1865 ) . \\n', ' SMS Erzherzog Ferdinand Max ( German : \" His Majesty \\'s ship Archduke Ferdinand Max \" ) was a pre @-@ dreadnought battleship built by the Austro @-@ Hungarian Navy in 1902 . The second ship of the Erzherzog Karl class , she was launched on 3 October 1903 . She was assigned to the III Battleship Division . \\n', ' For most of World War I , Erzherzog Ferdinand Max remained in her home port of Pola , in present @-@ day Croatia , except for four engagements . In 1914 , she formed part of the Austro @-@ Hungarian flotilla sent to protect the escape of the German ships SMS Goeben and SMS Breslau from the British @-@ held Mediterranean ; she advanced as far as Brindisi before being recalled to her home port . Her sole combat engagement occurred in late May 1915 , when she participated in the bombardment of the Italian port city of Ancona . She also took part in suppressing a major mutiny among the crew members of several armored cruisers stationed in Cattaro between 1 – 3 February 1918 . She also attempted to break through the Otranto Barrage in June of that year , but had to retreat when the dreadnought SMS Szent István was sunk . After the war , Erzherzog Ferdinand Max was awarded to the United Kingdom as a war prize in 1920 . \\n', ' = = Design = = \\n', ' Erzherzog Ferdinand Max displaced 10 @,@ 472 long tons ( 10 @,@ 640 t ) . She was 414 feet 2 inches ( 126 @.@ 2 m ) long , had a beam of 71 feet 5 inches ( 21 @.@ 8 m ) and a draft of 24 feet 7 inches ( 7 @.@ 5 m ) . She was manned by 700 men . She and her sisters were the last and largest pre @-@ dreadnought class built by the Austro @-@ Hungarian Navy , surpassing the Habsburg class by approximately 2 @,@ 000 tonnes ( 1 @,@ 968 long tons ) . She was propelled by two two @-@ shaft , four cylinder vertical triple expansion steam engines . On trials , they developed 18 @,@ 000 ihp ( 13 @,@ 423 kW ) , which propelled the ship at a speed of 20 @.@ 5 knots ( 38 @.@ 0 km / h ; 23 @.@ 6 mph ) . \\n', ' Erzherzog Ferdinand Max carried a primary armament of four 24 @-@ centimeter ( 9 @.@ 4 in ) / 40 caliber guns in two twin turrets on the centerline . These guns were an Austro @-@ Hungarian replica of the British 24 cm / 40 ( 9 @.@ 4 \" ) Krupp C / 94 , which was used on the Habsburgs . Her secondary armament consisted of twelve 19 @-@ centimeter ( 7 @.@ 5 in ) / 42 caliber guns , also made by Škoda , mounted in eight single casemates on either wing of the ship and two twin turrets on the centerline. shell 20 @,@ 000 metres ( 22 @,@ 000 yd ) at maximum elevation with a muzzle velocity of 800 metres per second ( 2 @,@ 600 ft / s ) . The gun weighed 12 @.@ 1 tons and could fire three rounds per minute.The ships had a tertiary armament for protection against torpedo boats in the form of the 6 @.@ 6 centimetres ( 2 @.@ 6 in ) / 45 caliber gun , also manufactured by Škoda . Anti @-@ aircraft and airship protection was covered by the four 37 @-@ millimeter ( 1 @.@ 5 in ) Vickers anti @-@ aircraft guns on the ship bought from Britain in 1910 and mounted onto Erzherzog Karl . Erzherzog Ferdinand Max was also fitted with two above water 45 @-@ centimeter ( 17 @.@ 7 in ) torpedo tubes , although rarely used . \\n', ' = = Service history = = \\n', ' At the outbreak of World War I , Erzherzog Ferdinand Max was in the III division of the Austrian @-@ Hungarian battle @-@ fleet . She was mobilized on the eve of the war along with the remainder of the fleet to support the flight of SMS Goeben and SMS Breslau . The two German ships were attempting to break out of Messina , which was surrounded by British troops , and make their way to Turkey . The breakout succeeded . When the flotilla had advanced as far south as Brindisi in south eastern Italy , the Austro @-@ Hungarian ships were recalled . In company with other units of the Austro Hungarian navy , Erzherzog Ferdinand Max took a minor part in the bombardment of Ancona on 24 May 1915 . There she and her sisters expended 24 rounds of 240 mm armor @-@ piercing shells at signal and semaphore stations as well as 74 rounds of 190 mm shells aimed at Italian gun @-@ batteries and other port installations . \\n', \" A major mutiny among crews of the armored cruisers stationed in Cattaro , including Sankt Georg and Kaiser Karl VI , began on 1 February 1918 . Two days later , Erzherzog Ferdinand Max and her sisters arrived in the port and assisted with the suppression of the mutiny . Following the restoration of order in the naval base , the armored cruisers Sankt Georg and Kaiser Karl VI were decommissioned and Erzherzog Ferdinand Max and her sisters were stationed in Cattaro in their place . On the morning of 11 June , Admiral Miklos Horthy planned a major assault on the Otranto Barrage ; the three Erzherzog Karls and the four Tegetthoff @-@ class battleships were to provide support for the Novara @-@ class cruisers on an assault on the Allied defenses at the Strait of Otranto . The plan was intended to replicate the success of the raid conducted one year earlier . Horthy 's plan was to destroy the blockading fleet by luring Allied ships to the cruisers and lighter ships , which were protected from the heavier guns of the battleships , including the guns of the Erzherzog Karl class . However , on the morning of 10 June , the dreadnought Szent István was torpedoed and sunk by an Italian torpedo boat . Horthy felt that the element of surprise had been compromised , and therefore called off the operation . This was to be the last military action Erzherzog Ferdinand Max was to take part in , and she and her sisters spent the rest of their career in port . \\n\", ' Near the end of World War I , the Erzherzog Karl @-@ class battleships were handed over to the newly formed State of Slovenes , Croats and Serbs but Erzherzog Ferdinand Max was later transferred to Great Britain as a war reparation . She was later broken up for scrap in 1921 . \\n', ' = Ancient Egyptian deities = \\n', \" Ancient Egyptian deities are the gods and goddesses worshipped in ancient Egypt . The beliefs and rituals surrounding these gods formed the core of ancient Egyptian religion , which emerged sometime in prehistory . Deities represented natural forces and phenomena , and the Egyptians supported and appeased them through offerings and rituals so that these forces would continue to function according to maat , or divine order . After the founding of the Egyptian state around 3100 BC , the authority to perform these tasks was controlled by the pharaoh , who claimed to be the gods ' representative and managed the temples where the rituals were carried out . \\n\", \" The gods ' complex characteristics were expressed in myths and in intricate relationships between deities : family ties , loose groups and hierarchies , and combinations of separate gods into one . Deities ' diverse appearances in art — as animals , humans , objects , and combinations of different forms — also alluded , through symbolism , to their essential features . \\n\", ' In different eras , various gods were said to hold the highest position in divine society , including the solar deity Ra , the mysterious god Amun , and the mother goddess Isis . The highest deity was usually credited with the creation of the world and often connected with the life @-@ giving power of the sun . Some scholars have argued , based in part on Egyptian writings , that the Egyptians came to recognize a single divine power that lay behind all things and was present in all the other deities . Yet they never abandoned their original polytheistic view of the world , except possibly during the era of Atenism in the 14th century BC , when official religion focused exclusively on the impersonal sun god Aten . \\n', \" Gods were assumed to be present throughout the world , capable of influencing natural events and the course of human lives . People interacted with them in temples and unofficial shrines , for personal reasons as well as for larger goals of state rites . Egyptians prayed for divine help , used rituals to compel deities to act , and called upon them for advice . Humans ' relations with their gods were a fundamental part of Egyptian society . \\n\", ' = = Definition = = \\n', ' The beings in ancient Egyptian tradition who might be labeled as deities are difficult to count . Egyptian texts list the names of many deities whose nature is unknown and make vague , indirect references to other gods who are not even named . The Egyptologist James P. Allen estimates that more than 1 @,@ 400 deities are named in Egyptian texts , whereas his colleague Christian Leitz says there are \" thousands upon thousands \" of gods . \\n', ' The Egyptian language \\'s terms for these beings were nṯr , \" god \" , and its feminine form nṯrt , \" goddess \" . Scholars have tried to discern the original nature of the gods by proposing etymologies for these words , but none of these suggestions has gained acceptance , and the terms \\' origin remains obscure . The hieroglyphs that were used as ideograms and determinatives in writing these words show some of the traits that the Egyptians connected with divinity . The most common of these signs is a flag flying from a pole . Similar objects were placed at the entrances of temples , representing the presence of a deity , throughout ancient Egyptian history . Other such hieroglyphs include a falcon , reminiscent of several early gods who were depicted as falcons , and a seated male or female deity . The feminine form could also be written with an egg as determinative , connecting goddesses with creation and birth , or with a cobra , reflecting the use of the cobra to depict many female deities . \\n', ' The Egyptians distinguished nṯrw , \" gods \" , from rmṯ , \" people \" , but the meanings of the Egyptian and the English terms do not match perfectly . The term nṯr may have applied to any being that was in some way outside the sphere of everyday life . Deceased humans were called nṯr because they were considered to be like the gods , whereas the term was rarely applied to many of Egypt \\'s lesser supernatural beings , which modern scholars often call \" demons \" . Egyptian religious art also depicts places , objects , and concepts in human form . These personified ideas range from deities that were important in myth and ritual to obscure beings , only mentioned once or twice , that may be little more than metaphors . \\n', ' Confronting these blurred distinctions between gods and other beings , scholars have proposed various definitions of a \" deity \" . One widely accepted definition , suggested by Jan Assmann , says that a deity has a cult , is involved in some aspect of the universe , and is described in mythology or other forms of written tradition . According to a different definition , by Dimitri Meeks , nṯr applied to any being that was the focus of ritual . From this perspective , \" gods \" included the king , who was called a god after his coronation rites , and deceased souls , who entered the divine realm through funeral ceremonies . Likewise , the preeminence of the great gods was maintained by the ritual devotion that was performed for them across Egypt . \\n', ' = = Origins = = \\n', ' The first written evidence of deities in Egypt comes from the Early Dynastic Period ( c . 3100 – 2686 BC ) . Deities must have emerged sometime in the preceding Predynastic Period ( before 3100 BC ) and grown out of prehistoric religious beliefs . Predynastic artwork depicts a variety of animal and human figures . Some of these images , such as stars and cattle , are reminiscent of important features of Egyptian religion in later times , but in most cases there is not enough evidence to say whether the images are connected with deities . As Egyptian society grew more sophisticated , clearer signs of religious activity appeared . The earliest known temples appeared in the last centuries of the predynastic era , along with images that resemble the iconographies of known deities : the falcon that represents Horus and several other gods , the crossed arrows that stand for Neith , and the enigmatic \" Set animal \" that represents Set . \\n', \" Many Egyptologists and anthropologists have suggested theories about how the gods developed in these early times . Gustave Jéquier , for instance , thought the Egyptians first revered primitive fetishes , then deities in animal form , and finally deities in human form , whereas Henri Frankfort argued that the gods must have been envisioned in human form from the beginning . Some of these theories are now regarded as too simplistic , and more current ones , such as Siegfried Morenz ' hypothesis that deities emerged as humans began to distinguish themselves from and personify their environment , are difficult to prove . \\n\", ' Predynastic Egypt originally consisted of small , independent villages . Because many deities in later times were strongly tied to particular towns and regions , many scholars have suggested that the pantheon formed as disparate communities coalesced into larger states , spreading and intermingling the worship of the old local deities . But others have argued that the most important predynastic gods were , like other elements of Egyptian culture , present all across the country despite the political divisions within it . \\n', ' The final step in the formation of Egyptian religion was the unification of Egypt , in which rulers from Upper Egypt made themselves pharaohs of the entire country . These sacred kings and their subordinates assumed the exclusive right to interact with the gods , and kingship became the unifying focus of the religion . \\n', ' New gods continued to emerge after this transformation . Some important deities like Isis and Amun are not known to have appeared until the Old Kingdom ( c . 2686 – 2181 BC ) . Places and concepts could suddenly inspire the creation of a deity to represent them , and deities were sometimes created to serve as opposite @-@ sex counterparts to established gods or goddesses . Kings were said to be divine , although only a few continued to be worshipped long after their deaths . Some non @-@ royal humans were said to have the favor of the gods and were venerated accordingly . This veneration was usually short @-@ lived , but the court architects Imhotep and Amenhotep son of Hapu were regarded as gods centuries after their lifetimes , as were some other officials . \\n', ' Through contact with neighboring civilizations , the Egyptians also adopted foreign deities . Dedun , who is first mentioned in the Old Kingdom , may have come from Nubia , and Baal , Anat , and Astarte , among others , were adopted from Canaanite religion during the New Kingdom ( c . 1550 – 1070 BC ) . In Greek and Roman times , from 332 BC to the early centuries AD , deities from across the Mediterranean world were revered in Egypt , but the native gods remained , and they often absorbed the cults of these newcomers into their own worship . \\n', ' = = Characteristics = = \\n', \" Modern knowledge of Egyptian beliefs about the gods is mostly drawn from religious writings produced by the nation 's scribes and priests . These people were the elite of Egyptian society and were very distinct from the general populace , most of whom were illiterate . Little is known about how well this broader population knew or understood the sophisticated ideas that the elite developed . Commoners ' perceptions of the divine may have differed from those of the priests . The populace may , for example , have mistaken the religion 's symbolic statements about the gods and their actions for literal truth . But overall , what little is known about popular religious belief is consistent with the elite tradition . The two traditions form a largely cohesive vision of the gods and their nature . \\n\", ' = = = Roles = = = \\n', \" Most Egyptian deities represent natural or social phenomena . The gods were generally said to be immanent in these phenomena — to be present within nature . The types of phenomena they represented include physical places and objects as well as abstract concepts and forces . The god Shu was the deification of all the world 's air ; the goddess Meretseger oversaw a limited region of the earth , the Theban Necropolis ; and the god Sia personified the abstract notion of perception . Major gods often had many roles and were involved in several types of phenomena . For instance , Khnum was the god of Elephantine Island in the midst of the Nile , the river that was essential to Egyptian civilization . He was credited with producing the annual Nile flood that fertilized the nation 's farmland . Perhaps as an outgrowth of this life @-@ giving function , he was said to create all living things , fashioning their bodies on a potter 's wheel . Gods could share the same role in nature ; Ra , Atum , Khepri , Horus , and other deities acted as sun gods . Despite their diverse functions , most gods had an overarching role in common : maintaining maat , the universal order that was a central principle of Egyptian religion and was itself personified as a goddess . But some deities represented disruption to maat . Most prominently , Apep was the force of chaos , constantly threatening to annihilate the order of the universe , and Set was an ambivalent member of divine society who could both fight disorder and foment it . \\n\", ' Not all aspects of existence were seen as deities . Although many deities were connected with the Nile , no god personified it in the way that Ra personified the sun . Short @-@ lived phenomena , like rainbows or eclipses , were not represented by gods ; neither were elements like fire and water or many other components of the world . \\n', \" The roles of each deity were fluid , and each god could expand its nature to take on new characteristics . As a result , gods ' roles are difficult to categorize or define . But despite their flexibility , the gods had limited abilities and spheres of influence . Not even the creator god could reach beyond the boundaries of the cosmos that he created , and even Isis , though she was said to be the cleverest of the gods , was not omniscient . Richard H. Wilkinson , however , argues that some texts from the late New Kingdom suggest that , as beliefs about the god Amun evolved , he was thought to approach omniscience and omnipresence and to transcend the limits of the world in a way that other deities did not . \\n\", ' The deities with the most limited and specialized domains are often called \" minor divinities \" or \" demons \" in modern writing , although there is no firm definition for these terms . Among these lesser deities , Egyptologist Claude Traunecker draws a distinction between \" genies \" — specialized patron spirits of certain places , objects , or activities , such as the sea or marsh god Wadj @-@ Wer and the harvest goddess Renenutet — and demons , who have a more dangerous character . Many demons are hostile , causing illness and other troubles among humans . Their power can also be protective ; they may guard certain places in the Duat , the realm of the dead , or advise and watch over humans . Egyptians believed the landscape was full of these unpredictable divine powers . Demons often act as servants and messengers to the greater gods , but their position in the hierarchy is not fixed . The protective deities Bes and Taweret originally had minor , demon @-@ like roles , but over time they came to be credited with great influence . \\n', ' = = = Behavior = = = \\n', ' Divine behavior was believed to govern all of nature . Except for the few deities who disrupted the divine order , the gods \\' actions maintained maat and created and sustained all living things . They did this work using a force the Egyptians called heka , a term usually translated as \" magic \" . Heka was a fundamental power that the creator god used to form the world and the gods themselves . \\n', ' The gods \\' actions in the present are described and praised in hymns and funerary texts . In contrast , mythology mainly concerns the gods \\' actions during a vaguely imagined past in which the gods were present on earth and interacted directly with humans . The events of this past time set the pattern for the events of the present . Periodic occurrences were tied to events in the mythic past ; the succession of each new pharaoh , for instance , reenacted Horus \\' accession to the throne of his father Osiris . Myths are metaphors for the gods \\' actions , which humans cannot fully understand . They contain seemingly contradictory ideas , each expressing a particular perspective on divine events . The contradictions in myth are part of the Egyptians \\' many @-@ faceted approach to religious belief — what Henri Frankfort called a \" multiplicity of approaches \" to understanding the gods . \\n', ' In myth , the gods behave much like humans . They feel emotion ; they can eat , drink , fight , weep , sicken , and die . Some have unique character traits . Set is aggressive and impulsive , and Thoth , patron of writing and knowledge , is prone to long @-@ winded speeches . Yet overall , the gods are more like archetypes than well drawn characters . Their behavior is inconsistent , and their thoughts and motivations are rarely stated . Most myths about them lack highly developed characters and plots , because the symbolic meaning of the myths was more important than elaborate storytelling . \\n', ' The first divine act is the creation of the cosmos , described in several creation myths . They focus on different gods , each of which may act as creator deities . The eight gods of the Ogdoad , who represent the chaos that precedes creation , give birth to the sun god , who establishes order in the newly formed world ; Ptah , who embodies thought and creativity , gives form to all things by envisioning and naming them ; Atum produces all things as emanations of himself ; and Amun , according to the myths promoted by his priesthood , preceded and created the other creator gods . These and other versions of the events of creation were not seen as contradictory . Each gives a different perspective on the complex process by which the organized universe and its many deities emerged from undifferentiated chaos . The period following creation , in which a series of gods rule as kings over the divine society , is the setting for most myths . The gods struggle against the forces of chaos and among each other before withdrawing from the human world and installing the historical kings of Egypt to rule in their place . \\n', \" A recurring theme in these myths is the effort of the gods to maintain maat against the forces of disorder . They fight vicious battles with the forces of chaos at the start of creation . Ra and Apep , battling each other each night , continue this struggle into the present . Another prominent theme is the gods ' death and revival . The clearest instance where a god dies is the myth of Osiris ' murder , in which that god is resurrected as ruler of the Duat . The sun god is also said to grow old during his daily journey across the sky , sink into the Duat at night , and emerge as a young child at dawn . In the process he comes into contact with the rejuvenating water of primordial chaos . Funerary texts that depict Ra 's journey through the Duat also show the corpses of gods who are enlivened along with him . Instead of being changelessly immortal , the gods periodically died and were reborn by repeating the events of creation , thus renewing the whole world . But it was always possible for this cycle to be disrupted and for chaos to return . Some poorly understood Egyptian texts even suggest that this calamity is destined to happen — that the creator god will one day dissolve the order of the world , leaving only himself and Osiris amid the primordial chaos . \\n\", ' = = = Locations = = = \\n', \" Gods were linked with specific regions of the universe . In Egyptian tradition , the world includes the earth , the sky , and the Duat . Surrounding them is the dark formlessness that existed before creation . The gods in general were said to dwell in the sky , although gods whose roles were linked with other parts of the universe were said to live in those places instead . Most events of mythology , set in a time before the gods ' withdrawal from the human realm , take place in an earthly setting . The deities there sometimes interact with those in the sky . The Duat , in contrast , is treated as a remote and inaccessible place , and the gods who dwell there have difficulty communicating with those in the world of the living . The space outside the cosmos is also said to be very distant . It too is inhabited by deities , some hostile and some beneficial to the other gods and their orderly world . \\n\", \" In the time after myth , most gods were said to be either in the sky or invisibly present within the world . Temples were their main means of contact with humanity . Each day , it was believed , the gods moved from the divine realm to their temples , their homes in the human world . There they inhabited the cult images , the statues that depicted deities and allowed humans to interact with them in temple rituals . This movement between realms was sometimes described as a journey between the sky and the earth . As temples were the focal points of Egyptian cities , the god in a city 's main temple was the patron god for the city and the surrounding region . Deities ' spheres of influence on earth centered on the towns and regions they presided over . Many gods had more than one cult center , and their local ties changed over time . They could establish themselves in new cities , or their range of influence could contract . Therefore , a given deity 's main cult center in historical times is not necessarily his or her place of origin . The political influence of a city could affect the importance of its patron deity . When kings from Thebes took control of the country at start of the Middle Kingdom ( c . 2055 – 1650 BC ) , they elevated Thebes ' patron gods — first the war god Montu and then Amun — to national prominence . \\n\", ' = = = Names and epithets = = = \\n', ' In Egyptian belief , names express the fundamental nature of the things to which they refer . In keeping with this belief , the names of deities often relate to their roles or origins . The name of the predatory goddess Sekhmet means \" powerful one \" , the name of the mysterious god Amun means \" hidden one \" , and the name of the goddess Nekhbet , who was worshipped in the city of Nekheb , means \" she of Nekheb \" . But many other names have no certain meaning , even when the gods who bear them are closely tied to a single role . The names of the sky goddess Nut and the earth god Geb do not resemble the Egyptian terms for sky and earth . \\n', ' The Egyptians also devised false etymologies giving more meanings to divine names . A passage in the Coffin Texts renders the name of the funerary god Sokar as sk r , meaning \" cleaning of the mouth \" , to link his name with his role in the Opening of the Mouth ritual , while one in the Pyramid Texts says the name is based on words shouted by Osiris , connecting Sokar with the most important funerary deity . \\n', ' The gods were believed to have many names . Among them were secret names that conveyed their true natures more profoundly than others . To know the true name of a deity was to have power over it . The importance of names is demonstrated by a myth in which Isis poisons the superior god Ra and refuses to cure him unless he reveals his secret name to her . Upon learning the name , she tells it to her son , Horus , and by learning it they gain greater knowledge and power . \\n', ' In addition to their names , gods were given epithets , like \" possessor of splendor \" , \" ruler of Abydos \" , or \" lord of the sky \" , that describe some aspect of their roles or their worship . Because of the gods \\' multiple and overlapping roles , deities can have many epithets — with more important gods accumulating more titles — and the same epithet can apply to many deities . Some epithets eventually became separate deities , as with Werethekau , an epithet applied to several goddesses meaning \" great enchantress \" , which came to be treated as an independent goddess . The host of divine names and titles expresses the gods \\' multifarious nature . \\n', ' = = = Relationships = = = \\n', \" Egyptian deities are connected in a complex and shifting array of relationships . A god 's connections and interactions with other deities helped define its character . Thus Isis , as the mother and protector of Horus , was a great healer as well as the patroness of kings . Such relationships were the base material from which myths were formed . \\n\", \" Family relationships are a common type of connection between gods . Deities often form male and female pairs , reflecting the importance of procreation in Egyptian religious thought . Families of three deities , with a father , mother , and child , represent the creation of new life and the succession of the father by the child , a pattern that connects divine families with royal succession . Osiris , Isis , and Horus formed the quintessential family of this type . The pattern they set grew more widespread over time , so that many deities in local cult centers , like Ptah , Sekhmet , and their child Nefertum at Memphis and Amun , Mut , and Khonsu at Thebes , were assembled into family triads . Genealogical connections like these are changeable , in keeping with the multiple perspectives in Egyptian belief . Hathor , as a fertility goddess , could act as mother to any child god , including the child form of the sun god , although in other circumstances she was the sun god 's daughter . \\n\", ' Other divine groups were composed of deities with interrelated roles , or who together represented a region of the Egyptian mythological cosmos . There were sets of gods for the hours of the day and night and for each nome ( province ) of Egypt . Some of these groups contain a specific , symbolically important number of deities . Paired gods can stand for opposite but interrelated concepts that are part of a greater unity . Ra , who is dynamic and light @-@ producing , and Osiris , who is static and shrouded in darkness , merge into a single god each night . Groups of three are linked with plurality in ancient Egyptian thought , and groups of four connote completeness . Rulers in the late New Kingdom promoted a particularly important group of three gods above all others : Amun , Ra , and Ptah . These deities stood for the plurality of all gods , as well as for their own cult centers ( the major cities of Thebes , Heliopolis , and Memphis ) and for many threefold sets of concepts in Egyptian religious thought . Sometimes Set , the patron god of the Nineteenth Dynasty kings and the embodiment of disorder within the world , was added to this group , which emphasized a single coherent vision of the pantheon . \\n', ' Nine , the product of three and three , represents a multitude , so the Egyptians called several large groups \" enneads \" , or sets of nine , even if they had more than nine members . The most prominent ennead was the Ennead of Heliopolis , an extended family of deities descended from the creator god Atum , which incorporates many important gods . The term \" ennead \" was often extended to include all of Egypt \\'s deities . \\n', ' This divine assemblage had a vague and changeable hierarchy . Gods with broad influence in the cosmos or who were mythologically older than others had higher positions in divine society . At the apex of this society was the king of the gods , who was usually identified with the creator deity . In different periods of Egyptian history , different gods were most frequently said to hold this exalted position . Horus was the most important god in the Early Dynastic Period , Ra rose to preeminence in the Old Kingdom , Amun was supreme in the New , and in the Ptolemaic and Roman periods , Isis was the divine queen and creator goddess . Newly prominent gods tended to adopt characteristics from their predecessors . Isis absorbed the traits of many other goddesses during her rise , and when Amun became the ruler of the pantheon , he was conjoined with Ra , the traditional king of the gods , to become a solar deity . \\n', ' = = = Manifestations and combinations = = = \\n', \" The gods were believed to manifest in many forms . The Egyptians had complex conception of the human soul , consisting of several parts . The spirits of the gods were composed of many of these same elements . The ba was the component of the human or divine soul that affected the world around it . Any visible manifestation of a god 's power could be called its ba ; thus , the sun was called the ba of Ra . A depiction of a deity was considered a ka , another component of its being , which acted as a vessel for that deity 's ba to inhabit . The cult images of gods that were the focus of temple rituals , as well as the sacred animals that represented certain deities , were believed to house divine bas in this way . Gods could be ascribed many bas and kas , which were sometimes given names representing different aspects of the god 's nature . Everything in existence was said to be one of the kas of Atum the creator god , who originally contained all things within himself , and one deity could be called the ba of another , meaning that the first god is a manifestation of the other 's power . Divine body parts could act as separate deities , like the Eye of Ra and Hand of Atum , both of which were personified as goddesses . \\n\", \" Nationally important deities gave rise to local manifestations , which sometimes absorbed the characteristics of older regional gods . Horus had many forms tied to particular places , including Horus of Nekhen , Horus of Buhen , and Horus of Edfu . Such local manifestations could be treated almost as separate beings . During the New Kingdom , one man was accused of stealing clothes by an oracle supposed to communicate messages from Amun of Pe @-@ Khenty . He consulted two other local oracles of Amun hoping for a different judgment . Gods ' manifestations also differed according to their roles . Horus could be a powerful sky god or vulnerable child , and these forms were sometimes counted as independent deities . \\n\", ' Gods were combined with each other as easily as they were divided . A god could be called the ba of another , or two or more deities could be joined into one god with a combined name and iconography . Local gods were linked with greater ones , and deities with similar functions were combined . Ra was connected with the local deity Sobek to form Sobek @-@ Ra ; with his fellow ruling god , Amun , to form Amun @-@ Ra ; with the solar form of Horus to form Ra @-@ Horakhty ; and with several solar deities as Horemakhet @-@ Khepri @-@ Ra @-@ Atum . On rare occasion , even deities of different sexes were joined in this way , producing combinations like Osiris @-@ Neith and Mut @-@ Min . This linking of deities is called syncretism . Unlike other situations for which this term is used , the Egyptian practice was not meant to fuse competing belief systems , although foreign deities could be syncretized with native ones . Instead , syncretism acknowledged the overlap between their roles , and extended the sphere of influence for each of them . Syncretic combinations were not permanent ; a god who was involved in one combination continued to appear separately and to form new combinations with other deities . But closely connected deities did sometimes merge . Horus absorbed several falcon gods from various regions , such as Khenty @-@ irty and Khenty @-@ khety , who became little more than local manifestations of him ; Hathor subsumed a similar cow goddess , Bat ; and an early funerary god , Khenti @-@ Amentiu , was supplanted by Osiris and Anubis . \\n', ' = = = The Aten and possible monotheism = = = \\n', \" In the reign of Akhenaten ( c . 1353 – 1336 BC ) in the mid @-@ New Kingdom , a single solar deity , the Aten , became the sole focus of the state religion . Akhenaten ceased to fund the temples of other deities and erased the gods ' names and images on monuments , targeting Amun in particular . This new religious system , sometimes called Atenism , differed dramatically from the polytheistic worship of many gods in all other periods . Whereas , in earlier times , newly important gods were integrated into existing religious beliefs , Atenism insisted on a single understanding of the divine that excluded the traditional multiplicity of perspectives . Yet Atenism may not have been full monotheism , which totally excludes belief in other deities . There is evidence suggesting that the general populace was still allowed to worship other gods in private . The picture is further complicated by Atenism 's apparent tolerance for some other deities , like Shu . For these reasons , the Egyptologist Dominic Montserrat suggested that Akhenaten may have been monolatrous , worshipping a single deity while acknowledging the existence of others . In any case , Atenism 's aberrant theology did not take root among the Egyptian populace , and Akhenaten 's successors returned to traditional beliefs . \\n\", ' = = = Unity of the divine in traditional religion = = = \\n', ' Scholars have long debated whether traditional Egyptian religion ever asserted that the multiple gods were , on a deeper level , unified . Reasons for this debate include the practice of syncretism , which might suggest that all the separate gods could ultimately merge into one , and the tendency of Egyptian texts to credit a particular god with power that surpasses all other deities . Another point of contention is the appearance of the word \" god \" in wisdom literature , where the term does not refer to a specific deity or group of deities . In the early 20th century , for instance , E. A. Wallis Budge believed that Egyptian commoners were polytheistic , but knowledge of the true monotheistic nature of the religion was reserved for the elite , who wrote the wisdom literature . His contemporary James Henry Breasted thought Egyptian religion was instead pantheistic , with the power of the sun god present in all other gods , while Hermann Junker argued that Egyptian civilization had been originally monotheistic and became polytheistic in the course of its history . \\n', ' In 1971 , Erik Hornung published a study rebutting these views . He points out that in any given period many deities , even minor ones , were described as superior to all others . He also argues that the unspecified \" god \" in the wisdom texts is a generic term for whichever deity the reader chooses to revere . Although the combinations , manifestations , and iconographies of each god were constantly shifting , they were always restricted to a finite number of forms , never becoming fully interchangeable in a monotheistic or pantheistic way . Henotheism , Hornung says , describes Egyptian religion better than other labels . An Egyptian could worship any deity at a particular time and credit it with supreme power in that moment , without denying the other gods or merging them all with the god that he or she focused on . Hornung concludes that the gods were fully unified only in myth , at the time before creation , after which the multitude of gods emerged from a uniform nonexistence . \\n', ' Hornung \\'s arguments have greatly influenced other scholars of Egyptian religion , but some still believe that at times the gods were more unified than he allows . Jan Assmann maintains that the notion of a single deity developed slowly through the New Kingdom , beginning with a focus on Amun @-@ Ra as the all @-@ important sun god . In his view , Atenism was an extreme outgrowth of this trend . It equated the single deity with the sun and dismissed all other gods . Then , in the backlash against Atenism , priestly theologians described the universal god in a different way , one that coexisted with traditional polytheism . The one god was believed to transcend the world and all the other deities , while at the same time , the multiple gods were aspects of the one . According to Assmann , this one god was especially equated with Amun , the dominant god in the late New Kingdom , whereas for the rest of Egyptian history the universal deity could be identified with many other gods . James P. Allen says that coexisting notions of one god and many gods would fit well with the \" multiplicity of approaches \" in Egyptian thought , as well as with the henotheistic practice of ordinary worshippers . He says that the Egyptians may have recognized the unity of the divine by \" identifying their uniform notion of \\' god \\' with a particular god , depending on the particular situation . \" \\n', ' = = Descriptions and depictions = = \\n', ' Egyptian writings describe the gods \\' bodies in detail . They are made of precious materials ; their flesh is gold , their bones are silver , and their hair is lapis lazuli . They give off a scent that the Egyptians likened to the incense used in rituals . Some texts give precise descriptions of particular deities , including their height and eye color . Yet these characteristics are not fixed ; in myths , gods change their appearances to suit their own purposes . Egyptian texts often refer to deities \\' true , underlying forms as \" mysterious \" . The Egyptians \\' visual representations of their gods are therefore not literal . They symbolize specific aspects of each deity \\'s character , functioning much like the ideograms in hieroglyphic writing . For this reason , the funerary god Anubis is commonly shown in Egyptian art as a dog or jackal , a creature whose scavenging habits threaten the preservation of buried mummies , in an effort to counter this threat and employ it for protection . His black coloring alludes to the color of mummified flesh and to the fertile black soil that Egyptians saw as a symbol of resurrection . \\n', \" Most gods were depicted in several ways . Hathor could be a cow , cobra , lioness , or a woman with bovine horns or ears . By depicting a given god in different ways , the Egyptians expressed different aspects of its essential nature . The gods are depicted in a finite number of these symbolic forms , so that deities can often be distinguished from one another by their iconographies . These forms include men and women ( anthropomorphism ) , animals ( zoomorphism ) , and , more rarely , inanimate objects . Combinations of forms , such as gods with human bodies and animal heads , are common . New forms and increasingly complex combinations arose in the course of history . Some gods can only be distinguished from others if they are labeled in writing , as with Isis and Hathor . Because of the close connection between these goddesses , they could both wear the cow @-@ horn headdress that was originally Hathor 's alone . \\n\", ' Certain features of divine images are more useful than others in determining a god \\'s identity . The head of a given divine image is particularly significant . In a hybrid image , the head represents the original form of the being depicted , so that , as the Egyptologist Henry Fischer put it , \" a lion @-@ headed goddess is a lion @-@ goddess in human form , while a royal sphinx , conversely , is a man who has assumed the form of a lion . \" Divine headdresses , which range from the same types of crowns used by human kings to large hieroglyphs worn on gods \\' heads , are another important indicator . In contrast , the objects held in gods \\' hands tend to be generic . Male deities hold was staffs , goddesses hold stalks of papyrus , and both sexes carry ankh signs , representing the Egyptian word for \" life \" , to symbolize their life @-@ giving power . \\n', ' The forms in which the gods are shown , although diverse , are limited in many ways . Many creatures that are widespread in Egypt were never used in divine iconography , whereas a few , such as falcons , cobras , and cattle , can each represent many deities . Animals that were absent from Egypt in the early stages of its history were not used as divine images . For instance , the horse , which was only introduced in the Second Intermediate Period ( c . 1650 – 1550 BC ) , never represented a god . Similarly , the clothes worn by anthropomorphic deities in all periods changed little from the styles used in the Old Kingdom : a kilt , false beard , and often a shirt for male gods and a long , tight @-@ fitting dress for goddesses . \\n', ' The basic anthropomorphic form varies . Child gods are depicted nude , as are some adult gods when their procreative powers are emphasized . Certain male deities are given heavy bellies and breasts , signifying either androgyny or prosperity and abundance . Whereas most male gods have red skin and most goddesses are yellow — the same colors used to depict Egyptian men and women — some are given unusual , symbolic skin colors . Thus the blue skin and paunchy figure of the god Hapi alludes to the Nile flood he represents and the nourishing fertility it brought . A few deities , such as Osiris , Ptah , and Min , have a \" mummiform \" appearance , with their limbs tightly swathed in cloth . Although these gods resemble mummies , the earliest examples predate the cloth @-@ wrapped style of mummification , and this form may instead hark back to the earliest , limbless depictions of deities . \\n', ' = = Interactions with humans = = \\n', ' = = = Relationship with the pharaoh = = = \\n', ' In official writings , pharaohs are said to be divine , and they are constantly depicted in the company of the deities of the pantheon . Each pharaoh and his predecessors were considered the successors of the gods who had ruled Egypt in mythic prehistory . Living kings were equated with Horus and called the \" son \" of many deities , particularly Osiris and Ra ; deceased kings were equated with these elder gods . Pharaohs had their own mortuary temples where rituals were performed for them during their lives and after their deaths . But few pharaohs were worshipped as gods long after their lifetimes , and non @-@ official texts portray kings in a human light . For these reasons , scholars disagree about how genuinely most Egyptians believed the king to be a god . He may only have been considered divine when he was performing ceremonies . \\n', \" However much it was believed , the king 's divine status was the rationale for his role as Egypt 's representative to the gods , as he formed a link between the divine and human realms . The Egyptians believed the gods needed temples to dwell in , as well as the periodic performance of rituals and presentation of offerings to nourish them . These things were provided by the cults that the king oversaw , with their priests and laborers . Yet , according to royal ideology , temple @-@ building was exclusively the pharaoh 's work , as were the rituals that priests usually performed in his stead . These acts were a part of the king 's fundamental role : maintaining maat . The king and the nation he represented provided the gods with maat so they could continue to perform their functions , which maintained maat in the cosmos so humans could continue to live . \\n\", ' = = = Presence in the human world = = = \\n', ' Although the Egyptians believed their gods to be present in the world around them , contact between the human and divine realms was mostly limited to specific circumstances . In literature , gods may appear to humans in a physical form , but in real life the Egyptians were limited to more indirect means of communication . \\n', ' The ba of a god was said to periodically leave the divine realm to dwell in the images of that god . By inhabiting these images , the gods left their concealed state and took on a physical form . To the Egyptians , a place or object that was ḏsr — \" sacred \" — was isolated and ritually pure , and thus fit for a god to inhabit . Temple statues and reliefs , as well as particular sacred animals , like the Apis bull , served as divine intermediaries in this way . Dreams and trances provided a very different venue for interaction . In these states , it was believed , people could come close to the gods and sometimes receive messages from them . Finally , according to Egyptian afterlife beliefs , human souls pass into the divine realm after death . The Egyptians therefore believed that in death they would exist on the same level as the gods and fully understand their mysterious nature . \\n', \" Temples , where the state rituals were carried out , were filled with images of the gods . The most important temple image was the cult statue in the inner sanctuary . These statues were usually less than life @-@ size , and made of the same precious materials that were said to form the gods ' bodies . Many temples had several sanctuaries , each with a cult statue representing one of the gods in a group such as a family triad . The city 's primary god was envisioned as its lord , employing many of the residents as servants in the divine household that the temple represented . The gods residing in the temples of Egypt collectively represented the entire pantheon . But many deities — including some important gods as well as those that were minor or hostile — were never given temples of their own , although some were represented in the temples of other gods . \\n\", ' To insulate the sacred power in the sanctuary from the impurities of the outside world , the Egyptians enclosed temple sanctuaries and greatly restricted access to them . People other than kings and high priests were thus denied contact with cult statues . The only exception was during festival processions , when the statue was carried out of the temple but still enclosed in a portable shrine . People did have less direct means of interaction . The more public parts of temples often incorporated small places for prayer , from doorways to freestanding chapels near the back of the temple building . Communities also built and managed small chapels for their own use , and some families had shrines inside their homes . Despite the gulf that separated humanity from the divine , the Egyptians were surrounded by opportunities to approach their gods . \\n', ' = = = Intervention in human lives = = = \\n', \" Egyptian gods were involved in human lives as well as in the overarching order of nature . This divine influence applied mainly to Egypt , as foreign peoples were traditionally believed to be outside the divine order . But in the New Kingdom , when other nations were under Egyptian control , foreigners were said to be under the sun god 's benign rule in the same way that Egyptians were . \\n\", ' Thoth , as the overseer of time , was said to allot fixed lifespans to both humans and gods . Other gods were also said to govern the length of human lives , including Meskhenet , who presided over birth , and Shai , the personification of fate . Thus the time and manner of death was the main meaning of the Egyptian concept of fate , although to some extent these deities governed other events in life as well . Several texts refer to gods influencing or inspiring human decisions , working through a person \\'s \" heart \" — the seat of emotion and intellect in Egyptian belief . Deities were also believed to give commands , instructing the king in the governance of his realm and regulating the management of their temples . Egyptian texts rarely mention direct commands given to private persons , and these commands never evolved into a set of divinely enforced moral codes . Morality in ancient Egypt was based on the concept of maat , which , when applied to human society , meant that everyone should live in an orderly way that did not interfere with the well @-@ being of other people . Because deities were the upholders of maat , morality was connected with them . For example , the gods judged humans \\' moral righteousness after death , and by the New Kingdom , a verdict of innocence in this judgment was believed to be necessary for admittance into the afterlife . But in general , morality was based on practical ways to uphold maat in daily life , rather than on strict rules that the gods laid out . \\n', \" Humans had free will to ignore divine guidance and the behavior required by maat , but by doing so they could bring divine punishment upon themselves . A deity carried out this punishment using its ba , the force that manifested the god 's power in the human world . Natural disasters and human ailments were seen as the work of angry divine bas . Conversely , the gods could cure righteous people of illness or even extend their lifespans . Both these types of intervention were eventually represented by deities : Shed , who emerged in the New Kingdom to represent divine rescue from harm , and Petbe , an apotropaic god from the late eras of Egyptian history who was believed to avenge wrongdoing . \\n\", \" Egyptian texts take different views on whether the gods are responsible when humans suffer unjustly . Misfortune was often seen as a product of isfet , the cosmic disorder that was the opposite of maat , and therefore the gods were not guilty of causing evil events . Some deities who were closely connected with isfet , such as Set , could be blamed for disorder within the world without placing guilt on the other gods . But some writings do accuse the deities of causing human misery , while others give theodicies in the gods ' defense . Beginning in the Middle Kingdom , several texts connected the issue of evil in the world with a myth in which the creator god fights a human rebellion against his rule and then withdraws from the earth . Because of this human misbehavior , the creator is distant from his creation , allowing suffering to exist . New Kingdom writings do not question the just nature of the gods as strongly as those of the Middle Kingdom . They emphasize humans ' direct , personal relationships with deities and the gods ' power to intervene in human events . People in this era put faith in specific gods who they hoped would help and protect them through their lives . As a result , upholding the ideals of maat grew less important than gaining the gods ' favor as a way to guarantee a good life . Even the pharaohs were regarded as dependent on divine aid , and after the New Kingdom came to an end , government was increasingly influenced by oracles communicating the gods ' will . \\n\", ' = = = Worship = = = \\n', \" Official religious practices , which maintained maat for the benefit of all Egypt , were related to , but distinct from , the religious practices of ordinary people , who sought the gods ' help for their personal problems . \\n\", \" Official religion involved a variety of rituals , based in temples . Some rites were performed every day , whereas others were festivals , taking place at longer intervals and often limited to a particular temple or deity . The gods received their offerings in daily ceremonies , in which their statues were clothed , anointed , and presented with food as hymns were recited in their honor . These offerings , in addition to maintaining maat for the gods , celebrated deities ' life @-@ giving generosity and encouraged them to remain benevolent rather than vengeful . \\n\", \" Festivals often involved a ceremonial procession in which a cult image was carried out of the temple in a barque @-@ shaped shrine . These processions served various purposes . In Roman times , when local deities of all kinds were believed to have power over the Nile inundation , processions in many communities carried temple images to the riverbanks so the gods could invoke a large and fruitful flood . Processions also traveled between temples , as when the image of Hathor from Dendera Temple visited her consort Horus at the Temple of Edfu . Rituals for a god were often based in that deity 's mythology . Such rituals were meant to be repetitions of the events of the mythic past , renewing the beneficial effects of the original events . In the Khoiak festival in honor of Osiris , his death and resurrection were ritually reenacted at a time when crops were beginning to sprout . The returning greenery symbolized the renewal of the god 's own life . \\n\", \" Personal interaction with the gods took many forms . People who wanted information or advice consulted oracles , run by temples , that were supposed to convey gods ' answers to questions . Amulets and other images of protective deities were used to ward off the demons that might threaten human well @-@ being or to impart the god 's positive characteristics to the wearer . Private rituals invoked the gods ' power to accomplish personal goals , from healing sickness to cursing enemies . These practices used heka , the same force of magic that the gods used , which the creator was said to have given to humans so they could fend off misfortune . The performer of a private rite often took on the role of a god in a myth , or even threatened a deity , to involve the gods in accomplishing the goal . Such rituals coexisted with private offerings and prayers , and all three were accepted means of obtaining divine help . \\n\", ' Prayer and private offerings are generally called \" personal piety \" : acts that reflect a close relationship between an individual and a god . Evidence of personal piety is scant before the New Kingdom . Votive offerings and personal names , many of which are theophoric , suggest that commoners felt some connection between themselves and their gods . But firm evidence of devotion to deities became visible only in the New Kingdom , reaching a peak late in that era . Scholars disagree about the meaning of this change — whether direct interaction with the gods was a new development or an outgrowth of older traditions . Egyptians now expressed their devotion through a new variety of activities in and around temples . They recorded their prayers and their thanks for divine help on stelae . They gave offerings of figurines that represented the gods they were praying to , or that symbolized the result they desired ; thus a relief image of Hathor and a statuette of a woman could both represent a prayer for fertility . Occasionally , a person took a particular god as a patron , dedicating his or her property or labor to the god \\'s cult . These practices continued into the latest periods of Egyptian history . These later eras saw more religious innovations , including the practice of giving animal mummies as offerings to deities depicted in animal form , such as the cat mummies given to the feline goddess Bastet . Some of the major deities from myth and official religion were rarely invoked in popular worship , but many of the great state gods were important in popular tradition . \\n', \" The worship of some Egyptian gods spread to neighboring lands , especially to Canaan and Nubia during the New Kingdom , when those regions were under pharaonic control . In Canaan , the exported deities , including Hathor , Amun , and Set , were often syncretized with native gods , who in turn spread to Egypt . The Egyptian deities may not have had permanent temples in Canaan , and their importance there waned after Egypt lost control of the region . In contrast , many temples to the major Egyptian gods and deified pharaohs were built in Nubia . After the end of Egyptian rule there , the imported gods , particularly Amun and Isis , were syncretized with local deities and remained part of the religion of Nubia 's independent Kingdom of Kush . These gods were incorporated into the Nubian ideology of kingship much as they were in Egypt , so that Amun was considered the divine father of the king and Isis and other goddesses were linked with the Nubian queen , the kandake . Some deities reached farther . Taweret became a goddess in Minoan Crete , and Amun 's oracle at Siwa Oasis was known to and consulted by people across the Mediterranean region . \\n\", \" Under the Greek Ptolemaic Dynasty and then Roman rule , Greeks and Romans introduced their own deities to Egypt . These newcomers equated the Egyptian gods with their own , as part of the Greco @-@ Roman tradition of interpretatio graeca . But the worship of the native gods was not swallowed up by that of foreign ones . Instead , Greek and Roman gods were adopted as manifestations of Egyptian ones . Egyptian cults sometimes incorporated Greek language , philosophy , iconography , and even temple architecture . Meanwhile , the cults of several Egyptian deities — particularly Isis , Osiris , Anubis , the form of Horus named Harpocrates , and the fused Greco @-@ Egyptian god Serapis — were adopted into Roman religion and spread across the Roman Empire . Roman emperors , like Ptolemaic kings before them , invoked Isis and Serapis to endorse their authority , inside and outside Egypt . In the empire 's complex mix of religious traditions , Thoth was transmuted into the legendary esoteric teacher Hermes Trismegistus , and Isis , who was venerated from Britain to Mesopotamia , became the focus of a Greek @-@ style mystery cult . Isis and Hermes Trismegistus were both prominent in the Western esoteric tradition that grew from the Roman religious world . \\n\", \" Temples and cults in Egypt itself declined as the Roman economy deteriorated in the third century AD , and beginning in the fourth century , Christians suppressed the veneration of Egyptian deities . The last formal cults , at Philae , died out in the fifth or sixth century . Most beliefs surrounding the gods themselves disappeared within a few hundred years , remaining in magical texts into the seventh and eighth centuries . But many of the practices involved in their worship , such as processions and oracles , were adapted to fit Christian ideology and persisted as part of the Coptic Church . Given the great changes and diverse influences in Egyptian culture since that time , scholars disagree about whether any modern Coptic practices are descended from those of pharaonic religion . But many festivals and other traditions of modern Egyptians , both Christian and Muslim , resemble the worship of their ancestors ' gods . \\n\", ' = South of Heaven = \\n', \" South of Heaven is the fourth studio album by American thrash metal band Slayer . Released on July 5 , 1988 , the album was the band 's second collaboration with record producer Rick Rubin , whose production skills on Slayer 's previous album Reign in Blood had helped the band 's sound evolve . \\n\", \" South of Heaven was Slayer 's second album to enter the Billboard 200 , and its last to be released by Def Jam Recordings , although the album became an American Recordings album after Rick Rubin ended his partnership with Russell Simmons . It was one of only two Def Jam titles to be distributed by Geffen Records through Warner Bros. Records because of original distributor Columbia Records ' refusal to release work by the band . The release peaked at number 57 and in 1992 was awarded a gold certification by the Recording Industry Association of America . \\n\", ' In order to offset the pace of the group \\'s previous album , Slayer deliberately slowed down the album \\'s tempo . In contrast to their previous albums , the band utilized undistorted guitars and toned @-@ down vocals . While some critics praised this musical change , others — more accustomed to the style of earlier releases — were disappointed . The songs \" Mandatory Suicide \" and the title track , however , have become permanent features of the band \\'s live setlist . \\n']\n"
     ]
    }
   ],
   "source": [
    "# Load WikiText-2 dataset \"wikitext-2-raw-v1\"\n",
    "\n",
    "dataset : Dataset = None\n",
    "corpus: list = None\n",
    "\n",
    "# YOUR CODE HERE\n",
    "#raise NotImplementedError()\n",
    "#load dataset from huginface wikitext\n",
    "raw_dataset = load_dataset(path=\"wikitext\", name=\"wikitext-2-raw-v1\", split=\"train\")\n",
    "#convert to pandas\n",
    "dataset = raw_dataset.to_pandas()\n",
    "#fiter out empty lines\n",
    "dataset.replace('', np.nan, inplace=True)\n",
    "dataset.dropna(inplace=True)\n",
    "#only select first 500 entries\n",
    "dataset = dataset.iloc[:500]\n",
    "\n",
    "#create corpus as list, as a loop because tolist craetes sublists\n",
    "corpus = []\n",
    "#print(dataset.values)\n",
    "for value in dataset.values:\n",
    "    corpus.append(value[0])\n",
    "print(corpus)\n",
    "\n",
    "\n",
    "#print(len(dataset))\n",
    "#print(dataset)"
   ]
  },
  {
   "cell_type": "code",
   "execution_count": null,
   "metadata": {
    "deletable": false,
    "editable": false,
    "nbgrader": {
     "cell_type": "code",
     "checksum": "6d9a7e7af6846cfd268fbfbc2b6ecd43",
     "grade": true,
     "grade_id": "cell-e0ff412ce441cbd7",
     "locked": true,
     "points": 0.25,
     "schema_version": 3,
     "solution": false,
     "task": false
    },
    "tags": []
   },
   "outputs": [],
   "source": [
    "# Test - Don't modify\n"
   ]
  },
  {
   "cell_type": "code",
   "execution_count": null,
   "metadata": {
    "deletable": false,
    "editable": false,
    "nbgrader": {
     "cell_type": "code",
     "checksum": "fbf99055e4c5b4439744ab040436fb46",
     "grade": true,
     "grade_id": "cell-0e9998b74bc12e96",
     "locked": true,
     "points": 0.25,
     "schema_version": 3,
     "solution": false,
     "task": false
    },
    "tags": []
   },
   "outputs": [],
   "source": [
    "# Test - Don't modify\n"
   ]
  },
  {
   "cell_type": "code",
   "execution_count": null,
   "metadata": {
    "deletable": false,
    "editable": false,
    "nbgrader": {
     "cell_type": "code",
     "checksum": "e8cd6025cb614eb2a9678bb81bee395b",
     "grade": true,
     "grade_id": "cell-5fefde03129fd7c1",
     "locked": true,
     "points": 0.25,
     "schema_version": 3,
     "solution": false,
     "task": false
    },
    "tags": []
   },
   "outputs": [],
   "source": [
    "# Test - Don't modify\n"
   ]
  },
  {
   "cell_type": "code",
   "execution_count": null,
   "metadata": {
    "deletable": false,
    "editable": false,
    "nbgrader": {
     "cell_type": "code",
     "checksum": "e8d88fb9328c51f79c6b338ce2b34e45",
     "grade": true,
     "grade_id": "cell-e08087f00de78bdd",
     "locked": true,
     "points": 0.25,
     "schema_version": 3,
     "solution": false,
     "task": false
    },
    "tags": []
   },
   "outputs": [],
   "source": [
    "# Test - Don't modify\n"
   ]
  },
  {
   "cell_type": "markdown",
   "metadata": {
    "deletable": false,
    "editable": false,
    "nbgrader": {
     "cell_type": "markdown",
     "checksum": "715edb8610e28f71570bc1e88075faca",
     "grade": false,
     "grade_id": "cell-437a975b42eb356c",
     "locked": true,
     "schema_version": 3,
     "solution": false,
     "task": false
    },
    "tags": []
   },
   "source": [
    "Note that the corpus should have a format like:\n",
    "\n",
    "```python\n",
    "corpus = [\n",
    "    \"This is the first line\",\n",
    "    \"This is the second line\",\n",
    "    ..\n",
    "]\n",
    "``` \n",
    "\n",
    "For debugging during coding you can also consider working with a smaller corpus, e.g. only 5 lines."
   ]
  },
  {
   "cell_type": "markdown",
   "metadata": {
    "deletable": false,
    "editable": false,
    "nbgrader": {
     "cell_type": "markdown",
     "checksum": "1f3bbc50e289bc1b3c0dbf443e57312a",
     "grade": false,
     "grade_id": "cell-622fb67db5051cf2",
     "locked": true,
     "schema_version": 3,
     "solution": false,
     "task": false
    },
    "tags": []
   },
   "source": [
    "**b)** Here, you loop through the corpus and count the word frequencies and save the output in the variable `word_freqs`. \n",
    "\n",
    "The `Whitespace` pre_tokenizer can be used for preprocessing a string to strip away empty spaces as well as to separate out special characters such as punctuations. \n",
    "\n",
    "*Hint:* You may want to have a look at the function: `pre_tokenize_str` of the `Whitespace` pre_tokenizer. This might help you. ***(2P)***"
   ]
  },
  {
   "cell_type": "code",
   "execution_count": 45,
   "metadata": {
    "deletable": false,
    "jupyter": {
     "outputs_hidden": true
    },
    "nbgrader": {
     "cell_type": "code",
     "checksum": "c64efb57584be5ffbf5dbe65912dffbb",
     "grade": true,
     "grade_id": "cell-8ce3e5e867205cc4",
     "locked": false,
     "points": 0,
     "schema_version": 3,
     "solution": true,
     "task": false
    },
    "tags": []
   },
   "outputs": [
    {
     "name": "stdout",
     "output_type": "stream",
     "text": [
      "defaultdict(<class 'int'>, {'=': 552, 'Valkyria': 54, 'Chronicles': 39, 'III': 17, 'Senjō': 5, 'no': 24, '3': 33, ':': 66, 'Unrecorded': 1, '(': 185, 'Japanese': 6, '戦場のヴァルキュリア3': 3, ',': 1945, 'lit': 4, '.': 1598, 'of': 1117, 'the': 2298, 'Battlefield': 4, ')': 186, 'commonly': 2, 'referred': 4, 'to': 766, 'as': 262, 'outside': 12, 'Japan': 4, 'is': 141, 'a': 641, 'tactical': 3, 'role': 22, '@-@': 326, 'playing': 8, 'video': 9, 'game': 84, 'developed': 9, 'by': 200, 'Sega': 5, 'and': 988, 'Media': 4, 'Vision': 5, 'for': 305, 'PlayStation': 9, 'Portable': 3, 'Released': 2, 'in': 778, 'January': 11, '2011': 22, 'it': 87, 'third': 17, 'series': 21, 'Employing': 1, 'same': 29, 'fusion': 1, 'real': 8, 'time': 58, 'gameplay': 10, 'its': 56, 'predecessors': 4, 'story': 14, 'runs': 1, 'parallel': 1, 'first': 69, 'follows': 2, '\"': 337, 'Nameless': 12, 'penal': 2, 'military': 14, 'unit': 7, 'serving': 4, 'nation': 7, 'Gallia': 5, 'during': 44, 'Second': 6, 'Europan': 2, 'War': 11, 'who': 76, 'perform': 5, 'secret': 4, 'black': 11, 'operations': 4, 'are': 89, 'pitted': 1, 'against': 25, 'Imperial': 4, 'Calamaty': 1, 'Raven': 5, 'The': 348, 'began': 21, 'development': 16, '2010': 10, 'carrying': 2, 'over': 36, 'large': 11, 'portion': 3, 'work': 23, 'done': 3, 'on': 176, 'II': 14, 'While': 19, 'retained': 3, 'standard': 2, 'features': 6, 'also': 68, 'underwent': 3, 'multiple': 8, 'adjustments': 1, 'such': 31, 'making': 6, 'more': 45, 'forgiving': 1, 'newcomers': 3, 'Character': 1, 'designer': 1, 'Raita': 2, 'Honjou': 3, 'composer': 2, 'Hitoshi': 2, 'Sakimoto': 5, 'both': 28, 'returned': 13, 'from': 156, 'previous': 16, 'entries': 1, 'along': 21, 'with': 317, 'director': 6, 'Takeshi': 2, 'Ozawa': 3, 'A': 39, 'team': 60, 'writers': 1, 'handled': 2, 'script': 2, \"'\": 341, 's': 274, 'opening': 8, 'theme': 16, 'was': 482, 'sung': 4, 'May': 17, 'n': 3, 'It': 37, 'met': 4, 'positive': 6, 'sales': 4, 'praised': 12, 'western': 3, 'critics': 4, 'After': 23, 'release': 13, 'received': 21, 'downloadable': 2, 'content': 4, 'an': 112, 'expanded': 4, 'edition': 4, 'November': 15, 'that': 263, 'year': 47, 'adapted': 3, 'into': 51, 'manga': 2, 'original': 18, 'animation': 2, 'Due': 4, 'low': 5, 'not': 72, 'localized': 2, 'but': 70, 'fan': 2, 'translation': 2, 'compatible': 1, 'released': 15, '2014': 8, 'would': 34, 'return': 8, 'franchise': 16, 'Azure': 3, 'Revolution': 3, '4': 33, 'Gameplay': 1, 'As': 21, 'Valkyira': 2, 'games': 38, 'where': 19, 'players': 12, 'take': 13, 'control': 8, 'part': 26, 'missions': 9, 'enemy': 3, 'forces': 10, 'Stories': 2, 'told': 2, 'through': 30, 'comic': 1, 'book': 2, 'like': 27, 'panels': 3, 'animated': 1, 'character': 24, 'portraits': 2, 'characters': 15, 'speaking': 2, 'partially': 3, 'voiced': 1, 'speech': 2, 'bubbles': 1, 'unvoiced': 1, 'text': 3, 'player': 21, 'progresses': 2, 'linear': 2, 'gradually': 2, 'unlocked': 3, 'maps': 3, 'can': 23, 'be': 96, 'freely': 2, 'scanned': 1, 'replayed': 1, 'they': 61, 'route': 6, 'each': 29, 'location': 2, 'map': 4, 'varies': 2, 'depending': 2, 'individual': 2, 'approach': 5, 'when': 41, 'one': 69, 'option': 2, 'selected': 5, 'other': 75, 'sealed': 1, 'off': 19, 'Outside': 1, 'rest': 6, 'camp': 3, 'units': 8, 'customized': 1, 'growth': 1, 'occurs': 1, 'Alongside': 3, 'main': 17, 'specific': 9, 'sub': 1, 'relating': 1, 'different': 19, 'squad': 6, 'members': 10, 'completion': 1, 'additional': 5, 'episodes': 2, 'some': 38, 'them': 45, 'having': 3, 'higher': 2, 'difficulty': 5, 'than': 39, 'those': 12, 'found': 13, 'There': 23, 'love': 6, 'simulation': 1, 'elements': 12, 'related': 2, 'two': 62, 'heroines': 1, 'although': 17, 'very': 5, 'minor': 8, 'battle': 11, 'system': 11, 'BliTZ': 1, 'carried': 13, 'directly': 2, 'During': 13, 'select': 1, 'using': 8, 'top': 9, 'down': 14, 'perspective': 4, 'battlefield': 4, 'once': 9, 'moves': 5, 'around': 20, 'person': 6, 'only': 37, 'act': 8, 'per': 4, 'turn': 4, 'granted': 1, 'turns': 8, 'at': 155, 'expense': 2, 'Each': 8, 'has': 45, 'field': 1, 'distance': 3, 'movement': 4, 'limited': 12, 'their': 130, 'Action': 2, 'Gauge': 1, 'Up': 1, 'nine': 5, 'assigned': 6, 'single': 19, 'mission': 4, 'will': 6, 'call': 3, 'out': 34, 'if': 9, 'something': 3, 'happens': 1, 'health': 2, 'points': 27, 'HP': 1, 'getting': 2, 'or': 84, 'being': 35, 'knocked': 1, 'attacks': 1, 'Potentials': 3, 'skills': 5, 'unique': 5, 'They': 22, 'divided': 3, 'Personal': 3, 'Potential': 1, 'which': 94, 'innate': 1, 'remain': 7, 'unaltered': 1, 'unless': 2, 'otherwise': 3, 'dictated': 1, 'either': 8, 'help': 9, 'impede': 1, 'Battle': 4, 'grown': 2, 'throughout': 10, 'always': 5, 'grant': 2, 'boons': 1, 'To': 9, 'learn': 2, 'Masters': 1, 'Table': 1, 'grid': 1, 'based': 12, 'skill': 1, 'table': 1, 'used': 30, 'acquire': 2, 'link': 3, 'Characters': 4, 'have': 58, 'Special': 1, 'Abilities': 1, 'temporary': 1, 'boosts': 1, 'Kurt': 5, 'activate': 2, 'Direct': 1, 'Command': 2, 'move': 8, 'without': 9, 'depleting': 1, 'his': 127, 'Point': 1, 'gauge': 1, 'Reila': 1, 'shift': 3, 'her': 126, 'Form': 1, 'become': 9, 'invincible': 1, 'while': 32, 'Imca': 3, 'target': 1, 'heavy': 4, 'weapon': 5, 'Troops': 1, 'five': 12, 'classes': 3, 'Scouts': 1, 'Shocktroopers': 1, 'Engineers': 1, 'Lancers': 1, 'Armored': 1, 'Soldier': 1, 'Troopers': 1, 'switch': 1, 'changing': 1, 'Changing': 1, 'class': 12, 'does': 3, 'greatly': 3, 'affect': 2, 'stats': 1, 'gained': 3, 'With': 8, 'victory': 5, 'experience': 2, 'awarded': 4, 'distributed': 2, 'attributes': 1, 'shared': 2, 'entire': 6, 'feature': 1, 'differing': 1, 'early': 26, 'method': 2, 'distributing': 1, 'types': 5, 'Plot': 1, 'takes': 1, 'place': 13, 'Gallian': 8, 'Army': 8, 'Squad': 2, '422': 1, 'known': 12, 'composed': 6, 'criminals': 1, 'foreign': 6, 'deserters': 1, 'offenders': 1, 'whose': 5, 'names': 16, 'erased': 2, 'records': 3, 'thereon': 1, 'officially': 3, 'numbers': 2, 'Ordered': 1, 'most': 34, 'dangerous': 2, 'Regular': 4, 'Militia': 1, 'do': 13, 'nevertheless': 1, 'up': 28, 'task': 1, 'exemplified': 1, 'motto': 1, 'Altaha': 1, 'Abilia': 1, 'meaning': 9, 'Always': 1, 'Ready': 1, 'three': 35, 'No': 5, '7': 26, 'Irving': 1, 'army': 3, 'officer': 3, 'falsely': 1, 'accused': 3, 'treason': 1, 'wishes': 1, 'redeem': 1, 'himself': 7, ';': 133, 'Ace': 1, '1': 47, 'female': 5, 'Darcsen': 4, 'weapons': 9, 'specialist': 1, 'seeks': 1, 'revenge': 1, 'destroyed': 3, 'home': 13, '13': 13, 'Riela': 3, 'Marcellis': 1, 'seemingly': 2, 'jinxed': 1, 'young': 9, 'woman': 5, 'unknowingly': 1, 'descendant': 1, 'Together': 1, 'fellow': 3, 'these': 43, 'tasked': 1, 'fight': 5, 'mysterious': 5, 'Calamity': 4, 'consisting': 4, 'mostly': 8, 'soldiers': 8, 'exist': 3, 'upper': 6, 'echelons': 1, 'exploit': 1, 'concept': 4, 'plausible': 1, 'deniability': 1, 'order': 20, 'send': 1, 'make': 15, 'lose': 2, 'face': 3, 'war': 20, 'times': 14, 'this': 61, 'works': 12, 'advantage': 1, 'successful': 3, 'incursion': 1, 'territory': 1, 'orders': 5, 'cause': 4, 'certain': 5, '422nd': 3, 'great': 9, 'distress': 1, 'One': 7, 'member': 4, 'Gusurg': 1, 'becomes': 6, 'so': 26, 'enraged': 1, 'he': 76, 'abandons': 1, 'post': 2, 'defects': 1, 'ranks': 2, 'attached': 4, 'ideal': 1, 'independence': 1, 'proposed': 3, 'leader': 2, 'Dahau': 4, 'At': 10, 'within': 17, 'erase': 1, 'protect': 4, 'own': 16, 'interests': 1, 'Hounded': 1, 'allies': 1, 'enemies': 2, 'combined': 7, 'presence': 2, 'traitor': 2, 'desperately': 1, 'keep': 2, 'themselves': 10, 'alive': 1, 'effort': 5, 'This': 23, 'continues': 4, 'until': 14, 'commanding': 1, 'Ramsey': 1, 'Crowe': 2, 'had': 110, 'been': 34, 'kept': 5, 'under': 28, 'house': 5, 'arrest': 2, 'escorted': 1, 'capital': 4, 'city': 13, 'Randgriz': 1, 'present': 19, 'evidence': 6, 'exonerating': 1, 'weary': 1, 'expose': 1, 'General': 9, 'Treason': 1, 'Partly': 1, 'due': 16, 'events': 17, 'partly': 2, 'major': 9, 'losses': 2, 'manpower': 1, 'suffers': 1, 'towards': 5, 'end': 19, 'Empire': 4, 'offered': 4, 'formal': 3, 'position': 12, 'rather': 6, 'serve': 3, 'anonymous': 1, 'shadow': 2, 'force': 9, 'short': 5, 'lived': 4, 'however': 10, 'following': 20, 'Maximilian': 2, 'defeat': 1, 'ancient': 8, 'Valkyrian': 2, 'super': 1, 'benefactor': 1, 'Without': 1, 'support': 9, 'chance': 8, 'prove': 2, 'last': 14, 'trump': 1, 'card': 1, 'creating': 4, 'new': 22, 'armed': 7, 'invading': 1, 'just': 11, 'nations': 2, 'cease': 1, 'fire': 8, 'certainly': 1, 'wreck': 1, 'newfound': 1, 'peace': 1, 'decides': 1, 'again': 4, 'asking': 3, 'list': 6, 'all': 55, 'command': 9, 'killed': 2, 'action': 8, 'Now': 1, 'owing': 1, 'allegiance': 1, 'none': 3, 'confronts': 1, 'destroys': 1, 'then': 17, 'goes': 1, 'separate': 7, 'ways': 6, 'begin': 2, 'lives': 8, 'anew': 1, 'Development': 2, 'Concept': 1, 'after': 48, 'finished': 5, 'full': 8, 'beginning': 8, 'shortly': 2, 'took': 17, 'approximately': 4, 'staff': 6, 'look': 1, 'popular': 11, 'response': 5, 'what': 6, 'wanted': 2, 'next': 14, 'Like': 2, 'predecessor': 2, 'wanting': 1, 'refine': 1, 'mechanics': 2, 'created': 8, 'come': 4, 'revolutionary': 1, 'idea': 2, 'warrant': 1, 'entry': 1, 'Speaking': 1, 'interview': 4, 'stated': 16, 'considered': 10, 'true': 6, 'sequel': 4, 'required': 7, 'amount': 1, 'trial': 1, 'error': 1, 'platform': 4, 'gave': 7, 'improve': 2, 'upon': 9, 'best': 14, 'parts': 6, 'In': 106, 'addition': 8, 'scenario': 2, 'written': 14, 'Kazuki': 1, 'Yamanobe': 1, 'Hiroyuki': 1, 'Fujii': 2, 'Koichi': 1, 'Majima': 1, 'Kishiko': 1, 'Miyagi': 1, 'Seiki': 1, 'Nagakawa': 1, 'Takayuki': 1, 'Shouji': 1, 'Its': 8, 'darker': 2, 'somber': 1, 'majority': 2, 'material': 6, 'BLiTZ': 1, 'design': 10, 'improvements': 5, 'were': 257, 'made': 33, 'graphics': 2, 'layouts': 1, 'structure': 4, 'number': 16, 'playable': 1, 'upgrade': 1, 'involved': 11, 'polygon': 1, 'models': 2, 'body': 6, 'achieve': 2, 'cooperative': 1, 'incorporated': 5, 'second': 24, 'removed': 4, 'memory': 3, 'space': 2, 'needed': 7, 'adjusted': 2, 'settings': 1, 'ease': 1, 'play': 13, 'could': 55, 'appeal': 3, 'retaining': 1, 'essential': 6, 'components': 2, 'newer': 1, 'systems': 2, 'decided': 3, 'designs': 4, 'worked': 9, 'When': 12, 'faced': 1, 'problem': 3, 'uniforms': 1, 'essentially': 1, 'individuality': 1, 'despite': 10, 'him': 32, 'needing': 1, 'create': 4, 'identify': 1, 'maintaining': 4, 'sense': 5, 'reality': 1, 'world': 33, 'color': 4, 'CANVAS': 1, 'engine': 2, 'anime': 7, 'produced': 10, 'Production': 1, 'I': 17, 'G': 3, 'Music': 6, 'music': 10, 'originally': 9, 'heard': 2, 'about': 37, 'project': 3, 'thought': 11, 'light': 6, 'tone': 6, 'similar': 5, 'themes': 6, 'much': 14, 'expected': 3, 'An': 6, 'designed': 10, 'vision': 3, 'rejected': 3, 'He': 57, 'redid': 1, 'seven': 9, 'production': 5, 'need': 5, 'reassess': 1, 'initially': 6, 'recorded': 8, 'orchestra': 2, 'guitar': 5, 'bass': 2, 'synthesizer': 1, 'before': 32, 'redoing': 1, 'segments': 1, 'piece': 2, 'incorporating': 1, 'hopeful': 1, 'tune': 1, 'played': 34, 'ending': 4, 'modern': 7, 'divorced': 1, 'fantasy': 4, 'musical': 2, 'instruments': 8, 'constructed': 3, 'atonality': 1, 'working': 3, 'synthesized': 1, 'felt': 13, 'incorporate': 1, 'live': 9, 'Mitsuhiro': 1, 'Ohta': 1, 'arranged': 1, 'several': 24, 'later': 25, 'tracks': 2, 'song': 10, 'If': 1, 'You': 3, 'Wish': 2, '...': 5, 'もしも君が願うのなら': 1, 'Moshimo': 1, 'Kimi': 1, 'ga': 1, 'Negauno': 1, 'Nara': 1, 'singer': 3, 'reason': 4, 'fought': 1, 'particular': 14, 'wish': 1, 'precious': 4, 'responsibility': 1, 'duty': 2, 'lyrics': 6, 'Seiko': 1, 'Fujibayashi': 1, 'singles': 1, 'Release': 1, 'September': 8, 'teaser': 1, 'website': 2, 'revealed': 5, 'hinting': 1, 'issue': 6, 'Famitsu': 2, 'listed': 3, 'arriving': 1, 'public': 7, 'appearance': 9, 'Tokyo': 1, 'Game': 6, 'Show': 1, 'TGS': 2, 'demo': 4, 'available': 7, 'journalists': 1, 'attendees': 1, 'publicity': 1, 'details': 1, 'scant': 2, 'spoil': 1, 'too': 5, 'potential': 1, 'still': 11, 'flux': 1, 'reveal': 1, 'promote': 2, 'detail': 2, 'leading': 12, 'episodic': 1, 'Flash': 1, 'visual': 3, 'novel': 2, '27': 1, 'said': 26, 'capacity': 1, 'DLC': 3, 'plans': 4, 'finalized': 1, 'Multiple': 1, 'featuring': 1, 'recruitable': 1, 'between': 34, 'February': 17, 'April': 8, 'Extra': 3, 'Edition': 3, '23': 11, 'Packaged': 1, 'sold': 6, 'lower': 5, 'price': 3, 'chosen': 3, 'pre': 4, 'bonus': 1, 'People': 8, 'owned': 4, 'transfer': 2, 'save': 2, 'data': 2, 'versions': 2, 'Unlike': 3, 'west': 5, 'According': 6, 'poor': 3, 'general': 8, 'unpopularity': 1, 'PSP': 1, 'unofficial': 2, 'patch': 4, '2012': 15, 'copy': 1, 'download': 1, 'apply': 2, 'translated': 2, 'English': 6, 'Compatible': 1, 'Reception': 1, 'On': 17, 'day': 17, 'topped': 1, 'exclusive': 2, 'multi': 2, 'charts': 1, 'By': 10, '102': 1, '@,@': 52, '779': 1, 'coming': 3, 'overall': 9, 'Last': 4, 'Story': 1, 'Wii': 1, '152': 1, '500': 7, 'enjoyed': 2, 'particularly': 7, 'pleased': 2, 'gaming': 2, 'site': 3, 'Watch': 1, 'Impress': 1, 'negatively': 2, 'noting': 3, 'pacing': 2, 'recycled': 3, 'generally': 4, 'entertaining': 1, 'putting': 1, 'spikes': 2, '4Gamer': 1, 'net': 2, 'writer': 2, 'Naohiko': 1, 'Misuosame': 1, 'Play': 1, 'Test': 1, 'article': 1, 'PSN': 2, 'provided': 9, 'profound': 1, 'feeling': 3, 'closure': 1, 'annoying': 1, 'limitations': 1, 'aspects': 7, 'special': 3, 'abilities': 3, 'positively': 3, 'noted': 10, 'Official': 3, 'Magazine': 2, '-': 17, 'UK': 3, 'blurring': 1, 'moral': 3, 'standing': 2, 'art': 13, 'style': 5, 'latter': 6, 'continued': 16, 'quality': 3, 'tweaks': 1, 'balance': 2, 'criticism': 1, 'affected': 3, 'Heath': 1, 'Hindman': 5, 'Lifestyle': 1, 'non': 3, 'removal': 1, 'praising': 1, 'returning': 6, 'serious': 1, 'Points': 2, 'criticized': 3, 'review': 4, 'awkward': 1, 'cutscenes': 1, 'seemed': 1, 'include': 8, 'scene': 1, 'good': 3, 'issues': 1, 'occasional': 2, 'problems': 3, 'AI': 1, 'preview': 1, 'Ryan': 3, 'Geddes': 1, 'IGN': 1, 'left': 7, 'excited': 2, 'go': 2, 'completing': 1, 'enjoying': 1, 'improved': 3, 'visuals': 1, 'Kotaku': 1, 'Richard': 4, 'Eisenbeis': 1, 'highly': 4, 'citing': 1, 'form': 31, 'His': 8, 'criticisms': 1, 'length': 3, 'repetition': 1, 'expressing': 2, 'regret': 1, 'Legacy': 1, 'featured': 3, 'Nintendo': 1, '3DS': 1, 'crossover': 1, 'Project': 1, 'X': 4, 'Zone': 1, 'representing': 5, 'develop': 1, 'forms': 14, 'Adaptations': 1, 'episode': 1, 'Titled': 1, 'Taga': 1, 'Tame': 1, 'Jūsō': 1, '戦場のヴァルキュリア３': 1, '誰がための銃瘡': 1, 'Wound': 1, 'Taken': 1, 'Someone': 1, 'Sake': 1, 'Network': 1, 'Qriocity': 1, 'planned': 6, 'availability': 2, 'period': 10, 'extended': 6, 'stoppage': 1, 'summer': 3, 'DVD': 1, 'June': 14, '29': 6, 'August': 11, '31': 3, 'Black': 2, 'Blue': 44, 'editions': 2, 'purchase': 5, 'set': 8, 'half': 6, 'detailing': 1, 'rivals': 2, 'announced': 6, 'Pictures': 2, 'Shinji': 1, 'Motoyama': 1, 'directed': 1, 'Nobuhiro': 1, 'Kondō': 1, 'Hiroshi': 1, 'Ōnogi': 1, 'title': 2, 'inspired': 2, 'principle': 2, 'purpose': 2, 'suffer': 2, 'goals': 13, 'others': 14, 'subtitle': 1, 'Road': 2, 'Kubinka': 2, 'referenced': 1, 'Tank': 1, 'Museum': 10, 'Moscow': 1, 'how': 7, 'regained': 1, 'self': 4, 'stripped': 1, 'identities': 1, 'focused': 3, 'consequences': 1, 'realistic': 1, 'possible': 3, 'consequence': 1, 'did': 15, 'extensive': 1, 'research': 3, 'happened': 2, 'vehicles': 3, 'tanks': 1, 'overturned': 1, 'damaged': 4, 'timeline': 1, 'television': 5, 'adaptation': 1, 'cast': 2, 'appearances': 4, 'Akari': 1, 'Light': 2, 'Tomoshibi': 1, '灯': 1, 'TOMOSHIBI': 1, 'Faylan': 1, 'Someday': 1, 'Flowers': 2, 'Will': 1, 'Bloom': 1, 'いつか咲く光の花': 1, 'Itsuka': 1, 'Saku': 1, 'Hikari': 1, 'Hana': 2, 'Minami': 1, 'Kuribayashi': 1, 'Both': 2, 'songs': 5, 'respective': 1, 'artists': 3, 'Two': 9, 'adaptations': 1, 'protagonists': 1, 'Namo': 1, 'naki': 1, 'Chikai': 1, '名もなき誓いの花': 1, 'Flower': 23, 'Oath': 1, 'illustrated': 4, 'Naoyuki': 1, 'Fujisawa': 1, 'eventually': 6, 'volumes': 1, 'serialized': 1, 'Dengeki': 1, 'Maoh': 1, 'Akaki': 1, 'Unmei': 1, 'Ikusa': 1, 'Otome': 1, '赤き運命の戦乙女': 1, 'Valkyrie': 1, 'Crimson': 1, 'Fate': 1, 'Mizuki': 1, 'Tsuge': 1, 'volume': 2, 'Kadokawa': 1, 'Shoten': 1, 'Tower': 25, 'Building': 18, 'Little': 52, 'Rock': 48, 'Arsenal': 23, 'U': 6, 'S': 8, 'building': 23, 'located': 7, 'MacArthur': 9, 'Park': 5, 'downtown': 1, 'Arkansas': 29, 'Built': 1, '1840': 2, 'installation': 1, 'Since': 2, 'decommissioning': 1, 'housed': 3, 'museums': 1, 'Natural': 4, 'History': 6, 'Antiquities': 2, '1942': 4, '1997': 6, 'Military': 3, 'since': 12, '2001': 2, 'headquarters': 2, 'Æsthetic': 8, 'Club': 8, '1894': 2, 'receives': 1, 'name': 20, 'distinct': 5, 'octagonal': 1, 'tower': 25, 'Besides': 1, 'remaining': 7, 'oldest': 2, 'buildings': 5, 'central': 4, 'birthplace': 2, 'Douglas': 4, 'became': 24, 'supreme': 3, 'commander': 6, 'US': 9, 'South': 9, 'Pacific': 2, 'World': 15, 'starting': 2, 'Camden': 5, 'Expedition': 5, 'named': 16, '10': 11, 'attractions': 1, 'state': 23, 'com': 4, 'Construction': 1, 'arsenal': 20, 'request': 3, 'Governor': 7, 'James': 13, 'Sevier': 1, 'Conway': 1, 'perceived': 2, 'dangers': 1, 'frontier': 3, 'life': 22, 'fears': 1, 'many': 47, 'Native': 1, 'Americans': 1, 'passing': 3, 'way': 18, 'newly': 7, 'established': 9, 'Oklahoma': 1, 'Territory': 1, 'Thirty': 1, 'six': 8, 'acres': 3, 'appropriated': 1, 'outskirts': 1, 'Major': 7, 'Robert': 3, 'B': 6, 'Lee': 1, 'land': 2, 'previously': 5, 'racetrack': 1, 'local': 11, 'jockey': 1, 'club': 4, 'John': 24, 'Wormley': 1, 'Walker': 1, 'builder': 1, 'Federal': 4, 'Government': 4, 'supervised': 1, 'construction': 3, 'Originally': 1, '$': 14, '14': 5, '000': 22, 'allocated': 1, 'proved': 3, 'inadequate': 2, 'budget': 1, 'increased': 4, '30': 5, 'Work': 5, 'permanent': 5, 'built': 19, 'Being': 1, 'store': 3, 'ammunition': 8, 'foot': 3, 'thick': 2, '0': 13, '@.@': 62, '91': 2, 'm': 18, 'exterior': 1, 'walls': 4, 'called': 30, 'stone': 1, 'masonry': 2, 'instead': 7, 'Gazette': 1, 'splendid': 1, 'specimen': 2, 'Civil': 4, 'For': 11, 'years': 21, 'federal': 6, 'government': 3, 'served': 9, 'simple': 1, 'arms': 11, 'depot': 2, 'staffed': 1, 'handful': 1, 'But': 18, '1860': 2, 'American': 8, 'horizon': 1, 'company': 4, 'United': 12, 'States': 8, 'Artillery': 1, 'sixty': 2, 'men': 12, 'transferred': 3, 'Captain': 7, 'Totten': 8, '15': 14, '1861': 8, 'legislature': 1, 'hold': 8, 'referendum': 1, 'determine': 3, 'convention': 3, 'should': 4, 'held': 11, 'consider': 1, 'secession': 1, 'elect': 1, 'delegates': 1, '18': 11, 'wait': 2, '28': 6, 'Henry': 3, 'Massey': 1, 'Rector': 5, 'informed': 3, 'permitted': 1, 'possession': 3, 'officers': 4, 'State': 9, 'authority': 4, 'people': 10, 'shall': 1, 'determined': 2, 'sever': 1, 'connection': 5, 'responded': 2, 'telling': 1, 'came': 14, 'desperate': 1, 'ultimately': 2, 'futile': 2, 'dispatch': 1, 'letters': 1, 'telegrams': 1, 'reinforcements': 1, 'rumors': 9, 'widely': 2, 'spread': 5, 'already': 2, 'telegraph': 3, 'wire': 1, 'span': 1, 'Memphis': 3, 'recently': 1, 'completed': 6, 'Local': 2, 'attorney': 1, 'M': 4, 'Harrel': 3, 'asked': 4, 'compose': 1, 'dispatched': 2, 'message': 2, 'reported': 2, 'unconfirmed': 1, 'troops': 16, 'sent': 14, 'reinforce': 2, 'outposts': 1, 'Indian': 5, 'recalled': 3, 'winter': 3, 'quarters': 2, 'garrison': 3, 'Fort': 5, 'Smith': 3, 'richest': 1, 'depositories': 1, 'stores': 4, 'supposed': 3, 'ultimate': 1, 'destination': 4, 'tropps': 1, '[': 12, 'sic': 1, ']': 12, 'ordered': 3, 'Telegram': 1, 'item': 2, 'intended': 5, 'simply': 2, 'news': 3, 'lines': 1, 'quickly': 3, 'fueling': 1, 'procession': 2, 'sentiment': 1, 'rumor': 1, 'interpreted': 1, 'Arkansans': 1, 'governor': 3, 'assemble': 2, 'expel': 1, '5': 27, 'militia': 3, 'guarantee': 2, 'situations': 4, 'deemed': 1, 'necessary': 3, 'assembled': 4, 'vehemently': 1, 'denied': 3, 'ordering': 1, 'giving': 12, 'any': 21, 'Faced': 1, 'fact': 2, 'believing': 1, 'consensus': 1, 'citizens': 4, 'conflict': 1, 'civilian': 2, 'forced': 4, 'situation': 4, '6': 26, 'demand': 2, 'surrender': 2, 'prompted': 3, 'pervades': 1, 'emergency': 2, 'munitions': 4, 'authorities': 2, 'security': 1, 'authorized': 1, 'me': 7, 'assumed': 5, 'aspect': 4, 'my': 3, 'executive': 1, 'Sate': 1, 'interpose': 1, 'official': 7, 'prevent': 1, 'collision': 1, 'your': 4, 'therefore': 5, 'delivery': 3, 'charge': 5, 'subject': 3, '4th': 1, 'March': 9, 'Perhaps': 3, 'because': 5, 'Abraham': 4, 'Lincoln': 1, 'yet': 1, 'inaugurated': 1, 'President': 3, 'instructions': 1, 'superiors': 1, 'withdraw': 1, 'agreed': 3, 'long': 20, 'provisions': 1, 'allowed': 10, 'safe': 1, 'passage': 2, 'direction': 5, 'personal': 8, 'property': 2, 'besides': 2, 'march': 1, 'away': 7, 'leaving': 5, 'conquered': 1, 'surrendering': 1, 'morning': 6, '8': 13, 'signed': 14, 'agreement': 2, 'placing': 3, 'hands': 4, 'officials': 3, 'That': 6, 'afternoon': 1, 'citizen': 1, 'marched': 2, 'head': 9, 'All': 16, 'point': 10, 'except': 4, 'stayed': 2, 'behind': 11, 'listen': 2, 'hand': 3, 'classified': 1, 'deposit': 1, 'warehouse': 1, 'storage': 1, 'use': 9, 'crisis': 3, 'Thus': 4, 'there': 21, 'substantial': 1, 'ordnance': 10, 'fabrication': 1, 'repairs': 2, 'nor': 3, 'manufacture': 4, 'cartridges': 5, 'fell': 3, 'Most': 12, 'started': 8, 'scratch': 1, 'efforts': 3, 'Board': 1, 'Inside': 1, 'seizure': 1, 'Confederates': 1, 'inventoried': 1, '247': 2, '250': 2, 'musket': 2, '520': 1, 'percussion': 7, 'caps': 3, 'well': 25, 'four': 36, 'bronze': 1, 'cannon': 1, 'battery': 1, 'Long': 1, 'inventory': 1, 'consisted': 6, 'M1822': 4, '69': 5, 'cal': 4, 'flintlock': 5, '625': 1, 'converted': 3, '53': 1, 'M1842': 1, 'smoothbore': 1, '357': 1, 'M1855': 1, '58': 1, 'rifle': 4, 'muskets': 2, '900': 2, 'M1817': 1, 'common': 7, 'rifles': 9, '125': 1, 'M1841': 1, 'Mississippi': 4, 'Rifle': 1, '54': 5, 'M1847': 1, 'musketoon': 1, '2': 46, 'Hall': 6, 'carbines': 1, '267': 1, '864': 1, 'Total': 1, 'Of': 3, '9600': 1, 'serviceable': 1, 'ready': 1, 'Note': 3, '364': 1, 'Disposition': 1, 'somewhat': 1, 'sketchy': 1, 'various': 10, 'surmised': 1, '5th': 1, '6th': 1, '7th': 1, '8th': 1, 'Infantry': 2, 'Regiments': 2, 'mustered': 2, 'issued': 3, 'M1816': 1, '/': 19, 'caliber': 8, 'flintlocks': 2, '9th': 2, '10th': 1, 'companies': 1, 'Kelly': 1, 'Battalion': 1, '3rd': 1, 'Cavalry': 1, 'Regiment': 1, 'Rifles': 2, 'comprising': 1, 'infantry': 1, 'Van': 3, 'Dorn': 3, 'West': 2, '1st': 1, '2nd': 2, 'Mounted': 1, '11th': 1, '12th': 2, 'supply': 3, 'almost': 6, 'completely': 1, 'exhausted': 1, 'old': 9, 'junker': 1, 'equipment': 4, 'machinery': 3, 'east': 6, 'River': 14, 'Maj': 1, 'Gen': 2, 'Earl': 1, '1862': 11, 'accountability': 1, 'lost': 5, 'river': 2, 'Napoleon': 1, 'Jackson': 1, 'probably': 2, 'Vicksburg': 1, 'campaign': 2, '1863': 6, 'Thomas': 1, 'C': 10, 'district': 1, 'nearly': 5, 'destitute': 2, 'another': 17, 'armory': 2, 'Arkadelphia': 5, 'revived': 1, 'collection': 2, 'armaments': 1, 'small': 17, 'Machinery': 1, 'manufacturing': 1, 'turned': 4, 'quantity': 1, 'excellent': 1, 'Lead': 1, 'mines': 1, 'opened': 5, 'chemical': 1, 'laboratory': 2, 'successfully': 4, 'operated': 3, 'aid': 2, 'Ordnance': 3, 'Department': 4, 'calomel': 1, 'castor': 1, 'oil': 4, 'spirits': 3, 'nitre': 1, 'tinctures': 1, 'iron': 6, 'valuable': 2, 'medicines': 1, 'near': 6, 'Ouachita': 1, '75': 3, 'miles': 6, 'south': 9, 'tools': 3, 'gathered': 1, 'piecemeal': 1, 'else': 1, 'labor': 2, 'Nothing': 1, 'sort': 1, 'attempted': 8, 'account': 2, 'knowledge': 6, 'taken': 2, 'neither': 3, 'sufficient': 1, 'enterprise': 1, 'among': 9, 'engage': 3, 'undertakings': 1, '�': 1, 'further': 6, 'lead': 4, 'procured': 6, 'vicinity': 2, 'donation': 1, 'purchases': 1, 'impressments': 1, 'brought': 7, 'rapidly': 1, 'prepared': 1, 'Laboratory': 1, 'illustrating': 1, 'pitiful': 1, 'scarcity': 1, 'country': 9, 'may': 19, 'documents': 1, 'Library': 3, 'cartridge': 1, 'paper': 3, 'Gunsmiths': 1, 'employed': 2, 'conscripted': 1, 'purchased': 5, 'impressed': 1, 'repair': 2, 'guns': 13, 'equal': 1, 'commenced': 2, 'inspecting': 1, 'observing': 1, 'spirit': 2, 'strong': 5, 'Fitch': 1, 'remainder': 4, '1500': 1, 'l': 1, 'Rust': 1, 'soon': 5, 'shotguns': 4, 'obtained': 1, 'pikes': 1, 'lances': 1, 'days': 7, 'elapsed': 1, 'change': 6, 'effected': 2, 'Confederate': 10, 'establishment': 1, 'reactivated': 1, 'Looking': 1, 'suitable': 3, 'activity': 2, 'Navy': 10, 'borrowed': 1, 'Lieutenant': 2, 'W': 7, 'Dunnington': 8, 'Lt': 4, 'gunboat': 4, 'Ponchartrain': 2, 'hopes': 1, 'converting': 1, 'ironclad': 7, 'draw': 1, 'pay': 1, 'placed': 8, 'activities': 6, 'included': 7, 'artillery': 1, 'functions': 4, 'rank': 2, 'lieutenant': 1, 'colonel': 1, 'Col': 2, 'Returns': 1, 'month': 13, 'Vol': 1, '149': 1, 'Chapter': 1, 'IV': 1, 'Captured': 1, 'Rebel': 1, 'Records': 4, 'enlightening': 1, 'scope': 1, 'crucial': 1, 'Post': 2, 'persons': 2, 'shops': 2, 'open': 3, 'fabricating': 1, 'Material': 1, 'etc': 1, 'employment': 1, 'laborers': 3, 'Lockman': 1, 'Green': 2, 'Murphy': 1, '20': 9, 'enlisted': 2, 'foreman': 1, 'clerks': 1, 'gunsmiths': 1, 'repairing': 1, 'laboratorian': 1, '26': 3, 'carpenter': 1, 'packing': 2, 'boxes': 2, 'performed': 9, 'Fabricated': 1, 'pair': 4, 'bullet': 1, 'moulds': 1, 'buck': 4, '&': 9, 'ball': 5, 'shot': 9, 'repaired': 6, '750': 1, 'ordnances': 1, 'guard': 2, 'office': 4, 'police': 2, 'duties': 3, 'inspected': 1, 'Posts': 1, 'build': 4, 'Sanford': 11, 'Faulkner': 3, 'Traveler': 1, 'presumably': 1, 'naval': 5, 'Summary': 3, 'Done': 1, 'shows': 3, 'Fabrication': 1, 'flint': 1, '275': 1, 'fuzes': 1, '117': 1, 'rounds': 5, 'pounder': 3, 'canister': 1, '130': 3, '96': 1, 'Repaired': 2, '236': 1, 'service': 3, 'pistols': 1, 'Received': 1, 'Issued': 1, '752': 1, 'packages': 1, 'painted': 4, 'gun': 16, 'carriages': 1, 'Performed': 1, 'Guard': 2, 'illuminating': 1, 'above': 10, 'months': 3, 'indicating': 2, 'smoothbores': 1, 'remained': 10, 'predominant': 1, 'sixth': 3, 'less': 11, 'obsolete': 1, 'Summaries': 1, 'continue': 8, 'pace': 2, 'scale': 1, 'Appended': 1, 'ominous': 1, 'notation': 1, 'week': 1, 'packed': 1, 'obedience': 1, 'Chief': 1, 'District': 2, 'marks': 2, 'evacuation': 1, 'surrendered': 2, 'advancing': 1, 'Frederick': 9, 'Steele': 2, '11': 11, '1864': 4, 'Union': 17, 'recaptured': 1, 'Fredrick': 1, 'briefly': 6, 'seized': 2, 'Joseph': 1, 'Brooks': 2, 'loyalists': 1, 'Baxter': 1, '1874': 1, 'Decommissioning': 1, '1873': 1, 'renamed': 4, 'Barracks': 1, 'barracks': 2, 'married': 1, 'families': 3, 'drastically': 1, 'altered': 1, 'inside': 3, 'Prior': 3, 'renovation': 1, 'rear': 2, 'basement': 1, 'door': 1, 'entrance': 3, 'hoist': 1, 'floors': 2, '1868': 1, 'front': 2, 'porches': 1, 'added': 5, 'interior': 2, 'stairs': 1, 'today': 3, 'including': 19, 'staircase': 1, '1880': 1, 'born': 6, 'northwest': 1, 'floor': 5, 'father': 13, 'Arthur': 2, 'stationed': 5, '1880s': 1, 'closing': 1, 'arsenals': 1, 'favor': 4, 'smaller': 2, 'ones': 8, 'railroads': 1, 'quick': 1, 'deployment': 1, 'word': 4, 'Washington': 2, 'must': 3, 'abandoned': 2, 'October': 6, '1890': 1, '12': 16, '1893': 1, 'surrounding': 8, 'traded': 6, 'km': 11, '²': 2, 'North': 4, 'condition': 2, 'forever': 1, 'exclusively': 3, 'devoted': 1, 'uses': 2, 'purposes': 4, 'park': 5, 'Big': 2, 'Mountain': 1, 'north': 5, 'side': 6, 'Logan': 1, 'H': 5, 'Roots': 1, 'demolished': 1, 'women': 21, 'societies': 1, 'moved': 8, 'membership': 1, 'larger': 3, 'organizations': 3, 'raised': 5, 'money': 5, 'furnish': 1, 'Columbian': 2, 'Exposition': 1, 'Chicago': 4, 'Fair': 1, 'fair': 1, 'conclusion': 1, 'artifacts': 1, 'exhibit': 1, 'displayed': 2, 'invited': 1, 'meet': 2, 'Room': 4, 'Except': 2, 'meetings': 2, 'largely': 3, 'unoccupied': 1, 'fifty': 2, 'suffered': 6, 'significant': 5, 'deterioration': 1, 'financial': 3, 'even': 16, 'paid': 2, 'electric': 1, 'bill': 1, 'Great': 7, 'Depression': 1, 'headquartered': 1, 'Public': 1, '20th': 3, 'century': 7, 'Veterans': 1, 'Reunion': 1, '–': 96, '1911': 3, 'Over': 1, '106': 1, 'veterans': 1, 'largest': 2, 'gathering': 1, 'history': 19, 'attended': 4, 'camped': 1, 'camping': 1, 'area': 4, 'Later': 7, 'National': 11, '1912': 2, 'library': 4, '1917': 3, 'station': 1, 'now': 10, 'gone': 3, 'band': 7, 'shell': 7, 'Foster': 1, 'longer': 3, 'exists': 1, '1936': 3, 'Works': 3, 'Progress': 2, 'Administration': 2, 'Fine': 1, 'Arts': 2, 'Center': 5, 'Register': 1, 'Historic': 2, 'Places': 2, '1970': 2, 'association': 5, 'Sites': 1, 'Landmark': 1, 'designated': 6, '1994': 2, 'renovated': 1, 'philanthropist': 1, 'Allsop': 1, 'City': 5, 'museum': 4, 'decommissioned': 4, 'Bernie': 1, 'Babcock': 1, 'finally': 6, 'honor': 4, 'Science': 1, 'merged': 1, 'Children': 7, 'Station': 2, 'Discovery': 1, 'relocated': 1, 'historic': 1, 'Market': 1, '19': 13, 'goal': 12, 'educate': 1, 'inform': 1, 'visitors': 1, 'preserve': 1, 'servicemen': 1, 'servicewomen': 1, 'commemorate': 1, 'Cicely': 2, 'Mary': 8, 'Barker': 45, '1895': 2, '16': 6, '1973': 3, 'illustrator': 3, 'illustrations': 2, 'depicting': 4, 'fairies': 3, 'flowers': 3, 'education': 6, 'girlhood': 1, 'correspondence': 2, 'courses': 2, 'instruction': 1, 'Croydon': 14, 'School': 4, 'Art': 7, 'Her': 15, 'earliest': 4, 'professional': 4, 'greeting': 1, 'cards': 5, 'juvenile': 1, 'magazine': 3, 'Fairies': 21, 'Spring': 6, 'published': 11, '1923': 10, 'Similar': 2, 'books': 6, 'decades': 2, 'devout': 2, 'Anglican': 1, 'donated': 2, 'artworks': 1, 'Christian': 12, 'fundraisers': 1, 'missionary': 1, 'She': 58, 'few': 9, 'themed': 8, '’': 9, 'Book': 12, 'Hymns': 4, 'collaboration': 7, 'sister': 13, 'Dorothy': 8, 'Leadeth': 4, 'Me': 4, 'stained': 4, 'glass': 4, 'window': 4, 'St': 25, 'Edmund': 6, 'Church': 5, 'Pitlake': 5, 'painting': 3, 'Christ': 2, 'Child': 5, 'Darling': 4, 'Has': 2, 'Come': 2, 'Queen': 4, 'equally': 2, 'proficient': 1, 'watercolour': 1, 'pen': 2, 'ink': 2, 'oils': 2, 'pastels': 2, 'Kate': 3, 'Greenaway': 5, 'Pre': 3, 'Raphaelites': 2, 'principal': 1, 'influences': 3, 'claimed': 2, 'paint': 2, 'instinctively': 2, 'artistic': 2, 'theories': 4, 'died': 6, 'Though': 1, 'she': 75, 'Fairy': 6, 'spring': 2, 'autumn': 1, 'wasn': 3, 't': 8, '1985': 6, 'posthumously': 2, 'Biography': 1, 'Early': 6, 'daughter': 2, 'youngest': 3, 'child': 11, 'Walter': 2, 'partner': 2, 'seed': 1, 'amateur': 2, 'artist': 2, 'wife': 9, 'Eleanor': 1, 'Oswald': 2, '66': 1, 'Waddon': 3, 'Surrey': 2, 'England': 2, 'epileptic': 1, 'cared': 1, 'parents': 2, 'elder': 5, 'care': 3, 'family': 19, 'moderately': 1, 'belonged': 2, 'middle': 4, 'nanny': 1, 'governess': 1, 'cook': 1, 'prepare': 1, 'meals': 1, 'hired': 2, 'spent': 7, 'bed': 1, 'amusing': 1, 'herself': 3, 'nursery': 1, 'Randolph': 1, 'Caldecott': 1, 'exerted': 1, '1919': 3, '1908': 1, 'entered': 2, 'evening': 4, 'school': 5, '1940s': 2, 'teaching': 2, 'Raphael': 3, 'Tuck': 3, 'Sons': 1, 'bought': 5, 'little': 8, 'drawings': 3, 'sovereign': 1, 'postcards': 4, 'won': 8, 'prize': 3, 'Society': 11, 'poster': 1, 'competition': 5, 'afterward': 2, 'elected': 1, 'critic': 7, 'Advertiser': 1, 'remarked': 3, 'show': 5, 'remarkable': 1, 'freedom': 1, 'promise': 1, 'Following': 6, 'death': 12, 'seventeen': 1, 'submitted': 1, 'poetry': 1, 'My': 3, 'Own': 1, 'Leading': 2, 'Strings': 1, 'annuals': 1, 'mother': 16, 'taught': 3, 'kindergarten': 6, 'private': 6, 'schools': 1, 'supervising': 1, 'household': 3, 'literature': 4, 'releases': 2, 'Coming': 1, 'Sir': 1, 'Conan': 1, 'Doyle': 1, 'Peter': 4, 'Pan': 1, 'J': 4, 'Barrie': 1, 'fairy': 2, 'Australian': 1, 'Ida': 1, 'Rentoul': 1, 'Outhwaite': 2, 'sending': 1, 'friends': 5, '1920s': 6, '1918': 6, 'postcard': 1, 'elves': 1, 'flower': 1, 'paintings': 5, 'publishers': 2, 'Blackie': 32, '£': 2, '25': 6, '24': 11, 'accompanying': 3, 'verses': 1, 'publication': 1, 'Summer': 3, '1925': 4, 'royalties': 1, 'Violet': 1, 'Clayton': 3, 'Calthrop': 3, 'author': 1, 'Dion': 2, 'wrote': 6, 'exquisite': 1, 'taste': 1, 'draughtsmanship': 1, 'Waldrons': 4, '1924': 1, 'level': 4, 'semi': 1, 'detached': 1, 'Victorian': 1, 'studio': 5, 'garden': 1, 'conducted': 3, 'room': 4, 'back': 17, 'frugally': 1, 'Andrew': 6, 'churches': 1, 'privileged': 1, 'sometimes': 11, 'parishioners': 1, 'religious': 20, 'described': 12, 'Canon': 1, 'Ingram': 1, 'Hill': 1, 'pillars': 1, 'children': 12, 'modelled': 1, 'closed': 7, '1940': 3, '1958': 1, 'ran': 5, 'borrow': 1, 'students': 1, 'atmosphere': 2, 'never': 9, 'forgot': 1, 'relatives': 2, 'Gladys': 1, 'Tidy': 1, 'Barkers': 1, 'housekeeper': 1, 'posed': 1, 'Primrose': 1, 'plants': 1, 'readily': 2, 'Kew': 1, 'Gardens': 2, 'provide': 3, 'specimens': 1, 'costumes': 3, 'leaves': 1, 'plant': 1, 'trunk': 1, 'wings': 1, 'twigs': 1, 'gauze': 1, 'broken': 4, 'illustration': 1, 'often': 20, 'Costume': 1, 'Middle': 4, 'late': 11, 'doubt': 1, 'doing': 2, 'enough': 6, 'church': 4, 'focusing': 2, 'solely': 1, 'sacred': 7, 'Family': 2, 'recommended': 1, 'secular': 1, 'attend': 1, 'receiving': 3, 'sketching': 1, 'trips': 1, 'Amberley': 1, 'Storrington': 4, 'Sussex': 2, 'Cornwall': 1, 'southern': 2, 'coast': 1, 'visited': 2, 'Margaret': 2, 'Tarrant': 2, 'Gomshall': 1, 'Ugglebarnby': 1, 'Near': 4, 'Whitby': 1, 'Yorkshire': 1, 'maid': 1, 'retired': 1, 'supervise': 1, 'give': 7, 'collaborated': 1, 'Our': 3, 'First': 2, '1954': 3, 'heart': 3, 'attack': 5, 'unable': 4, 'pursue': 1, 'extent': 4, 'aged': 2, 'devolved': 1, 'manage': 1, 'planning': 1, '1960': 2, '1961': 2, 'Duppas': 1, 'Avenue': 1, 'restored': 1, 'maisonette': 2, 'bequeathed': 1, 'friend': 3, 'Edith': 1, 'taking': 5, 'residence': 2, 'deteriorate': 1, 'nursing': 1, 'convalescent': 1, 'homes': 3, 'tended': 2, 'Worthing': 1, 'Hospital': 1, '77': 3, 'funeral': 2, 'services': 1, 'ashes': 1, 'scattered': 1, 'churchyard': 1, '1989': 1, 'Warne': 7, 'division': 3, 'Penguin': 1, 'Books': 2, '1983': 3, 'acquired': 4, 'properties': 1, 'principally': 1, 'watercolor': 1, 'competent': 1, 'white': 6, 'sketchbook': 1, 'capturing': 1, 'interesting': 1, 'indicated': 2, 'tried': 2, 'comes': 7, 'naturally': 1, 'attention': 2, 'childhood': 1, 'favorite': 1, 'influence': 10, 'subjects': 2, 'wear': 2, 'nostalgic': 1, 'clothing': 1, 'though': 8, 'melancholy': 1, 'flat': 2, 'perhaps': 1, 'advances': 1, 'printing': 2, 'technology': 1, 'studied': 2, 'analytical': 1, 'eye': 2, 'Along': 1, 'Alice': 1, 'Woodward': 1, 'influenced': 4, 'lifelong': 1, 'am': 1, '—': 27, 'technical': 1, 'choice': 3, 'matter': 1, 'admitted': 1, 'fondness': 1, 'Everett': 1, 'Millais': 1, 'wonderful': 1, 'things': 11, 'Edward': 1, 'Burne': 1, 'Jones': 1, 'Depictions': 1, 'sketches': 1, 'given': 18, 'charitable': 2, 'institutions': 1, 'sponsored': 1, 'exhibited': 1, 'covers': 2, 'dust': 1, 'jackets': 1, 'Picturesque': 2, 'Allies': 2, '1915': 3, 'Seaside': 2, 'Holidays': 1, 'Shakespeare': 3, 'Boy': 2, 'Girl': 2, '1920': 4, 'Old': 9, 'Rhymes': 5, 'Times': 4, '1928': 2, 'Lord': 2, 'Rushie': 3, '1938': 2, 'tale': 1, 'girl': 4, 'swans': 1, 'riverbank': 1, 'critically': 2, 'Set': 8, '1800': 2, 'Groundsel': 4, 'Necklaces': 3, '1943': 4, 'tells': 2, 'Jenny': 2, 'rescues': 1, 'poverty': 4, 'agency': 4, 'Scrooge': 1, 'man': 5, 'Mr': 1, 'Petercoo': 1, 'tonally': 1, 'suggests': 2, 'Dickensian': 1, 'social': 5, 'consciousness': 1, 'Simon': 3, 'Swan': 2, 'outlined': 1, '1953': 1, '1988': 5, 'eight': 5, 'guardian': 1, 'angel': 1, 'birthday': 1, 'Promoting': 1, 'Knowledge': 4, '1916': 3, 'respectively': 3, 'Christmas': 3, 'Girls': 2, 'Friendly': 2, '46': 2, 'society': 11, '₤': 1, '1926': 3, 'hung': 1, 'booklet': 1, 'cover': 2, 'Propagation': 1, 'Gospel': 1, 'exhibition': 2, 'Religious': 2, '1929': 6, '1933': 4, 'triptychs': 1, 'Feeding': 3, 'Five': 2, 'Thousand': 2, 'chapel': 4, 'Llandaff': 1, 'House': 1, 'Penarth': 2, 'Wales': 3, 'Parable': 2, 'Supper': 2, '1934': 2, 'George': 2, 'Chapel': 2, 'disappeared': 2, 'photograph': 2, 'dated': 2, 'reproduces': 1, '1941': 1, 'sacraments': 1, 'baptismal': 3, 'font': 4, 'rolls': 2, 'wall': 4, '1948': 4, '1962': 4, '1946': 2, 'x': 2, 'ft': 8, 'Out': 2, 'Tribulation': 2, 'Memorial': 6, 'Norbury': 2, 'Methodist': 1, 'memorial': 2, 'preparing': 1, 'wash': 1, 'feet': 15, 'disciples': 1, 'installed': 2, 'Cards': 1, 'Salmon': 2, 'Mission': 1, 'Preservation': 3, 'Holiday': 1, '1921': 2, 'Elves': 1, 'Harvey': 1, 'Guardian': 1, 'Angel': 1, '1930s': 3, 'Barton': 1, 'Colton': 2, 'Beautiful': 1, 'Bible': 1, '1932': 1, 'Songs': 3, 'Thoughts': 1, 'Picture': 3, 'Verse': 1, 'K': 2, 'Westcott': 1, 'Autumn': 2, '1927': 2, 'rep': 1, 'Hymn': 1, 'New': 24, 'Alphabet': 1, '1937': 3, 'Trees': 2, 'Came': 1, 'Window': 1, 'Garden': 3, 'Verses': 1, 'Louis': 6, 'Stevenson': 1, '1944': 2, 'reprinted': 1, 'Wayside': 1, '1950': 1, 'Lively': 3, 'Macmillan': 3, '1955': 2, 'Numbers': 1, '1957': 1, 'Words': 1, 'Sand': 1, 'Sea': 1, 'Sun': 3, 'Gibson': 1, 'Posthumously': 1, 'Winter': 1, 'Seasons': 1, 'Bedrick': 1, 'Prayers': 1, 'Treasury': 1, 'Fairyopolis': 2, '2005': 1, 'Wild': 2, 'Cherry': 1, 'Makes': 1, 'Pippa': 1, 'Le': 1, 'Quesne': 1, '2006': 6, 'How': 1, 'find': 3, '2007': 4, 'Return': 1, '2008': 7, 'Epiphany': 1, '43': 1, 'Annuals': 1, 'Cecily': 1, 'Cradle': 1, 'roll': 1, '1922': 1, 'Banner': 3, 'Sanderstead': 1, 'reredos': 1, 'triptych': 2, 'Seven': 1, 'Sacraments': 1, 'Baptist': 1, 'banner': 1, 'panel': 1, 'Abesford': 1, 'Lettering': 1, 'sword': 1, 'shield': 1, 'mount': 1, 'Forces': 1, 'Andrews': 2, 'Baptismal': 1, 'Medthodist': 1, 'Am': 1, 'Among': 3, 'Serveth': 1, 'Gambia': 19, 'national': 12, 'football': 13, 'represents': 6, 'international': 3, 'competed': 3, 'match': 6, 'recognised': 3, 'FIFA': 10, 'sport': 3, 'governing': 1, 'organised': 1, '1998': 8, 'youth': 2, 'teams': 4, '17': 12, 'Women': 6, 'Cup': 9, 'qualifiers': 3, 'withdrew': 2, 'regional': 3, 'faces': 2, 'challenges': 2, 'across': 12, 'Africa': 4, 'countries': 1, 'popularity': 2, 'worldwide': 3, 'unranked': 1, 'sanctioned': 1, 'participated': 5, 'tournaments': 1, 'African': 3, 'Championship': 3, 'Games': 4, 'Confederation': 1, 'Football': 3, 'Azerbaijan': 2, 'fielded': 1, 'narrowed': 1, 'initial': 1, 'pool': 1, '49': 2, 'girls': 1, 'SOS': 1, 'Village': 1, 'Bakoteh': 1, 'Sierra': 2, 'Leone': 2, 'qualifying': 2, 'matches': 1, 'tournament': 1, 'Banjul': 1, 'delayed': 1, 'hours': 2, 'Makeni': 1, 'beat': 3, 'qualify': 1, 'final': 11, 'round': 11, 'Tunisia': 3, 'Adama': 1, 'Tamba': 1, 'Awa': 1, 'Demba': 1, 'scored': 10, 'Gambian': 1, 'win': 14, 'qualified': 2, '2002': 1, 'Morocco': 1, 'Background': 2, 'access': 2, 'amongst': 1, 'inequalities': 1, 'human': 32, 'rights': 2, 'abuses': 1, 'targeting': 2, 'Funding': 1, 'impacting': 1, 'assistance': 1, 'associations': 1, 'Another': 4, 'challenge': 1, 'retention': 1, 'Many': 6, 'footballers': 1, 'leave': 2, 'continent': 1, 'seek': 1, 'greater': 9, 'opportunity': 2, 'Europe': 3, 'founded': 2, '1952': 1, 'affiliated': 1, '1968': 1, 'organized': 2, 'launched': 4, 'course': 4, 'Competition': 2, 'active': 3, 'scholastic': 1, 'levels': 1, '2009': 8, 'staffers': 1, 'dedicated': 2, 'Association': 3, 'representation': 1, 'board': 3, 'charter': 1, 'Plain': 1, 'maskray': 14, 'plain': 11, 'brown': 1, 'stingray': 3, 'Neotrygon': 3, 'annotata': 3, 'species': 14, 'Dasyatidae': 1, 'shallow': 2, 'soft': 2, 'bottomed': 1, 'habitats': 2, 'northern': 3, 'Australia': 7, 'Reaching': 1, 'cm': 8, '9': 10, 'width': 2, 'diamond': 2, 'shaped': 4, 'grayish': 3, 'green': 2, 'pectoral': 2, 'fin': 6, 'disc': 7, 'whip': 1, 'tail': 5, 'alternating': 3, 'bands': 2, 'folds': 1, 'below': 1, 'rows': 1, 'thorns': 3, 'base': 5, 'skin': 6, 'smooth': 1, 'possesses': 1, 'dark': 4, 'mask': 3, 'pattern': 4, 'eyes': 4, 'genus': 3, 'ornately': 1, 'patterned': 1, 'maskrays': 4, 'Benthic': 1, 'nature': 16, 'feeds': 1, 'mainly': 4, 'caridean': 2, 'shrimp': 2, 'polychaete': 3, 'worms': 3, 'lesser': 3, 'bony': 2, 'fishes': 2, 'viviparous': 2, 'females': 4, 'producing': 4, 'litters': 1, 'nourished': 1, 'gestation': 1, 'via': 2, 'histotroph': 2, 'uterine': 2, 'milk': 2, 'lacks': 2, 'economic': 1, 'value': 2, 'caught': 4, 'incidentally': 1, 'bottom': 5, 'trawls': 1, 'able': 6, 'withstand': 1, 'gracile': 1, 'distribution': 2, 'fecundity': 1, 'International': 5, 'Conservation': 2, 'Nature': 2, 'IUCN': 2, 'Threatened': 2, 'Taxonomy': 1, 'phylogeny': 1, 'scientific': 2, 'description': 2, 'authored': 1, 'Commonwealth': 1, 'Scientific': 1, 'Industrial': 1, 'Research': 1, 'Organisation': 1, 'CSIRO': 1, 'researcher': 1, '1987': 4, 'Memoirs': 1, 'Victoria': 1, 'annotatus': 1, 'Latin': 2, 'notatus': 1, 'marked': 5, 'refers': 1, 'ray': 2, 'coloration': 2, 'holotype': 1, 'male': 6, '21': 9, 'Western': 4, 'paratypes': 1, 'tentatively': 1, 'Dasyatis': 2, 'group': 7, 'bluespotted': 1, 'kuhlii': 2, 'William': 3, 'White': 1, 'elevated': 2, 'basis': 2, 'morphological': 1, 'molecular': 1, 'phylogenetic': 2, 'analysis': 1, 'mitochondrial': 1, 'nuclear': 1, 'DNA': 1, 'Ningaloo': 1, 'N': 29, 'ningalooensis': 1, 'basal': 1, 'divergence': 1, 'lineage': 1, 'estimated': 5, 'occurred': 4, '~': 2, 'Ma': 2, 'Furthermore': 1, 'individuals': 1, 'sequenced': 1, 'study': 3, 'sorted': 1, 'genetically': 1, 'clades': 1, 'suggesting': 2, 'cryptic': 1, 'complex': 8, 'putative': 1, 'diverged': 1, 'precipitating': 1, 'event': 2, 'likely': 1, 'splitting': 2, 'ancestral': 1, 'population': 2, 'coastline': 1, 'changes': 7, 'Description': 2, 'thin': 1, 'narrowly': 1, 'rounded': 1, 'outer': 2, 'corners': 2, 'measuring': 1, 'wide': 2, 'margins': 2, 'gently': 1, 'concave': 1, 'converge': 1, 'broad': 4, 'angle': 1, 'pointed': 2, 'tip': 2, 'snout': 1, 'close': 6, 'together': 6, 'spiracles': 3, 'nostrils': 1, 'elongated': 1, 'skirt': 1, 'flap': 1, 'mouth': 4, 'bears': 2, 'prominent': 5, 'furrows': 1, 'contains': 1, 'slender': 2, 'papillae': 2, 'Small': 2, 'pairs': 2, 'gill': 1, 'slits': 1, 'pelvic': 1, 'fins': 1, 'fairly': 1, 'barely': 2, 'exceeding': 1, 'intact': 1, 'flattened': 1, 'usually': 7, 'stinging': 1, 'spines': 1, 'stings': 3, 'ventral': 2, 'fold': 3, 'shorter': 1, 'dorsal': 2, 'dermal': 1, 'denticles': 1, 'midline': 1, 'row': 2, 'closely': 4, 'spaced': 1, 'becoming': 3, 'pinkish': 1, 'shape': 1, 'blotches': 1, 'variable': 1, 'underside': 1, 'grows': 1, '45': 5, 'Distribution': 1, 'habitat': 1, 'inhabits': 1, 'continental': 1, 'shelf': 1, 'Wellesley': 1, 'Islands': 1, 'Queensland': 1, 'Bonaparte': 1, 'Archipelago': 1, 'Gulf': 1, 'Carpentaria': 1, 'Timor': 1, 'Arafura': 1, 'Seas': 1, 'unsubstantiated': 1, 'reports': 3, 'range': 8, 'extends': 1, 'Papua': 1, 'Guinea': 1, 'least': 3, 'native': 5, 'region': 6, 'dweller': 1, 'prefers': 1, 'fine': 1, 'sediment': 1, '62': 2, '39': 2, '203': 2, 'deep': 1, 'tends': 1, 'farther': 2, 'shore': 1, 'Biology': 1, 'ecology': 1, 'hunts': 1, 'surface': 2, 'substrate': 1, 'digging': 1, 'prey': 2, 'diet': 1, 'consists': 1, 'predominantly': 1, 'eaten': 1, 'penaeid': 1, 'prawn': 1, 'amphipod': 1, 'Larger': 1, 'rays': 3, 'consume': 1, 'variety': 4, 'relatively': 2, 'compared': 1, 'parasitized': 1, 'tapeworm': 1, 'Acanthobothrium': 1, 'jonesi': 1, 'stingrays': 1, 'developing': 2, 'embryos': 1, 'sustained': 2, 'term': 8, 'Mature': 1, 'functional': 1, 'ovary': 1, 'uterus': 1, 'Litter': 1, 'size': 2, 'newborns': 1, 'measure': 4, 'Males': 1, 'reach': 3, 'sexual': 1, 'maturity': 1, 'widths': 1, 'maximum': 3, 'lifespan': 1, 'males': 1, 'Human': 1, 'interactions': 2, 'conservation': 1, 'threat': 2, 'incidental': 1, 'capture': 1, 'commercial': 6, 'trawl': 1, 'fisheries': 1, 'caused': 1, 'Northern': 1, 'Prawn': 1, 'Fishery': 1, 'operates': 1, 'Although': 8, 'discarded': 1, 'delicate': 2, 'bodied': 1, 'thus': 6, 'unlikely': 1, 'survive': 1, 'encounters': 1, 'trawling': 1, 'gear': 1, 'Historically': 1, 'Chinese': 2, 'Taiwanese': 1, 'trawlers': 1, 'fished': 1, 'intensively': 1, '1959': 1, '1990': 7, 'These': 19, 'factors': 1, 'coupled': 1, 'reproductive': 1, 'rate': 1, 'resulted': 2, 'assessed': 2, 'Columbus': 39, 'Jackets': 43, 'season': 54, 'Hockey': 11, 'League': 9, 'NHL': 37, 'record': 19, 'note': 2, 'worst': 7, 'straight': 3, 'missed': 5, 'playoffs': 3, 'Consequently': 1, 'receive': 2, 'selection': 2, 'Entry': 5, 'Draft': 9, 'lottery': 4, 'Edmonton': 3, 'Oilers': 3, 'pick': 8, 'start': 17, 'Head': 3, 'Coach': 5, 'Scott': 5, 'Arniel': 4, 'fired': 7, 'replaced': 5, 'Assistant': 2, 'Todd': 4, 'Richards': 6, 'personnel': 2, 'trade': 19, 'Star': 10, 'forward': 4, 'Jeff': 5, 'Carter': 10, 'fanfare': 1, 'prospect': 2, 'rebuild': 1, 'looming': 1, 'captain': 2, 'Rick': 7, 'Nash': 13, 'requested': 2, 'controversial': 1, 'loss': 9, 'Los': 4, 'Angeles': 4, 'Kings': 9, 'Staples': 4, 'clock': 10, 'appeared': 13, 'freeze': 1, 'seconds': 5, 'allowing': 3, 'score': 4, 'tying': 2, 'winning': 7, 'overtime': 2, 'managed': 4, 'streaks': 1, 'helping': 2, 'finish': 5, '65': 3, 'total': 5, 'Off': 2, 'changed': 4, 'moving': 1, 'deal': 11, 'Manager': 2, 'Howson': 8, 'acquisition': 3, 'Jakub': 1, 'Voracek': 1, 'draft': 14, 'eighth': 4, 'Philadelphia': 3, 'Flyers': 2, 'exchange': 3, 'fans': 8, 'management': 5, 'center': 5, 'alongside': 5, 'Next': 2, 'negotiating': 1, 'free': 9, 'agent': 3, 'Wisniewski': 5, 'career': 20, 'high': 8, '51': 2, 'York': 10, 'Islanders': 2, 'Montreal': 1, 'Canadiens': 1, 'fifth': 6, 'highest': 5, 'league': 7, 'defenseman': 5, 'scoring': 12, 'Tobias': 1, 'Enstrom': 1, 'terms': 8, 'hour': 2, 'prior': 8, 'signing': 3, '33': 2, 'million': 7, 'former': 8, 'Nikita': 2, 'Filatov': 2, 'Ottawa': 2, 'Senators': 3, 'failed': 6, 'expectations': 2, '44': 2, 'seasons': 4, 'questioned': 1, 'veteran': 3, 'goaltender': 9, 'Steve': 3, 'Mason': 10, 'Calder': 1, 'Trophy': 6, 'winner': 4, 'struggled': 2, 'consecutive': 3, 'Mark': 2, 'Dekanich': 2, '50': 5, 'minutes': 7, 'sign': 3, 'Curtis': 4, 'string': 1, 'AHL': 2, 'affiliate': 1, 'Springfield': 1, 'Falcons': 1, 'training': 5, 'ankle': 1, 'sprain': 1, 'line': 9, 'Additionally': 2, 'groin': 2, 'injury': 7, 'Allen': 4, 'entering': 1, 'December': 5, 'injured': 5, 'losing': 9, 'streak': 10, 'minute': 2, 'Jason': 1, 'Spezza': 1, 'tied': 7, 'power': 21, 'Milan': 1, 'Michalek': 1, 'notched': 1, 'helped': 6, 'futility': 1, 'Detroit': 3, 'Red': 4, 'Wings': 3, 'milestones': 1, 'reached': 6, 'debut': 9, 'Johansen': 3, 'Moore': 1, 'Grant': 2, 'Clitsome': 1, 'assists': 3, 'momentum': 1, 'struggle': 3, 'culminating': 1, 'struggling': 2, 'shake': 2, 'roster': 3, 'Letestu': 1, 'Pittsburgh': 3, 'Penguins': 12, 'Kris': 1, 'Russell': 2, 'Blues': 5, 'Nikitin': 1, 'clubs': 1, 'slow': 1, 'Ken': 1, 'Hitchcock': 5, 'coached': 2, 'playoff': 8, 'contract': 18, 'Before': 2, 'fruition': 1, 'permission': 1, 'hire': 1, 'coaching': 4, 'amassed': 1, 'frame': 1, 'Boston': 5, 'Bruins': 2, 'shootout': 4, 'posting': 1, '38': 2, 'average': 3, '947': 1, 'percentage': 2, 'starts': 3, 'might': 5, 'numerous': 1, 'hit': 4, 'warm': 2, 'ups': 2, 'concussion': 3, 'Vancouver': 2, 'Canucks': 3, 'suffering': 4, 'cramping': 1, 'temporarily': 1, 'breaking': 3, 'seen': 6, 'However': 9, 'going': 3, 'stretch': 1, 'continuing': 1, 'trading': 4, 'discussions': 1, 'inquired': 1, 'better': 4, 'willing': 1, 'waive': 1, 'clause': 1, 'publicly': 3, 'intention': 1, 'More': 1, 'attributed': 1, 'Réseau': 1, 'des': 1, 'sports': 1, 'unhappy': 1, 'demanded': 1, 'ever': 2, 'unsure': 1, 'deadline': 6, 'approaching': 1, 'speculation': 2, 'picked': 1, 'Reports': 1, 'trying': 1, '100': 5, 'percent': 1, 'halfway': 1, 'double': 1, 'digit': 1, 'wins': 1, 'sitting': 2, 'interim': 1, 'Minnesota': 1, 'Phoenix': 4, 'Coyotes': 5, 'fortunes': 1, 'break': 6, 'owner': 1, 'P': 3, 'McConnell': 2, 'letter': 3, 'stating': 1, 'understanding': 3, 'frustration': 1, 'disappointing': 1, 'committed': 1, 'proud': 1, 'thanked': 1, 'dedication': 2, 'passion': 1, 'reiterating': 1, 'consistently': 1, 'compete': 1, 'Stanley': 3, 'Days': 1, 'protest': 1, 'Nationwide': 1, 'Arena': 1, 'Fans': 1, 'upset': 2, 'calling': 3, 'protested': 1, 'host': 2, '2013': 12, 'representative': 3, 'star': 2, 'represented': 17, 'rookie': 2, 'participant': 1, 'Super': 1, 'Skills': 1, 'Allstate': 1, 'Insurance': 1, 'Breakaway': 1, 'Challenge': 1, 'judged': 2, '%': 4, 'vote': 1, 'road': 10, 'Drew': 1, 'Doughty': 1, 'Upon': 2, 'froze': 1, 'expiring': 1, 'Dean': 1, 'Lombardi': 1, 'correct': 1, 'extra': 1, 'corrects': 1, 'blog': 1, 'amazing': 1, 'coincidence': 1, 'mad': 1, 'scramble': 1, 'our': 1, 'dying': 1, 'hockey': 5, 'stopped': 2, 'adding': 1, 'Either': 1, 'deliberate': 1, 'stopping': 2, 'malfunctioned': 1, 'Senior': 1, 'Vice': 1, 'Operations': 1, 'Colin': 1, 'Campbell': 1, 'wronged': 1, 'outcome': 1, 'delay': 1, 'noticed': 1, 'ice': 5, 'Toronto': 5, 'pause': 1, 'investigation': 1, 'talking': 1, 'manufacturer': 1, 'interviewing': 1, 'weeks': 2, 'unlike': 1, 'earlier': 4, 'proposals': 1, 'involving': 2, 'actively': 1, 'shopping': 1, 'options': 1, 'improving': 1, 'Speculation': 1, 'ask': 1, 'combination': 3, 'proven': 1, 'prospects': 1, 'picks': 3, 'dealt': 1, 'Antoine': 1, 'Vermette': 1, 'McElhinney': 2, 'Despite': 4, 'believed': 20, 'flexibility': 2, 'Jack': 1, 'Johnson': 1, 'Samuel': 2, 'Pahlsson': 1, 'fourth': 7, 'Taylor': 1, 'Ellington': 1, 'rebuilding': 1, 'phase': 1, 'huge': 1, 'bringing': 1, 'assets': 1, 'view': 3, 'thing': 1, 'organization': 2, 'personally': 1, 'shutout': 3, 'Colorado': 2, 'Avalanche': 2, 'proceeded': 2, 'posted': 2, 'regulation': 3, 'victories': 2, 'defeated': 2, 'earn': 1, 'immediately': 3, 'matched': 1, 'ten': 4, 'eliminated': 5, 'contention': 2, 'Shortly': 2, 'clinched': 1, '30th': 1, 'Three': 1, 'skate': 1, 'Gillies': 1, 'Playing': 2, 'saves': 2, 'starter': 2, 'led': 6, 'shots': 2, 'Mike': 2, 'lowest': 2, 'shorthanded': 1, '64': 3, 'penalty': 1, 'kill': 1, '76': 2, 'Finishing': 1, 'weighted': 1, '48': 2, 'drafting': 1, 'leapfrog': 1, 'secure': 1, 'dropped': 1, 'participations': 1, 'coach': 5, 'press': 1, 'conference': 1, 'continuously': 1, 'earned': 2, 'Standings': 1, 'expansion': 2, 'Central': 2, 'Division': 3, 'Conference': 2, 'Blackhawks': 1, 'Nashville': 1, 'Predators': 1, '36': 2, 'Divisions': 1, 'CE': 1, 'NW': 1, 'Northwest': 1, 'PA': 1, 'bold': 1, 'y': 1, 'Won': 2, 'p': 1, 'Presidents': 1, 'Schedule': 1, 'results': 2, 'background': 5, 'indicates': 3, 'Silver': 1, 'Player': 3, 'statistics': 4, 'collectively': 2, 'Penalty': 2, 'infractions': 1, 'Plus': 2, 'minus': 2, 'statistic': 2, 'effect': 1, 'Below': 1, 'listing': 5, 'Skaters': 1, 'Pos': 1, 'Position': 1, 'GP': 2, 'Goals': 3, 'Assists': 1, 'Pts': 1, 'PIM': 1, '+': 4, 'Goaltenders': 1, 'Played': 1, 'TOI': 1, 'Time': 1, 'Ice': 2, 'Wins': 1, 'L': 3, 'Losses': 2, 'OT': 1, 'Overtime': 1, 'GA': 1, 'Against': 3, 'GAA': 1, 'Average': 1, 'SA': 1, 'Shots': 1, 'SV': 1, 'Saves': 2, 'Sv': 1, 'Save': 1, 'Percentage': 1, 'SO': 1, 'Shutouts': 1, '†': 1, 'Denotes': 1, 'joining': 2, 'Stats': 1, 'reflect': 2, '‡': 1, 'Traded': 1, 'mid': 2, 'Milestones': 1, 'remedy': 1, 'University': 6, 'Michigan': 1, 'Shawn': 2, 'Hunwick': 6, 'tryout': 1, 'NCAA': 1, 'Tournament': 1, 'skipped': 1, 'astronomy': 2, 'drove': 2, 'worn': 3, '2003': 1, 'Ford': 1, 'Ranger': 1, 'depth': 3, 'chart': 1, 'behest': 1, 'teammates': 3, 'put': 5, 'ninth': 1, 'Conversely': 2, 'Vaclav': 1, 'Prospal': 1, '000th': 1, 'Transactions': 1, 'parted': 1, 'defensemen': 1, 'Jan': 3, 'Hejda': 2, 'Anton': 1, 'Stralman': 2, 'Sami': 1, 'Lepisto': 2, 'Commodore': 2, 'undervalued': 1, 'offers': 3, 'unrestricted': 1, 'agents': 2, 'big': 1, 'waived': 1, 'minors': 1, 'replace': 2, 'departed': 2, 'Radek': 1, 'Martinek': 2, 'missing': 3, 'Brett': 1, 'Lebda': 1, 'Gregorian': 7, 'Italian': 5, 'Torre': 3, 'Gregoriana': 1, 'Winds': 4, 'dei': 1, 'Venti': 1, 'Gallery': 1, 'Maps': 1, 'connects': 2, 'Villa': 1, 'Belvedere': 2, 'Apostolic': 2, 'Palace': 2, 'Vatican': 8, '1578': 1, '1580': 2, 'Bolognese': 1, 'architect': 1, 'Ottaviano': 1, 'Mascherino': 1, 'credited': 6, 'Calendar': 2, 'Reform': 2, 'commissioned': 3, 'Pope': 10, 'Gregory': 2, 'XIII': 6, 'promulgated': 1, '1582': 2, 'Specola': 1, 'Astronomica': 1, 'Vaticana': 2, 'Observatory': 2, 'Four': 2, 'stages': 3, 'progressive': 1, 'edifice': 1, 'astronomical': 2, 'observations': 8, 'sundial': 4, 'confirmation': 2, 'reform': 3, 'Julian': 3, 'calendar': 3, 'stage': 7, 'Leo': 4, 'motu': 2, 'proprio': 2, 'Ut': 2, 'mysticam': 2, '1891': 2, '1572': 1, '1585': 1, 'directive': 1, 'equip': 1, 'greatest': 1, 'experts': 1, 'appointed': 1, 'BC': 11, 'verify': 1, 'reforms': 1, 'Fr': 1, 'Christoph': 1, 'Clavius': 1, 'Jesuit': 1, 'mathematician': 1, 'Roman': 14, 'College': 2, 'expert': 2, 'committee': 1, 'suggested': 5, '73': 1, 'metres': 7, '240': 2, 'flanked': 1, 'della': 1, 'Pigna': 1, 'courtyards': 1, 'instrumentation': 4, 'observation': 2, 'sun': 14, 'falling': 1, 'meridian': 1, 'Ignazio': 2, 'Danti': 2, 'Perugia': 1, 'circular': 1, 'marble': 2, 'plate': 1, 'centre': 2, 'embellished': 1, 'remains': 2, 'undergone': 1, 'centuries': 6, '17th': 1, '18th': 1, 'librarian': 1, 'Mgr': 2, 'Filippo': 1, 'Luigi': 1, 'Gilii': 3, 'clergyman': 1, 'Basilica': 2, 'Earlier': 1, '1797': 1, 'Pius': 4, 'VI': 4, 'approval': 2, 'inscription': 1, 'Specula': 1, 'implemented': 1, 'Cardinal': 1, 'Zelada': 1, 'enhance': 1, 'observatory': 12, 'apart': 1, 'normal': 1, 'devices': 1, 'meteorological': 3, 'magnetic': 1, 'seismograph': 1, 'transit': 3, 'pendulum': 2, 'Dolland': 1, 'Telescope': 1, 'facilitated': 1, 'recording': 5, 'occurrences': 2, 'eclipse': 1, 'comets': 1, 'Satellites': 1, 'Jupiter': 1, 'Mercury': 1, 'patronage': 1, 'rotary': 1, 'domes': 1, 'strategic': 1, 'locations': 1, '300': 4, '400': 4, 'fortification': 1, 'thousand': 1, 'respected': 1, 'polyglot': 1, 'physics': 1, 'biology': 1, 'archeology': 1, 'Hebrew': 1, 'language': 3, '1821': 2, 'continuous': 1, 'twice': 2, 'AM': 1, 'PM': 1, 'conforming': 1, 'programme': 1, 'Mannheim': 1, 'Meteorological': 1, 'manuscript': 1, 'preserved': 1, 'Subsequent': 1, 'discontinued': 1, 'Established': 1, '1787': 1, 'Third': 1, 'revival': 2, 'initiated': 1, 'Barnabite': 1, 'Francesco': 1, 'Denza': 2, 'High': 1, 'generous': 1, 'donations': 1, 'Hicks': 1, 'London': 2, 'automatic': 1, 'Paris': 2, 'inch': 18, 'equatorial': 2, 'instrument': 3, 'clocks': 1, 'chronometers': 1, 'Modena': 1, '1888': 1, 'gift': 1, 'telescope': 2, 'Father': 2, 'joined': 5, '1889': 1, 'upgraded': 1, 'overlooking': 1, 'border': 1, 'diameter': 1, '56': 3, 'thickness': 1, 'bear': 2, 'load': 2, 'photographic': 1, 'refractor': 1, 'Augustinian': 1, 'Rodriguez': 1, 'meteorologist': 1, '1898': 1, '1905': 1, 'promulgating': 1, 'seat': 2, 'decision': 1, 'altering': 1, 'roof': 1, 'terrace': 1, 'Fourth': 1, 'remedying': 1, 'communicating': 3, 'towers': 2, 'historical': 3, 'carry': 2, 'linking': 2, 'fortified': 1, '83': 1, '272': 1, 'bridge': 4, 'spanning': 1, 'gap': 1, 'semicircular': 1, 'bastion': 1, 'gendarmes': 1, 'heliograph': 1, 'camera': 1, 'photoheliograph': 1, 'Pio': 1, 'erected': 1, 'result': 5, 'modifications': 1, 'Pontifical': 1, 'Academy': 1, 'Lincei': 1, 'seismic': 1, 'shifted': 1, 'Valle': 1, 'di': 1, 'Pompei': 1, 'Astronomical': 1, 'rooms': 1, 'Repsold': 1, 'machines': 1, 'astrographic': 1, 'plates': 2, 'explanatory': 1, 'notes': 2, 'atlas': 1, 'stars': 3, 'Charts': 2, 'printed': 1, 'silver': 2, 'bromide': 1, 'Features': 1, 'mezzanine': 1, 'famous': 1, 'Sundial': 2, 'Meridian': 3, 'loggia': 1, 'Urban': 1, 'VIII': 1, 'enclosed': 3, 'subsequently': 4, 'decorated': 2, 'sequences': 1, 'frescoes': 2, 'Lagi': 1, 'Flemish': 1, 'Paul': 1, 'Matthijs': 1, 'Bril': 1, 'Today': 2, 'Cristoforo': 1, 'Roncalli': 1, 'Matteino': 1, 'da': 1, 'Siena': 1, 'Christina': 1, 'Sweden': 1, 'Catholicism': 1, 'modified': 1, 'additions': 1, 'current': 2, 'sophisticated': 3, 'anemoscope': 2, 'fixed': 4, 'ceiling': 3, 'papal': 1, 'cosmographer': 1, 'running': 1, 'height': 2, 'noon': 1, 'according': 6, 'contrast': 6, 'mechanism': 1, 'strength': 2, 'wind': 1, 'functioning': 2, 'Athens': 1, 'source': 1, 'inspiration': 2, 'hall': 1, 'richly': 1, 'cases': 2, 'gaudy': 1, 'hills': 1, 'countryside': 1, 'Pantheons': 1, 'shipwrecks': 1, 'Jesus': 2, 'calming': 1, 'storm': 1, 'forth': 1, 'Got': 13, 'Be': 12, 'Way': 12, 'songwriter': 1, 'Mariah': 3, 'Carey': 14, 'titled': 4, 'album': 16, 'Columbia': 2, 'Kingdom': 26, 'Ric': 2, 'Wake': 4, 'session': 2, 'composition': 1, 'track': 9, 'socio': 1, 'political': 5, 'conscious': 1, 'R': 2, 'pop': 2, 'addresses': 1, 'existence': 5, 'racism': 2, 'aspirational': 2, 'garnered': 3, 'mixed': 5, 'reception': 2, 'vocals': 4, 'highlights': 1, 'injustices': 1, 'Singles': 1, 'Chart': 1, 'Co': 2, 'Narada': 1, 'Michael': 1, 'Walden': 1, 'appears': 3, 'engineered': 1, 'Bob': 1, 'Cadway': 1, 'Cove': 1, 'Sound': 3, 'Studios': 2, 'Power': 1, 'assisted': 2, 'Dana': 1, 'Jon': 1, 'Chappelle': 1, 'David': 3, 'Frazer': 1, 'Tarpan': 1, 'San': 1, 'Rafael': 1, 'keyboards': 2, 'rhythm': 1, 'engineering': 1, 'Biancaniello': 1, 'Joe': 1, 'Franco': 1, 'Vernon': 1, 'Rich': 1, 'Tancredo': 1, 'performing': 2, 'Afanasieff': 1, 'synth': 1, 'horns': 2, 'Billy': 2, 'T': 3, 'Jamiliah': 1, 'Muhammed': 1, 'Ensemble': 1, 'CD': 1, 'remixes': 1, 'vinyl': 1, 'Composition': 1, 'gospel': 2, 'activism': 2, 'got': 1, 'connect': 1, 'begins': 3, 'denouncing': 1, 'uplifting': 1, 'we': 3, 'tolerant': 1, 'resort': 1, 'Couldn': 1, 'accept': 2, 'Can': 1, 'ourselves': 1, 'aware': 1, 'Critical': 1, 'Christgau': 1, 'brave': 1, 'idealistic': 1, 'destitution': 1, 'Ralph': 1, 'Novak': 1, 'Hiltbrand': 1, 'Grogan': 1, 'testimony': 1, 'talent': 2, 'write': 1, 'clarity': 1, 'makes': 2, 'mesmerizing': 1, 'mark': 1, 'twenty': 2, 'Billboard': 2, 'Trevor': 1, 'Anderson': 1, '2015': 5, 'melodic': 1, 'opener': 1, 'Love': 1, 'highlighted': 1, 'stark': 1, 'lyrical': 1, 'differences': 1, 'writing': 6, 'deploys': 1, 'whistle': 1, 'aim': 1, 'memorable': 1, 'empty': 1, 'street': 5, 'followed': 2, 'clips': 1, 'disadvantaged': 1, 'poorer': 1, 'daily': 5, 'dominoes': 1, 'wooden': 4, 'crate': 1, 'gang': 1, 'fun': 1, 'elderly': 1, 'hanging': 1, 'newspapers': 1, 'obese': 1, 'walks': 1, 'Clips': 1, 'leaning': 1, 'steps': 1, 'looking': 1, 'happening': 1, 'shown': 3, 'chorus': 1, 'everyone': 2, 'dance': 2, 'joyfully': 1, 'choir': 1, 'crowded': 1, 'ages': 1, 'backgrounds': 1, 'rejoicing': 1, 'neon': 1, 'says': 8, 'Track': 1, 'listings': 1, 'Original': 1, 'version': 1, '52': 1, 'remix': 2, 'Alternative': 1, 'Vocal': 1, 'Dub': 1, 'Mix': 1, 'Nebraska': 7, 'Highway': 5, '88': 15, 'highway': 4, 'northwestern': 1, 'terminus': 1, 'Wyoming': 3, '151': 4, 'WYO': 3, 'travels': 2, 'eastward': 1, '71': 8, 'Bridgeport': 6, 'ends': 3, 'intersection': 2, '385': 4, '92': 5, '1986': 6, 'Route': 1, 'County': 2, 'northeast': 2, 'bends': 1, 'mile': 1, '32': 2, 'intersects': 2, 'streets': 1, 'rural': 1, 'farmland': 3, 'concurrent': 1, 'concurrency': 3, 'travel': 1, 'sixteen': 2, 'enters': 3, 'Morrill': 2, 'crosses': 2, 'Pumpkin': 2, 'Creek': 2, 'unincorporated': 1, 'community': 1, 'Redington': 1, 'rock': 1, 'formations': 1, 'Courthouse': 1, 'Jail': 1, 'Rocks': 1, 'visible': 3, 'toward': 2, 'railroad': 2, 'BNSF': 1, 'Railway': 1, 'Roads': 1, 'NDOR': 1, 'calculated': 1, '410': 1, 'traveling': 2, '315': 1, 'county': 1, 'expressed': 4, 'annual': 2, 'traffic': 2, 'AADT': 1, 'Only': 1, 'System': 2, 'NHS': 1, 'network': 1, 'highways': 1, 'identified': 3, 'important': 20, 'economy': 2, 'mobility': 1, 'defense': 2, 'unofficially': 1, 'connecting': 3, '86': 2, 'adequate': 1, 'legal': 1, 'define': 3, 'renumbered': 2, 'rerouted': 1, 'alignment': 1, 'Between': 1, '1981': 1, '82': 1, 'extending': 1, 'intersections': 1, 'USS': 1, 'Atlanta': 26, 'casemate': 5, 'Navies': 1, 'Scottish': 1, 'blockade': 5, 'runner': 2, 'Fingal': 11, 'Confederacy': 2, 'run': 3, 'Savannah': 12, 'Georgia': 6, 'attempts': 1, 'blockaders': 2, 'ship': 26, 'captured': 1, 'monitors': 10, 'aground': 4, 'floated': 1, 'rearmed': 2, 'deployed': 2, 'supporting': 1, '1865': 4, 'reserve': 2, 'Several': 2, 'Haiti': 3, 'sea': 3, '1869': 3, 'voyage': 1, 'merchantman': 1, 'Thomson': 1, 'Clyde': 1, 'Bank': 1, 'Iron': 1, 'Shipyard': 1, 'Govan': 1, 'Glasgow': 2, 'Scotland': 2, 'Midshipman': 1, 'Dabney': 1, 'Scales': 2, 'masted': 1, 'hulled': 1, '189': 1, '57': 2, 'beam': 3, 'tonnage': 1, '700': 2, 'tons': 5, 'bm': 1, 'equipped': 1, 'vertical': 3, 'cylinder': 2, 'direct': 5, 'acting': 7, 'steam': 3, 'engines': 3, 'generated': 1, 'flue': 1, 'tubular': 1, 'boiler': 1, 'speed': 5, 'knots': 3, 'h': 3, 'mph': 3, 'bore': 1, 'inches': 13, '991': 1, 'mm': 14, 'stroke': 1, '762': 1, 'ports': 3, 'Hutcheson': 1, 'Highland': 1, 'Service': 3, 'D': 2, 'Bulloch': 8, 'primary': 5, 'Britain': 4, 'deliver': 1, 'supplies': 1, 'disguise': 1, 'cargo': 4, 'crew': 7, 'Bermuda': 2, 'Nassau': 2, 'Bahamas': 1, 'loaded': 2, 'Greenock': 1, 'Bullock': 1, 'passengers': 2, 'attempt': 5, 'rendezvoused': 1, 'Holyhead': 2, 'night': 7, 'slowly': 3, 'rounding': 1, 'breakwater': 1, 'rammed': 1, 'sank': 1, 'Austrian': 2, 'brig': 2, 'Siccardi': 1, 'swinging': 1, 'anchor': 1, 'lights': 1, 'embarked': 1, 'steamer': 2, 'instructing': 2, 'settle': 1, 'damages': 1, 'owners': 1, 'afford': 1, 'affair': 1, 'lest': 1, 'detained': 1, 'port': 11, 'anyone': 1, 'objected': 1, 'plan': 6, 'join': 2, 'slip': 1, 'safely': 1, 'estuary': 1, 'fog': 1, 'sighting': 1, 'discharging': 1, 'went': 3, 'Richmond': 3, 'confer': 1, 'Stephen': 1, 'Mallory': 7, 'Secretary': 1, 'endorsed': 1, 'cotton': 1, 'sell': 1, 'ships': 12, 'coal': 1, 'impossible': 1, 'controlled': 2, 'every': 4, 'channel': 2, 'aided': 1, 'occupation': 1, 'Tybee': 1, 'Island': 3, 'hopeless': 1, 'brothers': 3, 'Asa': 1, 'Nelson': 1, 'Tift': 1, 'convert': 1, 'financed': 1, 'contributions': 1, 'cut': 1, 'deck': 1, 'sponsons': 1, 'sides': 1, 'hull': 3, 'conversion': 1, '204': 1, '41': 1, 'displaced': 2, '006': 1, '022': 1, 'armor': 9, 'angled': 1, '°': 3, 'horizontal': 1, 'layers': 3, 'rails': 1, 'rolled': 1, '180': 2, 'layer': 2, 'vertically': 2, 'inner': 2, 'horizontally': 1, 'backed': 1, 'oak': 1, 'oriented': 1, '191': 1, 'pine': 1, '508': 1, 'waterline': 2, '59': 1, 'pyramidal': 1, 'pilothouse': 2, 'armored': 5, 'rectangular': 1, 'pierced': 1, 'narrow': 2, 'bow': 5, 'stern': 3, 'protected': 2, 'shutter': 2, 'riveted': 1, 'elevate': 1, 'banded': 2, '178': 1, 'Brooke': 3, 'pivot': 1, 'mounts': 1, 'occupied': 1, '163': 1, 'weighed': 4, 'pounds': 5, '800': 3, 'kg': 9, '80': 2, 'pound': 8, 'piercing': 2, 'bolts': 2, '110': 3, 'explosive': 1, 'shells': 4, 'equivalent': 2, 'solid': 1, 'ram': 2, 'reinforced': 1, 'steel': 1, 'bars': 1, 'spar': 2, 'torpedo': 5, 'powder': 1, 'pole': 2, 'connected': 11, 'lever': 1, 'lowered': 1, 'means': 8, 'pulleys': 1, 'July': 3, 'Charles': 1, 'McBlair': 1, 'trials': 2, 'Pulaski': 1, 'difficult': 6, 'steer': 1, 'weight': 1, 'significantly': 2, 'reduced': 4, 'waters': 1, 'leaked': 1, 'virtually': 1, 'air': 3, 'circulation': 1, 'report': 1, 'intolerable': 1, 'ventilation': 1, 'heat': 1, 'intense': 2, 'commented': 2, 'diary': 1, 'What': 1, 'comfortless': 1, 'infernal': 1, 'God': 1, 'forsaken': 1, '!': 2, 'Attempts': 1, 'fix': 1, 'leaks': 1, '22': 2, 'flagship': 2, 'Flag': 1, 'Officer': 1, 'Josiah': 1, 'Tattnall': 7, 'defenses': 3, 'Under': 2, 'pressure': 2, 'blockading': 2, 'ironclads': 3, 'arrived': 3, 'engineers': 1, 'clear': 2, 'obstacles': 2, 'blocking': 1, 'timely': 1, 'manner': 2, 'coordination': 1, 'actually': 1, 'Nonetheless': 1, 'pass': 2, 'obstructions': 3, 'tide': 5, 'winds': 1, 'prevented': 1, 'water': 4, 'rising': 1, 'allow': 2, 'passed': 4, 'Port': 4, 'Royal': 3, 'Carolina': 1, 'attacking': 2, 'Charleston': 1, 'Deserters': 1, 'Tatnall': 1, 'waiting': 1, 'Wassaw': 2, 'retreat': 2, 'augmented': 1, 'Dissatisfied': 1, 'lack': 2, 'aggressiveness': 2, 'squadron': 2, 'Commander': 3, 'Page': 2, 'relieved': 1, 'Webb': 6, 'demonstrated': 2, 'sortie': 3, 'broke': 4, 'pull': 2, 'rejecting': 1, 'complete': 2, 'meantime': 1, 'Rear': 1, 'Admiral': 2, 'F': 3, 'Du': 1, 'Pont': 1, 'Atlantic': 2, 'Blockading': 2, 'Squadron': 3, 'Weehawken': 7, 'Nahant': 5, 'Rodgers': 1, 'Wilmington': 1, 'coaling': 1, 'concealed': 2, 'easy': 2, 'sink': 2, 'Isondiga': 1, 'tugboat': 1, 'Resolute': 1, 'accompany': 1, 'tow': 1, 'lookout': 1, 'aboard': 1, 'spotted': 1, '04': 1, 'landed': 1, 'sandbar': 2, 'pushed': 1, 'onto': 2, 'get': 1, '200': 2, 'yards': 2, '270': 1, '279': 1, '381': 1, 'struck': 4, 'penetrated': 1, 'backing': 2, 'spraying': 1, 'splinters': 1, 'fragments': 2, 'disabled': 1, 'cleanly': 1, 'penetrate': 2, 'Dahlgren': 3, 'leak': 1, 'glanced': 1, 'starboard': 1, 'wounding': 2, 'pilots': 1, 'hard': 1, 'maneuver': 1, 'positions': 2, 'reply': 1, 'damage': 1, 'inflicted': 1, 'resistance': 1, '124': 1, 'wounded': 1, 'badly': 2, 'require': 1, 'hospitalization': 1, 'easily': 2, 'pulled': 1, 'Not': 3, '350': 1, 'crews': 2, 'Cimarron': 1, 'signaling': 1, '150': 2, 'Parrott': 3, 'amidships': 1, 'calibers': 2, 'elevation': 2, 'currently': 1, 'Willard': 1, 'Yard': 1, 'defend': 1, 'Dawn': 1, 'dispersed': 1, 'cavalry': 1, 'Powhatan': 1, 'upriver': 1, 'Trent': 1, 'Reach': 1, 'Sam': 1, 'Ward': 1, 'delivered': 1, 'representatives': 1, 'Sydney': 4, 'Oaksmith': 1, 'lawyer': 1, 'advance': 1, '260': 1, 'Customs': 1, 'possibly': 2, 'violations': 1, 'neutrality': 1, 'laws': 1, 'recruits': 1, 'Sylvain': 1, 'Salnave': 1, 'embroiled': 1, 'civil': 2, 'sailed': 1, 'au': 1, 'Prince': 1, 'Delaware': 2, 'Bay': 4, 'Chester': 1, 'Pennsylvania': 1, 'Triumph': 1, 'Triumfo': 1, 'vanished': 1, 'en': 1, 'apparently': 1, 'sinking': 1, 'Cape': 1, 'Hatteras': 1, 'Capes': 1, 'Jacqueline': 5, 'Fernandez': 42, 'Sri': 11, 'Lankan': 4, 'actress': 3, 'model': 3, 'Miss': 5, 'Universe': 5, 'Lanka': 7, 'pageant': 5, 'graduated': 2, 'degree': 2, 'mass': 2, 'communication': 3, 'reporter': 3, 'modelling': 1, 'assignment': 2, 'India': 14, 'auditioned': 2, 'Sujoy': 2, 'Ghosh': 2, 'drama': 2, 'Aladin': 2, 'breakthrough': 1, 'Mohit': 1, 'Suri': 1, 'psychological': 1, 'thriller': 7, 'Murder': 2, 'success': 7, 'glamorous': 3, 'roles': 14, 'ensemble': 3, 'comedy': 4, 'Housefull': 5, 'Race': 3, 'box': 2, 'successes': 1, 'performance': 8, 'IIFA': 4, 'Award': 5, 'Best': 3, 'Supporting': 2, 'Actress': 2, 'nomination': 2, 'lady': 1, 'Sajid': 4, 'Nadiadwala': 3, 'Kick': 5, 'grossing': 3, 'Bollywood': 5, 'films': 2, 'actresses': 2, 'recipient': 1, 'Debut': 2, 'Year': 6, 'Female': 2, 'screen': 1, 'humanitarian': 1, 'modeling': 4, 'Manama': 1, 'Bahrain': 4, 'ethnic': 1, 'Elroy': 1, 'Kim': 1, 'Malaysian': 1, 'descent': 1, 'grandfather': 1, 'Canadian': 3, 'grandparents': 1, 'Goa': 1, 'musician': 1, '1980s': 1, 'escape': 2, 'unrest': 1, 'Tamils': 1, 'Sinhalese': 1, 'hostess': 1, 'hosted': 1, 'age': 2, 'fourteen': 1, 'pursued': 1, 'graduating': 1, 'Berlitz': 1, 'languages': 1, 'learnt': 1, 'Spanish': 1, 'French': 1, 'Arabic': 1, 'aspired': 1, 'fantasized': 1, 'Hollywood': 2, 'movie': 2, 'Acting': 2, 'accepted': 5, 'industry': 5, 'crowned': 1, 'ground': 1, 'medium': 1, 'shedding': 1, 'inhibitions': 1, 'knowing': 1, 'confidence': 1, 'O': 1, 'Sathi': 1, 'duo': 1, 'Bathiya': 1, 'Santhush': 1, 'traveled': 2, 'mentorship': 1, 'theatre': 1, 'Barry': 3, 'film': 14, 'interest': 1, 'Riteish': 1, 'Deshmukh': 2, 'Princess': 1, 'Jasmine': 1, 'reviews': 5, 'Anupama': 2, 'Chopra': 3, 'NDTV': 3, 'plastic': 1, 'debutant': 1, 'e': 1, 'Rajeev': 3, 'Masand': 3, 'CNN': 1, 'IBN': 1, 'confident': 1, 'critical': 2, 'failure': 2, 'opposite': 8, 'science': 1, 'fiction': 1, 'romantic': 3, 'Jaane': 2, 'Kahan': 2, 'Se': 2, 'Aayi': 2, 'Hai': 2, 'Venus': 1, 'lands': 2, 'Earth': 1, 'search': 1, 'Rediff': 3, 'Sukanya': 1, 'Verma': 1, 'gamely': 1, 'fool': 1, 'whilst': 1, 'aping': 1, 'actions': 6, 'ranging': 1, 'Sridevi': 1, 'Naagin': 1, 'Mithun': 1, 'Chakravarthy': 1, 'Disco': 1, 'Dancer': 1, 'violent': 1, 'headshake': 1, 'Hum': 1, 'Tara': 1, 'keeper': 1, 'intent': 1, 'turning': 2, 'Barbie': 1, 'Critic': 1, 'pin': 1, 'prick': 1, 'balloon': 1, 'cameo': 1, 'Khan': 7, 'Dhanno': 1, 'Mahesh': 1, 'Bhatt': 1, 'marker': 1, 'Priya': 1, 'lonely': 1, 'confused': 1, 'relationship': 6, 'Arjun': 2, 'Bhagwat': 1, 'Emraan': 1, 'Hashmi': 2, 'boldness': 1, 'sex': 2, 'Gaurav': 2, 'Malini': 2, 'tastefully': 1, 'tempting': 1, 'romance': 1, 'literally': 1, 'baked': 1, 'Akshay': 2, 'Kumar': 3, 'Asin': 1, 'productions': 1, '₹': 3, 'billion': 3, 'negative': 3, 'looks': 1, 'blathering': 1, 'bimbo': 1, 'pleasure': 1, '14th': 2, 'Awards': 3, 'Saif': 1, 'Ali': 1, 'Deepika': 1, 'Padukone': 2, 'Ameesha': 1, 'Patel': 1, 'Anil': 1, 'Kapoor': 2, 'cinematic': 1, 'trashy': 1, 'Omisha': 1, 'femme': 1, 'fatale': 1, 'fencing': 1, 'acrobatics': 1, 'emerged': 7, 'domestic': 1, 'gross': 1, 'scathing': 1, 'Saibal': 1, 'Chatterjee': 1, 'strut': 1, 'wound': 1, 'automatons': 1, 'decked': 1, 'nowhere': 1, 'Jaadu': 1, 'Ki': 1, 'Jhappi': 1, 'Prabhu': 1, 'Deva': 1, 'Ramaiya': 1, 'Vasta': 1, 'Vaiya': 1, 'directorial': 1, 'remake': 1, 'Telugu': 1, 'starred': 1, 'Salman': 1, 'Shaina': 1, 'psychiatry': 1, 'student': 1, 'voice': 1, 'Sneha': 1, 'Francis': 3, 'incredibly': 1, 'dazzling': 1, 'magic': 3, 'Raja': 2, 'Sen': 2, 'dialogue': 1, 'unfortunate': 1, 'revenue': 1, 'Vicky': 1, 'Singh': 1, 'Roy': 3, 'Sarita': 1, 'Tanwar': 1, 'boring': 1, 'exhausting': 1, 'pretentious': 1, 'dual': 1, 'Ayesha': 1, 'Aamir': 1, 'filmmaker': 2, 'Rampal': 1, 'Tia': 1, 'Desai': 1, 'thief': 1, 'Ranbir': 1, 'TV': 3, 'till': 1, 'date': 1, 'miscast': 1, 'guest': 1, 'satire': 1, 'Bangistan': 1, 'Karan': 1, 'Malhotra': 2, 'Brothers': 1, 'starring': 2, 'Sidharth': 1, 'fearless': 1, 'challenging': 1, 'departure': 1, 'reputation': 1, 'portraying': 1, 'Film': 2, 'Dhriti': 1, 'Sharma': 1, 'Zee': 1, 'News': 1, 'timid': 1, 'promising': 1, 'convincingly': 1, 'ing': 1, 'pleasing': 1, 'fighter': 1, 'Subhash': 1, 'Jha': 1, 'gives': 3, 'finest': 1, 'emotive': 1, 'plays': 1, 'sobbing': 1, 'gets': 1, 'deliriously': 1, 'happy': 1, 'seeing': 1, 'contained': 2, 'projects': 2, 'shooting': 1, 'Chandran': 1, 'Rutnam': 1, 'crime': 1, 'Mathew': 1, 'horror': 1, 'Definition': 2, 'Fear': 1, 'appear': 3, 'Rohit': 1, 'Dhawan': 3, 'Dishoom': 1, 'Varun': 2, 'Grandson': 1, 'Entertainment': 1, 'Remo': 1, 'Souza': 1, 'Flying': 1, 'Jat': 1, 'Tiger': 1, 'Shroff': 1, 'Indo': 1, 'Abhay': 1, 'Deol': 1, 'Amitabh': 1, 'Bachchan': 1, 'Jackie': 1, 'Chan': 1, 'Gold': 1, 'Struck': 1, 'shares': 1, 'bond': 1, 'admits': 1, 'miss': 1, 'everyday': 2, 'don': 1, 'realise': 1, 'you': 1, 'staying': 1, 'responsible': 2, 'myself': 1, 'priorities': 1, 'vegetarian': 1, '40': 3, 'observe': 1, 'Lent': 1, 'Ash': 1, 'Wednesday': 1, 'Holy': 1, 'Saturday': 1, 'dating': 1, 'Bahraini': 1, 'prince': 1, 'Hassan': 1, 'bin': 1, 'Rashid': 1, 'Al': 1, 'Khalifa': 1, 'whom': 2, 'mutual': 1, 'party': 1, 'separated': 2, 'filming': 1, 'attracted': 1, 'media': 2, 'coverage': 1, 'impending': 1, 'wedding': 1, 'ended': 4, 'supported': 2, 'organisations': 1, 'causes': 1, 'behalf': 1, 'Ethical': 1, 'Treatment': 1, 'Animals': 2, 'PETA': 2, 'Mumbai': 4, 'Municipal': 1, 'Commissioner': 1, 'horse': 2, 'drawn': 3, 'carriage': 1, 'rides': 1, 'consulate': 1, 'Philippines': 1, 'Perera': 1, 'Colombo': 2, 'hasten': 1, 'elephant': 1, 'housing': 1, 'Manila': 1, 'Zoo': 1, 'humane': 1, 'sanctuary': 3, 'auctioned': 2, 'breakfast': 1, 'Mayfair': 1, '4000': 1, 'Pratham': 1, 'NGO': 1, 'helps': 1, 'Woman': 2, 'advocating': 1, 'protection': 4, 'animals': 5, 'outfits': 2, 'online': 1, 'portal': 1, 'philanthropic': 1, 'Some': 16, 'wore': 2, 'Party': 1, 'Mind': 1, 'Hangover': 1, '2016': 1, 'Builds': 1, 'funds': 1, 'victims': 1, 'floods': 1, 'concert': 1, 'tours': 1, 'televised': 1, 'award': 2, 'ceremonies': 4, 'Temptations': 1, 'Reloaded': 1, 'Auckland': 1, 'Perth': 1, 'Shah': 1, 'Rukh': 1, 'Rani': 1, 'Mukerji': 1, 'Madhuri': 1, 'Dixit': 1, 'Talent': 1, 'Stage': 1, 'Live': 1, 'Priyanka': 1, 'restaurant': 1, 'Kaema': 1, 'Sutra': 1, 'chef': 1, 'Dharshan': 1, 'Munidasa': 1, 'specialises': 1, 'contemporary': 2, 'cuisine': 1, 'ambassador': 1, 'HTC': 1, 'endorses': 1, 'Bridal': 1, 'Fashion': 1, 'Week': 1, 'IBFW': 1, 'spokesperson': 1, 'Gareth': 1, 'Pugh': 1, 'Forevermark': 1, 'Diamonds': 1, 'inaugural': 1, 'Forever': 1, 'Gillette': 1, 'Shaving': 1, 'Arbaaz': 1, 'Aditya': 1, 'Kapur': 1, 'analysing': 1, 'Slowly': 1, 'steadily': 1, 'climbing': 1, 'ladder': 1, 'comfortably': 1, 'grasping': 1, 'accordingly': 2, 'contrary': 1, 'Charu': 1, 'Thakur': 1, 'banking': 1, 'Eastern': 1, 'Eye': 2, 'Sexiest': 1, 'Asian': 1, 'ranking': 1, 'twelfth': 1, 'ranked': 2, 'Desirable': 1, 'seventh': 2, 'fourteenth': 1, 'preceding': 2, 'Dressed': 1, 'Actresses': 1, 'Forbes': 1, 'Celebrity': 1, 'income': 1, 'celebrities': 1, 'magazines': 1, 'Vogue': 1, 'FHM': 1, 'Maxim': 1, 'Cosmopolitan': 1, 'Grazia': 1, 'Elle': 1, 'Verve': 1, 'Harper': 1, 'Bazaar': 1, 'Health': 1, 'Officiel': 1, 'Filmography': 1, 'Appearances': 1, 'Cullen': 46, '1964': 2, 'Hartford': 6, 'Whalers': 5, 'Maple': 2, 'Leafs': 3, 'Tampa': 4, 'Lightning': 13, 'standout': 2, 'scorer': 2, 'Buffalo': 3, 'Sabres': 5, 'Supplemental': 2, 'chose': 4, 'offer': 4, 'Flint': 3, 'Spirits': 2, 'IHL': 7, 'co': 1, 'Rookie': 2, 'Valuable': 1, 'halted': 1, 'diagnosed': 3, 'Non': 2, 'Hodgkin': 2, 'lymphoma': 2, 'brief': 1, 'comeback': 4, 'disease': 2, 'Bill': 2, 'Masterton': 2, 'retiring': 2, 'assistant': 3, 'brother': 7, 'car': 3, 'dealership': 6, 'business': 1, 'automotive': 1, 'Puslinch': 1, 'Ontario': 2, 'Loretta': 2, 'uncles': 2, 'Brian': 1, 'Ray': 1, 'pressured': 1, 'preferring': 1, 'enjoy': 1, 'idolized': 1, 'Terry': 3, 'neck': 3, 'boards': 1, 'college': 1, 'sought': 2, 'universities': 1, 'scholarship': 1, 'choosing': 1, 'BU': 4, 'cancer': 8, 'freshman': 1, 'contemplated': 1, 'convinced': 2, 'cope': 1, 'drew': 1, 'East': 4, 'Coast': 1, 'Athletic': 2, '84': 1, 'unclaimed': 1, '1984': 1, 'Teams': 1, 'Collegiate': 1, 'Team': 2, '241': 1, '25th': 1, 'anniversary': 1, 'Passed': 1, '157': 1, 'Gatschene': 1, 'sharing': 1, 'Gary': 1, 'Longman': 1, 'Ed': 1, 'Belfour': 1, 'outstanding': 1, 'minimum': 1, 'superior': 3, '89': 1, 'appearing': 1, '79': 1, 'Mario': 1, 'Lemieux': 2, 'Canada': 2, 'offensive': 1, 'centres': 1, '94': 3, 'declined': 2, 'needs': 1, 'blockbuster': 1, '1991': 4, 'Zarley': 1, 'Zalapski': 1, 'Parker': 1, 'Ron': 1, 'Ulf': 1, 'Samuelsson': 1, 'Jennings': 1, 'concerned': 1, 'playmaking': 1, 'leadership': 1, 'Phil': 1, 'Bourque': 1, 'share': 2, 'championship': 1, 'overcome': 1, 'disappointment': 1, 'booed': 1, 'dissatisfaction': 1, 'regular': 1, 'Playoffs': 1, 'invitation': 1, 'participate': 1, 'expired': 1, 'insurance': 1, 'concerns': 2, 'Still': 1, 'worth': 1, '1992': 3, 'Midway': 1, '93': 1, '1993': 2, 'injuries': 1, 'ability': 1, 'herniated': 1, 'doctors': 2, 'feared': 1, 'bulky': 1, 'brace': 1, 're': 1, 'Tony': 1, 'Esposito': 1, '1995': 1, 'immediate': 1, 'linemates': 1, 'Burr': 1, 'Alexander': 1, 'Selivanov': 1, 'trio': 1, 'looked': 1, '1996': 1, '97': 1, 'flu': 1, 'symptoms': 2, 'fighting': 1, 'spot': 1, 'Cancer': 3, 'quietly': 1, 'dealing': 1, 'trainers': 1, 'check': 1, 'illness': 3, 'chest': 1, 'CAT': 1, 'scan': 1, 'baseball': 1, 'sized': 1, 'tumor': 2, 'diagnosis': 1, 'chemotherapy': 1, 'treatments': 2, 'precautionary': 1, 'test': 1, 'cells': 1, '98': 1, 'uniform': 3, '#': 1, 'wheeling': 1, 'hospital': 1, 'corridor': 1, 'cardiac': 1, 'requiring': 1, 'defibrillator': 1, 'revive': 1, 'bone': 1, 'marrow': 1, 'transplant': 1, 'immune': 1, 'contact': 6, 'examination': 1, '99': 1, 'Innsbruck': 1, 'Austria': 1, 'sat': 1, 'bench': 1, 'disbelief': 1, 'greeted': 1, 'loud': 1, 'ovation': 1, 'introduced': 3, 'evident': 1, 'Cleveland': 3, 'Lumberjacks': 1, 'demotion': 1, 'Wolves': 1, 'bout': 1, 'bronchitis': 1, 'fear': 1, 'Tests': 1, 'spending': 1, 'realized': 1, 'interested': 1, 'retirement': 1, 'recognition': 1, '1999': 2, 'perseverance': 1, 'Comeback': 1, 'Former': 1, 'Crisp': 1, 'stood': 2, 'saying': 1, '“': 1, 'us': 1, '”': 1, 'Valerie': 2, 'daughters': 1, 'Kennedy': 2, 'twins': 1, 'Karlyn': 1, 'Kortland': 1, 'Unwilling': 1, 'spend': 1, 'settled': 1, 'Jonesboro': 1, 'dealer': 1, 'apprenticing': 1, 'Dodge': 1, 'Newnan': 1, 'Chrysler': 1, 'recovery': 1, 'Automotive': 1, 'manager': 1, 'Timm': 1, 'Harmon': 1, 'Moffitt': 1, 'Centre': 1, 'raise': 2, 'awareness': 1, 'itself': 3, 'Fights': 1, 'program': 1, 'promoting': 1, 'initiative': 1, 'marrying': 1, 'Carolyn': 1, 'Bessette': 1, 'future': 1, 'Jr': 1, 'attending': 1, 'Career': 1, 'namesake': 1, 'key': 1, 'SMS': 8, 'Erzherzog': 19, 'Ferdinand': 15, 'Max': 15, 'Lissa': 1, 'see': 1, 'German': 3, 'Majesty': 1, 'Archduke': 1, 'dreadnought': 4, 'battleship': 1, 'Austro': 6, 'Hungarian': 7, '1902': 1, 'Karl': 6, '1903': 1, 'Battleship': 1, 'Pola': 1, 'Croatia': 1, 'engagements': 1, '1914': 1, 'formed': 8, 'flotilla': 2, 'Goeben': 2, 'Breslau': 2, 'British': 3, 'Mediterranean': 3, 'advanced': 2, 'far': 2, 'Brindisi': 2, 'sole': 2, 'combat': 1, 'engagement': 1, 'bombardment': 2, 'Ancona': 2, 'suppressing': 1, 'mutiny': 3, 'cruisers': 5, 'Cattaro': 3, 'Otranto': 3, 'Barrage': 2, 'Szent': 2, 'István': 2, 'sunk': 2, 'Design': 1, '472': 1, '640': 1, '414': 1, '126': 1, 'manned': 1, 'sisters': 5, 'surpassing': 1, 'Habsburg': 1, 'tonnes': 1, '968': 1, 'propelled': 2, 'shaft': 1, 'triple': 1, 'ihp': 1, '423': 1, 'kW': 1, 'armament': 3, 'centimeter': 3, 'twin': 2, 'turrets': 2, 'centerline': 2, 'replica': 1, 'Krupp': 1, 'Habsburgs': 1, 'secondary': 1, 'twelve': 1, '42': 1, 'Škoda': 2, 'mounted': 2, 'casemates': 1, 'wing': 1, 'yd': 1, 'muzzle': 1, 'velocity': 1, '600': 1, 'tertiary': 1, 'boats': 1, 'centimetres': 1, 'manufactured': 1, 'Anti': 1, 'aircraft': 2, 'airship': 1, 'covered': 1, '37': 1, 'millimeter': 1, 'Vickers': 1, 'anti': 1, '1910': 1, 'fitted': 1, 'tubes': 1, 'rarely': 6, 'outbreak': 1, 'fleet': 3, 'mobilized': 1, 'eve': 1, 'flight': 1, 'attempting': 1, 'Messina': 1, 'surrounded': 2, 'Turkey': 1, 'breakout': 1, 'succeeded': 1, 'eastern': 1, 'Italy': 1, 'navy': 1, 'expended': 1, 'signal': 1, 'semaphore': 1, 'stations': 1, '74': 1, '190': 1, 'aimed': 1, 'batteries': 1, 'installations': 1, 'Sankt': 2, 'Georg': 2, 'Kaiser': 2, 'suppression': 1, 'restoration': 1, 'Miklos': 1, 'Horthy': 3, 'assault': 2, 'Karls': 1, 'Tegetthoff': 1, 'battleships': 3, 'Novara': 1, 'Allied': 2, 'Strait': 1, 'replicate': 1, 'raid': 1, 'destroy': 1, 'luring': 1, 'lighter': 1, 'heavier': 1, 'torpedoed': 1, 'boat': 1, 'element': 1, 'surprise': 1, 'compromised': 1, 'operation': 1, 'handed': 1, 'Slovenes': 1, 'Croats': 1, 'Serbs': 1, 'reparation': 1, 'scrap': 1, 'Ancient': 2, 'Egyptian': 71, 'deities': 100, 'gods': 174, 'goddesses': 11, 'worshipped': 4, 'Egypt': 25, 'beliefs': 8, 'rituals': 15, 'core': 1, 'religion': 20, 'sometime': 2, 'prehistory': 2, 'Deities': 6, 'natural': 3, 'phenomena': 6, 'Egyptians': 29, 'appeased': 1, 'offerings': 9, 'function': 2, 'maat': 16, 'divine': 50, 'founding': 1, '3100': 3, 'tasks': 1, 'pharaoh': 5, 'temples': 21, 'characteristics': 6, 'myths': 9, 'intricate': 1, 'relationships': 5, 'ties': 2, 'loose': 1, 'groups': 5, 'hierarchies': 1, 'combinations': 8, 'diverse': 4, 'humans': 18, 'objects': 7, 'alluded': 1, 'symbolism': 1, 'eras': 3, 'solar': 5, 'deity': 31, 'Ra': 19, 'god': 79, 'Amun': 21, 'goddess': 16, 'Isis': 15, 'creation': 14, 'scholars': 7, 'argued': 4, 'writings': 6, 'recognize': 1, 'lay': 1, 'Yet': 5, 'polytheistic': 4, 'era': 4, 'Atenism': 8, 'impersonal': 1, 'Aten': 3, 'Gods': 7, 'capable': 1, 'influencing': 2, 'interacted': 2, 'shrines': 2, 'reasons': 3, 'rites': 3, 'prayed': 1, 'compel': 1, 'advice': 2, 'Humans': 2, 'relations': 1, 'fundamental': 4, 'beings': 6, 'tradition': 7, 'labeled': 2, 'count': 1, 'texts': 16, 'unknown': 1, 'vague': 2, 'indirect': 2, 'references': 1, 'Egyptologist': 4, 'estimates': 1, 'whereas': 6, 'colleague': 1, 'Leitz': 1, 'thousands': 2, 'nṯr': 4, 'feminine': 2, 'nṯrt': 1, 'Scholars': 3, 'discern': 1, 'proposing': 1, 'etymologies': 2, 'words': 3, 'suggestions': 1, 'acceptance': 1, 'origin': 2, 'obscure': 2, 'hieroglyphs': 3, 'ideograms': 2, 'determinatives': 1, 'traits': 3, 'divinity': 1, 'signs': 3, 'flag': 1, 'flying': 1, 'entrances': 1, 'Other': 3, 'falcon': 3, 'reminiscent': 2, 'depicted': 8, 'falcons': 2, 'seated': 1, 'egg': 1, 'determinative': 1, 'birth': 3, 'cobra': 3, 'reflecting': 2, 'depict': 3, 'distinguished': 3, 'nṯrw': 1, 'rmṯ': 1, 'meanings': 2, 'perfectly': 1, 'applied': 6, 'sphere': 2, 'Deceased': 1, 'supernatural': 1, 'demons': 5, 'depicts': 2, 'places': 7, 'concepts': 5, 'personified': 6, 'ideas': 3, 'myth': 10, 'ritual': 4, 'mentioned': 2, 'metaphors': 2, 'Confronting': 1, 'blurred': 1, 'distinctions': 1, 'definitions': 1, 'definition': 3, 'Assmann': 3, 'cult': 13, 'universe': 5, 'mythology': 4, 'Dimitri': 1, 'Meeks': 1, 'focus': 7, 'From': 1, 'king': 10, 'coronation': 1, 'deceased': 2, 'souls': 2, 'realm': 7, 'Likewise': 1, 'preeminence': 2, 'maintained': 4, 'devotion': 3, 'Origins': 1, 'Dynastic': 2, 'Period': 4, 'c': 6, '2686': 2, 'Predynastic': 3, 'prehistoric': 1, 'artwork': 1, 'animal': 6, 'figures': 1, 'images': 13, 'cattle': 2, 'say': 1, 'whether': 5, 'grew': 4, 'clearer': 1, 'predynastic': 2, 'resemble': 4, 'iconographies': 3, 'Horus': 17, 'crossed': 1, 'arrows': 1, 'stand': 2, 'Neith': 2, 'enigmatic': 1, 'Egyptologists': 1, 'anthropologists': 1, 'Gustave': 1, 'Jéquier': 1, 'instance': 6, 'revered': 2, 'primitive': 1, 'fetishes': 1, 'Henri': 2, 'Frankfort': 2, 'envisioned': 2, 'regarded': 3, 'simplistic': 1, 'Siegfried': 1, 'Morenz': 1, 'hypothesis': 1, 'distinguish': 1, 'personify': 1, 'environment': 1, 'independent': 4, 'villages': 1, 'Because': 5, 'strongly': 2, 'towns': 2, 'regions': 5, 'pantheon': 5, 'disparate': 1, 'communities': 2, 'coalesced': 1, 'states': 2, 'spreading': 1, 'intermingling': 1, 'worship': 11, 'culture': 2, 'divisions': 1, 'step': 1, 'formation': 1, 'unification': 1, 'rulers': 1, 'Upper': 1, 'pharaohs': 5, 'kings': 12, 'subordinates': 1, 'right': 1, 'interact': 3, 'kingship': 2, 'unifying': 1, 'emerge': 2, 'transformation': 1, '2181': 1, 'suddenly': 1, 'inspire': 1, 'represent': 7, 'counterparts': 1, 'deaths': 2, 'royal': 4, 'venerated': 2, 'veneration': 2, 'court': 1, 'architects': 1, 'Imhotep': 1, 'Amenhotep': 1, 'son': 3, 'Hapu': 1, 'lifetimes': 2, 'Through': 1, 'neighboring': 2, 'civilizations': 1, 'adopted': 4, 'Dedun': 1, 'Nubia': 4, 'Baal': 1, 'Anat': 1, 'Astarte': 1, 'Canaanite': 1, '1550': 2, '1070': 1, 'Greek': 5, '332': 1, 'AD': 2, 'absorbed': 4, 'cults': 6, 'Characteristics': 1, 'Modern': 1, 'scribes': 1, 'priests': 5, 'elite': 4, 'populace': 4, 'illiterate': 1, 'broader': 1, 'knew': 1, 'understood': 2, 'Commoners': 1, 'perceptions': 1, 'differed': 3, 'example': 2, 'mistaken': 1, 'symbolic': 4, 'statements': 1, 'literal': 2, 'truth': 1, 'belief': 8, 'consistent': 1, 'traditions': 4, 'cohesive': 1, 'Roles': 1, 'immanent': 1, 'physical': 3, 'abstract': 2, 'Shu': 2, 'deification': 1, 'Meretseger': 1, 'oversaw': 2, 'earth': 8, 'Theban': 1, 'Necropolis': 1, 'Sia': 1, 'notion': 3, 'perception': 1, 'Khnum': 1, 'Elephantine': 1, 'midst': 1, 'Nile': 5, 'civilization': 2, 'flood': 3, 'fertilized': 1, 'outgrowth': 3, 'living': 3, 'fashioning': 1, 'bodies': 4, 'potter': 1, 'wheel': 1, 'Atum': 6, 'Khepri': 2, 'acted': 2, 'overarching': 2, 'universal': 3, 'disruption': 1, 'prominently': 1, 'Apep': 2, 'chaos': 8, 'constantly': 3, 'threatening': 1, 'annihilate': 1, 'ambivalent': 1, 'disorder': 5, 'foment': 1, 'Short': 1, 'rainbows': 1, 'eclipses': 1, 'fluid': 1, 'expand': 1, 'categorize': 1, 'spheres': 2, 'creator': 12, 'beyond': 1, 'boundaries': 1, 'cosmos': 6, 'cleverest': 1, 'omniscient': 1, 'Wilkinson': 1, 'argues': 2, 'suggest': 4, 'evolved': 2, 'omniscience': 1, 'omnipresence': 1, 'transcend': 2, 'limits': 1, 'specialized': 2, 'domains': 1, 'divinities': 1, 'firm': 2, 'Claude': 1, 'Traunecker': 1, 'draws': 1, 'distinction': 1, 'genies': 1, 'patron': 7, 'marsh': 1, 'Wadj': 1, 'Wer': 1, 'harvest': 1, 'Renenutet': 1, 'hostile': 3, 'causing': 3, 'troubles': 1, 'Their': 2, 'protective': 3, 'Duat': 6, 'dead': 1, 'advise': 1, 'watch': 1, 'landscape': 1, 'unpredictable': 1, 'powers': 2, 'Demons': 1, 'servants': 2, 'messengers': 1, 'hierarchy': 2, 'Bes': 1, 'Taweret': 2, 'demon': 1, 'Behavior': 1, 'Divine': 3, 'behavior': 3, 'govern': 2, 'disrupted': 2, 'heka': 2, 'Heka': 1, 'hymns': 2, 'funerary': 5, 'vaguely': 1, 'imagined': 1, 'past': 4, 'Periodic': 1, 'mythic': 3, 'succession': 3, 'reenacted': 2, 'accession': 1, 'throne': 1, 'Osiris': 12, 'Myths': 1, 'cannot': 1, 'fully': 4, 'understand': 2, 'contain': 2, 'contradictory': 2, 'contradictions': 1, 'faceted': 1, 'multiplicity': 3, 'approaches': 2, 'behave': 1, 'feel': 1, 'emotion': 2, 'eat': 1, 'drink': 1, 'weep': 1, 'sicken': 1, 'die': 1, 'aggressive': 1, 'impulsive': 1, 'Thoth': 3, 'prone': 1, 'winded': 1, 'speeches': 1, 'archetypes': 1, 'inconsistent': 1, 'thoughts': 1, 'motivations': 1, 'plots': 1, 'elaborate': 1, 'storytelling': 1, 'Ogdoad': 1, 'precedes': 1, 'establishes': 1, 'Ptah': 4, 'embodies': 1, 'creativity': 1, 'envisioning': 1, 'naming': 1, 'produces': 1, 'emanations': 1, 'promoted': 2, 'priesthood': 1, 'preceded': 1, 'process': 2, 'undifferentiated': 1, 'rule': 6, 'setting': 2, 'withdrawing': 1, 'installing': 1, 'recurring': 1, 'maintain': 1, 'vicious': 1, 'battles': 1, 'battling': 1, 'clearest': 1, 'dies': 1, 'murder': 1, 'resurrected': 1, 'ruler': 3, 'grow': 1, 'journey': 3, 'sky': 10, 'dawn': 1, 'rejuvenating': 1, 'primordial': 2, 'Funerary': 1, 'corpses': 1, 'enlivened': 1, 'Instead': 3, 'changelessly': 1, 'immortal': 1, 'periodically': 2, 'reborn': 1, 'repeating': 1, 'renewing': 2, 'whole': 1, 'cycle': 1, 'poorly': 1, 'calamity': 1, 'destined': 1, 'happen': 1, 'dissolve': 1, 'amid': 1, 'Locations': 1, 'linked': 5, 'includes': 1, 'Surrounding': 1, 'formlessness': 1, 'existed': 1, 'dwell': 4, 'withdrawal': 1, 'earthly': 1, 'treated': 3, 'remote': 1, 'inaccessible': 1, 'distant': 2, 'inhabited': 2, 'beneficial': 2, 'orderly': 2, 'invisibly': 1, 'Temples': 3, 'humanity': 2, 'statues': 5, 'temple': 13, 'realms': 3, 'focal': 1, 'cities': 3, 'centered': 1, 'presided': 2, 'establish': 1, 'Therefore': 1, 'necessarily': 1, 'importance': 4, 'Thebes': 4, '2055': 1, '1650': 2, 'Montu': 1, 'prominence': 1, 'Names': 1, 'epithets': 4, 'express': 1, 'refer': 4, 'keeping': 2, 'relate': 1, 'origins': 1, 'predatory': 1, 'Sekhmet': 2, 'powerful': 2, 'hidden': 1, 'Nekhbet': 1, 'Nekheb': 2, 'Nut': 1, 'Geb': 1, 'devised': 1, 'false': 2, 'Coffin': 1, 'Texts': 2, 'renders': 1, 'Sokar': 2, 'sk': 1, 'r': 1, 'cleaning': 1, 'Opening': 1, 'Mouth': 1, 'Pyramid': 1, 'shouted': 1, 'conveyed': 1, 'natures': 1, 'profoundly': 1, 'know': 1, 'poisons': 1, 'refuses': 1, 'cure': 2, 'reveals': 1, 'learning': 2, 'gain': 1, 'possessor': 1, 'splendor': 1, 'Abydos': 1, 'lord': 2, 'describe': 2, 'overlapping': 1, 'accumulating': 1, 'titles': 3, 'epithet': 2, 'Werethekau': 1, 'enchantress': 1, 'expresses': 1, 'multifarious': 1, 'Relationships': 1, 'shifting': 2, 'array': 1, 'connections': 2, 'protector': 1, 'healer': 1, 'patroness': 1, 'Such': 4, 'type': 2, 'procreation': 1, 'Families': 1, 'quintessential': 1, 'widespread': 2, 'centers': 2, 'Nefertum': 1, 'Mut': 2, 'Khonsu': 1, 'triads': 1, 'Genealogical': 1, 'changeable': 2, 'perspectives': 2, 'Hathor': 8, 'fertility': 3, 'circumstances': 2, 'interrelated': 2, 'mythological': 1, 'sets': 3, 'nome': 1, 'province': 1, 'symbolically': 1, 'Paired': 1, 'unity': 2, 'dynamic': 1, 'static': 1, 'shrouded': 1, 'darkness': 1, 'merge': 3, 'Groups': 1, 'plurality': 2, 'connote': 1, 'completeness': 1, 'Rulers': 1, 'Heliopolis': 2, 'threefold': 1, 'Sometimes': 1, 'Nineteenth': 1, 'Dynasty': 2, 'embodiment': 1, 'emphasized': 2, 'coherent': 1, 'Nine': 1, 'product': 2, 'multitude': 2, 'enneads': 1, 'ennead': 2, 'Ennead': 1, 'descended': 2, 'incorporates': 1, 'assemblage': 1, 'mythologically': 1, 'older': 3, 'apex': 1, 'periods': 5, 'frequently': 1, 'exalted': 1, 'rose': 1, 'Ptolemaic': 3, 'queen': 2, 'Newly': 1, 'adopt': 1, 'rise': 2, 'conjoined': 1, 'traditional': 6, 'Manifestations': 1, 'manifest': 1, 'conception': 1, 'soul': 2, 'ba': 8, 'component': 2, 'Any': 1, 'manifestation': 2, 'depiction': 1, 'ka': 1, 'vessel': 1, 'inhabit': 2, 'bas': 3, 'ascribed': 1, 'kas': 2, 'Everything': 1, 'Hand': 1, 'Nationally': 1, 'manifestations': 6, 'Nekhen': 1, 'Buhen': 1, 'Edfu': 2, 'stealing': 1, 'clothes': 2, 'oracle': 2, 'communicate': 1, 'messages': 2, 'Pe': 1, 'Khenty': 3, 'consulted': 3, 'oracles': 4, 'hoping': 1, 'judgment': 2, 'vulnerable': 1, 'counted': 1, 'iconography': 3, 'Sobek': 2, 'ruling': 1, 'Horakhty': 1, 'Horemakhet': 1, 'rare': 1, 'occasion': 1, 'sexes': 2, 'Min': 2, 'syncretism': 3, 'practice': 4, 'meant': 3, 'fuse': 1, 'competing': 1, 'syncretized': 3, 'acknowledged': 1, 'overlap': 1, 'Syncretic': 1, 'separately': 1, 'irty': 1, 'khety': 1, 'subsumed': 1, 'cow': 3, 'Bat': 1, 'Khenti': 1, 'Amentiu': 1, 'supplanted': 1, 'Anubis': 3, 'monotheism': 2, 'reign': 1, 'Akhenaten': 4, '1353': 1, '1336': 1, 'ceased': 1, 'fund': 1, 'monuments': 1, 'dramatically': 1, 'Whereas': 2, 'integrated': 1, 'existing': 1, 'insisted': 1, 'excluded': 1, 'totally': 1, 'excludes': 1, 'picture': 1, 'complicated': 1, 'apparent': 1, 'tolerance': 1, 'Dominic': 1, 'Montserrat': 1, 'monolatrous': 1, 'worshipping': 1, 'acknowledging': 1, 'case': 1, 'aberrant': 1, 'theology': 1, 'root': 1, 'successors': 2, 'Unity': 1, 'debated': 1, 'asserted': 1, 'deeper': 1, 'unified': 3, 'Reasons': 1, 'debate': 1, 'tendency': 1, 'credit': 2, 'surpasses': 1, 'wisdom': 3, 'E': 1, 'Wallis': 1, 'Budge': 1, 'commoners': 2, 'monotheistic': 3, 'reserved': 1, 'Breasted': 1, 'pantheistic': 2, 'Hermann': 1, 'Junker': 1, '1971': 1, 'Erik': 1, 'Hornung': 4, 'rebutting': 1, 'views': 2, 'unspecified': 1, 'generic': 2, 'whichever': 1, 'reader': 1, 'chooses': 1, 'revere': 1, 'restricted': 2, 'finite': 2, 'interchangeable': 1, 'Henotheism': 1, 'describes': 1, 'labels': 1, 'moment': 1, 'denying': 1, 'merging': 1, 'concludes': 1, 'nonexistence': 1, 'arguments': 1, 'believe': 1, 'allows': 1, 'maintains': 1, 'extreme': 1, 'trend': 1, 'equated': 5, 'dismissed': 1, 'Then': 1, 'backlash': 1, 'priestly': 1, 'theologians': 1, 'coexisted': 2, 'polytheism': 1, 'especially': 2, 'dominant': 1, 'coexisting': 1, 'notions': 1, 'fit': 3, 'henotheistic': 1, 'ordinary': 2, 'worshippers': 1, 'recognized': 1, 'identifying': 1, 'Descriptions': 1, 'depictions': 2, 'materials': 2, 'flesh': 2, 'gold': 2, 'bones': 1, 'hair': 1, 'lapis': 1, 'lazuli': 1, 'scent': 1, 'likened': 1, 'incense': 1, 'precise': 1, 'descriptions': 1, 'suit': 1, 'underlying': 1, 'representations': 1, 'symbolize': 2, 'hieroglyphic': 1, 'dog': 1, 'jackal': 1, 'creature': 1, 'scavenging': 1, 'habits': 1, 'threaten': 2, 'preservation': 1, 'buried': 1, 'mummies': 4, 'counter': 1, 'employ': 1, 'coloring': 1, 'alludes': 2, 'mummified': 1, 'fertile': 1, 'soil': 1, 'saw': 2, 'symbol': 1, 'resurrection': 2, 'lioness': 1, 'bovine': 1, 'ears': 1, 'anthropomorphism': 1, 'zoomorphism': 1, 'inanimate': 1, 'Combinations': 1, 'heads': 2, 'increasingly': 2, 'arose': 1, 'horn': 1, 'headdress': 1, 'alone': 1, 'Certain': 2, 'useful': 1, 'determining': 1, 'identity': 1, 'image': 6, 'hybrid': 1, 'Fischer': 1, 'lion': 3, 'headed': 1, 'sphinx': 1, 'conversely': 1, 'headdresses': 1, 'crowns': 1, 'indicator': 1, 'tend': 1, 'Male': 1, 'staffs': 1, 'stalks': 1, 'papyrus': 1, 'ankh': 1, 'creatures': 1, 'cobras': 1, 'absent': 1, 'Intermediate': 1, 'Similarly': 1, 'anthropomorphic': 2, 'styles': 1, 'kilt': 1, 'beard': 1, 'shirt': 1, 'tight': 1, 'fitting': 1, 'dress': 1, 'basic': 1, 'nude': 1, 'adult': 1, 'procreative': 1, 'bellies': 1, 'breasts': 1, 'signifying': 1, 'androgyny': 1, 'prosperity': 1, 'abundance': 1, 'red': 1, 'yellow': 1, 'colors': 2, 'unusual': 1, 'blue': 1, 'paunchy': 1, 'figure': 1, 'Hapi': 1, 'nourishing': 1, 'mummiform': 1, 'limbs': 1, 'tightly': 1, 'swathed': 1, 'cloth': 2, 'examples': 1, 'predate': 1, 'wrapped': 1, 'mummification': 1, 'hark': 1, 'limbless': 1, 'Interactions': 1, 'Relationship': 1, 'ruled': 1, 'Living': 1, 'Pharaohs': 1, 'mortuary': 1, 'portray': 1, 'disagree': 3, 'genuinely': 1, 'status': 1, 'rationale': 1, 'periodic': 1, 'presentation': 1, 'nourish': 1, 'ideology': 3, 'stead': 1, 'acts': 2, 'Presence': 1, 'inhabiting': 1, 'object': 1, 'ḏsr': 1, 'isolated': 1, 'ritually': 2, 'pure': 1, 'Temple': 3, 'reliefs': 1, 'Apis': 1, 'bull': 1, 'intermediaries': 1, 'Dreams': 1, 'trances': 1, 'venue': 1, 'interaction': 4, 'Finally': 1, 'afterlife': 2, 'filled': 1, 'statue': 3, 'sanctuaries': 2, 'triad': 1, 'employing': 1, 'residents': 1, 'residing': 1, 'insulate': 1, 'impurities': 1, 'exception': 1, 'festival': 2, 'processions': 4, 'portable': 1, 'shrine': 2, 'prayer': 2, 'doorways': 1, 'freestanding': 1, 'chapels': 2, 'Communities': 1, 'gulf': 1, 'opportunities': 1, 'Intervention': 1, 'peoples': 1, 'traditionally': 1, 'foreigners': 1, 'benign': 1, 'overseer': 1, 'allot': 1, 'lifespans': 2, 'Meskhenet': 1, 'Shai': 1, 'personification': 1, 'fate': 2, 'governed': 1, 'inspiring': 1, 'decisions': 1, 'intellect': 1, 'commands': 3, 'governance': 1, 'regulating': 1, 'mention': 1, 'divinely': 1, 'enforced': 1, 'codes': 1, 'Morality': 1, 'interfere': 1, 'upholders': 1, 'morality': 2, 'righteousness': 1, 'verdict': 1, 'innocence': 1, 'admittance': 1, 'practical': 1, 'uphold': 1, 'strict': 1, 'rules': 1, 'laid': 1, 'ignore': 1, 'guidance': 1, 'bring': 1, 'punishment': 2, 'manifested': 1, 'disasters': 1, 'ailments': 1, 'angry': 1, 'righteous': 1, 'extend': 1, 'intervention': 1, 'Shed': 1, 'rescue': 1, 'harm': 1, 'Petbe': 1, 'apotropaic': 1, 'avenge': 1, 'wrongdoing': 1, 'unjustly': 1, 'Misfortune': 1, 'isfet': 2, 'cosmic': 1, 'guilty': 1, 'evil': 2, 'blamed': 1, 'guilt': 1, 'accuse': 1, 'misery': 1, 'theodicies': 1, 'Beginning': 1, 'fights': 1, 'rebellion': 1, 'withdraws': 1, 'misbehavior': 1, 'question': 1, 'emphasize': 1, 'intervene': 1, 'faith': 1, 'hoped': 1, 'upholding': 1, 'ideals': 1, 'gaining': 1, 'Even': 1, 'dependent': 1, 'Worship': 1, 'practices': 6, 'benefit': 1, 'festivals': 2, 'intervals': 1, 'clothed': 1, 'anointed': 1, 'presented': 1, 'food': 1, 'recited': 1, 'celebrated': 1, 'generosity': 1, 'encouraged': 1, 'benevolent': 1, 'vengeful': 1, 'Festivals': 1, 'ceremonial': 1, 'barque': 1, 'kinds': 1, 'inundation': 1, 'riverbanks': 1, 'invoke': 1, 'fruitful': 1, 'Processions': 1, 'Dendera': 1, 'consort': 1, 'Rituals': 1, 'repetitions': 1, 'effects': 1, 'Khoiak': 1, 'crops': 1, 'sprout': 1, 'greenery': 1, 'symbolized': 2, 'renewal': 1, 'information': 1, 'convey': 1, 'answers': 1, 'questions': 1, 'Amulets': 1, 'ward': 1, 'impart': 1, 'wearer': 1, 'Private': 1, 'invoked': 3, 'accomplish': 1, 'healing': 1, 'sickness': 1, 'cursing': 1, 'fend': 1, 'misfortune': 1, 'performer': 1, 'rite': 1, 'threatened': 1, 'involve': 1, 'accomplishing': 1, 'prayers': 2, 'obtaining': 1, 'Prayer': 1, 'piety': 2, 'Evidence': 1, 'Votive': 1, 'theophoric': 1, 'reaching': 1, 'peak': 1, 'thanks': 1, 'stelae': 1, 'figurines': 1, 'praying': 1, 'desired': 1, 'relief': 1, 'statuette': 1, 'Occasionally': 1, 'dedicating': 1, 'latest': 1, 'innovations': 1, 'cat': 1, 'feline': 1, 'Bastet': 1, 'Canaan': 3, 'pharaonic': 2, 'exported': 1, 'waned': 1, 'deified': 1, 'imported': 1, 'Kush': 1, 'Nubian': 2, 'kandake': 1, 'Minoan': 1, 'Crete': 1, 'Siwa': 1, 'Oasis': 1, 'Greeks': 1, 'Romans': 1, 'Greco': 2, 'interpretatio': 1, 'graeca': 1, 'swallowed': 1, 'philosophy': 1, 'architecture': 1, 'Meanwhile': 1, 'Harpocrates': 1, 'fused': 1, 'Serapis': 2, 'emperors': 1, 'endorse': 1, 'empire': 1, 'mix': 1, 'transmuted': 1, 'legendary': 1, 'esoteric': 2, 'teacher': 1, 'Hermes': 2, 'Trismegistus': 2, 'Mesopotamia': 1, 'mystery': 1, 'deteriorated': 1, 'Christians': 1, 'suppressed': 1, 'Philae': 1, 'hundred': 1, 'magical': 1, 'persisted': 1, 'Coptic': 2, 'Given': 1, 'Muslim': 1, 'ancestors': 1, 'Heaven': 3, 'thrash': 1, 'metal': 1, 'Slayer': 4, 'producer': 1, 'Rubin': 2, 'Reign': 1, 'Blood': 1, 'sound': 1, 'evolve': 1, 'enter': 1, 'Def': 2, 'Jam': 2, 'Recordings': 2, 'partnership': 1, 'Simmons': 1, 'Geffen': 1, 'Warner': 1, 'Bros': 1, 'distributor': 1, 'refusal': 1, 'peaked': 1, 'certification': 1, 'Recording': 1, 'Industry': 1, 'America': 1, 'offset': 1, 'deliberately': 1, 'slowed': 1, 'tempo': 1, 'albums': 1, 'utilized': 1, 'undistorted': 1, 'guitars': 1, 'toned': 1, 'accustomed': 1, 'disappointed': 1, 'Mandatory': 1, 'Suicide': 1, 'setlist': 1})\n"
     ]
    }
   ],
   "source": [
    "# Initialize a Whitespace pre_tokenizer from the tokenizers library\n",
    "# Helps in separating text about white space and punctuations\n",
    "tokenizer = Whitespace()\n",
    "\n",
    "# Initialize a defaultdict to store word frequencies\n",
    "word_freqs = defaultdict(int)\n",
    "# this dictionary gets entries for word_freqs[word]\n",
    "\n",
    "# This will be needed later\n",
    "vocab_size:int = 200\n",
    "\n",
    "def count_word_freqs(corpus:list) -> dict:\n",
    "    # We loop through to corups to calculate word frequencies\n",
    "    # YOUR CODE HERE\n",
    "    #raise NotImplementedError()\n",
    "    for entry in corpus:\n",
    "        tokenzized_entry = tokenizer.pre_tokenize_str(entry)\n",
    "        for token in tokenzized_entry:\n",
    "            word = token[0]\n",
    "            if word in word_freqs.keys():\n",
    "                word_freqs[word] += 1\n",
    "            else: word_freqs[word] = 1\n",
    "    return word_freqs\n",
    "\n",
    "word_freqs = count_word_freqs(corpus)\n",
    "print(word_freqs)"
   ]
  },
  {
   "cell_type": "code",
   "execution_count": 46,
   "metadata": {
    "deletable": false,
    "editable": false,
    "nbgrader": {
     "cell_type": "code",
     "checksum": "d6d6ca12c49105b740d5823290df8c6f",
     "grade": true,
     "grade_id": "cell-a261f5385cdff84d",
     "locked": true,
     "points": 2,
     "schema_version": 3,
     "solution": false,
     "task": false
    },
    "tags": []
   },
   "outputs": [],
   "source": [
    "# Test - Don't modify\n",
    "assert len(word_freqs.keys()) == 6911\n",
    "assert sum(word_freqs.values()) == 40051\n"
   ]
  },
  {
   "cell_type": "markdown",
   "metadata": {
    "deletable": false,
    "editable": false,
    "nbgrader": {
     "cell_type": "markdown",
     "checksum": "1f9aa9338de3e9772f9f7af7797b05c5",
     "grade": false,
     "grade_id": "cell-9e92e0927f2f1080",
     "locked": true,
     "schema_version": 3,
     "solution": false,
     "task": false
    },
    "tags": []
   },
   "source": [
    "The following block creates the alphabet and initial vocabulary"
   ]
  },
  {
   "cell_type": "code",
   "execution_count": 96,
   "metadata": {
    "deletable": false,
    "editable": false,
    "nbgrader": {
     "cell_type": "code",
     "checksum": "3004a1e909e2bb2190196872569f9988",
     "grade": false,
     "grade_id": "cell-27444c649f61b834",
     "locked": true,
     "schema_version": 3,
     "solution": false,
     "task": false
    },
    "tags": []
   },
   "outputs": [],
   "source": [
    "def initialize(word_freqs:dict) -> Tuple[list, list, dict, dict]:\n",
    "    alphabet:list = []\n",
    "    vocab:list = [\"\"]\n",
    "    splits:dict = {}\n",
    "    merges:dict = {}\n",
    "    \n",
    "    for word in word_freqs.keys():\n",
    "        for letter in word:\n",
    "            if letter not in alphabet:\n",
    "                alphabet.append(letter)\n",
    "    alphabet.sort()\n",
    "\n",
    "    vocab = alphabet.copy()\n",
    "    splits = {word: [c for c in word] for word in word_freqs.keys()}\n",
    "\n",
    "    return alphabet, vocab, splits, {}\n",
    "\n",
    "alphabet, vocab, splits, merges = initialize(word_freqs)"
   ]
  },
  {
   "cell_type": "markdown",
   "metadata": {
    "deletable": false,
    "editable": false,
    "nbgrader": {
     "cell_type": "markdown",
     "checksum": "b9cb7452c1f1819d7d6d17fcac5665c2",
     "grade": false,
     "grade_id": "cell-bfeeaae21bb6d318",
     "locked": true,
     "schema_version": 3,
     "solution": false,
     "task": false
    },
    "tags": []
   },
   "source": [
    "**c)** Define a function to compute the frequency of each pair of characters ***(2P)***"
   ]
  },
  {
   "cell_type": "code",
   "execution_count": 55,
   "metadata": {
    "deletable": false,
    "nbgrader": {
     "cell_type": "code",
     "checksum": "7d43757610f78b7f54bc9876d1d87bf6",
     "grade": true,
     "grade_id": "cell-5e59098a15cbf372",
     "locked": false,
     "points": 0,
     "schema_version": 3,
     "solution": true,
     "task": false
    },
    "tags": []
   },
   "outputs": [
    {
     "name": "stdout",
     "output_type": "stream",
     "text": [
      "defaultdict(<class 'int'>, {'Va': 83, 'al': 1364, 'lk': 70, 'ky': 72, 'yr': 67, 'ri': 943, 'ia': 501, 'Ch': 116, 'hr': 182, 'ro': 896, 'on': 2001, 'ni': 478, 'ic': 749, 'cl': 202, 'le': 1062, 'es': 1705, 'II': 66, 'Se': 63, 'en': 1544, 'nj': 30, 'jō': 5, 'no': 332, 'Un': 49, 'nr': 12, 're': 2180, 'ec': 494, 'co': 800, 'or': 1763, 'rd': 288, 'de': 1133, 'ed': 1966, 'Ja': 99, 'ap': 237, 'pa': 300, 'an': 2590, 'ne': 804, 'se': 1100, '戦場': 4, '場の': 4, 'のヴ': 4, 'ヴァ': 4, 'ァル': 4, 'ルキ': 4, 'キュ': 4, 'ュリ': 4, 'リア': 4, 'ア3': 3, 'li': 682, 'it': 1405, 'of': 1233, 'th': 4177, 'he': 4042, 'Ba': 97, 'at': 1590, 'tt': 268, 'tl': 198, 'ef': 174, 'fi': 336, 'ie': 609, 'el': 647, 'ld': 341, 'om': 660, 'mm': 131, 'mo': 399, 'nl': 68, 'ly': 468, 'fe': 283, 'er': 2809, 'rr': 143, 'to': 1228, 'as': 1343, 'ou': 789, 'ut': 375, 'ts': 443, 'si': 607, 'id': 265, 'is': 1062, 'ta': 599, 'ac': 623, 'ct': 482, 'ti': 1610, 'ca': 482, 'ol': 398, '@-': 326, '-@': 326, 'pl': 358, 'la': 731, 'ay': 368, 'yi': 46, 'in': 3136, 'ng': 1331, 'vi': 303, 'eo': 80, 'ga': 297, 'am': 573, 'me': 1022, 'ev': 293, 've': 861, 'lo': 459, 'op': 236, 'pe': 492, 'by': 203, 'eg': 118, 'nd': 1651, 'Me': 34, 'di': 613, 'Vi': 14, 'io': 867, 'fo': 678, 'Pl': 23, 'yS': 9, 'St': 95, 'Po': 38, 'rt': 488, 'ab': 185, 'bl': 170, 'Re': 63, 'ea': 943, 'nu': 118, 'ua': 169, 'ar': 1432, 'ry': 307, '20': 132, '01': 75, '11': 41, 'hi': 832, 'ir': 464, 'Em': 6, 'mp': 245, 'oy': 62, 'sa': 189, 'fu': 84, 'us': 467, 'im': 348, 'ep': 244, 'pr': 449, 'ce': 604, 'ss': 425, 'so': 437, 'rs': 565, 'st': 1198, 'ru': 146, 'un': 525, 'ns': 631, 'ra': 882, 'll': 674, 'ow': 368, 'ws': 43, 'Na': 76, 'na': 568, 'mi': 307, 'il': 531, 'rv': 86, 'Ga': 58, 'du': 138, 'ur': 484, 'Eu': 5, 'Wa': 58, 'wh': 303, 'ho': 436, 'rf': 33, 'rm': 240, 'cr': 190, 'et': 466, 'ck': 361, 'pi': 160, 'te': 1611, 'ag': 212, 'ai': 414, 'Im': 9, 'Ca': 83, 'ma': 683, 'ty': 220, 'Ra': 53, 'av': 174, 'Th': 470, 'be': 557, 'pm': 23, 'nt': 1081, '10': 38, 'ov': 212, 'rg': 100, 'ge': 328, 'po': 402, 'wo': 285, 'rk': 192, 'do': 154, 'Wh': 41, 'da': 122, 'tu': 255, 'ls': 199, 'rw': 14, 'we': 537, 'mu': 140, 'ul': 375, 'lt': 167, 'ip': 172, 'ad': 464, 'dj': 4, 'ju': 39, 'tm': 15, 'su': 264, 'uc': 153, 'ch': 622, 'ak': 131, 'ki': 159, 'gi': 226, 'iv': 383, 'ew': 137, 'wc': 3, 'ha': 884, 'ig': 293, 'gn': 103, 'Ho': 75, 'jo': 45, 'os': 348, 'Hi': 42, 'sh': 418, 'Sa': 65, 'ot': 514, 'bo': 207, 'rn': 236, 'fr': 224, 'tr': 468, 'wi': 481, 'Ta': 34, 'ke': 317, 'Oz': 3, 'za': 18, 'aw': 75, 'wa': 665, 'wr': 42, 'dl': 24, 'sc': 143, 'pt': 256, 'em': 456, 'Ma': 150, 'It': 52, 'cs': 31, 'Af': 31, 'ft': 158, 'ei': 426, 'wn': 75, 'oa': 122, 'ex': 160, 'xp': 42, 'No': 42, 'mb': 200, 'ye': 185, 'Du': 34, 'ue': 237, 'oc': 247, 'iz': 64, 'ze': 59, 'bu': 229, 'fa': 133, 'sl': 38, 'ib': 82, '14': 18, 'nc': 454, 'Az': 5, 'zu': 7, 'vo': 55, 'lu': 215, 'As': 37, 'my': 60, 'rc': 131, 'ug': 175, 'gh': 242, 'oo': 208, 'ok': 76, 'ik': 54, 'sp': 205, 'oi': 96, 'ee': 315, 'ub': 79, 'bb': 8, 'nv': 50, 'xt': 65, 'og': 109, 'gr': 148, 'ps': 77, 'nn': 137, 'ey': 158, 'va': 145, 'pp': 156, 'ff': 188, 'Ou': 9, 'cu': 141, 'wt': 4, 'cc': 78, 'Al': 48, 'gs': 108, 'ci': 248, 'if': 206, 'sq': 10, 'qu': 122, 'dd': 73, 'od': 435, 'tw': 113, 'ba': 176, 'sy': 47, 'ys': 78, 'Bl': 90, 'iT': 2, 'TZ': 2, 'Ea': 22, 'Ac': 16, 'au': 90, 'Up': 4, 'gl': 68, 'HP': 1, 'kn': 35, 'ks': 74, 'sk': 83, 'iq': 7, 'Pe': 49, 'lp': 29, 'lw': 7, 'To': 63, 'cq': 14, 'ui': 167, 'nk': 62, 'Sp': 16, 'Ab': 9, 'bi': 110, 'Ku': 12, 'Di': 22, 'Co': 127, 'Fo': 36, 'mc': 3, 'vy': 15, 'Tr': 26, 'Sc': 22, 'Sh': 83, 'kt': 4, 'En': 18, 'La': 29, 'Ar': 100, 'So': 52, 'sw': 9, 'tc': 41, 'oe': 21, 'af': 108, 'Wi': 36, 'rl': 149, 'yp': 146, 'Sq': 5, '42': 11, '22': 12, 'ds': 301, 'um': 258, 'Or': 8, 'gu': 134, 'Mi': 42, 'up': 130, 'xe': 18, 'ah': 50, 'dy': 32, 'Ir': 2, 'ms': 88, 'lf': 33, 'Da': 28, 'ek': 36, '13': 30, 'Ri': 45, 'ji': 13, 'nx': 2, 'yo': 49, 'ht': 118, 'xi': 29, 'dv': 12, 'sf': 20, '2n': 5, 'On': 27, 'Gu': 8, 'At': 59, 'lv': 42, 'Cr': 27, 'dg': 39, 'xo': 2, 'Ge': 28, 'Pa': 32, 'aj': 30, 'np': 3, 'uf': 24, 'ny': 101, 'ym': 34, 'ax': 23, 'wf': 1, 'nf': 76, 'go': 375, 'De': 59, 'ox': 8, 'pu': 85, 'Li': 86, 'eq': 52, 'tf': 13, 'In': 145, 'Ka': 22, 'az': 17, 'uk': 14, 'Ya': 2, 'ob': 77, 'yu': 3, 'Fu': 7, 'uj': 7, 'ii': 8, 'Ko': 4, 'Ki': 44, 'ko': 10, 'iy': 6, 'ya': 33, 'ka': 96, 'BL': 1, 'ph': 125, 'pg': 2, 'yg': 5, 'rp': 41, 'fy': 9, 'CA': 3, 'AN': 1, 'NV': 1, 'VA': 1, 'AS': 1, 'Pr': 37, 'Mu': 31, 'oj': 6, 'je': 29, 'An': 45, 'ej': 8, 'He': 95, 'yn': 23, 'gm': 8, 'uh': 6, 'Oh': 1, 'If': 1, 'Yo': 14, '..': 10, 'もし': 1, 'しも': 1, 'も君': 1, '君が': 1, 'が願': 1, '願う': 1, 'うの': 1, 'のな': 1, 'なら': 1, 'Mo': 32, 'Ne': 57, 'eb': 74, 'bs': 58, 'Fa': 48, 'TG': 2, 'GS': 2, 'fl': 94, 'ux': 3, 'Fl': 34, '27': 7, 'DL': 3, 'LC': 3, 'Fe': 86, 'br': 125, 'Ap': 15, 'Ex': 11, 'Ed': 17, '23': 23, 'PS': 3, 'SP': 1, '12': 38, 'py': 7, 'xc': 21, 'By': 10, '02': 4, '@,': 52, ',@': 52, '77': 4, '79': 4, '15': 41, '52': 5, '50': 25, '00': 116, 'cy': 19, 'yc': 12, '4G': 1, 'ao': 24, 'oh': 46, 'uo': 4, 'Te': 22, 'SN': 2, 'Of': 10, 'zi': 11, 'UK': 3, 'yl': 18, 'sm': 77, 'dm': 24, 'wk': 9, 'kw': 2, 'ud': 74, 'AI': 1, 'Ry': 3, 'IG': 1, 'GN': 1, 'ku': 7, 'Ei': 2, 'nb': 8, 'hl': 17, 'gt': 22, 'Le': 37, 'Ni': 12, '3D': 1, 'DS': 1, 'Zo': 2, 'Ad': 10, 'Ti': 12, 'Jū': 1, 'ūs': 1, 'sō': 1, 'ア３': 1, '誰が': 1, 'がた': 1, 'ため': 1, 'めの': 1, 'の銃': 1, '銃瘡': 1, 'Wo': 40, 'Qr': 1, 'DV': 1, 'VD': 1, 'Ju': 22, '29': 12, 'Au': 33, '31': 7, 'Pi': 22, 'dō': 1, 'Ōn': 1, 'bt': 4, 'Ro': 90, 'eu': 25, 'eh': 39, 'Ak': 8, 'TO': 2, 'OM': 1, 'MO': 1, 'OS': 2, 'SH': 1, 'HI': 1, 'IB': 3, 'BI': 1, 'いつ': 1, 'つか': 1, 'か咲': 1, '咲く': 1, 'く光': 1, '光の': 1, 'の花': 2, 'Ha': 46, 'Bo': 33, 'Tw': 9, '名も': 1, 'もな': 1, 'なき': 1, 'き誓': 1, '誓い': 1, 'いの': 1, 'Oa': 3, 'nm': 13, 'Ik': 1, 'Ot': 10, '赤き': 1, 'き運': 1, '運命': 1, '命の': 1, 'の戦': 1, '戦乙': 1, '乙女': 1, 'Ts': 1, 'Bu': 54, 'cA': 9, 'hu': 109, '18': 92, '84': 7, '40': 18, 'Si': 23, '19': 220, '94': 30, '99': 40, '97': 14, 'dq': 3, 'Æs': 8, 'Cl': 19, '89': 13, 'Be': 40, 'hp': 3, 'Do': 21, 'US': 10, 'md': 5, 'Go': 43, 'nw': 13, 'Am': 41, 'wl': 29, 'Ok': 1, 'kl': 12, 'ix': 35, 'Jo': 34, 'hn': 29, 'ml': 5, '30': 16, '@.': 62, '.@': 62, '91': 35, 'Ci': 12, 'df': 4, '86': 50, '60': 7, 'zo': 23, '61': 10, '28': 8, 'lr': 8, 'Lo': 28, 'tp': 1, 'Sm': 5, 'bj': 14, '4t': 3, 'rh': 5, 'ln': 6, 'hd': 8, 'dr': 91, 'nq': 2, 'dn': 26, '24': 18, '47': 5, '25': 15, 'nz': 4, 'M1': 10, '82': 9, '69': 8, '62': 19, '53': 3, 'hb': 6, '35': 3, '57': 7, '85': 12, '55': 6, '58': 7, '90': 15, '81': 5, '17': 21, '41': 6, '54': 8, 'rb': 19, '26': 11, '67': 1, '64': 12, '96': 15, '36': 8, 'hy': 48, '5t': 2, '6t': 1, '7t': 2, '8t': 2, '16': 14, '9t': 2, '0t': 6, 'Ke': 5, '3r': 1, 'We': 25, '1s': 1, '1t': 1, '2t': 2, 'lm': 47, 'xh': 6, 'sb': 10, '63': 7, '75': 6, 'hs': 29, 'Fi': 28, 'Ru': 11, 'tg': 8, 'hm': 14, 'Lt': 4, 'Vo': 5, '49': 3, 'IV': 1, 'km': 12, 'Gr': 43, 'Su': 36, 'uz': 4, 'Is': 25, 'Fr': 23, 'Br': 32, '87': 7, '74': 2, '73': 5, '68': 5, '88': 25, '80': 14, 'hw': 15, '0s': 13, 'Oc': 7, '93': 22, 'Bi': 12, 'Pu': 6, 'Ve': 9, 'Ov': 2, '06': 8, 'Ce': 12, '70': 6, 'bc': 1, '95': 14, 'lh': 5, 'yd': 23, 'uv': 5, '92': 49, 'Hy': 5, 'mn': 13, 'Qu': 6, 'ae': 18, 'sn': 13, '98': 38, 'tn': 25, 'El': 8, 'Os': 14, '66': 1, '08': 9, 'Tu': 7, 'bm': 2, 'My': 4, 'Ow': 1, 'Id': 1, 'yt': 41, 'xq': 1, 'Gl': 3, 'mr': 2, 'Ug': 1, 'gg': 28, 'tb': 21, 'Av': 4, '83': 4, 'dh': 3, 'lg': 6, 'gy': 145, 'dw': 15, 'Ev': 4, 'ja': 7, 'Gi': 11, 'Ol': 9, 'Rh': 5, '38': 9, '43': 5, 'Je': 11, 'Mr': 1, 'Sw': 3, 'Kn': 4, '46': 4, '33': 8, 'Ll': 1, '34': 2, '48': 6, '21': 14, '32': 4, '37': 4, '44': 4, 'cm': 11, 'Nu': 8, '05': 3, '07': 5, 'Ep': 1, 'dt': 4, 'FI': 10, 'IF': 14, 'FA': 14, 'Cu': 60, 'ij': 3, 'SO': 2, 'Aw': 9, 'kg': 17, '09': 8, 'kr': 19, 'IU': 2, 'UC': 2, 'CN': 3, 'CS': 1, 'SI': 1, 'IR': 1, 'RO': 1, 'DN': 1, 'NA': 1, '45': 5, 'nh': 12, '39': 2, '03': 4, 'iu': 10, 'wb': 1, 'xu': 1, 'Hu': 18, 'iw': 2, '59': 2, 'NH': 38, 'HL': 46, 'fs': 18, 'Dr': 12, 'Oi': 3, 'ez': 47, '65': 9, 'Ph': 11, '51': 6, 'AH': 2, 'gf': 2, 'lc': 7, 'zz': 4, 'Kr': 2, 'hc': 6, 'Ré': 1, 'és': 1, 'fw': 1, 'Mc': 5, 'cC': 2, 'Sk': 2, 'oz': 1, 'Op': 2, 'pb': 1, 'cE': 2, '76': 3, 'pf': 1, 'kh': 19, 'hv': 1, 'CE': 1, 'NW': 1, 'PA': 1, 'GP': 2, 'Pt': 8, 'PI': 1, 'IM': 1, 'OI': 1, 'Ic': 2, 'OT': 1, 'GA': 2, 'Ag': 3, 'AA': 3, 'SA': 1, 'SV': 1, 'Sv': 1, 'NC': 1, 'jd': 2, 'bd': 1, '78': 3, 'XI': 6, 'Ob': 2, 'Ut': 2, '72': 3, 'BC': 11, 'Ig': 2, 'Mg': 2, 'Lu': 2, 'VI': 5, 'Ze': 2, 'AM': 1, 'PM': 1, 'Es': 2, '56': 3, 'Ur': 1, 'js': 1, 'pw': 1, 'gw': 2, 'lb': 19, 'gd': 28, 'yb': 4, 'CD': 1, 'yf': 2, 'wd': 2, 'Wy': 3, 'WY': 3, 'YO': 3, '71': 9, 'pk': 2, 'BN': 2, 'NS': 1, 'SF': 1, 'ND': 4, 'DO': 1, 'OR': 1, 'AD': 3, 'DT': 4, 'Sy': 8, 'HS': 1, 'SS': 1, 'sg': 3, 'bn': 1, 'zv': 1, 'yh': 2, 'Ty': 1, '04': 2, 'cB': 1, 'mf': 3, 'gb': 1, 'db': 2, 'wy': 1, 'Sr': 12, 'Gh': 2, 'yw': 7, 'Ye': 11, 'dp': 1, 'tz': 2, 'TV': 6, 'NN': 1, 'aa': 28, 'Aa': 3, 'Kh': 17, 'Dh': 6, 'Bh': 2, 'rj': 5, 'Om': 1, 'Jh': 2, 'bh': 4, 'Sn': 1, 'zl': 2, 'Ay': 1, 'sd': 4, 'Et': 1, 'PE': 2, 'ET': 2, 'TA': 2, 'kf': 3, 'NG': 1, 'GO': 1, 'HT': 1, 'TC': 1, 'BF': 1, 'FW': 1, 'Sl': 6, 'Ey': 2, 'FH': 1, 'HM': 1, 'IH': 7, 'gk': 2, 'BU': 4, 'kb': 1, 'Za': 2, 'Ul': 1, 'rq': 2, 'xa': 6, 'AT': 1, 'Jr': 1, 'SM': 8, 'MS': 8, 'Er': 20, 'rz': 38, 'zh': 19, 'Sz': 2, 'tv': 2, 'vá': 2, 'án': 2, 'ih': 2, 'kW': 1, 'Šk': 2, 'Eg': 130, 'nṯ': 6, 'ṯr': 6, 'mṯ': 1, 'Dy': 4, 'Jé': 1, 'éq': 1, 'mh': 1, 'sr': 4, 'Og': 1, 'Py': 1, 'vu': 1, 'ḏs': 1})\n",
      "969\n",
      "130300\n"
     ]
    }
   ],
   "source": [
    "def calc_pair_freqs(splits:dict) -> dict:\n",
    "    pair_freqs = defaultdict(int)\n",
    "    # to compute the frequency of each pair of characters\n",
    "    # YOUR CODE HERE\n",
    "    #raise NotImplementedError()\n",
    "\n",
    "\n",
    "    for word,split in splits.items():\n",
    "        number = word_freqs[word]\n",
    "        #segement that string into chunks of pairs\n",
    "        chunks = []\n",
    "\n",
    "        #for i in range(len(word)-1):\n",
    "            #for item in vocab:\n",
    "                #if word[i:i+len(item)+1] == item:\n",
    "                    #chunks.append(word[i:i+len(item)+1])\n",
    "                    #break\n",
    "                #else:\n",
    "                    #chunks.append(word[i:i+2])\n",
    "                    #break\n",
    "\n",
    "        for i in range(len(split)-1):\n",
    "            \n",
    "            chunks.append(''.join(split[i:i+2]))\n",
    "\n",
    "\n",
    "        #count the chunks, take into account that a word might occur multiple times\n",
    "        for pair in chunks:\n",
    "            if pair in pair_freqs.keys():\n",
    "                pair_freqs[pair] += 1 * number\n",
    "            else: pair_freqs[pair] = number\n",
    "\n",
    "            \n",
    "    return pair_freqs\n",
    "\n",
    "# Initialize pair_freqs by calling the calc_pair_freqs function\n",
    "pair_freqs = calc_pair_freqs(splits)\n",
    "print(pair_freqs)\n",
    "\n",
    "\n",
    "#TO DEBUG\n",
    "#print(len(pair_freqs.keys()))\n",
    "#print(sum(pair_freqs.values()))\n"
   ]
  },
  {
   "cell_type": "code",
   "execution_count": 49,
   "metadata": {
    "deletable": false,
    "editable": false,
    "nbgrader": {
     "cell_type": "code",
     "checksum": "faf8ca2d7c2a5e8097237afceb82aa88",
     "grade": true,
     "grade_id": "cell-a7b55d57116b9963",
     "locked": true,
     "points": 2,
     "schema_version": 3,
     "solution": false,
     "task": false
    },
    "tags": []
   },
   "outputs": [],
   "source": [
    "# Test - Don't modify\n",
    "assert len(pair_freqs.keys()) == 969\n",
    "assert sum(pair_freqs.values()) == 130300\n"
   ]
  },
  {
   "cell_type": "markdown",
   "metadata": {
    "deletable": false,
    "editable": false,
    "nbgrader": {
     "cell_type": "markdown",
     "checksum": "e60f0f1a8ff5a945b23c6ebf8668c1b7",
     "grade": false,
     "grade_id": "cell-c4088328174c2fe1",
     "locked": true,
     "schema_version": 3,
     "solution": false,
     "task": false
    },
    "tags": []
   },
   "source": [
    "Here we find the pair of characters that appears most frequently together"
   ]
  },
  {
   "cell_type": "code",
   "execution_count": 50,
   "metadata": {
    "deletable": false,
    "editable": false,
    "nbgrader": {
     "cell_type": "code",
     "checksum": "6ed4815cb33aa84cdb9bab59dadb876b",
     "grade": false,
     "grade_id": "cell-adf2fed7d428b17a",
     "locked": true,
     "schema_version": 3,
     "solution": false,
     "task": false
    },
    "tags": []
   },
   "outputs": [
    {
     "name": "stdout",
     "output_type": "stream",
     "text": [
      "Va: 83\n",
      "al: 1364\n",
      "lk: 70\n",
      "ky: 72\n",
      "yr: 67\n",
      "ri: 943\n",
      "th 4177\n"
     ]
    }
   ],
   "source": [
    "for i, key in enumerate(pair_freqs.keys()):\n",
    "    print(f\"{key}: {pair_freqs[key]}\")\n",
    "    if i >= 5:\n",
    "        break\n",
    "\n",
    "best_pair = \"\"\n",
    "max_freq = None\n",
    "\n",
    "for pair, freq in pair_freqs.items():\n",
    "    if max_freq is None or max_freq < freq:\n",
    "        best_pair = pair\n",
    "        max_freq = freq\n",
    "\n",
    "print(best_pair, max_freq)"
   ]
  },
  {
   "cell_type": "markdown",
   "metadata": {
    "deletable": false,
    "editable": false,
    "nbgrader": {
     "cell_type": "markdown",
     "checksum": "383d16a9825071bf516829a47502e3c6",
     "grade": false,
     "grade_id": "cell-ade896d5c4f80d74",
     "locked": true,
     "schema_version": 3,
     "solution": false,
     "task": false
    },
    "tags": []
   },
   "source": [
    "**d)** Define a function to merge the most frequent pair of characters ***(2P)***"
   ]
  },
  {
   "cell_type": "code",
   "execution_count": 58,
   "metadata": {
    "deletable": false,
    "nbgrader": {
     "cell_type": "code",
     "checksum": "da449f7057fd36305252f26c806ee585",
     "grade": true,
     "grade_id": "cell-f31bb69bdadebf4f",
     "locked": false,
     "points": 0,
     "schema_version": 3,
     "solution": true,
     "task": false
    },
    "tags": []
   },
   "outputs": [],
   "source": [
    "def combine_pair(a:str, b:str, splits:dict, word_freqs:dict) -> dict:\n",
    "    for word in word_freqs:\n",
    "        split = splits[word]\n",
    "        if len(split) == 1:\n",
    "            continue\n",
    "\n",
    "        # YOUR CODE HERE\n",
    "        #raise NotImplementedError()\n",
    "        if a+b in word:\n",
    "            for i in range(len(split)-1):\n",
    "                char = split[i]\n",
    "                if char == a and split[i+1] == b:\n",
    "                    split[i] = ''.join([a,b])\n",
    "                    del split[i+1]\n",
    "            \n",
    "            break\n",
    "\n",
    "    return splits\n"
   ]
  },
  {
   "cell_type": "code",
   "execution_count": 52,
   "metadata": {
    "deletable": false,
    "editable": false,
    "nbgrader": {
     "cell_type": "code",
     "checksum": "9137d6fa61b1ddaedf869c533962837f",
     "grade": true,
     "grade_id": "cell-6d34502f30668a98",
     "locked": true,
     "points": 2,
     "schema_version": 3,
     "solution": false,
     "task": false
    },
    "tags": []
   },
   "outputs": [
    {
     "name": "stdout",
     "output_type": "stream",
     "text": [
      "['V', 'a', 'l', 'k', 'yr', 'i', 'a']\n"
     ]
    }
   ],
   "source": [
    "# Test - Don't modify\n",
    "# Example and sanity check\n",
    "splits_example = combine_pair(\"y\", \"r\", splits, word_freqs)\n",
    "assert splits_example[\"Valkyria\"] == ['V', 'a', 'l', 'k', 'yr', 'i', 'a']\n"
   ]
  },
  {
   "cell_type": "markdown",
   "metadata": {
    "deletable": false,
    "editable": false,
    "nbgrader": {
     "cell_type": "markdown",
     "checksum": "c4cf864ff059854760b664be66f803ad",
     "grade": false,
     "grade_id": "cell-e2b2e4fa505d0504",
     "locked": true,
     "schema_version": 3,
     "solution": false,
     "task": false
    },
    "tags": []
   },
   "source": [
    "**e)** Create the vocabulary by computing the pair frequencies and merging them accordingly, until you have a vocabulary size of 200 like it is done in the lecture notes of lecture 9. ***(2P)***"
   ]
  },
  {
   "cell_type": "code",
   "execution_count": 110,
   "metadata": {
    "deletable": false,
    "nbgrader": {
     "cell_type": "code",
     "checksum": "262707cc90c79be05da711719ac11d0e",
     "grade": true,
     "grade_id": "cell-c0d21a5824af85c6",
     "locked": false,
     "points": 0,
     "schema_version": 3,
     "solution": true,
     "task": false
    },
    "tags": []
   },
   "outputs": [
    {
     "name": "stdout",
     "output_type": "stream",
     "text": [
      "145\n",
      "['!', '\"', '#', '$', '%', '&', \"'\", '(', ')', '+', ',', '-', '.', '/', '0', '1', '2', '3', '4', '5', '6', '7', '8', '9', ':', ';', '=', '@', 'A', 'B', 'C', 'D', 'E', 'F', 'G', 'H', 'I', 'J', 'K', 'L', 'M', 'N', 'O', 'P', 'Q', 'R', 'S', 'T', 'U', 'V', 'W', 'X', 'Y', 'Z', '[', ']', 'a', 'b', 'c', 'd', 'e', 'f', 'g', 'h', 'i', 'j', 'k', 'l', 'm', 'n', 'o', 'p', 'q', 'r', 's', 't', 'u', 'v', 'w', 'x', 'y', 'z', '~', '£', '°', '²', 'Æ', 'á', 'é', 'Ō', 'ō', 'Š', 'ū', 'ḏ', 'ṯ', '–', '—', '’', '“', '”', '†', '‡', '₤', '₹', 'い', 'う', 'か', 'が', 'き', 'く', 'し', 'た', 'つ', 'な', 'の', 'め', 'も', 'ら', 'ァ', 'ア', 'キ', 'ュ', 'リ', 'ル', 'ヴ', '乙', '光', '名', '君', '命', '咲', '場', '女', '戦', '灯', '瘡', '花', '誓', '誰', '赤', '運', '銃', '願', '３', '�']\n"
     ]
    }
   ],
   "source": [
    "# YOUR CODE HERE\n",
    "#raise NotImplementedError()\n",
    "\n",
    "def create_vocab(word_freqs, vocab_size):\n",
    "    #initilize the basic alphabet\n",
    "    vocab = []\n",
    "    alphabet, vocab, splits, merges = initialize(word_freqs)\n",
    "    best_pair = \"\"\n",
    "    max_freq = None\n",
    "\n",
    "    while len(vocab) < vocab_size:\n",
    "        #compute pair frequency\n",
    "        pair_freq_dict = calc_pair_freqs(splits)\n",
    "\n",
    "        #find the most frequent pair in the results, don't consider pairs that have been added to the vocabulary already \n",
    "        for pair, freq in pair_freq_dict.items():\n",
    "            if max_freq is None or max_freq < freq and pair not in vocab:\n",
    "                best_pair = pair\n",
    "                max_freq = freq\n",
    "\n",
    "        #combine the pair in the splits\n",
    "        splits = combine_pair(best_pair[0], best_pair[1], splits, word_freqs)\n",
    "\n",
    "        #add the pair to the vocabulary\n",
    "        vocab.append(best_pair)\n",
    "\n",
    "    return alphabet, vocab, splits, merges\n",
    "\n",
    "create_vocab(word_freqs, 200)\n",
    "print(len(vocab))\n",
    "print(vocab)\n",
    "    "
   ]
  },
  {
   "cell_type": "code",
   "execution_count": 103,
   "metadata": {
    "deletable": false,
    "editable": false,
    "nbgrader": {
     "cell_type": "code",
     "checksum": "91dc268b8038c992bb7fde446cbbdb01",
     "grade": true,
     "grade_id": "cell-3c432d2dedb4097a",
     "locked": true,
     "points": 2,
     "schema_version": 3,
     "solution": false,
     "task": false
    },
    "tags": []
   },
   "outputs": [
    {
     "ename": "AssertionError",
     "evalue": "",
     "output_type": "error",
     "traceback": [
      "\u001b[1;31m---------------------------------------------------------------------------\u001b[0m",
      "\u001b[1;31mAssertionError\u001b[0m                            Traceback (most recent call last)",
      "Cell \u001b[1;32mIn[103], line 2\u001b[0m\n\u001b[0;32m      1\u001b[0m \u001b[38;5;66;03m# Test - Don't modify\u001b[39;00m\n\u001b[1;32m----> 2\u001b[0m \u001b[38;5;28;01massert\u001b[39;00m \u001b[38;5;28mlen\u001b[39m(vocab) \u001b[38;5;241m==\u001b[39m \u001b[38;5;241m200\u001b[39m\n\u001b[0;32m      4\u001b[0m \u001b[38;5;28mprint\u001b[39m(vocab)\n",
      "\u001b[1;31mAssertionError\u001b[0m: "
     ]
    }
   ],
   "source": [
    "# Test - Don't modify\n",
    "assert len(vocab) == 200\n"
   ]
  },
  {
   "cell_type": "markdown",
   "metadata": {
    "deletable": false,
    "editable": false,
    "nbgrader": {
     "cell_type": "markdown",
     "checksum": "72d20fb34831b78881053f10a4a76c97",
     "grade": false,
     "grade_id": "cell-9a5f825524ad467b",
     "locked": true,
     "schema_version": 3,
     "solution": false,
     "task": false
    },
    "tags": []
   },
   "source": [
    "We provide the tokenize function to you"
   ]
  },
  {
   "cell_type": "code",
   "execution_count": 111,
   "metadata": {
    "deletable": false,
    "editable": false,
    "nbgrader": {
     "cell_type": "code",
     "checksum": "5e098b0b6d65e9a2db38a22bb7f9f495",
     "grade": false,
     "grade_id": "cell-ed28577a19c4f92f",
     "locked": true,
     "schema_version": 3,
     "solution": false,
     "task": false
    },
    "tags": []
   },
   "outputs": [
    {
     "data": {
      "text/plain": [
       "['D',\n",
       " 'a',\n",
       " 'r',\n",
       " 'm',\n",
       " 's',\n",
       " 't',\n",
       " 'a',\n",
       " 'd',\n",
       " 't',\n",
       " 'h',\n",
       " 'o',\n",
       " 'l',\n",
       " 'd',\n",
       " 's',\n",
       " 't',\n",
       " 'h',\n",
       " 'e',\n",
       " 'o',\n",
       " 'f',\n",
       " 'f',\n",
       " 'i',\n",
       " 'c',\n",
       " 'i',\n",
       " 'a',\n",
       " 'l',\n",
       " 't',\n",
       " 'i',\n",
       " 't',\n",
       " 'l',\n",
       " 'e',\n",
       " 'C',\n",
       " 'i',\n",
       " 't',\n",
       " 'y',\n",
       " 'o',\n",
       " 'f',\n",
       " 'S',\n",
       " 'c',\n",
       " 'i',\n",
       " 'e',\n",
       " 'n',\n",
       " 'c',\n",
       " 'e',\n",
       " '(',\n",
       " 'G',\n",
       " 'e',\n",
       " 'r',\n",
       " 'm',\n",
       " 'a',\n",
       " 'n',\n",
       " ':',\n",
       " 'W',\n",
       " 'i',\n",
       " 's',\n",
       " 's',\n",
       " 'e',\n",
       " 'n',\n",
       " 's',\n",
       " 'c',\n",
       " 'h',\n",
       " 'a',\n",
       " 'f',\n",
       " 't',\n",
       " 's',\n",
       " 's',\n",
       " 't',\n",
       " 'a',\n",
       " 'd',\n",
       " 't',\n",
       " ')',\n",
       " 'a',\n",
       " 's',\n",
       " 'i',\n",
       " 't',\n",
       " 'i',\n",
       " 's',\n",
       " 'a',\n",
       " 'm',\n",
       " 'a',\n",
       " 'j',\n",
       " 'o',\n",
       " 'r',\n",
       " 'c',\n",
       " 'e',\n",
       " 'n',\n",
       " 't',\n",
       " 'r',\n",
       " 'e',\n",
       " 'o',\n",
       " 'f',\n",
       " 's',\n",
       " 'c',\n",
       " 'i',\n",
       " 'e',\n",
       " 'n',\n",
       " 't',\n",
       " 'i',\n",
       " 'f',\n",
       " 'i',\n",
       " 'c',\n",
       " 'i',\n",
       " 'n',\n",
       " 's',\n",
       " 't',\n",
       " 'i',\n",
       " 't',\n",
       " 'u',\n",
       " 't',\n",
       " 'i',\n",
       " 'o',\n",
       " 'n',\n",
       " 's',\n",
       " ',',\n",
       " 'u',\n",
       " 'n',\n",
       " 'i',\n",
       " 'v',\n",
       " 'e',\n",
       " 'r',\n",
       " 's',\n",
       " 'i',\n",
       " 't',\n",
       " 'i',\n",
       " 'e',\n",
       " 's',\n",
       " ',',\n",
       " 'a',\n",
       " 'n',\n",
       " 'd',\n",
       " 'h',\n",
       " 'i',\n",
       " 'g',\n",
       " 'h',\n",
       " '-',\n",
       " 't',\n",
       " 'e',\n",
       " 'c',\n",
       " 'h',\n",
       " 'n',\n",
       " 'o',\n",
       " 'l',\n",
       " 'o',\n",
       " 'g',\n",
       " 'y',\n",
       " 'c',\n",
       " 'o',\n",
       " 'm',\n",
       " 'p',\n",
       " 'a',\n",
       " 'n',\n",
       " 'i',\n",
       " 'e',\n",
       " 's',\n",
       " '.']"
      ]
     },
     "execution_count": 111,
     "metadata": {},
     "output_type": "execute_result"
    }
   ],
   "source": [
    "def text_splitting(text:str, merges:dict, splits:dict) -> list:\n",
    "    tokens = tokenizer.pre_tokenize_str(text)\n",
    "    tokens_text = [word for word, _ in tokens]\n",
    "    splits = [[l for l in word] for word in tokens_text]\n",
    "    for pair, merge in merges.items():\n",
    "        for ind, split in enumerate(splits):\n",
    "            i = 0\n",
    "            while i < len(split) - 1:\n",
    "                if split[i] == pair[0] and split[i + 1] == pair[1]:\n",
    "                    split = split[:i] + [merge] + split[i + 2 :]\n",
    "                else:\n",
    "                    i += 1\n",
    "            splits[ind] = split\n",
    "\n",
    "    return sum(splits, [])\n",
    "\n",
    "alphabet, vocab, splits, merges = create_vocab(word_freqs, vocab_size)\n",
    "text_splitting(\"Darmstadt holds the official title City of Science (German: Wissenschaftsstadt) as it is a major centre of scientific institutions, universities, and high-technology companies.\", merges, splits)"
   ]
  },
  {
   "cell_type": "markdown",
   "metadata": {
    "deletable": false,
    "editable": false,
    "nbgrader": {
     "cell_type": "markdown",
     "checksum": "67ac905574c0929f2f908c55024b439f",
     "grade": false,
     "grade_id": "cell-d59f82a1fcd68494",
     "locked": true,
     "schema_version": 3,
     "solution": false,
     "task": false
    },
    "tags": []
   },
   "source": [
    "**f)** Now, repeat the byte pair encoding for vocab sizes of 1000 and 5000. What do you notice? ***(1P)***"
   ]
  },
  {
   "cell_type": "code",
   "execution_count": null,
   "metadata": {
    "deletable": false,
    "editable": false,
    "nbgrader": {
     "cell_type": "code",
     "checksum": "b4ed5fc2d426f91565357dc0e2423e00",
     "grade": false,
     "grade_id": "cell-8df4b75a33ad2def",
     "locked": true,
     "schema_version": 3,
     "solution": false,
     "task": false
    },
    "tags": []
   },
   "outputs": [],
   "source": [
    "alphabet, vocab, splits, merges = create_vocab(word_freqs, 1000)\n",
    "text_splitting(\"Darmstadt holds the official title City of Science (German: Wissenschaftsstadt) as it is a major centre of scientific institutions, universities, and high-technology companies.\", merges, splits)"
   ]
  },
  {
   "cell_type": "code",
   "execution_count": null,
   "metadata": {
    "deletable": false,
    "editable": false,
    "nbgrader": {
     "cell_type": "code",
     "checksum": "ae22f0fa328fe959e2d4f343bea26ad8",
     "grade": false,
     "grade_id": "cell-f600b70e7d84d027",
     "locked": true,
     "schema_version": 3,
     "solution": false,
     "task": false
    },
    "tags": []
   },
   "outputs": [],
   "source": [
    "alphabet, vocab, splits, merges = create_vocab(word_freqs, 5000)\n",
    "text_splitting(\"Darmstadt holds the official title City of Science (German: Wissenschaftsstadt) as it is a major centre of scientific institutions, universities, and high-technology companies.\", merges, splits)"
   ]
  },
  {
   "cell_type": "markdown",
   "metadata": {
    "deletable": false,
    "nbgrader": {
     "cell_type": "markdown",
     "checksum": "a576cf2a0c3d39def819c7fe974a8fac",
     "grade": true,
     "grade_id": "cell-659e803b4ca7bd4d",
     "locked": false,
     "points": 1,
     "schema_version": 3,
     "solution": true,
     "task": false
    },
    "tags": []
   },
   "source": [
    "YOUR ANSWER HERE"
   ]
  },
  {
   "cell_type": "markdown",
   "metadata": {
    "deletable": false,
    "editable": false,
    "nbgrader": {
     "cell_type": "markdown",
     "checksum": "49168ea45d6367fbdb9453d8367e01ec",
     "grade": false,
     "grade_id": "cell-684915d3de4d1aab",
     "locked": true,
     "schema_version": 3,
     "solution": false,
     "task": false
    },
    "tags": []
   },
   "source": [
    "**Submission:**\n",
    "\n",
    "Please upload your submission to Moodle before the next exercise session <font color=\"red\">(Jan 24, 23:59pm)</font>!\n",
    "\n",
    "Submission format: `homework 5.zip`\n",
    "\n",
    "Your submission should contain your filled out Jupyter notebook (naming schema: `homework 5.ipynb`) and any auxiliar files that are necessary to run your code (e.g., the datasets provided by us).\n",
    "\n",
    "Each submission must be handed in only once per group."
   ]
  }
 ],
 "metadata": {
  "kernelspec": {
   "display_name": "Python 3 (ipykernel)",
   "language": "python",
   "name": "python3"
  },
  "language_info": {
   "codemirror_mode": {
    "name": "ipython",
    "version": 3
   },
   "file_extension": ".py",
   "mimetype": "text/x-python",
   "name": "python",
   "nbconvert_exporter": "python",
   "pygments_lexer": "ipython3",
   "version": "3.10.13"
  },
  "vscode": {
   "interpreter": {
    "hash": "9dd41b0cab5a130a043f9245acb1f850e1d2ee1859e50283dacddd6f5f9d8999"
   }
  }
 },
 "nbformat": 4,
 "nbformat_minor": 4
}
